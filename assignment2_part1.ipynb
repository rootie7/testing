<!DOCTYPE html>
<html>
<head><meta charset="utf-8" />
<meta name="viewport" content="width=device-width, initial-scale=1.0">

<title>assignment2_part1</title><script src="https://cdnjs.cloudflare.com/ajax/libs/require.js/2.1.10/require.min.js"></script>




<style type="text/css">
    pre { line-height: 125%; }
td.linenos .normal { color: inherit; background-color: transparent; padding-left: 5px; padding-right: 5px; }
span.linenos { color: inherit; background-color: transparent; padding-left: 5px; padding-right: 5px; }
td.linenos .special { color: #000000; background-color: #ffffc0; padding-left: 5px; padding-right: 5px; }
span.linenos.special { color: #000000; background-color: #ffffc0; padding-left: 5px; padding-right: 5px; }
.highlight .hll { background-color: var(--jp-cell-editor-active-background) }
.highlight { background: var(--jp-cell-editor-background); color: var(--jp-mirror-editor-variable-color) }
.highlight .c { color: var(--jp-mirror-editor-comment-color); font-style: italic } /* Comment */
.highlight .err { color: var(--jp-mirror-editor-error-color) } /* Error */
.highlight .k { color: var(--jp-mirror-editor-keyword-color); font-weight: bold } /* Keyword */
.highlight .o { color: var(--jp-mirror-editor-operator-color); font-weight: bold } /* Operator */
.highlight .p { color: var(--jp-mirror-editor-punctuation-color) } /* Punctuation */
.highlight .ch { color: var(--jp-mirror-editor-comment-color); font-style: italic } /* Comment.Hashbang */
.highlight .cm { color: var(--jp-mirror-editor-comment-color); font-style: italic } /* Comment.Multiline */
.highlight .cp { color: var(--jp-mirror-editor-comment-color); font-style: italic } /* Comment.Preproc */
.highlight .cpf { color: var(--jp-mirror-editor-comment-color); font-style: italic } /* Comment.PreprocFile */
.highlight .c1 { color: var(--jp-mirror-editor-comment-color); font-style: italic } /* Comment.Single */
.highlight .cs { color: var(--jp-mirror-editor-comment-color); font-style: italic } /* Comment.Special */
.highlight .kc { color: var(--jp-mirror-editor-keyword-color); font-weight: bold } /* Keyword.Constant */
.highlight .kd { color: var(--jp-mirror-editor-keyword-color); font-weight: bold } /* Keyword.Declaration */
.highlight .kn { color: var(--jp-mirror-editor-keyword-color); font-weight: bold } /* Keyword.Namespace */
.highlight .kp { color: var(--jp-mirror-editor-keyword-color); font-weight: bold } /* Keyword.Pseudo */
.highlight .kr { color: var(--jp-mirror-editor-keyword-color); font-weight: bold } /* Keyword.Reserved */
.highlight .kt { color: var(--jp-mirror-editor-keyword-color); font-weight: bold } /* Keyword.Type */
.highlight .m { color: var(--jp-mirror-editor-number-color) } /* Literal.Number */
.highlight .s { color: var(--jp-mirror-editor-string-color) } /* Literal.String */
.highlight .ow { color: var(--jp-mirror-editor-operator-color); font-weight: bold } /* Operator.Word */
.highlight .w { color: var(--jp-mirror-editor-variable-color) } /* Text.Whitespace */
.highlight .mb { color: var(--jp-mirror-editor-number-color) } /* Literal.Number.Bin */
.highlight .mf { color: var(--jp-mirror-editor-number-color) } /* Literal.Number.Float */
.highlight .mh { color: var(--jp-mirror-editor-number-color) } /* Literal.Number.Hex */
.highlight .mi { color: var(--jp-mirror-editor-number-color) } /* Literal.Number.Integer */
.highlight .mo { color: var(--jp-mirror-editor-number-color) } /* Literal.Number.Oct */
.highlight .sa { color: var(--jp-mirror-editor-string-color) } /* Literal.String.Affix */
.highlight .sb { color: var(--jp-mirror-editor-string-color) } /* Literal.String.Backtick */
.highlight .sc { color: var(--jp-mirror-editor-string-color) } /* Literal.String.Char */
.highlight .dl { color: var(--jp-mirror-editor-string-color) } /* Literal.String.Delimiter */
.highlight .sd { color: var(--jp-mirror-editor-string-color) } /* Literal.String.Doc */
.highlight .s2 { color: var(--jp-mirror-editor-string-color) } /* Literal.String.Double */
.highlight .se { color: var(--jp-mirror-editor-string-color) } /* Literal.String.Escape */
.highlight .sh { color: var(--jp-mirror-editor-string-color) } /* Literal.String.Heredoc */
.highlight .si { color: var(--jp-mirror-editor-string-color) } /* Literal.String.Interpol */
.highlight .sx { color: var(--jp-mirror-editor-string-color) } /* Literal.String.Other */
.highlight .sr { color: var(--jp-mirror-editor-string-color) } /* Literal.String.Regex */
.highlight .s1 { color: var(--jp-mirror-editor-string-color) } /* Literal.String.Single */
.highlight .ss { color: var(--jp-mirror-editor-string-color) } /* Literal.String.Symbol */
.highlight .il { color: var(--jp-mirror-editor-number-color) } /* Literal.Number.Integer.Long */
  </style>
<style type="text/css">
    #ipython_notebook {
    height: 40px !important;
}

/* Format for custom error modal message */
.running-notebooks {
    padding-top: 2em;
}

  </style>



<style type="text/css">
/*-----------------------------------------------------------------------------
| Copyright (c) Jupyter Development Team.
| Distributed under the terms of the Modified BSD License.
|----------------------------------------------------------------------------*/

/*
 * Mozilla scrollbar styling
 */

/* use standard opaque scrollbars for most nodes */
[data-jp-theme-scrollbars='true'] {
  scrollbar-color: rgb(var(--jp-scrollbar-thumb-color))
    var(--jp-scrollbar-background-color);
}

/* for code nodes, use a transparent style of scrollbar. These selectors
 * will match lower in the tree, and so will override the above */
[data-jp-theme-scrollbars='true'] .CodeMirror-hscrollbar,
[data-jp-theme-scrollbars='true'] .CodeMirror-vscrollbar {
  scrollbar-color: rgba(var(--jp-scrollbar-thumb-color), 0.5) transparent;
}

/* tiny scrollbar */

.jp-scrollbar-tiny {
  scrollbar-color: rgba(var(--jp-scrollbar-thumb-color), 0.5) transparent;
  scrollbar-width: thin;
}

/*
 * Webkit scrollbar styling
 */

/* use standard opaque scrollbars for most nodes */

[data-jp-theme-scrollbars='true'] ::-webkit-scrollbar,
[data-jp-theme-scrollbars='true'] ::-webkit-scrollbar-corner {
  background: var(--jp-scrollbar-background-color);
}

[data-jp-theme-scrollbars='true'] ::-webkit-scrollbar-thumb {
  background: rgb(var(--jp-scrollbar-thumb-color));
  border: var(--jp-scrollbar-thumb-margin) solid transparent;
  background-clip: content-box;
  border-radius: var(--jp-scrollbar-thumb-radius);
}

[data-jp-theme-scrollbars='true'] ::-webkit-scrollbar-track:horizontal {
  border-left: var(--jp-scrollbar-endpad) solid
    var(--jp-scrollbar-background-color);
  border-right: var(--jp-scrollbar-endpad) solid
    var(--jp-scrollbar-background-color);
}

[data-jp-theme-scrollbars='true'] ::-webkit-scrollbar-track:vertical {
  border-top: var(--jp-scrollbar-endpad) solid
    var(--jp-scrollbar-background-color);
  border-bottom: var(--jp-scrollbar-endpad) solid
    var(--jp-scrollbar-background-color);
}

/* for code nodes, use a transparent style of scrollbar */

[data-jp-theme-scrollbars='true'] .CodeMirror-hscrollbar::-webkit-scrollbar,
[data-jp-theme-scrollbars='true'] .CodeMirror-vscrollbar::-webkit-scrollbar,
[data-jp-theme-scrollbars='true']
  .CodeMirror-hscrollbar::-webkit-scrollbar-corner,
[data-jp-theme-scrollbars='true']
  .CodeMirror-vscrollbar::-webkit-scrollbar-corner {
  background-color: transparent;
}

[data-jp-theme-scrollbars='true']
  .CodeMirror-hscrollbar::-webkit-scrollbar-thumb,
[data-jp-theme-scrollbars='true']
  .CodeMirror-vscrollbar::-webkit-scrollbar-thumb {
  background: rgba(var(--jp-scrollbar-thumb-color), 0.5);
  border: var(--jp-scrollbar-thumb-margin) solid transparent;
  background-clip: content-box;
  border-radius: var(--jp-scrollbar-thumb-radius);
}

[data-jp-theme-scrollbars='true']
  .CodeMirror-hscrollbar::-webkit-scrollbar-track:horizontal {
  border-left: var(--jp-scrollbar-endpad) solid transparent;
  border-right: var(--jp-scrollbar-endpad) solid transparent;
}

[data-jp-theme-scrollbars='true']
  .CodeMirror-vscrollbar::-webkit-scrollbar-track:vertical {
  border-top: var(--jp-scrollbar-endpad) solid transparent;
  border-bottom: var(--jp-scrollbar-endpad) solid transparent;
}

/* tiny scrollbar */

.jp-scrollbar-tiny::-webkit-scrollbar,
.jp-scrollbar-tiny::-webkit-scrollbar-corner {
  background-color: transparent;
  height: 4px;
  width: 4px;
}

.jp-scrollbar-tiny::-webkit-scrollbar-thumb {
  background: rgba(var(--jp-scrollbar-thumb-color), 0.5);
}

.jp-scrollbar-tiny::-webkit-scrollbar-track:horizontal {
  border-left: 0px solid transparent;
  border-right: 0px solid transparent;
}

.jp-scrollbar-tiny::-webkit-scrollbar-track:vertical {
  border-top: 0px solid transparent;
  border-bottom: 0px solid transparent;
}

/*
 * Phosphor
 */

.lm-ScrollBar[data-orientation='horizontal'] {
  min-height: 16px;
  max-height: 16px;
  min-width: 45px;
  border-top: 1px solid #a0a0a0;
}

.lm-ScrollBar[data-orientation='vertical'] {
  min-width: 16px;
  max-width: 16px;
  min-height: 45px;
  border-left: 1px solid #a0a0a0;
}

.lm-ScrollBar-button {
  background-color: #f0f0f0;
  background-position: center center;
  min-height: 15px;
  max-height: 15px;
  min-width: 15px;
  max-width: 15px;
}

.lm-ScrollBar-button:hover {
  background-color: #dadada;
}

.lm-ScrollBar-button.lm-mod-active {
  background-color: #cdcdcd;
}

.lm-ScrollBar-track {
  background: #f0f0f0;
}

.lm-ScrollBar-thumb {
  background: #cdcdcd;
}

.lm-ScrollBar-thumb:hover {
  background: #bababa;
}

.lm-ScrollBar-thumb.lm-mod-active {
  background: #a0a0a0;
}

.lm-ScrollBar[data-orientation='horizontal'] .lm-ScrollBar-thumb {
  height: 100%;
  min-width: 15px;
  border-left: 1px solid #a0a0a0;
  border-right: 1px solid #a0a0a0;
}

.lm-ScrollBar[data-orientation='vertical'] .lm-ScrollBar-thumb {
  width: 100%;
  min-height: 15px;
  border-top: 1px solid #a0a0a0;
  border-bottom: 1px solid #a0a0a0;
}

.lm-ScrollBar[data-orientation='horizontal']
  .lm-ScrollBar-button[data-action='decrement'] {
  background-image: var(--jp-icon-caret-left);
  background-size: 17px;
}

.lm-ScrollBar[data-orientation='horizontal']
  .lm-ScrollBar-button[data-action='increment'] {
  background-image: var(--jp-icon-caret-right);
  background-size: 17px;
}

.lm-ScrollBar[data-orientation='vertical']
  .lm-ScrollBar-button[data-action='decrement'] {
  background-image: var(--jp-icon-caret-up);
  background-size: 17px;
}

.lm-ScrollBar[data-orientation='vertical']
  .lm-ScrollBar-button[data-action='increment'] {
  background-image: var(--jp-icon-caret-down);
  background-size: 17px;
}

/*-----------------------------------------------------------------------------
| Copyright (c) Jupyter Development Team.
| Copyright (c) 2014-2017, PhosphorJS Contributors
|
| Distributed under the terms of the BSD 3-Clause License.
|
| The full license is in the file LICENSE, distributed with this software.
|----------------------------------------------------------------------------*/


/* <DEPRECATED> */ .p-Widget, /* </DEPRECATED> */
.lm-Widget {
  box-sizing: border-box;
  position: relative;
  overflow: hidden;
  cursor: default;
}


/* <DEPRECATED> */ .p-Widget.p-mod-hidden, /* </DEPRECATED> */
.lm-Widget.lm-mod-hidden {
  display: none !important;
}

/*-----------------------------------------------------------------------------
| Copyright (c) Jupyter Development Team.
| Copyright (c) 2014-2017, PhosphorJS Contributors
|
| Distributed under the terms of the BSD 3-Clause License.
|
| The full license is in the file LICENSE, distributed with this software.
|----------------------------------------------------------------------------*/


/* <DEPRECATED> */ .p-CommandPalette, /* </DEPRECATED> */
.lm-CommandPalette {
  display: flex;
  flex-direction: column;
  -webkit-user-select: none;
  -moz-user-select: none;
  -ms-user-select: none;
  user-select: none;
}


/* <DEPRECATED> */ .p-CommandPalette-search, /* </DEPRECATED> */
.lm-CommandPalette-search {
  flex: 0 0 auto;
}


/* <DEPRECATED> */ .p-CommandPalette-content, /* </DEPRECATED> */
.lm-CommandPalette-content {
  flex: 1 1 auto;
  margin: 0;
  padding: 0;
  min-height: 0;
  overflow: auto;
  list-style-type: none;
}


/* <DEPRECATED> */ .p-CommandPalette-header, /* </DEPRECATED> */
.lm-CommandPalette-header {
  overflow: hidden;
  white-space: nowrap;
  text-overflow: ellipsis;
}


/* <DEPRECATED> */ .p-CommandPalette-item, /* </DEPRECATED> */
.lm-CommandPalette-item {
  display: flex;
  flex-direction: row;
}


/* <DEPRECATED> */ .p-CommandPalette-itemIcon, /* </DEPRECATED> */
.lm-CommandPalette-itemIcon {
  flex: 0 0 auto;
}


/* <DEPRECATED> */ .p-CommandPalette-itemContent, /* </DEPRECATED> */
.lm-CommandPalette-itemContent {
  flex: 1 1 auto;
  overflow: hidden;
}


/* <DEPRECATED> */ .p-CommandPalette-itemShortcut, /* </DEPRECATED> */
.lm-CommandPalette-itemShortcut {
  flex: 0 0 auto;
}


/* <DEPRECATED> */ .p-CommandPalette-itemLabel, /* </DEPRECATED> */
.lm-CommandPalette-itemLabel {
  overflow: hidden;
  white-space: nowrap;
  text-overflow: ellipsis;
}

.lm-close-icon {
	border:1px solid transparent;
  background-color: transparent;
  position: absolute;
	z-index:1;
	right:3%;
	top: 0;
	bottom: 0;
	margin: auto;
	padding: 7px 0;
	display: none;
	vertical-align: middle;
  outline: 0;
  cursor: pointer;
}
.lm-close-icon:after {
	content: "X";
	display: block;
	width: 15px;
	height: 15px;
	text-align: center;
	color:#000;
	font-weight: normal;
	font-size: 12px;
	cursor: pointer;
}

/*-----------------------------------------------------------------------------
| Copyright (c) Jupyter Development Team.
| Copyright (c) 2014-2017, PhosphorJS Contributors
|
| Distributed under the terms of the BSD 3-Clause License.
|
| The full license is in the file LICENSE, distributed with this software.
|----------------------------------------------------------------------------*/


/* <DEPRECATED> */ .p-DockPanel, /* </DEPRECATED> */
.lm-DockPanel {
  z-index: 0;
}


/* <DEPRECATED> */ .p-DockPanel-widget, /* </DEPRECATED> */
.lm-DockPanel-widget {
  z-index: 0;
}


/* <DEPRECATED> */ .p-DockPanel-tabBar, /* </DEPRECATED> */
.lm-DockPanel-tabBar {
  z-index: 1;
}


/* <DEPRECATED> */ .p-DockPanel-handle, /* </DEPRECATED> */
.lm-DockPanel-handle {
  z-index: 2;
}


/* <DEPRECATED> */ .p-DockPanel-handle.p-mod-hidden, /* </DEPRECATED> */
.lm-DockPanel-handle.lm-mod-hidden {
  display: none !important;
}


/* <DEPRECATED> */ .p-DockPanel-handle:after, /* </DEPRECATED> */
.lm-DockPanel-handle:after {
  position: absolute;
  top: 0;
  left: 0;
  width: 100%;
  height: 100%;
  content: '';
}


/* <DEPRECATED> */
.p-DockPanel-handle[data-orientation='horizontal'],
/* </DEPRECATED> */
.lm-DockPanel-handle[data-orientation='horizontal'] {
  cursor: ew-resize;
}


/* <DEPRECATED> */
.p-DockPanel-handle[data-orientation='vertical'],
/* </DEPRECATED> */
.lm-DockPanel-handle[data-orientation='vertical'] {
  cursor: ns-resize;
}


/* <DEPRECATED> */
.p-DockPanel-handle[data-orientation='horizontal']:after,
/* </DEPRECATED> */
.lm-DockPanel-handle[data-orientation='horizontal']:after {
  left: 50%;
  min-width: 8px;
  transform: translateX(-50%);
}


/* <DEPRECATED> */
.p-DockPanel-handle[data-orientation='vertical']:after,
/* </DEPRECATED> */
.lm-DockPanel-handle[data-orientation='vertical']:after {
  top: 50%;
  min-height: 8px;
  transform: translateY(-50%);
}


/* <DEPRECATED> */ .p-DockPanel-overlay, /* </DEPRECATED> */
.lm-DockPanel-overlay {
  z-index: 3;
  box-sizing: border-box;
  pointer-events: none;
}


/* <DEPRECATED> */ .p-DockPanel-overlay.p-mod-hidden, /* </DEPRECATED> */
.lm-DockPanel-overlay.lm-mod-hidden {
  display: none !important;
}

/*-----------------------------------------------------------------------------
| Copyright (c) Jupyter Development Team.
| Copyright (c) 2014-2017, PhosphorJS Contributors
|
| Distributed under the terms of the BSD 3-Clause License.
|
| The full license is in the file LICENSE, distributed with this software.
|----------------------------------------------------------------------------*/


/* <DEPRECATED> */ .p-Menu, /* </DEPRECATED> */
.lm-Menu {
  z-index: 10000;
  position: absolute;
  white-space: nowrap;
  overflow-x: hidden;
  overflow-y: auto;
  outline: none;
  -webkit-user-select: none;
  -moz-user-select: none;
  -ms-user-select: none;
  user-select: none;
}


/* <DEPRECATED> */ .p-Menu-content, /* </DEPRECATED> */
.lm-Menu-content {
  margin: 0;
  padding: 0;
  display: table;
  list-style-type: none;
}


/* <DEPRECATED> */ .p-Menu-item, /* </DEPRECATED> */
.lm-Menu-item {
  display: table-row;
}


/* <DEPRECATED> */
.p-Menu-item.p-mod-hidden,
.p-Menu-item.p-mod-collapsed,
/* </DEPRECATED> */
.lm-Menu-item.lm-mod-hidden,
.lm-Menu-item.lm-mod-collapsed {
  display: none !important;
}


/* <DEPRECATED> */
.p-Menu-itemIcon,
.p-Menu-itemSubmenuIcon,
/* </DEPRECATED> */
.lm-Menu-itemIcon,
.lm-Menu-itemSubmenuIcon {
  display: table-cell;
  text-align: center;
}


/* <DEPRECATED> */ .p-Menu-itemLabel, /* </DEPRECATED> */
.lm-Menu-itemLabel {
  display: table-cell;
  text-align: left;
}


/* <DEPRECATED> */ .p-Menu-itemShortcut, /* </DEPRECATED> */
.lm-Menu-itemShortcut {
  display: table-cell;
  text-align: right;
}

/*-----------------------------------------------------------------------------
| Copyright (c) Jupyter Development Team.
| Copyright (c) 2014-2017, PhosphorJS Contributors
|
| Distributed under the terms of the BSD 3-Clause License.
|
| The full license is in the file LICENSE, distributed with this software.
|----------------------------------------------------------------------------*/


/* <DEPRECATED> */ .p-MenuBar, /* </DEPRECATED> */
.lm-MenuBar {
  outline: none;
  -webkit-user-select: none;
  -moz-user-select: none;
  -ms-user-select: none;
  user-select: none;
}


/* <DEPRECATED> */ .p-MenuBar-content, /* </DEPRECATED> */
.lm-MenuBar-content {
  margin: 0;
  padding: 0;
  display: flex;
  flex-direction: row;
  list-style-type: none;
}


/* <DEPRECATED> */ .p--MenuBar-item, /* </DEPRECATED> */
.lm-MenuBar-item {
  box-sizing: border-box;
}


/* <DEPRECATED> */
.p-MenuBar-itemIcon,
.p-MenuBar-itemLabel,
/* </DEPRECATED> */
.lm-MenuBar-itemIcon,
.lm-MenuBar-itemLabel {
  display: inline-block;
}

/*-----------------------------------------------------------------------------
| Copyright (c) Jupyter Development Team.
| Copyright (c) 2014-2017, PhosphorJS Contributors
|
| Distributed under the terms of the BSD 3-Clause License.
|
| The full license is in the file LICENSE, distributed with this software.
|----------------------------------------------------------------------------*/


/* <DEPRECATED> */ .p-ScrollBar, /* </DEPRECATED> */
.lm-ScrollBar {
  display: flex;
  -webkit-user-select: none;
  -moz-user-select: none;
  -ms-user-select: none;
  user-select: none;
}


/* <DEPRECATED> */
.p-ScrollBar[data-orientation='horizontal'],
/* </DEPRECATED> */
.lm-ScrollBar[data-orientation='horizontal'] {
  flex-direction: row;
}


/* <DEPRECATED> */
.p-ScrollBar[data-orientation='vertical'],
/* </DEPRECATED> */
.lm-ScrollBar[data-orientation='vertical'] {
  flex-direction: column;
}


/* <DEPRECATED> */ .p-ScrollBar-button, /* </DEPRECATED> */
.lm-ScrollBar-button {
  box-sizing: border-box;
  flex: 0 0 auto;
}


/* <DEPRECATED> */ .p-ScrollBar-track, /* </DEPRECATED> */
.lm-ScrollBar-track {
  box-sizing: border-box;
  position: relative;
  overflow: hidden;
  flex: 1 1 auto;
}


/* <DEPRECATED> */ .p-ScrollBar-thumb, /* </DEPRECATED> */
.lm-ScrollBar-thumb {
  box-sizing: border-box;
  position: absolute;
}

/*-----------------------------------------------------------------------------
| Copyright (c) Jupyter Development Team.
| Copyright (c) 2014-2017, PhosphorJS Contributors
|
| Distributed under the terms of the BSD 3-Clause License.
|
| The full license is in the file LICENSE, distributed with this software.
|----------------------------------------------------------------------------*/


/* <DEPRECATED> */ .p-SplitPanel-child, /* </DEPRECATED> */
.lm-SplitPanel-child {
  z-index: 0;
}


/* <DEPRECATED> */ .p-SplitPanel-handle, /* </DEPRECATED> */
.lm-SplitPanel-handle {
  z-index: 1;
}


/* <DEPRECATED> */ .p-SplitPanel-handle.p-mod-hidden, /* </DEPRECATED> */
.lm-SplitPanel-handle.lm-mod-hidden {
  display: none !important;
}


/* <DEPRECATED> */ .p-SplitPanel-handle:after, /* </DEPRECATED> */
.lm-SplitPanel-handle:after {
  position: absolute;
  top: 0;
  left: 0;
  width: 100%;
  height: 100%;
  content: '';
}


/* <DEPRECATED> */
.p-SplitPanel[data-orientation='horizontal'] > .p-SplitPanel-handle,
/* </DEPRECATED> */
.lm-SplitPanel[data-orientation='horizontal'] > .lm-SplitPanel-handle {
  cursor: ew-resize;
}


/* <DEPRECATED> */
.p-SplitPanel[data-orientation='vertical'] > .p-SplitPanel-handle,
/* </DEPRECATED> */
.lm-SplitPanel[data-orientation='vertical'] > .lm-SplitPanel-handle {
  cursor: ns-resize;
}


/* <DEPRECATED> */
.p-SplitPanel[data-orientation='horizontal'] > .p-SplitPanel-handle:after,
/* </DEPRECATED> */
.lm-SplitPanel[data-orientation='horizontal'] > .lm-SplitPanel-handle:after {
  left: 50%;
  min-width: 8px;
  transform: translateX(-50%);
}


/* <DEPRECATED> */
.p-SplitPanel[data-orientation='vertical'] > .p-SplitPanel-handle:after,
/* </DEPRECATED> */
.lm-SplitPanel[data-orientation='vertical'] > .lm-SplitPanel-handle:after {
  top: 50%;
  min-height: 8px;
  transform: translateY(-50%);
}

/*-----------------------------------------------------------------------------
| Copyright (c) Jupyter Development Team.
| Copyright (c) 2014-2017, PhosphorJS Contributors
|
| Distributed under the terms of the BSD 3-Clause License.
|
| The full license is in the file LICENSE, distributed with this software.
|----------------------------------------------------------------------------*/


/* <DEPRECATED> */ .p-TabBar, /* </DEPRECATED> */
.lm-TabBar {
  display: flex;
  -webkit-user-select: none;
  -moz-user-select: none;
  -ms-user-select: none;
  user-select: none;
}


/* <DEPRECATED> */ .p-TabBar[data-orientation='horizontal'], /* </DEPRECATED> */
.lm-TabBar[data-orientation='horizontal'] {
  flex-direction: row;
}


/* <DEPRECATED> */ .p-TabBar[data-orientation='vertical'], /* </DEPRECATED> */
.lm-TabBar[data-orientation='vertical'] {
  flex-direction: column;
}


/* <DEPRECATED> */ .p-TabBar-content, /* </DEPRECATED> */
.lm-TabBar-content {
  margin: 0;
  padding: 0;
  display: flex;
  flex: 1 1 auto;
  list-style-type: none;
}


/* <DEPRECATED> */
.p-TabBar[data-orientation='horizontal'] > .p-TabBar-content,
/* </DEPRECATED> */
.lm-TabBar[data-orientation='horizontal'] > .lm-TabBar-content {
  flex-direction: row;
}


/* <DEPRECATED> */
.p-TabBar[data-orientation='vertical'] > .p-TabBar-content,
/* </DEPRECATED> */
.lm-TabBar[data-orientation='vertical'] > .lm-TabBar-content {
  flex-direction: column;
}


/* <DEPRECATED> */ .p-TabBar-tab, /* </DEPRECATED> */
.lm-TabBar-tab {
  display: flex;
  flex-direction: row;
  box-sizing: border-box;
  overflow: hidden;
}


/* <DEPRECATED> */
.p-TabBar-tabIcon,
.p-TabBar-tabCloseIcon,
/* </DEPRECATED> */
.lm-TabBar-tabIcon,
.lm-TabBar-tabCloseIcon {
  flex: 0 0 auto;
}


/* <DEPRECATED> */ .p-TabBar-tabLabel, /* </DEPRECATED> */
.lm-TabBar-tabLabel {
  flex: 1 1 auto;
  overflow: hidden;
  white-space: nowrap;
}


.lm-TabBar-tabInput {
  user-select: all;
  width: 100%;
  box-sizing : border-box;
}


/* <DEPRECATED> */ .p-TabBar-tab.p-mod-hidden, /* </DEPRECATED> */
.lm-TabBar-tab.lm-mod-hidden {
  display: none !important;
}


/* <DEPRECATED> */ .p-TabBar.p-mod-dragging .p-TabBar-tab, /* </DEPRECATED> */
.lm-TabBar.lm-mod-dragging .lm-TabBar-tab {
  position: relative;
}


/* <DEPRECATED> */
.p-TabBar.p-mod-dragging[data-orientation='horizontal'] .p-TabBar-tab,
/* </DEPRECATED> */
.lm-TabBar.lm-mod-dragging[data-orientation='horizontal'] .lm-TabBar-tab {
  left: 0;
  transition: left 150ms ease;
}


/* <DEPRECATED> */
.p-TabBar.p-mod-dragging[data-orientation='vertical'] .p-TabBar-tab,
/* </DEPRECATED> */
.lm-TabBar.lm-mod-dragging[data-orientation='vertical'] .lm-TabBar-tab {
  top: 0;
  transition: top 150ms ease;
}


/* <DEPRECATED> */
.p-TabBar.p-mod-dragging .p-TabBar-tab.p-mod-dragging,
/* </DEPRECATED> */
.lm-TabBar.lm-mod-dragging .lm-TabBar-tab.lm-mod-dragging {
  transition: none;
}

/*-----------------------------------------------------------------------------
| Copyright (c) Jupyter Development Team.
| Copyright (c) 2014-2017, PhosphorJS Contributors
|
| Distributed under the terms of the BSD 3-Clause License.
|
| The full license is in the file LICENSE, distributed with this software.
|----------------------------------------------------------------------------*/


/* <DEPRECATED> */ .p-TabPanel-tabBar, /* </DEPRECATED> */
.lm-TabPanel-tabBar {
  z-index: 1;
}


/* <DEPRECATED> */ .p-TabPanel-stackedPanel, /* </DEPRECATED> */
.lm-TabPanel-stackedPanel {
  z-index: 0;
}

/*-----------------------------------------------------------------------------
| Copyright (c) Jupyter Development Team.
| Copyright (c) 2014-2017, PhosphorJS Contributors
|
| Distributed under the terms of the BSD 3-Clause License.
|
| The full license is in the file LICENSE, distributed with this software.
|----------------------------------------------------------------------------*/

@charset "UTF-8";
html{
  -webkit-box-sizing:border-box;
          box-sizing:border-box; }

*,
*::before,
*::after{
  -webkit-box-sizing:inherit;
          box-sizing:inherit; }

body{
  font-size:14px;
  font-weight:400;
  letter-spacing:0;
  line-height:1.28581;
  text-transform:none;
  color:#182026;
  font-family:-apple-system, "BlinkMacSystemFont", "Segoe UI", "Roboto", "Oxygen", "Ubuntu", "Cantarell", "Open Sans", "Helvetica Neue", "Icons16", sans-serif; }

p{
  margin-bottom:10px;
  margin-top:0; }

small{
  font-size:12px; }

strong{
  font-weight:600; }

::-moz-selection{
  background:rgba(125, 188, 255, 0.6); }

::selection{
  background:rgba(125, 188, 255, 0.6); }
.bp3-heading{
  color:#182026;
  font-weight:600;
  margin:0 0 10px;
  padding:0; }
  .bp3-dark .bp3-heading{
    color:#f5f8fa; }

h1.bp3-heading, .bp3-running-text h1{
  font-size:36px;
  line-height:40px; }

h2.bp3-heading, .bp3-running-text h2{
  font-size:28px;
  line-height:32px; }

h3.bp3-heading, .bp3-running-text h3{
  font-size:22px;
  line-height:25px; }

h4.bp3-heading, .bp3-running-text h4{
  font-size:18px;
  line-height:21px; }

h5.bp3-heading, .bp3-running-text h5{
  font-size:16px;
  line-height:19px; }

h6.bp3-heading, .bp3-running-text h6{
  font-size:14px;
  line-height:16px; }
.bp3-ui-text{
  font-size:14px;
  font-weight:400;
  letter-spacing:0;
  line-height:1.28581;
  text-transform:none; }

.bp3-monospace-text{
  font-family:monospace;
  text-transform:none; }

.bp3-text-muted{
  color:#5c7080; }
  .bp3-dark .bp3-text-muted{
    color:#a7b6c2; }

.bp3-text-disabled{
  color:rgba(92, 112, 128, 0.6); }
  .bp3-dark .bp3-text-disabled{
    color:rgba(167, 182, 194, 0.6); }

.bp3-text-overflow-ellipsis{
  overflow:hidden;
  text-overflow:ellipsis;
  white-space:nowrap;
  word-wrap:normal; }
.bp3-running-text{
  font-size:14px;
  line-height:1.5; }
  .bp3-running-text h1{
    color:#182026;
    font-weight:600;
    margin-bottom:20px;
    margin-top:40px; }
    .bp3-dark .bp3-running-text h1{
      color:#f5f8fa; }
  .bp3-running-text h2{
    color:#182026;
    font-weight:600;
    margin-bottom:20px;
    margin-top:40px; }
    .bp3-dark .bp3-running-text h2{
      color:#f5f8fa; }
  .bp3-running-text h3{
    color:#182026;
    font-weight:600;
    margin-bottom:20px;
    margin-top:40px; }
    .bp3-dark .bp3-running-text h3{
      color:#f5f8fa; }
  .bp3-running-text h4{
    color:#182026;
    font-weight:600;
    margin-bottom:20px;
    margin-top:40px; }
    .bp3-dark .bp3-running-text h4{
      color:#f5f8fa; }
  .bp3-running-text h5{
    color:#182026;
    font-weight:600;
    margin-bottom:20px;
    margin-top:40px; }
    .bp3-dark .bp3-running-text h5{
      color:#f5f8fa; }
  .bp3-running-text h6{
    color:#182026;
    font-weight:600;
    margin-bottom:20px;
    margin-top:40px; }
    .bp3-dark .bp3-running-text h6{
      color:#f5f8fa; }
  .bp3-running-text hr{
    border:none;
    border-bottom:1px solid rgba(16, 22, 26, 0.15);
    margin:20px 0; }
    .bp3-dark .bp3-running-text hr{
      border-color:rgba(255, 255, 255, 0.15); }
  .bp3-running-text p{
    margin:0 0 10px;
    padding:0; }

.bp3-text-large{
  font-size:16px; }

.bp3-text-small{
  font-size:12px; }
a{
  color:#106ba3;
  text-decoration:none; }
  a:hover{
    color:#106ba3;
    cursor:pointer;
    text-decoration:underline; }
  a .bp3-icon, a .bp3-icon-standard, a .bp3-icon-large{
    color:inherit; }
  a code,
  .bp3-dark a code{
    color:inherit; }
  .bp3-dark a,
  .bp3-dark a:hover{
    color:#48aff0; }
    .bp3-dark a .bp3-icon, .bp3-dark a .bp3-icon-standard, .bp3-dark a .bp3-icon-large,
    .bp3-dark a:hover .bp3-icon,
    .bp3-dark a:hover .bp3-icon-standard,
    .bp3-dark a:hover .bp3-icon-large{
      color:inherit; }
.bp3-running-text code, .bp3-code{
  font-family:monospace;
  text-transform:none;
  background:rgba(255, 255, 255, 0.7);
  border-radius:3px;
  -webkit-box-shadow:inset 0 0 0 1px rgba(16, 22, 26, 0.2);
          box-shadow:inset 0 0 0 1px rgba(16, 22, 26, 0.2);
  color:#5c7080;
  font-size:smaller;
  padding:2px 5px; }
  .bp3-dark .bp3-running-text code, .bp3-running-text .bp3-dark code, .bp3-dark .bp3-code{
    background:rgba(16, 22, 26, 0.3);
    -webkit-box-shadow:inset 0 0 0 1px rgba(16, 22, 26, 0.4);
            box-shadow:inset 0 0 0 1px rgba(16, 22, 26, 0.4);
    color:#a7b6c2; }
  .bp3-running-text a > code, a > .bp3-code{
    color:#137cbd; }
    .bp3-dark .bp3-running-text a > code, .bp3-running-text .bp3-dark a > code, .bp3-dark a > .bp3-code{
      color:inherit; }

.bp3-running-text pre, .bp3-code-block{
  font-family:monospace;
  text-transform:none;
  background:rgba(255, 255, 255, 0.7);
  border-radius:3px;
  -webkit-box-shadow:inset 0 0 0 1px rgba(16, 22, 26, 0.15);
          box-shadow:inset 0 0 0 1px rgba(16, 22, 26, 0.15);
  color:#182026;
  display:block;
  font-size:13px;
  line-height:1.4;
  margin:10px 0;
  padding:13px 15px 12px;
  word-break:break-all;
  word-wrap:break-word; }
  .bp3-dark .bp3-running-text pre, .bp3-running-text .bp3-dark pre, .bp3-dark .bp3-code-block{
    background:rgba(16, 22, 26, 0.3);
    -webkit-box-shadow:inset 0 0 0 1px rgba(16, 22, 26, 0.4);
            box-shadow:inset 0 0 0 1px rgba(16, 22, 26, 0.4);
    color:#f5f8fa; }
  .bp3-running-text pre > code, .bp3-code-block > code{
    background:none;
    -webkit-box-shadow:none;
            box-shadow:none;
    color:inherit;
    font-size:inherit;
    padding:0; }

.bp3-running-text kbd, .bp3-key{
  -webkit-box-align:center;
      -ms-flex-align:center;
          align-items:center;
  background:#ffffff;
  border-radius:3px;
  -webkit-box-shadow:0 0 0 1px rgba(16, 22, 26, 0.1), 0 0 0 rgba(16, 22, 26, 0), 0 1px 1px rgba(16, 22, 26, 0.2);
          box-shadow:0 0 0 1px rgba(16, 22, 26, 0.1), 0 0 0 rgba(16, 22, 26, 0), 0 1px 1px rgba(16, 22, 26, 0.2);
  color:#5c7080;
  display:-webkit-inline-box;
  display:-ms-inline-flexbox;
  display:inline-flex;
  font-family:inherit;
  font-size:12px;
  height:24px;
  -webkit-box-pack:center;
      -ms-flex-pack:center;
          justify-content:center;
  line-height:24px;
  min-width:24px;
  padding:3px 6px;
  vertical-align:middle; }
  .bp3-running-text kbd .bp3-icon, .bp3-key .bp3-icon, .bp3-running-text kbd .bp3-icon-standard, .bp3-key .bp3-icon-standard, .bp3-running-text kbd .bp3-icon-large, .bp3-key .bp3-icon-large{
    margin-right:5px; }
  .bp3-dark .bp3-running-text kbd, .bp3-running-text .bp3-dark kbd, .bp3-dark .bp3-key{
    background:#394b59;
    -webkit-box-shadow:0 0 0 1px rgba(16, 22, 26, 0.2), 0 0 0 rgba(16, 22, 26, 0), 0 1px 1px rgba(16, 22, 26, 0.4);
            box-shadow:0 0 0 1px rgba(16, 22, 26, 0.2), 0 0 0 rgba(16, 22, 26, 0), 0 1px 1px rgba(16, 22, 26, 0.4);
    color:#a7b6c2; }
.bp3-running-text blockquote, .bp3-blockquote{
  border-left:solid 4px rgba(167, 182, 194, 0.5);
  margin:0 0 10px;
  padding:0 20px; }
  .bp3-dark .bp3-running-text blockquote, .bp3-running-text .bp3-dark blockquote, .bp3-dark .bp3-blockquote{
    border-color:rgba(115, 134, 148, 0.5); }
.bp3-running-text ul,
.bp3-running-text ol, .bp3-list{
  margin:10px 0;
  padding-left:30px; }
  .bp3-running-text ul li:not(:last-child), .bp3-running-text ol li:not(:last-child), .bp3-list li:not(:last-child){
    margin-bottom:5px; }
  .bp3-running-text ul ol, .bp3-running-text ol ol, .bp3-list ol,
  .bp3-running-text ul ul,
  .bp3-running-text ol ul,
  .bp3-list ul{
    margin-top:5px; }

.bp3-list-unstyled{
  list-style:none;
  margin:0;
  padding:0; }
  .bp3-list-unstyled li{
    padding:0; }
.bp3-rtl{
  text-align:right; }

.bp3-dark{
  color:#f5f8fa; }

:focus{
  outline:rgba(19, 124, 189, 0.6) auto 2px;
  outline-offset:2px;
  -moz-outline-radius:6px; }

.bp3-focus-disabled :focus{
  outline:none !important; }
  .bp3-focus-disabled :focus ~ .bp3-control-indicator{
    outline:none !important; }

.bp3-alert{
  max-width:400px;
  padding:20px; }

.bp3-alert-body{
  display:-webkit-box;
  display:-ms-flexbox;
  display:flex; }
  .bp3-alert-body .bp3-icon{
    font-size:40px;
    margin-right:20px;
    margin-top:0; }

.bp3-alert-contents{
  word-break:break-word; }

.bp3-alert-footer{
  display:-webkit-box;
  display:-ms-flexbox;
  display:flex;
  -webkit-box-orient:horizontal;
  -webkit-box-direction:reverse;
      -ms-flex-direction:row-reverse;
          flex-direction:row-reverse;
  margin-top:10px; }
  .bp3-alert-footer .bp3-button{
    margin-left:10px; }
.bp3-breadcrumbs{
  -webkit-box-align:center;
      -ms-flex-align:center;
          align-items:center;
  cursor:default;
  display:-webkit-box;
  display:-ms-flexbox;
  display:flex;
  -ms-flex-wrap:wrap;
      flex-wrap:wrap;
  height:30px;
  list-style:none;
  margin:0;
  padding:0; }
  .bp3-breadcrumbs > li{
    -webkit-box-align:center;
        -ms-flex-align:center;
            align-items:center;
    display:-webkit-box;
    display:-ms-flexbox;
    display:flex; }
    .bp3-breadcrumbs > li::after{
      background:url("data:image/svg+xml,%3csvg xmlns='http://www.w3.org/2000/svg' viewBox='0 0 16 16'%3e%3cpath fill-rule='evenodd' clip-rule='evenodd' d='M10.71 7.29l-4-4a1.003 1.003 0 00-1.42 1.42L8.59 8 5.3 11.29c-.19.18-.3.43-.3.71a1.003 1.003 0 001.71.71l4-4c.18-.18.29-.43.29-.71 0-.28-.11-.53-.29-.71z' fill='%235C7080'/%3e%3c/svg%3e");
      content:"";
      display:block;
      height:16px;
      margin:0 5px;
      width:16px; }
    .bp3-breadcrumbs > li:last-of-type::after{
      display:none; }

.bp3-breadcrumb,
.bp3-breadcrumb-current,
.bp3-breadcrumbs-collapsed{
  -webkit-box-align:center;
      -ms-flex-align:center;
          align-items:center;
  display:-webkit-inline-box;
  display:-ms-inline-flexbox;
  display:inline-flex;
  font-size:16px; }

.bp3-breadcrumb,
.bp3-breadcrumbs-collapsed{
  color:#5c7080; }

.bp3-breadcrumb:hover{
  text-decoration:none; }

.bp3-breadcrumb.bp3-disabled{
  color:rgba(92, 112, 128, 0.6);
  cursor:not-allowed; }

.bp3-breadcrumb .bp3-icon{
  margin-right:5px; }

.bp3-breadcrumb-current{
  color:inherit;
  font-weight:600; }
  .bp3-breadcrumb-current .bp3-input{
    font-size:inherit;
    font-weight:inherit;
    vertical-align:baseline; }

.bp3-breadcrumbs-collapsed{
  background:#ced9e0;
  border:none;
  border-radius:3px;
  cursor:pointer;
  margin-right:2px;
  padding:1px 5px;
  vertical-align:text-bottom; }
  .bp3-breadcrumbs-collapsed::before{
    background:url("data:image/svg+xml,%3csvg xmlns='http://www.w3.org/2000/svg' viewBox='0 0 16 16'%3e%3cg fill='%235C7080'%3e%3ccircle cx='2' cy='8.03' r='2'/%3e%3ccircle cx='14' cy='8.03' r='2'/%3e%3ccircle cx='8' cy='8.03' r='2'/%3e%3c/g%3e%3c/svg%3e") center no-repeat;
    content:"";
    display:block;
    height:16px;
    width:16px; }
  .bp3-breadcrumbs-collapsed:hover{
    background:#bfccd6;
    color:#182026;
    text-decoration:none; }

.bp3-dark .bp3-breadcrumb,
.bp3-dark .bp3-breadcrumbs-collapsed{
  color:#a7b6c2; }

.bp3-dark .bp3-breadcrumbs > li::after{
  color:#a7b6c2; }

.bp3-dark .bp3-breadcrumb.bp3-disabled{
  color:rgba(167, 182, 194, 0.6); }

.bp3-dark .bp3-breadcrumb-current{
  color:#f5f8fa; }

.bp3-dark .bp3-breadcrumbs-collapsed{
  background:rgba(16, 22, 26, 0.4); }
  .bp3-dark .bp3-breadcrumbs-collapsed:hover{
    background:rgba(16, 22, 26, 0.6);
    color:#f5f8fa; }
.bp3-button{
  display:-webkit-inline-box;
  display:-ms-inline-flexbox;
  display:inline-flex;
  -webkit-box-orient:horizontal;
  -webkit-box-direction:normal;
      -ms-flex-direction:row;
          flex-direction:row;
  -webkit-box-align:center;
      -ms-flex-align:center;
          align-items:center;
  border:none;
  border-radius:3px;
  cursor:pointer;
  font-size:14px;
  -webkit-box-pack:center;
      -ms-flex-pack:center;
          justify-content:center;
  padding:5px 10px;
  text-align:left;
  vertical-align:middle;
  min-height:30px;
  min-width:30px; }
  .bp3-button > *{
    -webkit-box-flex:0;
        -ms-flex-positive:0;
            flex-grow:0;
    -ms-flex-negative:0;
        flex-shrink:0; }
  .bp3-button > .bp3-fill{
    -webkit-box-flex:1;
        -ms-flex-positive:1;
            flex-grow:1;
    -ms-flex-negative:1;
        flex-shrink:1; }
  .bp3-button::before,
  .bp3-button > *{
    margin-right:7px; }
  .bp3-button:empty::before,
  .bp3-button > :last-child{
    margin-right:0; }
  .bp3-button:empty{
    padding:0 !important; }
  .bp3-button:disabled, .bp3-button.bp3-disabled{
    cursor:not-allowed; }
  .bp3-button.bp3-fill{
    display:-webkit-box;
    display:-ms-flexbox;
    display:flex;
    width:100%; }
  .bp3-button.bp3-align-right,
  .bp3-align-right .bp3-button{
    text-align:right; }
  .bp3-button.bp3-align-left,
  .bp3-align-left .bp3-button{
    text-align:left; }
  .bp3-button:not([class*="bp3-intent-"]){
    background-color:#f5f8fa;
    background-image:-webkit-gradient(linear, left top, left bottom, from(rgba(255, 255, 255, 0.8)), to(rgba(255, 255, 255, 0)));
    background-image:linear-gradient(to bottom, rgba(255, 255, 255, 0.8), rgba(255, 255, 255, 0));
    -webkit-box-shadow:inset 0 0 0 1px rgba(16, 22, 26, 0.2), inset 0 -1px 0 rgba(16, 22, 26, 0.1);
            box-shadow:inset 0 0 0 1px rgba(16, 22, 26, 0.2), inset 0 -1px 0 rgba(16, 22, 26, 0.1);
    color:#182026; }
    .bp3-button:not([class*="bp3-intent-"]):hover{
      background-clip:padding-box;
      background-color:#ebf1f5;
      -webkit-box-shadow:inset 0 0 0 1px rgba(16, 22, 26, 0.2), inset 0 -1px 0 rgba(16, 22, 26, 0.1);
              box-shadow:inset 0 0 0 1px rgba(16, 22, 26, 0.2), inset 0 -1px 0 rgba(16, 22, 26, 0.1); }
    .bp3-button:not([class*="bp3-intent-"]):active, .bp3-button:not([class*="bp3-intent-"]).bp3-active{
      background-color:#d8e1e8;
      background-image:none;
      -webkit-box-shadow:inset 0 0 0 1px rgba(16, 22, 26, 0.2), inset 0 1px 2px rgba(16, 22, 26, 0.2);
              box-shadow:inset 0 0 0 1px rgba(16, 22, 26, 0.2), inset 0 1px 2px rgba(16, 22, 26, 0.2); }
    .bp3-button:not([class*="bp3-intent-"]):disabled, .bp3-button:not([class*="bp3-intent-"]).bp3-disabled{
      background-color:rgba(206, 217, 224, 0.5);
      background-image:none;
      -webkit-box-shadow:none;
              box-shadow:none;
      color:rgba(92, 112, 128, 0.6);
      cursor:not-allowed;
      outline:none; }
      .bp3-button:not([class*="bp3-intent-"]):disabled.bp3-active, .bp3-button:not([class*="bp3-intent-"]):disabled.bp3-active:hover, .bp3-button:not([class*="bp3-intent-"]).bp3-disabled.bp3-active, .bp3-button:not([class*="bp3-intent-"]).bp3-disabled.bp3-active:hover{
        background:rgba(206, 217, 224, 0.7); }
  .bp3-button.bp3-intent-primary{
    background-color:#137cbd;
    background-image:-webkit-gradient(linear, left top, left bottom, from(rgba(255, 255, 255, 0.1)), to(rgba(255, 255, 255, 0)));
    background-image:linear-gradient(to bottom, rgba(255, 255, 255, 0.1), rgba(255, 255, 255, 0));
    -webkit-box-shadow:inset 0 0 0 1px rgba(16, 22, 26, 0.4), inset 0 -1px 0 rgba(16, 22, 26, 0.2);
            box-shadow:inset 0 0 0 1px rgba(16, 22, 26, 0.4), inset 0 -1px 0 rgba(16, 22, 26, 0.2);
    color:#ffffff; }
    .bp3-button.bp3-intent-primary:hover, .bp3-button.bp3-intent-primary:active, .bp3-button.bp3-intent-primary.bp3-active{
      color:#ffffff; }
    .bp3-button.bp3-intent-primary:hover{
      background-color:#106ba3;
      -webkit-box-shadow:inset 0 0 0 1px rgba(16, 22, 26, 0.4), inset 0 -1px 0 rgba(16, 22, 26, 0.2);
              box-shadow:inset 0 0 0 1px rgba(16, 22, 26, 0.4), inset 0 -1px 0 rgba(16, 22, 26, 0.2); }
    .bp3-button.bp3-intent-primary:active, .bp3-button.bp3-intent-primary.bp3-active{
      background-color:#0e5a8a;
      background-image:none;
      -webkit-box-shadow:inset 0 0 0 1px rgba(16, 22, 26, 0.4), inset 0 1px 2px rgba(16, 22, 26, 0.2);
              box-shadow:inset 0 0 0 1px rgba(16, 22, 26, 0.4), inset 0 1px 2px rgba(16, 22, 26, 0.2); }
    .bp3-button.bp3-intent-primary:disabled, .bp3-button.bp3-intent-primary.bp3-disabled{
      background-color:rgba(19, 124, 189, 0.5);
      background-image:none;
      border-color:transparent;
      -webkit-box-shadow:none;
              box-shadow:none;
      color:rgba(255, 255, 255, 0.6); }
  .bp3-button.bp3-intent-success{
    background-color:#0f9960;
    background-image:-webkit-gradient(linear, left top, left bottom, from(rgba(255, 255, 255, 0.1)), to(rgba(255, 255, 255, 0)));
    background-image:linear-gradient(to bottom, rgba(255, 255, 255, 0.1), rgba(255, 255, 255, 0));
    -webkit-box-shadow:inset 0 0 0 1px rgba(16, 22, 26, 0.4), inset 0 -1px 0 rgba(16, 22, 26, 0.2);
            box-shadow:inset 0 0 0 1px rgba(16, 22, 26, 0.4), inset 0 -1px 0 rgba(16, 22, 26, 0.2);
    color:#ffffff; }
    .bp3-button.bp3-intent-success:hover, .bp3-button.bp3-intent-success:active, .bp3-button.bp3-intent-success.bp3-active{
      color:#ffffff; }
    .bp3-button.bp3-intent-success:hover{
      background-color:#0d8050;
      -webkit-box-shadow:inset 0 0 0 1px rgba(16, 22, 26, 0.4), inset 0 -1px 0 rgba(16, 22, 26, 0.2);
              box-shadow:inset 0 0 0 1px rgba(16, 22, 26, 0.4), inset 0 -1px 0 rgba(16, 22, 26, 0.2); }
    .bp3-button.bp3-intent-success:active, .bp3-button.bp3-intent-success.bp3-active{
      background-color:#0a6640;
      background-image:none;
      -webkit-box-shadow:inset 0 0 0 1px rgba(16, 22, 26, 0.4), inset 0 1px 2px rgba(16, 22, 26, 0.2);
              box-shadow:inset 0 0 0 1px rgba(16, 22, 26, 0.4), inset 0 1px 2px rgba(16, 22, 26, 0.2); }
    .bp3-button.bp3-intent-success:disabled, .bp3-button.bp3-intent-success.bp3-disabled{
      background-color:rgba(15, 153, 96, 0.5);
      background-image:none;
      border-color:transparent;
      -webkit-box-shadow:none;
              box-shadow:none;
      color:rgba(255, 255, 255, 0.6); }
  .bp3-button.bp3-intent-warning{
    background-color:#d9822b;
    background-image:-webkit-gradient(linear, left top, left bottom, from(rgba(255, 255, 255, 0.1)), to(rgba(255, 255, 255, 0)));
    background-image:linear-gradient(to bottom, rgba(255, 255, 255, 0.1), rgba(255, 255, 255, 0));
    -webkit-box-shadow:inset 0 0 0 1px rgba(16, 22, 26, 0.4), inset 0 -1px 0 rgba(16, 22, 26, 0.2);
            box-shadow:inset 0 0 0 1px rgba(16, 22, 26, 0.4), inset 0 -1px 0 rgba(16, 22, 26, 0.2);
    color:#ffffff; }
    .bp3-button.bp3-intent-warning:hover, .bp3-button.bp3-intent-warning:active, .bp3-button.bp3-intent-warning.bp3-active{
      color:#ffffff; }
    .bp3-button.bp3-intent-warning:hover{
      background-color:#bf7326;
      -webkit-box-shadow:inset 0 0 0 1px rgba(16, 22, 26, 0.4), inset 0 -1px 0 rgba(16, 22, 26, 0.2);
              box-shadow:inset 0 0 0 1px rgba(16, 22, 26, 0.4), inset 0 -1px 0 rgba(16, 22, 26, 0.2); }
    .bp3-button.bp3-intent-warning:active, .bp3-button.bp3-intent-warning.bp3-active{
      background-color:#a66321;
      background-image:none;
      -webkit-box-shadow:inset 0 0 0 1px rgba(16, 22, 26, 0.4), inset 0 1px 2px rgba(16, 22, 26, 0.2);
              box-shadow:inset 0 0 0 1px rgba(16, 22, 26, 0.4), inset 0 1px 2px rgba(16, 22, 26, 0.2); }
    .bp3-button.bp3-intent-warning:disabled, .bp3-button.bp3-intent-warning.bp3-disabled{
      background-color:rgba(217, 130, 43, 0.5);
      background-image:none;
      border-color:transparent;
      -webkit-box-shadow:none;
              box-shadow:none;
      color:rgba(255, 255, 255, 0.6); }
  .bp3-button.bp3-intent-danger{
    background-color:#db3737;
    background-image:-webkit-gradient(linear, left top, left bottom, from(rgba(255, 255, 255, 0.1)), to(rgba(255, 255, 255, 0)));
    background-image:linear-gradient(to bottom, rgba(255, 255, 255, 0.1), rgba(255, 255, 255, 0));
    -webkit-box-shadow:inset 0 0 0 1px rgba(16, 22, 26, 0.4), inset 0 -1px 0 rgba(16, 22, 26, 0.2);
            box-shadow:inset 0 0 0 1px rgba(16, 22, 26, 0.4), inset 0 -1px 0 rgba(16, 22, 26, 0.2);
    color:#ffffff; }
    .bp3-button.bp3-intent-danger:hover, .bp3-button.bp3-intent-danger:active, .bp3-button.bp3-intent-danger.bp3-active{
      color:#ffffff; }
    .bp3-button.bp3-intent-danger:hover{
      background-color:#c23030;
      -webkit-box-shadow:inset 0 0 0 1px rgba(16, 22, 26, 0.4), inset 0 -1px 0 rgba(16, 22, 26, 0.2);
              box-shadow:inset 0 0 0 1px rgba(16, 22, 26, 0.4), inset 0 -1px 0 rgba(16, 22, 26, 0.2); }
    .bp3-button.bp3-intent-danger:active, .bp3-button.bp3-intent-danger.bp3-active{
      background-color:#a82a2a;
      background-image:none;
      -webkit-box-shadow:inset 0 0 0 1px rgba(16, 22, 26, 0.4), inset 0 1px 2px rgba(16, 22, 26, 0.2);
              box-shadow:inset 0 0 0 1px rgba(16, 22, 26, 0.4), inset 0 1px 2px rgba(16, 22, 26, 0.2); }
    .bp3-button.bp3-intent-danger:disabled, .bp3-button.bp3-intent-danger.bp3-disabled{
      background-color:rgba(219, 55, 55, 0.5);
      background-image:none;
      border-color:transparent;
      -webkit-box-shadow:none;
              box-shadow:none;
      color:rgba(255, 255, 255, 0.6); }
  .bp3-button[class*="bp3-intent-"] .bp3-button-spinner .bp3-spinner-head{
    stroke:#ffffff; }
  .bp3-button.bp3-large,
  .bp3-large .bp3-button{
    min-height:40px;
    min-width:40px;
    font-size:16px;
    padding:5px 15px; }
    .bp3-button.bp3-large::before,
    .bp3-button.bp3-large > *,
    .bp3-large .bp3-button::before,
    .bp3-large .bp3-button > *{
      margin-right:10px; }
    .bp3-button.bp3-large:empty::before,
    .bp3-button.bp3-large > :last-child,
    .bp3-large .bp3-button:empty::before,
    .bp3-large .bp3-button > :last-child{
      margin-right:0; }
  .bp3-button.bp3-small,
  .bp3-small .bp3-button{
    min-height:24px;
    min-width:24px;
    padding:0 7px; }
  .bp3-button.bp3-loading{
    position:relative; }
    .bp3-button.bp3-loading[class*="bp3-icon-"]::before{
      visibility:hidden; }
    .bp3-button.bp3-loading .bp3-button-spinner{
      margin:0;
      position:absolute; }
    .bp3-button.bp3-loading > :not(.bp3-button-spinner){
      visibility:hidden; }
  .bp3-button[class*="bp3-icon-"]::before{
    font-family:"Icons16", sans-serif;
    font-size:16px;
    font-style:normal;
    font-weight:400;
    line-height:1;
    -moz-osx-font-smoothing:grayscale;
    -webkit-font-smoothing:antialiased;
    color:#5c7080; }
  .bp3-button .bp3-icon, .bp3-button .bp3-icon-standard, .bp3-button .bp3-icon-large{
    color:#5c7080; }
    .bp3-button .bp3-icon.bp3-align-right, .bp3-button .bp3-icon-standard.bp3-align-right, .bp3-button .bp3-icon-large.bp3-align-right{
      margin-left:7px; }
  .bp3-button .bp3-icon:first-child:last-child,
  .bp3-button .bp3-spinner + .bp3-icon:last-child{
    margin:0 -7px; }
  .bp3-dark .bp3-button:not([class*="bp3-intent-"]){
    background-color:#394b59;
    background-image:-webkit-gradient(linear, left top, left bottom, from(rgba(255, 255, 255, 0.05)), to(rgba(255, 255, 255, 0)));
    background-image:linear-gradient(to bottom, rgba(255, 255, 255, 0.05), rgba(255, 255, 255, 0));
    -webkit-box-shadow:0 0 0 1px rgba(16, 22, 26, 0.4);
            box-shadow:0 0 0 1px rgba(16, 22, 26, 0.4);
    color:#f5f8fa; }
    .bp3-dark .bp3-button:not([class*="bp3-intent-"]):hover, .bp3-dark .bp3-button:not([class*="bp3-intent-"]):active, .bp3-dark .bp3-button:not([class*="bp3-intent-"]).bp3-active{
      color:#f5f8fa; }
    .bp3-dark .bp3-button:not([class*="bp3-intent-"]):hover{
      background-color:#30404d;
      -webkit-box-shadow:0 0 0 1px rgba(16, 22, 26, 0.4);
              box-shadow:0 0 0 1px rgba(16, 22, 26, 0.4); }
    .bp3-dark .bp3-button:not([class*="bp3-intent-"]):active, .bp3-dark .bp3-button:not([class*="bp3-intent-"]).bp3-active{
      background-color:#202b33;
      background-image:none;
      -webkit-box-shadow:0 0 0 1px rgba(16, 22, 26, 0.6), inset 0 1px 2px rgba(16, 22, 26, 0.2);
              box-shadow:0 0 0 1px rgba(16, 22, 26, 0.6), inset 0 1px 2px rgba(16, 22, 26, 0.2); }
    .bp3-dark .bp3-button:not([class*="bp3-intent-"]):disabled, .bp3-dark .bp3-button:not([class*="bp3-intent-"]).bp3-disabled{
      background-color:rgba(57, 75, 89, 0.5);
      background-image:none;
      -webkit-box-shadow:none;
              box-shadow:none;
      color:rgba(167, 182, 194, 0.6); }
      .bp3-dark .bp3-button:not([class*="bp3-intent-"]):disabled.bp3-active, .bp3-dark .bp3-button:not([class*="bp3-intent-"]).bp3-disabled.bp3-active{
        background:rgba(57, 75, 89, 0.7); }
    .bp3-dark .bp3-button:not([class*="bp3-intent-"]) .bp3-button-spinner .bp3-spinner-head{
      background:rgba(16, 22, 26, 0.5);
      stroke:#8a9ba8; }
    .bp3-dark .bp3-button:not([class*="bp3-intent-"])[class*="bp3-icon-"]::before{
      color:#a7b6c2; }
    .bp3-dark .bp3-button:not([class*="bp3-intent-"]) .bp3-icon, .bp3-dark .bp3-button:not([class*="bp3-intent-"]) .bp3-icon-standard, .bp3-dark .bp3-button:not([class*="bp3-intent-"]) .bp3-icon-large{
      color:#a7b6c2; }
  .bp3-dark .bp3-button[class*="bp3-intent-"]{
    -webkit-box-shadow:0 0 0 1px rgba(16, 22, 26, 0.4);
            box-shadow:0 0 0 1px rgba(16, 22, 26, 0.4); }
    .bp3-dark .bp3-button[class*="bp3-intent-"]:hover{
      -webkit-box-shadow:0 0 0 1px rgba(16, 22, 26, 0.4);
              box-shadow:0 0 0 1px rgba(16, 22, 26, 0.4); }
    .bp3-dark .bp3-button[class*="bp3-intent-"]:active, .bp3-dark .bp3-button[class*="bp3-intent-"].bp3-active{
      -webkit-box-shadow:0 0 0 1px rgba(16, 22, 26, 0.4), inset 0 1px 2px rgba(16, 22, 26, 0.2);
              box-shadow:0 0 0 1px rgba(16, 22, 26, 0.4), inset 0 1px 2px rgba(16, 22, 26, 0.2); }
    .bp3-dark .bp3-button[class*="bp3-intent-"]:disabled, .bp3-dark .bp3-button[class*="bp3-intent-"].bp3-disabled{
      background-image:none;
      -webkit-box-shadow:none;
              box-shadow:none;
      color:rgba(255, 255, 255, 0.3); }
    .bp3-dark .bp3-button[class*="bp3-intent-"] .bp3-button-spinner .bp3-spinner-head{
      stroke:#8a9ba8; }
  .bp3-button:disabled::before,
  .bp3-button:disabled .bp3-icon, .bp3-button:disabled .bp3-icon-standard, .bp3-button:disabled .bp3-icon-large, .bp3-button.bp3-disabled::before,
  .bp3-button.bp3-disabled .bp3-icon, .bp3-button.bp3-disabled .bp3-icon-standard, .bp3-button.bp3-disabled .bp3-icon-large, .bp3-button[class*="bp3-intent-"]::before,
  .bp3-button[class*="bp3-intent-"] .bp3-icon, .bp3-button[class*="bp3-intent-"] .bp3-icon-standard, .bp3-button[class*="bp3-intent-"] .bp3-icon-large{
    color:inherit !important; }
  .bp3-button.bp3-minimal{
    background:none;
    -webkit-box-shadow:none;
            box-shadow:none; }
    .bp3-button.bp3-minimal:hover{
      background:rgba(167, 182, 194, 0.3);
      -webkit-box-shadow:none;
              box-shadow:none;
      color:#182026;
      text-decoration:none; }
    .bp3-button.bp3-minimal:active, .bp3-button.bp3-minimal.bp3-active{
      background:rgba(115, 134, 148, 0.3);
      -webkit-box-shadow:none;
              box-shadow:none;
      color:#182026; }
    .bp3-button.bp3-minimal:disabled, .bp3-button.bp3-minimal:disabled:hover, .bp3-button.bp3-minimal.bp3-disabled, .bp3-button.bp3-minimal.bp3-disabled:hover{
      background:none;
      color:rgba(92, 112, 128, 0.6);
      cursor:not-allowed; }
      .bp3-button.bp3-minimal:disabled.bp3-active, .bp3-button.bp3-minimal:disabled:hover.bp3-active, .bp3-button.bp3-minimal.bp3-disabled.bp3-active, .bp3-button.bp3-minimal.bp3-disabled:hover.bp3-active{
        background:rgba(115, 134, 148, 0.3); }
    .bp3-dark .bp3-button.bp3-minimal{
      background:none;
      -webkit-box-shadow:none;
              box-shadow:none;
      color:inherit; }
      .bp3-dark .bp3-button.bp3-minimal:hover, .bp3-dark .bp3-button.bp3-minimal:active, .bp3-dark .bp3-button.bp3-minimal.bp3-active{
        background:none;
        -webkit-box-shadow:none;
                box-shadow:none; }
      .bp3-dark .bp3-button.bp3-minimal:hover{
        background:rgba(138, 155, 168, 0.15); }
      .bp3-dark .bp3-button.bp3-minimal:active, .bp3-dark .bp3-button.bp3-minimal.bp3-active{
        background:rgba(138, 155, 168, 0.3);
        color:#f5f8fa; }
      .bp3-dark .bp3-button.bp3-minimal:disabled, .bp3-dark .bp3-button.bp3-minimal:disabled:hover, .bp3-dark .bp3-button.bp3-minimal.bp3-disabled, .bp3-dark .bp3-button.bp3-minimal.bp3-disabled:hover{
        background:none;
        color:rgba(167, 182, 194, 0.6);
        cursor:not-allowed; }
        .bp3-dark .bp3-button.bp3-minimal:disabled.bp3-active, .bp3-dark .bp3-button.bp3-minimal:disabled:hover.bp3-active, .bp3-dark .bp3-button.bp3-minimal.bp3-disabled.bp3-active, .bp3-dark .bp3-button.bp3-minimal.bp3-disabled:hover.bp3-active{
          background:rgba(138, 155, 168, 0.3); }
    .bp3-button.bp3-minimal.bp3-intent-primary{
      color:#106ba3; }
      .bp3-button.bp3-minimal.bp3-intent-primary:hover, .bp3-button.bp3-minimal.bp3-intent-primary:active, .bp3-button.bp3-minimal.bp3-intent-primary.bp3-active{
        background:none;
        -webkit-box-shadow:none;
                box-shadow:none;
        color:#106ba3; }
      .bp3-button.bp3-minimal.bp3-intent-primary:hover{
        background:rgba(19, 124, 189, 0.15);
        color:#106ba3; }
      .bp3-button.bp3-minimal.bp3-intent-primary:active, .bp3-button.bp3-minimal.bp3-intent-primary.bp3-active{
        background:rgba(19, 124, 189, 0.3);
        color:#106ba3; }
      .bp3-button.bp3-minimal.bp3-intent-primary:disabled, .bp3-button.bp3-minimal.bp3-intent-primary.bp3-disabled{
        background:none;
        color:rgba(16, 107, 163, 0.5); }
        .bp3-button.bp3-minimal.bp3-intent-primary:disabled.bp3-active, .bp3-button.bp3-minimal.bp3-intent-primary.bp3-disabled.bp3-active{
          background:rgba(19, 124, 189, 0.3); }
      .bp3-button.bp3-minimal.bp3-intent-primary .bp3-button-spinner .bp3-spinner-head{
        stroke:#106ba3; }
      .bp3-dark .bp3-button.bp3-minimal.bp3-intent-primary{
        color:#48aff0; }
        .bp3-dark .bp3-button.bp3-minimal.bp3-intent-primary:hover{
          background:rgba(19, 124, 189, 0.2);
          color:#48aff0; }
        .bp3-dark .bp3-button.bp3-minimal.bp3-intent-primary:active, .bp3-dark .bp3-button.bp3-minimal.bp3-intent-primary.bp3-active{
          background:rgba(19, 124, 189, 0.3);
          color:#48aff0; }
        .bp3-dark .bp3-button.bp3-minimal.bp3-intent-primary:disabled, .bp3-dark .bp3-button.bp3-minimal.bp3-intent-primary.bp3-disabled{
          background:none;
          color:rgba(72, 175, 240, 0.5); }
          .bp3-dark .bp3-button.bp3-minimal.bp3-intent-primary:disabled.bp3-active, .bp3-dark .bp3-button.bp3-minimal.bp3-intent-primary.bp3-disabled.bp3-active{
            background:rgba(19, 124, 189, 0.3); }
    .bp3-button.bp3-minimal.bp3-intent-success{
      color:#0d8050; }
      .bp3-button.bp3-minimal.bp3-intent-success:hover, .bp3-button.bp3-minimal.bp3-intent-success:active, .bp3-button.bp3-minimal.bp3-intent-success.bp3-active{
        background:none;
        -webkit-box-shadow:none;
                box-shadow:none;
        color:#0d8050; }
      .bp3-button.bp3-minimal.bp3-intent-success:hover{
        background:rgba(15, 153, 96, 0.15);
        color:#0d8050; }
      .bp3-button.bp3-minimal.bp3-intent-success:active, .bp3-button.bp3-minimal.bp3-intent-success.bp3-active{
        background:rgba(15, 153, 96, 0.3);
        color:#0d8050; }
      .bp3-button.bp3-minimal.bp3-intent-success:disabled, .bp3-button.bp3-minimal.bp3-intent-success.bp3-disabled{
        background:none;
        color:rgba(13, 128, 80, 0.5); }
        .bp3-button.bp3-minimal.bp3-intent-success:disabled.bp3-active, .bp3-button.bp3-minimal.bp3-intent-success.bp3-disabled.bp3-active{
          background:rgba(15, 153, 96, 0.3); }
      .bp3-button.bp3-minimal.bp3-intent-success .bp3-button-spinner .bp3-spinner-head{
        stroke:#0d8050; }
      .bp3-dark .bp3-button.bp3-minimal.bp3-intent-success{
        color:#3dcc91; }
        .bp3-dark .bp3-button.bp3-minimal.bp3-intent-success:hover{
          background:rgba(15, 153, 96, 0.2);
          color:#3dcc91; }
        .bp3-dark .bp3-button.bp3-minimal.bp3-intent-success:active, .bp3-dark .bp3-button.bp3-minimal.bp3-intent-success.bp3-active{
          background:rgba(15, 153, 96, 0.3);
          color:#3dcc91; }
        .bp3-dark .bp3-button.bp3-minimal.bp3-intent-success:disabled, .bp3-dark .bp3-button.bp3-minimal.bp3-intent-success.bp3-disabled{
          background:none;
          color:rgba(61, 204, 145, 0.5); }
          .bp3-dark .bp3-button.bp3-minimal.bp3-intent-success:disabled.bp3-active, .bp3-dark .bp3-button.bp3-minimal.bp3-intent-success.bp3-disabled.bp3-active{
            background:rgba(15, 153, 96, 0.3); }
    .bp3-button.bp3-minimal.bp3-intent-warning{
      color:#bf7326; }
      .bp3-button.bp3-minimal.bp3-intent-warning:hover, .bp3-button.bp3-minimal.bp3-intent-warning:active, .bp3-button.bp3-minimal.bp3-intent-warning.bp3-active{
        background:none;
        -webkit-box-shadow:none;
                box-shadow:none;
        color:#bf7326; }
      .bp3-button.bp3-minimal.bp3-intent-warning:hover{
        background:rgba(217, 130, 43, 0.15);
        color:#bf7326; }
      .bp3-button.bp3-minimal.bp3-intent-warning:active, .bp3-button.bp3-minimal.bp3-intent-warning.bp3-active{
        background:rgba(217, 130, 43, 0.3);
        color:#bf7326; }
      .bp3-button.bp3-minimal.bp3-intent-warning:disabled, .bp3-button.bp3-minimal.bp3-intent-warning.bp3-disabled{
        background:none;
        color:rgba(191, 115, 38, 0.5); }
        .bp3-button.bp3-minimal.bp3-intent-warning:disabled.bp3-active, .bp3-button.bp3-minimal.bp3-intent-warning.bp3-disabled.bp3-active{
          background:rgba(217, 130, 43, 0.3); }
      .bp3-button.bp3-minimal.bp3-intent-warning .bp3-button-spinner .bp3-spinner-head{
        stroke:#bf7326; }
      .bp3-dark .bp3-button.bp3-minimal.bp3-intent-warning{
        color:#ffb366; }
        .bp3-dark .bp3-button.bp3-minimal.bp3-intent-warning:hover{
          background:rgba(217, 130, 43, 0.2);
          color:#ffb366; }
        .bp3-dark .bp3-button.bp3-minimal.bp3-intent-warning:active, .bp3-dark .bp3-button.bp3-minimal.bp3-intent-warning.bp3-active{
          background:rgba(217, 130, 43, 0.3);
          color:#ffb366; }
        .bp3-dark .bp3-button.bp3-minimal.bp3-intent-warning:disabled, .bp3-dark .bp3-button.bp3-minimal.bp3-intent-warning.bp3-disabled{
          background:none;
          color:rgba(255, 179, 102, 0.5); }
          .bp3-dark .bp3-button.bp3-minimal.bp3-intent-warning:disabled.bp3-active, .bp3-dark .bp3-button.bp3-minimal.bp3-intent-warning.bp3-disabled.bp3-active{
            background:rgba(217, 130, 43, 0.3); }
    .bp3-button.bp3-minimal.bp3-intent-danger{
      color:#c23030; }
      .bp3-button.bp3-minimal.bp3-intent-danger:hover, .bp3-button.bp3-minimal.bp3-intent-danger:active, .bp3-button.bp3-minimal.bp3-intent-danger.bp3-active{
        background:none;
        -webkit-box-shadow:none;
                box-shadow:none;
        color:#c23030; }
      .bp3-button.bp3-minimal.bp3-intent-danger:hover{
        background:rgba(219, 55, 55, 0.15);
        color:#c23030; }
      .bp3-button.bp3-minimal.bp3-intent-danger:active, .bp3-button.bp3-minimal.bp3-intent-danger.bp3-active{
        background:rgba(219, 55, 55, 0.3);
        color:#c23030; }
      .bp3-button.bp3-minimal.bp3-intent-danger:disabled, .bp3-button.bp3-minimal.bp3-intent-danger.bp3-disabled{
        background:none;
        color:rgba(194, 48, 48, 0.5); }
        .bp3-button.bp3-minimal.bp3-intent-danger:disabled.bp3-active, .bp3-button.bp3-minimal.bp3-intent-danger.bp3-disabled.bp3-active{
          background:rgba(219, 55, 55, 0.3); }
      .bp3-button.bp3-minimal.bp3-intent-danger .bp3-button-spinner .bp3-spinner-head{
        stroke:#c23030; }
      .bp3-dark .bp3-button.bp3-minimal.bp3-intent-danger{
        color:#ff7373; }
        .bp3-dark .bp3-button.bp3-minimal.bp3-intent-danger:hover{
          background:rgba(219, 55, 55, 0.2);
          color:#ff7373; }
        .bp3-dark .bp3-button.bp3-minimal.bp3-intent-danger:active, .bp3-dark .bp3-button.bp3-minimal.bp3-intent-danger.bp3-active{
          background:rgba(219, 55, 55, 0.3);
          color:#ff7373; }
        .bp3-dark .bp3-button.bp3-minimal.bp3-intent-danger:disabled, .bp3-dark .bp3-button.bp3-minimal.bp3-intent-danger.bp3-disabled{
          background:none;
          color:rgba(255, 115, 115, 0.5); }
          .bp3-dark .bp3-button.bp3-minimal.bp3-intent-danger:disabled.bp3-active, .bp3-dark .bp3-button.bp3-minimal.bp3-intent-danger.bp3-disabled.bp3-active{
            background:rgba(219, 55, 55, 0.3); }
  .bp3-button.bp3-outlined{
    background:none;
    -webkit-box-shadow:none;
            box-shadow:none;
    border:1px solid rgba(24, 32, 38, 0.2);
    -webkit-box-sizing:border-box;
            box-sizing:border-box; }
    .bp3-button.bp3-outlined:hover{
      background:rgba(167, 182, 194, 0.3);
      -webkit-box-shadow:none;
              box-shadow:none;
      color:#182026;
      text-decoration:none; }
    .bp3-button.bp3-outlined:active, .bp3-button.bp3-outlined.bp3-active{
      background:rgba(115, 134, 148, 0.3);
      -webkit-box-shadow:none;
              box-shadow:none;
      color:#182026; }
    .bp3-button.bp3-outlined:disabled, .bp3-button.bp3-outlined:disabled:hover, .bp3-button.bp3-outlined.bp3-disabled, .bp3-button.bp3-outlined.bp3-disabled:hover{
      background:none;
      color:rgba(92, 112, 128, 0.6);
      cursor:not-allowed; }
      .bp3-button.bp3-outlined:disabled.bp3-active, .bp3-button.bp3-outlined:disabled:hover.bp3-active, .bp3-button.bp3-outlined.bp3-disabled.bp3-active, .bp3-button.bp3-outlined.bp3-disabled:hover.bp3-active{
        background:rgba(115, 134, 148, 0.3); }
    .bp3-dark .bp3-button.bp3-outlined{
      background:none;
      -webkit-box-shadow:none;
              box-shadow:none;
      color:inherit; }
      .bp3-dark .bp3-button.bp3-outlined:hover, .bp3-dark .bp3-button.bp3-outlined:active, .bp3-dark .bp3-button.bp3-outlined.bp3-active{
        background:none;
        -webkit-box-shadow:none;
                box-shadow:none; }
      .bp3-dark .bp3-button.bp3-outlined:hover{
        background:rgba(138, 155, 168, 0.15); }
      .bp3-dark .bp3-button.bp3-outlined:active, .bp3-dark .bp3-button.bp3-outlined.bp3-active{
        background:rgba(138, 155, 168, 0.3);
        color:#f5f8fa; }
      .bp3-dark .bp3-button.bp3-outlined:disabled, .bp3-dark .bp3-button.bp3-outlined:disabled:hover, .bp3-dark .bp3-button.bp3-outlined.bp3-disabled, .bp3-dark .bp3-button.bp3-outlined.bp3-disabled:hover{
        background:none;
        color:rgba(167, 182, 194, 0.6);
        cursor:not-allowed; }
        .bp3-dark .bp3-button.bp3-outlined:disabled.bp3-active, .bp3-dark .bp3-button.bp3-outlined:disabled:hover.bp3-active, .bp3-dark .bp3-button.bp3-outlined.bp3-disabled.bp3-active, .bp3-dark .bp3-button.bp3-outlined.bp3-disabled:hover.bp3-active{
          background:rgba(138, 155, 168, 0.3); }
    .bp3-button.bp3-outlined.bp3-intent-primary{
      color:#106ba3; }
      .bp3-button.bp3-outlined.bp3-intent-primary:hover, .bp3-button.bp3-outlined.bp3-intent-primary:active, .bp3-button.bp3-outlined.bp3-intent-primary.bp3-active{
        background:none;
        -webkit-box-shadow:none;
                box-shadow:none;
        color:#106ba3; }
      .bp3-button.bp3-outlined.bp3-intent-primary:hover{
        background:rgba(19, 124, 189, 0.15);
        color:#106ba3; }
      .bp3-button.bp3-outlined.bp3-intent-primary:active, .bp3-button.bp3-outlined.bp3-intent-primary.bp3-active{
        background:rgba(19, 124, 189, 0.3);
        color:#106ba3; }
      .bp3-button.bp3-outlined.bp3-intent-primary:disabled, .bp3-button.bp3-outlined.bp3-intent-primary.bp3-disabled{
        background:none;
        color:rgba(16, 107, 163, 0.5); }
        .bp3-button.bp3-outlined.bp3-intent-primary:disabled.bp3-active, .bp3-button.bp3-outlined.bp3-intent-primary.bp3-disabled.bp3-active{
          background:rgba(19, 124, 189, 0.3); }
      .bp3-button.bp3-outlined.bp3-intent-primary .bp3-button-spinner .bp3-spinner-head{
        stroke:#106ba3; }
      .bp3-dark .bp3-button.bp3-outlined.bp3-intent-primary{
        color:#48aff0; }
        .bp3-dark .bp3-button.bp3-outlined.bp3-intent-primary:hover{
          background:rgba(19, 124, 189, 0.2);
          color:#48aff0; }
        .bp3-dark .bp3-button.bp3-outlined.bp3-intent-primary:active, .bp3-dark .bp3-button.bp3-outlined.bp3-intent-primary.bp3-active{
          background:rgba(19, 124, 189, 0.3);
          color:#48aff0; }
        .bp3-dark .bp3-button.bp3-outlined.bp3-intent-primary:disabled, .bp3-dark .bp3-button.bp3-outlined.bp3-intent-primary.bp3-disabled{
          background:none;
          color:rgba(72, 175, 240, 0.5); }
          .bp3-dark .bp3-button.bp3-outlined.bp3-intent-primary:disabled.bp3-active, .bp3-dark .bp3-button.bp3-outlined.bp3-intent-primary.bp3-disabled.bp3-active{
            background:rgba(19, 124, 189, 0.3); }
    .bp3-button.bp3-outlined.bp3-intent-success{
      color:#0d8050; }
      .bp3-button.bp3-outlined.bp3-intent-success:hover, .bp3-button.bp3-outlined.bp3-intent-success:active, .bp3-button.bp3-outlined.bp3-intent-success.bp3-active{
        background:none;
        -webkit-box-shadow:none;
                box-shadow:none;
        color:#0d8050; }
      .bp3-button.bp3-outlined.bp3-intent-success:hover{
        background:rgba(15, 153, 96, 0.15);
        color:#0d8050; }
      .bp3-button.bp3-outlined.bp3-intent-success:active, .bp3-button.bp3-outlined.bp3-intent-success.bp3-active{
        background:rgba(15, 153, 96, 0.3);
        color:#0d8050; }
      .bp3-button.bp3-outlined.bp3-intent-success:disabled, .bp3-button.bp3-outlined.bp3-intent-success.bp3-disabled{
        background:none;
        color:rgba(13, 128, 80, 0.5); }
        .bp3-button.bp3-outlined.bp3-intent-success:disabled.bp3-active, .bp3-button.bp3-outlined.bp3-intent-success.bp3-disabled.bp3-active{
          background:rgba(15, 153, 96, 0.3); }
      .bp3-button.bp3-outlined.bp3-intent-success .bp3-button-spinner .bp3-spinner-head{
        stroke:#0d8050; }
      .bp3-dark .bp3-button.bp3-outlined.bp3-intent-success{
        color:#3dcc91; }
        .bp3-dark .bp3-button.bp3-outlined.bp3-intent-success:hover{
          background:rgba(15, 153, 96, 0.2);
          color:#3dcc91; }
        .bp3-dark .bp3-button.bp3-outlined.bp3-intent-success:active, .bp3-dark .bp3-button.bp3-outlined.bp3-intent-success.bp3-active{
          background:rgba(15, 153, 96, 0.3);
          color:#3dcc91; }
        .bp3-dark .bp3-button.bp3-outlined.bp3-intent-success:disabled, .bp3-dark .bp3-button.bp3-outlined.bp3-intent-success.bp3-disabled{
          background:none;
          color:rgba(61, 204, 145, 0.5); }
          .bp3-dark .bp3-button.bp3-outlined.bp3-intent-success:disabled.bp3-active, .bp3-dark .bp3-button.bp3-outlined.bp3-intent-success.bp3-disabled.bp3-active{
            background:rgba(15, 153, 96, 0.3); }
    .bp3-button.bp3-outlined.bp3-intent-warning{
      color:#bf7326; }
      .bp3-button.bp3-outlined.bp3-intent-warning:hover, .bp3-button.bp3-outlined.bp3-intent-warning:active, .bp3-button.bp3-outlined.bp3-intent-warning.bp3-active{
        background:none;
        -webkit-box-shadow:none;
                box-shadow:none;
        color:#bf7326; }
      .bp3-button.bp3-outlined.bp3-intent-warning:hover{
        background:rgba(217, 130, 43, 0.15);
        color:#bf7326; }
      .bp3-button.bp3-outlined.bp3-intent-warning:active, .bp3-button.bp3-outlined.bp3-intent-warning.bp3-active{
        background:rgba(217, 130, 43, 0.3);
        color:#bf7326; }
      .bp3-button.bp3-outlined.bp3-intent-warning:disabled, .bp3-button.bp3-outlined.bp3-intent-warning.bp3-disabled{
        background:none;
        color:rgba(191, 115, 38, 0.5); }
        .bp3-button.bp3-outlined.bp3-intent-warning:disabled.bp3-active, .bp3-button.bp3-outlined.bp3-intent-warning.bp3-disabled.bp3-active{
          background:rgba(217, 130, 43, 0.3); }
      .bp3-button.bp3-outlined.bp3-intent-warning .bp3-button-spinner .bp3-spinner-head{
        stroke:#bf7326; }
      .bp3-dark .bp3-button.bp3-outlined.bp3-intent-warning{
        color:#ffb366; }
        .bp3-dark .bp3-button.bp3-outlined.bp3-intent-warning:hover{
          background:rgba(217, 130, 43, 0.2);
          color:#ffb366; }
        .bp3-dark .bp3-button.bp3-outlined.bp3-intent-warning:active, .bp3-dark .bp3-button.bp3-outlined.bp3-intent-warning.bp3-active{
          background:rgba(217, 130, 43, 0.3);
          color:#ffb366; }
        .bp3-dark .bp3-button.bp3-outlined.bp3-intent-warning:disabled, .bp3-dark .bp3-button.bp3-outlined.bp3-intent-warning.bp3-disabled{
          background:none;
          color:rgba(255, 179, 102, 0.5); }
          .bp3-dark .bp3-button.bp3-outlined.bp3-intent-warning:disabled.bp3-active, .bp3-dark .bp3-button.bp3-outlined.bp3-intent-warning.bp3-disabled.bp3-active{
            background:rgba(217, 130, 43, 0.3); }
    .bp3-button.bp3-outlined.bp3-intent-danger{
      color:#c23030; }
      .bp3-button.bp3-outlined.bp3-intent-danger:hover, .bp3-button.bp3-outlined.bp3-intent-danger:active, .bp3-button.bp3-outlined.bp3-intent-danger.bp3-active{
        background:none;
        -webkit-box-shadow:none;
                box-shadow:none;
        color:#c23030; }
      .bp3-button.bp3-outlined.bp3-intent-danger:hover{
        background:rgba(219, 55, 55, 0.15);
        color:#c23030; }
      .bp3-button.bp3-outlined.bp3-intent-danger:active, .bp3-button.bp3-outlined.bp3-intent-danger.bp3-active{
        background:rgba(219, 55, 55, 0.3);
        color:#c23030; }
      .bp3-button.bp3-outlined.bp3-intent-danger:disabled, .bp3-button.bp3-outlined.bp3-intent-danger.bp3-disabled{
        background:none;
        color:rgba(194, 48, 48, 0.5); }
        .bp3-button.bp3-outlined.bp3-intent-danger:disabled.bp3-active, .bp3-button.bp3-outlined.bp3-intent-danger.bp3-disabled.bp3-active{
          background:rgba(219, 55, 55, 0.3); }
      .bp3-button.bp3-outlined.bp3-intent-danger .bp3-button-spinner .bp3-spinner-head{
        stroke:#c23030; }
      .bp3-dark .bp3-button.bp3-outlined.bp3-intent-danger{
        color:#ff7373; }
        .bp3-dark .bp3-button.bp3-outlined.bp3-intent-danger:hover{
          background:rgba(219, 55, 55, 0.2);
          color:#ff7373; }
        .bp3-dark .bp3-button.bp3-outlined.bp3-intent-danger:active, .bp3-dark .bp3-button.bp3-outlined.bp3-intent-danger.bp3-active{
          background:rgba(219, 55, 55, 0.3);
          color:#ff7373; }
        .bp3-dark .bp3-button.bp3-outlined.bp3-intent-danger:disabled, .bp3-dark .bp3-button.bp3-outlined.bp3-intent-danger.bp3-disabled{
          background:none;
          color:rgba(255, 115, 115, 0.5); }
          .bp3-dark .bp3-button.bp3-outlined.bp3-intent-danger:disabled.bp3-active, .bp3-dark .bp3-button.bp3-outlined.bp3-intent-danger.bp3-disabled.bp3-active{
            background:rgba(219, 55, 55, 0.3); }
    .bp3-button.bp3-outlined:disabled, .bp3-button.bp3-outlined.bp3-disabled, .bp3-button.bp3-outlined:disabled:hover, .bp3-button.bp3-outlined.bp3-disabled:hover{
      border-color:rgba(92, 112, 128, 0.1); }
    .bp3-dark .bp3-button.bp3-outlined{
      border-color:rgba(255, 255, 255, 0.4); }
      .bp3-dark .bp3-button.bp3-outlined:disabled, .bp3-dark .bp3-button.bp3-outlined:disabled:hover, .bp3-dark .bp3-button.bp3-outlined.bp3-disabled, .bp3-dark .bp3-button.bp3-outlined.bp3-disabled:hover{
        border-color:rgba(255, 255, 255, 0.2); }
    .bp3-button.bp3-outlined.bp3-intent-primary{
      border-color:rgba(16, 107, 163, 0.6); }
      .bp3-button.bp3-outlined.bp3-intent-primary:disabled, .bp3-button.bp3-outlined.bp3-intent-primary.bp3-disabled{
        border-color:rgba(16, 107, 163, 0.2); }
      .bp3-dark .bp3-button.bp3-outlined.bp3-intent-primary{
        border-color:rgba(72, 175, 240, 0.6); }
        .bp3-dark .bp3-button.bp3-outlined.bp3-intent-primary:disabled, .bp3-dark .bp3-button.bp3-outlined.bp3-intent-primary.bp3-disabled{
          border-color:rgba(72, 175, 240, 0.2); }
    .bp3-button.bp3-outlined.bp3-intent-success{
      border-color:rgba(13, 128, 80, 0.6); }
      .bp3-button.bp3-outlined.bp3-intent-success:disabled, .bp3-button.bp3-outlined.bp3-intent-success.bp3-disabled{
        border-color:rgba(13, 128, 80, 0.2); }
      .bp3-dark .bp3-button.bp3-outlined.bp3-intent-success{
        border-color:rgba(61, 204, 145, 0.6); }
        .bp3-dark .bp3-button.bp3-outlined.bp3-intent-success:disabled, .bp3-dark .bp3-button.bp3-outlined.bp3-intent-success.bp3-disabled{
          border-color:rgba(61, 204, 145, 0.2); }
    .bp3-button.bp3-outlined.bp3-intent-warning{
      border-color:rgba(191, 115, 38, 0.6); }
      .bp3-button.bp3-outlined.bp3-intent-warning:disabled, .bp3-button.bp3-outlined.bp3-intent-warning.bp3-disabled{
        border-color:rgba(191, 115, 38, 0.2); }
      .bp3-dark .bp3-button.bp3-outlined.bp3-intent-warning{
        border-color:rgba(255, 179, 102, 0.6); }
        .bp3-dark .bp3-button.bp3-outlined.bp3-intent-warning:disabled, .bp3-dark .bp3-button.bp3-outlined.bp3-intent-warning.bp3-disabled{
          border-color:rgba(255, 179, 102, 0.2); }
    .bp3-button.bp3-outlined.bp3-intent-danger{
      border-color:rgba(194, 48, 48, 0.6); }
      .bp3-button.bp3-outlined.bp3-intent-danger:disabled, .bp3-button.bp3-outlined.bp3-intent-danger.bp3-disabled{
        border-color:rgba(194, 48, 48, 0.2); }
      .bp3-dark .bp3-button.bp3-outlined.bp3-intent-danger{
        border-color:rgba(255, 115, 115, 0.6); }
        .bp3-dark .bp3-button.bp3-outlined.bp3-intent-danger:disabled, .bp3-dark .bp3-button.bp3-outlined.bp3-intent-danger.bp3-disabled{
          border-color:rgba(255, 115, 115, 0.2); }

a.bp3-button{
  text-align:center;
  text-decoration:none;
  -webkit-transition:none;
  transition:none; }
  a.bp3-button, a.bp3-button:hover, a.bp3-button:active{
    color:#182026; }
  a.bp3-button.bp3-disabled{
    color:rgba(92, 112, 128, 0.6); }

.bp3-button-text{
  -webkit-box-flex:0;
      -ms-flex:0 1 auto;
          flex:0 1 auto; }

.bp3-button.bp3-align-left .bp3-button-text, .bp3-button.bp3-align-right .bp3-button-text,
.bp3-button-group.bp3-align-left .bp3-button-text,
.bp3-button-group.bp3-align-right .bp3-button-text{
  -webkit-box-flex:1;
      -ms-flex:1 1 auto;
          flex:1 1 auto; }
.bp3-button-group{
  display:-webkit-inline-box;
  display:-ms-inline-flexbox;
  display:inline-flex; }
  .bp3-button-group .bp3-button{
    -webkit-box-flex:0;
        -ms-flex:0 0 auto;
            flex:0 0 auto;
    position:relative;
    z-index:4; }
    .bp3-button-group .bp3-button:focus{
      z-index:5; }
    .bp3-button-group .bp3-button:hover{
      z-index:6; }
    .bp3-button-group .bp3-button:active, .bp3-button-group .bp3-button.bp3-active{
      z-index:7; }
    .bp3-button-group .bp3-button:disabled, .bp3-button-group .bp3-button.bp3-disabled{
      z-index:3; }
    .bp3-button-group .bp3-button[class*="bp3-intent-"]{
      z-index:9; }
      .bp3-button-group .bp3-button[class*="bp3-intent-"]:focus{
        z-index:10; }
      .bp3-button-group .bp3-button[class*="bp3-intent-"]:hover{
        z-index:11; }
      .bp3-button-group .bp3-button[class*="bp3-intent-"]:active, .bp3-button-group .bp3-button[class*="bp3-intent-"].bp3-active{
        z-index:12; }
      .bp3-button-group .bp3-button[class*="bp3-intent-"]:disabled, .bp3-button-group .bp3-button[class*="bp3-intent-"].bp3-disabled{
        z-index:8; }
  .bp3-button-group:not(.bp3-minimal) > .bp3-popover-wrapper:not(:first-child) .bp3-button,
  .bp3-button-group:not(.bp3-minimal) > .bp3-button:not(:first-child){
    border-bottom-left-radius:0;
    border-top-left-radius:0; }
  .bp3-button-group:not(.bp3-minimal) > .bp3-popover-wrapper:not(:last-child) .bp3-button,
  .bp3-button-group:not(.bp3-minimal) > .bp3-button:not(:last-child){
    border-bottom-right-radius:0;
    border-top-right-radius:0;
    margin-right:-1px; }
  .bp3-button-group.bp3-minimal .bp3-button{
    background:none;
    -webkit-box-shadow:none;
            box-shadow:none; }
    .bp3-button-group.bp3-minimal .bp3-button:hover{
      background:rgba(167, 182, 194, 0.3);
      -webkit-box-shadow:none;
              box-shadow:none;
      color:#182026;
      text-decoration:none; }
    .bp3-button-group.bp3-minimal .bp3-button:active, .bp3-button-group.bp3-minimal .bp3-button.bp3-active{
      background:rgba(115, 134, 148, 0.3);
      -webkit-box-shadow:none;
              box-shadow:none;
      color:#182026; }
    .bp3-button-group.bp3-minimal .bp3-button:disabled, .bp3-button-group.bp3-minimal .bp3-button:disabled:hover, .bp3-button-group.bp3-minimal .bp3-button.bp3-disabled, .bp3-button-group.bp3-minimal .bp3-button.bp3-disabled:hover{
      background:none;
      color:rgba(92, 112, 128, 0.6);
      cursor:not-allowed; }
      .bp3-button-group.bp3-minimal .bp3-button:disabled.bp3-active, .bp3-button-group.bp3-minimal .bp3-button:disabled:hover.bp3-active, .bp3-button-group.bp3-minimal .bp3-button.bp3-disabled.bp3-active, .bp3-button-group.bp3-minimal .bp3-button.bp3-disabled:hover.bp3-active{
        background:rgba(115, 134, 148, 0.3); }
    .bp3-dark .bp3-button-group.bp3-minimal .bp3-button{
      background:none;
      -webkit-box-shadow:none;
              box-shadow:none;
      color:inherit; }
      .bp3-dark .bp3-button-group.bp3-minimal .bp3-button:hover, .bp3-dark .bp3-button-group.bp3-minimal .bp3-button:active, .bp3-dark .bp3-button-group.bp3-minimal .bp3-button.bp3-active{
        background:none;
        -webkit-box-shadow:none;
                box-shadow:none; }
      .bp3-dark .bp3-button-group.bp3-minimal .bp3-button:hover{
        background:rgba(138, 155, 168, 0.15); }
      .bp3-dark .bp3-button-group.bp3-minimal .bp3-button:active, .bp3-dark .bp3-button-group.bp3-minimal .bp3-button.bp3-active{
        background:rgba(138, 155, 168, 0.3);
        color:#f5f8fa; }
      .bp3-dark .bp3-button-group.bp3-minimal .bp3-button:disabled, .bp3-dark .bp3-button-group.bp3-minimal .bp3-button:disabled:hover, .bp3-dark .bp3-button-group.bp3-minimal .bp3-button.bp3-disabled, .bp3-dark .bp3-button-group.bp3-minimal .bp3-button.bp3-disabled:hover{
        background:none;
        color:rgba(167, 182, 194, 0.6);
        cursor:not-allowed; }
        .bp3-dark .bp3-button-group.bp3-minimal .bp3-button:disabled.bp3-active, .bp3-dark .bp3-button-group.bp3-minimal .bp3-button:disabled:hover.bp3-active, .bp3-dark .bp3-button-group.bp3-minimal .bp3-button.bp3-disabled.bp3-active, .bp3-dark .bp3-button-group.bp3-minimal .bp3-button.bp3-disabled:hover.bp3-active{
          background:rgba(138, 155, 168, 0.3); }
    .bp3-button-group.bp3-minimal .bp3-button.bp3-intent-primary{
      color:#106ba3; }
      .bp3-button-group.bp3-minimal .bp3-button.bp3-intent-primary:hover, .bp3-button-group.bp3-minimal .bp3-button.bp3-intent-primary:active, .bp3-button-group.bp3-minimal .bp3-button.bp3-intent-primary.bp3-active{
        background:none;
        -webkit-box-shadow:none;
                box-shadow:none;
        color:#106ba3; }
      .bp3-button-group.bp3-minimal .bp3-button.bp3-intent-primary:hover{
        background:rgba(19, 124, 189, 0.15);
        color:#106ba3; }
      .bp3-button-group.bp3-minimal .bp3-button.bp3-intent-primary:active, .bp3-button-group.bp3-minimal .bp3-button.bp3-intent-primary.bp3-active{
        background:rgba(19, 124, 189, 0.3);
        color:#106ba3; }
      .bp3-button-group.bp3-minimal .bp3-button.bp3-intent-primary:disabled, .bp3-button-group.bp3-minimal .bp3-button.bp3-intent-primary.bp3-disabled{
        background:none;
        color:rgba(16, 107, 163, 0.5); }
        .bp3-button-group.bp3-minimal .bp3-button.bp3-intent-primary:disabled.bp3-active, .bp3-button-group.bp3-minimal .bp3-button.bp3-intent-primary.bp3-disabled.bp3-active{
          background:rgba(19, 124, 189, 0.3); }
      .bp3-button-group.bp3-minimal .bp3-button.bp3-intent-primary .bp3-button-spinner .bp3-spinner-head{
        stroke:#106ba3; }
      .bp3-dark .bp3-button-group.bp3-minimal .bp3-button.bp3-intent-primary{
        color:#48aff0; }
        .bp3-dark .bp3-button-group.bp3-minimal .bp3-button.bp3-intent-primary:hover{
          background:rgba(19, 124, 189, 0.2);
          color:#48aff0; }
        .bp3-dark .bp3-button-group.bp3-minimal .bp3-button.bp3-intent-primary:active, .bp3-dark .bp3-button-group.bp3-minimal .bp3-button.bp3-intent-primary.bp3-active{
          background:rgba(19, 124, 189, 0.3);
          color:#48aff0; }
        .bp3-dark .bp3-button-group.bp3-minimal .bp3-button.bp3-intent-primary:disabled, .bp3-dark .bp3-button-group.bp3-minimal .bp3-button.bp3-intent-primary.bp3-disabled{
          background:none;
          color:rgba(72, 175, 240, 0.5); }
          .bp3-dark .bp3-button-group.bp3-minimal .bp3-button.bp3-intent-primary:disabled.bp3-active, .bp3-dark .bp3-button-group.bp3-minimal .bp3-button.bp3-intent-primary.bp3-disabled.bp3-active{
            background:rgba(19, 124, 189, 0.3); }
    .bp3-button-group.bp3-minimal .bp3-button.bp3-intent-success{
      color:#0d8050; }
      .bp3-button-group.bp3-minimal .bp3-button.bp3-intent-success:hover, .bp3-button-group.bp3-minimal .bp3-button.bp3-intent-success:active, .bp3-button-group.bp3-minimal .bp3-button.bp3-intent-success.bp3-active{
        background:none;
        -webkit-box-shadow:none;
                box-shadow:none;
        color:#0d8050; }
      .bp3-button-group.bp3-minimal .bp3-button.bp3-intent-success:hover{
        background:rgba(15, 153, 96, 0.15);
        color:#0d8050; }
      .bp3-button-group.bp3-minimal .bp3-button.bp3-intent-success:active, .bp3-button-group.bp3-minimal .bp3-button.bp3-intent-success.bp3-active{
        background:rgba(15, 153, 96, 0.3);
        color:#0d8050; }
      .bp3-button-group.bp3-minimal .bp3-button.bp3-intent-success:disabled, .bp3-button-group.bp3-minimal .bp3-button.bp3-intent-success.bp3-disabled{
        background:none;
        color:rgba(13, 128, 80, 0.5); }
        .bp3-button-group.bp3-minimal .bp3-button.bp3-intent-success:disabled.bp3-active, .bp3-button-group.bp3-minimal .bp3-button.bp3-intent-success.bp3-disabled.bp3-active{
          background:rgba(15, 153, 96, 0.3); }
      .bp3-button-group.bp3-minimal .bp3-button.bp3-intent-success .bp3-button-spinner .bp3-spinner-head{
        stroke:#0d8050; }
      .bp3-dark .bp3-button-group.bp3-minimal .bp3-button.bp3-intent-success{
        color:#3dcc91; }
        .bp3-dark .bp3-button-group.bp3-minimal .bp3-button.bp3-intent-success:hover{
          background:rgba(15, 153, 96, 0.2);
          color:#3dcc91; }
        .bp3-dark .bp3-button-group.bp3-minimal .bp3-button.bp3-intent-success:active, .bp3-dark .bp3-button-group.bp3-minimal .bp3-button.bp3-intent-success.bp3-active{
          background:rgba(15, 153, 96, 0.3);
          color:#3dcc91; }
        .bp3-dark .bp3-button-group.bp3-minimal .bp3-button.bp3-intent-success:disabled, .bp3-dark .bp3-button-group.bp3-minimal .bp3-button.bp3-intent-success.bp3-disabled{
          background:none;
          color:rgba(61, 204, 145, 0.5); }
          .bp3-dark .bp3-button-group.bp3-minimal .bp3-button.bp3-intent-success:disabled.bp3-active, .bp3-dark .bp3-button-group.bp3-minimal .bp3-button.bp3-intent-success.bp3-disabled.bp3-active{
            background:rgba(15, 153, 96, 0.3); }
    .bp3-button-group.bp3-minimal .bp3-button.bp3-intent-warning{
      color:#bf7326; }
      .bp3-button-group.bp3-minimal .bp3-button.bp3-intent-warning:hover, .bp3-button-group.bp3-minimal .bp3-button.bp3-intent-warning:active, .bp3-button-group.bp3-minimal .bp3-button.bp3-intent-warning.bp3-active{
        background:none;
        -webkit-box-shadow:none;
                box-shadow:none;
        color:#bf7326; }
      .bp3-button-group.bp3-minimal .bp3-button.bp3-intent-warning:hover{
        background:rgba(217, 130, 43, 0.15);
        color:#bf7326; }
      .bp3-button-group.bp3-minimal .bp3-button.bp3-intent-warning:active, .bp3-button-group.bp3-minimal .bp3-button.bp3-intent-warning.bp3-active{
        background:rgba(217, 130, 43, 0.3);
        color:#bf7326; }
      .bp3-button-group.bp3-minimal .bp3-button.bp3-intent-warning:disabled, .bp3-button-group.bp3-minimal .bp3-button.bp3-intent-warning.bp3-disabled{
        background:none;
        color:rgba(191, 115, 38, 0.5); }
        .bp3-button-group.bp3-minimal .bp3-button.bp3-intent-warning:disabled.bp3-active, .bp3-button-group.bp3-minimal .bp3-button.bp3-intent-warning.bp3-disabled.bp3-active{
          background:rgba(217, 130, 43, 0.3); }
      .bp3-button-group.bp3-minimal .bp3-button.bp3-intent-warning .bp3-button-spinner .bp3-spinner-head{
        stroke:#bf7326; }
      .bp3-dark .bp3-button-group.bp3-minimal .bp3-button.bp3-intent-warning{
        color:#ffb366; }
        .bp3-dark .bp3-button-group.bp3-minimal .bp3-button.bp3-intent-warning:hover{
          background:rgba(217, 130, 43, 0.2);
          color:#ffb366; }
        .bp3-dark .bp3-button-group.bp3-minimal .bp3-button.bp3-intent-warning:active, .bp3-dark .bp3-button-group.bp3-minimal .bp3-button.bp3-intent-warning.bp3-active{
          background:rgba(217, 130, 43, 0.3);
          color:#ffb366; }
        .bp3-dark .bp3-button-group.bp3-minimal .bp3-button.bp3-intent-warning:disabled, .bp3-dark .bp3-button-group.bp3-minimal .bp3-button.bp3-intent-warning.bp3-disabled{
          background:none;
          color:rgba(255, 179, 102, 0.5); }
          .bp3-dark .bp3-button-group.bp3-minimal .bp3-button.bp3-intent-warning:disabled.bp3-active, .bp3-dark .bp3-button-group.bp3-minimal .bp3-button.bp3-intent-warning.bp3-disabled.bp3-active{
            background:rgba(217, 130, 43, 0.3); }
    .bp3-button-group.bp3-minimal .bp3-button.bp3-intent-danger{
      color:#c23030; }
      .bp3-button-group.bp3-minimal .bp3-button.bp3-intent-danger:hover, .bp3-button-group.bp3-minimal .bp3-button.bp3-intent-danger:active, .bp3-button-group.bp3-minimal .bp3-button.bp3-intent-danger.bp3-active{
        background:none;
        -webkit-box-shadow:none;
                box-shadow:none;
        color:#c23030; }
      .bp3-button-group.bp3-minimal .bp3-button.bp3-intent-danger:hover{
        background:rgba(219, 55, 55, 0.15);
        color:#c23030; }
      .bp3-button-group.bp3-minimal .bp3-button.bp3-intent-danger:active, .bp3-button-group.bp3-minimal .bp3-button.bp3-intent-danger.bp3-active{
        background:rgba(219, 55, 55, 0.3);
        color:#c23030; }
      .bp3-button-group.bp3-minimal .bp3-button.bp3-intent-danger:disabled, .bp3-button-group.bp3-minimal .bp3-button.bp3-intent-danger.bp3-disabled{
        background:none;
        color:rgba(194, 48, 48, 0.5); }
        .bp3-button-group.bp3-minimal .bp3-button.bp3-intent-danger:disabled.bp3-active, .bp3-button-group.bp3-minimal .bp3-button.bp3-intent-danger.bp3-disabled.bp3-active{
          background:rgba(219, 55, 55, 0.3); }
      .bp3-button-group.bp3-minimal .bp3-button.bp3-intent-danger .bp3-button-spinner .bp3-spinner-head{
        stroke:#c23030; }
      .bp3-dark .bp3-button-group.bp3-minimal .bp3-button.bp3-intent-danger{
        color:#ff7373; }
        .bp3-dark .bp3-button-group.bp3-minimal .bp3-button.bp3-intent-danger:hover{
          background:rgba(219, 55, 55, 0.2);
          color:#ff7373; }
        .bp3-dark .bp3-button-group.bp3-minimal .bp3-button.bp3-intent-danger:active, .bp3-dark .bp3-button-group.bp3-minimal .bp3-button.bp3-intent-danger.bp3-active{
          background:rgba(219, 55, 55, 0.3);
          color:#ff7373; }
        .bp3-dark .bp3-button-group.bp3-minimal .bp3-button.bp3-intent-danger:disabled, .bp3-dark .bp3-button-group.bp3-minimal .bp3-button.bp3-intent-danger.bp3-disabled{
          background:none;
          color:rgba(255, 115, 115, 0.5); }
          .bp3-dark .bp3-button-group.bp3-minimal .bp3-button.bp3-intent-danger:disabled.bp3-active, .bp3-dark .bp3-button-group.bp3-minimal .bp3-button.bp3-intent-danger.bp3-disabled.bp3-active{
            background:rgba(219, 55, 55, 0.3); }
  .bp3-button-group .bp3-popover-wrapper,
  .bp3-button-group .bp3-popover-target{
    display:-webkit-box;
    display:-ms-flexbox;
    display:flex;
    -webkit-box-flex:1;
        -ms-flex:1 1 auto;
            flex:1 1 auto; }
  .bp3-button-group.bp3-fill{
    display:-webkit-box;
    display:-ms-flexbox;
    display:flex;
    width:100%; }
  .bp3-button-group .bp3-button.bp3-fill,
  .bp3-button-group.bp3-fill .bp3-button:not(.bp3-fixed){
    -webkit-box-flex:1;
        -ms-flex:1 1 auto;
            flex:1 1 auto; }
  .bp3-button-group.bp3-vertical{
    -webkit-box-align:stretch;
        -ms-flex-align:stretch;
            align-items:stretch;
    -webkit-box-orient:vertical;
    -webkit-box-direction:normal;
        -ms-flex-direction:column;
            flex-direction:column;
    vertical-align:top; }
    .bp3-button-group.bp3-vertical.bp3-fill{
      height:100%;
      width:unset; }
    .bp3-button-group.bp3-vertical .bp3-button{
      margin-right:0 !important;
      width:100%; }
    .bp3-button-group.bp3-vertical:not(.bp3-minimal) > .bp3-popover-wrapper:first-child .bp3-button,
    .bp3-button-group.bp3-vertical:not(.bp3-minimal) > .bp3-button:first-child{
      border-radius:3px 3px 0 0; }
    .bp3-button-group.bp3-vertical:not(.bp3-minimal) > .bp3-popover-wrapper:last-child .bp3-button,
    .bp3-button-group.bp3-vertical:not(.bp3-minimal) > .bp3-button:last-child{
      border-radius:0 0 3px 3px; }
    .bp3-button-group.bp3-vertical:not(.bp3-minimal) > .bp3-popover-wrapper:not(:last-child) .bp3-button,
    .bp3-button-group.bp3-vertical:not(.bp3-minimal) > .bp3-button:not(:last-child){
      margin-bottom:-1px; }
  .bp3-button-group.bp3-align-left .bp3-button{
    text-align:left; }
  .bp3-dark .bp3-button-group:not(.bp3-minimal) > .bp3-popover-wrapper:not(:last-child) .bp3-button,
  .bp3-dark .bp3-button-group:not(.bp3-minimal) > .bp3-button:not(:last-child){
    margin-right:1px; }
  .bp3-dark .bp3-button-group.bp3-vertical > .bp3-popover-wrapper:not(:last-child) .bp3-button,
  .bp3-dark .bp3-button-group.bp3-vertical > .bp3-button:not(:last-child){
    margin-bottom:1px; }
.bp3-callout{
  font-size:14px;
  line-height:1.5;
  background-color:rgba(138, 155, 168, 0.15);
  border-radius:3px;
  padding:10px 12px 9px;
  position:relative;
  width:100%; }
  .bp3-callout[class*="bp3-icon-"]{
    padding-left:40px; }
    .bp3-callout[class*="bp3-icon-"]::before{
      font-family:"Icons20", sans-serif;
      font-size:20px;
      font-style:normal;
      font-weight:400;
      line-height:1;
      -moz-osx-font-smoothing:grayscale;
      -webkit-font-smoothing:antialiased;
      color:#5c7080;
      left:10px;
      position:absolute;
      top:10px; }
  .bp3-callout.bp3-callout-icon{
    padding-left:40px; }
    .bp3-callout.bp3-callout-icon > .bp3-icon:first-child{
      color:#5c7080;
      left:10px;
      position:absolute;
      top:10px; }
  .bp3-callout .bp3-heading{
    line-height:20px;
    margin-bottom:5px;
    margin-top:0; }
    .bp3-callout .bp3-heading:last-child{
      margin-bottom:0; }
  .bp3-dark .bp3-callout{
    background-color:rgba(138, 155, 168, 0.2); }
    .bp3-dark .bp3-callout[class*="bp3-icon-"]::before{
      color:#a7b6c2; }
  .bp3-callout.bp3-intent-primary{
    background-color:rgba(19, 124, 189, 0.15); }
    .bp3-callout.bp3-intent-primary[class*="bp3-icon-"]::before,
    .bp3-callout.bp3-intent-primary > .bp3-icon:first-child,
    .bp3-callout.bp3-intent-primary .bp3-heading{
      color:#106ba3; }
    .bp3-dark .bp3-callout.bp3-intent-primary{
      background-color:rgba(19, 124, 189, 0.25); }
      .bp3-dark .bp3-callout.bp3-intent-primary[class*="bp3-icon-"]::before,
      .bp3-dark .bp3-callout.bp3-intent-primary > .bp3-icon:first-child,
      .bp3-dark .bp3-callout.bp3-intent-primary .bp3-heading{
        color:#48aff0; }
  .bp3-callout.bp3-intent-success{
    background-color:rgba(15, 153, 96, 0.15); }
    .bp3-callout.bp3-intent-success[class*="bp3-icon-"]::before,
    .bp3-callout.bp3-intent-success > .bp3-icon:first-child,
    .bp3-callout.bp3-intent-success .bp3-heading{
      color:#0d8050; }
    .bp3-dark .bp3-callout.bp3-intent-success{
      background-color:rgba(15, 153, 96, 0.25); }
      .bp3-dark .bp3-callout.bp3-intent-success[class*="bp3-icon-"]::before,
      .bp3-dark .bp3-callout.bp3-intent-success > .bp3-icon:first-child,
      .bp3-dark .bp3-callout.bp3-intent-success .bp3-heading{
        color:#3dcc91; }
  .bp3-callout.bp3-intent-warning{
    background-color:rgba(217, 130, 43, 0.15); }
    .bp3-callout.bp3-intent-warning[class*="bp3-icon-"]::before,
    .bp3-callout.bp3-intent-warning > .bp3-icon:first-child,
    .bp3-callout.bp3-intent-warning .bp3-heading{
      color:#bf7326; }
    .bp3-dark .bp3-callout.bp3-intent-warning{
      background-color:rgba(217, 130, 43, 0.25); }
      .bp3-dark .bp3-callout.bp3-intent-warning[class*="bp3-icon-"]::before,
      .bp3-dark .bp3-callout.bp3-intent-warning > .bp3-icon:first-child,
      .bp3-dark .bp3-callout.bp3-intent-warning .bp3-heading{
        color:#ffb366; }
  .bp3-callout.bp3-intent-danger{
    background-color:rgba(219, 55, 55, 0.15); }
    .bp3-callout.bp3-intent-danger[class*="bp3-icon-"]::before,
    .bp3-callout.bp3-intent-danger > .bp3-icon:first-child,
    .bp3-callout.bp3-intent-danger .bp3-heading{
      color:#c23030; }
    .bp3-dark .bp3-callout.bp3-intent-danger{
      background-color:rgba(219, 55, 55, 0.25); }
      .bp3-dark .bp3-callout.bp3-intent-danger[class*="bp3-icon-"]::before,
      .bp3-dark .bp3-callout.bp3-intent-danger > .bp3-icon:first-child,
      .bp3-dark .bp3-callout.bp3-intent-danger .bp3-heading{
        color:#ff7373; }
  .bp3-running-text .bp3-callout{
    margin:20px 0; }
.bp3-card{
  background-color:#ffffff;
  border-radius:3px;
  -webkit-box-shadow:0 0 0 1px rgba(16, 22, 26, 0.15), 0 0 0 rgba(16, 22, 26, 0), 0 0 0 rgba(16, 22, 26, 0);
          box-shadow:0 0 0 1px rgba(16, 22, 26, 0.15), 0 0 0 rgba(16, 22, 26, 0), 0 0 0 rgba(16, 22, 26, 0);
  padding:20px;
  -webkit-transition:-webkit-transform 200ms cubic-bezier(0.4, 1, 0.75, 0.9), -webkit-box-shadow 200ms cubic-bezier(0.4, 1, 0.75, 0.9);
  transition:-webkit-transform 200ms cubic-bezier(0.4, 1, 0.75, 0.9), -webkit-box-shadow 200ms cubic-bezier(0.4, 1, 0.75, 0.9);
  transition:transform 200ms cubic-bezier(0.4, 1, 0.75, 0.9), box-shadow 200ms cubic-bezier(0.4, 1, 0.75, 0.9);
  transition:transform 200ms cubic-bezier(0.4, 1, 0.75, 0.9), box-shadow 200ms cubic-bezier(0.4, 1, 0.75, 0.9), -webkit-transform 200ms cubic-bezier(0.4, 1, 0.75, 0.9), -webkit-box-shadow 200ms cubic-bezier(0.4, 1, 0.75, 0.9); }
  .bp3-card.bp3-dark,
  .bp3-dark .bp3-card{
    background-color:#30404d;
    -webkit-box-shadow:0 0 0 1px rgba(16, 22, 26, 0.4), 0 0 0 rgba(16, 22, 26, 0), 0 0 0 rgba(16, 22, 26, 0);
            box-shadow:0 0 0 1px rgba(16, 22, 26, 0.4), 0 0 0 rgba(16, 22, 26, 0), 0 0 0 rgba(16, 22, 26, 0); }

.bp3-elevation-0{
  -webkit-box-shadow:0 0 0 1px rgba(16, 22, 26, 0.15), 0 0 0 rgba(16, 22, 26, 0), 0 0 0 rgba(16, 22, 26, 0);
          box-shadow:0 0 0 1px rgba(16, 22, 26, 0.15), 0 0 0 rgba(16, 22, 26, 0), 0 0 0 rgba(16, 22, 26, 0); }
  .bp3-elevation-0.bp3-dark,
  .bp3-dark .bp3-elevation-0{
    -webkit-box-shadow:0 0 0 1px rgba(16, 22, 26, 0.4), 0 0 0 rgba(16, 22, 26, 0), 0 0 0 rgba(16, 22, 26, 0);
            box-shadow:0 0 0 1px rgba(16, 22, 26, 0.4), 0 0 0 rgba(16, 22, 26, 0), 0 0 0 rgba(16, 22, 26, 0); }

.bp3-elevation-1{
  -webkit-box-shadow:0 0 0 1px rgba(16, 22, 26, 0.1), 0 0 0 rgba(16, 22, 26, 0), 0 1px 1px rgba(16, 22, 26, 0.2);
          box-shadow:0 0 0 1px rgba(16, 22, 26, 0.1), 0 0 0 rgba(16, 22, 26, 0), 0 1px 1px rgba(16, 22, 26, 0.2); }
  .bp3-elevation-1.bp3-dark,
  .bp3-dark .bp3-elevation-1{
    -webkit-box-shadow:0 0 0 1px rgba(16, 22, 26, 0.2), 0 0 0 rgba(16, 22, 26, 0), 0 1px 1px rgba(16, 22, 26, 0.4);
            box-shadow:0 0 0 1px rgba(16, 22, 26, 0.2), 0 0 0 rgba(16, 22, 26, 0), 0 1px 1px rgba(16, 22, 26, 0.4); }

.bp3-elevation-2{
  -webkit-box-shadow:0 0 0 1px rgba(16, 22, 26, 0.1), 0 1px 1px rgba(16, 22, 26, 0.2), 0 2px 6px rgba(16, 22, 26, 0.2);
          box-shadow:0 0 0 1px rgba(16, 22, 26, 0.1), 0 1px 1px rgba(16, 22, 26, 0.2), 0 2px 6px rgba(16, 22, 26, 0.2); }
  .bp3-elevation-2.bp3-dark,
  .bp3-dark .bp3-elevation-2{
    -webkit-box-shadow:0 0 0 1px rgba(16, 22, 26, 0.2), 0 1px 1px rgba(16, 22, 26, 0.4), 0 2px 6px rgba(16, 22, 26, 0.4);
            box-shadow:0 0 0 1px rgba(16, 22, 26, 0.2), 0 1px 1px rgba(16, 22, 26, 0.4), 0 2px 6px rgba(16, 22, 26, 0.4); }

.bp3-elevation-3{
  -webkit-box-shadow:0 0 0 1px rgba(16, 22, 26, 0.1), 0 2px 4px rgba(16, 22, 26, 0.2), 0 8px 24px rgba(16, 22, 26, 0.2);
          box-shadow:0 0 0 1px rgba(16, 22, 26, 0.1), 0 2px 4px rgba(16, 22, 26, 0.2), 0 8px 24px rgba(16, 22, 26, 0.2); }
  .bp3-elevation-3.bp3-dark,
  .bp3-dark .bp3-elevation-3{
    -webkit-box-shadow:0 0 0 1px rgba(16, 22, 26, 0.2), 0 2px 4px rgba(16, 22, 26, 0.4), 0 8px 24px rgba(16, 22, 26, 0.4);
            box-shadow:0 0 0 1px rgba(16, 22, 26, 0.2), 0 2px 4px rgba(16, 22, 26, 0.4), 0 8px 24px rgba(16, 22, 26, 0.4); }

.bp3-elevation-4{
  -webkit-box-shadow:0 0 0 1px rgba(16, 22, 26, 0.1), 0 4px 8px rgba(16, 22, 26, 0.2), 0 18px 46px 6px rgba(16, 22, 26, 0.2);
          box-shadow:0 0 0 1px rgba(16, 22, 26, 0.1), 0 4px 8px rgba(16, 22, 26, 0.2), 0 18px 46px 6px rgba(16, 22, 26, 0.2); }
  .bp3-elevation-4.bp3-dark,
  .bp3-dark .bp3-elevation-4{
    -webkit-box-shadow:0 0 0 1px rgba(16, 22, 26, 0.2), 0 4px 8px rgba(16, 22, 26, 0.4), 0 18px 46px 6px rgba(16, 22, 26, 0.4);
            box-shadow:0 0 0 1px rgba(16, 22, 26, 0.2), 0 4px 8px rgba(16, 22, 26, 0.4), 0 18px 46px 6px rgba(16, 22, 26, 0.4); }

.bp3-card.bp3-interactive:hover{
  -webkit-box-shadow:0 0 0 1px rgba(16, 22, 26, 0.1), 0 2px 4px rgba(16, 22, 26, 0.2), 0 8px 24px rgba(16, 22, 26, 0.2);
          box-shadow:0 0 0 1px rgba(16, 22, 26, 0.1), 0 2px 4px rgba(16, 22, 26, 0.2), 0 8px 24px rgba(16, 22, 26, 0.2);
  cursor:pointer; }
  .bp3-card.bp3-interactive:hover.bp3-dark,
  .bp3-dark .bp3-card.bp3-interactive:hover{
    -webkit-box-shadow:0 0 0 1px rgba(16, 22, 26, 0.2), 0 2px 4px rgba(16, 22, 26, 0.4), 0 8px 24px rgba(16, 22, 26, 0.4);
            box-shadow:0 0 0 1px rgba(16, 22, 26, 0.2), 0 2px 4px rgba(16, 22, 26, 0.4), 0 8px 24px rgba(16, 22, 26, 0.4); }

.bp3-card.bp3-interactive:active{
  -webkit-box-shadow:0 0 0 1px rgba(16, 22, 26, 0.1), 0 0 0 rgba(16, 22, 26, 0), 0 1px 1px rgba(16, 22, 26, 0.2);
          box-shadow:0 0 0 1px rgba(16, 22, 26, 0.1), 0 0 0 rgba(16, 22, 26, 0), 0 1px 1px rgba(16, 22, 26, 0.2);
  opacity:0.9;
  -webkit-transition-duration:0;
          transition-duration:0; }
  .bp3-card.bp3-interactive:active.bp3-dark,
  .bp3-dark .bp3-card.bp3-interactive:active{
    -webkit-box-shadow:0 0 0 1px rgba(16, 22, 26, 0.2), 0 0 0 rgba(16, 22, 26, 0), 0 1px 1px rgba(16, 22, 26, 0.4);
            box-shadow:0 0 0 1px rgba(16, 22, 26, 0.2), 0 0 0 rgba(16, 22, 26, 0), 0 1px 1px rgba(16, 22, 26, 0.4); }

.bp3-collapse{
  height:0;
  overflow-y:hidden;
  -webkit-transition:height 200ms cubic-bezier(0.4, 1, 0.75, 0.9);
  transition:height 200ms cubic-bezier(0.4, 1, 0.75, 0.9); }
  .bp3-collapse .bp3-collapse-body{
    -webkit-transition:-webkit-transform 200ms cubic-bezier(0.4, 1, 0.75, 0.9);
    transition:-webkit-transform 200ms cubic-bezier(0.4, 1, 0.75, 0.9);
    transition:transform 200ms cubic-bezier(0.4, 1, 0.75, 0.9);
    transition:transform 200ms cubic-bezier(0.4, 1, 0.75, 0.9), -webkit-transform 200ms cubic-bezier(0.4, 1, 0.75, 0.9); }
    .bp3-collapse .bp3-collapse-body[aria-hidden="true"]{
      display:none; }

.bp3-context-menu .bp3-popover-target{
  display:block; }

.bp3-context-menu-popover-target{
  position:fixed; }

.bp3-divider{
  border-bottom:1px solid rgba(16, 22, 26, 0.15);
  border-right:1px solid rgba(16, 22, 26, 0.15);
  margin:5px; }
  .bp3-dark .bp3-divider{
    border-color:rgba(16, 22, 26, 0.4); }
.bp3-dialog-container{
  opacity:1;
  -webkit-transform:scale(1);
          transform:scale(1);
  -webkit-box-align:center;
      -ms-flex-align:center;
          align-items:center;
  display:-webkit-box;
  display:-ms-flexbox;
  display:flex;
  -webkit-box-pack:center;
      -ms-flex-pack:center;
          justify-content:center;
  min-height:100%;
  pointer-events:none;
  -webkit-user-select:none;
     -moz-user-select:none;
      -ms-user-select:none;
          user-select:none;
  width:100%; }
  .bp3-dialog-container.bp3-overlay-enter > .bp3-dialog, .bp3-dialog-container.bp3-overlay-appear > .bp3-dialog{
    opacity:0;
    -webkit-transform:scale(0.5);
            transform:scale(0.5); }
  .bp3-dialog-container.bp3-overlay-enter-active > .bp3-dialog, .bp3-dialog-container.bp3-overlay-appear-active > .bp3-dialog{
    opacity:1;
    -webkit-transform:scale(1);
            transform:scale(1);
    -webkit-transition-delay:0;
            transition-delay:0;
    -webkit-transition-duration:300ms;
            transition-duration:300ms;
    -webkit-transition-property:opacity, -webkit-transform;
    transition-property:opacity, -webkit-transform;
    transition-property:opacity, transform;
    transition-property:opacity, transform, -webkit-transform;
    -webkit-transition-timing-function:cubic-bezier(0.54, 1.12, 0.38, 1.11);
            transition-timing-function:cubic-bezier(0.54, 1.12, 0.38, 1.11); }
  .bp3-dialog-container.bp3-overlay-exit > .bp3-dialog{
    opacity:1;
    -webkit-transform:scale(1);
            transform:scale(1); }
  .bp3-dialog-container.bp3-overlay-exit-active > .bp3-dialog{
    opacity:0;
    -webkit-transform:scale(0.5);
            transform:scale(0.5);
    -webkit-transition-delay:0;
            transition-delay:0;
    -webkit-transition-duration:300ms;
            transition-duration:300ms;
    -webkit-transition-property:opacity, -webkit-transform;
    transition-property:opacity, -webkit-transform;
    transition-property:opacity, transform;
    transition-property:opacity, transform, -webkit-transform;
    -webkit-transition-timing-function:cubic-bezier(0.54, 1.12, 0.38, 1.11);
            transition-timing-function:cubic-bezier(0.54, 1.12, 0.38, 1.11); }

.bp3-dialog{
  background:#ebf1f5;
  border-radius:6px;
  -webkit-box-shadow:0 0 0 1px rgba(16, 22, 26, 0.1), 0 4px 8px rgba(16, 22, 26, 0.2), 0 18px 46px 6px rgba(16, 22, 26, 0.2);
          box-shadow:0 0 0 1px rgba(16, 22, 26, 0.1), 0 4px 8px rgba(16, 22, 26, 0.2), 0 18px 46px 6px rgba(16, 22, 26, 0.2);
  display:-webkit-box;
  display:-ms-flexbox;
  display:flex;
  -webkit-box-orient:vertical;
  -webkit-box-direction:normal;
      -ms-flex-direction:column;
          flex-direction:column;
  margin:30px 0;
  padding-bottom:20px;
  pointer-events:all;
  -webkit-user-select:text;
     -moz-user-select:text;
      -ms-user-select:text;
          user-select:text;
  width:500px; }
  .bp3-dialog:focus{
    outline:0; }
  .bp3-dialog.bp3-dark,
  .bp3-dark .bp3-dialog{
    background:#293742;
    -webkit-box-shadow:0 0 0 1px rgba(16, 22, 26, 0.2), 0 4px 8px rgba(16, 22, 26, 0.4), 0 18px 46px 6px rgba(16, 22, 26, 0.4);
            box-shadow:0 0 0 1px rgba(16, 22, 26, 0.2), 0 4px 8px rgba(16, 22, 26, 0.4), 0 18px 46px 6px rgba(16, 22, 26, 0.4);
    color:#f5f8fa; }

.bp3-dialog-header{
  -webkit-box-align:center;
      -ms-flex-align:center;
          align-items:center;
  background:#ffffff;
  border-radius:6px 6px 0 0;
  -webkit-box-shadow:0 1px 0 rgba(16, 22, 26, 0.15);
          box-shadow:0 1px 0 rgba(16, 22, 26, 0.15);
  display:-webkit-box;
  display:-ms-flexbox;
  display:flex;
  -webkit-box-flex:0;
      -ms-flex:0 0 auto;
          flex:0 0 auto;
  min-height:40px;
  padding-left:20px;
  padding-right:5px; }
  .bp3-dialog-header .bp3-icon-large,
  .bp3-dialog-header .bp3-icon{
    color:#5c7080;
    -webkit-box-flex:0;
        -ms-flex:0 0 auto;
            flex:0 0 auto;
    margin-right:10px; }
  .bp3-dialog-header .bp3-heading{
    overflow:hidden;
    text-overflow:ellipsis;
    white-space:nowrap;
    word-wrap:normal;
    -webkit-box-flex:1;
        -ms-flex:1 1 auto;
            flex:1 1 auto;
    line-height:inherit;
    margin:0; }
    .bp3-dialog-header .bp3-heading:last-child{
      margin-right:20px; }
  .bp3-dark .bp3-dialog-header{
    background:#30404d;
    -webkit-box-shadow:0 1px 0 rgba(16, 22, 26, 0.4);
            box-shadow:0 1px 0 rgba(16, 22, 26, 0.4); }
    .bp3-dark .bp3-dialog-header .bp3-icon-large,
    .bp3-dark .bp3-dialog-header .bp3-icon{
      color:#a7b6c2; }

.bp3-dialog-body{
  -webkit-box-flex:1;
      -ms-flex:1 1 auto;
          flex:1 1 auto;
  line-height:18px;
  margin:20px; }

.bp3-dialog-footer{
  -webkit-box-flex:0;
      -ms-flex:0 0 auto;
          flex:0 0 auto;
  margin:0 20px; }

.bp3-dialog-footer-actions{
  display:-webkit-box;
  display:-ms-flexbox;
  display:flex;
  -webkit-box-pack:end;
      -ms-flex-pack:end;
          justify-content:flex-end; }
  .bp3-dialog-footer-actions .bp3-button{
    margin-left:10px; }
.bp3-drawer{
  background:#ffffff;
  -webkit-box-shadow:0 0 0 1px rgba(16, 22, 26, 0.1), 0 4px 8px rgba(16, 22, 26, 0.2), 0 18px 46px 6px rgba(16, 22, 26, 0.2);
          box-shadow:0 0 0 1px rgba(16, 22, 26, 0.1), 0 4px 8px rgba(16, 22, 26, 0.2), 0 18px 46px 6px rgba(16, 22, 26, 0.2);
  display:-webkit-box;
  display:-ms-flexbox;
  display:flex;
  -webkit-box-orient:vertical;
  -webkit-box-direction:normal;
      -ms-flex-direction:column;
          flex-direction:column;
  margin:0;
  padding:0; }
  .bp3-drawer:focus{
    outline:0; }
  .bp3-drawer.bp3-position-top{
    height:50%;
    left:0;
    right:0;
    top:0; }
    .bp3-drawer.bp3-position-top.bp3-overlay-enter, .bp3-drawer.bp3-position-top.bp3-overlay-appear{
      -webkit-transform:translateY(-100%);
              transform:translateY(-100%); }
    .bp3-drawer.bp3-position-top.bp3-overlay-enter-active, .bp3-drawer.bp3-position-top.bp3-overlay-appear-active{
      -webkit-transform:translateY(0);
              transform:translateY(0);
      -webkit-transition-delay:0;
              transition-delay:0;
      -webkit-transition-duration:200ms;
              transition-duration:200ms;
      -webkit-transition-property:-webkit-transform;
      transition-property:-webkit-transform;
      transition-property:transform;
      transition-property:transform, -webkit-transform;
      -webkit-transition-timing-function:cubic-bezier(0.4, 1, 0.75, 0.9);
              transition-timing-function:cubic-bezier(0.4, 1, 0.75, 0.9); }
    .bp3-drawer.bp3-position-top.bp3-overlay-exit{
      -webkit-transform:translateY(0);
              transform:translateY(0); }
    .bp3-drawer.bp3-position-top.bp3-overlay-exit-active{
      -webkit-transform:translateY(-100%);
              transform:translateY(-100%);
      -webkit-transition-delay:0;
              transition-delay:0;
      -webkit-transition-duration:100ms;
              transition-duration:100ms;
      -webkit-transition-property:-webkit-transform;
      transition-property:-webkit-transform;
      transition-property:transform;
      transition-property:transform, -webkit-transform;
      -webkit-transition-timing-function:cubic-bezier(0.4, 1, 0.75, 0.9);
              transition-timing-function:cubic-bezier(0.4, 1, 0.75, 0.9); }
  .bp3-drawer.bp3-position-bottom{
    bottom:0;
    height:50%;
    left:0;
    right:0; }
    .bp3-drawer.bp3-position-bottom.bp3-overlay-enter, .bp3-drawer.bp3-position-bottom.bp3-overlay-appear{
      -webkit-transform:translateY(100%);
              transform:translateY(100%); }
    .bp3-drawer.bp3-position-bottom.bp3-overlay-enter-active, .bp3-drawer.bp3-position-bottom.bp3-overlay-appear-active{
      -webkit-transform:translateY(0);
              transform:translateY(0);
      -webkit-transition-delay:0;
              transition-delay:0;
      -webkit-transition-duration:200ms;
              transition-duration:200ms;
      -webkit-transition-property:-webkit-transform;
      transition-property:-webkit-transform;
      transition-property:transform;
      transition-property:transform, -webkit-transform;
      -webkit-transition-timing-function:cubic-bezier(0.4, 1, 0.75, 0.9);
              transition-timing-function:cubic-bezier(0.4, 1, 0.75, 0.9); }
    .bp3-drawer.bp3-position-bottom.bp3-overlay-exit{
      -webkit-transform:translateY(0);
              transform:translateY(0); }
    .bp3-drawer.bp3-position-bottom.bp3-overlay-exit-active{
      -webkit-transform:translateY(100%);
              transform:translateY(100%);
      -webkit-transition-delay:0;
              transition-delay:0;
      -webkit-transition-duration:100ms;
              transition-duration:100ms;
      -webkit-transition-property:-webkit-transform;
      transition-property:-webkit-transform;
      transition-property:transform;
      transition-property:transform, -webkit-transform;
      -webkit-transition-timing-function:cubic-bezier(0.4, 1, 0.75, 0.9);
              transition-timing-function:cubic-bezier(0.4, 1, 0.75, 0.9); }
  .bp3-drawer.bp3-position-left{
    bottom:0;
    left:0;
    top:0;
    width:50%; }
    .bp3-drawer.bp3-position-left.bp3-overlay-enter, .bp3-drawer.bp3-position-left.bp3-overlay-appear{
      -webkit-transform:translateX(-100%);
              transform:translateX(-100%); }
    .bp3-drawer.bp3-position-left.bp3-overlay-enter-active, .bp3-drawer.bp3-position-left.bp3-overlay-appear-active{
      -webkit-transform:translateX(0);
              transform:translateX(0);
      -webkit-transition-delay:0;
              transition-delay:0;
      -webkit-transition-duration:200ms;
              transition-duration:200ms;
      -webkit-transition-property:-webkit-transform;
      transition-property:-webkit-transform;
      transition-property:transform;
      transition-property:transform, -webkit-transform;
      -webkit-transition-timing-function:cubic-bezier(0.4, 1, 0.75, 0.9);
              transition-timing-function:cubic-bezier(0.4, 1, 0.75, 0.9); }
    .bp3-drawer.bp3-position-left.bp3-overlay-exit{
      -webkit-transform:translateX(0);
              transform:translateX(0); }
    .bp3-drawer.bp3-position-left.bp3-overlay-exit-active{
      -webkit-transform:translateX(-100%);
              transform:translateX(-100%);
      -webkit-transition-delay:0;
              transition-delay:0;
      -webkit-transition-duration:100ms;
              transition-duration:100ms;
      -webkit-transition-property:-webkit-transform;
      transition-property:-webkit-transform;
      transition-property:transform;
      transition-property:transform, -webkit-transform;
      -webkit-transition-timing-function:cubic-bezier(0.4, 1, 0.75, 0.9);
              transition-timing-function:cubic-bezier(0.4, 1, 0.75, 0.9); }
  .bp3-drawer.bp3-position-right{
    bottom:0;
    right:0;
    top:0;
    width:50%; }
    .bp3-drawer.bp3-position-right.bp3-overlay-enter, .bp3-drawer.bp3-position-right.bp3-overlay-appear{
      -webkit-transform:translateX(100%);
              transform:translateX(100%); }
    .bp3-drawer.bp3-position-right.bp3-overlay-enter-active, .bp3-drawer.bp3-position-right.bp3-overlay-appear-active{
      -webkit-transform:translateX(0);
              transform:translateX(0);
      -webkit-transition-delay:0;
              transition-delay:0;
      -webkit-transition-duration:200ms;
              transition-duration:200ms;
      -webkit-transition-property:-webkit-transform;
      transition-property:-webkit-transform;
      transition-property:transform;
      transition-property:transform, -webkit-transform;
      -webkit-transition-timing-function:cubic-bezier(0.4, 1, 0.75, 0.9);
              transition-timing-function:cubic-bezier(0.4, 1, 0.75, 0.9); }
    .bp3-drawer.bp3-position-right.bp3-overlay-exit{
      -webkit-transform:translateX(0);
              transform:translateX(0); }
    .bp3-drawer.bp3-position-right.bp3-overlay-exit-active{
      -webkit-transform:translateX(100%);
              transform:translateX(100%);
      -webkit-transition-delay:0;
              transition-delay:0;
      -webkit-transition-duration:100ms;
              transition-duration:100ms;
      -webkit-transition-property:-webkit-transform;
      transition-property:-webkit-transform;
      transition-property:transform;
      transition-property:transform, -webkit-transform;
      -webkit-transition-timing-function:cubic-bezier(0.4, 1, 0.75, 0.9);
              transition-timing-function:cubic-bezier(0.4, 1, 0.75, 0.9); }
  .bp3-drawer:not(.bp3-position-top):not(.bp3-position-bottom):not(.bp3-position-left):not(
  .bp3-position-right):not(.bp3-vertical){
    bottom:0;
    right:0;
    top:0;
    width:50%; }
    .bp3-drawer:not(.bp3-position-top):not(.bp3-position-bottom):not(.bp3-position-left):not(
    .bp3-position-right):not(.bp3-vertical).bp3-overlay-enter, .bp3-drawer:not(.bp3-position-top):not(.bp3-position-bottom):not(.bp3-position-left):not(
    .bp3-position-right):not(.bp3-vertical).bp3-overlay-appear{
      -webkit-transform:translateX(100%);
              transform:translateX(100%); }
    .bp3-drawer:not(.bp3-position-top):not(.bp3-position-bottom):not(.bp3-position-left):not(
    .bp3-position-right):not(.bp3-vertical).bp3-overlay-enter-active, .bp3-drawer:not(.bp3-position-top):not(.bp3-position-bottom):not(.bp3-position-left):not(
    .bp3-position-right):not(.bp3-vertical).bp3-overlay-appear-active{
      -webkit-transform:translateX(0);
              transform:translateX(0);
      -webkit-transition-delay:0;
              transition-delay:0;
      -webkit-transition-duration:200ms;
              transition-duration:200ms;
      -webkit-transition-property:-webkit-transform;
      transition-property:-webkit-transform;
      transition-property:transform;
      transition-property:transform, -webkit-transform;
      -webkit-transition-timing-function:cubic-bezier(0.4, 1, 0.75, 0.9);
              transition-timing-function:cubic-bezier(0.4, 1, 0.75, 0.9); }
    .bp3-drawer:not(.bp3-position-top):not(.bp3-position-bottom):not(.bp3-position-left):not(
    .bp3-position-right):not(.bp3-vertical).bp3-overlay-exit{
      -webkit-transform:translateX(0);
              transform:translateX(0); }
    .bp3-drawer:not(.bp3-position-top):not(.bp3-position-bottom):not(.bp3-position-left):not(
    .bp3-position-right):not(.bp3-vertical).bp3-overlay-exit-active{
      -webkit-transform:translateX(100%);
              transform:translateX(100%);
      -webkit-transition-delay:0;
              transition-delay:0;
      -webkit-transition-duration:100ms;
              transition-duration:100ms;
      -webkit-transition-property:-webkit-transform;
      transition-property:-webkit-transform;
      transition-property:transform;
      transition-property:transform, -webkit-transform;
      -webkit-transition-timing-function:cubic-bezier(0.4, 1, 0.75, 0.9);
              transition-timing-function:cubic-bezier(0.4, 1, 0.75, 0.9); }
  .bp3-drawer:not(.bp3-position-top):not(.bp3-position-bottom):not(.bp3-position-left):not(
  .bp3-position-right).bp3-vertical{
    bottom:0;
    height:50%;
    left:0;
    right:0; }
    .bp3-drawer:not(.bp3-position-top):not(.bp3-position-bottom):not(.bp3-position-left):not(
    .bp3-position-right).bp3-vertical.bp3-overlay-enter, .bp3-drawer:not(.bp3-position-top):not(.bp3-position-bottom):not(.bp3-position-left):not(
    .bp3-position-right).bp3-vertical.bp3-overlay-appear{
      -webkit-transform:translateY(100%);
              transform:translateY(100%); }
    .bp3-drawer:not(.bp3-position-top):not(.bp3-position-bottom):not(.bp3-position-left):not(
    .bp3-position-right).bp3-vertical.bp3-overlay-enter-active, .bp3-drawer:not(.bp3-position-top):not(.bp3-position-bottom):not(.bp3-position-left):not(
    .bp3-position-right).bp3-vertical.bp3-overlay-appear-active{
      -webkit-transform:translateY(0);
              transform:translateY(0);
      -webkit-transition-delay:0;
              transition-delay:0;
      -webkit-transition-duration:200ms;
              transition-duration:200ms;
      -webkit-transition-property:-webkit-transform;
      transition-property:-webkit-transform;
      transition-property:transform;
      transition-property:transform, -webkit-transform;
      -webkit-transition-timing-function:cubic-bezier(0.4, 1, 0.75, 0.9);
              transition-timing-function:cubic-bezier(0.4, 1, 0.75, 0.9); }
    .bp3-drawer:not(.bp3-position-top):not(.bp3-position-bottom):not(.bp3-position-left):not(
    .bp3-position-right).bp3-vertical.bp3-overlay-exit{
      -webkit-transform:translateY(0);
              transform:translateY(0); }
    .bp3-drawer:not(.bp3-position-top):not(.bp3-position-bottom):not(.bp3-position-left):not(
    .bp3-position-right).bp3-vertical.bp3-overlay-exit-active{
      -webkit-transform:translateY(100%);
              transform:translateY(100%);
      -webkit-transition-delay:0;
              transition-delay:0;
      -webkit-transition-duration:100ms;
              transition-duration:100ms;
      -webkit-transition-property:-webkit-transform;
      transition-property:-webkit-transform;
      transition-property:transform;
      transition-property:transform, -webkit-transform;
      -webkit-transition-timing-function:cubic-bezier(0.4, 1, 0.75, 0.9);
              transition-timing-function:cubic-bezier(0.4, 1, 0.75, 0.9); }
  .bp3-drawer.bp3-dark,
  .bp3-dark .bp3-drawer{
    background:#30404d;
    -webkit-box-shadow:0 0 0 1px rgba(16, 22, 26, 0.2), 0 4px 8px rgba(16, 22, 26, 0.4), 0 18px 46px 6px rgba(16, 22, 26, 0.4);
            box-shadow:0 0 0 1px rgba(16, 22, 26, 0.2), 0 4px 8px rgba(16, 22, 26, 0.4), 0 18px 46px 6px rgba(16, 22, 26, 0.4);
    color:#f5f8fa; }

.bp3-drawer-header{
  -webkit-box-align:center;
      -ms-flex-align:center;
          align-items:center;
  border-radius:0;
  -webkit-box-shadow:0 1px 0 rgba(16, 22, 26, 0.15);
          box-shadow:0 1px 0 rgba(16, 22, 26, 0.15);
  display:-webkit-box;
  display:-ms-flexbox;
  display:flex;
  -webkit-box-flex:0;
      -ms-flex:0 0 auto;
          flex:0 0 auto;
  min-height:40px;
  padding:5px;
  padding-left:20px;
  position:relative; }
  .bp3-drawer-header .bp3-icon-large,
  .bp3-drawer-header .bp3-icon{
    color:#5c7080;
    -webkit-box-flex:0;
        -ms-flex:0 0 auto;
            flex:0 0 auto;
    margin-right:10px; }
  .bp3-drawer-header .bp3-heading{
    overflow:hidden;
    text-overflow:ellipsis;
    white-space:nowrap;
    word-wrap:normal;
    -webkit-box-flex:1;
        -ms-flex:1 1 auto;
            flex:1 1 auto;
    line-height:inherit;
    margin:0; }
    .bp3-drawer-header .bp3-heading:last-child{
      margin-right:20px; }
  .bp3-dark .bp3-drawer-header{
    -webkit-box-shadow:0 1px 0 rgba(16, 22, 26, 0.4);
            box-shadow:0 1px 0 rgba(16, 22, 26, 0.4); }
    .bp3-dark .bp3-drawer-header .bp3-icon-large,
    .bp3-dark .bp3-drawer-header .bp3-icon{
      color:#a7b6c2; }

.bp3-drawer-body{
  -webkit-box-flex:1;
      -ms-flex:1 1 auto;
          flex:1 1 auto;
  line-height:18px;
  overflow:auto; }

.bp3-drawer-footer{
  -webkit-box-shadow:inset 0 1px 0 rgba(16, 22, 26, 0.15);
          box-shadow:inset 0 1px 0 rgba(16, 22, 26, 0.15);
  -webkit-box-flex:0;
      -ms-flex:0 0 auto;
          flex:0 0 auto;
  padding:10px 20px;
  position:relative; }
  .bp3-dark .bp3-drawer-footer{
    -webkit-box-shadow:inset 0 1px 0 rgba(16, 22, 26, 0.4);
            box-shadow:inset 0 1px 0 rgba(16, 22, 26, 0.4); }
.bp3-editable-text{
  cursor:text;
  display:inline-block;
  max-width:100%;
  position:relative;
  vertical-align:top;
  white-space:nowrap; }
  .bp3-editable-text::before{
    bottom:-3px;
    left:-3px;
    position:absolute;
    right:-3px;
    top:-3px;
    border-radius:3px;
    content:"";
    -webkit-transition:background-color 100ms cubic-bezier(0.4, 1, 0.75, 0.9), -webkit-box-shadow 100ms cubic-bezier(0.4, 1, 0.75, 0.9);
    transition:background-color 100ms cubic-bezier(0.4, 1, 0.75, 0.9), -webkit-box-shadow 100ms cubic-bezier(0.4, 1, 0.75, 0.9);
    transition:background-color 100ms cubic-bezier(0.4, 1, 0.75, 0.9), box-shadow 100ms cubic-bezier(0.4, 1, 0.75, 0.9);
    transition:background-color 100ms cubic-bezier(0.4, 1, 0.75, 0.9), box-shadow 100ms cubic-bezier(0.4, 1, 0.75, 0.9), -webkit-box-shadow 100ms cubic-bezier(0.4, 1, 0.75, 0.9); }
  .bp3-editable-text:hover::before{
    -webkit-box-shadow:0 0 0 0 rgba(19, 124, 189, 0), 0 0 0 0 rgba(19, 124, 189, 0), inset 0 0 0 1px rgba(16, 22, 26, 0.15);
            box-shadow:0 0 0 0 rgba(19, 124, 189, 0), 0 0 0 0 rgba(19, 124, 189, 0), inset 0 0 0 1px rgba(16, 22, 26, 0.15); }
  .bp3-editable-text.bp3-editable-text-editing::before{
    background-color:#ffffff;
    -webkit-box-shadow:0 0 0 1px #137cbd, 0 0 0 3px rgba(19, 124, 189, 0.3), inset 0 1px 1px rgba(16, 22, 26, 0.2);
            box-shadow:0 0 0 1px #137cbd, 0 0 0 3px rgba(19, 124, 189, 0.3), inset 0 1px 1px rgba(16, 22, 26, 0.2); }
  .bp3-editable-text.bp3-disabled::before{
    -webkit-box-shadow:none;
            box-shadow:none; }
  .bp3-editable-text.bp3-intent-primary .bp3-editable-text-input,
  .bp3-editable-text.bp3-intent-primary .bp3-editable-text-content{
    color:#137cbd; }
  .bp3-editable-text.bp3-intent-primary:hover::before{
    -webkit-box-shadow:0 0 0 0 rgba(19, 124, 189, 0), 0 0 0 0 rgba(19, 124, 189, 0), inset 0 0 0 1px rgba(19, 124, 189, 0.4);
            box-shadow:0 0 0 0 rgba(19, 124, 189, 0), 0 0 0 0 rgba(19, 124, 189, 0), inset 0 0 0 1px rgba(19, 124, 189, 0.4); }
  .bp3-editable-text.bp3-intent-primary.bp3-editable-text-editing::before{
    -webkit-box-shadow:0 0 0 1px #137cbd, 0 0 0 3px rgba(19, 124, 189, 0.3), inset 0 1px 1px rgba(16, 22, 26, 0.2);
            box-shadow:0 0 0 1px #137cbd, 0 0 0 3px rgba(19, 124, 189, 0.3), inset 0 1px 1px rgba(16, 22, 26, 0.2); }
  .bp3-editable-text.bp3-intent-success .bp3-editable-text-input,
  .bp3-editable-text.bp3-intent-success .bp3-editable-text-content{
    color:#0f9960; }
  .bp3-editable-text.bp3-intent-success:hover::before{
    -webkit-box-shadow:0 0 0 0 rgba(15, 153, 96, 0), 0 0 0 0 rgba(15, 153, 96, 0), inset 0 0 0 1px rgba(15, 153, 96, 0.4);
            box-shadow:0 0 0 0 rgba(15, 153, 96, 0), 0 0 0 0 rgba(15, 153, 96, 0), inset 0 0 0 1px rgba(15, 153, 96, 0.4); }
  .bp3-editable-text.bp3-intent-success.bp3-editable-text-editing::before{
    -webkit-box-shadow:0 0 0 1px #0f9960, 0 0 0 3px rgba(15, 153, 96, 0.3), inset 0 1px 1px rgba(16, 22, 26, 0.2);
            box-shadow:0 0 0 1px #0f9960, 0 0 0 3px rgba(15, 153, 96, 0.3), inset 0 1px 1px rgba(16, 22, 26, 0.2); }
  .bp3-editable-text.bp3-intent-warning .bp3-editable-text-input,
  .bp3-editable-text.bp3-intent-warning .bp3-editable-text-content{
    color:#d9822b; }
  .bp3-editable-text.bp3-intent-warning:hover::before{
    -webkit-box-shadow:0 0 0 0 rgba(217, 130, 43, 0), 0 0 0 0 rgba(217, 130, 43, 0), inset 0 0 0 1px rgba(217, 130, 43, 0.4);
            box-shadow:0 0 0 0 rgba(217, 130, 43, 0), 0 0 0 0 rgba(217, 130, 43, 0), inset 0 0 0 1px rgba(217, 130, 43, 0.4); }
  .bp3-editable-text.bp3-intent-warning.bp3-editable-text-editing::before{
    -webkit-box-shadow:0 0 0 1px #d9822b, 0 0 0 3px rgba(217, 130, 43, 0.3), inset 0 1px 1px rgba(16, 22, 26, 0.2);
            box-shadow:0 0 0 1px #d9822b, 0 0 0 3px rgba(217, 130, 43, 0.3), inset 0 1px 1px rgba(16, 22, 26, 0.2); }
  .bp3-editable-text.bp3-intent-danger .bp3-editable-text-input,
  .bp3-editable-text.bp3-intent-danger .bp3-editable-text-content{
    color:#db3737; }
  .bp3-editable-text.bp3-intent-danger:hover::before{
    -webkit-box-shadow:0 0 0 0 rgba(219, 55, 55, 0), 0 0 0 0 rgba(219, 55, 55, 0), inset 0 0 0 1px rgba(219, 55, 55, 0.4);
            box-shadow:0 0 0 0 rgba(219, 55, 55, 0), 0 0 0 0 rgba(219, 55, 55, 0), inset 0 0 0 1px rgba(219, 55, 55, 0.4); }
  .bp3-editable-text.bp3-intent-danger.bp3-editable-text-editing::before{
    -webkit-box-shadow:0 0 0 1px #db3737, 0 0 0 3px rgba(219, 55, 55, 0.3), inset 0 1px 1px rgba(16, 22, 26, 0.2);
            box-shadow:0 0 0 1px #db3737, 0 0 0 3px rgba(219, 55, 55, 0.3), inset 0 1px 1px rgba(16, 22, 26, 0.2); }
  .bp3-dark .bp3-editable-text:hover::before{
    -webkit-box-shadow:0 0 0 0 rgba(19, 124, 189, 0), 0 0 0 0 rgba(19, 124, 189, 0), inset 0 0 0 1px rgba(255, 255, 255, 0.15);
            box-shadow:0 0 0 0 rgba(19, 124, 189, 0), 0 0 0 0 rgba(19, 124, 189, 0), inset 0 0 0 1px rgba(255, 255, 255, 0.15); }
  .bp3-dark .bp3-editable-text.bp3-editable-text-editing::before{
    background-color:rgba(16, 22, 26, 0.3);
    -webkit-box-shadow:0 0 0 1px #137cbd, 0 0 0 3px rgba(19, 124, 189, 0.3), inset 0 0 0 1px rgba(16, 22, 26, 0.3), inset 0 1px 1px rgba(16, 22, 26, 0.4);
            box-shadow:0 0 0 1px #137cbd, 0 0 0 3px rgba(19, 124, 189, 0.3), inset 0 0 0 1px rgba(16, 22, 26, 0.3), inset 0 1px 1px rgba(16, 22, 26, 0.4); }
  .bp3-dark .bp3-editable-text.bp3-disabled::before{
    -webkit-box-shadow:none;
            box-shadow:none; }
  .bp3-dark .bp3-editable-text.bp3-intent-primary .bp3-editable-text-content{
    color:#48aff0; }
  .bp3-dark .bp3-editable-text.bp3-intent-primary:hover::before{
    -webkit-box-shadow:0 0 0 0 rgba(72, 175, 240, 0), 0 0 0 0 rgba(72, 175, 240, 0), inset 0 0 0 1px rgba(72, 175, 240, 0.4);
            box-shadow:0 0 0 0 rgba(72, 175, 240, 0), 0 0 0 0 rgba(72, 175, 240, 0), inset 0 0 0 1px rgba(72, 175, 240, 0.4); }
  .bp3-dark .bp3-editable-text.bp3-intent-primary.bp3-editable-text-editing::before{
    -webkit-box-shadow:0 0 0 1px #48aff0, 0 0 0 3px rgba(72, 175, 240, 0.3), inset 0 0 0 1px rgba(16, 22, 26, 0.3), inset 0 1px 1px rgba(16, 22, 26, 0.4);
            box-shadow:0 0 0 1px #48aff0, 0 0 0 3px rgba(72, 175, 240, 0.3), inset 0 0 0 1px rgba(16, 22, 26, 0.3), inset 0 1px 1px rgba(16, 22, 26, 0.4); }
  .bp3-dark .bp3-editable-text.bp3-intent-success .bp3-editable-text-content{
    color:#3dcc91; }
  .bp3-dark .bp3-editable-text.bp3-intent-success:hover::before{
    -webkit-box-shadow:0 0 0 0 rgba(61, 204, 145, 0), 0 0 0 0 rgba(61, 204, 145, 0), inset 0 0 0 1px rgba(61, 204, 145, 0.4);
            box-shadow:0 0 0 0 rgba(61, 204, 145, 0), 0 0 0 0 rgba(61, 204, 145, 0), inset 0 0 0 1px rgba(61, 204, 145, 0.4); }
  .bp3-dark .bp3-editable-text.bp3-intent-success.bp3-editable-text-editing::before{
    -webkit-box-shadow:0 0 0 1px #3dcc91, 0 0 0 3px rgba(61, 204, 145, 0.3), inset 0 0 0 1px rgba(16, 22, 26, 0.3), inset 0 1px 1px rgba(16, 22, 26, 0.4);
            box-shadow:0 0 0 1px #3dcc91, 0 0 0 3px rgba(61, 204, 145, 0.3), inset 0 0 0 1px rgba(16, 22, 26, 0.3), inset 0 1px 1px rgba(16, 22, 26, 0.4); }
  .bp3-dark .bp3-editable-text.bp3-intent-warning .bp3-editable-text-content{
    color:#ffb366; }
  .bp3-dark .bp3-editable-text.bp3-intent-warning:hover::before{
    -webkit-box-shadow:0 0 0 0 rgba(255, 179, 102, 0), 0 0 0 0 rgba(255, 179, 102, 0), inset 0 0 0 1px rgba(255, 179, 102, 0.4);
            box-shadow:0 0 0 0 rgba(255, 179, 102, 0), 0 0 0 0 rgba(255, 179, 102, 0), inset 0 0 0 1px rgba(255, 179, 102, 0.4); }
  .bp3-dark .bp3-editable-text.bp3-intent-warning.bp3-editable-text-editing::before{
    -webkit-box-shadow:0 0 0 1px #ffb366, 0 0 0 3px rgba(255, 179, 102, 0.3), inset 0 0 0 1px rgba(16, 22, 26, 0.3), inset 0 1px 1px rgba(16, 22, 26, 0.4);
            box-shadow:0 0 0 1px #ffb366, 0 0 0 3px rgba(255, 179, 102, 0.3), inset 0 0 0 1px rgba(16, 22, 26, 0.3), inset 0 1px 1px rgba(16, 22, 26, 0.4); }
  .bp3-dark .bp3-editable-text.bp3-intent-danger .bp3-editable-text-content{
    color:#ff7373; }
  .bp3-dark .bp3-editable-text.bp3-intent-danger:hover::before{
    -webkit-box-shadow:0 0 0 0 rgba(255, 115, 115, 0), 0 0 0 0 rgba(255, 115, 115, 0), inset 0 0 0 1px rgba(255, 115, 115, 0.4);
            box-shadow:0 0 0 0 rgba(255, 115, 115, 0), 0 0 0 0 rgba(255, 115, 115, 0), inset 0 0 0 1px rgba(255, 115, 115, 0.4); }
  .bp3-dark .bp3-editable-text.bp3-intent-danger.bp3-editable-text-editing::before{
    -webkit-box-shadow:0 0 0 1px #ff7373, 0 0 0 3px rgba(255, 115, 115, 0.3), inset 0 0 0 1px rgba(16, 22, 26, 0.3), inset 0 1px 1px rgba(16, 22, 26, 0.4);
            box-shadow:0 0 0 1px #ff7373, 0 0 0 3px rgba(255, 115, 115, 0.3), inset 0 0 0 1px rgba(16, 22, 26, 0.3), inset 0 1px 1px rgba(16, 22, 26, 0.4); }

.bp3-editable-text-input,
.bp3-editable-text-content{
  color:inherit;
  display:inherit;
  font:inherit;
  letter-spacing:inherit;
  max-width:inherit;
  min-width:inherit;
  position:relative;
  resize:none;
  text-transform:inherit;
  vertical-align:top; }

.bp3-editable-text-input{
  background:none;
  border:none;
  -webkit-box-shadow:none;
          box-shadow:none;
  padding:0;
  white-space:pre-wrap;
  width:100%; }
  .bp3-editable-text-input::-webkit-input-placeholder{
    color:rgba(92, 112, 128, 0.6);
    opacity:1; }
  .bp3-editable-text-input::-moz-placeholder{
    color:rgba(92, 112, 128, 0.6);
    opacity:1; }
  .bp3-editable-text-input:-ms-input-placeholder{
    color:rgba(92, 112, 128, 0.6);
    opacity:1; }
  .bp3-editable-text-input::-ms-input-placeholder{
    color:rgba(92, 112, 128, 0.6);
    opacity:1; }
  .bp3-editable-text-input::placeholder{
    color:rgba(92, 112, 128, 0.6);
    opacity:1; }
  .bp3-editable-text-input:focus{
    outline:none; }
  .bp3-editable-text-input::-ms-clear{
    display:none; }

.bp3-editable-text-content{
  overflow:hidden;
  padding-right:2px;
  text-overflow:ellipsis;
  white-space:pre; }
  .bp3-editable-text-editing > .bp3-editable-text-content{
    left:0;
    position:absolute;
    visibility:hidden; }
  .bp3-editable-text-placeholder > .bp3-editable-text-content{
    color:rgba(92, 112, 128, 0.6); }
    .bp3-dark .bp3-editable-text-placeholder > .bp3-editable-text-content{
      color:rgba(167, 182, 194, 0.6); }

.bp3-editable-text.bp3-multiline{
  display:block; }
  .bp3-editable-text.bp3-multiline .bp3-editable-text-content{
    overflow:auto;
    white-space:pre-wrap;
    word-wrap:break-word; }
.bp3-divider{
  border-bottom:1px solid rgba(16, 22, 26, 0.15);
  border-right:1px solid rgba(16, 22, 26, 0.15);
  margin:5px; }
  .bp3-dark .bp3-divider{
    border-color:rgba(16, 22, 26, 0.4); }
.bp3-control-group{
  -webkit-transform:translateZ(0);
          transform:translateZ(0);
  display:-webkit-box;
  display:-ms-flexbox;
  display:flex;
  -webkit-box-orient:horizontal;
  -webkit-box-direction:normal;
      -ms-flex-direction:row;
          flex-direction:row;
  -webkit-box-align:stretch;
      -ms-flex-align:stretch;
          align-items:stretch; }
  .bp3-control-group > *{
    -webkit-box-flex:0;
        -ms-flex-positive:0;
            flex-grow:0;
    -ms-flex-negative:0;
        flex-shrink:0; }
  .bp3-control-group > .bp3-fill{
    -webkit-box-flex:1;
        -ms-flex-positive:1;
            flex-grow:1;
    -ms-flex-negative:1;
        flex-shrink:1; }
  .bp3-control-group .bp3-button,
  .bp3-control-group .bp3-html-select,
  .bp3-control-group .bp3-input,
  .bp3-control-group .bp3-select{
    position:relative; }
  .bp3-control-group .bp3-input{
    border-radius:inherit;
    z-index:2; }
    .bp3-control-group .bp3-input:focus{
      border-radius:3px;
      z-index:14; }
    .bp3-control-group .bp3-input[class*="bp3-intent"]{
      z-index:13; }
      .bp3-control-group .bp3-input[class*="bp3-intent"]:focus{
        z-index:15; }
    .bp3-control-group .bp3-input[readonly], .bp3-control-group .bp3-input:disabled, .bp3-control-group .bp3-input.bp3-disabled{
      z-index:1; }
  .bp3-control-group .bp3-input-group[class*="bp3-intent"] .bp3-input{
    z-index:13; }
    .bp3-control-group .bp3-input-group[class*="bp3-intent"] .bp3-input:focus{
      z-index:15; }
  .bp3-control-group .bp3-button,
  .bp3-control-group .bp3-html-select select,
  .bp3-control-group .bp3-select select{
    -webkit-transform:translateZ(0);
            transform:translateZ(0);
    border-radius:inherit;
    z-index:4; }
    .bp3-control-group .bp3-button:focus,
    .bp3-control-group .bp3-html-select select:focus,
    .bp3-control-group .bp3-select select:focus{
      z-index:5; }
    .bp3-control-group .bp3-button:hover,
    .bp3-control-group .bp3-html-select select:hover,
    .bp3-control-group .bp3-select select:hover{
      z-index:6; }
    .bp3-control-group .bp3-button:active,
    .bp3-control-group .bp3-html-select select:active,
    .bp3-control-group .bp3-select select:active{
      z-index:7; }
    .bp3-control-group .bp3-button[readonly], .bp3-control-group .bp3-button:disabled, .bp3-control-group .bp3-button.bp3-disabled,
    .bp3-control-group .bp3-html-select select[readonly],
    .bp3-control-group .bp3-html-select select:disabled,
    .bp3-control-group .bp3-html-select select.bp3-disabled,
    .bp3-control-group .bp3-select select[readonly],
    .bp3-control-group .bp3-select select:disabled,
    .bp3-control-group .bp3-select select.bp3-disabled{
      z-index:3; }
    .bp3-control-group .bp3-button[class*="bp3-intent"],
    .bp3-control-group .bp3-html-select select[class*="bp3-intent"],
    .bp3-control-group .bp3-select select[class*="bp3-intent"]{
      z-index:9; }
      .bp3-control-group .bp3-button[class*="bp3-intent"]:focus,
      .bp3-control-group .bp3-html-select select[class*="bp3-intent"]:focus,
      .bp3-control-group .bp3-select select[class*="bp3-intent"]:focus{
        z-index:10; }
      .bp3-control-group .bp3-button[class*="bp3-intent"]:hover,
      .bp3-control-group .bp3-html-select select[class*="bp3-intent"]:hover,
      .bp3-control-group .bp3-select select[class*="bp3-intent"]:hover{
        z-index:11; }
      .bp3-control-group .bp3-button[class*="bp3-intent"]:active,
      .bp3-control-group .bp3-html-select select[class*="bp3-intent"]:active,
      .bp3-control-group .bp3-select select[class*="bp3-intent"]:active{
        z-index:12; }
      .bp3-control-group .bp3-button[class*="bp3-intent"][readonly], .bp3-control-group .bp3-button[class*="bp3-intent"]:disabled, .bp3-control-group .bp3-button[class*="bp3-intent"].bp3-disabled,
      .bp3-control-group .bp3-html-select select[class*="bp3-intent"][readonly],
      .bp3-control-group .bp3-html-select select[class*="bp3-intent"]:disabled,
      .bp3-control-group .bp3-html-select select[class*="bp3-intent"].bp3-disabled,
      .bp3-control-group .bp3-select select[class*="bp3-intent"][readonly],
      .bp3-control-group .bp3-select select[class*="bp3-intent"]:disabled,
      .bp3-control-group .bp3-select select[class*="bp3-intent"].bp3-disabled{
        z-index:8; }
  .bp3-control-group .bp3-input-group > .bp3-icon,
  .bp3-control-group .bp3-input-group > .bp3-button,
  .bp3-control-group .bp3-input-group > .bp3-input-action{
    z-index:16; }
  .bp3-control-group .bp3-select::after,
  .bp3-control-group .bp3-html-select::after,
  .bp3-control-group .bp3-select > .bp3-icon,
  .bp3-control-group .bp3-html-select > .bp3-icon{
    z-index:17; }
  .bp3-control-group .bp3-select:focus-within{
    z-index:5; }
  .bp3-control-group:not(.bp3-vertical) > *:not(.bp3-divider){
    margin-right:-1px; }
  .bp3-control-group:not(.bp3-vertical) > .bp3-divider:not(:first-child){
    margin-left:6px; }
  .bp3-dark .bp3-control-group:not(.bp3-vertical) > *:not(.bp3-divider){
    margin-right:0; }
  .bp3-dark .bp3-control-group:not(.bp3-vertical) > .bp3-button + .bp3-button{
    margin-left:1px; }
  .bp3-control-group .bp3-popover-wrapper,
  .bp3-control-group .bp3-popover-target{
    border-radius:inherit; }
  .bp3-control-group > :first-child{
    border-radius:3px 0 0 3px; }
  .bp3-control-group > :last-child{
    border-radius:0 3px 3px 0;
    margin-right:0; }
  .bp3-control-group > :only-child{
    border-radius:3px;
    margin-right:0; }
  .bp3-control-group .bp3-input-group .bp3-button{
    border-radius:3px; }
  .bp3-control-group .bp3-numeric-input:not(:first-child) .bp3-input-group{
    border-bottom-left-radius:0;
    border-top-left-radius:0; }
  .bp3-control-group.bp3-fill{
    width:100%; }
  .bp3-control-group > .bp3-fill{
    -webkit-box-flex:1;
        -ms-flex:1 1 auto;
            flex:1 1 auto; }
  .bp3-control-group.bp3-fill > *:not(.bp3-fixed){
    -webkit-box-flex:1;
        -ms-flex:1 1 auto;
            flex:1 1 auto; }
  .bp3-control-group.bp3-vertical{
    -webkit-box-orient:vertical;
    -webkit-box-direction:normal;
        -ms-flex-direction:column;
            flex-direction:column; }
    .bp3-control-group.bp3-vertical > *{
      margin-top:-1px; }
    .bp3-control-group.bp3-vertical > :first-child{
      border-radius:3px 3px 0 0;
      margin-top:0; }
    .bp3-control-group.bp3-vertical > :last-child{
      border-radius:0 0 3px 3px; }
.bp3-control{
  cursor:pointer;
  display:block;
  margin-bottom:10px;
  position:relative;
  text-transform:none; }
  .bp3-control input:checked ~ .bp3-control-indicator{
    background-color:#137cbd;
    background-image:-webkit-gradient(linear, left top, left bottom, from(rgba(255, 255, 255, 0.1)), to(rgba(255, 255, 255, 0)));
    background-image:linear-gradient(to bottom, rgba(255, 255, 255, 0.1), rgba(255, 255, 255, 0));
    -webkit-box-shadow:inset 0 0 0 1px rgba(16, 22, 26, 0.4), inset 0 -1px 0 rgba(16, 22, 26, 0.2);
            box-shadow:inset 0 0 0 1px rgba(16, 22, 26, 0.4), inset 0 -1px 0 rgba(16, 22, 26, 0.2);
    color:#ffffff; }
  .bp3-control:hover input:checked ~ .bp3-control-indicator{
    background-color:#106ba3;
    -webkit-box-shadow:inset 0 0 0 1px rgba(16, 22, 26, 0.4), inset 0 -1px 0 rgba(16, 22, 26, 0.2);
            box-shadow:inset 0 0 0 1px rgba(16, 22, 26, 0.4), inset 0 -1px 0 rgba(16, 22, 26, 0.2); }
  .bp3-control input:not(:disabled):active:checked ~ .bp3-control-indicator{
    background:#0e5a8a;
    -webkit-box-shadow:inset 0 0 0 1px rgba(16, 22, 26, 0.4), inset 0 1px 2px rgba(16, 22, 26, 0.2);
            box-shadow:inset 0 0 0 1px rgba(16, 22, 26, 0.4), inset 0 1px 2px rgba(16, 22, 26, 0.2); }
  .bp3-control input:disabled:checked ~ .bp3-control-indicator{
    background:rgba(19, 124, 189, 0.5);
    -webkit-box-shadow:none;
            box-shadow:none; }
  .bp3-dark .bp3-control input:checked ~ .bp3-control-indicator{
    -webkit-box-shadow:0 0 0 1px rgba(16, 22, 26, 0.4);
            box-shadow:0 0 0 1px rgba(16, 22, 26, 0.4); }
  .bp3-dark .bp3-control:hover input:checked ~ .bp3-control-indicator{
    background-color:#106ba3;
    -webkit-box-shadow:0 0 0 1px rgba(16, 22, 26, 0.4);
            box-shadow:0 0 0 1px rgba(16, 22, 26, 0.4); }
  .bp3-dark .bp3-control input:not(:disabled):active:checked ~ .bp3-control-indicator{
    background-color:#0e5a8a;
    -webkit-box-shadow:0 0 0 1px rgba(16, 22, 26, 0.4), inset 0 1px 2px rgba(16, 22, 26, 0.2);
            box-shadow:0 0 0 1px rgba(16, 22, 26, 0.4), inset 0 1px 2px rgba(16, 22, 26, 0.2); }
  .bp3-dark .bp3-control input:disabled:checked ~ .bp3-control-indicator{
    background:rgba(14, 90, 138, 0.5);
    -webkit-box-shadow:none;
            box-shadow:none; }
  .bp3-control:not(.bp3-align-right){
    padding-left:26px; }
    .bp3-control:not(.bp3-align-right) .bp3-control-indicator{
      margin-left:-26px; }
  .bp3-control.bp3-align-right{
    padding-right:26px; }
    .bp3-control.bp3-align-right .bp3-control-indicator{
      margin-right:-26px; }
  .bp3-control.bp3-disabled{
    color:rgba(92, 112, 128, 0.6);
    cursor:not-allowed; }
  .bp3-control.bp3-inline{
    display:inline-block;
    margin-right:20px; }
  .bp3-control input{
    left:0;
    opacity:0;
    position:absolute;
    top:0;
    z-index:-1; }
  .bp3-control .bp3-control-indicator{
    background-clip:padding-box;
    background-color:#f5f8fa;
    background-image:-webkit-gradient(linear, left top, left bottom, from(rgba(255, 255, 255, 0.8)), to(rgba(255, 255, 255, 0)));
    background-image:linear-gradient(to bottom, rgba(255, 255, 255, 0.8), rgba(255, 255, 255, 0));
    border:none;
    -webkit-box-shadow:inset 0 0 0 1px rgba(16, 22, 26, 0.2), inset 0 -1px 0 rgba(16, 22, 26, 0.1);
            box-shadow:inset 0 0 0 1px rgba(16, 22, 26, 0.2), inset 0 -1px 0 rgba(16, 22, 26, 0.1);
    cursor:pointer;
    display:inline-block;
    font-size:16px;
    height:1em;
    margin-right:10px;
    margin-top:-3px;
    position:relative;
    -webkit-user-select:none;
       -moz-user-select:none;
        -ms-user-select:none;
            user-select:none;
    vertical-align:middle;
    width:1em; }
    .bp3-control .bp3-control-indicator::before{
      content:"";
      display:block;
      height:1em;
      width:1em; }
  .bp3-control:hover .bp3-control-indicator{
    background-color:#ebf1f5; }
  .bp3-control input:not(:disabled):active ~ .bp3-control-indicator{
    background:#d8e1e8;
    -webkit-box-shadow:inset 0 0 0 1px rgba(16, 22, 26, 0.2), inset 0 1px 2px rgba(16, 22, 26, 0.2);
            box-shadow:inset 0 0 0 1px rgba(16, 22, 26, 0.2), inset 0 1px 2px rgba(16, 22, 26, 0.2); }
  .bp3-control input:disabled ~ .bp3-control-indicator{
    background:rgba(206, 217, 224, 0.5);
    -webkit-box-shadow:none;
            box-shadow:none;
    cursor:not-allowed; }
  .bp3-control input:focus ~ .bp3-control-indicator{
    outline:rgba(19, 124, 189, 0.6) auto 2px;
    outline-offset:2px;
    -moz-outline-radius:6px; }
  .bp3-control.bp3-align-right .bp3-control-indicator{
    float:right;
    margin-left:10px;
    margin-top:1px; }
  .bp3-control.bp3-large{
    font-size:16px; }
    .bp3-control.bp3-large:not(.bp3-align-right){
      padding-left:30px; }
      .bp3-control.bp3-large:not(.bp3-align-right) .bp3-control-indicator{
        margin-left:-30px; }
    .bp3-control.bp3-large.bp3-align-right{
      padding-right:30px; }
      .bp3-control.bp3-large.bp3-align-right .bp3-control-indicator{
        margin-right:-30px; }
    .bp3-control.bp3-large .bp3-control-indicator{
      font-size:20px; }
    .bp3-control.bp3-large.bp3-align-right .bp3-control-indicator{
      margin-top:0; }
  .bp3-control.bp3-checkbox input:indeterminate ~ .bp3-control-indicator{
    background-color:#137cbd;
    background-image:-webkit-gradient(linear, left top, left bottom, from(rgba(255, 255, 255, 0.1)), to(rgba(255, 255, 255, 0)));
    background-image:linear-gradient(to bottom, rgba(255, 255, 255, 0.1), rgba(255, 255, 255, 0));
    -webkit-box-shadow:inset 0 0 0 1px rgba(16, 22, 26, 0.4), inset 0 -1px 0 rgba(16, 22, 26, 0.2);
            box-shadow:inset 0 0 0 1px rgba(16, 22, 26, 0.4), inset 0 -1px 0 rgba(16, 22, 26, 0.2);
    color:#ffffff; }
  .bp3-control.bp3-checkbox:hover input:indeterminate ~ .bp3-control-indicator{
    background-color:#106ba3;
    -webkit-box-shadow:inset 0 0 0 1px rgba(16, 22, 26, 0.4), inset 0 -1px 0 rgba(16, 22, 26, 0.2);
            box-shadow:inset 0 0 0 1px rgba(16, 22, 26, 0.4), inset 0 -1px 0 rgba(16, 22, 26, 0.2); }
  .bp3-control.bp3-checkbox input:not(:disabled):active:indeterminate ~ .bp3-control-indicator{
    background:#0e5a8a;
    -webkit-box-shadow:inset 0 0 0 1px rgba(16, 22, 26, 0.4), inset 0 1px 2px rgba(16, 22, 26, 0.2);
            box-shadow:inset 0 0 0 1px rgba(16, 22, 26, 0.4), inset 0 1px 2px rgba(16, 22, 26, 0.2); }
  .bp3-control.bp3-checkbox input:disabled:indeterminate ~ .bp3-control-indicator{
    background:rgba(19, 124, 189, 0.5);
    -webkit-box-shadow:none;
            box-shadow:none; }
  .bp3-dark .bp3-control.bp3-checkbox input:indeterminate ~ .bp3-control-indicator{
    -webkit-box-shadow:0 0 0 1px rgba(16, 22, 26, 0.4);
            box-shadow:0 0 0 1px rgba(16, 22, 26, 0.4); }
  .bp3-dark .bp3-control.bp3-checkbox:hover input:indeterminate ~ .bp3-control-indicator{
    background-color:#106ba3;
    -webkit-box-shadow:0 0 0 1px rgba(16, 22, 26, 0.4);
            box-shadow:0 0 0 1px rgba(16, 22, 26, 0.4); }
  .bp3-dark .bp3-control.bp3-checkbox input:not(:disabled):active:indeterminate ~ .bp3-control-indicator{
    background-color:#0e5a8a;
    -webkit-box-shadow:0 0 0 1px rgba(16, 22, 26, 0.4), inset 0 1px 2px rgba(16, 22, 26, 0.2);
            box-shadow:0 0 0 1px rgba(16, 22, 26, 0.4), inset 0 1px 2px rgba(16, 22, 26, 0.2); }
  .bp3-dark .bp3-control.bp3-checkbox input:disabled:indeterminate ~ .bp3-control-indicator{
    background:rgba(14, 90, 138, 0.5);
    -webkit-box-shadow:none;
            box-shadow:none; }
  .bp3-control.bp3-checkbox .bp3-control-indicator{
    border-radius:3px; }
  .bp3-control.bp3-checkbox input:checked ~ .bp3-control-indicator::before{
    background-image:url("data:image/svg+xml,%3csvg xmlns='http://www.w3.org/2000/svg' viewBox='0 0 16 16'%3e%3cpath fill-rule='evenodd' clip-rule='evenodd' d='M12 5c-.28 0-.53.11-.71.29L7 9.59l-2.29-2.3a1.003 1.003 0 00-1.42 1.42l3 3c.18.18.43.29.71.29s.53-.11.71-.29l5-5A1.003 1.003 0 0012 5z' fill='white'/%3e%3c/svg%3e"); }
  .bp3-control.bp3-checkbox input:indeterminate ~ .bp3-control-indicator::before{
    background-image:url("data:image/svg+xml,%3csvg xmlns='http://www.w3.org/2000/svg' viewBox='0 0 16 16'%3e%3cpath fill-rule='evenodd' clip-rule='evenodd' d='M11 7H5c-.55 0-1 .45-1 1s.45 1 1 1h6c.55 0 1-.45 1-1s-.45-1-1-1z' fill='white'/%3e%3c/svg%3e"); }
  .bp3-control.bp3-radio .bp3-control-indicator{
    border-radius:50%; }
  .bp3-control.bp3-radio input:checked ~ .bp3-control-indicator::before{
    background-image:radial-gradient(#ffffff, #ffffff 28%, transparent 32%); }
  .bp3-control.bp3-radio input:checked:disabled ~ .bp3-control-indicator::before{
    opacity:0.5; }
  .bp3-control.bp3-radio input:focus ~ .bp3-control-indicator{
    -moz-outline-radius:16px; }
  .bp3-control.bp3-switch input ~ .bp3-control-indicator{
    background:rgba(167, 182, 194, 0.5); }
  .bp3-control.bp3-switch:hover input ~ .bp3-control-indicator{
    background:rgba(115, 134, 148, 0.5); }
  .bp3-control.bp3-switch input:not(:disabled):active ~ .bp3-control-indicator{
    background:rgba(92, 112, 128, 0.5); }
  .bp3-control.bp3-switch input:disabled ~ .bp3-control-indicator{
    background:rgba(206, 217, 224, 0.5); }
    .bp3-control.bp3-switch input:disabled ~ .bp3-control-indicator::before{
      background:rgba(255, 255, 255, 0.8); }
  .bp3-control.bp3-switch input:checked ~ .bp3-control-indicator{
    background:#137cbd; }
  .bp3-control.bp3-switch:hover input:checked ~ .bp3-control-indicator{
    background:#106ba3; }
  .bp3-control.bp3-switch input:checked:not(:disabled):active ~ .bp3-control-indicator{
    background:#0e5a8a; }
  .bp3-control.bp3-switch input:checked:disabled ~ .bp3-control-indicator{
    background:rgba(19, 124, 189, 0.5); }
    .bp3-control.bp3-switch input:checked:disabled ~ .bp3-control-indicator::before{
      background:rgba(255, 255, 255, 0.8); }
  .bp3-control.bp3-switch:not(.bp3-align-right){
    padding-left:38px; }
    .bp3-control.bp3-switch:not(.bp3-align-right) .bp3-control-indicator{
      margin-left:-38px; }
  .bp3-control.bp3-switch.bp3-align-right{
    padding-right:38px; }
    .bp3-control.bp3-switch.bp3-align-right .bp3-control-indicator{
      margin-right:-38px; }
  .bp3-control.bp3-switch .bp3-control-indicator{
    border:none;
    border-radius:1.75em;
    -webkit-box-shadow:none !important;
            box-shadow:none !important;
    min-width:1.75em;
    -webkit-transition:background-color 100ms cubic-bezier(0.4, 1, 0.75, 0.9);
    transition:background-color 100ms cubic-bezier(0.4, 1, 0.75, 0.9);
    width:auto; }
    .bp3-control.bp3-switch .bp3-control-indicator::before{
      background:#ffffff;
      border-radius:50%;
      -webkit-box-shadow:0 0 0 1px rgba(16, 22, 26, 0.2), 0 1px 1px rgba(16, 22, 26, 0.2);
              box-shadow:0 0 0 1px rgba(16, 22, 26, 0.2), 0 1px 1px rgba(16, 22, 26, 0.2);
      height:calc(1em - 4px);
      left:0;
      margin:2px;
      position:absolute;
      -webkit-transition:left 100ms cubic-bezier(0.4, 1, 0.75, 0.9);
      transition:left 100ms cubic-bezier(0.4, 1, 0.75, 0.9);
      width:calc(1em - 4px); }
  .bp3-control.bp3-switch input:checked ~ .bp3-control-indicator::before{
    left:calc(100% - 1em); }
  .bp3-control.bp3-switch.bp3-large:not(.bp3-align-right){
    padding-left:45px; }
    .bp3-control.bp3-switch.bp3-large:not(.bp3-align-right) .bp3-control-indicator{
      margin-left:-45px; }
  .bp3-control.bp3-switch.bp3-large.bp3-align-right{
    padding-right:45px; }
    .bp3-control.bp3-switch.bp3-large.bp3-align-right .bp3-control-indicator{
      margin-right:-45px; }
  .bp3-dark .bp3-control.bp3-switch input ~ .bp3-control-indicator{
    background:rgba(16, 22, 26, 0.5); }
  .bp3-dark .bp3-control.bp3-switch:hover input ~ .bp3-control-indicator{
    background:rgba(16, 22, 26, 0.7); }
  .bp3-dark .bp3-control.bp3-switch input:not(:disabled):active ~ .bp3-control-indicator{
    background:rgba(16, 22, 26, 0.9); }
  .bp3-dark .bp3-control.bp3-switch input:disabled ~ .bp3-control-indicator{
    background:rgba(57, 75, 89, 0.5); }
    .bp3-dark .bp3-control.bp3-switch input:disabled ~ .bp3-control-indicator::before{
      background:rgba(16, 22, 26, 0.4); }
  .bp3-dark .bp3-control.bp3-switch input:checked ~ .bp3-control-indicator{
    background:#137cbd; }
  .bp3-dark .bp3-control.bp3-switch:hover input:checked ~ .bp3-control-indicator{
    background:#106ba3; }
  .bp3-dark .bp3-control.bp3-switch input:checked:not(:disabled):active ~ .bp3-control-indicator{
    background:#0e5a8a; }
  .bp3-dark .bp3-control.bp3-switch input:checked:disabled ~ .bp3-control-indicator{
    background:rgba(14, 90, 138, 0.5); }
    .bp3-dark .bp3-control.bp3-switch input:checked:disabled ~ .bp3-control-indicator::before{
      background:rgba(16, 22, 26, 0.4); }
  .bp3-dark .bp3-control.bp3-switch .bp3-control-indicator::before{
    background:#394b59;
    -webkit-box-shadow:0 0 0 1px rgba(16, 22, 26, 0.4);
            box-shadow:0 0 0 1px rgba(16, 22, 26, 0.4); }
  .bp3-dark .bp3-control.bp3-switch input:checked ~ .bp3-control-indicator::before{
    -webkit-box-shadow:inset 0 0 0 1px rgba(16, 22, 26, 0.4);
            box-shadow:inset 0 0 0 1px rgba(16, 22, 26, 0.4); }
  .bp3-control.bp3-switch .bp3-switch-inner-text{
    font-size:0.7em;
    text-align:center; }
  .bp3-control.bp3-switch .bp3-control-indicator-child:first-child{
    line-height:0;
    margin-left:0.5em;
    margin-right:1.2em;
    visibility:hidden; }
  .bp3-control.bp3-switch .bp3-control-indicator-child:last-child{
    line-height:1em;
    margin-left:1.2em;
    margin-right:0.5em;
    visibility:visible; }
  .bp3-control.bp3-switch input:checked ~ .bp3-control-indicator .bp3-control-indicator-child:first-child{
    line-height:1em;
    visibility:visible; }
  .bp3-control.bp3-switch input:checked ~ .bp3-control-indicator .bp3-control-indicator-child:last-child{
    line-height:0;
    visibility:hidden; }
  .bp3-dark .bp3-control{
    color:#f5f8fa; }
    .bp3-dark .bp3-control.bp3-disabled{
      color:rgba(167, 182, 194, 0.6); }
    .bp3-dark .bp3-control .bp3-control-indicator{
      background-color:#394b59;
      background-image:-webkit-gradient(linear, left top, left bottom, from(rgba(255, 255, 255, 0.05)), to(rgba(255, 255, 255, 0)));
      background-image:linear-gradient(to bottom, rgba(255, 255, 255, 0.05), rgba(255, 255, 255, 0));
      -webkit-box-shadow:0 0 0 1px rgba(16, 22, 26, 0.4);
              box-shadow:0 0 0 1px rgba(16, 22, 26, 0.4); }
    .bp3-dark .bp3-control:hover .bp3-control-indicator{
      background-color:#30404d; }
    .bp3-dark .bp3-control input:not(:disabled):active ~ .bp3-control-indicator{
      background:#202b33;
      -webkit-box-shadow:0 0 0 1px rgba(16, 22, 26, 0.6), inset 0 1px 2px rgba(16, 22, 26, 0.2);
              box-shadow:0 0 0 1px rgba(16, 22, 26, 0.6), inset 0 1px 2px rgba(16, 22, 26, 0.2); }
    .bp3-dark .bp3-control input:disabled ~ .bp3-control-indicator{
      background:rgba(57, 75, 89, 0.5);
      -webkit-box-shadow:none;
              box-shadow:none;
      cursor:not-allowed; }
    .bp3-dark .bp3-control.bp3-checkbox input:disabled:checked ~ .bp3-control-indicator, .bp3-dark .bp3-control.bp3-checkbox input:disabled:indeterminate ~ .bp3-control-indicator{
      color:rgba(167, 182, 194, 0.6); }
.bp3-file-input{
  cursor:pointer;
  display:inline-block;
  height:30px;
  position:relative; }
  .bp3-file-input input{
    margin:0;
    min-width:200px;
    opacity:0; }
    .bp3-file-input input:disabled + .bp3-file-upload-input,
    .bp3-file-input input.bp3-disabled + .bp3-file-upload-input{
      background:rgba(206, 217, 224, 0.5);
      -webkit-box-shadow:none;
              box-shadow:none;
      color:rgba(92, 112, 128, 0.6);
      cursor:not-allowed;
      resize:none; }
      .bp3-file-input input:disabled + .bp3-file-upload-input::after,
      .bp3-file-input input.bp3-disabled + .bp3-file-upload-input::after{
        background-color:rgba(206, 217, 224, 0.5);
        background-image:none;
        -webkit-box-shadow:none;
                box-shadow:none;
        color:rgba(92, 112, 128, 0.6);
        cursor:not-allowed;
        outline:none; }
        .bp3-file-input input:disabled + .bp3-file-upload-input::after.bp3-active, .bp3-file-input input:disabled + .bp3-file-upload-input::after.bp3-active:hover,
        .bp3-file-input input.bp3-disabled + .bp3-file-upload-input::after.bp3-active,
        .bp3-file-input input.bp3-disabled + .bp3-file-upload-input::after.bp3-active:hover{
          background:rgba(206, 217, 224, 0.7); }
      .bp3-dark .bp3-file-input input:disabled + .bp3-file-upload-input, .bp3-dark
      .bp3-file-input input.bp3-disabled + .bp3-file-upload-input{
        background:rgba(57, 75, 89, 0.5);
        -webkit-box-shadow:none;
                box-shadow:none;
        color:rgba(167, 182, 194, 0.6); }
        .bp3-dark .bp3-file-input input:disabled + .bp3-file-upload-input::after, .bp3-dark
        .bp3-file-input input.bp3-disabled + .bp3-file-upload-input::after{
          background-color:rgba(57, 75, 89, 0.5);
          background-image:none;
          -webkit-box-shadow:none;
                  box-shadow:none;
          color:rgba(167, 182, 194, 0.6); }
          .bp3-dark .bp3-file-input input:disabled + .bp3-file-upload-input::after.bp3-active, .bp3-dark
          .bp3-file-input input.bp3-disabled + .bp3-file-upload-input::after.bp3-active{
            background:rgba(57, 75, 89, 0.7); }
  .bp3-file-input.bp3-file-input-has-selection .bp3-file-upload-input{
    color:#182026; }
  .bp3-dark .bp3-file-input.bp3-file-input-has-selection .bp3-file-upload-input{
    color:#f5f8fa; }
  .bp3-file-input.bp3-fill{
    width:100%; }
  .bp3-file-input.bp3-large,
  .bp3-large .bp3-file-input{
    height:40px; }
  .bp3-file-input .bp3-file-upload-input-custom-text::after{
    content:attr(bp3-button-text); }

.bp3-file-upload-input{
  -webkit-appearance:none;
     -moz-appearance:none;
          appearance:none;
  background:#ffffff;
  border:none;
  border-radius:3px;
  -webkit-box-shadow:0 0 0 0 rgba(19, 124, 189, 0), 0 0 0 0 rgba(19, 124, 189, 0), inset 0 0 0 1px rgba(16, 22, 26, 0.15), inset 0 1px 1px rgba(16, 22, 26, 0.2);
          box-shadow:0 0 0 0 rgba(19, 124, 189, 0), 0 0 0 0 rgba(19, 124, 189, 0), inset 0 0 0 1px rgba(16, 22, 26, 0.15), inset 0 1px 1px rgba(16, 22, 26, 0.2);
  color:#182026;
  font-size:14px;
  font-weight:400;
  height:30px;
  line-height:30px;
  outline:none;
  padding:0 10px;
  -webkit-transition:-webkit-box-shadow 100ms cubic-bezier(0.4, 1, 0.75, 0.9);
  transition:-webkit-box-shadow 100ms cubic-bezier(0.4, 1, 0.75, 0.9);
  transition:box-shadow 100ms cubic-bezier(0.4, 1, 0.75, 0.9);
  transition:box-shadow 100ms cubic-bezier(0.4, 1, 0.75, 0.9), -webkit-box-shadow 100ms cubic-bezier(0.4, 1, 0.75, 0.9);
  vertical-align:middle;
  overflow:hidden;
  text-overflow:ellipsis;
  white-space:nowrap;
  word-wrap:normal;
  color:rgba(92, 112, 128, 0.6);
  left:0;
  padding-right:80px;
  position:absolute;
  right:0;
  top:0;
  -webkit-user-select:none;
     -moz-user-select:none;
      -ms-user-select:none;
          user-select:none; }
  .bp3-file-upload-input::-webkit-input-placeholder{
    color:rgba(92, 112, 128, 0.6);
    opacity:1; }
  .bp3-file-upload-input::-moz-placeholder{
    color:rgba(92, 112, 128, 0.6);
    opacity:1; }
  .bp3-file-upload-input:-ms-input-placeholder{
    color:rgba(92, 112, 128, 0.6);
    opacity:1; }
  .bp3-file-upload-input::-ms-input-placeholder{
    color:rgba(92, 112, 128, 0.6);
    opacity:1; }
  .bp3-file-upload-input::placeholder{
    color:rgba(92, 112, 128, 0.6);
    opacity:1; }
  .bp3-file-upload-input:focus, .bp3-file-upload-input.bp3-active{
    -webkit-box-shadow:0 0 0 1px #137cbd, 0 0 0 3px rgba(19, 124, 189, 0.3), inset 0 1px 1px rgba(16, 22, 26, 0.2);
            box-shadow:0 0 0 1px #137cbd, 0 0 0 3px rgba(19, 124, 189, 0.3), inset 0 1px 1px rgba(16, 22, 26, 0.2); }
  .bp3-file-upload-input[type="search"], .bp3-file-upload-input.bp3-round{
    border-radius:30px;
    -webkit-box-sizing:border-box;
            box-sizing:border-box;
    padding-left:10px; }
  .bp3-file-upload-input[readonly]{
    -webkit-box-shadow:inset 0 0 0 1px rgba(16, 22, 26, 0.15);
            box-shadow:inset 0 0 0 1px rgba(16, 22, 26, 0.15); }
  .bp3-file-upload-input:disabled, .bp3-file-upload-input.bp3-disabled{
    background:rgba(206, 217, 224, 0.5);
    -webkit-box-shadow:none;
            box-shadow:none;
    color:rgba(92, 112, 128, 0.6);
    cursor:not-allowed;
    resize:none; }
  .bp3-file-upload-input::after{
    background-color:#f5f8fa;
    background-image:-webkit-gradient(linear, left top, left bottom, from(rgba(255, 255, 255, 0.8)), to(rgba(255, 255, 255, 0)));
    background-image:linear-gradient(to bottom, rgba(255, 255, 255, 0.8), rgba(255, 255, 255, 0));
    -webkit-box-shadow:inset 0 0 0 1px rgba(16, 22, 26, 0.2), inset 0 -1px 0 rgba(16, 22, 26, 0.1);
            box-shadow:inset 0 0 0 1px rgba(16, 22, 26, 0.2), inset 0 -1px 0 rgba(16, 22, 26, 0.1);
    color:#182026;
    min-height:24px;
    min-width:24px;
    overflow:hidden;
    text-overflow:ellipsis;
    white-space:nowrap;
    word-wrap:normal;
    border-radius:3px;
    content:"Browse";
    line-height:24px;
    margin:3px;
    position:absolute;
    right:0;
    text-align:center;
    top:0;
    width:70px; }
    .bp3-file-upload-input::after:hover{
      background-clip:padding-box;
      background-color:#ebf1f5;
      -webkit-box-shadow:inset 0 0 0 1px rgba(16, 22, 26, 0.2), inset 0 -1px 0 rgba(16, 22, 26, 0.1);
              box-shadow:inset 0 0 0 1px rgba(16, 22, 26, 0.2), inset 0 -1px 0 rgba(16, 22, 26, 0.1); }
    .bp3-file-upload-input::after:active, .bp3-file-upload-input::after.bp3-active{
      background-color:#d8e1e8;
      background-image:none;
      -webkit-box-shadow:inset 0 0 0 1px rgba(16, 22, 26, 0.2), inset 0 1px 2px rgba(16, 22, 26, 0.2);
              box-shadow:inset 0 0 0 1px rgba(16, 22, 26, 0.2), inset 0 1px 2px rgba(16, 22, 26, 0.2); }
    .bp3-file-upload-input::after:disabled, .bp3-file-upload-input::after.bp3-disabled{
      background-color:rgba(206, 217, 224, 0.5);
      background-image:none;
      -webkit-box-shadow:none;
              box-shadow:none;
      color:rgba(92, 112, 128, 0.6);
      cursor:not-allowed;
      outline:none; }
      .bp3-file-upload-input::after:disabled.bp3-active, .bp3-file-upload-input::after:disabled.bp3-active:hover, .bp3-file-upload-input::after.bp3-disabled.bp3-active, .bp3-file-upload-input::after.bp3-disabled.bp3-active:hover{
        background:rgba(206, 217, 224, 0.7); }
  .bp3-file-upload-input:hover::after{
    background-clip:padding-box;
    background-color:#ebf1f5;
    -webkit-box-shadow:inset 0 0 0 1px rgba(16, 22, 26, 0.2), inset 0 -1px 0 rgba(16, 22, 26, 0.1);
            box-shadow:inset 0 0 0 1px rgba(16, 22, 26, 0.2), inset 0 -1px 0 rgba(16, 22, 26, 0.1); }
  .bp3-file-upload-input:active::after{
    background-color:#d8e1e8;
    background-image:none;
    -webkit-box-shadow:inset 0 0 0 1px rgba(16, 22, 26, 0.2), inset 0 1px 2px rgba(16, 22, 26, 0.2);
            box-shadow:inset 0 0 0 1px rgba(16, 22, 26, 0.2), inset 0 1px 2px rgba(16, 22, 26, 0.2); }
  .bp3-large .bp3-file-upload-input{
    font-size:16px;
    height:40px;
    line-height:40px;
    padding-right:95px; }
    .bp3-large .bp3-file-upload-input[type="search"], .bp3-large .bp3-file-upload-input.bp3-round{
      padding:0 15px; }
    .bp3-large .bp3-file-upload-input::after{
      min-height:30px;
      min-width:30px;
      line-height:30px;
      margin:5px;
      width:85px; }
  .bp3-dark .bp3-file-upload-input{
    background:rgba(16, 22, 26, 0.3);
    -webkit-box-shadow:0 0 0 0 rgba(19, 124, 189, 0), 0 0 0 0 rgba(19, 124, 189, 0), 0 0 0 0 rgba(19, 124, 189, 0), inset 0 0 0 1px rgba(16, 22, 26, 0.3), inset 0 1px 1px rgba(16, 22, 26, 0.4);
            box-shadow:0 0 0 0 rgba(19, 124, 189, 0), 0 0 0 0 rgba(19, 124, 189, 0), 0 0 0 0 rgba(19, 124, 189, 0), inset 0 0 0 1px rgba(16, 22, 26, 0.3), inset 0 1px 1px rgba(16, 22, 26, 0.4);
    color:#f5f8fa;
    color:rgba(167, 182, 194, 0.6); }
    .bp3-dark .bp3-file-upload-input::-webkit-input-placeholder{
      color:rgba(167, 182, 194, 0.6); }
    .bp3-dark .bp3-file-upload-input::-moz-placeholder{
      color:rgba(167, 182, 194, 0.6); }
    .bp3-dark .bp3-file-upload-input:-ms-input-placeholder{
      color:rgba(167, 182, 194, 0.6); }
    .bp3-dark .bp3-file-upload-input::-ms-input-placeholder{
      color:rgba(167, 182, 194, 0.6); }
    .bp3-dark .bp3-file-upload-input::placeholder{
      color:rgba(167, 182, 194, 0.6); }
    .bp3-dark .bp3-file-upload-input:focus{
      -webkit-box-shadow:0 0 0 1px #137cbd, 0 0 0 1px #137cbd, 0 0 0 3px rgba(19, 124, 189, 0.3), inset 0 0 0 1px rgba(16, 22, 26, 0.3), inset 0 1px 1px rgba(16, 22, 26, 0.4);
              box-shadow:0 0 0 1px #137cbd, 0 0 0 1px #137cbd, 0 0 0 3px rgba(19, 124, 189, 0.3), inset 0 0 0 1px rgba(16, 22, 26, 0.3), inset 0 1px 1px rgba(16, 22, 26, 0.4); }
    .bp3-dark .bp3-file-upload-input[readonly]{
      -webkit-box-shadow:inset 0 0 0 1px rgba(16, 22, 26, 0.4);
              box-shadow:inset 0 0 0 1px rgba(16, 22, 26, 0.4); }
    .bp3-dark .bp3-file-upload-input:disabled, .bp3-dark .bp3-file-upload-input.bp3-disabled{
      background:rgba(57, 75, 89, 0.5);
      -webkit-box-shadow:none;
              box-shadow:none;
      color:rgba(167, 182, 194, 0.6); }
    .bp3-dark .bp3-file-upload-input::after{
      background-color:#394b59;
      background-image:-webkit-gradient(linear, left top, left bottom, from(rgba(255, 255, 255, 0.05)), to(rgba(255, 255, 255, 0)));
      background-image:linear-gradient(to bottom, rgba(255, 255, 255, 0.05), rgba(255, 255, 255, 0));
      -webkit-box-shadow:0 0 0 1px rgba(16, 22, 26, 0.4);
              box-shadow:0 0 0 1px rgba(16, 22, 26, 0.4);
      color:#f5f8fa; }
      .bp3-dark .bp3-file-upload-input::after:hover, .bp3-dark .bp3-file-upload-input::after:active, .bp3-dark .bp3-file-upload-input::after.bp3-active{
        color:#f5f8fa; }
      .bp3-dark .bp3-file-upload-input::after:hover{
        background-color:#30404d;
        -webkit-box-shadow:0 0 0 1px rgba(16, 22, 26, 0.4);
                box-shadow:0 0 0 1px rgba(16, 22, 26, 0.4); }
      .bp3-dark .bp3-file-upload-input::after:active, .bp3-dark .bp3-file-upload-input::after.bp3-active{
        background-color:#202b33;
        background-image:none;
        -webkit-box-shadow:0 0 0 1px rgba(16, 22, 26, 0.6), inset 0 1px 2px rgba(16, 22, 26, 0.2);
                box-shadow:0 0 0 1px rgba(16, 22, 26, 0.6), inset 0 1px 2px rgba(16, 22, 26, 0.2); }
      .bp3-dark .bp3-file-upload-input::after:disabled, .bp3-dark .bp3-file-upload-input::after.bp3-disabled{
        background-color:rgba(57, 75, 89, 0.5);
        background-image:none;
        -webkit-box-shadow:none;
                box-shadow:none;
        color:rgba(167, 182, 194, 0.6); }
        .bp3-dark .bp3-file-upload-input::after:disabled.bp3-active, .bp3-dark .bp3-file-upload-input::after.bp3-disabled.bp3-active{
          background:rgba(57, 75, 89, 0.7); }
      .bp3-dark .bp3-file-upload-input::after .bp3-button-spinner .bp3-spinner-head{
        background:rgba(16, 22, 26, 0.5);
        stroke:#8a9ba8; }
    .bp3-dark .bp3-file-upload-input:hover::after{
      background-color:#30404d;
      -webkit-box-shadow:0 0 0 1px rgba(16, 22, 26, 0.4);
              box-shadow:0 0 0 1px rgba(16, 22, 26, 0.4); }
    .bp3-dark .bp3-file-upload-input:active::after{
      background-color:#202b33;
      background-image:none;
      -webkit-box-shadow:0 0 0 1px rgba(16, 22, 26, 0.6), inset 0 1px 2px rgba(16, 22, 26, 0.2);
              box-shadow:0 0 0 1px rgba(16, 22, 26, 0.6), inset 0 1px 2px rgba(16, 22, 26, 0.2); }
.bp3-file-upload-input::after{
  -webkit-box-shadow:inset 0 0 0 1px rgba(16, 22, 26, 0.2), inset 0 -1px 0 rgba(16, 22, 26, 0.1);
          box-shadow:inset 0 0 0 1px rgba(16, 22, 26, 0.2), inset 0 -1px 0 rgba(16, 22, 26, 0.1); }
.bp3-form-group{
  display:-webkit-box;
  display:-ms-flexbox;
  display:flex;
  -webkit-box-orient:vertical;
  -webkit-box-direction:normal;
      -ms-flex-direction:column;
          flex-direction:column;
  margin:0 0 15px; }
  .bp3-form-group label.bp3-label{
    margin-bottom:5px; }
  .bp3-form-group .bp3-control{
    margin-top:7px; }
  .bp3-form-group .bp3-form-helper-text{
    color:#5c7080;
    font-size:12px;
    margin-top:5px; }
  .bp3-form-group.bp3-intent-primary .bp3-form-helper-text{
    color:#106ba3; }
  .bp3-form-group.bp3-intent-success .bp3-form-helper-text{
    color:#0d8050; }
  .bp3-form-group.bp3-intent-warning .bp3-form-helper-text{
    color:#bf7326; }
  .bp3-form-group.bp3-intent-danger .bp3-form-helper-text{
    color:#c23030; }
  .bp3-form-group.bp3-inline{
    -webkit-box-align:start;
        -ms-flex-align:start;
            align-items:flex-start;
    -webkit-box-orient:horizontal;
    -webkit-box-direction:normal;
        -ms-flex-direction:row;
            flex-direction:row; }
    .bp3-form-group.bp3-inline.bp3-large label.bp3-label{
      line-height:40px;
      margin:0 10px 0 0; }
    .bp3-form-group.bp3-inline label.bp3-label{
      line-height:30px;
      margin:0 10px 0 0; }
  .bp3-form-group.bp3-disabled .bp3-label,
  .bp3-form-group.bp3-disabled .bp3-text-muted,
  .bp3-form-group.bp3-disabled .bp3-form-helper-text{
    color:rgba(92, 112, 128, 0.6) !important; }
  .bp3-dark .bp3-form-group.bp3-intent-primary .bp3-form-helper-text{
    color:#48aff0; }
  .bp3-dark .bp3-form-group.bp3-intent-success .bp3-form-helper-text{
    color:#3dcc91; }
  .bp3-dark .bp3-form-group.bp3-intent-warning .bp3-form-helper-text{
    color:#ffb366; }
  .bp3-dark .bp3-form-group.bp3-intent-danger .bp3-form-helper-text{
    color:#ff7373; }
  .bp3-dark .bp3-form-group .bp3-form-helper-text{
    color:#a7b6c2; }
  .bp3-dark .bp3-form-group.bp3-disabled .bp3-label,
  .bp3-dark .bp3-form-group.bp3-disabled .bp3-text-muted,
  .bp3-dark .bp3-form-group.bp3-disabled .bp3-form-helper-text{
    color:rgba(167, 182, 194, 0.6) !important; }
.bp3-input-group{
  display:block;
  position:relative; }
  .bp3-input-group .bp3-input{
    position:relative;
    width:100%; }
    .bp3-input-group .bp3-input:not(:first-child){
      padding-left:30px; }
    .bp3-input-group .bp3-input:not(:last-child){
      padding-right:30px; }
  .bp3-input-group .bp3-input-action,
  .bp3-input-group > .bp3-input-left-container,
  .bp3-input-group > .bp3-button,
  .bp3-input-group > .bp3-icon{
    position:absolute;
    top:0; }
    .bp3-input-group .bp3-input-action:first-child,
    .bp3-input-group > .bp3-input-left-container:first-child,
    .bp3-input-group > .bp3-button:first-child,
    .bp3-input-group > .bp3-icon:first-child{
      left:0; }
    .bp3-input-group .bp3-input-action:last-child,
    .bp3-input-group > .bp3-input-left-container:last-child,
    .bp3-input-group > .bp3-button:last-child,
    .bp3-input-group > .bp3-icon:last-child{
      right:0; }
  .bp3-input-group .bp3-button{
    min-height:24px;
    min-width:24px;
    margin:3px;
    padding:0 7px; }
    .bp3-input-group .bp3-button:empty{
      padding:0; }
  .bp3-input-group > .bp3-input-left-container,
  .bp3-input-group > .bp3-icon{
    z-index:1; }
  .bp3-input-group > .bp3-input-left-container > .bp3-icon,
  .bp3-input-group > .bp3-icon{
    color:#5c7080; }
    .bp3-input-group > .bp3-input-left-container > .bp3-icon:empty,
    .bp3-input-group > .bp3-icon:empty{
      font-family:"Icons16", sans-serif;
      font-size:16px;
      font-style:normal;
      font-weight:400;
      line-height:1;
      -moz-osx-font-smoothing:grayscale;
      -webkit-font-smoothing:antialiased; }
  .bp3-input-group > .bp3-input-left-container > .bp3-icon,
  .bp3-input-group > .bp3-icon,
  .bp3-input-group .bp3-input-action > .bp3-spinner{
    margin:7px; }
  .bp3-input-group .bp3-tag{
    margin:5px; }
  .bp3-input-group .bp3-input:not(:focus) + .bp3-button.bp3-minimal:not(:hover):not(:focus),
  .bp3-input-group .bp3-input:not(:focus) + .bp3-input-action .bp3-button.bp3-minimal:not(:hover):not(:focus){
    color:#5c7080; }
    .bp3-dark .bp3-input-group .bp3-input:not(:focus) + .bp3-button.bp3-minimal:not(:hover):not(:focus), .bp3-dark
    .bp3-input-group .bp3-input:not(:focus) + .bp3-input-action .bp3-button.bp3-minimal:not(:hover):not(:focus){
      color:#a7b6c2; }
    .bp3-input-group .bp3-input:not(:focus) + .bp3-button.bp3-minimal:not(:hover):not(:focus) .bp3-icon, .bp3-input-group .bp3-input:not(:focus) + .bp3-button.bp3-minimal:not(:hover):not(:focus) .bp3-icon-standard, .bp3-input-group .bp3-input:not(:focus) + .bp3-button.bp3-minimal:not(:hover):not(:focus) .bp3-icon-large,
    .bp3-input-group .bp3-input:not(:focus) + .bp3-input-action .bp3-button.bp3-minimal:not(:hover):not(:focus) .bp3-icon,
    .bp3-input-group .bp3-input:not(:focus) + .bp3-input-action .bp3-button.bp3-minimal:not(:hover):not(:focus) .bp3-icon-standard,
    .bp3-input-group .bp3-input:not(:focus) + .bp3-input-action .bp3-button.bp3-minimal:not(:hover):not(:focus) .bp3-icon-large{
      color:#5c7080; }
  .bp3-input-group .bp3-input:not(:focus) + .bp3-button.bp3-minimal:disabled,
  .bp3-input-group .bp3-input:not(:focus) + .bp3-input-action .bp3-button.bp3-minimal:disabled{
    color:rgba(92, 112, 128, 0.6) !important; }
    .bp3-input-group .bp3-input:not(:focus) + .bp3-button.bp3-minimal:disabled .bp3-icon, .bp3-input-group .bp3-input:not(:focus) + .bp3-button.bp3-minimal:disabled .bp3-icon-standard, .bp3-input-group .bp3-input:not(:focus) + .bp3-button.bp3-minimal:disabled .bp3-icon-large,
    .bp3-input-group .bp3-input:not(:focus) + .bp3-input-action .bp3-button.bp3-minimal:disabled .bp3-icon,
    .bp3-input-group .bp3-input:not(:focus) + .bp3-input-action .bp3-button.bp3-minimal:disabled .bp3-icon-standard,
    .bp3-input-group .bp3-input:not(:focus) + .bp3-input-action .bp3-button.bp3-minimal:disabled .bp3-icon-large{
      color:rgba(92, 112, 128, 0.6) !important; }
  .bp3-input-group.bp3-disabled{
    cursor:not-allowed; }
    .bp3-input-group.bp3-disabled .bp3-icon{
      color:rgba(92, 112, 128, 0.6); }
  .bp3-input-group.bp3-large .bp3-button{
    min-height:30px;
    min-width:30px;
    margin:5px; }
  .bp3-input-group.bp3-large > .bp3-input-left-container > .bp3-icon,
  .bp3-input-group.bp3-large > .bp3-icon,
  .bp3-input-group.bp3-large .bp3-input-action > .bp3-spinner{
    margin:12px; }
  .bp3-input-group.bp3-large .bp3-input{
    font-size:16px;
    height:40px;
    line-height:40px; }
    .bp3-input-group.bp3-large .bp3-input[type="search"], .bp3-input-group.bp3-large .bp3-input.bp3-round{
      padding:0 15px; }
    .bp3-input-group.bp3-large .bp3-input:not(:first-child){
      padding-left:40px; }
    .bp3-input-group.bp3-large .bp3-input:not(:last-child){
      padding-right:40px; }
  .bp3-input-group.bp3-small .bp3-button{
    min-height:20px;
    min-width:20px;
    margin:2px; }
  .bp3-input-group.bp3-small .bp3-tag{
    min-height:20px;
    min-width:20px;
    margin:2px; }
  .bp3-input-group.bp3-small > .bp3-input-left-container > .bp3-icon,
  .bp3-input-group.bp3-small > .bp3-icon,
  .bp3-input-group.bp3-small .bp3-input-action > .bp3-spinner{
    margin:4px; }
  .bp3-input-group.bp3-small .bp3-input{
    font-size:12px;
    height:24px;
    line-height:24px;
    padding-left:8px;
    padding-right:8px; }
    .bp3-input-group.bp3-small .bp3-input[type="search"], .bp3-input-group.bp3-small .bp3-input.bp3-round{
      padding:0 12px; }
    .bp3-input-group.bp3-small .bp3-input:not(:first-child){
      padding-left:24px; }
    .bp3-input-group.bp3-small .bp3-input:not(:last-child){
      padding-right:24px; }
  .bp3-input-group.bp3-fill{
    -webkit-box-flex:1;
        -ms-flex:1 1 auto;
            flex:1 1 auto;
    width:100%; }
  .bp3-input-group.bp3-round .bp3-button,
  .bp3-input-group.bp3-round .bp3-input,
  .bp3-input-group.bp3-round .bp3-tag{
    border-radius:30px; }
  .bp3-dark .bp3-input-group .bp3-icon{
    color:#a7b6c2; }
  .bp3-dark .bp3-input-group.bp3-disabled .bp3-icon{
    color:rgba(167, 182, 194, 0.6); }
  .bp3-input-group.bp3-intent-primary .bp3-input{
    -webkit-box-shadow:0 0 0 0 rgba(19, 124, 189, 0), 0 0 0 0 rgba(19, 124, 189, 0), inset 0 0 0 1px #137cbd, inset 0 0 0 1px rgba(16, 22, 26, 0.15), inset 0 1px 1px rgba(16, 22, 26, 0.2);
            box-shadow:0 0 0 0 rgba(19, 124, 189, 0), 0 0 0 0 rgba(19, 124, 189, 0), inset 0 0 0 1px #137cbd, inset 0 0 0 1px rgba(16, 22, 26, 0.15), inset 0 1px 1px rgba(16, 22, 26, 0.2); }
    .bp3-input-group.bp3-intent-primary .bp3-input:focus{
      -webkit-box-shadow:0 0 0 1px #137cbd, 0 0 0 3px rgba(19, 124, 189, 0.3), inset 0 1px 1px rgba(16, 22, 26, 0.2);
              box-shadow:0 0 0 1px #137cbd, 0 0 0 3px rgba(19, 124, 189, 0.3), inset 0 1px 1px rgba(16, 22, 26, 0.2); }
    .bp3-input-group.bp3-intent-primary .bp3-input[readonly]{
      -webkit-box-shadow:inset 0 0 0 1px #137cbd;
              box-shadow:inset 0 0 0 1px #137cbd; }
    .bp3-input-group.bp3-intent-primary .bp3-input:disabled, .bp3-input-group.bp3-intent-primary .bp3-input.bp3-disabled{
      -webkit-box-shadow:none;
              box-shadow:none; }
  .bp3-input-group.bp3-intent-primary > .bp3-icon{
    color:#106ba3; }
    .bp3-dark .bp3-input-group.bp3-intent-primary > .bp3-icon{
      color:#48aff0; }
  .bp3-input-group.bp3-intent-success .bp3-input{
    -webkit-box-shadow:0 0 0 0 rgba(15, 153, 96, 0), 0 0 0 0 rgba(15, 153, 96, 0), inset 0 0 0 1px #0f9960, inset 0 0 0 1px rgba(16, 22, 26, 0.15), inset 0 1px 1px rgba(16, 22, 26, 0.2);
            box-shadow:0 0 0 0 rgba(15, 153, 96, 0), 0 0 0 0 rgba(15, 153, 96, 0), inset 0 0 0 1px #0f9960, inset 0 0 0 1px rgba(16, 22, 26, 0.15), inset 0 1px 1px rgba(16, 22, 26, 0.2); }
    .bp3-input-group.bp3-intent-success .bp3-input:focus{
      -webkit-box-shadow:0 0 0 1px #0f9960, 0 0 0 3px rgba(15, 153, 96, 0.3), inset 0 1px 1px rgba(16, 22, 26, 0.2);
              box-shadow:0 0 0 1px #0f9960, 0 0 0 3px rgba(15, 153, 96, 0.3), inset 0 1px 1px rgba(16, 22, 26, 0.2); }
    .bp3-input-group.bp3-intent-success .bp3-input[readonly]{
      -webkit-box-shadow:inset 0 0 0 1px #0f9960;
              box-shadow:inset 0 0 0 1px #0f9960; }
    .bp3-input-group.bp3-intent-success .bp3-input:disabled, .bp3-input-group.bp3-intent-success .bp3-input.bp3-disabled{
      -webkit-box-shadow:none;
              box-shadow:none; }
  .bp3-input-group.bp3-intent-success > .bp3-icon{
    color:#0d8050; }
    .bp3-dark .bp3-input-group.bp3-intent-success > .bp3-icon{
      color:#3dcc91; }
  .bp3-input-group.bp3-intent-warning .bp3-input{
    -webkit-box-shadow:0 0 0 0 rgba(217, 130, 43, 0), 0 0 0 0 rgba(217, 130, 43, 0), inset 0 0 0 1px #d9822b, inset 0 0 0 1px rgba(16, 22, 26, 0.15), inset 0 1px 1px rgba(16, 22, 26, 0.2);
            box-shadow:0 0 0 0 rgba(217, 130, 43, 0), 0 0 0 0 rgba(217, 130, 43, 0), inset 0 0 0 1px #d9822b, inset 0 0 0 1px rgba(16, 22, 26, 0.15), inset 0 1px 1px rgba(16, 22, 26, 0.2); }
    .bp3-input-group.bp3-intent-warning .bp3-input:focus{
      -webkit-box-shadow:0 0 0 1px #d9822b, 0 0 0 3px rgba(217, 130, 43, 0.3), inset 0 1px 1px rgba(16, 22, 26, 0.2);
              box-shadow:0 0 0 1px #d9822b, 0 0 0 3px rgba(217, 130, 43, 0.3), inset 0 1px 1px rgba(16, 22, 26, 0.2); }
    .bp3-input-group.bp3-intent-warning .bp3-input[readonly]{
      -webkit-box-shadow:inset 0 0 0 1px #d9822b;
              box-shadow:inset 0 0 0 1px #d9822b; }
    .bp3-input-group.bp3-intent-warning .bp3-input:disabled, .bp3-input-group.bp3-intent-warning .bp3-input.bp3-disabled{
      -webkit-box-shadow:none;
              box-shadow:none; }
  .bp3-input-group.bp3-intent-warning > .bp3-icon{
    color:#bf7326; }
    .bp3-dark .bp3-input-group.bp3-intent-warning > .bp3-icon{
      color:#ffb366; }
  .bp3-input-group.bp3-intent-danger .bp3-input{
    -webkit-box-shadow:0 0 0 0 rgba(219, 55, 55, 0), 0 0 0 0 rgba(219, 55, 55, 0), inset 0 0 0 1px #db3737, inset 0 0 0 1px rgba(16, 22, 26, 0.15), inset 0 1px 1px rgba(16, 22, 26, 0.2);
            box-shadow:0 0 0 0 rgba(219, 55, 55, 0), 0 0 0 0 rgba(219, 55, 55, 0), inset 0 0 0 1px #db3737, inset 0 0 0 1px rgba(16, 22, 26, 0.15), inset 0 1px 1px rgba(16, 22, 26, 0.2); }
    .bp3-input-group.bp3-intent-danger .bp3-input:focus{
      -webkit-box-shadow:0 0 0 1px #db3737, 0 0 0 3px rgba(219, 55, 55, 0.3), inset 0 1px 1px rgba(16, 22, 26, 0.2);
              box-shadow:0 0 0 1px #db3737, 0 0 0 3px rgba(219, 55, 55, 0.3), inset 0 1px 1px rgba(16, 22, 26, 0.2); }
    .bp3-input-group.bp3-intent-danger .bp3-input[readonly]{
      -webkit-box-shadow:inset 0 0 0 1px #db3737;
              box-shadow:inset 0 0 0 1px #db3737; }
    .bp3-input-group.bp3-intent-danger .bp3-input:disabled, .bp3-input-group.bp3-intent-danger .bp3-input.bp3-disabled{
      -webkit-box-shadow:none;
              box-shadow:none; }
  .bp3-input-group.bp3-intent-danger > .bp3-icon{
    color:#c23030; }
    .bp3-dark .bp3-input-group.bp3-intent-danger > .bp3-icon{
      color:#ff7373; }
.bp3-input{
  -webkit-appearance:none;
     -moz-appearance:none;
          appearance:none;
  background:#ffffff;
  border:none;
  border-radius:3px;
  -webkit-box-shadow:0 0 0 0 rgba(19, 124, 189, 0), 0 0 0 0 rgba(19, 124, 189, 0), inset 0 0 0 1px rgba(16, 22, 26, 0.15), inset 0 1px 1px rgba(16, 22, 26, 0.2);
          box-shadow:0 0 0 0 rgba(19, 124, 189, 0), 0 0 0 0 rgba(19, 124, 189, 0), inset 0 0 0 1px rgba(16, 22, 26, 0.15), inset 0 1px 1px rgba(16, 22, 26, 0.2);
  color:#182026;
  font-size:14px;
  font-weight:400;
  height:30px;
  line-height:30px;
  outline:none;
  padding:0 10px;
  -webkit-transition:-webkit-box-shadow 100ms cubic-bezier(0.4, 1, 0.75, 0.9);
  transition:-webkit-box-shadow 100ms cubic-bezier(0.4, 1, 0.75, 0.9);
  transition:box-shadow 100ms cubic-bezier(0.4, 1, 0.75, 0.9);
  transition:box-shadow 100ms cubic-bezier(0.4, 1, 0.75, 0.9), -webkit-box-shadow 100ms cubic-bezier(0.4, 1, 0.75, 0.9);
  vertical-align:middle; }
  .bp3-input::-webkit-input-placeholder{
    color:rgba(92, 112, 128, 0.6);
    opacity:1; }
  .bp3-input::-moz-placeholder{
    color:rgba(92, 112, 128, 0.6);
    opacity:1; }
  .bp3-input:-ms-input-placeholder{
    color:rgba(92, 112, 128, 0.6);
    opacity:1; }
  .bp3-input::-ms-input-placeholder{
    color:rgba(92, 112, 128, 0.6);
    opacity:1; }
  .bp3-input::placeholder{
    color:rgba(92, 112, 128, 0.6);
    opacity:1; }
  .bp3-input:focus, .bp3-input.bp3-active{
    -webkit-box-shadow:0 0 0 1px #137cbd, 0 0 0 3px rgba(19, 124, 189, 0.3), inset 0 1px 1px rgba(16, 22, 26, 0.2);
            box-shadow:0 0 0 1px #137cbd, 0 0 0 3px rgba(19, 124, 189, 0.3), inset 0 1px 1px rgba(16, 22, 26, 0.2); }
  .bp3-input[type="search"], .bp3-input.bp3-round{
    border-radius:30px;
    -webkit-box-sizing:border-box;
            box-sizing:border-box;
    padding-left:10px; }
  .bp3-input[readonly]{
    -webkit-box-shadow:inset 0 0 0 1px rgba(16, 22, 26, 0.15);
            box-shadow:inset 0 0 0 1px rgba(16, 22, 26, 0.15); }
  .bp3-input:disabled, .bp3-input.bp3-disabled{
    background:rgba(206, 217, 224, 0.5);
    -webkit-box-shadow:none;
            box-shadow:none;
    color:rgba(92, 112, 128, 0.6);
    cursor:not-allowed;
    resize:none; }
  .bp3-input.bp3-large{
    font-size:16px;
    height:40px;
    line-height:40px; }
    .bp3-input.bp3-large[type="search"], .bp3-input.bp3-large.bp3-round{
      padding:0 15px; }
  .bp3-input.bp3-small{
    font-size:12px;
    height:24px;
    line-height:24px;
    padding-left:8px;
    padding-right:8px; }
    .bp3-input.bp3-small[type="search"], .bp3-input.bp3-small.bp3-round{
      padding:0 12px; }
  .bp3-input.bp3-fill{
    -webkit-box-flex:1;
        -ms-flex:1 1 auto;
            flex:1 1 auto;
    width:100%; }
  .bp3-dark .bp3-input{
    background:rgba(16, 22, 26, 0.3);
    -webkit-box-shadow:0 0 0 0 rgba(19, 124, 189, 0), 0 0 0 0 rgba(19, 124, 189, 0), 0 0 0 0 rgba(19, 124, 189, 0), inset 0 0 0 1px rgba(16, 22, 26, 0.3), inset 0 1px 1px rgba(16, 22, 26, 0.4);
            box-shadow:0 0 0 0 rgba(19, 124, 189, 0), 0 0 0 0 rgba(19, 124, 189, 0), 0 0 0 0 rgba(19, 124, 189, 0), inset 0 0 0 1px rgba(16, 22, 26, 0.3), inset 0 1px 1px rgba(16, 22, 26, 0.4);
    color:#f5f8fa; }
    .bp3-dark .bp3-input::-webkit-input-placeholder{
      color:rgba(167, 182, 194, 0.6); }
    .bp3-dark .bp3-input::-moz-placeholder{
      color:rgba(167, 182, 194, 0.6); }
    .bp3-dark .bp3-input:-ms-input-placeholder{
      color:rgba(167, 182, 194, 0.6); }
    .bp3-dark .bp3-input::-ms-input-placeholder{
      color:rgba(167, 182, 194, 0.6); }
    .bp3-dark .bp3-input::placeholder{
      color:rgba(167, 182, 194, 0.6); }
    .bp3-dark .bp3-input:focus{
      -webkit-box-shadow:0 0 0 1px #137cbd, 0 0 0 1px #137cbd, 0 0 0 3px rgba(19, 124, 189, 0.3), inset 0 0 0 1px rgba(16, 22, 26, 0.3), inset 0 1px 1px rgba(16, 22, 26, 0.4);
              box-shadow:0 0 0 1px #137cbd, 0 0 0 1px #137cbd, 0 0 0 3px rgba(19, 124, 189, 0.3), inset 0 0 0 1px rgba(16, 22, 26, 0.3), inset 0 1px 1px rgba(16, 22, 26, 0.4); }
    .bp3-dark .bp3-input[readonly]{
      -webkit-box-shadow:inset 0 0 0 1px rgba(16, 22, 26, 0.4);
              box-shadow:inset 0 0 0 1px rgba(16, 22, 26, 0.4); }
    .bp3-dark .bp3-input:disabled, .bp3-dark .bp3-input.bp3-disabled{
      background:rgba(57, 75, 89, 0.5);
      -webkit-box-shadow:none;
              box-shadow:none;
      color:rgba(167, 182, 194, 0.6); }
  .bp3-input.bp3-intent-primary{
    -webkit-box-shadow:0 0 0 0 rgba(19, 124, 189, 0), 0 0 0 0 rgba(19, 124, 189, 0), inset 0 0 0 1px #137cbd, inset 0 0 0 1px rgba(16, 22, 26, 0.15), inset 0 1px 1px rgba(16, 22, 26, 0.2);
            box-shadow:0 0 0 0 rgba(19, 124, 189, 0), 0 0 0 0 rgba(19, 124, 189, 0), inset 0 0 0 1px #137cbd, inset 0 0 0 1px rgba(16, 22, 26, 0.15), inset 0 1px 1px rgba(16, 22, 26, 0.2); }
    .bp3-input.bp3-intent-primary:focus{
      -webkit-box-shadow:0 0 0 1px #137cbd, 0 0 0 3px rgba(19, 124, 189, 0.3), inset 0 1px 1px rgba(16, 22, 26, 0.2);
              box-shadow:0 0 0 1px #137cbd, 0 0 0 3px rgba(19, 124, 189, 0.3), inset 0 1px 1px rgba(16, 22, 26, 0.2); }
    .bp3-input.bp3-intent-primary[readonly]{
      -webkit-box-shadow:inset 0 0 0 1px #137cbd;
              box-shadow:inset 0 0 0 1px #137cbd; }
    .bp3-input.bp3-intent-primary:disabled, .bp3-input.bp3-intent-primary.bp3-disabled{
      -webkit-box-shadow:none;
              box-shadow:none; }
    .bp3-dark .bp3-input.bp3-intent-primary{
      -webkit-box-shadow:0 0 0 0 rgba(19, 124, 189, 0), 0 0 0 0 rgba(19, 124, 189, 0), 0 0 0 0 rgba(19, 124, 189, 0), inset 0 0 0 1px #137cbd, inset 0 0 0 1px rgba(16, 22, 26, 0.3), inset 0 1px 1px rgba(16, 22, 26, 0.4);
              box-shadow:0 0 0 0 rgba(19, 124, 189, 0), 0 0 0 0 rgba(19, 124, 189, 0), 0 0 0 0 rgba(19, 124, 189, 0), inset 0 0 0 1px #137cbd, inset 0 0 0 1px rgba(16, 22, 26, 0.3), inset 0 1px 1px rgba(16, 22, 26, 0.4); }
      .bp3-dark .bp3-input.bp3-intent-primary:focus{
        -webkit-box-shadow:0 0 0 1px #137cbd, 0 0 0 1px #137cbd, 0 0 0 3px rgba(19, 124, 189, 0.3), inset 0 0 0 1px rgba(16, 22, 26, 0.3), inset 0 1px 1px rgba(16, 22, 26, 0.4);
                box-shadow:0 0 0 1px #137cbd, 0 0 0 1px #137cbd, 0 0 0 3px rgba(19, 124, 189, 0.3), inset 0 0 0 1px rgba(16, 22, 26, 0.3), inset 0 1px 1px rgba(16, 22, 26, 0.4); }
      .bp3-dark .bp3-input.bp3-intent-primary[readonly]{
        -webkit-box-shadow:inset 0 0 0 1px #137cbd;
                box-shadow:inset 0 0 0 1px #137cbd; }
      .bp3-dark .bp3-input.bp3-intent-primary:disabled, .bp3-dark .bp3-input.bp3-intent-primary.bp3-disabled{
        -webkit-box-shadow:none;
                box-shadow:none; }
  .bp3-input.bp3-intent-success{
    -webkit-box-shadow:0 0 0 0 rgba(15, 153, 96, 0), 0 0 0 0 rgba(15, 153, 96, 0), inset 0 0 0 1px #0f9960, inset 0 0 0 1px rgba(16, 22, 26, 0.15), inset 0 1px 1px rgba(16, 22, 26, 0.2);
            box-shadow:0 0 0 0 rgba(15, 153, 96, 0), 0 0 0 0 rgba(15, 153, 96, 0), inset 0 0 0 1px #0f9960, inset 0 0 0 1px rgba(16, 22, 26, 0.15), inset 0 1px 1px rgba(16, 22, 26, 0.2); }
    .bp3-input.bp3-intent-success:focus{
      -webkit-box-shadow:0 0 0 1px #0f9960, 0 0 0 3px rgba(15, 153, 96, 0.3), inset 0 1px 1px rgba(16, 22, 26, 0.2);
              box-shadow:0 0 0 1px #0f9960, 0 0 0 3px rgba(15, 153, 96, 0.3), inset 0 1px 1px rgba(16, 22, 26, 0.2); }
    .bp3-input.bp3-intent-success[readonly]{
      -webkit-box-shadow:inset 0 0 0 1px #0f9960;
              box-shadow:inset 0 0 0 1px #0f9960; }
    .bp3-input.bp3-intent-success:disabled, .bp3-input.bp3-intent-success.bp3-disabled{
      -webkit-box-shadow:none;
              box-shadow:none; }
    .bp3-dark .bp3-input.bp3-intent-success{
      -webkit-box-shadow:0 0 0 0 rgba(15, 153, 96, 0), 0 0 0 0 rgba(15, 153, 96, 0), 0 0 0 0 rgba(15, 153, 96, 0), inset 0 0 0 1px #0f9960, inset 0 0 0 1px rgba(16, 22, 26, 0.3), inset 0 1px 1px rgba(16, 22, 26, 0.4);
              box-shadow:0 0 0 0 rgba(15, 153, 96, 0), 0 0 0 0 rgba(15, 153, 96, 0), 0 0 0 0 rgba(15, 153, 96, 0), inset 0 0 0 1px #0f9960, inset 0 0 0 1px rgba(16, 22, 26, 0.3), inset 0 1px 1px rgba(16, 22, 26, 0.4); }
      .bp3-dark .bp3-input.bp3-intent-success:focus{
        -webkit-box-shadow:0 0 0 1px #0f9960, 0 0 0 1px #0f9960, 0 0 0 3px rgba(15, 153, 96, 0.3), inset 0 0 0 1px rgba(16, 22, 26, 0.3), inset 0 1px 1px rgba(16, 22, 26, 0.4);
                box-shadow:0 0 0 1px #0f9960, 0 0 0 1px #0f9960, 0 0 0 3px rgba(15, 153, 96, 0.3), inset 0 0 0 1px rgba(16, 22, 26, 0.3), inset 0 1px 1px rgba(16, 22, 26, 0.4); }
      .bp3-dark .bp3-input.bp3-intent-success[readonly]{
        -webkit-box-shadow:inset 0 0 0 1px #0f9960;
                box-shadow:inset 0 0 0 1px #0f9960; }
      .bp3-dark .bp3-input.bp3-intent-success:disabled, .bp3-dark .bp3-input.bp3-intent-success.bp3-disabled{
        -webkit-box-shadow:none;
                box-shadow:none; }
  .bp3-input.bp3-intent-warning{
    -webkit-box-shadow:0 0 0 0 rgba(217, 130, 43, 0), 0 0 0 0 rgba(217, 130, 43, 0), inset 0 0 0 1px #d9822b, inset 0 0 0 1px rgba(16, 22, 26, 0.15), inset 0 1px 1px rgba(16, 22, 26, 0.2);
            box-shadow:0 0 0 0 rgba(217, 130, 43, 0), 0 0 0 0 rgba(217, 130, 43, 0), inset 0 0 0 1px #d9822b, inset 0 0 0 1px rgba(16, 22, 26, 0.15), inset 0 1px 1px rgba(16, 22, 26, 0.2); }
    .bp3-input.bp3-intent-warning:focus{
      -webkit-box-shadow:0 0 0 1px #d9822b, 0 0 0 3px rgba(217, 130, 43, 0.3), inset 0 1px 1px rgba(16, 22, 26, 0.2);
              box-shadow:0 0 0 1px #d9822b, 0 0 0 3px rgba(217, 130, 43, 0.3), inset 0 1px 1px rgba(16, 22, 26, 0.2); }
    .bp3-input.bp3-intent-warning[readonly]{
      -webkit-box-shadow:inset 0 0 0 1px #d9822b;
              box-shadow:inset 0 0 0 1px #d9822b; }
    .bp3-input.bp3-intent-warning:disabled, .bp3-input.bp3-intent-warning.bp3-disabled{
      -webkit-box-shadow:none;
              box-shadow:none; }
    .bp3-dark .bp3-input.bp3-intent-warning{
      -webkit-box-shadow:0 0 0 0 rgba(217, 130, 43, 0), 0 0 0 0 rgba(217, 130, 43, 0), 0 0 0 0 rgba(217, 130, 43, 0), inset 0 0 0 1px #d9822b, inset 0 0 0 1px rgba(16, 22, 26, 0.3), inset 0 1px 1px rgba(16, 22, 26, 0.4);
              box-shadow:0 0 0 0 rgba(217, 130, 43, 0), 0 0 0 0 rgba(217, 130, 43, 0), 0 0 0 0 rgba(217, 130, 43, 0), inset 0 0 0 1px #d9822b, inset 0 0 0 1px rgba(16, 22, 26, 0.3), inset 0 1px 1px rgba(16, 22, 26, 0.4); }
      .bp3-dark .bp3-input.bp3-intent-warning:focus{
        -webkit-box-shadow:0 0 0 1px #d9822b, 0 0 0 1px #d9822b, 0 0 0 3px rgba(217, 130, 43, 0.3), inset 0 0 0 1px rgba(16, 22, 26, 0.3), inset 0 1px 1px rgba(16, 22, 26, 0.4);
                box-shadow:0 0 0 1px #d9822b, 0 0 0 1px #d9822b, 0 0 0 3px rgba(217, 130, 43, 0.3), inset 0 0 0 1px rgba(16, 22, 26, 0.3), inset 0 1px 1px rgba(16, 22, 26, 0.4); }
      .bp3-dark .bp3-input.bp3-intent-warning[readonly]{
        -webkit-box-shadow:inset 0 0 0 1px #d9822b;
                box-shadow:inset 0 0 0 1px #d9822b; }
      .bp3-dark .bp3-input.bp3-intent-warning:disabled, .bp3-dark .bp3-input.bp3-intent-warning.bp3-disabled{
        -webkit-box-shadow:none;
                box-shadow:none; }
  .bp3-input.bp3-intent-danger{
    -webkit-box-shadow:0 0 0 0 rgba(219, 55, 55, 0), 0 0 0 0 rgba(219, 55, 55, 0), inset 0 0 0 1px #db3737, inset 0 0 0 1px rgba(16, 22, 26, 0.15), inset 0 1px 1px rgba(16, 22, 26, 0.2);
            box-shadow:0 0 0 0 rgba(219, 55, 55, 0), 0 0 0 0 rgba(219, 55, 55, 0), inset 0 0 0 1px #db3737, inset 0 0 0 1px rgba(16, 22, 26, 0.15), inset 0 1px 1px rgba(16, 22, 26, 0.2); }
    .bp3-input.bp3-intent-danger:focus{
      -webkit-box-shadow:0 0 0 1px #db3737, 0 0 0 3px rgba(219, 55, 55, 0.3), inset 0 1px 1px rgba(16, 22, 26, 0.2);
              box-shadow:0 0 0 1px #db3737, 0 0 0 3px rgba(219, 55, 55, 0.3), inset 0 1px 1px rgba(16, 22, 26, 0.2); }
    .bp3-input.bp3-intent-danger[readonly]{
      -webkit-box-shadow:inset 0 0 0 1px #db3737;
              box-shadow:inset 0 0 0 1px #db3737; }
    .bp3-input.bp3-intent-danger:disabled, .bp3-input.bp3-intent-danger.bp3-disabled{
      -webkit-box-shadow:none;
              box-shadow:none; }
    .bp3-dark .bp3-input.bp3-intent-danger{
      -webkit-box-shadow:0 0 0 0 rgba(219, 55, 55, 0), 0 0 0 0 rgba(219, 55, 55, 0), 0 0 0 0 rgba(219, 55, 55, 0), inset 0 0 0 1px #db3737, inset 0 0 0 1px rgba(16, 22, 26, 0.3), inset 0 1px 1px rgba(16, 22, 26, 0.4);
              box-shadow:0 0 0 0 rgba(219, 55, 55, 0), 0 0 0 0 rgba(219, 55, 55, 0), 0 0 0 0 rgba(219, 55, 55, 0), inset 0 0 0 1px #db3737, inset 0 0 0 1px rgba(16, 22, 26, 0.3), inset 0 1px 1px rgba(16, 22, 26, 0.4); }
      .bp3-dark .bp3-input.bp3-intent-danger:focus{
        -webkit-box-shadow:0 0 0 1px #db3737, 0 0 0 1px #db3737, 0 0 0 3px rgba(219, 55, 55, 0.3), inset 0 0 0 1px rgba(16, 22, 26, 0.3), inset 0 1px 1px rgba(16, 22, 26, 0.4);
                box-shadow:0 0 0 1px #db3737, 0 0 0 1px #db3737, 0 0 0 3px rgba(219, 55, 55, 0.3), inset 0 0 0 1px rgba(16, 22, 26, 0.3), inset 0 1px 1px rgba(16, 22, 26, 0.4); }
      .bp3-dark .bp3-input.bp3-intent-danger[readonly]{
        -webkit-box-shadow:inset 0 0 0 1px #db3737;
                box-shadow:inset 0 0 0 1px #db3737; }
      .bp3-dark .bp3-input.bp3-intent-danger:disabled, .bp3-dark .bp3-input.bp3-intent-danger.bp3-disabled{
        -webkit-box-shadow:none;
                box-shadow:none; }
  .bp3-input::-ms-clear{
    display:none; }
textarea.bp3-input{
  max-width:100%;
  padding:10px; }
  textarea.bp3-input, textarea.bp3-input.bp3-large, textarea.bp3-input.bp3-small{
    height:auto;
    line-height:inherit; }
  textarea.bp3-input.bp3-small{
    padding:8px; }
  .bp3-dark textarea.bp3-input{
    background:rgba(16, 22, 26, 0.3);
    -webkit-box-shadow:0 0 0 0 rgba(19, 124, 189, 0), 0 0 0 0 rgba(19, 124, 189, 0), 0 0 0 0 rgba(19, 124, 189, 0), inset 0 0 0 1px rgba(16, 22, 26, 0.3), inset 0 1px 1px rgba(16, 22, 26, 0.4);
            box-shadow:0 0 0 0 rgba(19, 124, 189, 0), 0 0 0 0 rgba(19, 124, 189, 0), 0 0 0 0 rgba(19, 124, 189, 0), inset 0 0 0 1px rgba(16, 22, 26, 0.3), inset 0 1px 1px rgba(16, 22, 26, 0.4);
    color:#f5f8fa; }
    .bp3-dark textarea.bp3-input::-webkit-input-placeholder{
      color:rgba(167, 182, 194, 0.6); }
    .bp3-dark textarea.bp3-input::-moz-placeholder{
      color:rgba(167, 182, 194, 0.6); }
    .bp3-dark textarea.bp3-input:-ms-input-placeholder{
      color:rgba(167, 182, 194, 0.6); }
    .bp3-dark textarea.bp3-input::-ms-input-placeholder{
      color:rgba(167, 182, 194, 0.6); }
    .bp3-dark textarea.bp3-input::placeholder{
      color:rgba(167, 182, 194, 0.6); }
    .bp3-dark textarea.bp3-input:focus{
      -webkit-box-shadow:0 0 0 1px #137cbd, 0 0 0 1px #137cbd, 0 0 0 3px rgba(19, 124, 189, 0.3), inset 0 0 0 1px rgba(16, 22, 26, 0.3), inset 0 1px 1px rgba(16, 22, 26, 0.4);
              box-shadow:0 0 0 1px #137cbd, 0 0 0 1px #137cbd, 0 0 0 3px rgba(19, 124, 189, 0.3), inset 0 0 0 1px rgba(16, 22, 26, 0.3), inset 0 1px 1px rgba(16, 22, 26, 0.4); }
    .bp3-dark textarea.bp3-input[readonly]{
      -webkit-box-shadow:inset 0 0 0 1px rgba(16, 22, 26, 0.4);
              box-shadow:inset 0 0 0 1px rgba(16, 22, 26, 0.4); }
    .bp3-dark textarea.bp3-input:disabled, .bp3-dark textarea.bp3-input.bp3-disabled{
      background:rgba(57, 75, 89, 0.5);
      -webkit-box-shadow:none;
              box-shadow:none;
      color:rgba(167, 182, 194, 0.6); }
label.bp3-label{
  display:block;
  margin-bottom:15px;
  margin-top:0; }
  label.bp3-label .bp3-html-select,
  label.bp3-label .bp3-input,
  label.bp3-label .bp3-select,
  label.bp3-label .bp3-slider,
  label.bp3-label .bp3-popover-wrapper{
    display:block;
    margin-top:5px;
    text-transform:none; }
  label.bp3-label .bp3-button-group{
    margin-top:5px; }
  label.bp3-label .bp3-select select,
  label.bp3-label .bp3-html-select select{
    font-weight:400;
    vertical-align:top;
    width:100%; }
  label.bp3-label.bp3-disabled,
  label.bp3-label.bp3-disabled .bp3-text-muted{
    color:rgba(92, 112, 128, 0.6); }
  label.bp3-label.bp3-inline{
    line-height:30px; }
    label.bp3-label.bp3-inline .bp3-html-select,
    label.bp3-label.bp3-inline .bp3-input,
    label.bp3-label.bp3-inline .bp3-input-group,
    label.bp3-label.bp3-inline .bp3-select,
    label.bp3-label.bp3-inline .bp3-popover-wrapper{
      display:inline-block;
      margin:0 0 0 5px;
      vertical-align:top; }
    label.bp3-label.bp3-inline .bp3-button-group{
      margin:0 0 0 5px; }
    label.bp3-label.bp3-inline .bp3-input-group .bp3-input{
      margin-left:0; }
    label.bp3-label.bp3-inline.bp3-large{
      line-height:40px; }
  label.bp3-label:not(.bp3-inline) .bp3-popover-target{
    display:block; }
  .bp3-dark label.bp3-label{
    color:#f5f8fa; }
    .bp3-dark label.bp3-label.bp3-disabled,
    .bp3-dark label.bp3-label.bp3-disabled .bp3-text-muted{
      color:rgba(167, 182, 194, 0.6); }
.bp3-numeric-input .bp3-button-group.bp3-vertical > .bp3-button{
  -webkit-box-flex:1;
      -ms-flex:1 1 14px;
          flex:1 1 14px;
  min-height:0;
  padding:0;
  width:30px; }
  .bp3-numeric-input .bp3-button-group.bp3-vertical > .bp3-button:first-child{
    border-radius:0 3px 0 0; }
  .bp3-numeric-input .bp3-button-group.bp3-vertical > .bp3-button:last-child{
    border-radius:0 0 3px 0; }

.bp3-numeric-input .bp3-button-group.bp3-vertical:first-child > .bp3-button:first-child{
  border-radius:3px 0 0 0; }

.bp3-numeric-input .bp3-button-group.bp3-vertical:first-child > .bp3-button:last-child{
  border-radius:0 0 0 3px; }

.bp3-numeric-input.bp3-large .bp3-button-group.bp3-vertical > .bp3-button{
  width:40px; }

form{
  display:block; }
.bp3-html-select select,
.bp3-select select{
  display:-webkit-inline-box;
  display:-ms-inline-flexbox;
  display:inline-flex;
  -webkit-box-orient:horizontal;
  -webkit-box-direction:normal;
      -ms-flex-direction:row;
          flex-direction:row;
  -webkit-box-align:center;
      -ms-flex-align:center;
          align-items:center;
  border:none;
  border-radius:3px;
  cursor:pointer;
  font-size:14px;
  -webkit-box-pack:center;
      -ms-flex-pack:center;
          justify-content:center;
  padding:5px 10px;
  text-align:left;
  vertical-align:middle;
  background-color:#f5f8fa;
  background-image:-webkit-gradient(linear, left top, left bottom, from(rgba(255, 255, 255, 0.8)), to(rgba(255, 255, 255, 0)));
  background-image:linear-gradient(to bottom, rgba(255, 255, 255, 0.8), rgba(255, 255, 255, 0));
  -webkit-box-shadow:inset 0 0 0 1px rgba(16, 22, 26, 0.2), inset 0 -1px 0 rgba(16, 22, 26, 0.1);
          box-shadow:inset 0 0 0 1px rgba(16, 22, 26, 0.2), inset 0 -1px 0 rgba(16, 22, 26, 0.1);
  color:#182026;
  -moz-appearance:none;
  -webkit-appearance:none;
  border-radius:3px;
  height:30px;
  padding:0 25px 0 10px;
  width:100%; }
  .bp3-html-select select > *, .bp3-select select > *{
    -webkit-box-flex:0;
        -ms-flex-positive:0;
            flex-grow:0;
    -ms-flex-negative:0;
        flex-shrink:0; }
  .bp3-html-select select > .bp3-fill, .bp3-select select > .bp3-fill{
    -webkit-box-flex:1;
        -ms-flex-positive:1;
            flex-grow:1;
    -ms-flex-negative:1;
        flex-shrink:1; }
  .bp3-html-select select::before,
  .bp3-select select::before, .bp3-html-select select > *, .bp3-select select > *{
    margin-right:7px; }
  .bp3-html-select select:empty::before,
  .bp3-select select:empty::before,
  .bp3-html-select select > :last-child,
  .bp3-select select > :last-child{
    margin-right:0; }
  .bp3-html-select select:hover,
  .bp3-select select:hover{
    background-clip:padding-box;
    background-color:#ebf1f5;
    -webkit-box-shadow:inset 0 0 0 1px rgba(16, 22, 26, 0.2), inset 0 -1px 0 rgba(16, 22, 26, 0.1);
            box-shadow:inset 0 0 0 1px rgba(16, 22, 26, 0.2), inset 0 -1px 0 rgba(16, 22, 26, 0.1); }
  .bp3-html-select select:active,
  .bp3-select select:active, .bp3-html-select select.bp3-active,
  .bp3-select select.bp3-active{
    background-color:#d8e1e8;
    background-image:none;
    -webkit-box-shadow:inset 0 0 0 1px rgba(16, 22, 26, 0.2), inset 0 1px 2px rgba(16, 22, 26, 0.2);
            box-shadow:inset 0 0 0 1px rgba(16, 22, 26, 0.2), inset 0 1px 2px rgba(16, 22, 26, 0.2); }
  .bp3-html-select select:disabled,
  .bp3-select select:disabled, .bp3-html-select select.bp3-disabled,
  .bp3-select select.bp3-disabled{
    background-color:rgba(206, 217, 224, 0.5);
    background-image:none;
    -webkit-box-shadow:none;
            box-shadow:none;
    color:rgba(92, 112, 128, 0.6);
    cursor:not-allowed;
    outline:none; }
    .bp3-html-select select:disabled.bp3-active,
    .bp3-select select:disabled.bp3-active, .bp3-html-select select:disabled.bp3-active:hover,
    .bp3-select select:disabled.bp3-active:hover, .bp3-html-select select.bp3-disabled.bp3-active,
    .bp3-select select.bp3-disabled.bp3-active, .bp3-html-select select.bp3-disabled.bp3-active:hover,
    .bp3-select select.bp3-disabled.bp3-active:hover{
      background:rgba(206, 217, 224, 0.7); }

.bp3-html-select.bp3-minimal select,
.bp3-select.bp3-minimal select{
  background:none;
  -webkit-box-shadow:none;
          box-shadow:none; }
  .bp3-html-select.bp3-minimal select:hover,
  .bp3-select.bp3-minimal select:hover{
    background:rgba(167, 182, 194, 0.3);
    -webkit-box-shadow:none;
            box-shadow:none;
    color:#182026;
    text-decoration:none; }
  .bp3-html-select.bp3-minimal select:active,
  .bp3-select.bp3-minimal select:active, .bp3-html-select.bp3-minimal select.bp3-active,
  .bp3-select.bp3-minimal select.bp3-active{
    background:rgba(115, 134, 148, 0.3);
    -webkit-box-shadow:none;
            box-shadow:none;
    color:#182026; }
  .bp3-html-select.bp3-minimal select:disabled,
  .bp3-select.bp3-minimal select:disabled, .bp3-html-select.bp3-minimal select:disabled:hover,
  .bp3-select.bp3-minimal select:disabled:hover, .bp3-html-select.bp3-minimal select.bp3-disabled,
  .bp3-select.bp3-minimal select.bp3-disabled, .bp3-html-select.bp3-minimal select.bp3-disabled:hover,
  .bp3-select.bp3-minimal select.bp3-disabled:hover{
    background:none;
    color:rgba(92, 112, 128, 0.6);
    cursor:not-allowed; }
    .bp3-html-select.bp3-minimal select:disabled.bp3-active,
    .bp3-select.bp3-minimal select:disabled.bp3-active, .bp3-html-select.bp3-minimal select:disabled:hover.bp3-active,
    .bp3-select.bp3-minimal select:disabled:hover.bp3-active, .bp3-html-select.bp3-minimal select.bp3-disabled.bp3-active,
    .bp3-select.bp3-minimal select.bp3-disabled.bp3-active, .bp3-html-select.bp3-minimal select.bp3-disabled:hover.bp3-active,
    .bp3-select.bp3-minimal select.bp3-disabled:hover.bp3-active{
      background:rgba(115, 134, 148, 0.3); }
  .bp3-dark .bp3-html-select.bp3-minimal select, .bp3-html-select.bp3-minimal .bp3-dark select,
  .bp3-dark .bp3-select.bp3-minimal select, .bp3-select.bp3-minimal .bp3-dark select{
    background:none;
    -webkit-box-shadow:none;
            box-shadow:none;
    color:inherit; }
    .bp3-dark .bp3-html-select.bp3-minimal select:hover, .bp3-html-select.bp3-minimal .bp3-dark select:hover,
    .bp3-dark .bp3-select.bp3-minimal select:hover, .bp3-select.bp3-minimal .bp3-dark select:hover, .bp3-dark .bp3-html-select.bp3-minimal select:active, .bp3-html-select.bp3-minimal .bp3-dark select:active,
    .bp3-dark .bp3-select.bp3-minimal select:active, .bp3-select.bp3-minimal .bp3-dark select:active, .bp3-dark .bp3-html-select.bp3-minimal select.bp3-active, .bp3-html-select.bp3-minimal .bp3-dark select.bp3-active,
    .bp3-dark .bp3-select.bp3-minimal select.bp3-active, .bp3-select.bp3-minimal .bp3-dark select.bp3-active{
      background:none;
      -webkit-box-shadow:none;
              box-shadow:none; }
    .bp3-dark .bp3-html-select.bp3-minimal select:hover, .bp3-html-select.bp3-minimal .bp3-dark select:hover,
    .bp3-dark .bp3-select.bp3-minimal select:hover, .bp3-select.bp3-minimal .bp3-dark select:hover{
      background:rgba(138, 155, 168, 0.15); }
    .bp3-dark .bp3-html-select.bp3-minimal select:active, .bp3-html-select.bp3-minimal .bp3-dark select:active,
    .bp3-dark .bp3-select.bp3-minimal select:active, .bp3-select.bp3-minimal .bp3-dark select:active, .bp3-dark .bp3-html-select.bp3-minimal select.bp3-active, .bp3-html-select.bp3-minimal .bp3-dark select.bp3-active,
    .bp3-dark .bp3-select.bp3-minimal select.bp3-active, .bp3-select.bp3-minimal .bp3-dark select.bp3-active{
      background:rgba(138, 155, 168, 0.3);
      color:#f5f8fa; }
    .bp3-dark .bp3-html-select.bp3-minimal select:disabled, .bp3-html-select.bp3-minimal .bp3-dark select:disabled,
    .bp3-dark .bp3-select.bp3-minimal select:disabled, .bp3-select.bp3-minimal .bp3-dark select:disabled, .bp3-dark .bp3-html-select.bp3-minimal select:disabled:hover, .bp3-html-select.bp3-minimal .bp3-dark select:disabled:hover,
    .bp3-dark .bp3-select.bp3-minimal select:disabled:hover, .bp3-select.bp3-minimal .bp3-dark select:disabled:hover, .bp3-dark .bp3-html-select.bp3-minimal select.bp3-disabled, .bp3-html-select.bp3-minimal .bp3-dark select.bp3-disabled,
    .bp3-dark .bp3-select.bp3-minimal select.bp3-disabled, .bp3-select.bp3-minimal .bp3-dark select.bp3-disabled, .bp3-dark .bp3-html-select.bp3-minimal select.bp3-disabled:hover, .bp3-html-select.bp3-minimal .bp3-dark select.bp3-disabled:hover,
    .bp3-dark .bp3-select.bp3-minimal select.bp3-disabled:hover, .bp3-select.bp3-minimal .bp3-dark select.bp3-disabled:hover{
      background:none;
      color:rgba(167, 182, 194, 0.6);
      cursor:not-allowed; }
      .bp3-dark .bp3-html-select.bp3-minimal select:disabled.bp3-active, .bp3-html-select.bp3-minimal .bp3-dark select:disabled.bp3-active,
      .bp3-dark .bp3-select.bp3-minimal select:disabled.bp3-active, .bp3-select.bp3-minimal .bp3-dark select:disabled.bp3-active, .bp3-dark .bp3-html-select.bp3-minimal select:disabled:hover.bp3-active, .bp3-html-select.bp3-minimal .bp3-dark select:disabled:hover.bp3-active,
      .bp3-dark .bp3-select.bp3-minimal select:disabled:hover.bp3-active, .bp3-select.bp3-minimal .bp3-dark select:disabled:hover.bp3-active, .bp3-dark .bp3-html-select.bp3-minimal select.bp3-disabled.bp3-active, .bp3-html-select.bp3-minimal .bp3-dark select.bp3-disabled.bp3-active,
      .bp3-dark .bp3-select.bp3-minimal select.bp3-disabled.bp3-active, .bp3-select.bp3-minimal .bp3-dark select.bp3-disabled.bp3-active, .bp3-dark .bp3-html-select.bp3-minimal select.bp3-disabled:hover.bp3-active, .bp3-html-select.bp3-minimal .bp3-dark select.bp3-disabled:hover.bp3-active,
      .bp3-dark .bp3-select.bp3-minimal select.bp3-disabled:hover.bp3-active, .bp3-select.bp3-minimal .bp3-dark select.bp3-disabled:hover.bp3-active{
        background:rgba(138, 155, 168, 0.3); }
  .bp3-html-select.bp3-minimal select.bp3-intent-primary,
  .bp3-select.bp3-minimal select.bp3-intent-primary{
    color:#106ba3; }
    .bp3-html-select.bp3-minimal select.bp3-intent-primary:hover,
    .bp3-select.bp3-minimal select.bp3-intent-primary:hover, .bp3-html-select.bp3-minimal select.bp3-intent-primary:active,
    .bp3-select.bp3-minimal select.bp3-intent-primary:active, .bp3-html-select.bp3-minimal select.bp3-intent-primary.bp3-active,
    .bp3-select.bp3-minimal select.bp3-intent-primary.bp3-active{
      background:none;
      -webkit-box-shadow:none;
              box-shadow:none;
      color:#106ba3; }
    .bp3-html-select.bp3-minimal select.bp3-intent-primary:hover,
    .bp3-select.bp3-minimal select.bp3-intent-primary:hover{
      background:rgba(19, 124, 189, 0.15);
      color:#106ba3; }
    .bp3-html-select.bp3-minimal select.bp3-intent-primary:active,
    .bp3-select.bp3-minimal select.bp3-intent-primary:active, .bp3-html-select.bp3-minimal select.bp3-intent-primary.bp3-active,
    .bp3-select.bp3-minimal select.bp3-intent-primary.bp3-active{
      background:rgba(19, 124, 189, 0.3);
      color:#106ba3; }
    .bp3-html-select.bp3-minimal select.bp3-intent-primary:disabled,
    .bp3-select.bp3-minimal select.bp3-intent-primary:disabled, .bp3-html-select.bp3-minimal select.bp3-intent-primary.bp3-disabled,
    .bp3-select.bp3-minimal select.bp3-intent-primary.bp3-disabled{
      background:none;
      color:rgba(16, 107, 163, 0.5); }
      .bp3-html-select.bp3-minimal select.bp3-intent-primary:disabled.bp3-active,
      .bp3-select.bp3-minimal select.bp3-intent-primary:disabled.bp3-active, .bp3-html-select.bp3-minimal select.bp3-intent-primary.bp3-disabled.bp3-active,
      .bp3-select.bp3-minimal select.bp3-intent-primary.bp3-disabled.bp3-active{
        background:rgba(19, 124, 189, 0.3); }
    .bp3-html-select.bp3-minimal select.bp3-intent-primary .bp3-button-spinner .bp3-spinner-head, .bp3-select.bp3-minimal select.bp3-intent-primary .bp3-button-spinner .bp3-spinner-head{
      stroke:#106ba3; }
    .bp3-dark .bp3-html-select.bp3-minimal select.bp3-intent-primary, .bp3-html-select.bp3-minimal .bp3-dark select.bp3-intent-primary,
    .bp3-dark .bp3-select.bp3-minimal select.bp3-intent-primary, .bp3-select.bp3-minimal .bp3-dark select.bp3-intent-primary{
      color:#48aff0; }
      .bp3-dark .bp3-html-select.bp3-minimal select.bp3-intent-primary:hover, .bp3-html-select.bp3-minimal .bp3-dark select.bp3-intent-primary:hover,
      .bp3-dark .bp3-select.bp3-minimal select.bp3-intent-primary:hover, .bp3-select.bp3-minimal .bp3-dark select.bp3-intent-primary:hover{
        background:rgba(19, 124, 189, 0.2);
        color:#48aff0; }
      .bp3-dark .bp3-html-select.bp3-minimal select.bp3-intent-primary:active, .bp3-html-select.bp3-minimal .bp3-dark select.bp3-intent-primary:active,
      .bp3-dark .bp3-select.bp3-minimal select.bp3-intent-primary:active, .bp3-select.bp3-minimal .bp3-dark select.bp3-intent-primary:active, .bp3-dark .bp3-html-select.bp3-minimal select.bp3-intent-primary.bp3-active, .bp3-html-select.bp3-minimal .bp3-dark select.bp3-intent-primary.bp3-active,
      .bp3-dark .bp3-select.bp3-minimal select.bp3-intent-primary.bp3-active, .bp3-select.bp3-minimal .bp3-dark select.bp3-intent-primary.bp3-active{
        background:rgba(19, 124, 189, 0.3);
        color:#48aff0; }
      .bp3-dark .bp3-html-select.bp3-minimal select.bp3-intent-primary:disabled, .bp3-html-select.bp3-minimal .bp3-dark select.bp3-intent-primary:disabled,
      .bp3-dark .bp3-select.bp3-minimal select.bp3-intent-primary:disabled, .bp3-select.bp3-minimal .bp3-dark select.bp3-intent-primary:disabled, .bp3-dark .bp3-html-select.bp3-minimal select.bp3-intent-primary.bp3-disabled, .bp3-html-select.bp3-minimal .bp3-dark select.bp3-intent-primary.bp3-disabled,
      .bp3-dark .bp3-select.bp3-minimal select.bp3-intent-primary.bp3-disabled, .bp3-select.bp3-minimal .bp3-dark select.bp3-intent-primary.bp3-disabled{
        background:none;
        color:rgba(72, 175, 240, 0.5); }
        .bp3-dark .bp3-html-select.bp3-minimal select.bp3-intent-primary:disabled.bp3-active, .bp3-html-select.bp3-minimal .bp3-dark select.bp3-intent-primary:disabled.bp3-active,
        .bp3-dark .bp3-select.bp3-minimal select.bp3-intent-primary:disabled.bp3-active, .bp3-select.bp3-minimal .bp3-dark select.bp3-intent-primary:disabled.bp3-active, .bp3-dark .bp3-html-select.bp3-minimal select.bp3-intent-primary.bp3-disabled.bp3-active, .bp3-html-select.bp3-minimal .bp3-dark select.bp3-intent-primary.bp3-disabled.bp3-active,
        .bp3-dark .bp3-select.bp3-minimal select.bp3-intent-primary.bp3-disabled.bp3-active, .bp3-select.bp3-minimal .bp3-dark select.bp3-intent-primary.bp3-disabled.bp3-active{
          background:rgba(19, 124, 189, 0.3); }
  .bp3-html-select.bp3-minimal select.bp3-intent-success,
  .bp3-select.bp3-minimal select.bp3-intent-success{
    color:#0d8050; }
    .bp3-html-select.bp3-minimal select.bp3-intent-success:hover,
    .bp3-select.bp3-minimal select.bp3-intent-success:hover, .bp3-html-select.bp3-minimal select.bp3-intent-success:active,
    .bp3-select.bp3-minimal select.bp3-intent-success:active, .bp3-html-select.bp3-minimal select.bp3-intent-success.bp3-active,
    .bp3-select.bp3-minimal select.bp3-intent-success.bp3-active{
      background:none;
      -webkit-box-shadow:none;
              box-shadow:none;
      color:#0d8050; }
    .bp3-html-select.bp3-minimal select.bp3-intent-success:hover,
    .bp3-select.bp3-minimal select.bp3-intent-success:hover{
      background:rgba(15, 153, 96, 0.15);
      color:#0d8050; }
    .bp3-html-select.bp3-minimal select.bp3-intent-success:active,
    .bp3-select.bp3-minimal select.bp3-intent-success:active, .bp3-html-select.bp3-minimal select.bp3-intent-success.bp3-active,
    .bp3-select.bp3-minimal select.bp3-intent-success.bp3-active{
      background:rgba(15, 153, 96, 0.3);
      color:#0d8050; }
    .bp3-html-select.bp3-minimal select.bp3-intent-success:disabled,
    .bp3-select.bp3-minimal select.bp3-intent-success:disabled, .bp3-html-select.bp3-minimal select.bp3-intent-success.bp3-disabled,
    .bp3-select.bp3-minimal select.bp3-intent-success.bp3-disabled{
      background:none;
      color:rgba(13, 128, 80, 0.5); }
      .bp3-html-select.bp3-minimal select.bp3-intent-success:disabled.bp3-active,
      .bp3-select.bp3-minimal select.bp3-intent-success:disabled.bp3-active, .bp3-html-select.bp3-minimal select.bp3-intent-success.bp3-disabled.bp3-active,
      .bp3-select.bp3-minimal select.bp3-intent-success.bp3-disabled.bp3-active{
        background:rgba(15, 153, 96, 0.3); }
    .bp3-html-select.bp3-minimal select.bp3-intent-success .bp3-button-spinner .bp3-spinner-head, .bp3-select.bp3-minimal select.bp3-intent-success .bp3-button-spinner .bp3-spinner-head{
      stroke:#0d8050; }
    .bp3-dark .bp3-html-select.bp3-minimal select.bp3-intent-success, .bp3-html-select.bp3-minimal .bp3-dark select.bp3-intent-success,
    .bp3-dark .bp3-select.bp3-minimal select.bp3-intent-success, .bp3-select.bp3-minimal .bp3-dark select.bp3-intent-success{
      color:#3dcc91; }
      .bp3-dark .bp3-html-select.bp3-minimal select.bp3-intent-success:hover, .bp3-html-select.bp3-minimal .bp3-dark select.bp3-intent-success:hover,
      .bp3-dark .bp3-select.bp3-minimal select.bp3-intent-success:hover, .bp3-select.bp3-minimal .bp3-dark select.bp3-intent-success:hover{
        background:rgba(15, 153, 96, 0.2);
        color:#3dcc91; }
      .bp3-dark .bp3-html-select.bp3-minimal select.bp3-intent-success:active, .bp3-html-select.bp3-minimal .bp3-dark select.bp3-intent-success:active,
      .bp3-dark .bp3-select.bp3-minimal select.bp3-intent-success:active, .bp3-select.bp3-minimal .bp3-dark select.bp3-intent-success:active, .bp3-dark .bp3-html-select.bp3-minimal select.bp3-intent-success.bp3-active, .bp3-html-select.bp3-minimal .bp3-dark select.bp3-intent-success.bp3-active,
      .bp3-dark .bp3-select.bp3-minimal select.bp3-intent-success.bp3-active, .bp3-select.bp3-minimal .bp3-dark select.bp3-intent-success.bp3-active{
        background:rgba(15, 153, 96, 0.3);
        color:#3dcc91; }
      .bp3-dark .bp3-html-select.bp3-minimal select.bp3-intent-success:disabled, .bp3-html-select.bp3-minimal .bp3-dark select.bp3-intent-success:disabled,
      .bp3-dark .bp3-select.bp3-minimal select.bp3-intent-success:disabled, .bp3-select.bp3-minimal .bp3-dark select.bp3-intent-success:disabled, .bp3-dark .bp3-html-select.bp3-minimal select.bp3-intent-success.bp3-disabled, .bp3-html-select.bp3-minimal .bp3-dark select.bp3-intent-success.bp3-disabled,
      .bp3-dark .bp3-select.bp3-minimal select.bp3-intent-success.bp3-disabled, .bp3-select.bp3-minimal .bp3-dark select.bp3-intent-success.bp3-disabled{
        background:none;
        color:rgba(61, 204, 145, 0.5); }
        .bp3-dark .bp3-html-select.bp3-minimal select.bp3-intent-success:disabled.bp3-active, .bp3-html-select.bp3-minimal .bp3-dark select.bp3-intent-success:disabled.bp3-active,
        .bp3-dark .bp3-select.bp3-minimal select.bp3-intent-success:disabled.bp3-active, .bp3-select.bp3-minimal .bp3-dark select.bp3-intent-success:disabled.bp3-active, .bp3-dark .bp3-html-select.bp3-minimal select.bp3-intent-success.bp3-disabled.bp3-active, .bp3-html-select.bp3-minimal .bp3-dark select.bp3-intent-success.bp3-disabled.bp3-active,
        .bp3-dark .bp3-select.bp3-minimal select.bp3-intent-success.bp3-disabled.bp3-active, .bp3-select.bp3-minimal .bp3-dark select.bp3-intent-success.bp3-disabled.bp3-active{
          background:rgba(15, 153, 96, 0.3); }
  .bp3-html-select.bp3-minimal select.bp3-intent-warning,
  .bp3-select.bp3-minimal select.bp3-intent-warning{
    color:#bf7326; }
    .bp3-html-select.bp3-minimal select.bp3-intent-warning:hover,
    .bp3-select.bp3-minimal select.bp3-intent-warning:hover, .bp3-html-select.bp3-minimal select.bp3-intent-warning:active,
    .bp3-select.bp3-minimal select.bp3-intent-warning:active, .bp3-html-select.bp3-minimal select.bp3-intent-warning.bp3-active,
    .bp3-select.bp3-minimal select.bp3-intent-warning.bp3-active{
      background:none;
      -webkit-box-shadow:none;
              box-shadow:none;
      color:#bf7326; }
    .bp3-html-select.bp3-minimal select.bp3-intent-warning:hover,
    .bp3-select.bp3-minimal select.bp3-intent-warning:hover{
      background:rgba(217, 130, 43, 0.15);
      color:#bf7326; }
    .bp3-html-select.bp3-minimal select.bp3-intent-warning:active,
    .bp3-select.bp3-minimal select.bp3-intent-warning:active, .bp3-html-select.bp3-minimal select.bp3-intent-warning.bp3-active,
    .bp3-select.bp3-minimal select.bp3-intent-warning.bp3-active{
      background:rgba(217, 130, 43, 0.3);
      color:#bf7326; }
    .bp3-html-select.bp3-minimal select.bp3-intent-warning:disabled,
    .bp3-select.bp3-minimal select.bp3-intent-warning:disabled, .bp3-html-select.bp3-minimal select.bp3-intent-warning.bp3-disabled,
    .bp3-select.bp3-minimal select.bp3-intent-warning.bp3-disabled{
      background:none;
      color:rgba(191, 115, 38, 0.5); }
      .bp3-html-select.bp3-minimal select.bp3-intent-warning:disabled.bp3-active,
      .bp3-select.bp3-minimal select.bp3-intent-warning:disabled.bp3-active, .bp3-html-select.bp3-minimal select.bp3-intent-warning.bp3-disabled.bp3-active,
      .bp3-select.bp3-minimal select.bp3-intent-warning.bp3-disabled.bp3-active{
        background:rgba(217, 130, 43, 0.3); }
    .bp3-html-select.bp3-minimal select.bp3-intent-warning .bp3-button-spinner .bp3-spinner-head, .bp3-select.bp3-minimal select.bp3-intent-warning .bp3-button-spinner .bp3-spinner-head{
      stroke:#bf7326; }
    .bp3-dark .bp3-html-select.bp3-minimal select.bp3-intent-warning, .bp3-html-select.bp3-minimal .bp3-dark select.bp3-intent-warning,
    .bp3-dark .bp3-select.bp3-minimal select.bp3-intent-warning, .bp3-select.bp3-minimal .bp3-dark select.bp3-intent-warning{
      color:#ffb366; }
      .bp3-dark .bp3-html-select.bp3-minimal select.bp3-intent-warning:hover, .bp3-html-select.bp3-minimal .bp3-dark select.bp3-intent-warning:hover,
      .bp3-dark .bp3-select.bp3-minimal select.bp3-intent-warning:hover, .bp3-select.bp3-minimal .bp3-dark select.bp3-intent-warning:hover{
        background:rgba(217, 130, 43, 0.2);
        color:#ffb366; }
      .bp3-dark .bp3-html-select.bp3-minimal select.bp3-intent-warning:active, .bp3-html-select.bp3-minimal .bp3-dark select.bp3-intent-warning:active,
      .bp3-dark .bp3-select.bp3-minimal select.bp3-intent-warning:active, .bp3-select.bp3-minimal .bp3-dark select.bp3-intent-warning:active, .bp3-dark .bp3-html-select.bp3-minimal select.bp3-intent-warning.bp3-active, .bp3-html-select.bp3-minimal .bp3-dark select.bp3-intent-warning.bp3-active,
      .bp3-dark .bp3-select.bp3-minimal select.bp3-intent-warning.bp3-active, .bp3-select.bp3-minimal .bp3-dark select.bp3-intent-warning.bp3-active{
        background:rgba(217, 130, 43, 0.3);
        color:#ffb366; }
      .bp3-dark .bp3-html-select.bp3-minimal select.bp3-intent-warning:disabled, .bp3-html-select.bp3-minimal .bp3-dark select.bp3-intent-warning:disabled,
      .bp3-dark .bp3-select.bp3-minimal select.bp3-intent-warning:disabled, .bp3-select.bp3-minimal .bp3-dark select.bp3-intent-warning:disabled, .bp3-dark .bp3-html-select.bp3-minimal select.bp3-intent-warning.bp3-disabled, .bp3-html-select.bp3-minimal .bp3-dark select.bp3-intent-warning.bp3-disabled,
      .bp3-dark .bp3-select.bp3-minimal select.bp3-intent-warning.bp3-disabled, .bp3-select.bp3-minimal .bp3-dark select.bp3-intent-warning.bp3-disabled{
        background:none;
        color:rgba(255, 179, 102, 0.5); }
        .bp3-dark .bp3-html-select.bp3-minimal select.bp3-intent-warning:disabled.bp3-active, .bp3-html-select.bp3-minimal .bp3-dark select.bp3-intent-warning:disabled.bp3-active,
        .bp3-dark .bp3-select.bp3-minimal select.bp3-intent-warning:disabled.bp3-active, .bp3-select.bp3-minimal .bp3-dark select.bp3-intent-warning:disabled.bp3-active, .bp3-dark .bp3-html-select.bp3-minimal select.bp3-intent-warning.bp3-disabled.bp3-active, .bp3-html-select.bp3-minimal .bp3-dark select.bp3-intent-warning.bp3-disabled.bp3-active,
        .bp3-dark .bp3-select.bp3-minimal select.bp3-intent-warning.bp3-disabled.bp3-active, .bp3-select.bp3-minimal .bp3-dark select.bp3-intent-warning.bp3-disabled.bp3-active{
          background:rgba(217, 130, 43, 0.3); }
  .bp3-html-select.bp3-minimal select.bp3-intent-danger,
  .bp3-select.bp3-minimal select.bp3-intent-danger{
    color:#c23030; }
    .bp3-html-select.bp3-minimal select.bp3-intent-danger:hover,
    .bp3-select.bp3-minimal select.bp3-intent-danger:hover, .bp3-html-select.bp3-minimal select.bp3-intent-danger:active,
    .bp3-select.bp3-minimal select.bp3-intent-danger:active, .bp3-html-select.bp3-minimal select.bp3-intent-danger.bp3-active,
    .bp3-select.bp3-minimal select.bp3-intent-danger.bp3-active{
      background:none;
      -webkit-box-shadow:none;
              box-shadow:none;
      color:#c23030; }
    .bp3-html-select.bp3-minimal select.bp3-intent-danger:hover,
    .bp3-select.bp3-minimal select.bp3-intent-danger:hover{
      background:rgba(219, 55, 55, 0.15);
      color:#c23030; }
    .bp3-html-select.bp3-minimal select.bp3-intent-danger:active,
    .bp3-select.bp3-minimal select.bp3-intent-danger:active, .bp3-html-select.bp3-minimal select.bp3-intent-danger.bp3-active,
    .bp3-select.bp3-minimal select.bp3-intent-danger.bp3-active{
      background:rgba(219, 55, 55, 0.3);
      color:#c23030; }
    .bp3-html-select.bp3-minimal select.bp3-intent-danger:disabled,
    .bp3-select.bp3-minimal select.bp3-intent-danger:disabled, .bp3-html-select.bp3-minimal select.bp3-intent-danger.bp3-disabled,
    .bp3-select.bp3-minimal select.bp3-intent-danger.bp3-disabled{
      background:none;
      color:rgba(194, 48, 48, 0.5); }
      .bp3-html-select.bp3-minimal select.bp3-intent-danger:disabled.bp3-active,
      .bp3-select.bp3-minimal select.bp3-intent-danger:disabled.bp3-active, .bp3-html-select.bp3-minimal select.bp3-intent-danger.bp3-disabled.bp3-active,
      .bp3-select.bp3-minimal select.bp3-intent-danger.bp3-disabled.bp3-active{
        background:rgba(219, 55, 55, 0.3); }
    .bp3-html-select.bp3-minimal select.bp3-intent-danger .bp3-button-spinner .bp3-spinner-head, .bp3-select.bp3-minimal select.bp3-intent-danger .bp3-button-spinner .bp3-spinner-head{
      stroke:#c23030; }
    .bp3-dark .bp3-html-select.bp3-minimal select.bp3-intent-danger, .bp3-html-select.bp3-minimal .bp3-dark select.bp3-intent-danger,
    .bp3-dark .bp3-select.bp3-minimal select.bp3-intent-danger, .bp3-select.bp3-minimal .bp3-dark select.bp3-intent-danger{
      color:#ff7373; }
      .bp3-dark .bp3-html-select.bp3-minimal select.bp3-intent-danger:hover, .bp3-html-select.bp3-minimal .bp3-dark select.bp3-intent-danger:hover,
      .bp3-dark .bp3-select.bp3-minimal select.bp3-intent-danger:hover, .bp3-select.bp3-minimal .bp3-dark select.bp3-intent-danger:hover{
        background:rgba(219, 55, 55, 0.2);
        color:#ff7373; }
      .bp3-dark .bp3-html-select.bp3-minimal select.bp3-intent-danger:active, .bp3-html-select.bp3-minimal .bp3-dark select.bp3-intent-danger:active,
      .bp3-dark .bp3-select.bp3-minimal select.bp3-intent-danger:active, .bp3-select.bp3-minimal .bp3-dark select.bp3-intent-danger:active, .bp3-dark .bp3-html-select.bp3-minimal select.bp3-intent-danger.bp3-active, .bp3-html-select.bp3-minimal .bp3-dark select.bp3-intent-danger.bp3-active,
      .bp3-dark .bp3-select.bp3-minimal select.bp3-intent-danger.bp3-active, .bp3-select.bp3-minimal .bp3-dark select.bp3-intent-danger.bp3-active{
        background:rgba(219, 55, 55, 0.3);
        color:#ff7373; }
      .bp3-dark .bp3-html-select.bp3-minimal select.bp3-intent-danger:disabled, .bp3-html-select.bp3-minimal .bp3-dark select.bp3-intent-danger:disabled,
      .bp3-dark .bp3-select.bp3-minimal select.bp3-intent-danger:disabled, .bp3-select.bp3-minimal .bp3-dark select.bp3-intent-danger:disabled, .bp3-dark .bp3-html-select.bp3-minimal select.bp3-intent-danger.bp3-disabled, .bp3-html-select.bp3-minimal .bp3-dark select.bp3-intent-danger.bp3-disabled,
      .bp3-dark .bp3-select.bp3-minimal select.bp3-intent-danger.bp3-disabled, .bp3-select.bp3-minimal .bp3-dark select.bp3-intent-danger.bp3-disabled{
        background:none;
        color:rgba(255, 115, 115, 0.5); }
        .bp3-dark .bp3-html-select.bp3-minimal select.bp3-intent-danger:disabled.bp3-active, .bp3-html-select.bp3-minimal .bp3-dark select.bp3-intent-danger:disabled.bp3-active,
        .bp3-dark .bp3-select.bp3-minimal select.bp3-intent-danger:disabled.bp3-active, .bp3-select.bp3-minimal .bp3-dark select.bp3-intent-danger:disabled.bp3-active, .bp3-dark .bp3-html-select.bp3-minimal select.bp3-intent-danger.bp3-disabled.bp3-active, .bp3-html-select.bp3-minimal .bp3-dark select.bp3-intent-danger.bp3-disabled.bp3-active,
        .bp3-dark .bp3-select.bp3-minimal select.bp3-intent-danger.bp3-disabled.bp3-active, .bp3-select.bp3-minimal .bp3-dark select.bp3-intent-danger.bp3-disabled.bp3-active{
          background:rgba(219, 55, 55, 0.3); }

.bp3-html-select.bp3-large select,
.bp3-select.bp3-large select{
  font-size:16px;
  height:40px;
  padding-right:35px; }

.bp3-dark .bp3-html-select select, .bp3-dark .bp3-select select{
  background-color:#394b59;
  background-image:-webkit-gradient(linear, left top, left bottom, from(rgba(255, 255, 255, 0.05)), to(rgba(255, 255, 255, 0)));
  background-image:linear-gradient(to bottom, rgba(255, 255, 255, 0.05), rgba(255, 255, 255, 0));
  -webkit-box-shadow:0 0 0 1px rgba(16, 22, 26, 0.4);
          box-shadow:0 0 0 1px rgba(16, 22, 26, 0.4);
  color:#f5f8fa; }
  .bp3-dark .bp3-html-select select:hover, .bp3-dark .bp3-select select:hover, .bp3-dark .bp3-html-select select:active, .bp3-dark .bp3-select select:active, .bp3-dark .bp3-html-select select.bp3-active, .bp3-dark .bp3-select select.bp3-active{
    color:#f5f8fa; }
  .bp3-dark .bp3-html-select select:hover, .bp3-dark .bp3-select select:hover{
    background-color:#30404d;
    -webkit-box-shadow:0 0 0 1px rgba(16, 22, 26, 0.4);
            box-shadow:0 0 0 1px rgba(16, 22, 26, 0.4); }
  .bp3-dark .bp3-html-select select:active, .bp3-dark .bp3-select select:active, .bp3-dark .bp3-html-select select.bp3-active, .bp3-dark .bp3-select select.bp3-active{
    background-color:#202b33;
    background-image:none;
    -webkit-box-shadow:0 0 0 1px rgba(16, 22, 26, 0.6), inset 0 1px 2px rgba(16, 22, 26, 0.2);
            box-shadow:0 0 0 1px rgba(16, 22, 26, 0.6), inset 0 1px 2px rgba(16, 22, 26, 0.2); }
  .bp3-dark .bp3-html-select select:disabled, .bp3-dark .bp3-select select:disabled, .bp3-dark .bp3-html-select select.bp3-disabled, .bp3-dark .bp3-select select.bp3-disabled{
    background-color:rgba(57, 75, 89, 0.5);
    background-image:none;
    -webkit-box-shadow:none;
            box-shadow:none;
    color:rgba(167, 182, 194, 0.6); }
    .bp3-dark .bp3-html-select select:disabled.bp3-active, .bp3-dark .bp3-select select:disabled.bp3-active, .bp3-dark .bp3-html-select select.bp3-disabled.bp3-active, .bp3-dark .bp3-select select.bp3-disabled.bp3-active{
      background:rgba(57, 75, 89, 0.7); }
  .bp3-dark .bp3-html-select select .bp3-button-spinner .bp3-spinner-head, .bp3-dark .bp3-select select .bp3-button-spinner .bp3-spinner-head{
    background:rgba(16, 22, 26, 0.5);
    stroke:#8a9ba8; }

.bp3-html-select select:disabled,
.bp3-select select:disabled{
  background-color:rgba(206, 217, 224, 0.5);
  -webkit-box-shadow:none;
          box-shadow:none;
  color:rgba(92, 112, 128, 0.6);
  cursor:not-allowed; }

.bp3-html-select .bp3-icon,
.bp3-select .bp3-icon, .bp3-select::after{
  color:#5c7080;
  pointer-events:none;
  position:absolute;
  right:7px;
  top:7px; }
  .bp3-html-select .bp3-disabled.bp3-icon,
  .bp3-select .bp3-disabled.bp3-icon, .bp3-disabled.bp3-select::after{
    color:rgba(92, 112, 128, 0.6); }
.bp3-html-select,
.bp3-select{
  display:inline-block;
  letter-spacing:normal;
  position:relative;
  vertical-align:middle; }
  .bp3-html-select select::-ms-expand,
  .bp3-select select::-ms-expand{
    display:none; }
  .bp3-html-select .bp3-icon,
  .bp3-select .bp3-icon{
    color:#5c7080; }
    .bp3-html-select .bp3-icon:hover,
    .bp3-select .bp3-icon:hover{
      color:#182026; }
    .bp3-dark .bp3-html-select .bp3-icon, .bp3-dark
    .bp3-select .bp3-icon{
      color:#a7b6c2; }
      .bp3-dark .bp3-html-select .bp3-icon:hover, .bp3-dark
      .bp3-select .bp3-icon:hover{
        color:#f5f8fa; }
  .bp3-html-select.bp3-large::after,
  .bp3-html-select.bp3-large .bp3-icon,
  .bp3-select.bp3-large::after,
  .bp3-select.bp3-large .bp3-icon{
    right:12px;
    top:12px; }
  .bp3-html-select.bp3-fill,
  .bp3-html-select.bp3-fill select,
  .bp3-select.bp3-fill,
  .bp3-select.bp3-fill select{
    width:100%; }
  .bp3-dark .bp3-html-select option, .bp3-dark
  .bp3-select option{
    background-color:#30404d;
    color:#f5f8fa; }
  .bp3-dark .bp3-html-select option:disabled, .bp3-dark
  .bp3-select option:disabled{
    color:rgba(167, 182, 194, 0.6); }
  .bp3-dark .bp3-html-select::after, .bp3-dark
  .bp3-select::after{
    color:#a7b6c2; }

.bp3-select::after{
  font-family:"Icons16", sans-serif;
  font-size:16px;
  font-style:normal;
  font-weight:400;
  line-height:1;
  -moz-osx-font-smoothing:grayscale;
  -webkit-font-smoothing:antialiased;
  content:""; }
.bp3-running-text table, table.bp3-html-table{
  border-spacing:0;
  font-size:14px; }
  .bp3-running-text table th, table.bp3-html-table th,
  .bp3-running-text table td,
  table.bp3-html-table td{
    padding:11px;
    text-align:left;
    vertical-align:top; }
  .bp3-running-text table th, table.bp3-html-table th{
    color:#182026;
    font-weight:600; }
  
  .bp3-running-text table td,
  table.bp3-html-table td{
    color:#182026; }
  .bp3-running-text table tbody tr:first-child th, table.bp3-html-table tbody tr:first-child th,
  .bp3-running-text table tbody tr:first-child td,
  table.bp3-html-table tbody tr:first-child td{
    -webkit-box-shadow:inset 0 1px 0 0 rgba(16, 22, 26, 0.15);
            box-shadow:inset 0 1px 0 0 rgba(16, 22, 26, 0.15); }
  .bp3-dark .bp3-running-text table th, .bp3-running-text .bp3-dark table th, .bp3-dark table.bp3-html-table th{
    color:#f5f8fa; }
  .bp3-dark .bp3-running-text table td, .bp3-running-text .bp3-dark table td, .bp3-dark table.bp3-html-table td{
    color:#f5f8fa; }
  .bp3-dark .bp3-running-text table tbody tr:first-child th, .bp3-running-text .bp3-dark table tbody tr:first-child th, .bp3-dark table.bp3-html-table tbody tr:first-child th,
  .bp3-dark .bp3-running-text table tbody tr:first-child td,
  .bp3-running-text .bp3-dark table tbody tr:first-child td,
  .bp3-dark table.bp3-html-table tbody tr:first-child td{
    -webkit-box-shadow:inset 0 1px 0 0 rgba(255, 255, 255, 0.15);
            box-shadow:inset 0 1px 0 0 rgba(255, 255, 255, 0.15); }

table.bp3-html-table.bp3-html-table-condensed th,
table.bp3-html-table.bp3-html-table-condensed td, table.bp3-html-table.bp3-small th,
table.bp3-html-table.bp3-small td{
  padding-bottom:6px;
  padding-top:6px; }

table.bp3-html-table.bp3-html-table-striped tbody tr:nth-child(odd) td{
  background:rgba(191, 204, 214, 0.15); }

table.bp3-html-table.bp3-html-table-bordered th:not(:first-child){
  -webkit-box-shadow:inset 1px 0 0 0 rgba(16, 22, 26, 0.15);
          box-shadow:inset 1px 0 0 0 rgba(16, 22, 26, 0.15); }

table.bp3-html-table.bp3-html-table-bordered tbody tr td{
  -webkit-box-shadow:inset 0 1px 0 0 rgba(16, 22, 26, 0.15);
          box-shadow:inset 0 1px 0 0 rgba(16, 22, 26, 0.15); }
  table.bp3-html-table.bp3-html-table-bordered tbody tr td:not(:first-child){
    -webkit-box-shadow:inset 1px 1px 0 0 rgba(16, 22, 26, 0.15);
            box-shadow:inset 1px 1px 0 0 rgba(16, 22, 26, 0.15); }

table.bp3-html-table.bp3-html-table-bordered.bp3-html-table-striped tbody tr:not(:first-child) td{
  -webkit-box-shadow:none;
          box-shadow:none; }
  table.bp3-html-table.bp3-html-table-bordered.bp3-html-table-striped tbody tr:not(:first-child) td:not(:first-child){
    -webkit-box-shadow:inset 1px 0 0 0 rgba(16, 22, 26, 0.15);
            box-shadow:inset 1px 0 0 0 rgba(16, 22, 26, 0.15); }

table.bp3-html-table.bp3-interactive tbody tr:hover td{
  background-color:rgba(191, 204, 214, 0.3);
  cursor:pointer; }

table.bp3-html-table.bp3-interactive tbody tr:active td{
  background-color:rgba(191, 204, 214, 0.4); }

.bp3-dark table.bp3-html-table{ }
  .bp3-dark table.bp3-html-table.bp3-html-table-striped tbody tr:nth-child(odd) td{
    background:rgba(92, 112, 128, 0.15); }
  .bp3-dark table.bp3-html-table.bp3-html-table-bordered th:not(:first-child){
    -webkit-box-shadow:inset 1px 0 0 0 rgba(255, 255, 255, 0.15);
            box-shadow:inset 1px 0 0 0 rgba(255, 255, 255, 0.15); }
  .bp3-dark table.bp3-html-table.bp3-html-table-bordered tbody tr td{
    -webkit-box-shadow:inset 0 1px 0 0 rgba(255, 255, 255, 0.15);
            box-shadow:inset 0 1px 0 0 rgba(255, 255, 255, 0.15); }
    .bp3-dark table.bp3-html-table.bp3-html-table-bordered tbody tr td:not(:first-child){
      -webkit-box-shadow:inset 1px 1px 0 0 rgba(255, 255, 255, 0.15);
              box-shadow:inset 1px 1px 0 0 rgba(255, 255, 255, 0.15); }
  .bp3-dark table.bp3-html-table.bp3-html-table-bordered.bp3-html-table-striped tbody tr:not(:first-child) td{
    -webkit-box-shadow:inset 1px 0 0 0 rgba(255, 255, 255, 0.15);
            box-shadow:inset 1px 0 0 0 rgba(255, 255, 255, 0.15); }
    .bp3-dark table.bp3-html-table.bp3-html-table-bordered.bp3-html-table-striped tbody tr:not(:first-child) td:first-child{
      -webkit-box-shadow:none;
              box-shadow:none; }
  .bp3-dark table.bp3-html-table.bp3-interactive tbody tr:hover td{
    background-color:rgba(92, 112, 128, 0.3);
    cursor:pointer; }
  .bp3-dark table.bp3-html-table.bp3-interactive tbody tr:active td{
    background-color:rgba(92, 112, 128, 0.4); }

.bp3-key-combo{
  display:-webkit-box;
  display:-ms-flexbox;
  display:flex;
  -webkit-box-orient:horizontal;
  -webkit-box-direction:normal;
      -ms-flex-direction:row;
          flex-direction:row;
  -webkit-box-align:center;
      -ms-flex-align:center;
          align-items:center; }
  .bp3-key-combo > *{
    -webkit-box-flex:0;
        -ms-flex-positive:0;
            flex-grow:0;
    -ms-flex-negative:0;
        flex-shrink:0; }
  .bp3-key-combo > .bp3-fill{
    -webkit-box-flex:1;
        -ms-flex-positive:1;
            flex-grow:1;
    -ms-flex-negative:1;
        flex-shrink:1; }
  .bp3-key-combo::before,
  .bp3-key-combo > *{
    margin-right:5px; }
  .bp3-key-combo:empty::before,
  .bp3-key-combo > :last-child{
    margin-right:0; }

.bp3-hotkey-dialog{
  padding-bottom:0;
  top:40px; }
  .bp3-hotkey-dialog .bp3-dialog-body{
    margin:0;
    padding:0; }
  .bp3-hotkey-dialog .bp3-hotkey-label{
    -webkit-box-flex:1;
        -ms-flex-positive:1;
            flex-grow:1; }

.bp3-hotkey-column{
  margin:auto;
  max-height:80vh;
  overflow-y:auto;
  padding:30px; }
  .bp3-hotkey-column .bp3-heading{
    margin-bottom:20px; }
    .bp3-hotkey-column .bp3-heading:not(:first-child){
      margin-top:40px; }

.bp3-hotkey{
  -webkit-box-align:center;
      -ms-flex-align:center;
          align-items:center;
  display:-webkit-box;
  display:-ms-flexbox;
  display:flex;
  -webkit-box-pack:justify;
      -ms-flex-pack:justify;
          justify-content:space-between;
  margin-left:0;
  margin-right:0; }
  .bp3-hotkey:not(:last-child){
    margin-bottom:10px; }
.bp3-icon{
  display:inline-block;
  -webkit-box-flex:0;
      -ms-flex:0 0 auto;
          flex:0 0 auto;
  vertical-align:text-bottom; }
  .bp3-icon:not(:empty)::before{
    content:"" !important;
    content:unset !important; }
  .bp3-icon > svg{
    display:block; }
    .bp3-icon > svg:not([fill]){
      fill:currentColor; }

.bp3-icon.bp3-intent-primary, .bp3-icon-standard.bp3-intent-primary, .bp3-icon-large.bp3-intent-primary{
  color:#106ba3; }
  .bp3-dark .bp3-icon.bp3-intent-primary, .bp3-dark .bp3-icon-standard.bp3-intent-primary, .bp3-dark .bp3-icon-large.bp3-intent-primary{
    color:#48aff0; }

.bp3-icon.bp3-intent-success, .bp3-icon-standard.bp3-intent-success, .bp3-icon-large.bp3-intent-success{
  color:#0d8050; }
  .bp3-dark .bp3-icon.bp3-intent-success, .bp3-dark .bp3-icon-standard.bp3-intent-success, .bp3-dark .bp3-icon-large.bp3-intent-success{
    color:#3dcc91; }

.bp3-icon.bp3-intent-warning, .bp3-icon-standard.bp3-intent-warning, .bp3-icon-large.bp3-intent-warning{
  color:#bf7326; }
  .bp3-dark .bp3-icon.bp3-intent-warning, .bp3-dark .bp3-icon-standard.bp3-intent-warning, .bp3-dark .bp3-icon-large.bp3-intent-warning{
    color:#ffb366; }

.bp3-icon.bp3-intent-danger, .bp3-icon-standard.bp3-intent-danger, .bp3-icon-large.bp3-intent-danger{
  color:#c23030; }
  .bp3-dark .bp3-icon.bp3-intent-danger, .bp3-dark .bp3-icon-standard.bp3-intent-danger, .bp3-dark .bp3-icon-large.bp3-intent-danger{
    color:#ff7373; }

span.bp3-icon-standard{
  font-family:"Icons16", sans-serif;
  font-size:16px;
  font-style:normal;
  font-weight:400;
  line-height:1;
  -moz-osx-font-smoothing:grayscale;
  -webkit-font-smoothing:antialiased;
  display:inline-block; }

span.bp3-icon-large{
  font-family:"Icons20", sans-serif;
  font-size:20px;
  font-style:normal;
  font-weight:400;
  line-height:1;
  -moz-osx-font-smoothing:grayscale;
  -webkit-font-smoothing:antialiased;
  display:inline-block; }

span.bp3-icon:empty{
  font-family:"Icons20";
  font-size:inherit;
  font-style:normal;
  font-weight:400;
  line-height:1; }
  span.bp3-icon:empty::before{
    -moz-osx-font-smoothing:grayscale;
    -webkit-font-smoothing:antialiased; }

.bp3-icon-add::before{
  content:""; }

.bp3-icon-add-column-left::before{
  content:""; }

.bp3-icon-add-column-right::before{
  content:""; }

.bp3-icon-add-row-bottom::before{
  content:""; }

.bp3-icon-add-row-top::before{
  content:""; }

.bp3-icon-add-to-artifact::before{
  content:""; }

.bp3-icon-add-to-folder::before{
  content:""; }

.bp3-icon-airplane::before{
  content:""; }

.bp3-icon-align-center::before{
  content:""; }

.bp3-icon-align-justify::before{
  content:""; }

.bp3-icon-align-left::before{
  content:""; }

.bp3-icon-align-right::before{
  content:""; }

.bp3-icon-alignment-bottom::before{
  content:""; }

.bp3-icon-alignment-horizontal-center::before{
  content:""; }

.bp3-icon-alignment-left::before{
  content:""; }

.bp3-icon-alignment-right::before{
  content:""; }

.bp3-icon-alignment-top::before{
  content:""; }

.bp3-icon-alignment-vertical-center::before{
  content:""; }

.bp3-icon-annotation::before{
  content:""; }

.bp3-icon-application::before{
  content:""; }

.bp3-icon-applications::before{
  content:""; }

.bp3-icon-archive::before{
  content:""; }

.bp3-icon-arrow-bottom-left::before{
  content:"↙"; }

.bp3-icon-arrow-bottom-right::before{
  content:"↘"; }

.bp3-icon-arrow-down::before{
  content:"↓"; }

.bp3-icon-arrow-left::before{
  content:"←"; }

.bp3-icon-arrow-right::before{
  content:"→"; }

.bp3-icon-arrow-top-left::before{
  content:"↖"; }

.bp3-icon-arrow-top-right::before{
  content:"↗"; }

.bp3-icon-arrow-up::before{
  content:"↑"; }

.bp3-icon-arrows-horizontal::before{
  content:"↔"; }

.bp3-icon-arrows-vertical::before{
  content:"↕"; }

.bp3-icon-asterisk::before{
  content:"*"; }

.bp3-icon-automatic-updates::before{
  content:""; }

.bp3-icon-badge::before{
  content:""; }

.bp3-icon-ban-circle::before{
  content:""; }

.bp3-icon-bank-account::before{
  content:""; }

.bp3-icon-barcode::before{
  content:""; }

.bp3-icon-blank::before{
  content:""; }

.bp3-icon-blocked-person::before{
  content:""; }

.bp3-icon-bold::before{
  content:""; }

.bp3-icon-book::before{
  content:""; }

.bp3-icon-bookmark::before{
  content:""; }

.bp3-icon-box::before{
  content:""; }

.bp3-icon-briefcase::before{
  content:""; }

.bp3-icon-bring-data::before{
  content:""; }

.bp3-icon-build::before{
  content:""; }

.bp3-icon-calculator::before{
  content:""; }

.bp3-icon-calendar::before{
  content:""; }

.bp3-icon-camera::before{
  content:""; }

.bp3-icon-caret-down::before{
  content:"⌄"; }

.bp3-icon-caret-left::before{
  content:"〈"; }

.bp3-icon-caret-right::before{
  content:"〉"; }

.bp3-icon-caret-up::before{
  content:"⌃"; }

.bp3-icon-cell-tower::before{
  content:""; }

.bp3-icon-changes::before{
  content:""; }

.bp3-icon-chart::before{
  content:""; }

.bp3-icon-chat::before{
  content:""; }

.bp3-icon-chevron-backward::before{
  content:""; }

.bp3-icon-chevron-down::before{
  content:""; }

.bp3-icon-chevron-forward::before{
  content:""; }

.bp3-icon-chevron-left::before{
  content:""; }

.bp3-icon-chevron-right::before{
  content:""; }

.bp3-icon-chevron-up::before{
  content:""; }

.bp3-icon-circle::before{
  content:""; }

.bp3-icon-circle-arrow-down::before{
  content:""; }

.bp3-icon-circle-arrow-left::before{
  content:""; }

.bp3-icon-circle-arrow-right::before{
  content:""; }

.bp3-icon-circle-arrow-up::before{
  content:""; }

.bp3-icon-citation::before{
  content:""; }

.bp3-icon-clean::before{
  content:""; }

.bp3-icon-clipboard::before{
  content:""; }

.bp3-icon-cloud::before{
  content:"☁"; }

.bp3-icon-cloud-download::before{
  content:""; }

.bp3-icon-cloud-upload::before{
  content:""; }

.bp3-icon-code::before{
  content:""; }

.bp3-icon-code-block::before{
  content:""; }

.bp3-icon-cog::before{
  content:""; }

.bp3-icon-collapse-all::before{
  content:""; }

.bp3-icon-column-layout::before{
  content:""; }

.bp3-icon-comment::before{
  content:""; }

.bp3-icon-comparison::before{
  content:""; }

.bp3-icon-compass::before{
  content:""; }

.bp3-icon-compressed::before{
  content:""; }

.bp3-icon-confirm::before{
  content:""; }

.bp3-icon-console::before{
  content:""; }

.bp3-icon-contrast::before{
  content:""; }

.bp3-icon-control::before{
  content:""; }

.bp3-icon-credit-card::before{
  content:""; }

.bp3-icon-cross::before{
  content:"✗"; }

.bp3-icon-crown::before{
  content:""; }

.bp3-icon-cube::before{
  content:""; }

.bp3-icon-cube-add::before{
  content:""; }

.bp3-icon-cube-remove::before{
  content:""; }

.bp3-icon-curved-range-chart::before{
  content:""; }

.bp3-icon-cut::before{
  content:""; }

.bp3-icon-dashboard::before{
  content:""; }

.bp3-icon-data-lineage::before{
  content:""; }

.bp3-icon-database::before{
  content:""; }

.bp3-icon-delete::before{
  content:""; }

.bp3-icon-delta::before{
  content:"Δ"; }

.bp3-icon-derive-column::before{
  content:""; }

.bp3-icon-desktop::before{
  content:""; }

.bp3-icon-diagnosis::before{
  content:""; }

.bp3-icon-diagram-tree::before{
  content:""; }

.bp3-icon-direction-left::before{
  content:""; }

.bp3-icon-direction-right::before{
  content:""; }

.bp3-icon-disable::before{
  content:""; }

.bp3-icon-document::before{
  content:""; }

.bp3-icon-document-open::before{
  content:""; }

.bp3-icon-document-share::before{
  content:""; }

.bp3-icon-dollar::before{
  content:"$"; }

.bp3-icon-dot::before{
  content:"•"; }

.bp3-icon-double-caret-horizontal::before{
  content:""; }

.bp3-icon-double-caret-vertical::before{
  content:""; }

.bp3-icon-double-chevron-down::before{
  content:""; }

.bp3-icon-double-chevron-left::before{
  content:""; }

.bp3-icon-double-chevron-right::before{
  content:""; }

.bp3-icon-double-chevron-up::before{
  content:""; }

.bp3-icon-doughnut-chart::before{
  content:""; }

.bp3-icon-download::before{
  content:""; }

.bp3-icon-drag-handle-horizontal::before{
  content:""; }

.bp3-icon-drag-handle-vertical::before{
  content:""; }

.bp3-icon-draw::before{
  content:""; }

.bp3-icon-drive-time::before{
  content:""; }

.bp3-icon-duplicate::before{
  content:""; }

.bp3-icon-edit::before{
  content:"✎"; }

.bp3-icon-eject::before{
  content:"⏏"; }

.bp3-icon-endorsed::before{
  content:""; }

.bp3-icon-envelope::before{
  content:"✉"; }

.bp3-icon-equals::before{
  content:""; }

.bp3-icon-eraser::before{
  content:""; }

.bp3-icon-error::before{
  content:""; }

.bp3-icon-euro::before{
  content:"€"; }

.bp3-icon-exchange::before{
  content:""; }

.bp3-icon-exclude-row::before{
  content:""; }

.bp3-icon-expand-all::before{
  content:""; }

.bp3-icon-export::before{
  content:""; }

.bp3-icon-eye-off::before{
  content:""; }

.bp3-icon-eye-on::before{
  content:""; }

.bp3-icon-eye-open::before{
  content:""; }

.bp3-icon-fast-backward::before{
  content:""; }

.bp3-icon-fast-forward::before{
  content:""; }

.bp3-icon-feed::before{
  content:""; }

.bp3-icon-feed-subscribed::before{
  content:""; }

.bp3-icon-film::before{
  content:""; }

.bp3-icon-filter::before{
  content:""; }

.bp3-icon-filter-keep::before{
  content:""; }

.bp3-icon-filter-list::before{
  content:""; }

.bp3-icon-filter-open::before{
  content:""; }

.bp3-icon-filter-remove::before{
  content:""; }

.bp3-icon-flag::before{
  content:"⚑"; }

.bp3-icon-flame::before{
  content:""; }

.bp3-icon-flash::before{
  content:""; }

.bp3-icon-floppy-disk::before{
  content:""; }

.bp3-icon-flow-branch::before{
  content:""; }

.bp3-icon-flow-end::before{
  content:""; }

.bp3-icon-flow-linear::before{
  content:""; }

.bp3-icon-flow-review::before{
  content:""; }

.bp3-icon-flow-review-branch::before{
  content:""; }

.bp3-icon-flows::before{
  content:""; }

.bp3-icon-folder-close::before{
  content:""; }

.bp3-icon-folder-new::before{
  content:""; }

.bp3-icon-folder-open::before{
  content:""; }

.bp3-icon-folder-shared::before{
  content:""; }

.bp3-icon-folder-shared-open::before{
  content:""; }

.bp3-icon-follower::before{
  content:""; }

.bp3-icon-following::before{
  content:""; }

.bp3-icon-font::before{
  content:""; }

.bp3-icon-fork::before{
  content:""; }

.bp3-icon-form::before{
  content:""; }

.bp3-icon-full-circle::before{
  content:""; }

.bp3-icon-full-stacked-chart::before{
  content:""; }

.bp3-icon-fullscreen::before{
  content:""; }

.bp3-icon-function::before{
  content:""; }

.bp3-icon-gantt-chart::before{
  content:""; }

.bp3-icon-geolocation::before{
  content:""; }

.bp3-icon-geosearch::before{
  content:""; }

.bp3-icon-git-branch::before{
  content:""; }

.bp3-icon-git-commit::before{
  content:""; }

.bp3-icon-git-merge::before{
  content:""; }

.bp3-icon-git-new-branch::before{
  content:""; }

.bp3-icon-git-pull::before{
  content:""; }

.bp3-icon-git-push::before{
  content:""; }

.bp3-icon-git-repo::before{
  content:""; }

.bp3-icon-glass::before{
  content:""; }

.bp3-icon-globe::before{
  content:""; }

.bp3-icon-globe-network::before{
  content:""; }

.bp3-icon-graph::before{
  content:""; }

.bp3-icon-graph-remove::before{
  content:""; }

.bp3-icon-greater-than::before{
  content:""; }

.bp3-icon-greater-than-or-equal-to::before{
  content:""; }

.bp3-icon-grid::before{
  content:""; }

.bp3-icon-grid-view::before{
  content:""; }

.bp3-icon-group-objects::before{
  content:""; }

.bp3-icon-grouped-bar-chart::before{
  content:""; }

.bp3-icon-hand::before{
  content:""; }

.bp3-icon-hand-down::before{
  content:""; }

.bp3-icon-hand-left::before{
  content:""; }

.bp3-icon-hand-right::before{
  content:""; }

.bp3-icon-hand-up::before{
  content:""; }

.bp3-icon-header::before{
  content:""; }

.bp3-icon-header-one::before{
  content:""; }

.bp3-icon-header-two::before{
  content:""; }

.bp3-icon-headset::before{
  content:""; }

.bp3-icon-heart::before{
  content:"♥"; }

.bp3-icon-heart-broken::before{
  content:""; }

.bp3-icon-heat-grid::before{
  content:""; }

.bp3-icon-heatmap::before{
  content:""; }

.bp3-icon-help::before{
  content:"?"; }

.bp3-icon-helper-management::before{
  content:""; }

.bp3-icon-highlight::before{
  content:""; }

.bp3-icon-history::before{
  content:""; }

.bp3-icon-home::before{
  content:"⌂"; }

.bp3-icon-horizontal-bar-chart::before{
  content:""; }

.bp3-icon-horizontal-bar-chart-asc::before{
  content:""; }

.bp3-icon-horizontal-bar-chart-desc::before{
  content:""; }

.bp3-icon-horizontal-distribution::before{
  content:""; }

.bp3-icon-id-number::before{
  content:""; }

.bp3-icon-image-rotate-left::before{
  content:""; }

.bp3-icon-image-rotate-right::before{
  content:""; }

.bp3-icon-import::before{
  content:""; }

.bp3-icon-inbox::before{
  content:""; }

.bp3-icon-inbox-filtered::before{
  content:""; }

.bp3-icon-inbox-geo::before{
  content:""; }

.bp3-icon-inbox-search::before{
  content:""; }

.bp3-icon-inbox-update::before{
  content:""; }

.bp3-icon-info-sign::before{
  content:"ℹ"; }

.bp3-icon-inheritance::before{
  content:""; }

.bp3-icon-inner-join::before{
  content:""; }

.bp3-icon-insert::before{
  content:""; }

.bp3-icon-intersection::before{
  content:""; }

.bp3-icon-ip-address::before{
  content:""; }

.bp3-icon-issue::before{
  content:""; }

.bp3-icon-issue-closed::before{
  content:""; }

.bp3-icon-issue-new::before{
  content:""; }

.bp3-icon-italic::before{
  content:""; }

.bp3-icon-join-table::before{
  content:""; }

.bp3-icon-key::before{
  content:""; }

.bp3-icon-key-backspace::before{
  content:""; }

.bp3-icon-key-command::before{
  content:""; }

.bp3-icon-key-control::before{
  content:""; }

.bp3-icon-key-delete::before{
  content:""; }

.bp3-icon-key-enter::before{
  content:""; }

.bp3-icon-key-escape::before{
  content:""; }

.bp3-icon-key-option::before{
  content:""; }

.bp3-icon-key-shift::before{
  content:""; }

.bp3-icon-key-tab::before{
  content:""; }

.bp3-icon-known-vehicle::before{
  content:""; }

.bp3-icon-lab-test::before{
  content:""; }

.bp3-icon-label::before{
  content:""; }

.bp3-icon-layer::before{
  content:""; }

.bp3-icon-layers::before{
  content:""; }

.bp3-icon-layout::before{
  content:""; }

.bp3-icon-layout-auto::before{
  content:""; }

.bp3-icon-layout-balloon::before{
  content:""; }

.bp3-icon-layout-circle::before{
  content:""; }

.bp3-icon-layout-grid::before{
  content:""; }

.bp3-icon-layout-group-by::before{
  content:""; }

.bp3-icon-layout-hierarchy::before{
  content:""; }

.bp3-icon-layout-linear::before{
  content:""; }

.bp3-icon-layout-skew-grid::before{
  content:""; }

.bp3-icon-layout-sorted-clusters::before{
  content:""; }

.bp3-icon-learning::before{
  content:""; }

.bp3-icon-left-join::before{
  content:""; }

.bp3-icon-less-than::before{
  content:""; }

.bp3-icon-less-than-or-equal-to::before{
  content:""; }

.bp3-icon-lifesaver::before{
  content:""; }

.bp3-icon-lightbulb::before{
  content:""; }

.bp3-icon-link::before{
  content:""; }

.bp3-icon-list::before{
  content:"☰"; }

.bp3-icon-list-columns::before{
  content:""; }

.bp3-icon-list-detail-view::before{
  content:""; }

.bp3-icon-locate::before{
  content:""; }

.bp3-icon-lock::before{
  content:""; }

.bp3-icon-log-in::before{
  content:""; }

.bp3-icon-log-out::before{
  content:""; }

.bp3-icon-manual::before{
  content:""; }

.bp3-icon-manually-entered-data::before{
  content:""; }

.bp3-icon-map::before{
  content:""; }

.bp3-icon-map-create::before{
  content:""; }

.bp3-icon-map-marker::before{
  content:""; }

.bp3-icon-maximize::before{
  content:""; }

.bp3-icon-media::before{
  content:""; }

.bp3-icon-menu::before{
  content:""; }

.bp3-icon-menu-closed::before{
  content:""; }

.bp3-icon-menu-open::before{
  content:""; }

.bp3-icon-merge-columns::before{
  content:""; }

.bp3-icon-merge-links::before{
  content:""; }

.bp3-icon-minimize::before{
  content:""; }

.bp3-icon-minus::before{
  content:"−"; }

.bp3-icon-mobile-phone::before{
  content:""; }

.bp3-icon-mobile-video::before{
  content:""; }

.bp3-icon-moon::before{
  content:""; }

.bp3-icon-more::before{
  content:""; }

.bp3-icon-mountain::before{
  content:""; }

.bp3-icon-move::before{
  content:""; }

.bp3-icon-mugshot::before{
  content:""; }

.bp3-icon-multi-select::before{
  content:""; }

.bp3-icon-music::before{
  content:""; }

.bp3-icon-new-drawing::before{
  content:""; }

.bp3-icon-new-grid-item::before{
  content:""; }

.bp3-icon-new-layer::before{
  content:""; }

.bp3-icon-new-layers::before{
  content:""; }

.bp3-icon-new-link::before{
  content:""; }

.bp3-icon-new-object::before{
  content:""; }

.bp3-icon-new-person::before{
  content:""; }

.bp3-icon-new-prescription::before{
  content:""; }

.bp3-icon-new-text-box::before{
  content:""; }

.bp3-icon-ninja::before{
  content:""; }

.bp3-icon-not-equal-to::before{
  content:""; }

.bp3-icon-notifications::before{
  content:""; }

.bp3-icon-notifications-updated::before{
  content:""; }

.bp3-icon-numbered-list::before{
  content:""; }

.bp3-icon-numerical::before{
  content:""; }

.bp3-icon-office::before{
  content:""; }

.bp3-icon-offline::before{
  content:""; }

.bp3-icon-oil-field::before{
  content:""; }

.bp3-icon-one-column::before{
  content:""; }

.bp3-icon-outdated::before{
  content:""; }

.bp3-icon-page-layout::before{
  content:""; }

.bp3-icon-panel-stats::before{
  content:""; }

.bp3-icon-panel-table::before{
  content:""; }

.bp3-icon-paperclip::before{
  content:""; }

.bp3-icon-paragraph::before{
  content:""; }

.bp3-icon-path::before{
  content:""; }

.bp3-icon-path-search::before{
  content:""; }

.bp3-icon-pause::before{
  content:""; }

.bp3-icon-people::before{
  content:""; }

.bp3-icon-percentage::before{
  content:""; }

.bp3-icon-person::before{
  content:""; }

.bp3-icon-phone::before{
  content:"☎"; }

.bp3-icon-pie-chart::before{
  content:""; }

.bp3-icon-pin::before{
  content:""; }

.bp3-icon-pivot::before{
  content:""; }

.bp3-icon-pivot-table::before{
  content:""; }

.bp3-icon-play::before{
  content:""; }

.bp3-icon-plus::before{
  content:"+"; }

.bp3-icon-polygon-filter::before{
  content:""; }

.bp3-icon-power::before{
  content:""; }

.bp3-icon-predictive-analysis::before{
  content:""; }

.bp3-icon-prescription::before{
  content:""; }

.bp3-icon-presentation::before{
  content:""; }

.bp3-icon-print::before{
  content:"⎙"; }

.bp3-icon-projects::before{
  content:""; }

.bp3-icon-properties::before{
  content:""; }

.bp3-icon-property::before{
  content:""; }

.bp3-icon-publish-function::before{
  content:""; }

.bp3-icon-pulse::before{
  content:""; }

.bp3-icon-random::before{
  content:""; }

.bp3-icon-record::before{
  content:""; }

.bp3-icon-redo::before{
  content:""; }

.bp3-icon-refresh::before{
  content:""; }

.bp3-icon-regression-chart::before{
  content:""; }

.bp3-icon-remove::before{
  content:""; }

.bp3-icon-remove-column::before{
  content:""; }

.bp3-icon-remove-column-left::before{
  content:""; }

.bp3-icon-remove-column-right::before{
  content:""; }

.bp3-icon-remove-row-bottom::before{
  content:""; }

.bp3-icon-remove-row-top::before{
  content:""; }

.bp3-icon-repeat::before{
  content:""; }

.bp3-icon-reset::before{
  content:""; }

.bp3-icon-resolve::before{
  content:""; }

.bp3-icon-rig::before{
  content:""; }

.bp3-icon-right-join::before{
  content:""; }

.bp3-icon-ring::before{
  content:""; }

.bp3-icon-rotate-document::before{
  content:""; }

.bp3-icon-rotate-page::before{
  content:""; }

.bp3-icon-satellite::before{
  content:""; }

.bp3-icon-saved::before{
  content:""; }

.bp3-icon-scatter-plot::before{
  content:""; }

.bp3-icon-search::before{
  content:""; }

.bp3-icon-search-around::before{
  content:""; }

.bp3-icon-search-template::before{
  content:""; }

.bp3-icon-search-text::before{
  content:""; }

.bp3-icon-segmented-control::before{
  content:""; }

.bp3-icon-select::before{
  content:""; }

.bp3-icon-selection::before{
  content:"⦿"; }

.bp3-icon-send-to::before{
  content:""; }

.bp3-icon-send-to-graph::before{
  content:""; }

.bp3-icon-send-to-map::before{
  content:""; }

.bp3-icon-series-add::before{
  content:""; }

.bp3-icon-series-configuration::before{
  content:""; }

.bp3-icon-series-derived::before{
  content:""; }

.bp3-icon-series-filtered::before{
  content:""; }

.bp3-icon-series-search::before{
  content:""; }

.bp3-icon-settings::before{
  content:""; }

.bp3-icon-share::before{
  content:""; }

.bp3-icon-shield::before{
  content:""; }

.bp3-icon-shop::before{
  content:""; }

.bp3-icon-shopping-cart::before{
  content:""; }

.bp3-icon-signal-search::before{
  content:""; }

.bp3-icon-sim-card::before{
  content:""; }

.bp3-icon-slash::before{
  content:""; }

.bp3-icon-small-cross::before{
  content:""; }

.bp3-icon-small-minus::before{
  content:""; }

.bp3-icon-small-plus::before{
  content:""; }

.bp3-icon-small-tick::before{
  content:""; }

.bp3-icon-snowflake::before{
  content:""; }

.bp3-icon-social-media::before{
  content:""; }

.bp3-icon-sort::before{
  content:""; }

.bp3-icon-sort-alphabetical::before{
  content:""; }

.bp3-icon-sort-alphabetical-desc::before{
  content:""; }

.bp3-icon-sort-asc::before{
  content:""; }

.bp3-icon-sort-desc::before{
  content:""; }

.bp3-icon-sort-numerical::before{
  content:""; }

.bp3-icon-sort-numerical-desc::before{
  content:""; }

.bp3-icon-split-columns::before{
  content:""; }

.bp3-icon-square::before{
  content:""; }

.bp3-icon-stacked-chart::before{
  content:""; }

.bp3-icon-star::before{
  content:"★"; }

.bp3-icon-star-empty::before{
  content:"☆"; }

.bp3-icon-step-backward::before{
  content:""; }

.bp3-icon-step-chart::before{
  content:""; }

.bp3-icon-step-forward::before{
  content:""; }

.bp3-icon-stop::before{
  content:""; }

.bp3-icon-stopwatch::before{
  content:""; }

.bp3-icon-strikethrough::before{
  content:""; }

.bp3-icon-style::before{
  content:""; }

.bp3-icon-swap-horizontal::before{
  content:""; }

.bp3-icon-swap-vertical::before{
  content:""; }

.bp3-icon-symbol-circle::before{
  content:""; }

.bp3-icon-symbol-cross::before{
  content:""; }

.bp3-icon-symbol-diamond::before{
  content:""; }

.bp3-icon-symbol-square::before{
  content:""; }

.bp3-icon-symbol-triangle-down::before{
  content:""; }

.bp3-icon-symbol-triangle-up::before{
  content:""; }

.bp3-icon-tag::before{
  content:""; }

.bp3-icon-take-action::before{
  content:""; }

.bp3-icon-taxi::before{
  content:""; }

.bp3-icon-text-highlight::before{
  content:""; }

.bp3-icon-th::before{
  content:""; }

.bp3-icon-th-derived::before{
  content:""; }

.bp3-icon-th-disconnect::before{
  content:""; }

.bp3-icon-th-filtered::before{
  content:""; }

.bp3-icon-th-list::before{
  content:""; }

.bp3-icon-thumbs-down::before{
  content:""; }

.bp3-icon-thumbs-up::before{
  content:""; }

.bp3-icon-tick::before{
  content:"✓"; }

.bp3-icon-tick-circle::before{
  content:""; }

.bp3-icon-time::before{
  content:"⏲"; }

.bp3-icon-timeline-area-chart::before{
  content:""; }

.bp3-icon-timeline-bar-chart::before{
  content:""; }

.bp3-icon-timeline-events::before{
  content:""; }

.bp3-icon-timeline-line-chart::before{
  content:""; }

.bp3-icon-tint::before{
  content:""; }

.bp3-icon-torch::before{
  content:""; }

.bp3-icon-tractor::before{
  content:""; }

.bp3-icon-train::before{
  content:""; }

.bp3-icon-translate::before{
  content:""; }

.bp3-icon-trash::before{
  content:""; }

.bp3-icon-tree::before{
  content:""; }

.bp3-icon-trending-down::before{
  content:""; }

.bp3-icon-trending-up::before{
  content:""; }

.bp3-icon-truck::before{
  content:""; }

.bp3-icon-two-columns::before{
  content:""; }

.bp3-icon-unarchive::before{
  content:""; }

.bp3-icon-underline::before{
  content:"⎁"; }

.bp3-icon-undo::before{
  content:"⎌"; }

.bp3-icon-ungroup-objects::before{
  content:""; }

.bp3-icon-unknown-vehicle::before{
  content:""; }

.bp3-icon-unlock::before{
  content:""; }

.bp3-icon-unpin::before{
  content:""; }

.bp3-icon-unresolve::before{
  content:""; }

.bp3-icon-updated::before{
  content:""; }

.bp3-icon-upload::before{
  content:""; }

.bp3-icon-user::before{
  content:""; }

.bp3-icon-variable::before{
  content:""; }

.bp3-icon-vertical-bar-chart-asc::before{
  content:""; }

.bp3-icon-vertical-bar-chart-desc::before{
  content:""; }

.bp3-icon-vertical-distribution::before{
  content:""; }

.bp3-icon-video::before{
  content:""; }

.bp3-icon-volume-down::before{
  content:""; }

.bp3-icon-volume-off::before{
  content:""; }

.bp3-icon-volume-up::before{
  content:""; }

.bp3-icon-walk::before{
  content:""; }

.bp3-icon-warning-sign::before{
  content:""; }

.bp3-icon-waterfall-chart::before{
  content:""; }

.bp3-icon-widget::before{
  content:""; }

.bp3-icon-widget-button::before{
  content:""; }

.bp3-icon-widget-footer::before{
  content:""; }

.bp3-icon-widget-header::before{
  content:""; }

.bp3-icon-wrench::before{
  content:""; }

.bp3-icon-zoom-in::before{
  content:""; }

.bp3-icon-zoom-out::before{
  content:""; }

.bp3-icon-zoom-to-fit::before{
  content:""; }
.bp3-submenu > .bp3-popover-wrapper{
  display:block; }

.bp3-submenu .bp3-popover-target{
  display:block; }
  .bp3-submenu .bp3-popover-target.bp3-popover-open > .bp3-menu-item{ }

.bp3-submenu.bp3-popover{
  -webkit-box-shadow:none;
          box-shadow:none;
  padding:0 5px; }
  .bp3-submenu.bp3-popover > .bp3-popover-content{
    -webkit-box-shadow:0 0 0 1px rgba(16, 22, 26, 0.1), 0 2px 4px rgba(16, 22, 26, 0.2), 0 8px 24px rgba(16, 22, 26, 0.2);
            box-shadow:0 0 0 1px rgba(16, 22, 26, 0.1), 0 2px 4px rgba(16, 22, 26, 0.2), 0 8px 24px rgba(16, 22, 26, 0.2); }
  .bp3-dark .bp3-submenu.bp3-popover, .bp3-submenu.bp3-popover.bp3-dark{
    -webkit-box-shadow:none;
            box-shadow:none; }
    .bp3-dark .bp3-submenu.bp3-popover > .bp3-popover-content, .bp3-submenu.bp3-popover.bp3-dark > .bp3-popover-content{
      -webkit-box-shadow:0 0 0 1px rgba(16, 22, 26, 0.2), 0 2px 4px rgba(16, 22, 26, 0.4), 0 8px 24px rgba(16, 22, 26, 0.4);
              box-shadow:0 0 0 1px rgba(16, 22, 26, 0.2), 0 2px 4px rgba(16, 22, 26, 0.4), 0 8px 24px rgba(16, 22, 26, 0.4); }
.bp3-menu{
  background:#ffffff;
  border-radius:3px;
  color:#182026;
  list-style:none;
  margin:0;
  min-width:180px;
  padding:5px;
  text-align:left; }

.bp3-menu-divider{
  border-top:1px solid rgba(16, 22, 26, 0.15);
  display:block;
  margin:5px; }
  .bp3-dark .bp3-menu-divider{
    border-top-color:rgba(255, 255, 255, 0.15); }

.bp3-menu-item{
  display:-webkit-box;
  display:-ms-flexbox;
  display:flex;
  -webkit-box-orient:horizontal;
  -webkit-box-direction:normal;
      -ms-flex-direction:row;
          flex-direction:row;
  -webkit-box-align:start;
      -ms-flex-align:start;
          align-items:flex-start;
  border-radius:2px;
  color:inherit;
  line-height:20px;
  padding:5px 7px;
  text-decoration:none;
  -webkit-user-select:none;
     -moz-user-select:none;
      -ms-user-select:none;
          user-select:none; }
  .bp3-menu-item > *{
    -webkit-box-flex:0;
        -ms-flex-positive:0;
            flex-grow:0;
    -ms-flex-negative:0;
        flex-shrink:0; }
  .bp3-menu-item > .bp3-fill{
    -webkit-box-flex:1;
        -ms-flex-positive:1;
            flex-grow:1;
    -ms-flex-negative:1;
        flex-shrink:1; }
  .bp3-menu-item::before,
  .bp3-menu-item > *{
    margin-right:7px; }
  .bp3-menu-item:empty::before,
  .bp3-menu-item > :last-child{
    margin-right:0; }
  .bp3-menu-item > .bp3-fill{
    word-break:break-word; }
  .bp3-menu-item:hover, .bp3-submenu .bp3-popover-target.bp3-popover-open > .bp3-menu-item{
    background-color:rgba(167, 182, 194, 0.3);
    cursor:pointer;
    text-decoration:none; }
  .bp3-menu-item.bp3-disabled{
    background-color:inherit;
    color:rgba(92, 112, 128, 0.6);
    cursor:not-allowed; }
  .bp3-dark .bp3-menu-item{
    color:inherit; }
    .bp3-dark .bp3-menu-item:hover, .bp3-dark .bp3-submenu .bp3-popover-target.bp3-popover-open > .bp3-menu-item, .bp3-submenu .bp3-dark .bp3-popover-target.bp3-popover-open > .bp3-menu-item{
      background-color:rgba(138, 155, 168, 0.15);
      color:inherit; }
    .bp3-dark .bp3-menu-item.bp3-disabled{
      background-color:inherit;
      color:rgba(167, 182, 194, 0.6); }
  .bp3-menu-item.bp3-intent-primary{
    color:#106ba3; }
    .bp3-menu-item.bp3-intent-primary .bp3-icon{
      color:inherit; }
    .bp3-menu-item.bp3-intent-primary::before, .bp3-menu-item.bp3-intent-primary::after,
    .bp3-menu-item.bp3-intent-primary .bp3-menu-item-label{
      color:#106ba3; }
    .bp3-menu-item.bp3-intent-primary:hover, .bp3-submenu .bp3-popover-target.bp3-popover-open > .bp3-intent-primary.bp3-menu-item, .bp3-menu-item.bp3-intent-primary.bp3-active{
      background-color:#137cbd; }
    .bp3-menu-item.bp3-intent-primary:active{
      background-color:#106ba3; }
    .bp3-menu-item.bp3-intent-primary:hover, .bp3-submenu .bp3-popover-target.bp3-popover-open > .bp3-intent-primary.bp3-menu-item, .bp3-menu-item.bp3-intent-primary:hover::before, .bp3-submenu .bp3-popover-target.bp3-popover-open > .bp3-intent-primary.bp3-menu-item::before, .bp3-menu-item.bp3-intent-primary:hover::after, .bp3-submenu .bp3-popover-target.bp3-popover-open > .bp3-intent-primary.bp3-menu-item::after,
    .bp3-menu-item.bp3-intent-primary:hover .bp3-menu-item-label,
    .bp3-submenu .bp3-popover-target.bp3-popover-open > .bp3-intent-primary.bp3-menu-item .bp3-menu-item-label, .bp3-menu-item.bp3-intent-primary:active, .bp3-menu-item.bp3-intent-primary:active::before, .bp3-menu-item.bp3-intent-primary:active::after,
    .bp3-menu-item.bp3-intent-primary:active .bp3-menu-item-label, .bp3-menu-item.bp3-intent-primary.bp3-active, .bp3-menu-item.bp3-intent-primary.bp3-active::before, .bp3-menu-item.bp3-intent-primary.bp3-active::after,
    .bp3-menu-item.bp3-intent-primary.bp3-active .bp3-menu-item-label{
      color:#ffffff; }
  .bp3-menu-item.bp3-intent-success{
    color:#0d8050; }
    .bp3-menu-item.bp3-intent-success .bp3-icon{
      color:inherit; }
    .bp3-menu-item.bp3-intent-success::before, .bp3-menu-item.bp3-intent-success::after,
    .bp3-menu-item.bp3-intent-success .bp3-menu-item-label{
      color:#0d8050; }
    .bp3-menu-item.bp3-intent-success:hover, .bp3-submenu .bp3-popover-target.bp3-popover-open > .bp3-intent-success.bp3-menu-item, .bp3-menu-item.bp3-intent-success.bp3-active{
      background-color:#0f9960; }
    .bp3-menu-item.bp3-intent-success:active{
      background-color:#0d8050; }
    .bp3-menu-item.bp3-intent-success:hover, .bp3-submenu .bp3-popover-target.bp3-popover-open > .bp3-intent-success.bp3-menu-item, .bp3-menu-item.bp3-intent-success:hover::before, .bp3-submenu .bp3-popover-target.bp3-popover-open > .bp3-intent-success.bp3-menu-item::before, .bp3-menu-item.bp3-intent-success:hover::after, .bp3-submenu .bp3-popover-target.bp3-popover-open > .bp3-intent-success.bp3-menu-item::after,
    .bp3-menu-item.bp3-intent-success:hover .bp3-menu-item-label,
    .bp3-submenu .bp3-popover-target.bp3-popover-open > .bp3-intent-success.bp3-menu-item .bp3-menu-item-label, .bp3-menu-item.bp3-intent-success:active, .bp3-menu-item.bp3-intent-success:active::before, .bp3-menu-item.bp3-intent-success:active::after,
    .bp3-menu-item.bp3-intent-success:active .bp3-menu-item-label, .bp3-menu-item.bp3-intent-success.bp3-active, .bp3-menu-item.bp3-intent-success.bp3-active::before, .bp3-menu-item.bp3-intent-success.bp3-active::after,
    .bp3-menu-item.bp3-intent-success.bp3-active .bp3-menu-item-label{
      color:#ffffff; }
  .bp3-menu-item.bp3-intent-warning{
    color:#bf7326; }
    .bp3-menu-item.bp3-intent-warning .bp3-icon{
      color:inherit; }
    .bp3-menu-item.bp3-intent-warning::before, .bp3-menu-item.bp3-intent-warning::after,
    .bp3-menu-item.bp3-intent-warning .bp3-menu-item-label{
      color:#bf7326; }
    .bp3-menu-item.bp3-intent-warning:hover, .bp3-submenu .bp3-popover-target.bp3-popover-open > .bp3-intent-warning.bp3-menu-item, .bp3-menu-item.bp3-intent-warning.bp3-active{
      background-color:#d9822b; }
    .bp3-menu-item.bp3-intent-warning:active{
      background-color:#bf7326; }
    .bp3-menu-item.bp3-intent-warning:hover, .bp3-submenu .bp3-popover-target.bp3-popover-open > .bp3-intent-warning.bp3-menu-item, .bp3-menu-item.bp3-intent-warning:hover::before, .bp3-submenu .bp3-popover-target.bp3-popover-open > .bp3-intent-warning.bp3-menu-item::before, .bp3-menu-item.bp3-intent-warning:hover::after, .bp3-submenu .bp3-popover-target.bp3-popover-open > .bp3-intent-warning.bp3-menu-item::after,
    .bp3-menu-item.bp3-intent-warning:hover .bp3-menu-item-label,
    .bp3-submenu .bp3-popover-target.bp3-popover-open > .bp3-intent-warning.bp3-menu-item .bp3-menu-item-label, .bp3-menu-item.bp3-intent-warning:active, .bp3-menu-item.bp3-intent-warning:active::before, .bp3-menu-item.bp3-intent-warning:active::after,
    .bp3-menu-item.bp3-intent-warning:active .bp3-menu-item-label, .bp3-menu-item.bp3-intent-warning.bp3-active, .bp3-menu-item.bp3-intent-warning.bp3-active::before, .bp3-menu-item.bp3-intent-warning.bp3-active::after,
    .bp3-menu-item.bp3-intent-warning.bp3-active .bp3-menu-item-label{
      color:#ffffff; }
  .bp3-menu-item.bp3-intent-danger{
    color:#c23030; }
    .bp3-menu-item.bp3-intent-danger .bp3-icon{
      color:inherit; }
    .bp3-menu-item.bp3-intent-danger::before, .bp3-menu-item.bp3-intent-danger::after,
    .bp3-menu-item.bp3-intent-danger .bp3-menu-item-label{
      color:#c23030; }
    .bp3-menu-item.bp3-intent-danger:hover, .bp3-submenu .bp3-popover-target.bp3-popover-open > .bp3-intent-danger.bp3-menu-item, .bp3-menu-item.bp3-intent-danger.bp3-active{
      background-color:#db3737; }
    .bp3-menu-item.bp3-intent-danger:active{
      background-color:#c23030; }
    .bp3-menu-item.bp3-intent-danger:hover, .bp3-submenu .bp3-popover-target.bp3-popover-open > .bp3-intent-danger.bp3-menu-item, .bp3-menu-item.bp3-intent-danger:hover::before, .bp3-submenu .bp3-popover-target.bp3-popover-open > .bp3-intent-danger.bp3-menu-item::before, .bp3-menu-item.bp3-intent-danger:hover::after, .bp3-submenu .bp3-popover-target.bp3-popover-open > .bp3-intent-danger.bp3-menu-item::after,
    .bp3-menu-item.bp3-intent-danger:hover .bp3-menu-item-label,
    .bp3-submenu .bp3-popover-target.bp3-popover-open > .bp3-intent-danger.bp3-menu-item .bp3-menu-item-label, .bp3-menu-item.bp3-intent-danger:active, .bp3-menu-item.bp3-intent-danger:active::before, .bp3-menu-item.bp3-intent-danger:active::after,
    .bp3-menu-item.bp3-intent-danger:active .bp3-menu-item-label, .bp3-menu-item.bp3-intent-danger.bp3-active, .bp3-menu-item.bp3-intent-danger.bp3-active::before, .bp3-menu-item.bp3-intent-danger.bp3-active::after,
    .bp3-menu-item.bp3-intent-danger.bp3-active .bp3-menu-item-label{
      color:#ffffff; }
  .bp3-menu-item::before{
    font-family:"Icons16", sans-serif;
    font-size:16px;
    font-style:normal;
    font-weight:400;
    line-height:1;
    -moz-osx-font-smoothing:grayscale;
    -webkit-font-smoothing:antialiased;
    margin-right:7px; }
  .bp3-menu-item::before,
  .bp3-menu-item > .bp3-icon{
    color:#5c7080;
    margin-top:2px; }
  .bp3-menu-item .bp3-menu-item-label{
    color:#5c7080; }
  .bp3-menu-item:hover, .bp3-submenu .bp3-popover-target.bp3-popover-open > .bp3-menu-item{
    color:inherit; }
  .bp3-menu-item.bp3-active, .bp3-menu-item:active{
    background-color:rgba(115, 134, 148, 0.3); }
  .bp3-menu-item.bp3-disabled{
    background-color:inherit !important;
    color:rgba(92, 112, 128, 0.6) !important;
    cursor:not-allowed !important;
    outline:none !important; }
    .bp3-menu-item.bp3-disabled::before,
    .bp3-menu-item.bp3-disabled > .bp3-icon,
    .bp3-menu-item.bp3-disabled .bp3-menu-item-label{
      color:rgba(92, 112, 128, 0.6) !important; }
  .bp3-large .bp3-menu-item{
    font-size:16px;
    line-height:22px;
    padding:9px 7px; }
    .bp3-large .bp3-menu-item .bp3-icon{
      margin-top:3px; }
    .bp3-large .bp3-menu-item::before{
      font-family:"Icons20", sans-serif;
      font-size:20px;
      font-style:normal;
      font-weight:400;
      line-height:1;
      -moz-osx-font-smoothing:grayscale;
      -webkit-font-smoothing:antialiased;
      margin-right:10px;
      margin-top:1px; }

button.bp3-menu-item{
  background:none;
  border:none;
  text-align:left;
  width:100%; }
.bp3-menu-header{
  border-top:1px solid rgba(16, 22, 26, 0.15);
  display:block;
  margin:5px;
  cursor:default;
  padding-left:2px; }
  .bp3-dark .bp3-menu-header{
    border-top-color:rgba(255, 255, 255, 0.15); }
  .bp3-menu-header:first-of-type{
    border-top:none; }
  .bp3-menu-header > h6{
    color:#182026;
    font-weight:600;
    overflow:hidden;
    text-overflow:ellipsis;
    white-space:nowrap;
    word-wrap:normal;
    line-height:17px;
    margin:0;
    padding:10px 7px 0 1px; }
    .bp3-dark .bp3-menu-header > h6{
      color:#f5f8fa; }
  .bp3-menu-header:first-of-type > h6{
    padding-top:0; }
  .bp3-large .bp3-menu-header > h6{
    font-size:18px;
    padding-bottom:5px;
    padding-top:15px; }
  .bp3-large .bp3-menu-header:first-of-type > h6{
    padding-top:0; }

.bp3-dark .bp3-menu{
  background:#30404d;
  color:#f5f8fa; }

.bp3-dark .bp3-menu-item{ }
  .bp3-dark .bp3-menu-item.bp3-intent-primary{
    color:#48aff0; }
    .bp3-dark .bp3-menu-item.bp3-intent-primary .bp3-icon{
      color:inherit; }
    .bp3-dark .bp3-menu-item.bp3-intent-primary::before, .bp3-dark .bp3-menu-item.bp3-intent-primary::after,
    .bp3-dark .bp3-menu-item.bp3-intent-primary .bp3-menu-item-label{
      color:#48aff0; }
    .bp3-dark .bp3-menu-item.bp3-intent-primary:hover, .bp3-dark .bp3-submenu .bp3-popover-target.bp3-popover-open > .bp3-intent-primary.bp3-menu-item, .bp3-submenu .bp3-dark .bp3-popover-target.bp3-popover-open > .bp3-intent-primary.bp3-menu-item, .bp3-dark .bp3-menu-item.bp3-intent-primary.bp3-active{
      background-color:#137cbd; }
    .bp3-dark .bp3-menu-item.bp3-intent-primary:active{
      background-color:#106ba3; }
    .bp3-dark .bp3-menu-item.bp3-intent-primary:hover, .bp3-dark .bp3-submenu .bp3-popover-target.bp3-popover-open > .bp3-intent-primary.bp3-menu-item, .bp3-submenu .bp3-dark .bp3-popover-target.bp3-popover-open > .bp3-intent-primary.bp3-menu-item, .bp3-dark .bp3-menu-item.bp3-intent-primary:hover::before, .bp3-dark .bp3-submenu .bp3-popover-target.bp3-popover-open > .bp3-intent-primary.bp3-menu-item::before, .bp3-submenu .bp3-dark .bp3-popover-target.bp3-popover-open > .bp3-intent-primary.bp3-menu-item::before, .bp3-dark .bp3-menu-item.bp3-intent-primary:hover::after, .bp3-dark .bp3-submenu .bp3-popover-target.bp3-popover-open > .bp3-intent-primary.bp3-menu-item::after, .bp3-submenu .bp3-dark .bp3-popover-target.bp3-popover-open > .bp3-intent-primary.bp3-menu-item::after,
    .bp3-dark .bp3-menu-item.bp3-intent-primary:hover .bp3-menu-item-label,
    .bp3-dark .bp3-submenu .bp3-popover-target.bp3-popover-open > .bp3-intent-primary.bp3-menu-item .bp3-menu-item-label,
    .bp3-submenu .bp3-dark .bp3-popover-target.bp3-popover-open > .bp3-intent-primary.bp3-menu-item .bp3-menu-item-label, .bp3-dark .bp3-menu-item.bp3-intent-primary:active, .bp3-dark .bp3-menu-item.bp3-intent-primary:active::before, .bp3-dark .bp3-menu-item.bp3-intent-primary:active::after,
    .bp3-dark .bp3-menu-item.bp3-intent-primary:active .bp3-menu-item-label, .bp3-dark .bp3-menu-item.bp3-intent-primary.bp3-active, .bp3-dark .bp3-menu-item.bp3-intent-primary.bp3-active::before, .bp3-dark .bp3-menu-item.bp3-intent-primary.bp3-active::after,
    .bp3-dark .bp3-menu-item.bp3-intent-primary.bp3-active .bp3-menu-item-label{
      color:#ffffff; }
  .bp3-dark .bp3-menu-item.bp3-intent-success{
    color:#3dcc91; }
    .bp3-dark .bp3-menu-item.bp3-intent-success .bp3-icon{
      color:inherit; }
    .bp3-dark .bp3-menu-item.bp3-intent-success::before, .bp3-dark .bp3-menu-item.bp3-intent-success::after,
    .bp3-dark .bp3-menu-item.bp3-intent-success .bp3-menu-item-label{
      color:#3dcc91; }
    .bp3-dark .bp3-menu-item.bp3-intent-success:hover, .bp3-dark .bp3-submenu .bp3-popover-target.bp3-popover-open > .bp3-intent-success.bp3-menu-item, .bp3-submenu .bp3-dark .bp3-popover-target.bp3-popover-open > .bp3-intent-success.bp3-menu-item, .bp3-dark .bp3-menu-item.bp3-intent-success.bp3-active{
      background-color:#0f9960; }
    .bp3-dark .bp3-menu-item.bp3-intent-success:active{
      background-color:#0d8050; }
    .bp3-dark .bp3-menu-item.bp3-intent-success:hover, .bp3-dark .bp3-submenu .bp3-popover-target.bp3-popover-open > .bp3-intent-success.bp3-menu-item, .bp3-submenu .bp3-dark .bp3-popover-target.bp3-popover-open > .bp3-intent-success.bp3-menu-item, .bp3-dark .bp3-menu-item.bp3-intent-success:hover::before, .bp3-dark .bp3-submenu .bp3-popover-target.bp3-popover-open > .bp3-intent-success.bp3-menu-item::before, .bp3-submenu .bp3-dark .bp3-popover-target.bp3-popover-open > .bp3-intent-success.bp3-menu-item::before, .bp3-dark .bp3-menu-item.bp3-intent-success:hover::after, .bp3-dark .bp3-submenu .bp3-popover-target.bp3-popover-open > .bp3-intent-success.bp3-menu-item::after, .bp3-submenu .bp3-dark .bp3-popover-target.bp3-popover-open > .bp3-intent-success.bp3-menu-item::after,
    .bp3-dark .bp3-menu-item.bp3-intent-success:hover .bp3-menu-item-label,
    .bp3-dark .bp3-submenu .bp3-popover-target.bp3-popover-open > .bp3-intent-success.bp3-menu-item .bp3-menu-item-label,
    .bp3-submenu .bp3-dark .bp3-popover-target.bp3-popover-open > .bp3-intent-success.bp3-menu-item .bp3-menu-item-label, .bp3-dark .bp3-menu-item.bp3-intent-success:active, .bp3-dark .bp3-menu-item.bp3-intent-success:active::before, .bp3-dark .bp3-menu-item.bp3-intent-success:active::after,
    .bp3-dark .bp3-menu-item.bp3-intent-success:active .bp3-menu-item-label, .bp3-dark .bp3-menu-item.bp3-intent-success.bp3-active, .bp3-dark .bp3-menu-item.bp3-intent-success.bp3-active::before, .bp3-dark .bp3-menu-item.bp3-intent-success.bp3-active::after,
    .bp3-dark .bp3-menu-item.bp3-intent-success.bp3-active .bp3-menu-item-label{
      color:#ffffff; }
  .bp3-dark .bp3-menu-item.bp3-intent-warning{
    color:#ffb366; }
    .bp3-dark .bp3-menu-item.bp3-intent-warning .bp3-icon{
      color:inherit; }
    .bp3-dark .bp3-menu-item.bp3-intent-warning::before, .bp3-dark .bp3-menu-item.bp3-intent-warning::after,
    .bp3-dark .bp3-menu-item.bp3-intent-warning .bp3-menu-item-label{
      color:#ffb366; }
    .bp3-dark .bp3-menu-item.bp3-intent-warning:hover, .bp3-dark .bp3-submenu .bp3-popover-target.bp3-popover-open > .bp3-intent-warning.bp3-menu-item, .bp3-submenu .bp3-dark .bp3-popover-target.bp3-popover-open > .bp3-intent-warning.bp3-menu-item, .bp3-dark .bp3-menu-item.bp3-intent-warning.bp3-active{
      background-color:#d9822b; }
    .bp3-dark .bp3-menu-item.bp3-intent-warning:active{
      background-color:#bf7326; }
    .bp3-dark .bp3-menu-item.bp3-intent-warning:hover, .bp3-dark .bp3-submenu .bp3-popover-target.bp3-popover-open > .bp3-intent-warning.bp3-menu-item, .bp3-submenu .bp3-dark .bp3-popover-target.bp3-popover-open > .bp3-intent-warning.bp3-menu-item, .bp3-dark .bp3-menu-item.bp3-intent-warning:hover::before, .bp3-dark .bp3-submenu .bp3-popover-target.bp3-popover-open > .bp3-intent-warning.bp3-menu-item::before, .bp3-submenu .bp3-dark .bp3-popover-target.bp3-popover-open > .bp3-intent-warning.bp3-menu-item::before, .bp3-dark .bp3-menu-item.bp3-intent-warning:hover::after, .bp3-dark .bp3-submenu .bp3-popover-target.bp3-popover-open > .bp3-intent-warning.bp3-menu-item::after, .bp3-submenu .bp3-dark .bp3-popover-target.bp3-popover-open > .bp3-intent-warning.bp3-menu-item::after,
    .bp3-dark .bp3-menu-item.bp3-intent-warning:hover .bp3-menu-item-label,
    .bp3-dark .bp3-submenu .bp3-popover-target.bp3-popover-open > .bp3-intent-warning.bp3-menu-item .bp3-menu-item-label,
    .bp3-submenu .bp3-dark .bp3-popover-target.bp3-popover-open > .bp3-intent-warning.bp3-menu-item .bp3-menu-item-label, .bp3-dark .bp3-menu-item.bp3-intent-warning:active, .bp3-dark .bp3-menu-item.bp3-intent-warning:active::before, .bp3-dark .bp3-menu-item.bp3-intent-warning:active::after,
    .bp3-dark .bp3-menu-item.bp3-intent-warning:active .bp3-menu-item-label, .bp3-dark .bp3-menu-item.bp3-intent-warning.bp3-active, .bp3-dark .bp3-menu-item.bp3-intent-warning.bp3-active::before, .bp3-dark .bp3-menu-item.bp3-intent-warning.bp3-active::after,
    .bp3-dark .bp3-menu-item.bp3-intent-warning.bp3-active .bp3-menu-item-label{
      color:#ffffff; }
  .bp3-dark .bp3-menu-item.bp3-intent-danger{
    color:#ff7373; }
    .bp3-dark .bp3-menu-item.bp3-intent-danger .bp3-icon{
      color:inherit; }
    .bp3-dark .bp3-menu-item.bp3-intent-danger::before, .bp3-dark .bp3-menu-item.bp3-intent-danger::after,
    .bp3-dark .bp3-menu-item.bp3-intent-danger .bp3-menu-item-label{
      color:#ff7373; }
    .bp3-dark .bp3-menu-item.bp3-intent-danger:hover, .bp3-dark .bp3-submenu .bp3-popover-target.bp3-popover-open > .bp3-intent-danger.bp3-menu-item, .bp3-submenu .bp3-dark .bp3-popover-target.bp3-popover-open > .bp3-intent-danger.bp3-menu-item, .bp3-dark .bp3-menu-item.bp3-intent-danger.bp3-active{
      background-color:#db3737; }
    .bp3-dark .bp3-menu-item.bp3-intent-danger:active{
      background-color:#c23030; }
    .bp3-dark .bp3-menu-item.bp3-intent-danger:hover, .bp3-dark .bp3-submenu .bp3-popover-target.bp3-popover-open > .bp3-intent-danger.bp3-menu-item, .bp3-submenu .bp3-dark .bp3-popover-target.bp3-popover-open > .bp3-intent-danger.bp3-menu-item, .bp3-dark .bp3-menu-item.bp3-intent-danger:hover::before, .bp3-dark .bp3-submenu .bp3-popover-target.bp3-popover-open > .bp3-intent-danger.bp3-menu-item::before, .bp3-submenu .bp3-dark .bp3-popover-target.bp3-popover-open > .bp3-intent-danger.bp3-menu-item::before, .bp3-dark .bp3-menu-item.bp3-intent-danger:hover::after, .bp3-dark .bp3-submenu .bp3-popover-target.bp3-popover-open > .bp3-intent-danger.bp3-menu-item::after, .bp3-submenu .bp3-dark .bp3-popover-target.bp3-popover-open > .bp3-intent-danger.bp3-menu-item::after,
    .bp3-dark .bp3-menu-item.bp3-intent-danger:hover .bp3-menu-item-label,
    .bp3-dark .bp3-submenu .bp3-popover-target.bp3-popover-open > .bp3-intent-danger.bp3-menu-item .bp3-menu-item-label,
    .bp3-submenu .bp3-dark .bp3-popover-target.bp3-popover-open > .bp3-intent-danger.bp3-menu-item .bp3-menu-item-label, .bp3-dark .bp3-menu-item.bp3-intent-danger:active, .bp3-dark .bp3-menu-item.bp3-intent-danger:active::before, .bp3-dark .bp3-menu-item.bp3-intent-danger:active::after,
    .bp3-dark .bp3-menu-item.bp3-intent-danger:active .bp3-menu-item-label, .bp3-dark .bp3-menu-item.bp3-intent-danger.bp3-active, .bp3-dark .bp3-menu-item.bp3-intent-danger.bp3-active::before, .bp3-dark .bp3-menu-item.bp3-intent-danger.bp3-active::after,
    .bp3-dark .bp3-menu-item.bp3-intent-danger.bp3-active .bp3-menu-item-label{
      color:#ffffff; }
  .bp3-dark .bp3-menu-item::before,
  .bp3-dark .bp3-menu-item > .bp3-icon{
    color:#a7b6c2; }
  .bp3-dark .bp3-menu-item .bp3-menu-item-label{
    color:#a7b6c2; }
  .bp3-dark .bp3-menu-item.bp3-active, .bp3-dark .bp3-menu-item:active{
    background-color:rgba(138, 155, 168, 0.3); }
  .bp3-dark .bp3-menu-item.bp3-disabled{
    color:rgba(167, 182, 194, 0.6) !important; }
    .bp3-dark .bp3-menu-item.bp3-disabled::before,
    .bp3-dark .bp3-menu-item.bp3-disabled > .bp3-icon,
    .bp3-dark .bp3-menu-item.bp3-disabled .bp3-menu-item-label{
      color:rgba(167, 182, 194, 0.6) !important; }

.bp3-dark .bp3-menu-divider,
.bp3-dark .bp3-menu-header{
  border-color:rgba(255, 255, 255, 0.15); }

.bp3-dark .bp3-menu-header > h6{
  color:#f5f8fa; }

.bp3-label .bp3-menu{
  margin-top:5px; }
.bp3-navbar{
  background-color:#ffffff;
  -webkit-box-shadow:0 0 0 1px rgba(16, 22, 26, 0.1), 0 0 0 rgba(16, 22, 26, 0), 0 1px 1px rgba(16, 22, 26, 0.2);
          box-shadow:0 0 0 1px rgba(16, 22, 26, 0.1), 0 0 0 rgba(16, 22, 26, 0), 0 1px 1px rgba(16, 22, 26, 0.2);
  height:50px;
  padding:0 15px;
  position:relative;
  width:100%;
  z-index:10; }
  .bp3-navbar.bp3-dark,
  .bp3-dark .bp3-navbar{
    background-color:#394b59; }
  .bp3-navbar.bp3-dark{
    -webkit-box-shadow:inset 0 0 0 1px rgba(16, 22, 26, 0.2), 0 0 0 rgba(16, 22, 26, 0), 0 1px 1px rgba(16, 22, 26, 0.4);
            box-shadow:inset 0 0 0 1px rgba(16, 22, 26, 0.2), 0 0 0 rgba(16, 22, 26, 0), 0 1px 1px rgba(16, 22, 26, 0.4); }
  .bp3-dark .bp3-navbar{
    -webkit-box-shadow:0 0 0 1px rgba(16, 22, 26, 0.2), 0 0 0 rgba(16, 22, 26, 0), 0 1px 1px rgba(16, 22, 26, 0.4);
            box-shadow:0 0 0 1px rgba(16, 22, 26, 0.2), 0 0 0 rgba(16, 22, 26, 0), 0 1px 1px rgba(16, 22, 26, 0.4); }
  .bp3-navbar.bp3-fixed-top{
    left:0;
    position:fixed;
    right:0;
    top:0; }

.bp3-navbar-heading{
  font-size:16px;
  margin-right:15px; }

.bp3-navbar-group{
  -webkit-box-align:center;
      -ms-flex-align:center;
          align-items:center;
  display:-webkit-box;
  display:-ms-flexbox;
  display:flex;
  height:50px; }
  .bp3-navbar-group.bp3-align-left{
    float:left; }
  .bp3-navbar-group.bp3-align-right{
    float:right; }

.bp3-navbar-divider{
  border-left:1px solid rgba(16, 22, 26, 0.15);
  height:20px;
  margin:0 10px; }
  .bp3-dark .bp3-navbar-divider{
    border-left-color:rgba(255, 255, 255, 0.15); }
.bp3-non-ideal-state{
  display:-webkit-box;
  display:-ms-flexbox;
  display:flex;
  -webkit-box-orient:vertical;
  -webkit-box-direction:normal;
      -ms-flex-direction:column;
          flex-direction:column;
  -webkit-box-align:center;
      -ms-flex-align:center;
          align-items:center;
  height:100%;
  -webkit-box-pack:center;
      -ms-flex-pack:center;
          justify-content:center;
  text-align:center;
  width:100%; }
  .bp3-non-ideal-state > *{
    -webkit-box-flex:0;
        -ms-flex-positive:0;
            flex-grow:0;
    -ms-flex-negative:0;
        flex-shrink:0; }
  .bp3-non-ideal-state > .bp3-fill{
    -webkit-box-flex:1;
        -ms-flex-positive:1;
            flex-grow:1;
    -ms-flex-negative:1;
        flex-shrink:1; }
  .bp3-non-ideal-state::before,
  .bp3-non-ideal-state > *{
    margin-bottom:20px; }
  .bp3-non-ideal-state:empty::before,
  .bp3-non-ideal-state > :last-child{
    margin-bottom:0; }
  .bp3-non-ideal-state > *{
    max-width:400px; }

.bp3-non-ideal-state-visual{
  color:rgba(92, 112, 128, 0.6);
  font-size:60px; }
  .bp3-dark .bp3-non-ideal-state-visual{
    color:rgba(167, 182, 194, 0.6); }

.bp3-overflow-list{
  display:-webkit-box;
  display:-ms-flexbox;
  display:flex;
  -ms-flex-wrap:nowrap;
      flex-wrap:nowrap;
  min-width:0; }

.bp3-overflow-list-spacer{
  -ms-flex-negative:1;
      flex-shrink:1;
  width:1px; }

body.bp3-overlay-open{
  overflow:hidden; }

.bp3-overlay{
  bottom:0;
  left:0;
  position:static;
  right:0;
  top:0;
  z-index:20; }
  .bp3-overlay:not(.bp3-overlay-open){
    pointer-events:none; }
  .bp3-overlay.bp3-overlay-container{
    overflow:hidden;
    position:fixed; }
    .bp3-overlay.bp3-overlay-container.bp3-overlay-inline{
      position:absolute; }
  .bp3-overlay.bp3-overlay-scroll-container{
    overflow:auto;
    position:fixed; }
    .bp3-overlay.bp3-overlay-scroll-container.bp3-overlay-inline{
      position:absolute; }
  .bp3-overlay.bp3-overlay-inline{
    display:inline;
    overflow:visible; }

.bp3-overlay-content{
  position:fixed;
  z-index:20; }
  .bp3-overlay-inline .bp3-overlay-content,
  .bp3-overlay-scroll-container .bp3-overlay-content{
    position:absolute; }

.bp3-overlay-backdrop{
  bottom:0;
  left:0;
  position:fixed;
  right:0;
  top:0;
  opacity:1;
  background-color:rgba(16, 22, 26, 0.7);
  overflow:auto;
  -webkit-user-select:none;
     -moz-user-select:none;
      -ms-user-select:none;
          user-select:none;
  z-index:20; }
  .bp3-overlay-backdrop.bp3-overlay-enter, .bp3-overlay-backdrop.bp3-overlay-appear{
    opacity:0; }
  .bp3-overlay-backdrop.bp3-overlay-enter-active, .bp3-overlay-backdrop.bp3-overlay-appear-active{
    opacity:1;
    -webkit-transition-delay:0;
            transition-delay:0;
    -webkit-transition-duration:200ms;
            transition-duration:200ms;
    -webkit-transition-property:opacity;
    transition-property:opacity;
    -webkit-transition-timing-function:cubic-bezier(0.4, 1, 0.75, 0.9);
            transition-timing-function:cubic-bezier(0.4, 1, 0.75, 0.9); }
  .bp3-overlay-backdrop.bp3-overlay-exit{
    opacity:1; }
  .bp3-overlay-backdrop.bp3-overlay-exit-active{
    opacity:0;
    -webkit-transition-delay:0;
            transition-delay:0;
    -webkit-transition-duration:200ms;
            transition-duration:200ms;
    -webkit-transition-property:opacity;
    transition-property:opacity;
    -webkit-transition-timing-function:cubic-bezier(0.4, 1, 0.75, 0.9);
            transition-timing-function:cubic-bezier(0.4, 1, 0.75, 0.9); }
  .bp3-overlay-backdrop:focus{
    outline:none; }
  .bp3-overlay-inline .bp3-overlay-backdrop{
    position:absolute; }
.bp3-panel-stack{
  overflow:hidden;
  position:relative; }

.bp3-panel-stack-header{
  -webkit-box-align:center;
      -ms-flex-align:center;
          align-items:center;
  -webkit-box-shadow:0 1px rgba(16, 22, 26, 0.15);
          box-shadow:0 1px rgba(16, 22, 26, 0.15);
  display:-webkit-box;
  display:-ms-flexbox;
  display:flex;
  -ms-flex-negative:0;
      flex-shrink:0;
  height:30px;
  z-index:1; }
  .bp3-dark .bp3-panel-stack-header{
    -webkit-box-shadow:0 1px rgba(255, 255, 255, 0.15);
            box-shadow:0 1px rgba(255, 255, 255, 0.15); }
  .bp3-panel-stack-header > span{
    -webkit-box-align:stretch;
        -ms-flex-align:stretch;
            align-items:stretch;
    display:-webkit-box;
    display:-ms-flexbox;
    display:flex;
    -webkit-box-flex:1;
        -ms-flex:1;
            flex:1; }
  .bp3-panel-stack-header .bp3-heading{
    margin:0 5px; }

.bp3-button.bp3-panel-stack-header-back{
  margin-left:5px;
  padding-left:0;
  white-space:nowrap; }
  .bp3-button.bp3-panel-stack-header-back .bp3-icon{
    margin:0 2px; }

.bp3-panel-stack-view{
  bottom:0;
  left:0;
  position:absolute;
  right:0;
  top:0;
  background-color:#ffffff;
  border-right:1px solid rgba(16, 22, 26, 0.15);
  display:-webkit-box;
  display:-ms-flexbox;
  display:flex;
  -webkit-box-orient:vertical;
  -webkit-box-direction:normal;
      -ms-flex-direction:column;
          flex-direction:column;
  margin-right:-1px;
  overflow-y:auto;
  z-index:1; }
  .bp3-dark .bp3-panel-stack-view{
    background-color:#30404d; }
  .bp3-panel-stack-view:nth-last-child(n + 4){
    display:none; }

.bp3-panel-stack-push .bp3-panel-stack-enter, .bp3-panel-stack-push .bp3-panel-stack-appear{
  -webkit-transform:translateX(100%);
          transform:translateX(100%);
  opacity:0; }

.bp3-panel-stack-push .bp3-panel-stack-enter-active, .bp3-panel-stack-push .bp3-panel-stack-appear-active{
  -webkit-transform:translate(0%);
          transform:translate(0%);
  opacity:1;
  -webkit-transition-delay:0;
          transition-delay:0;
  -webkit-transition-duration:400ms;
          transition-duration:400ms;
  -webkit-transition-property:opacity, -webkit-transform;
  transition-property:opacity, -webkit-transform;
  transition-property:transform, opacity;
  transition-property:transform, opacity, -webkit-transform;
  -webkit-transition-timing-function:ease;
          transition-timing-function:ease; }

.bp3-panel-stack-push .bp3-panel-stack-exit{
  -webkit-transform:translate(0%);
          transform:translate(0%);
  opacity:1; }

.bp3-panel-stack-push .bp3-panel-stack-exit-active{
  -webkit-transform:translateX(-50%);
          transform:translateX(-50%);
  opacity:0;
  -webkit-transition-delay:0;
          transition-delay:0;
  -webkit-transition-duration:400ms;
          transition-duration:400ms;
  -webkit-transition-property:opacity, -webkit-transform;
  transition-property:opacity, -webkit-transform;
  transition-property:transform, opacity;
  transition-property:transform, opacity, -webkit-transform;
  -webkit-transition-timing-function:ease;
          transition-timing-function:ease; }

.bp3-panel-stack-pop .bp3-panel-stack-enter, .bp3-panel-stack-pop .bp3-panel-stack-appear{
  -webkit-transform:translateX(-50%);
          transform:translateX(-50%);
  opacity:0; }

.bp3-panel-stack-pop .bp3-panel-stack-enter-active, .bp3-panel-stack-pop .bp3-panel-stack-appear-active{
  -webkit-transform:translate(0%);
          transform:translate(0%);
  opacity:1;
  -webkit-transition-delay:0;
          transition-delay:0;
  -webkit-transition-duration:400ms;
          transition-duration:400ms;
  -webkit-transition-property:opacity, -webkit-transform;
  transition-property:opacity, -webkit-transform;
  transition-property:transform, opacity;
  transition-property:transform, opacity, -webkit-transform;
  -webkit-transition-timing-function:ease;
          transition-timing-function:ease; }

.bp3-panel-stack-pop .bp3-panel-stack-exit{
  -webkit-transform:translate(0%);
          transform:translate(0%);
  opacity:1; }

.bp3-panel-stack-pop .bp3-panel-stack-exit-active{
  -webkit-transform:translateX(100%);
          transform:translateX(100%);
  opacity:0;
  -webkit-transition-delay:0;
          transition-delay:0;
  -webkit-transition-duration:400ms;
          transition-duration:400ms;
  -webkit-transition-property:opacity, -webkit-transform;
  transition-property:opacity, -webkit-transform;
  transition-property:transform, opacity;
  transition-property:transform, opacity, -webkit-transform;
  -webkit-transition-timing-function:ease;
          transition-timing-function:ease; }
.bp3-popover{
  -webkit-box-shadow:0 0 0 1px rgba(16, 22, 26, 0.1), 0 2px 4px rgba(16, 22, 26, 0.2), 0 8px 24px rgba(16, 22, 26, 0.2);
          box-shadow:0 0 0 1px rgba(16, 22, 26, 0.1), 0 2px 4px rgba(16, 22, 26, 0.2), 0 8px 24px rgba(16, 22, 26, 0.2);
  -webkit-transform:scale(1);
          transform:scale(1);
  border-radius:3px;
  display:inline-block;
  z-index:20; }
  .bp3-popover .bp3-popover-arrow{
    height:30px;
    position:absolute;
    width:30px; }
    .bp3-popover .bp3-popover-arrow::before{
      height:20px;
      margin:5px;
      width:20px; }
  .bp3-tether-element-attached-bottom.bp3-tether-target-attached-top > .bp3-popover{
    margin-bottom:17px;
    margin-top:-17px; }
    .bp3-tether-element-attached-bottom.bp3-tether-target-attached-top > .bp3-popover > .bp3-popover-arrow{
      bottom:-11px; }
      .bp3-tether-element-attached-bottom.bp3-tether-target-attached-top > .bp3-popover > .bp3-popover-arrow svg{
        -webkit-transform:rotate(-90deg);
                transform:rotate(-90deg); }
  .bp3-tether-element-attached-left.bp3-tether-target-attached-right > .bp3-popover{
    margin-left:17px; }
    .bp3-tether-element-attached-left.bp3-tether-target-attached-right > .bp3-popover > .bp3-popover-arrow{
      left:-11px; }
      .bp3-tether-element-attached-left.bp3-tether-target-attached-right > .bp3-popover > .bp3-popover-arrow svg{
        -webkit-transform:rotate(0);
                transform:rotate(0); }
  .bp3-tether-element-attached-top.bp3-tether-target-attached-bottom > .bp3-popover{
    margin-top:17px; }
    .bp3-tether-element-attached-top.bp3-tether-target-attached-bottom > .bp3-popover > .bp3-popover-arrow{
      top:-11px; }
      .bp3-tether-element-attached-top.bp3-tether-target-attached-bottom > .bp3-popover > .bp3-popover-arrow svg{
        -webkit-transform:rotate(90deg);
                transform:rotate(90deg); }
  .bp3-tether-element-attached-right.bp3-tether-target-attached-left > .bp3-popover{
    margin-left:-17px;
    margin-right:17px; }
    .bp3-tether-element-attached-right.bp3-tether-target-attached-left > .bp3-popover > .bp3-popover-arrow{
      right:-11px; }
      .bp3-tether-element-attached-right.bp3-tether-target-attached-left > .bp3-popover > .bp3-popover-arrow svg{
        -webkit-transform:rotate(180deg);
                transform:rotate(180deg); }
  .bp3-tether-element-attached-middle > .bp3-popover > .bp3-popover-arrow{
    top:50%;
    -webkit-transform:translateY(-50%);
            transform:translateY(-50%); }
  .bp3-tether-element-attached-center > .bp3-popover > .bp3-popover-arrow{
    right:50%;
    -webkit-transform:translateX(50%);
            transform:translateX(50%); }
  .bp3-tether-element-attached-top.bp3-tether-target-attached-top > .bp3-popover > .bp3-popover-arrow{
    top:-0.3934px; }
  .bp3-tether-element-attached-right.bp3-tether-target-attached-right > .bp3-popover > .bp3-popover-arrow{
    right:-0.3934px; }
  .bp3-tether-element-attached-left.bp3-tether-target-attached-left > .bp3-popover > .bp3-popover-arrow{
    left:-0.3934px; }
  .bp3-tether-element-attached-bottom.bp3-tether-target-attached-bottom > .bp3-popover > .bp3-popover-arrow{
    bottom:-0.3934px; }
  .bp3-tether-element-attached-top.bp3-tether-element-attached-left > .bp3-popover{
    -webkit-transform-origin:top left;
            transform-origin:top left; }
  .bp3-tether-element-attached-top.bp3-tether-element-attached-center > .bp3-popover{
    -webkit-transform-origin:top center;
            transform-origin:top center; }
  .bp3-tether-element-attached-top.bp3-tether-element-attached-right > .bp3-popover{
    -webkit-transform-origin:top right;
            transform-origin:top right; }
  .bp3-tether-element-attached-middle.bp3-tether-element-attached-left > .bp3-popover{
    -webkit-transform-origin:center left;
            transform-origin:center left; }
  .bp3-tether-element-attached-middle.bp3-tether-element-attached-center > .bp3-popover{
    -webkit-transform-origin:center center;
            transform-origin:center center; }
  .bp3-tether-element-attached-middle.bp3-tether-element-attached-right > .bp3-popover{
    -webkit-transform-origin:center right;
            transform-origin:center right; }
  .bp3-tether-element-attached-bottom.bp3-tether-element-attached-left > .bp3-popover{
    -webkit-transform-origin:bottom left;
            transform-origin:bottom left; }
  .bp3-tether-element-attached-bottom.bp3-tether-element-attached-center > .bp3-popover{
    -webkit-transform-origin:bottom center;
            transform-origin:bottom center; }
  .bp3-tether-element-attached-bottom.bp3-tether-element-attached-right > .bp3-popover{
    -webkit-transform-origin:bottom right;
            transform-origin:bottom right; }
  .bp3-popover .bp3-popover-content{
    background:#ffffff;
    color:inherit; }
  .bp3-popover .bp3-popover-arrow::before{
    -webkit-box-shadow:1px 1px 6px rgba(16, 22, 26, 0.2);
            box-shadow:1px 1px 6px rgba(16, 22, 26, 0.2); }
  .bp3-popover .bp3-popover-arrow-border{
    fill:#10161a;
    fill-opacity:0.1; }
  .bp3-popover .bp3-popover-arrow-fill{
    fill:#ffffff; }
  .bp3-popover-enter > .bp3-popover, .bp3-popover-appear > .bp3-popover{
    -webkit-transform:scale(0.3);
            transform:scale(0.3); }
  .bp3-popover-enter-active > .bp3-popover, .bp3-popover-appear-active > .bp3-popover{
    -webkit-transform:scale(1);
            transform:scale(1);
    -webkit-transition-delay:0;
            transition-delay:0;
    -webkit-transition-duration:300ms;
            transition-duration:300ms;
    -webkit-transition-property:-webkit-transform;
    transition-property:-webkit-transform;
    transition-property:transform;
    transition-property:transform, -webkit-transform;
    -webkit-transition-timing-function:cubic-bezier(0.54, 1.12, 0.38, 1.11);
            transition-timing-function:cubic-bezier(0.54, 1.12, 0.38, 1.11); }
  .bp3-popover-exit > .bp3-popover{
    -webkit-transform:scale(1);
            transform:scale(1); }
  .bp3-popover-exit-active > .bp3-popover{
    -webkit-transform:scale(0.3);
            transform:scale(0.3);
    -webkit-transition-delay:0;
            transition-delay:0;
    -webkit-transition-duration:300ms;
            transition-duration:300ms;
    -webkit-transition-property:-webkit-transform;
    transition-property:-webkit-transform;
    transition-property:transform;
    transition-property:transform, -webkit-transform;
    -webkit-transition-timing-function:cubic-bezier(0.54, 1.12, 0.38, 1.11);
            transition-timing-function:cubic-bezier(0.54, 1.12, 0.38, 1.11); }
  .bp3-popover .bp3-popover-content{
    border-radius:3px;
    position:relative; }
  .bp3-popover.bp3-popover-content-sizing .bp3-popover-content{
    max-width:350px;
    padding:20px; }
  .bp3-popover-target + .bp3-overlay .bp3-popover.bp3-popover-content-sizing{
    width:350px; }
  .bp3-popover.bp3-minimal{
    margin:0 !important; }
    .bp3-popover.bp3-minimal .bp3-popover-arrow{
      display:none; }
    .bp3-popover.bp3-minimal.bp3-popover{
      -webkit-transform:scale(1);
              transform:scale(1); }
      .bp3-popover-enter > .bp3-popover.bp3-minimal.bp3-popover, .bp3-popover-appear > .bp3-popover.bp3-minimal.bp3-popover{
        -webkit-transform:scale(1);
                transform:scale(1); }
      .bp3-popover-enter-active > .bp3-popover.bp3-minimal.bp3-popover, .bp3-popover-appear-active > .bp3-popover.bp3-minimal.bp3-popover{
        -webkit-transform:scale(1);
                transform:scale(1);
        -webkit-transition-delay:0;
                transition-delay:0;
        -webkit-transition-duration:100ms;
                transition-duration:100ms;
        -webkit-transition-property:-webkit-transform;
        transition-property:-webkit-transform;
        transition-property:transform;
        transition-property:transform, -webkit-transform;
        -webkit-transition-timing-function:cubic-bezier(0.4, 1, 0.75, 0.9);
                transition-timing-function:cubic-bezier(0.4, 1, 0.75, 0.9); }
      .bp3-popover-exit > .bp3-popover.bp3-minimal.bp3-popover{
        -webkit-transform:scale(1);
                transform:scale(1); }
      .bp3-popover-exit-active > .bp3-popover.bp3-minimal.bp3-popover{
        -webkit-transform:scale(1);
                transform:scale(1);
        -webkit-transition-delay:0;
                transition-delay:0;
        -webkit-transition-duration:100ms;
                transition-duration:100ms;
        -webkit-transition-property:-webkit-transform;
        transition-property:-webkit-transform;
        transition-property:transform;
        transition-property:transform, -webkit-transform;
        -webkit-transition-timing-function:cubic-bezier(0.4, 1, 0.75, 0.9);
                transition-timing-function:cubic-bezier(0.4, 1, 0.75, 0.9); }
  .bp3-popover.bp3-dark,
  .bp3-dark .bp3-popover{
    -webkit-box-shadow:0 0 0 1px rgba(16, 22, 26, 0.2), 0 2px 4px rgba(16, 22, 26, 0.4), 0 8px 24px rgba(16, 22, 26, 0.4);
            box-shadow:0 0 0 1px rgba(16, 22, 26, 0.2), 0 2px 4px rgba(16, 22, 26, 0.4), 0 8px 24px rgba(16, 22, 26, 0.4); }
    .bp3-popover.bp3-dark .bp3-popover-content,
    .bp3-dark .bp3-popover .bp3-popover-content{
      background:#30404d;
      color:inherit; }
    .bp3-popover.bp3-dark .bp3-popover-arrow::before,
    .bp3-dark .bp3-popover .bp3-popover-arrow::before{
      -webkit-box-shadow:1px 1px 6px rgba(16, 22, 26, 0.4);
              box-shadow:1px 1px 6px rgba(16, 22, 26, 0.4); }
    .bp3-popover.bp3-dark .bp3-popover-arrow-border,
    .bp3-dark .bp3-popover .bp3-popover-arrow-border{
      fill:#10161a;
      fill-opacity:0.2; }
    .bp3-popover.bp3-dark .bp3-popover-arrow-fill,
    .bp3-dark .bp3-popover .bp3-popover-arrow-fill{
      fill:#30404d; }

.bp3-popover-arrow::before{
  border-radius:2px;
  content:"";
  display:block;
  position:absolute;
  -webkit-transform:rotate(45deg);
          transform:rotate(45deg); }

.bp3-tether-pinned .bp3-popover-arrow{
  display:none; }

.bp3-popover-backdrop{
  background:rgba(255, 255, 255, 0); }

.bp3-transition-container{
  opacity:1;
  display:-webkit-box;
  display:-ms-flexbox;
  display:flex;
  z-index:20; }
  .bp3-transition-container.bp3-popover-enter, .bp3-transition-container.bp3-popover-appear{
    opacity:0; }
  .bp3-transition-container.bp3-popover-enter-active, .bp3-transition-container.bp3-popover-appear-active{
    opacity:1;
    -webkit-transition-delay:0;
            transition-delay:0;
    -webkit-transition-duration:100ms;
            transition-duration:100ms;
    -webkit-transition-property:opacity;
    transition-property:opacity;
    -webkit-transition-timing-function:cubic-bezier(0.4, 1, 0.75, 0.9);
            transition-timing-function:cubic-bezier(0.4, 1, 0.75, 0.9); }
  .bp3-transition-container.bp3-popover-exit{
    opacity:1; }
  .bp3-transition-container.bp3-popover-exit-active{
    opacity:0;
    -webkit-transition-delay:0;
            transition-delay:0;
    -webkit-transition-duration:100ms;
            transition-duration:100ms;
    -webkit-transition-property:opacity;
    transition-property:opacity;
    -webkit-transition-timing-function:cubic-bezier(0.4, 1, 0.75, 0.9);
            transition-timing-function:cubic-bezier(0.4, 1, 0.75, 0.9); }
  .bp3-transition-container:focus{
    outline:none; }
  .bp3-transition-container.bp3-popover-leave .bp3-popover-content{
    pointer-events:none; }
  .bp3-transition-container[data-x-out-of-boundaries]{
    display:none; }

span.bp3-popover-target{
  display:inline-block; }

.bp3-popover-wrapper.bp3-fill{
  width:100%; }

.bp3-portal{
  left:0;
  position:absolute;
  right:0;
  top:0; }
@-webkit-keyframes linear-progress-bar-stripes{
  from{
    background-position:0 0; }
  to{
    background-position:30px 0; } }
@keyframes linear-progress-bar-stripes{
  from{
    background-position:0 0; }
  to{
    background-position:30px 0; } }

.bp3-progress-bar{
  background:rgba(92, 112, 128, 0.2);
  border-radius:40px;
  display:block;
  height:8px;
  overflow:hidden;
  position:relative;
  width:100%; }
  .bp3-progress-bar .bp3-progress-meter{
    background:linear-gradient(-45deg, rgba(255, 255, 255, 0.2) 25%, transparent 25%, transparent 50%, rgba(255, 255, 255, 0.2) 50%, rgba(255, 255, 255, 0.2) 75%, transparent 75%);
    background-color:rgba(92, 112, 128, 0.8);
    background-size:30px 30px;
    border-radius:40px;
    height:100%;
    position:absolute;
    -webkit-transition:width 200ms cubic-bezier(0.4, 1, 0.75, 0.9);
    transition:width 200ms cubic-bezier(0.4, 1, 0.75, 0.9);
    width:100%; }
  .bp3-progress-bar:not(.bp3-no-animation):not(.bp3-no-stripes) .bp3-progress-meter{
    animation:linear-progress-bar-stripes 300ms linear infinite reverse; }
  .bp3-progress-bar.bp3-no-stripes .bp3-progress-meter{
    background-image:none; }

.bp3-dark .bp3-progress-bar{
  background:rgba(16, 22, 26, 0.5); }
  .bp3-dark .bp3-progress-bar .bp3-progress-meter{
    background-color:#8a9ba8; }

.bp3-progress-bar.bp3-intent-primary .bp3-progress-meter{
  background-color:#137cbd; }

.bp3-progress-bar.bp3-intent-success .bp3-progress-meter{
  background-color:#0f9960; }

.bp3-progress-bar.bp3-intent-warning .bp3-progress-meter{
  background-color:#d9822b; }

.bp3-progress-bar.bp3-intent-danger .bp3-progress-meter{
  background-color:#db3737; }
@-webkit-keyframes skeleton-glow{
  from{
    background:rgba(206, 217, 224, 0.2);
    border-color:rgba(206, 217, 224, 0.2); }
  to{
    background:rgba(92, 112, 128, 0.2);
    border-color:rgba(92, 112, 128, 0.2); } }
@keyframes skeleton-glow{
  from{
    background:rgba(206, 217, 224, 0.2);
    border-color:rgba(206, 217, 224, 0.2); }
  to{
    background:rgba(92, 112, 128, 0.2);
    border-color:rgba(92, 112, 128, 0.2); } }
.bp3-skeleton{
  -webkit-animation:1000ms linear infinite alternate skeleton-glow;
          animation:1000ms linear infinite alternate skeleton-glow;
  background:rgba(206, 217, 224, 0.2);
  background-clip:padding-box !important;
  border-color:rgba(206, 217, 224, 0.2) !important;
  border-radius:2px;
  -webkit-box-shadow:none !important;
          box-shadow:none !important;
  color:transparent !important;
  cursor:default;
  pointer-events:none;
  -webkit-user-select:none;
     -moz-user-select:none;
      -ms-user-select:none;
          user-select:none; }
  .bp3-skeleton::before, .bp3-skeleton::after,
  .bp3-skeleton *{
    visibility:hidden !important; }
.bp3-slider{
  height:40px;
  min-width:150px;
  width:100%;
  cursor:default;
  outline:none;
  position:relative;
  -webkit-user-select:none;
     -moz-user-select:none;
      -ms-user-select:none;
          user-select:none; }
  .bp3-slider:hover{
    cursor:pointer; }
  .bp3-slider:active{
    cursor:-webkit-grabbing;
    cursor:grabbing; }
  .bp3-slider.bp3-disabled{
    cursor:not-allowed;
    opacity:0.5; }
  .bp3-slider.bp3-slider-unlabeled{
    height:16px; }

.bp3-slider-track,
.bp3-slider-progress{
  height:6px;
  left:0;
  right:0;
  top:5px;
  position:absolute; }

.bp3-slider-track{
  border-radius:3px;
  overflow:hidden; }

.bp3-slider-progress{
  background:rgba(92, 112, 128, 0.2); }
  .bp3-dark .bp3-slider-progress{
    background:rgba(16, 22, 26, 0.5); }
  .bp3-slider-progress.bp3-intent-primary{
    background-color:#137cbd; }
  .bp3-slider-progress.bp3-intent-success{
    background-color:#0f9960; }
  .bp3-slider-progress.bp3-intent-warning{
    background-color:#d9822b; }
  .bp3-slider-progress.bp3-intent-danger{
    background-color:#db3737; }

.bp3-slider-handle{
  background-color:#f5f8fa;
  background-image:-webkit-gradient(linear, left top, left bottom, from(rgba(255, 255, 255, 0.8)), to(rgba(255, 255, 255, 0)));
  background-image:linear-gradient(to bottom, rgba(255, 255, 255, 0.8), rgba(255, 255, 255, 0));
  -webkit-box-shadow:inset 0 0 0 1px rgba(16, 22, 26, 0.2), inset 0 -1px 0 rgba(16, 22, 26, 0.1);
          box-shadow:inset 0 0 0 1px rgba(16, 22, 26, 0.2), inset 0 -1px 0 rgba(16, 22, 26, 0.1);
  color:#182026;
  border-radius:3px;
  -webkit-box-shadow:0 0 0 1px rgba(16, 22, 26, 0.2), 0 1px 1px rgba(16, 22, 26, 0.2);
          box-shadow:0 0 0 1px rgba(16, 22, 26, 0.2), 0 1px 1px rgba(16, 22, 26, 0.2);
  cursor:pointer;
  height:16px;
  left:0;
  position:absolute;
  top:0;
  width:16px; }
  .bp3-slider-handle:hover{
    background-clip:padding-box;
    background-color:#ebf1f5;
    -webkit-box-shadow:inset 0 0 0 1px rgba(16, 22, 26, 0.2), inset 0 -1px 0 rgba(16, 22, 26, 0.1);
            box-shadow:inset 0 0 0 1px rgba(16, 22, 26, 0.2), inset 0 -1px 0 rgba(16, 22, 26, 0.1); }
  .bp3-slider-handle:active, .bp3-slider-handle.bp3-active{
    background-color:#d8e1e8;
    background-image:none;
    -webkit-box-shadow:inset 0 0 0 1px rgba(16, 22, 26, 0.2), inset 0 1px 2px rgba(16, 22, 26, 0.2);
            box-shadow:inset 0 0 0 1px rgba(16, 22, 26, 0.2), inset 0 1px 2px rgba(16, 22, 26, 0.2); }
  .bp3-slider-handle:disabled, .bp3-slider-handle.bp3-disabled{
    background-color:rgba(206, 217, 224, 0.5);
    background-image:none;
    -webkit-box-shadow:none;
            box-shadow:none;
    color:rgba(92, 112, 128, 0.6);
    cursor:not-allowed;
    outline:none; }
    .bp3-slider-handle:disabled.bp3-active, .bp3-slider-handle:disabled.bp3-active:hover, .bp3-slider-handle.bp3-disabled.bp3-active, .bp3-slider-handle.bp3-disabled.bp3-active:hover{
      background:rgba(206, 217, 224, 0.7); }
  .bp3-slider-handle:focus{
    z-index:1; }
  .bp3-slider-handle:hover{
    background-clip:padding-box;
    background-color:#ebf1f5;
    -webkit-box-shadow:inset 0 0 0 1px rgba(16, 22, 26, 0.2), inset 0 -1px 0 rgba(16, 22, 26, 0.1);
            box-shadow:inset 0 0 0 1px rgba(16, 22, 26, 0.2), inset 0 -1px 0 rgba(16, 22, 26, 0.1);
    -webkit-box-shadow:0 0 0 1px rgba(16, 22, 26, 0.2), 0 1px 1px rgba(16, 22, 26, 0.2);
            box-shadow:0 0 0 1px rgba(16, 22, 26, 0.2), 0 1px 1px rgba(16, 22, 26, 0.2);
    cursor:-webkit-grab;
    cursor:grab;
    z-index:2; }
  .bp3-slider-handle.bp3-active{
    background-color:#d8e1e8;
    background-image:none;
    -webkit-box-shadow:inset 0 0 0 1px rgba(16, 22, 26, 0.2), inset 0 1px 2px rgba(16, 22, 26, 0.2);
            box-shadow:inset 0 0 0 1px rgba(16, 22, 26, 0.2), inset 0 1px 2px rgba(16, 22, 26, 0.2);
    -webkit-box-shadow:0 0 0 1px rgba(16, 22, 26, 0.2), inset 0 1px 1px rgba(16, 22, 26, 0.1);
            box-shadow:0 0 0 1px rgba(16, 22, 26, 0.2), inset 0 1px 1px rgba(16, 22, 26, 0.1);
    cursor:-webkit-grabbing;
    cursor:grabbing; }
  .bp3-disabled .bp3-slider-handle{
    background:#bfccd6;
    -webkit-box-shadow:none;
            box-shadow:none;
    pointer-events:none; }
  .bp3-dark .bp3-slider-handle{
    background-color:#394b59;
    background-image:-webkit-gradient(linear, left top, left bottom, from(rgba(255, 255, 255, 0.05)), to(rgba(255, 255, 255, 0)));
    background-image:linear-gradient(to bottom, rgba(255, 255, 255, 0.05), rgba(255, 255, 255, 0));
    -webkit-box-shadow:0 0 0 1px rgba(16, 22, 26, 0.4);
            box-shadow:0 0 0 1px rgba(16, 22, 26, 0.4);
    color:#f5f8fa; }
    .bp3-dark .bp3-slider-handle:hover, .bp3-dark .bp3-slider-handle:active, .bp3-dark .bp3-slider-handle.bp3-active{
      color:#f5f8fa; }
    .bp3-dark .bp3-slider-handle:hover{
      background-color:#30404d;
      -webkit-box-shadow:0 0 0 1px rgba(16, 22, 26, 0.4);
              box-shadow:0 0 0 1px rgba(16, 22, 26, 0.4); }
    .bp3-dark .bp3-slider-handle:active, .bp3-dark .bp3-slider-handle.bp3-active{
      background-color:#202b33;
      background-image:none;
      -webkit-box-shadow:0 0 0 1px rgba(16, 22, 26, 0.6), inset 0 1px 2px rgba(16, 22, 26, 0.2);
              box-shadow:0 0 0 1px rgba(16, 22, 26, 0.6), inset 0 1px 2px rgba(16, 22, 26, 0.2); }
    .bp3-dark .bp3-slider-handle:disabled, .bp3-dark .bp3-slider-handle.bp3-disabled{
      background-color:rgba(57, 75, 89, 0.5);
      background-image:none;
      -webkit-box-shadow:none;
              box-shadow:none;
      color:rgba(167, 182, 194, 0.6); }
      .bp3-dark .bp3-slider-handle:disabled.bp3-active, .bp3-dark .bp3-slider-handle.bp3-disabled.bp3-active{
        background:rgba(57, 75, 89, 0.7); }
    .bp3-dark .bp3-slider-handle .bp3-button-spinner .bp3-spinner-head{
      background:rgba(16, 22, 26, 0.5);
      stroke:#8a9ba8; }
    .bp3-dark .bp3-slider-handle, .bp3-dark .bp3-slider-handle:hover{
      background-color:#394b59; }
    .bp3-dark .bp3-slider-handle.bp3-active{
      background-color:#293742; }
  .bp3-dark .bp3-disabled .bp3-slider-handle{
    background:#5c7080;
    border-color:#5c7080;
    -webkit-box-shadow:none;
            box-shadow:none; }
  .bp3-slider-handle .bp3-slider-label{
    background:#394b59;
    border-radius:3px;
    -webkit-box-shadow:0 0 0 1px rgba(16, 22, 26, 0.1), 0 2px 4px rgba(16, 22, 26, 0.2), 0 8px 24px rgba(16, 22, 26, 0.2);
            box-shadow:0 0 0 1px rgba(16, 22, 26, 0.1), 0 2px 4px rgba(16, 22, 26, 0.2), 0 8px 24px rgba(16, 22, 26, 0.2);
    color:#f5f8fa;
    margin-left:8px; }
    .bp3-dark .bp3-slider-handle .bp3-slider-label{
      background:#e1e8ed;
      -webkit-box-shadow:0 0 0 1px rgba(16, 22, 26, 0.2), 0 2px 4px rgba(16, 22, 26, 0.4), 0 8px 24px rgba(16, 22, 26, 0.4);
              box-shadow:0 0 0 1px rgba(16, 22, 26, 0.2), 0 2px 4px rgba(16, 22, 26, 0.4), 0 8px 24px rgba(16, 22, 26, 0.4);
      color:#394b59; }
    .bp3-disabled .bp3-slider-handle .bp3-slider-label{
      -webkit-box-shadow:none;
              box-shadow:none; }
  .bp3-slider-handle.bp3-start, .bp3-slider-handle.bp3-end{
    width:8px; }
  .bp3-slider-handle.bp3-start{
    border-bottom-right-radius:0;
    border-top-right-radius:0; }
  .bp3-slider-handle.bp3-end{
    border-bottom-left-radius:0;
    border-top-left-radius:0;
    margin-left:8px; }
    .bp3-slider-handle.bp3-end .bp3-slider-label{
      margin-left:0; }

.bp3-slider-label{
  -webkit-transform:translate(-50%, 20px);
          transform:translate(-50%, 20px);
  display:inline-block;
  font-size:12px;
  line-height:1;
  padding:2px 5px;
  position:absolute;
  vertical-align:top; }

.bp3-slider.bp3-vertical{
  height:150px;
  min-width:40px;
  width:40px; }
  .bp3-slider.bp3-vertical .bp3-slider-track,
  .bp3-slider.bp3-vertical .bp3-slider-progress{
    bottom:0;
    height:auto;
    left:5px;
    top:0;
    width:6px; }
  .bp3-slider.bp3-vertical .bp3-slider-progress{
    top:auto; }
  .bp3-slider.bp3-vertical .bp3-slider-label{
    -webkit-transform:translate(20px, 50%);
            transform:translate(20px, 50%); }
  .bp3-slider.bp3-vertical .bp3-slider-handle{
    top:auto; }
    .bp3-slider.bp3-vertical .bp3-slider-handle .bp3-slider-label{
      margin-left:0;
      margin-top:-8px; }
    .bp3-slider.bp3-vertical .bp3-slider-handle.bp3-end, .bp3-slider.bp3-vertical .bp3-slider-handle.bp3-start{
      height:8px;
      margin-left:0;
      width:16px; }
    .bp3-slider.bp3-vertical .bp3-slider-handle.bp3-start{
      border-bottom-right-radius:3px;
      border-top-left-radius:0; }
      .bp3-slider.bp3-vertical .bp3-slider-handle.bp3-start .bp3-slider-label{
        -webkit-transform:translate(20px);
                transform:translate(20px); }
    .bp3-slider.bp3-vertical .bp3-slider-handle.bp3-end{
      border-bottom-left-radius:0;
      border-bottom-right-radius:0;
      border-top-left-radius:3px;
      margin-bottom:8px; }

@-webkit-keyframes pt-spinner-animation{
  from{
    -webkit-transform:rotate(0deg);
            transform:rotate(0deg); }
  to{
    -webkit-transform:rotate(360deg);
            transform:rotate(360deg); } }

@keyframes pt-spinner-animation{
  from{
    -webkit-transform:rotate(0deg);
            transform:rotate(0deg); }
  to{
    -webkit-transform:rotate(360deg);
            transform:rotate(360deg); } }

.bp3-spinner{
  -webkit-box-align:center;
      -ms-flex-align:center;
          align-items:center;
  display:-webkit-box;
  display:-ms-flexbox;
  display:flex;
  -webkit-box-pack:center;
      -ms-flex-pack:center;
          justify-content:center;
  overflow:visible;
  vertical-align:middle; }
  .bp3-spinner svg{
    display:block; }
  .bp3-spinner path{
    fill-opacity:0; }
  .bp3-spinner .bp3-spinner-head{
    stroke:rgba(92, 112, 128, 0.8);
    stroke-linecap:round;
    -webkit-transform-origin:center;
            transform-origin:center;
    -webkit-transition:stroke-dashoffset 200ms cubic-bezier(0.4, 1, 0.75, 0.9);
    transition:stroke-dashoffset 200ms cubic-bezier(0.4, 1, 0.75, 0.9); }
  .bp3-spinner .bp3-spinner-track{
    stroke:rgba(92, 112, 128, 0.2); }

.bp3-spinner-animation{
  -webkit-animation:pt-spinner-animation 500ms linear infinite;
          animation:pt-spinner-animation 500ms linear infinite; }
  .bp3-no-spin > .bp3-spinner-animation{
    -webkit-animation:none;
            animation:none; }

.bp3-dark .bp3-spinner .bp3-spinner-head{
  stroke:#8a9ba8; }

.bp3-dark .bp3-spinner .bp3-spinner-track{
  stroke:rgba(16, 22, 26, 0.5); }

.bp3-spinner.bp3-intent-primary .bp3-spinner-head{
  stroke:#137cbd; }

.bp3-spinner.bp3-intent-success .bp3-spinner-head{
  stroke:#0f9960; }

.bp3-spinner.bp3-intent-warning .bp3-spinner-head{
  stroke:#d9822b; }

.bp3-spinner.bp3-intent-danger .bp3-spinner-head{
  stroke:#db3737; }
.bp3-tabs.bp3-vertical{
  display:-webkit-box;
  display:-ms-flexbox;
  display:flex; }
  .bp3-tabs.bp3-vertical > .bp3-tab-list{
    -webkit-box-align:start;
        -ms-flex-align:start;
            align-items:flex-start;
    -webkit-box-orient:vertical;
    -webkit-box-direction:normal;
        -ms-flex-direction:column;
            flex-direction:column; }
    .bp3-tabs.bp3-vertical > .bp3-tab-list .bp3-tab{
      border-radius:3px;
      padding:0 10px;
      width:100%; }
      .bp3-tabs.bp3-vertical > .bp3-tab-list .bp3-tab[aria-selected="true"]{
        background-color:rgba(19, 124, 189, 0.2);
        -webkit-box-shadow:none;
                box-shadow:none; }
    .bp3-tabs.bp3-vertical > .bp3-tab-list .bp3-tab-indicator-wrapper .bp3-tab-indicator{
      background-color:rgba(19, 124, 189, 0.2);
      border-radius:3px;
      bottom:0;
      height:auto;
      left:0;
      right:0;
      top:0; }
  .bp3-tabs.bp3-vertical > .bp3-tab-panel{
    margin-top:0;
    padding-left:20px; }

.bp3-tab-list{
  -webkit-box-align:end;
      -ms-flex-align:end;
          align-items:flex-end;
  border:none;
  display:-webkit-box;
  display:-ms-flexbox;
  display:flex;
  -webkit-box-flex:0;
      -ms-flex:0 0 auto;
          flex:0 0 auto;
  list-style:none;
  margin:0;
  padding:0;
  position:relative; }
  .bp3-tab-list > *:not(:last-child){
    margin-right:20px; }

.bp3-tab{
  overflow:hidden;
  text-overflow:ellipsis;
  white-space:nowrap;
  word-wrap:normal;
  color:#182026;
  cursor:pointer;
  -webkit-box-flex:0;
      -ms-flex:0 0 auto;
          flex:0 0 auto;
  font-size:14px;
  line-height:30px;
  max-width:100%;
  position:relative;
  vertical-align:top; }
  .bp3-tab a{
    color:inherit;
    display:block;
    text-decoration:none; }
  .bp3-tab-indicator-wrapper ~ .bp3-tab{
    background-color:transparent !important;
    -webkit-box-shadow:none !important;
            box-shadow:none !important; }
  .bp3-tab[aria-disabled="true"]{
    color:rgba(92, 112, 128, 0.6);
    cursor:not-allowed; }
  .bp3-tab[aria-selected="true"]{
    border-radius:0;
    -webkit-box-shadow:inset 0 -3px 0 #106ba3;
            box-shadow:inset 0 -3px 0 #106ba3; }
  .bp3-tab[aria-selected="true"], .bp3-tab:not([aria-disabled="true"]):hover{
    color:#106ba3; }
  .bp3-tab:focus{
    -moz-outline-radius:0; }
  .bp3-large > .bp3-tab{
    font-size:16px;
    line-height:40px; }

.bp3-tab-panel{
  margin-top:20px; }
  .bp3-tab-panel[aria-hidden="true"]{
    display:none; }

.bp3-tab-indicator-wrapper{
  left:0;
  pointer-events:none;
  position:absolute;
  top:0;
  -webkit-transform:translateX(0), translateY(0);
          transform:translateX(0), translateY(0);
  -webkit-transition:height, width, -webkit-transform;
  transition:height, width, -webkit-transform;
  transition:height, transform, width;
  transition:height, transform, width, -webkit-transform;
  -webkit-transition-duration:200ms;
          transition-duration:200ms;
  -webkit-transition-timing-function:cubic-bezier(0.4, 1, 0.75, 0.9);
          transition-timing-function:cubic-bezier(0.4, 1, 0.75, 0.9); }
  .bp3-tab-indicator-wrapper .bp3-tab-indicator{
    background-color:#106ba3;
    bottom:0;
    height:3px;
    left:0;
    position:absolute;
    right:0; }
  .bp3-tab-indicator-wrapper.bp3-no-animation{
    -webkit-transition:none;
    transition:none; }

.bp3-dark .bp3-tab{
  color:#f5f8fa; }
  .bp3-dark .bp3-tab[aria-disabled="true"]{
    color:rgba(167, 182, 194, 0.6); }
  .bp3-dark .bp3-tab[aria-selected="true"]{
    -webkit-box-shadow:inset 0 -3px 0 #48aff0;
            box-shadow:inset 0 -3px 0 #48aff0; }
  .bp3-dark .bp3-tab[aria-selected="true"], .bp3-dark .bp3-tab:not([aria-disabled="true"]):hover{
    color:#48aff0; }

.bp3-dark .bp3-tab-indicator{
  background-color:#48aff0; }

.bp3-flex-expander{
  -webkit-box-flex:1;
      -ms-flex:1 1;
          flex:1 1; }
.bp3-tag{
  display:-webkit-inline-box;
  display:-ms-inline-flexbox;
  display:inline-flex;
  -webkit-box-orient:horizontal;
  -webkit-box-direction:normal;
      -ms-flex-direction:row;
          flex-direction:row;
  -webkit-box-align:center;
      -ms-flex-align:center;
          align-items:center;
  background-color:#5c7080;
  border:none;
  border-radius:3px;
  -webkit-box-shadow:none;
          box-shadow:none;
  color:#f5f8fa;
  font-size:12px;
  line-height:16px;
  max-width:100%;
  min-height:20px;
  min-width:20px;
  padding:2px 6px;
  position:relative; }
  .bp3-tag.bp3-interactive{
    cursor:pointer; }
    .bp3-tag.bp3-interactive:hover{
      background-color:rgba(92, 112, 128, 0.85); }
    .bp3-tag.bp3-interactive.bp3-active, .bp3-tag.bp3-interactive:active{
      background-color:rgba(92, 112, 128, 0.7); }
  .bp3-tag > *{
    -webkit-box-flex:0;
        -ms-flex-positive:0;
            flex-grow:0;
    -ms-flex-negative:0;
        flex-shrink:0; }
  .bp3-tag > .bp3-fill{
    -webkit-box-flex:1;
        -ms-flex-positive:1;
            flex-grow:1;
    -ms-flex-negative:1;
        flex-shrink:1; }
  .bp3-tag::before,
  .bp3-tag > *{
    margin-right:4px; }
  .bp3-tag:empty::before,
  .bp3-tag > :last-child{
    margin-right:0; }
  .bp3-tag:focus{
    outline:rgba(19, 124, 189, 0.6) auto 2px;
    outline-offset:0;
    -moz-outline-radius:6px; }
  .bp3-tag.bp3-round{
    border-radius:30px;
    padding-left:8px;
    padding-right:8px; }
  .bp3-dark .bp3-tag{
    background-color:#bfccd6;
    color:#182026; }
    .bp3-dark .bp3-tag.bp3-interactive{
      cursor:pointer; }
      .bp3-dark .bp3-tag.bp3-interactive:hover{
        background-color:rgba(191, 204, 214, 0.85); }
      .bp3-dark .bp3-tag.bp3-interactive.bp3-active, .bp3-dark .bp3-tag.bp3-interactive:active{
        background-color:rgba(191, 204, 214, 0.7); }
    .bp3-dark .bp3-tag > .bp3-icon, .bp3-dark .bp3-tag .bp3-icon-standard, .bp3-dark .bp3-tag .bp3-icon-large{
      fill:currentColor; }
  .bp3-tag > .bp3-icon, .bp3-tag .bp3-icon-standard, .bp3-tag .bp3-icon-large{
    fill:#ffffff; }
  .bp3-tag.bp3-large,
  .bp3-large .bp3-tag{
    font-size:14px;
    line-height:20px;
    min-height:30px;
    min-width:30px;
    padding:5px 10px; }
    .bp3-tag.bp3-large::before,
    .bp3-tag.bp3-large > *,
    .bp3-large .bp3-tag::before,
    .bp3-large .bp3-tag > *{
      margin-right:7px; }
    .bp3-tag.bp3-large:empty::before,
    .bp3-tag.bp3-large > :last-child,
    .bp3-large .bp3-tag:empty::before,
    .bp3-large .bp3-tag > :last-child{
      margin-right:0; }
    .bp3-tag.bp3-large.bp3-round,
    .bp3-large .bp3-tag.bp3-round{
      padding-left:12px;
      padding-right:12px; }
  .bp3-tag.bp3-intent-primary{
    background:#137cbd;
    color:#ffffff; }
    .bp3-tag.bp3-intent-primary.bp3-interactive{
      cursor:pointer; }
      .bp3-tag.bp3-intent-primary.bp3-interactive:hover{
        background-color:rgba(19, 124, 189, 0.85); }
      .bp3-tag.bp3-intent-primary.bp3-interactive.bp3-active, .bp3-tag.bp3-intent-primary.bp3-interactive:active{
        background-color:rgba(19, 124, 189, 0.7); }
  .bp3-tag.bp3-intent-success{
    background:#0f9960;
    color:#ffffff; }
    .bp3-tag.bp3-intent-success.bp3-interactive{
      cursor:pointer; }
      .bp3-tag.bp3-intent-success.bp3-interactive:hover{
        background-color:rgba(15, 153, 96, 0.85); }
      .bp3-tag.bp3-intent-success.bp3-interactive.bp3-active, .bp3-tag.bp3-intent-success.bp3-interactive:active{
        background-color:rgba(15, 153, 96, 0.7); }
  .bp3-tag.bp3-intent-warning{
    background:#d9822b;
    color:#ffffff; }
    .bp3-tag.bp3-intent-warning.bp3-interactive{
      cursor:pointer; }
      .bp3-tag.bp3-intent-warning.bp3-interactive:hover{
        background-color:rgba(217, 130, 43, 0.85); }
      .bp3-tag.bp3-intent-warning.bp3-interactive.bp3-active, .bp3-tag.bp3-intent-warning.bp3-interactive:active{
        background-color:rgba(217, 130, 43, 0.7); }
  .bp3-tag.bp3-intent-danger{
    background:#db3737;
    color:#ffffff; }
    .bp3-tag.bp3-intent-danger.bp3-interactive{
      cursor:pointer; }
      .bp3-tag.bp3-intent-danger.bp3-interactive:hover{
        background-color:rgba(219, 55, 55, 0.85); }
      .bp3-tag.bp3-intent-danger.bp3-interactive.bp3-active, .bp3-tag.bp3-intent-danger.bp3-interactive:active{
        background-color:rgba(219, 55, 55, 0.7); }
  .bp3-tag.bp3-fill{
    display:-webkit-box;
    display:-ms-flexbox;
    display:flex;
    width:100%; }
  .bp3-tag.bp3-minimal > .bp3-icon, .bp3-tag.bp3-minimal .bp3-icon-standard, .bp3-tag.bp3-minimal .bp3-icon-large{
    fill:#5c7080; }
  .bp3-tag.bp3-minimal:not([class*="bp3-intent-"]){
    background-color:rgba(138, 155, 168, 0.2);
    color:#182026; }
    .bp3-tag.bp3-minimal:not([class*="bp3-intent-"]).bp3-interactive{
      cursor:pointer; }
      .bp3-tag.bp3-minimal:not([class*="bp3-intent-"]).bp3-interactive:hover{
        background-color:rgba(92, 112, 128, 0.3); }
      .bp3-tag.bp3-minimal:not([class*="bp3-intent-"]).bp3-interactive.bp3-active, .bp3-tag.bp3-minimal:not([class*="bp3-intent-"]).bp3-interactive:active{
        background-color:rgba(92, 112, 128, 0.4); }
    .bp3-dark .bp3-tag.bp3-minimal:not([class*="bp3-intent-"]){
      color:#f5f8fa; }
      .bp3-dark .bp3-tag.bp3-minimal:not([class*="bp3-intent-"]).bp3-interactive{
        cursor:pointer; }
        .bp3-dark .bp3-tag.bp3-minimal:not([class*="bp3-intent-"]).bp3-interactive:hover{
          background-color:rgba(191, 204, 214, 0.3); }
        .bp3-dark .bp3-tag.bp3-minimal:not([class*="bp3-intent-"]).bp3-interactive.bp3-active, .bp3-dark .bp3-tag.bp3-minimal:not([class*="bp3-intent-"]).bp3-interactive:active{
          background-color:rgba(191, 204, 214, 0.4); }
      .bp3-dark .bp3-tag.bp3-minimal:not([class*="bp3-intent-"]) > .bp3-icon, .bp3-dark .bp3-tag.bp3-minimal:not([class*="bp3-intent-"]) .bp3-icon-standard, .bp3-dark .bp3-tag.bp3-minimal:not([class*="bp3-intent-"]) .bp3-icon-large{
        fill:#a7b6c2; }
  .bp3-tag.bp3-minimal.bp3-intent-primary{
    background-color:rgba(19, 124, 189, 0.15);
    color:#106ba3; }
    .bp3-tag.bp3-minimal.bp3-intent-primary.bp3-interactive{
      cursor:pointer; }
      .bp3-tag.bp3-minimal.bp3-intent-primary.bp3-interactive:hover{
        background-color:rgba(19, 124, 189, 0.25); }
      .bp3-tag.bp3-minimal.bp3-intent-primary.bp3-interactive.bp3-active, .bp3-tag.bp3-minimal.bp3-intent-primary.bp3-interactive:active{
        background-color:rgba(19, 124, 189, 0.35); }
    .bp3-tag.bp3-minimal.bp3-intent-primary > .bp3-icon, .bp3-tag.bp3-minimal.bp3-intent-primary .bp3-icon-standard, .bp3-tag.bp3-minimal.bp3-intent-primary .bp3-icon-large{
      fill:#137cbd; }
    .bp3-dark .bp3-tag.bp3-minimal.bp3-intent-primary{
      background-color:rgba(19, 124, 189, 0.25);
      color:#48aff0; }
      .bp3-dark .bp3-tag.bp3-minimal.bp3-intent-primary.bp3-interactive{
        cursor:pointer; }
        .bp3-dark .bp3-tag.bp3-minimal.bp3-intent-primary.bp3-interactive:hover{
          background-color:rgba(19, 124, 189, 0.35); }
        .bp3-dark .bp3-tag.bp3-minimal.bp3-intent-primary.bp3-interactive.bp3-active, .bp3-dark .bp3-tag.bp3-minimal.bp3-intent-primary.bp3-interactive:active{
          background-color:rgba(19, 124, 189, 0.45); }
  .bp3-tag.bp3-minimal.bp3-intent-success{
    background-color:rgba(15, 153, 96, 0.15);
    color:#0d8050; }
    .bp3-tag.bp3-minimal.bp3-intent-success.bp3-interactive{
      cursor:pointer; }
      .bp3-tag.bp3-minimal.bp3-intent-success.bp3-interactive:hover{
        background-color:rgba(15, 153, 96, 0.25); }
      .bp3-tag.bp3-minimal.bp3-intent-success.bp3-interactive.bp3-active, .bp3-tag.bp3-minimal.bp3-intent-success.bp3-interactive:active{
        background-color:rgba(15, 153, 96, 0.35); }
    .bp3-tag.bp3-minimal.bp3-intent-success > .bp3-icon, .bp3-tag.bp3-minimal.bp3-intent-success .bp3-icon-standard, .bp3-tag.bp3-minimal.bp3-intent-success .bp3-icon-large{
      fill:#0f9960; }
    .bp3-dark .bp3-tag.bp3-minimal.bp3-intent-success{
      background-color:rgba(15, 153, 96, 0.25);
      color:#3dcc91; }
      .bp3-dark .bp3-tag.bp3-minimal.bp3-intent-success.bp3-interactive{
        cursor:pointer; }
        .bp3-dark .bp3-tag.bp3-minimal.bp3-intent-success.bp3-interactive:hover{
          background-color:rgba(15, 153, 96, 0.35); }
        .bp3-dark .bp3-tag.bp3-minimal.bp3-intent-success.bp3-interactive.bp3-active, .bp3-dark .bp3-tag.bp3-minimal.bp3-intent-success.bp3-interactive:active{
          background-color:rgba(15, 153, 96, 0.45); }
  .bp3-tag.bp3-minimal.bp3-intent-warning{
    background-color:rgba(217, 130, 43, 0.15);
    color:#bf7326; }
    .bp3-tag.bp3-minimal.bp3-intent-warning.bp3-interactive{
      cursor:pointer; }
      .bp3-tag.bp3-minimal.bp3-intent-warning.bp3-interactive:hover{
        background-color:rgba(217, 130, 43, 0.25); }
      .bp3-tag.bp3-minimal.bp3-intent-warning.bp3-interactive.bp3-active, .bp3-tag.bp3-minimal.bp3-intent-warning.bp3-interactive:active{
        background-color:rgba(217, 130, 43, 0.35); }
    .bp3-tag.bp3-minimal.bp3-intent-warning > .bp3-icon, .bp3-tag.bp3-minimal.bp3-intent-warning .bp3-icon-standard, .bp3-tag.bp3-minimal.bp3-intent-warning .bp3-icon-large{
      fill:#d9822b; }
    .bp3-dark .bp3-tag.bp3-minimal.bp3-intent-warning{
      background-color:rgba(217, 130, 43, 0.25);
      color:#ffb366; }
      .bp3-dark .bp3-tag.bp3-minimal.bp3-intent-warning.bp3-interactive{
        cursor:pointer; }
        .bp3-dark .bp3-tag.bp3-minimal.bp3-intent-warning.bp3-interactive:hover{
          background-color:rgba(217, 130, 43, 0.35); }
        .bp3-dark .bp3-tag.bp3-minimal.bp3-intent-warning.bp3-interactive.bp3-active, .bp3-dark .bp3-tag.bp3-minimal.bp3-intent-warning.bp3-interactive:active{
          background-color:rgba(217, 130, 43, 0.45); }
  .bp3-tag.bp3-minimal.bp3-intent-danger{
    background-color:rgba(219, 55, 55, 0.15);
    color:#c23030; }
    .bp3-tag.bp3-minimal.bp3-intent-danger.bp3-interactive{
      cursor:pointer; }
      .bp3-tag.bp3-minimal.bp3-intent-danger.bp3-interactive:hover{
        background-color:rgba(219, 55, 55, 0.25); }
      .bp3-tag.bp3-minimal.bp3-intent-danger.bp3-interactive.bp3-active, .bp3-tag.bp3-minimal.bp3-intent-danger.bp3-interactive:active{
        background-color:rgba(219, 55, 55, 0.35); }
    .bp3-tag.bp3-minimal.bp3-intent-danger > .bp3-icon, .bp3-tag.bp3-minimal.bp3-intent-danger .bp3-icon-standard, .bp3-tag.bp3-minimal.bp3-intent-danger .bp3-icon-large{
      fill:#db3737; }
    .bp3-dark .bp3-tag.bp3-minimal.bp3-intent-danger{
      background-color:rgba(219, 55, 55, 0.25);
      color:#ff7373; }
      .bp3-dark .bp3-tag.bp3-minimal.bp3-intent-danger.bp3-interactive{
        cursor:pointer; }
        .bp3-dark .bp3-tag.bp3-minimal.bp3-intent-danger.bp3-interactive:hover{
          background-color:rgba(219, 55, 55, 0.35); }
        .bp3-dark .bp3-tag.bp3-minimal.bp3-intent-danger.bp3-interactive.bp3-active, .bp3-dark .bp3-tag.bp3-minimal.bp3-intent-danger.bp3-interactive:active{
          background-color:rgba(219, 55, 55, 0.45); }

.bp3-tag-remove{
  background:none;
  border:none;
  color:inherit;
  cursor:pointer;
  display:-webkit-box;
  display:-ms-flexbox;
  display:flex;
  margin-bottom:-2px;
  margin-right:-6px !important;
  margin-top:-2px;
  opacity:0.5;
  padding:2px;
  padding-left:0; }
  .bp3-tag-remove:hover{
    background:none;
    opacity:0.8;
    text-decoration:none; }
  .bp3-tag-remove:active{
    opacity:1; }
  .bp3-tag-remove:empty::before{
    font-family:"Icons16", sans-serif;
    font-size:16px;
    font-style:normal;
    font-weight:400;
    line-height:1;
    -moz-osx-font-smoothing:grayscale;
    -webkit-font-smoothing:antialiased;
    content:""; }
  .bp3-large .bp3-tag-remove{
    margin-right:-10px !important;
    padding:0 5px 0 0; }
    .bp3-large .bp3-tag-remove:empty::before{
      font-family:"Icons20", sans-serif;
      font-size:20px;
      font-style:normal;
      font-weight:400;
      line-height:1; }
.bp3-tag-input{
  display:-webkit-box;
  display:-ms-flexbox;
  display:flex;
  -webkit-box-orient:horizontal;
  -webkit-box-direction:normal;
      -ms-flex-direction:row;
          flex-direction:row;
  -webkit-box-align:start;
      -ms-flex-align:start;
          align-items:flex-start;
  cursor:text;
  height:auto;
  line-height:inherit;
  min-height:30px;
  padding-left:5px;
  padding-right:0; }
  .bp3-tag-input > *{
    -webkit-box-flex:0;
        -ms-flex-positive:0;
            flex-grow:0;
    -ms-flex-negative:0;
        flex-shrink:0; }
  .bp3-tag-input > .bp3-tag-input-values{
    -webkit-box-flex:1;
        -ms-flex-positive:1;
            flex-grow:1;
    -ms-flex-negative:1;
        flex-shrink:1; }
  .bp3-tag-input .bp3-tag-input-icon{
    color:#5c7080;
    margin-left:2px;
    margin-right:7px;
    margin-top:7px; }
  .bp3-tag-input .bp3-tag-input-values{
    display:-webkit-box;
    display:-ms-flexbox;
    display:flex;
    -webkit-box-orient:horizontal;
    -webkit-box-direction:normal;
        -ms-flex-direction:row;
            flex-direction:row;
    -webkit-box-align:center;
        -ms-flex-align:center;
            align-items:center;
    -ms-flex-item-align:stretch;
        align-self:stretch;
    -ms-flex-wrap:wrap;
        flex-wrap:wrap;
    margin-right:7px;
    margin-top:5px;
    min-width:0; }
    .bp3-tag-input .bp3-tag-input-values > *{
      -webkit-box-flex:0;
          -ms-flex-positive:0;
              flex-grow:0;
      -ms-flex-negative:0;
          flex-shrink:0; }
    .bp3-tag-input .bp3-tag-input-values > .bp3-fill{
      -webkit-box-flex:1;
          -ms-flex-positive:1;
              flex-grow:1;
      -ms-flex-negative:1;
          flex-shrink:1; }
    .bp3-tag-input .bp3-tag-input-values::before,
    .bp3-tag-input .bp3-tag-input-values > *{
      margin-right:5px; }
    .bp3-tag-input .bp3-tag-input-values:empty::before,
    .bp3-tag-input .bp3-tag-input-values > :last-child{
      margin-right:0; }
    .bp3-tag-input .bp3-tag-input-values:first-child .bp3-input-ghost:first-child{
      padding-left:5px; }
    .bp3-tag-input .bp3-tag-input-values > *{
      margin-bottom:5px; }
  .bp3-tag-input .bp3-tag{
    overflow-wrap:break-word; }
    .bp3-tag-input .bp3-tag.bp3-active{
      outline:rgba(19, 124, 189, 0.6) auto 2px;
      outline-offset:0;
      -moz-outline-radius:6px; }
  .bp3-tag-input .bp3-input-ghost{
    -webkit-box-flex:1;
        -ms-flex:1 1 auto;
            flex:1 1 auto;
    line-height:20px;
    width:80px; }
    .bp3-tag-input .bp3-input-ghost:disabled, .bp3-tag-input .bp3-input-ghost.bp3-disabled{
      cursor:not-allowed; }
  .bp3-tag-input .bp3-button,
  .bp3-tag-input .bp3-spinner{
    margin:3px;
    margin-left:0; }
  .bp3-tag-input .bp3-button{
    min-height:24px;
    min-width:24px;
    padding:0 7px; }
  .bp3-tag-input.bp3-large{
    height:auto;
    min-height:40px; }
    .bp3-tag-input.bp3-large::before,
    .bp3-tag-input.bp3-large > *{
      margin-right:10px; }
    .bp3-tag-input.bp3-large:empty::before,
    .bp3-tag-input.bp3-large > :last-child{
      margin-right:0; }
    .bp3-tag-input.bp3-large .bp3-tag-input-icon{
      margin-left:5px;
      margin-top:10px; }
    .bp3-tag-input.bp3-large .bp3-input-ghost{
      line-height:30px; }
    .bp3-tag-input.bp3-large .bp3-button{
      min-height:30px;
      min-width:30px;
      padding:5px 10px;
      margin:5px;
      margin-left:0; }
    .bp3-tag-input.bp3-large .bp3-spinner{
      margin:8px;
      margin-left:0; }
  .bp3-tag-input.bp3-active{
    background-color:#ffffff;
    -webkit-box-shadow:0 0 0 1px #137cbd, 0 0 0 3px rgba(19, 124, 189, 0.3), inset 0 1px 1px rgba(16, 22, 26, 0.2);
            box-shadow:0 0 0 1px #137cbd, 0 0 0 3px rgba(19, 124, 189, 0.3), inset 0 1px 1px rgba(16, 22, 26, 0.2); }
    .bp3-tag-input.bp3-active.bp3-intent-primary{
      -webkit-box-shadow:0 0 0 1px #106ba3, 0 0 0 3px rgba(16, 107, 163, 0.3), inset 0 1px 1px rgba(16, 22, 26, 0.2);
              box-shadow:0 0 0 1px #106ba3, 0 0 0 3px rgba(16, 107, 163, 0.3), inset 0 1px 1px rgba(16, 22, 26, 0.2); }
    .bp3-tag-input.bp3-active.bp3-intent-success{
      -webkit-box-shadow:0 0 0 1px #0d8050, 0 0 0 3px rgba(13, 128, 80, 0.3), inset 0 1px 1px rgba(16, 22, 26, 0.2);
              box-shadow:0 0 0 1px #0d8050, 0 0 0 3px rgba(13, 128, 80, 0.3), inset 0 1px 1px rgba(16, 22, 26, 0.2); }
    .bp3-tag-input.bp3-active.bp3-intent-warning{
      -webkit-box-shadow:0 0 0 1px #bf7326, 0 0 0 3px rgba(191, 115, 38, 0.3), inset 0 1px 1px rgba(16, 22, 26, 0.2);
              box-shadow:0 0 0 1px #bf7326, 0 0 0 3px rgba(191, 115, 38, 0.3), inset 0 1px 1px rgba(16, 22, 26, 0.2); }
    .bp3-tag-input.bp3-active.bp3-intent-danger{
      -webkit-box-shadow:0 0 0 1px #c23030, 0 0 0 3px rgba(194, 48, 48, 0.3), inset 0 1px 1px rgba(16, 22, 26, 0.2);
              box-shadow:0 0 0 1px #c23030, 0 0 0 3px rgba(194, 48, 48, 0.3), inset 0 1px 1px rgba(16, 22, 26, 0.2); }
  .bp3-dark .bp3-tag-input .bp3-tag-input-icon, .bp3-tag-input.bp3-dark .bp3-tag-input-icon{
    color:#a7b6c2; }
  .bp3-dark .bp3-tag-input .bp3-input-ghost, .bp3-tag-input.bp3-dark .bp3-input-ghost{
    color:#f5f8fa; }
    .bp3-dark .bp3-tag-input .bp3-input-ghost::-webkit-input-placeholder, .bp3-tag-input.bp3-dark .bp3-input-ghost::-webkit-input-placeholder{
      color:rgba(167, 182, 194, 0.6); }
    .bp3-dark .bp3-tag-input .bp3-input-ghost::-moz-placeholder, .bp3-tag-input.bp3-dark .bp3-input-ghost::-moz-placeholder{
      color:rgba(167, 182, 194, 0.6); }
    .bp3-dark .bp3-tag-input .bp3-input-ghost:-ms-input-placeholder, .bp3-tag-input.bp3-dark .bp3-input-ghost:-ms-input-placeholder{
      color:rgba(167, 182, 194, 0.6); }
    .bp3-dark .bp3-tag-input .bp3-input-ghost::-ms-input-placeholder, .bp3-tag-input.bp3-dark .bp3-input-ghost::-ms-input-placeholder{
      color:rgba(167, 182, 194, 0.6); }
    .bp3-dark .bp3-tag-input .bp3-input-ghost::placeholder, .bp3-tag-input.bp3-dark .bp3-input-ghost::placeholder{
      color:rgba(167, 182, 194, 0.6); }
  .bp3-dark .bp3-tag-input.bp3-active, .bp3-tag-input.bp3-dark.bp3-active{
    background-color:rgba(16, 22, 26, 0.3);
    -webkit-box-shadow:0 0 0 1px #137cbd, 0 0 0 1px #137cbd, 0 0 0 3px rgba(19, 124, 189, 0.3), inset 0 0 0 1px rgba(16, 22, 26, 0.3), inset 0 1px 1px rgba(16, 22, 26, 0.4);
            box-shadow:0 0 0 1px #137cbd, 0 0 0 1px #137cbd, 0 0 0 3px rgba(19, 124, 189, 0.3), inset 0 0 0 1px rgba(16, 22, 26, 0.3), inset 0 1px 1px rgba(16, 22, 26, 0.4); }
    .bp3-dark .bp3-tag-input.bp3-active.bp3-intent-primary, .bp3-tag-input.bp3-dark.bp3-active.bp3-intent-primary{
      -webkit-box-shadow:0 0 0 1px #106ba3, 0 0 0 3px rgba(16, 107, 163, 0.3), inset 0 0 0 1px rgba(16, 22, 26, 0.3), inset 0 1px 1px rgba(16, 22, 26, 0.4);
              box-shadow:0 0 0 1px #106ba3, 0 0 0 3px rgba(16, 107, 163, 0.3), inset 0 0 0 1px rgba(16, 22, 26, 0.3), inset 0 1px 1px rgba(16, 22, 26, 0.4); }
    .bp3-dark .bp3-tag-input.bp3-active.bp3-intent-success, .bp3-tag-input.bp3-dark.bp3-active.bp3-intent-success{
      -webkit-box-shadow:0 0 0 1px #0d8050, 0 0 0 3px rgba(13, 128, 80, 0.3), inset 0 0 0 1px rgba(16, 22, 26, 0.3), inset 0 1px 1px rgba(16, 22, 26, 0.4);
              box-shadow:0 0 0 1px #0d8050, 0 0 0 3px rgba(13, 128, 80, 0.3), inset 0 0 0 1px rgba(16, 22, 26, 0.3), inset 0 1px 1px rgba(16, 22, 26, 0.4); }
    .bp3-dark .bp3-tag-input.bp3-active.bp3-intent-warning, .bp3-tag-input.bp3-dark.bp3-active.bp3-intent-warning{
      -webkit-box-shadow:0 0 0 1px #bf7326, 0 0 0 3px rgba(191, 115, 38, 0.3), inset 0 0 0 1px rgba(16, 22, 26, 0.3), inset 0 1px 1px rgba(16, 22, 26, 0.4);
              box-shadow:0 0 0 1px #bf7326, 0 0 0 3px rgba(191, 115, 38, 0.3), inset 0 0 0 1px rgba(16, 22, 26, 0.3), inset 0 1px 1px rgba(16, 22, 26, 0.4); }
    .bp3-dark .bp3-tag-input.bp3-active.bp3-intent-danger, .bp3-tag-input.bp3-dark.bp3-active.bp3-intent-danger{
      -webkit-box-shadow:0 0 0 1px #c23030, 0 0 0 3px rgba(194, 48, 48, 0.3), inset 0 0 0 1px rgba(16, 22, 26, 0.3), inset 0 1px 1px rgba(16, 22, 26, 0.4);
              box-shadow:0 0 0 1px #c23030, 0 0 0 3px rgba(194, 48, 48, 0.3), inset 0 0 0 1px rgba(16, 22, 26, 0.3), inset 0 1px 1px rgba(16, 22, 26, 0.4); }

.bp3-input-ghost{
  background:none;
  border:none;
  -webkit-box-shadow:none;
          box-shadow:none;
  padding:0; }
  .bp3-input-ghost::-webkit-input-placeholder{
    color:rgba(92, 112, 128, 0.6);
    opacity:1; }
  .bp3-input-ghost::-moz-placeholder{
    color:rgba(92, 112, 128, 0.6);
    opacity:1; }
  .bp3-input-ghost:-ms-input-placeholder{
    color:rgba(92, 112, 128, 0.6);
    opacity:1; }
  .bp3-input-ghost::-ms-input-placeholder{
    color:rgba(92, 112, 128, 0.6);
    opacity:1; }
  .bp3-input-ghost::placeholder{
    color:rgba(92, 112, 128, 0.6);
    opacity:1; }
  .bp3-input-ghost:focus{
    outline:none !important; }
.bp3-toast{
  -webkit-box-align:start;
      -ms-flex-align:start;
          align-items:flex-start;
  background-color:#ffffff;
  border-radius:3px;
  -webkit-box-shadow:0 0 0 1px rgba(16, 22, 26, 0.1), 0 2px 4px rgba(16, 22, 26, 0.2), 0 8px 24px rgba(16, 22, 26, 0.2);
          box-shadow:0 0 0 1px rgba(16, 22, 26, 0.1), 0 2px 4px rgba(16, 22, 26, 0.2), 0 8px 24px rgba(16, 22, 26, 0.2);
  display:-webkit-box;
  display:-ms-flexbox;
  display:flex;
  margin:20px 0 0;
  max-width:500px;
  min-width:300px;
  pointer-events:all;
  position:relative !important; }
  .bp3-toast.bp3-toast-enter, .bp3-toast.bp3-toast-appear{
    -webkit-transform:translateY(-40px);
            transform:translateY(-40px); }
  .bp3-toast.bp3-toast-enter-active, .bp3-toast.bp3-toast-appear-active{
    -webkit-transform:translateY(0);
            transform:translateY(0);
    -webkit-transition-delay:0;
            transition-delay:0;
    -webkit-transition-duration:300ms;
            transition-duration:300ms;
    -webkit-transition-property:-webkit-transform;
    transition-property:-webkit-transform;
    transition-property:transform;
    transition-property:transform, -webkit-transform;
    -webkit-transition-timing-function:cubic-bezier(0.54, 1.12, 0.38, 1.11);
            transition-timing-function:cubic-bezier(0.54, 1.12, 0.38, 1.11); }
  .bp3-toast.bp3-toast-enter ~ .bp3-toast, .bp3-toast.bp3-toast-appear ~ .bp3-toast{
    -webkit-transform:translateY(-40px);
            transform:translateY(-40px); }
  .bp3-toast.bp3-toast-enter-active ~ .bp3-toast, .bp3-toast.bp3-toast-appear-active ~ .bp3-toast{
    -webkit-transform:translateY(0);
            transform:translateY(0);
    -webkit-transition-delay:0;
            transition-delay:0;
    -webkit-transition-duration:300ms;
            transition-duration:300ms;
    -webkit-transition-property:-webkit-transform;
    transition-property:-webkit-transform;
    transition-property:transform;
    transition-property:transform, -webkit-transform;
    -webkit-transition-timing-function:cubic-bezier(0.54, 1.12, 0.38, 1.11);
            transition-timing-function:cubic-bezier(0.54, 1.12, 0.38, 1.11); }
  .bp3-toast.bp3-toast-exit{
    opacity:1;
    -webkit-filter:blur(0);
            filter:blur(0); }
  .bp3-toast.bp3-toast-exit-active{
    opacity:0;
    -webkit-filter:blur(10px);
            filter:blur(10px);
    -webkit-transition-delay:0;
            transition-delay:0;
    -webkit-transition-duration:300ms;
            transition-duration:300ms;
    -webkit-transition-property:opacity, -webkit-filter;
    transition-property:opacity, -webkit-filter;
    transition-property:opacity, filter;
    transition-property:opacity, filter, -webkit-filter;
    -webkit-transition-timing-function:cubic-bezier(0.4, 1, 0.75, 0.9);
            transition-timing-function:cubic-bezier(0.4, 1, 0.75, 0.9); }
  .bp3-toast.bp3-toast-exit ~ .bp3-toast{
    -webkit-transform:translateY(0);
            transform:translateY(0); }
  .bp3-toast.bp3-toast-exit-active ~ .bp3-toast{
    -webkit-transform:translateY(-40px);
            transform:translateY(-40px);
    -webkit-transition-delay:50ms;
            transition-delay:50ms;
    -webkit-transition-duration:100ms;
            transition-duration:100ms;
    -webkit-transition-property:-webkit-transform;
    transition-property:-webkit-transform;
    transition-property:transform;
    transition-property:transform, -webkit-transform;
    -webkit-transition-timing-function:cubic-bezier(0.4, 1, 0.75, 0.9);
            transition-timing-function:cubic-bezier(0.4, 1, 0.75, 0.9); }
  .bp3-toast .bp3-button-group{
    -webkit-box-flex:0;
        -ms-flex:0 0 auto;
            flex:0 0 auto;
    padding:5px;
    padding-left:0; }
  .bp3-toast > .bp3-icon{
    color:#5c7080;
    margin:12px;
    margin-right:0; }
  .bp3-toast.bp3-dark,
  .bp3-dark .bp3-toast{
    background-color:#394b59;
    -webkit-box-shadow:0 0 0 1px rgba(16, 22, 26, 0.2), 0 2px 4px rgba(16, 22, 26, 0.4), 0 8px 24px rgba(16, 22, 26, 0.4);
            box-shadow:0 0 0 1px rgba(16, 22, 26, 0.2), 0 2px 4px rgba(16, 22, 26, 0.4), 0 8px 24px rgba(16, 22, 26, 0.4); }
    .bp3-toast.bp3-dark > .bp3-icon,
    .bp3-dark .bp3-toast > .bp3-icon{
      color:#a7b6c2; }
  .bp3-toast[class*="bp3-intent-"] a{
    color:rgba(255, 255, 255, 0.7); }
    .bp3-toast[class*="bp3-intent-"] a:hover{
      color:#ffffff; }
  .bp3-toast[class*="bp3-intent-"] > .bp3-icon{
    color:#ffffff; }
  .bp3-toast[class*="bp3-intent-"] .bp3-button, .bp3-toast[class*="bp3-intent-"] .bp3-button::before,
  .bp3-toast[class*="bp3-intent-"] .bp3-button .bp3-icon, .bp3-toast[class*="bp3-intent-"] .bp3-button:active{
    color:rgba(255, 255, 255, 0.7) !important; }
  .bp3-toast[class*="bp3-intent-"] .bp3-button:focus{
    outline-color:rgba(255, 255, 255, 0.5); }
  .bp3-toast[class*="bp3-intent-"] .bp3-button:hover{
    background-color:rgba(255, 255, 255, 0.15) !important;
    color:#ffffff !important; }
  .bp3-toast[class*="bp3-intent-"] .bp3-button:active{
    background-color:rgba(255, 255, 255, 0.3) !important;
    color:#ffffff !important; }
  .bp3-toast[class*="bp3-intent-"] .bp3-button::after{
    background:rgba(255, 255, 255, 0.3) !important; }
  .bp3-toast.bp3-intent-primary{
    background-color:#137cbd;
    color:#ffffff; }
  .bp3-toast.bp3-intent-success{
    background-color:#0f9960;
    color:#ffffff; }
  .bp3-toast.bp3-intent-warning{
    background-color:#d9822b;
    color:#ffffff; }
  .bp3-toast.bp3-intent-danger{
    background-color:#db3737;
    color:#ffffff; }

.bp3-toast-message{
  -webkit-box-flex:1;
      -ms-flex:1 1 auto;
          flex:1 1 auto;
  padding:11px;
  word-break:break-word; }

.bp3-toast-container{
  -webkit-box-align:center;
      -ms-flex-align:center;
          align-items:center;
  display:-webkit-box !important;
  display:-ms-flexbox !important;
  display:flex !important;
  -webkit-box-orient:vertical;
  -webkit-box-direction:normal;
      -ms-flex-direction:column;
          flex-direction:column;
  left:0;
  overflow:hidden;
  padding:0 20px 20px;
  pointer-events:none;
  position:fixed;
  right:0;
  z-index:40; }
  .bp3-toast-container.bp3-toast-container-top{
    top:0; }
  .bp3-toast-container.bp3-toast-container-bottom{
    bottom:0;
    -webkit-box-orient:vertical;
    -webkit-box-direction:reverse;
        -ms-flex-direction:column-reverse;
            flex-direction:column-reverse;
    top:auto; }
  .bp3-toast-container.bp3-toast-container-left{
    -webkit-box-align:start;
        -ms-flex-align:start;
            align-items:flex-start; }
  .bp3-toast-container.bp3-toast-container-right{
    -webkit-box-align:end;
        -ms-flex-align:end;
            align-items:flex-end; }

.bp3-toast-container-bottom .bp3-toast.bp3-toast-enter:not(.bp3-toast-enter-active),
.bp3-toast-container-bottom .bp3-toast.bp3-toast-enter:not(.bp3-toast-enter-active) ~ .bp3-toast, .bp3-toast-container-bottom .bp3-toast.bp3-toast-appear:not(.bp3-toast-appear-active),
.bp3-toast-container-bottom .bp3-toast.bp3-toast-appear:not(.bp3-toast-appear-active) ~ .bp3-toast,
.bp3-toast-container-bottom .bp3-toast.bp3-toast-exit-active ~ .bp3-toast,
.bp3-toast-container-bottom .bp3-toast.bp3-toast-leave-active ~ .bp3-toast{
  -webkit-transform:translateY(60px);
          transform:translateY(60px); }
.bp3-tooltip{
  -webkit-box-shadow:0 0 0 1px rgba(16, 22, 26, 0.1), 0 2px 4px rgba(16, 22, 26, 0.2), 0 8px 24px rgba(16, 22, 26, 0.2);
          box-shadow:0 0 0 1px rgba(16, 22, 26, 0.1), 0 2px 4px rgba(16, 22, 26, 0.2), 0 8px 24px rgba(16, 22, 26, 0.2);
  -webkit-transform:scale(1);
          transform:scale(1); }
  .bp3-tooltip .bp3-popover-arrow{
    height:22px;
    position:absolute;
    width:22px; }
    .bp3-tooltip .bp3-popover-arrow::before{
      height:14px;
      margin:4px;
      width:14px; }
  .bp3-tether-element-attached-bottom.bp3-tether-target-attached-top > .bp3-tooltip{
    margin-bottom:11px;
    margin-top:-11px; }
    .bp3-tether-element-attached-bottom.bp3-tether-target-attached-top > .bp3-tooltip > .bp3-popover-arrow{
      bottom:-8px; }
      .bp3-tether-element-attached-bottom.bp3-tether-target-attached-top > .bp3-tooltip > .bp3-popover-arrow svg{
        -webkit-transform:rotate(-90deg);
                transform:rotate(-90deg); }
  .bp3-tether-element-attached-left.bp3-tether-target-attached-right > .bp3-tooltip{
    margin-left:11px; }
    .bp3-tether-element-attached-left.bp3-tether-target-attached-right > .bp3-tooltip > .bp3-popover-arrow{
      left:-8px; }
      .bp3-tether-element-attached-left.bp3-tether-target-attached-right > .bp3-tooltip > .bp3-popover-arrow svg{
        -webkit-transform:rotate(0);
                transform:rotate(0); }
  .bp3-tether-element-attached-top.bp3-tether-target-attached-bottom > .bp3-tooltip{
    margin-top:11px; }
    .bp3-tether-element-attached-top.bp3-tether-target-attached-bottom > .bp3-tooltip > .bp3-popover-arrow{
      top:-8px; }
      .bp3-tether-element-attached-top.bp3-tether-target-attached-bottom > .bp3-tooltip > .bp3-popover-arrow svg{
        -webkit-transform:rotate(90deg);
                transform:rotate(90deg); }
  .bp3-tether-element-attached-right.bp3-tether-target-attached-left > .bp3-tooltip{
    margin-left:-11px;
    margin-right:11px; }
    .bp3-tether-element-attached-right.bp3-tether-target-attached-left > .bp3-tooltip > .bp3-popover-arrow{
      right:-8px; }
      .bp3-tether-element-attached-right.bp3-tether-target-attached-left > .bp3-tooltip > .bp3-popover-arrow svg{
        -webkit-transform:rotate(180deg);
                transform:rotate(180deg); }
  .bp3-tether-element-attached-middle > .bp3-tooltip > .bp3-popover-arrow{
    top:50%;
    -webkit-transform:translateY(-50%);
            transform:translateY(-50%); }
  .bp3-tether-element-attached-center > .bp3-tooltip > .bp3-popover-arrow{
    right:50%;
    -webkit-transform:translateX(50%);
            transform:translateX(50%); }
  .bp3-tether-element-attached-top.bp3-tether-target-attached-top > .bp3-tooltip > .bp3-popover-arrow{
    top:-0.22183px; }
  .bp3-tether-element-attached-right.bp3-tether-target-attached-right > .bp3-tooltip > .bp3-popover-arrow{
    right:-0.22183px; }
  .bp3-tether-element-attached-left.bp3-tether-target-attached-left > .bp3-tooltip > .bp3-popover-arrow{
    left:-0.22183px; }
  .bp3-tether-element-attached-bottom.bp3-tether-target-attached-bottom > .bp3-tooltip > .bp3-popover-arrow{
    bottom:-0.22183px; }
  .bp3-tether-element-attached-top.bp3-tether-element-attached-left > .bp3-tooltip{
    -webkit-transform-origin:top left;
            transform-origin:top left; }
  .bp3-tether-element-attached-top.bp3-tether-element-attached-center > .bp3-tooltip{
    -webkit-transform-origin:top center;
            transform-origin:top center; }
  .bp3-tether-element-attached-top.bp3-tether-element-attached-right > .bp3-tooltip{
    -webkit-transform-origin:top right;
            transform-origin:top right; }
  .bp3-tether-element-attached-middle.bp3-tether-element-attached-left > .bp3-tooltip{
    -webkit-transform-origin:center left;
            transform-origin:center left; }
  .bp3-tether-element-attached-middle.bp3-tether-element-attached-center > .bp3-tooltip{
    -webkit-transform-origin:center center;
            transform-origin:center center; }
  .bp3-tether-element-attached-middle.bp3-tether-element-attached-right > .bp3-tooltip{
    -webkit-transform-origin:center right;
            transform-origin:center right; }
  .bp3-tether-element-attached-bottom.bp3-tether-element-attached-left > .bp3-tooltip{
    -webkit-transform-origin:bottom left;
            transform-origin:bottom left; }
  .bp3-tether-element-attached-bottom.bp3-tether-element-attached-center > .bp3-tooltip{
    -webkit-transform-origin:bottom center;
            transform-origin:bottom center; }
  .bp3-tether-element-attached-bottom.bp3-tether-element-attached-right > .bp3-tooltip{
    -webkit-transform-origin:bottom right;
            transform-origin:bottom right; }
  .bp3-tooltip .bp3-popover-content{
    background:#394b59;
    color:#f5f8fa; }
  .bp3-tooltip .bp3-popover-arrow::before{
    -webkit-box-shadow:1px 1px 6px rgba(16, 22, 26, 0.2);
            box-shadow:1px 1px 6px rgba(16, 22, 26, 0.2); }
  .bp3-tooltip .bp3-popover-arrow-border{
    fill:#10161a;
    fill-opacity:0.1; }
  .bp3-tooltip .bp3-popover-arrow-fill{
    fill:#394b59; }
  .bp3-popover-enter > .bp3-tooltip, .bp3-popover-appear > .bp3-tooltip{
    -webkit-transform:scale(0.8);
            transform:scale(0.8); }
  .bp3-popover-enter-active > .bp3-tooltip, .bp3-popover-appear-active > .bp3-tooltip{
    -webkit-transform:scale(1);
            transform:scale(1);
    -webkit-transition-delay:0;
            transition-delay:0;
    -webkit-transition-duration:100ms;
            transition-duration:100ms;
    -webkit-transition-property:-webkit-transform;
    transition-property:-webkit-transform;
    transition-property:transform;
    transition-property:transform, -webkit-transform;
    -webkit-transition-timing-function:cubic-bezier(0.4, 1, 0.75, 0.9);
            transition-timing-function:cubic-bezier(0.4, 1, 0.75, 0.9); }
  .bp3-popover-exit > .bp3-tooltip{
    -webkit-transform:scale(1);
            transform:scale(1); }
  .bp3-popover-exit-active > .bp3-tooltip{
    -webkit-transform:scale(0.8);
            transform:scale(0.8);
    -webkit-transition-delay:0;
            transition-delay:0;
    -webkit-transition-duration:100ms;
            transition-duration:100ms;
    -webkit-transition-property:-webkit-transform;
    transition-property:-webkit-transform;
    transition-property:transform;
    transition-property:transform, -webkit-transform;
    -webkit-transition-timing-function:cubic-bezier(0.4, 1, 0.75, 0.9);
            transition-timing-function:cubic-bezier(0.4, 1, 0.75, 0.9); }
  .bp3-tooltip .bp3-popover-content{
    padding:10px 12px; }
  .bp3-tooltip.bp3-dark,
  .bp3-dark .bp3-tooltip{
    -webkit-box-shadow:0 0 0 1px rgba(16, 22, 26, 0.2), 0 2px 4px rgba(16, 22, 26, 0.4), 0 8px 24px rgba(16, 22, 26, 0.4);
            box-shadow:0 0 0 1px rgba(16, 22, 26, 0.2), 0 2px 4px rgba(16, 22, 26, 0.4), 0 8px 24px rgba(16, 22, 26, 0.4); }
    .bp3-tooltip.bp3-dark .bp3-popover-content,
    .bp3-dark .bp3-tooltip .bp3-popover-content{
      background:#e1e8ed;
      color:#394b59; }
    .bp3-tooltip.bp3-dark .bp3-popover-arrow::before,
    .bp3-dark .bp3-tooltip .bp3-popover-arrow::before{
      -webkit-box-shadow:1px 1px 6px rgba(16, 22, 26, 0.4);
              box-shadow:1px 1px 6px rgba(16, 22, 26, 0.4); }
    .bp3-tooltip.bp3-dark .bp3-popover-arrow-border,
    .bp3-dark .bp3-tooltip .bp3-popover-arrow-border{
      fill:#10161a;
      fill-opacity:0.2; }
    .bp3-tooltip.bp3-dark .bp3-popover-arrow-fill,
    .bp3-dark .bp3-tooltip .bp3-popover-arrow-fill{
      fill:#e1e8ed; }
  .bp3-tooltip.bp3-intent-primary .bp3-popover-content{
    background:#137cbd;
    color:#ffffff; }
  .bp3-tooltip.bp3-intent-primary .bp3-popover-arrow-fill{
    fill:#137cbd; }
  .bp3-tooltip.bp3-intent-success .bp3-popover-content{
    background:#0f9960;
    color:#ffffff; }
  .bp3-tooltip.bp3-intent-success .bp3-popover-arrow-fill{
    fill:#0f9960; }
  .bp3-tooltip.bp3-intent-warning .bp3-popover-content{
    background:#d9822b;
    color:#ffffff; }
  .bp3-tooltip.bp3-intent-warning .bp3-popover-arrow-fill{
    fill:#d9822b; }
  .bp3-tooltip.bp3-intent-danger .bp3-popover-content{
    background:#db3737;
    color:#ffffff; }
  .bp3-tooltip.bp3-intent-danger .bp3-popover-arrow-fill{
    fill:#db3737; }

.bp3-tooltip-indicator{
  border-bottom:dotted 1px;
  cursor:help; }
.bp3-tree .bp3-icon, .bp3-tree .bp3-icon-standard, .bp3-tree .bp3-icon-large{
  color:#5c7080; }
  .bp3-tree .bp3-icon.bp3-intent-primary, .bp3-tree .bp3-icon-standard.bp3-intent-primary, .bp3-tree .bp3-icon-large.bp3-intent-primary{
    color:#137cbd; }
  .bp3-tree .bp3-icon.bp3-intent-success, .bp3-tree .bp3-icon-standard.bp3-intent-success, .bp3-tree .bp3-icon-large.bp3-intent-success{
    color:#0f9960; }
  .bp3-tree .bp3-icon.bp3-intent-warning, .bp3-tree .bp3-icon-standard.bp3-intent-warning, .bp3-tree .bp3-icon-large.bp3-intent-warning{
    color:#d9822b; }
  .bp3-tree .bp3-icon.bp3-intent-danger, .bp3-tree .bp3-icon-standard.bp3-intent-danger, .bp3-tree .bp3-icon-large.bp3-intent-danger{
    color:#db3737; }

.bp3-tree-node-list{
  list-style:none;
  margin:0;
  padding-left:0; }

.bp3-tree-root{
  background-color:transparent;
  cursor:default;
  padding-left:0;
  position:relative; }

.bp3-tree-node-content-0{
  padding-left:0px; }

.bp3-tree-node-content-1{
  padding-left:23px; }

.bp3-tree-node-content-2{
  padding-left:46px; }

.bp3-tree-node-content-3{
  padding-left:69px; }

.bp3-tree-node-content-4{
  padding-left:92px; }

.bp3-tree-node-content-5{
  padding-left:115px; }

.bp3-tree-node-content-6{
  padding-left:138px; }

.bp3-tree-node-content-7{
  padding-left:161px; }

.bp3-tree-node-content-8{
  padding-left:184px; }

.bp3-tree-node-content-9{
  padding-left:207px; }

.bp3-tree-node-content-10{
  padding-left:230px; }

.bp3-tree-node-content-11{
  padding-left:253px; }

.bp3-tree-node-content-12{
  padding-left:276px; }

.bp3-tree-node-content-13{
  padding-left:299px; }

.bp3-tree-node-content-14{
  padding-left:322px; }

.bp3-tree-node-content-15{
  padding-left:345px; }

.bp3-tree-node-content-16{
  padding-left:368px; }

.bp3-tree-node-content-17{
  padding-left:391px; }

.bp3-tree-node-content-18{
  padding-left:414px; }

.bp3-tree-node-content-19{
  padding-left:437px; }

.bp3-tree-node-content-20{
  padding-left:460px; }

.bp3-tree-node-content{
  -webkit-box-align:center;
      -ms-flex-align:center;
          align-items:center;
  display:-webkit-box;
  display:-ms-flexbox;
  display:flex;
  height:30px;
  padding-right:5px;
  width:100%; }
  .bp3-tree-node-content:hover{
    background-color:rgba(191, 204, 214, 0.4); }

.bp3-tree-node-caret,
.bp3-tree-node-caret-none{
  min-width:30px; }

.bp3-tree-node-caret{
  color:#5c7080;
  cursor:pointer;
  padding:7px;
  -webkit-transform:rotate(0deg);
          transform:rotate(0deg);
  -webkit-transition:-webkit-transform 200ms cubic-bezier(0.4, 1, 0.75, 0.9);
  transition:-webkit-transform 200ms cubic-bezier(0.4, 1, 0.75, 0.9);
  transition:transform 200ms cubic-bezier(0.4, 1, 0.75, 0.9);
  transition:transform 200ms cubic-bezier(0.4, 1, 0.75, 0.9), -webkit-transform 200ms cubic-bezier(0.4, 1, 0.75, 0.9); }
  .bp3-tree-node-caret:hover{
    color:#182026; }
  .bp3-dark .bp3-tree-node-caret{
    color:#a7b6c2; }
    .bp3-dark .bp3-tree-node-caret:hover{
      color:#f5f8fa; }
  .bp3-tree-node-caret.bp3-tree-node-caret-open{
    -webkit-transform:rotate(90deg);
            transform:rotate(90deg); }
  .bp3-tree-node-caret.bp3-icon-standard::before{
    content:""; }

.bp3-tree-node-icon{
  margin-right:7px;
  position:relative; }

.bp3-tree-node-label{
  overflow:hidden;
  text-overflow:ellipsis;
  white-space:nowrap;
  word-wrap:normal;
  -webkit-box-flex:1;
      -ms-flex:1 1 auto;
          flex:1 1 auto;
  position:relative;
  -webkit-user-select:none;
     -moz-user-select:none;
      -ms-user-select:none;
          user-select:none; }
  .bp3-tree-node-label span{
    display:inline; }

.bp3-tree-node-secondary-label{
  padding:0 5px;
  -webkit-user-select:none;
     -moz-user-select:none;
      -ms-user-select:none;
          user-select:none; }
  .bp3-tree-node-secondary-label .bp3-popover-wrapper,
  .bp3-tree-node-secondary-label .bp3-popover-target{
    -webkit-box-align:center;
        -ms-flex-align:center;
            align-items:center;
    display:-webkit-box;
    display:-ms-flexbox;
    display:flex; }

.bp3-tree-node.bp3-disabled .bp3-tree-node-content{
  background-color:inherit;
  color:rgba(92, 112, 128, 0.6);
  cursor:not-allowed; }

.bp3-tree-node.bp3-disabled .bp3-tree-node-caret,
.bp3-tree-node.bp3-disabled .bp3-tree-node-icon{
  color:rgba(92, 112, 128, 0.6);
  cursor:not-allowed; }

.bp3-tree-node.bp3-tree-node-selected > .bp3-tree-node-content{
  background-color:#137cbd; }
  .bp3-tree-node.bp3-tree-node-selected > .bp3-tree-node-content,
  .bp3-tree-node.bp3-tree-node-selected > .bp3-tree-node-content .bp3-icon, .bp3-tree-node.bp3-tree-node-selected > .bp3-tree-node-content .bp3-icon-standard, .bp3-tree-node.bp3-tree-node-selected > .bp3-tree-node-content .bp3-icon-large{
    color:#ffffff; }
  .bp3-tree-node.bp3-tree-node-selected > .bp3-tree-node-content .bp3-tree-node-caret::before{
    color:rgba(255, 255, 255, 0.7); }
  .bp3-tree-node.bp3-tree-node-selected > .bp3-tree-node-content .bp3-tree-node-caret:hover::before{
    color:#ffffff; }

.bp3-dark .bp3-tree-node-content:hover{
  background-color:rgba(92, 112, 128, 0.3); }

.bp3-dark .bp3-tree .bp3-icon, .bp3-dark .bp3-tree .bp3-icon-standard, .bp3-dark .bp3-tree .bp3-icon-large{
  color:#a7b6c2; }
  .bp3-dark .bp3-tree .bp3-icon.bp3-intent-primary, .bp3-dark .bp3-tree .bp3-icon-standard.bp3-intent-primary, .bp3-dark .bp3-tree .bp3-icon-large.bp3-intent-primary{
    color:#137cbd; }
  .bp3-dark .bp3-tree .bp3-icon.bp3-intent-success, .bp3-dark .bp3-tree .bp3-icon-standard.bp3-intent-success, .bp3-dark .bp3-tree .bp3-icon-large.bp3-intent-success{
    color:#0f9960; }
  .bp3-dark .bp3-tree .bp3-icon.bp3-intent-warning, .bp3-dark .bp3-tree .bp3-icon-standard.bp3-intent-warning, .bp3-dark .bp3-tree .bp3-icon-large.bp3-intent-warning{
    color:#d9822b; }
  .bp3-dark .bp3-tree .bp3-icon.bp3-intent-danger, .bp3-dark .bp3-tree .bp3-icon-standard.bp3-intent-danger, .bp3-dark .bp3-tree .bp3-icon-large.bp3-intent-danger{
    color:#db3737; }

.bp3-dark .bp3-tree-node.bp3-tree-node-selected > .bp3-tree-node-content{
  background-color:#137cbd; }
.bp3-omnibar{
  -webkit-filter:blur(0);
          filter:blur(0);
  opacity:1;
  background-color:#ffffff;
  border-radius:3px;
  -webkit-box-shadow:0 0 0 1px rgba(16, 22, 26, 0.1), 0 4px 8px rgba(16, 22, 26, 0.2), 0 18px 46px 6px rgba(16, 22, 26, 0.2);
          box-shadow:0 0 0 1px rgba(16, 22, 26, 0.1), 0 4px 8px rgba(16, 22, 26, 0.2), 0 18px 46px 6px rgba(16, 22, 26, 0.2);
  left:calc(50% - 250px);
  top:20vh;
  width:500px;
  z-index:21; }
  .bp3-omnibar.bp3-overlay-enter, .bp3-omnibar.bp3-overlay-appear{
    -webkit-filter:blur(20px);
            filter:blur(20px);
    opacity:0.2; }
  .bp3-omnibar.bp3-overlay-enter-active, .bp3-omnibar.bp3-overlay-appear-active{
    -webkit-filter:blur(0);
            filter:blur(0);
    opacity:1;
    -webkit-transition-delay:0;
            transition-delay:0;
    -webkit-transition-duration:200ms;
            transition-duration:200ms;
    -webkit-transition-property:opacity, -webkit-filter;
    transition-property:opacity, -webkit-filter;
    transition-property:filter, opacity;
    transition-property:filter, opacity, -webkit-filter;
    -webkit-transition-timing-function:cubic-bezier(0.4, 1, 0.75, 0.9);
            transition-timing-function:cubic-bezier(0.4, 1, 0.75, 0.9); }
  .bp3-omnibar.bp3-overlay-exit{
    -webkit-filter:blur(0);
            filter:blur(0);
    opacity:1; }
  .bp3-omnibar.bp3-overlay-exit-active{
    -webkit-filter:blur(20px);
            filter:blur(20px);
    opacity:0.2;
    -webkit-transition-delay:0;
            transition-delay:0;
    -webkit-transition-duration:200ms;
            transition-duration:200ms;
    -webkit-transition-property:opacity, -webkit-filter;
    transition-property:opacity, -webkit-filter;
    transition-property:filter, opacity;
    transition-property:filter, opacity, -webkit-filter;
    -webkit-transition-timing-function:cubic-bezier(0.4, 1, 0.75, 0.9);
            transition-timing-function:cubic-bezier(0.4, 1, 0.75, 0.9); }
  .bp3-omnibar .bp3-input{
    background-color:transparent;
    border-radius:0; }
    .bp3-omnibar .bp3-input, .bp3-omnibar .bp3-input:focus{
      -webkit-box-shadow:none;
              box-shadow:none; }
  .bp3-omnibar .bp3-menu{
    background-color:transparent;
    border-radius:0;
    -webkit-box-shadow:inset 0 1px 0 rgba(16, 22, 26, 0.15);
            box-shadow:inset 0 1px 0 rgba(16, 22, 26, 0.15);
    max-height:calc(60vh - 40px);
    overflow:auto; }
    .bp3-omnibar .bp3-menu:empty{
      display:none; }
  .bp3-dark .bp3-omnibar, .bp3-omnibar.bp3-dark{
    background-color:#30404d;
    -webkit-box-shadow:0 0 0 1px rgba(16, 22, 26, 0.2), 0 4px 8px rgba(16, 22, 26, 0.4), 0 18px 46px 6px rgba(16, 22, 26, 0.4);
            box-shadow:0 0 0 1px rgba(16, 22, 26, 0.2), 0 4px 8px rgba(16, 22, 26, 0.4), 0 18px 46px 6px rgba(16, 22, 26, 0.4); }

.bp3-omnibar-overlay .bp3-overlay-backdrop{
  background-color:rgba(16, 22, 26, 0.2); }

.bp3-select-popover .bp3-popover-content{
  padding:5px; }

.bp3-select-popover .bp3-input-group{
  margin-bottom:0; }

.bp3-select-popover .bp3-menu{
  max-height:300px;
  max-width:400px;
  overflow:auto;
  padding:0; }
  .bp3-select-popover .bp3-menu:not(:first-child){
    padding-top:5px; }

.bp3-multi-select{
  min-width:150px; }

.bp3-multi-select-popover .bp3-menu{
  max-height:300px;
  max-width:400px;
  overflow:auto; }

.bp3-select-popover .bp3-popover-content{
  padding:5px; }

.bp3-select-popover .bp3-input-group{
  margin-bottom:0; }

.bp3-select-popover .bp3-menu{
  max-height:300px;
  max-width:400px;
  overflow:auto;
  padding:0; }
  .bp3-select-popover .bp3-menu:not(:first-child){
    padding-top:5px; }
/*-----------------------------------------------------------------------------
| Copyright (c) Jupyter Development Team.
| Distributed under the terms of the Modified BSD License.
|----------------------------------------------------------------------------*/

/* This file was auto-generated by ensureUiComponents() in @jupyterlab/buildutils */

/**
 * (DEPRECATED) Support for consuming icons as CSS background images
 */

/* Icons urls */

:root {
  --jp-icon-add: url(data:image/svg+xml;base64,PHN2ZyB4bWxucz0iaHR0cDovL3d3dy53My5vcmcvMjAwMC9zdmciIHdpZHRoPSIxNiIgdmlld0JveD0iMCAwIDI0IDI0Ij4KICA8ZyBjbGFzcz0ianAtaWNvbjMiIGZpbGw9IiM2MTYxNjEiPgogICAgPHBhdGggZD0iTTE5IDEzaC02djZoLTJ2LTZINXYtMmg2VjVoMnY2aDZ2MnoiLz4KICA8L2c+Cjwvc3ZnPgo=);
  --jp-icon-bug: url(data:image/svg+xml;base64,PHN2ZyB2aWV3Qm94PSIwIDAgMjQgMjQiIHdpZHRoPSIxNiIgeG1sbnM9Imh0dHA6Ly93d3cudzMub3JnLzIwMDAvc3ZnIj4KICA8ZyBjbGFzcz0ianAtaWNvbjMiIGZpbGw9IiM2MTYxNjEiPgogICAgPHBhdGggZD0iTTIwIDhoLTIuODFjLS40NS0uNzgtMS4wNy0xLjQ1LTEuODItMS45NkwxNyA0LjQxIDE1LjU5IDNsLTIuMTcgMi4xN0MxMi45NiA1LjA2IDEyLjQ5IDUgMTIgNWMtLjQ5IDAtLjk2LjA2LTEuNDEuMTdMOC40MSAzIDcgNC40MWwxLjYyIDEuNjNDNy44OCA2LjU1IDcuMjYgNy4yMiA2LjgxIDhINHYyaDIuMDljLS4wNS4zMy0uMDkuNjYtLjA5IDF2MUg0djJoMnYxYzAgLjM0LjA0LjY3LjA5IDFINHYyaDIuODFjMS4wNCAxLjc5IDIuOTcgMyA1LjE5IDNzNC4xNS0xLjIxIDUuMTktM0gyMHYtMmgtMi4wOWMuMDUtLjMzLjA5LS42Ni4wOS0xdi0xaDJ2LTJoLTJ2LTFjMC0uMzQtLjA0LS42Ny0uMDktMUgyMFY4em0tNiA4aC00di0yaDR2MnptMC00aC00di0yaDR2MnoiLz4KICA8L2c+Cjwvc3ZnPgo=);
  --jp-icon-build: url(data:image/svg+xml;base64,PHN2ZyB3aWR0aD0iMTYiIHZpZXdCb3g9IjAgMCAyNCAyNCIgeG1sbnM9Imh0dHA6Ly93d3cudzMub3JnLzIwMDAvc3ZnIj4KICA8ZyBjbGFzcz0ianAtaWNvbjMiIGZpbGw9IiM2MTYxNjEiPgogICAgPHBhdGggZD0iTTE0LjkgMTcuNDVDMTYuMjUgMTcuNDUgMTcuMzUgMTYuMzUgMTcuMzUgMTVDMTcuMzUgMTMuNjUgMTYuMjUgMTIuNTUgMTQuOSAxMi41NUMxMy41NCAxMi41NSAxMi40NSAxMy42NSAxMi40NSAxNUMxMi40NSAxNi4zNSAxMy41NCAxNy40NSAxNC45IDE3LjQ1Wk0yMC4xIDE1LjY4TDIxLjU4IDE2Ljg0QzIxLjcxIDE2Ljk1IDIxLjc1IDE3LjEzIDIxLjY2IDE3LjI5TDIwLjI2IDE5LjcxQzIwLjE3IDE5Ljg2IDIwIDE5LjkyIDE5LjgzIDE5Ljg2TDE4LjA5IDE5LjE2QzE3LjczIDE5LjQ0IDE3LjMzIDE5LjY3IDE2LjkxIDE5Ljg1TDE2LjY0IDIxLjdDMTYuNjIgMjEuODcgMTYuNDcgMjIgMTYuMyAyMkgxMy41QzEzLjMyIDIyIDEzLjE4IDIxLjg3IDEzLjE1IDIxLjdMMTIuODkgMTkuODVDMTIuNDYgMTkuNjcgMTIuMDcgMTkuNDQgMTEuNzEgMTkuMTZMOS45NjAwMiAxOS44NkM5LjgxMDAyIDE5LjkyIDkuNjIwMDIgMTkuODYgOS41NDAwMiAxOS43MUw4LjE0MDAyIDE3LjI5QzguMDUwMDIgMTcuMTMgOC4wOTAwMiAxNi45NSA4LjIyMDAyIDE2Ljg0TDkuNzAwMDIgMTUuNjhMOS42NTAwMSAxNUw5LjcwMDAyIDE0LjMxTDguMjIwMDIgMTMuMTZDOC4wOTAwMiAxMy4wNSA4LjA1MDAyIDEyLjg2IDguMTQwMDIgMTIuNzFMOS41NDAwMiAxMC4yOUM5LjYyMDAyIDEwLjEzIDkuODEwMDIgMTAuMDcgOS45NjAwMiAxMC4xM0wxMS43MSAxMC44NEMxMi4wNyAxMC41NiAxMi40NiAxMC4zMiAxMi44OSAxMC4xNUwxMy4xNSA4LjI4OTk4QzEzLjE4IDguMTI5OTggMTMuMzIgNy45OTk5OCAxMy41IDcuOTk5OThIMTYuM0MxNi40NyA3Ljk5OTk4IDE2LjYyIDguMTI5OTggMTYuNjQgOC4yODk5OEwxNi45MSAxMC4xNUMxNy4zMyAxMC4zMiAxNy43MyAxMC41NiAxOC4wOSAxMC44NEwxOS44MyAxMC4xM0MyMCAxMC4wNyAyMC4xNyAxMC4xMyAyMC4yNiAxMC4yOUwyMS42NiAxMi43MUMyMS43NSAxMi44NiAyMS43MSAxMy4wNSAyMS41OCAxMy4xNkwyMC4xIDE0LjMxTDIwLjE1IDE1TDIwLjEgMTUuNjhaIi8+CiAgICA8cGF0aCBkPSJNNy4zMjk2NiA3LjQ0NDU0QzguMDgzMSA3LjAwOTU0IDguMzM5MzIgNi4wNTMzMiA3LjkwNDMyIDUuMjk5ODhDNy40NjkzMiA0LjU0NjQzIDYuNTA4MSA0LjI4MTU2IDUuNzU0NjYgNC43MTY1NkM1LjM5MTc2IDQuOTI2MDggNS4xMjY5NSA1LjI3MTE4IDUuMDE4NDkgNS42NzU5NEM0LjkxMDA0IDYuMDgwNzEgNC45NjY4MiA2LjUxMTk4IDUuMTc2MzQgNi44NzQ4OEM1LjYxMTM0IDcuNjI4MzIgNi41NzYyMiA3Ljg3OTU0IDcuMzI5NjYgNy40NDQ1NFpNOS42NTcxOCA0Ljc5NTkzTDEwLjg2NzIgNC45NTE3OUMxMC45NjI4IDQuOTc3NDEgMTEuMDQwMiA1LjA3MTMzIDExLjAzODIgNS4xODc5M0wxMS4wMzg4IDYuOTg4OTNDMTEuMDQ1NSA3LjEwMDU0IDEwLjk2MTYgNy4xOTUxOCAxMC44NTUgNy4yMTA1NEw5LjY2MDAxIDcuMzgwODNMOS4yMzkxNSA4LjEzMTg4TDkuNjY5NjEgOS4yNTc0NUM5LjcwNzI5IDkuMzYyNzEgOS42NjkzNCA5LjQ3Njk5IDkuNTc0MDggOS41MzE5OUw4LjAxNTIzIDEwLjQzMkM3LjkxMTMxIDEwLjQ5MiA3Ljc5MzM3IDEwLjQ2NzcgNy43MjEwNSAxMC4zODI0TDYuOTg3NDggOS40MzE4OEw2LjEwOTMxIDkuNDMwODNMNS4zNDcwNCAxMC4zOTA1QzUuMjg5MDkgMTAuNDcwMiA1LjE3MzgzIDEwLjQ5MDUgNS4wNzE4NyAxMC40MzM5TDMuNTEyNDUgOS41MzI5M0MzLjQxMDQ5IDkuNDc2MzMgMy4zNzY0NyA5LjM1NzQxIDMuNDEwNzUgOS4yNTY3OUwzLjg2MzQ3IDguMTQwOTNMMy42MTc0OSA3Ljc3NDg4TDMuNDIzNDcgNy4zNzg4M0wyLjIzMDc1IDcuMjEyOTdDMi4xMjY0NyA3LjE5MjM1IDIuMDQwNDkgNy4xMDM0MiAyLjA0MjQ1IDYuOTg2ODJMMi4wNDE4NyA1LjE4NTgyQzIuMDQzODMgNS4wNjkyMiAyLjExOTA5IDQuOTc5NTggMi4yMTcwNCA0Ljk2OTIyTDMuNDIwNjUgNC43OTM5M0wzLjg2NzQ5IDQuMDI3ODhMMy40MTEwNSAyLjkxNzMxQzMuMzczMzcgMi44MTIwNCAzLjQxMTMxIDIuNjk3NzYgMy41MTUyMyAyLjYzNzc2TDUuMDc0MDggMS43Mzc3NkM1LjE2OTM0IDEuNjgyNzYgNS4yODcyOSAxLjcwNzA0IDUuMzU5NjEgMS43OTIzMUw2LjExOTE1IDIuNzI3ODhMNi45ODAwMSAyLjczODkzTDcuNzI0OTYgMS43ODkyMkM3Ljc5MTU2IDEuNzA0NTggNy45MTU0OCAxLjY3OTIyIDguMDA4NzkgMS43NDA4Mkw5LjU2ODIxIDIuNjQxODJDOS42NzAxNyAyLjY5ODQyIDkuNzEyODUgMi44MTIzNCA5LjY4NzIzIDIuOTA3OTdMOS4yMTcxOCA0LjAzMzgzTDkuNDYzMTYgNC4zOTk4OEw5LjY1NzE4IDQuNzk1OTNaIi8+CiAgPC9nPgo8L3N2Zz4K);
  --jp-icon-caret-down-empty-thin: url(data:image/svg+xml;base64,PHN2ZyB4bWxucz0iaHR0cDovL3d3dy53My5vcmcvMjAwMC9zdmciIHdpZHRoPSIxNiIgdmlld0JveD0iMCAwIDIwIDIwIj4KCTxnIGNsYXNzPSJqcC1pY29uMyIgZmlsbD0iIzYxNjE2MSIgc2hhcGUtcmVuZGVyaW5nPSJnZW9tZXRyaWNQcmVjaXNpb24iPgoJCTxwb2x5Z29uIGNsYXNzPSJzdDEiIHBvaW50cz0iOS45LDEzLjYgMy42LDcuNCA0LjQsNi42IDkuOSwxMi4yIDE1LjQsNi43IDE2LjEsNy40ICIvPgoJPC9nPgo8L3N2Zz4K);
  --jp-icon-caret-down-empty: url(data:image/svg+xml;base64,PHN2ZyB4bWxucz0iaHR0cDovL3d3dy53My5vcmcvMjAwMC9zdmciIHdpZHRoPSIxNiIgdmlld0JveD0iMCAwIDE4IDE4Ij4KICA8ZyBjbGFzcz0ianAtaWNvbjMiIGZpbGw9IiM2MTYxNjEiIHNoYXBlLXJlbmRlcmluZz0iZ2VvbWV0cmljUHJlY2lzaW9uIj4KICAgIDxwYXRoIGQ9Ik01LjIsNS45TDksOS43bDMuOC0zLjhsMS4yLDEuMmwtNC45LDVsLTQuOS01TDUuMiw1Ljl6Ii8+CiAgPC9nPgo8L3N2Zz4K);
  --jp-icon-caret-down: url(data:image/svg+xml;base64,PHN2ZyB4bWxucz0iaHR0cDovL3d3dy53My5vcmcvMjAwMC9zdmciIHdpZHRoPSIxNiIgdmlld0JveD0iMCAwIDE4IDE4Ij4KICA8ZyBjbGFzcz0ianAtaWNvbjMiIGZpbGw9IiM2MTYxNjEiIHNoYXBlLXJlbmRlcmluZz0iZ2VvbWV0cmljUHJlY2lzaW9uIj4KICAgIDxwYXRoIGQ9Ik01LjIsNy41TDksMTEuMmwzLjgtMy44SDUuMnoiLz4KICA8L2c+Cjwvc3ZnPgo=);
  --jp-icon-caret-left: url(data:image/svg+xml;base64,PHN2ZyB4bWxucz0iaHR0cDovL3d3dy53My5vcmcvMjAwMC9zdmciIHdpZHRoPSIxNiIgdmlld0JveD0iMCAwIDE4IDE4Ij4KCTxnIGNsYXNzPSJqcC1pY29uMyIgZmlsbD0iIzYxNjE2MSIgc2hhcGUtcmVuZGVyaW5nPSJnZW9tZXRyaWNQcmVjaXNpb24iPgoJCTxwYXRoIGQ9Ik0xMC44LDEyLjhMNy4xLDlsMy44LTMuOGwwLDcuNkgxMC44eiIvPgogIDwvZz4KPC9zdmc+Cg==);
  --jp-icon-caret-right: url(data:image/svg+xml;base64,PHN2ZyB4bWxucz0iaHR0cDovL3d3dy53My5vcmcvMjAwMC9zdmciIHdpZHRoPSIxNiIgdmlld0JveD0iMCAwIDE4IDE4Ij4KICA8ZyBjbGFzcz0ianAtaWNvbjMiIGZpbGw9IiM2MTYxNjEiIHNoYXBlLXJlbmRlcmluZz0iZ2VvbWV0cmljUHJlY2lzaW9uIj4KICAgIDxwYXRoIGQ9Ik03LjIsNS4yTDEwLjksOWwtMy44LDMuOFY1LjJINy4yeiIvPgogIDwvZz4KPC9zdmc+Cg==);
  --jp-icon-caret-up-empty-thin: url(data:image/svg+xml;base64,PHN2ZyB4bWxucz0iaHR0cDovL3d3dy53My5vcmcvMjAwMC9zdmciIHdpZHRoPSIxNiIgdmlld0JveD0iMCAwIDIwIDIwIj4KCTxnIGNsYXNzPSJqcC1pY29uMyIgZmlsbD0iIzYxNjE2MSIgc2hhcGUtcmVuZGVyaW5nPSJnZW9tZXRyaWNQcmVjaXNpb24iPgoJCTxwb2x5Z29uIGNsYXNzPSJzdDEiIHBvaW50cz0iMTUuNCwxMy4zIDkuOSw3LjcgNC40LDEzLjIgMy42LDEyLjUgOS45LDYuMyAxNi4xLDEyLjYgIi8+Cgk8L2c+Cjwvc3ZnPgo=);
  --jp-icon-caret-up: url(data:image/svg+xml;base64,PHN2ZyB4bWxucz0iaHR0cDovL3d3dy53My5vcmcvMjAwMC9zdmciIHdpZHRoPSIxNiIgdmlld0JveD0iMCAwIDE4IDE4Ij4KCTxnIGNsYXNzPSJqcC1pY29uMyIgZmlsbD0iIzYxNjE2MSIgc2hhcGUtcmVuZGVyaW5nPSJnZW9tZXRyaWNQcmVjaXNpb24iPgoJCTxwYXRoIGQ9Ik01LjIsMTAuNUw5LDYuOGwzLjgsMy44SDUuMnoiLz4KICA8L2c+Cjwvc3ZnPgo=);
  --jp-icon-case-sensitive: url(data:image/svg+xml;base64,PHN2ZyB4bWxucz0iaHR0cDovL3d3dy53My5vcmcvMjAwMC9zdmciIHdpZHRoPSIxNiIgdmlld0JveD0iMCAwIDIwIDIwIj4KICA8ZyBjbGFzcz0ianAtaWNvbjIiIGZpbGw9IiM0MTQxNDEiPgogICAgPHJlY3QgeD0iMiIgeT0iMiIgd2lkdGg9IjE2IiBoZWlnaHQ9IjE2Ii8+CiAgPC9nPgogIDxnIGNsYXNzPSJqcC1pY29uLWFjY2VudDIiIGZpbGw9IiNGRkYiPgogICAgPHBhdGggZD0iTTcuNiw4aDAuOWwzLjUsOGgtMS4xTDEwLDE0SDZsLTAuOSwySDRMNy42LDh6IE04LDkuMUw2LjQsMTNoMy4yTDgsOS4xeiIvPgogICAgPHBhdGggZD0iTTE2LjYsOS44Yy0wLjIsMC4xLTAuNCwwLjEtMC43LDAuMWMtMC4yLDAtMC40LTAuMS0wLjYtMC4yYy0wLjEtMC4xLTAuMi0wLjQtMC4yLTAuNyBjLTAuMywwLjMtMC42LDAuNS0wLjksMC43Yy0wLjMsMC4xLTAuNywwLjItMS4xLDAuMmMtMC4zLDAtMC41LDAtMC43LTAuMWMtMC4yLTAuMS0wLjQtMC4yLTAuNi0wLjNjLTAuMi0wLjEtMC4zLTAuMy0wLjQtMC41IGMtMC4xLTAuMi0wLjEtMC40LTAuMS0wLjdjMC0wLjMsMC4xLTAuNiwwLjItMC44YzAuMS0wLjIsMC4zLTAuNCwwLjQtMC41QzEyLDcsMTIuMiw2LjksMTIuNSw2LjhjMC4yLTAuMSwwLjUtMC4xLDAuNy0wLjIgYzAuMy0wLjEsMC41LTAuMSwwLjctMC4xYzAuMiwwLDAuNC0wLjEsMC42LTAuMWMwLjIsMCwwLjMtMC4xLDAuNC0wLjJjMC4xLTAuMSwwLjItMC4yLDAuMi0wLjRjMC0xLTEuMS0xLTEuMy0xIGMtMC40LDAtMS40LDAtMS40LDEuMmgtMC45YzAtMC40LDAuMS0wLjcsMC4yLTFjMC4xLTAuMiwwLjMtMC40LDAuNS0wLjZjMC4yLTAuMiwwLjUtMC4zLDAuOC0wLjNDMTMuMyw0LDEzLjYsNCwxMy45LDQgYzAuMywwLDAuNSwwLDAuOCwwLjFjMC4zLDAsMC41LDAuMSwwLjcsMC4yYzAuMiwwLjEsMC40LDAuMywwLjUsMC41QzE2LDUsMTYsNS4yLDE2LDUuNnYyLjljMCwwLjIsMCwwLjQsMCwwLjUgYzAsMC4xLDAuMSwwLjIsMC4zLDAuMmMwLjEsMCwwLjIsMCwwLjMsMFY5Ljh6IE0xNS4yLDYuOWMtMS4yLDAuNi0zLjEsMC4yLTMuMSwxLjRjMCwxLjQsMy4xLDEsMy4xLTAuNVY2Ljl6Ii8+CiAgPC9nPgo8L3N2Zz4K);
  --jp-icon-check: url(data:image/svg+xml;base64,PHN2ZyB4bWxucz0iaHR0cDovL3d3dy53My5vcmcvMjAwMC9zdmciIHdpZHRoPSIxNiIgdmlld0JveD0iMCAwIDI0IDI0Ij4KICA8ZyBjbGFzcz0ianAtaWNvbjMiIGZpbGw9IiM2MTYxNjEiPgogICAgPHBhdGggZD0iTTkgMTYuMTdMNC44MyAxMmwtMS40MiAxLjQxTDkgMTkgMjEgN2wtMS40MS0xLjQxeiIvPgogIDwvZz4KPC9zdmc+Cg==);
  --jp-icon-circle-empty: url(data:image/svg+xml;base64,PHN2ZyB4bWxucz0iaHR0cDovL3d3dy53My5vcmcvMjAwMC9zdmciIHdpZHRoPSIxNiIgdmlld0JveD0iMCAwIDI0IDI0Ij4KICA8ZyBjbGFzcz0ianAtaWNvbjMiIGZpbGw9IiM2MTYxNjEiPgogICAgPHBhdGggZD0iTTEyIDJDNi40NyAyIDIgNi40NyAyIDEyczQuNDcgMTAgMTAgMTAgMTAtNC40NyAxMC0xMFMxNy41MyAyIDEyIDJ6bTAgMThjLTQuNDEgMC04LTMuNTktOC04czMuNTktOCA4LTggOCAzLjU5IDggOC0zLjU5IDgtOCA4eiIvPgogIDwvZz4KPC9zdmc+Cg==);
  --jp-icon-circle: url(data:image/svg+xml;base64,PHN2ZyB2aWV3Qm94PSIwIDAgMTggMTgiIHdpZHRoPSIxNiIgeG1sbnM9Imh0dHA6Ly93d3cudzMub3JnLzIwMDAvc3ZnIj4KICA8ZyBjbGFzcz0ianAtaWNvbjMiIGZpbGw9IiM2MTYxNjEiPgogICAgPGNpcmNsZSBjeD0iOSIgY3k9IjkiIHI9IjgiLz4KICA8L2c+Cjwvc3ZnPgo=);
  --jp-icon-clear: url(data:image/svg+xml;base64,PHN2ZyB4bWxucz0iaHR0cDovL3d3dy53My5vcmcvMjAwMC9zdmciIHdpZHRoPSIxNiIgdmlld0JveD0iMCAwIDI0IDI0Ij4KICA8bWFzayBpZD0iZG9udXRIb2xlIj4KICAgIDxyZWN0IHdpZHRoPSIyNCIgaGVpZ2h0PSIyNCIgZmlsbD0id2hpdGUiIC8+CiAgICA8Y2lyY2xlIGN4PSIxMiIgY3k9IjEyIiByPSI4IiBmaWxsPSJibGFjayIvPgogIDwvbWFzaz4KCiAgPGcgY2xhc3M9ImpwLWljb24zIiBmaWxsPSIjNjE2MTYxIj4KICAgIDxyZWN0IGhlaWdodD0iMTgiIHdpZHRoPSIyIiB4PSIxMSIgeT0iMyIgdHJhbnNmb3JtPSJyb3RhdGUoMzE1LCAxMiwgMTIpIi8+CiAgICA8Y2lyY2xlIGN4PSIxMiIgY3k9IjEyIiByPSIxMCIgbWFzaz0idXJsKCNkb251dEhvbGUpIi8+CiAgPC9nPgo8L3N2Zz4K);
  --jp-icon-close: url(data:image/svg+xml;base64,PHN2ZyB2aWV3Qm94PSIwIDAgMjQgMjQiIHdpZHRoPSIxNiIgeG1sbnM9Imh0dHA6Ly93d3cudzMub3JnLzIwMDAvc3ZnIj4KICA8ZyBjbGFzcz0ianAtaWNvbi1ub25lIGpwLWljb24tc2VsZWN0YWJsZS1pbnZlcnNlIGpwLWljb24zLWhvdmVyIiBmaWxsPSJub25lIj4KICAgIDxjaXJjbGUgY3g9IjEyIiBjeT0iMTIiIHI9IjExIi8+CiAgPC9nPgoKICA8ZyBjbGFzcz0ianAtaWNvbjMganAtaWNvbi1zZWxlY3RhYmxlIGpwLWljb24tYWNjZW50Mi1ob3ZlciIgZmlsbD0iIzYxNjE2MSI+CiAgICA8cGF0aCBkPSJNMTkgNi40MUwxNy41OSA1IDEyIDEwLjU5IDYuNDEgNSA1IDYuNDEgMTAuNTkgMTIgNSAxNy41OSA2LjQxIDE5IDEyIDEzLjQxIDE3LjU5IDE5IDE5IDE3LjU5IDEzLjQxIDEyeiIvPgogIDwvZz4KCiAgPGcgY2xhc3M9ImpwLWljb24tbm9uZSBqcC1pY29uLWJ1c3kiIGZpbGw9Im5vbmUiPgogICAgPGNpcmNsZSBjeD0iMTIiIGN5PSIxMiIgcj0iNyIvPgogIDwvZz4KPC9zdmc+Cg==);
  --jp-icon-code: url(data:image/svg+xml;base64,PHN2ZyB3aWR0aD0iMjIiIGhlaWdodD0iMjIiIHZpZXdCb3g9IjAgMCAyOCAyOCIgeG1sbnM9Imh0dHA6Ly93d3cudzMub3JnLzIwMDAvc3ZnIj4KCTxnIGNsYXNzPSJqcC1pY29uMyIgZmlsbD0iIzYxNjE2MSI+CgkJPHBhdGggZD0iTTExLjQgMTguNkw2LjggMTRMMTEuNCA5LjRMMTAgOEw0IDE0TDEwIDIwTDExLjQgMTguNlpNMTYuNiAxOC42TDIxLjIgMTRMMTYuNiA5LjRMMTggOEwyNCAxNEwxOCAyMEwxNi42IDE4LjZWMTguNloiLz4KCTwvZz4KPC9zdmc+Cg==);
  --jp-icon-console: url(data:image/svg+xml;base64,PHN2ZyB4bWxucz0iaHR0cDovL3d3dy53My5vcmcvMjAwMC9zdmciIHdpZHRoPSIxNiIgdmlld0JveD0iMCAwIDIwMCAyMDAiPgogIDxnIGNsYXNzPSJqcC1pY29uLWJyYW5kMSBqcC1pY29uLXNlbGVjdGFibGUiIGZpbGw9IiMwMjg4RDEiPgogICAgPHBhdGggZD0iTTIwIDE5LjhoMTYwdjE1OS45SDIweiIvPgogIDwvZz4KICA8ZyBjbGFzcz0ianAtaWNvbi1zZWxlY3RhYmxlLWludmVyc2UiIGZpbGw9IiNmZmYiPgogICAgPHBhdGggZD0iTTEwNSAxMjcuM2g0MHYxMi44aC00MHpNNTEuMSA3N0w3NCA5OS45bC0yMy4zIDIzLjMgMTAuNSAxMC41IDIzLjMtMjMuM0w5NSA5OS45IDg0LjUgODkuNCA2MS42IDY2LjV6Ii8+CiAgPC9nPgo8L3N2Zz4K);
  --jp-icon-copy: url(data:image/svg+xml;base64,PHN2ZyB2aWV3Qm94PSIwIDAgMTggMTgiIHdpZHRoPSIxNiIgeG1sbnM9Imh0dHA6Ly93d3cudzMub3JnLzIwMDAvc3ZnIj4KICA8ZyBjbGFzcz0ianAtaWNvbjMiIGZpbGw9IiM2MTYxNjEiPgogICAgPHBhdGggZD0iTTExLjksMUgzLjJDMi40LDEsMS43LDEuNywxLjcsMi41djEwLjJoMS41VjIuNWg4LjdWMXogTTE0LjEsMy45aC04Yy0wLjgsMC0xLjUsMC43LTEuNSwxLjV2MTAuMmMwLDAuOCwwLjcsMS41LDEuNSwxLjVoOCBjMC44LDAsMS41LTAuNywxLjUtMS41VjUuNEMxNS41LDQuNiwxNC45LDMuOSwxNC4xLDMuOXogTTE0LjEsMTUuNWgtOFY1LjRoOFYxNS41eiIvPgogIDwvZz4KPC9zdmc+Cg==);
  --jp-icon-cut: url(data:image/svg+xml;base64,PHN2ZyB2aWV3Qm94PSIwIDAgMjQgMjQiIHdpZHRoPSIxNiIgeG1sbnM9Imh0dHA6Ly93d3cudzMub3JnLzIwMDAvc3ZnIj4KICA8ZyBjbGFzcz0ianAtaWNvbjMiIGZpbGw9IiM2MTYxNjEiPgogICAgPHBhdGggZD0iTTkuNjQgNy42NGMuMjMtLjUuMzYtMS4wNS4zNi0xLjY0IDAtMi4yMS0xLjc5LTQtNC00UzIgMy43OSAyIDZzMS43OSA0IDQgNGMuNTkgMCAxLjE0LS4xMyAxLjY0LS4zNkwxMCAxMmwtMi4zNiAyLjM2QzcuMTQgMTQuMTMgNi41OSAxNCA2IDE0Yy0yLjIxIDAtNCAxLjc5LTQgNHMxLjc5IDQgNCA0IDQtMS43OSA0LTRjMC0uNTktLjEzLTEuMTQtLjM2LTEuNjRMMTIgMTRsNyA3aDN2LTFMOS42NCA3LjY0ek02IDhjLTEuMSAwLTItLjg5LTItMnMuOS0yIDItMiAyIC44OSAyIDItLjkgMi0yIDJ6bTAgMTJjLTEuMSAwLTItLjg5LTItMnMuOS0yIDItMiAyIC44OSAyIDItLjkgMi0yIDJ6bTYtNy41Yy0uMjggMC0uNS0uMjItLjUtLjVzLjIyLS41LjUtLjUuNS4yMi41LjUtLjIyLjUtLjUuNXpNMTkgM2wtNiA2IDIgMiA3LTdWM3oiLz4KICA8L2c+Cjwvc3ZnPgo=);
  --jp-icon-download: url(data:image/svg+xml;base64,PHN2ZyB2aWV3Qm94PSIwIDAgMjQgMjQiIHdpZHRoPSIxNiIgeG1sbnM9Imh0dHA6Ly93d3cudzMub3JnLzIwMDAvc3ZnIj4KICA8ZyBjbGFzcz0ianAtaWNvbjMiIGZpbGw9IiM2MTYxNjEiPgogICAgPHBhdGggZD0iTTE5IDloLTRWM0g5djZINWw3IDcgNy03ek01IDE4djJoMTR2LTJINXoiLz4KICA8L2c+Cjwvc3ZnPgo=);
  --jp-icon-edit: url(data:image/svg+xml;base64,PHN2ZyB2aWV3Qm94PSIwIDAgMjQgMjQiIHdpZHRoPSIxNiIgeG1sbnM9Imh0dHA6Ly93d3cudzMub3JnLzIwMDAvc3ZnIj4KICA8ZyBjbGFzcz0ianAtaWNvbjMiIGZpbGw9IiM2MTYxNjEiPgogICAgPHBhdGggZD0iTTMgMTcuMjVWMjFoMy43NUwxNy44MSA5Ljk0bC0zLjc1LTMuNzVMMyAxNy4yNXpNMjAuNzEgNy4wNGMuMzktLjM5LjM5LTEuMDIgMC0xLjQxbC0yLjM0LTIuMzRjLS4zOS0uMzktMS4wMi0uMzktMS40MSAwbC0xLjgzIDEuODMgMy43NSAzLjc1IDEuODMtMS44M3oiLz4KICA8L2c+Cjwvc3ZnPgo=);
  --jp-icon-ellipses: url(data:image/svg+xml;base64,PHN2ZyB2aWV3Qm94PSIwIDAgMjQgMjQiIHdpZHRoPSIxNiIgeG1sbnM9Imh0dHA6Ly93d3cudzMub3JnLzIwMDAvc3ZnIj4KICA8ZyBjbGFzcz0ianAtaWNvbjMiIGZpbGw9IiM2MTYxNjEiPgogICAgPGNpcmNsZSBjeD0iNSIgY3k9IjEyIiByPSIyIi8+CiAgICA8Y2lyY2xlIGN4PSIxMiIgY3k9IjEyIiByPSIyIi8+CiAgICA8Y2lyY2xlIGN4PSIxOSIgY3k9IjEyIiByPSIyIi8+CiAgPC9nPgo8L3N2Zz4K);
  --jp-icon-extension: url(data:image/svg+xml;base64,PHN2ZyB4bWxucz0iaHR0cDovL3d3dy53My5vcmcvMjAwMC9zdmciIHdpZHRoPSIxNiIgdmlld0JveD0iMCAwIDI0IDI0Ij4KICA8ZyBjbGFzcz0ianAtaWNvbjMiIGZpbGw9IiM2MTYxNjEiPgogICAgPHBhdGggZD0iTTIwLjUgMTFIMTlWN2MwLTEuMS0uOS0yLTItMmgtNFYzLjVDMTMgMi4xMiAxMS44OCAxIDEwLjUgMVM4IDIuMTIgOCAzLjVWNUg0Yy0xLjEgMC0xLjk5LjktMS45OSAydjMuOEgzLjVjMS40OSAwIDIuNyAxLjIxIDIuNyAyLjdzLTEuMjEgMi43LTIuNyAyLjdIMlYyMGMwIDEuMS45IDIgMiAyaDMuOHYtMS41YzAtMS40OSAxLjIxLTIuNyAyLjctMi43IDEuNDkgMCAyLjcgMS4yMSAyLjcgMi43VjIySDE3YzEuMSAwIDItLjkgMi0ydi00aDEuNWMxLjM4IDAgMi41LTEuMTIgMi41LTIuNVMyMS44OCAxMSAyMC41IDExeiIvPgogIDwvZz4KPC9zdmc+Cg==);
  --jp-icon-fast-forward: url(data:image/svg+xml;base64,PHN2ZyB4bWxucz0iaHR0cDovL3d3dy53My5vcmcvMjAwMC9zdmciIHdpZHRoPSIyNCIgaGVpZ2h0PSIyNCIgdmlld0JveD0iMCAwIDI0IDI0Ij4KICAgIDxnIGNsYXNzPSJqcC1pY29uMyIgZmlsbD0iIzYxNjE2MSI+CiAgICAgICAgPHBhdGggZD0iTTQgMThsOC41LTZMNCA2djEyem05LTEydjEybDguNS02TDEzIDZ6Ii8+CiAgICA8L2c+Cjwvc3ZnPgo=);
  --jp-icon-file-upload: url(data:image/svg+xml;base64,PHN2ZyB4bWxucz0iaHR0cDovL3d3dy53My5vcmcvMjAwMC9zdmciIHdpZHRoPSIxNiIgdmlld0JveD0iMCAwIDI0IDI0Ij4KICA8ZyBjbGFzcz0ianAtaWNvbjMiIGZpbGw9IiM2MTYxNjEiPgogICAgPHBhdGggZD0iTTkgMTZoNnYtNmg0bC03LTctNyA3aDR6bS00IDJoMTR2Mkg1eiIvPgogIDwvZz4KPC9zdmc+Cg==);
  --jp-icon-file: url(data:image/svg+xml;base64,PHN2ZyB4bWxucz0iaHR0cDovL3d3dy53My5vcmcvMjAwMC9zdmciIHdpZHRoPSIxNiIgdmlld0JveD0iMCAwIDIyIDIyIj4KICA8cGF0aCBjbGFzcz0ianAtaWNvbjMganAtaWNvbi1zZWxlY3RhYmxlIiBmaWxsPSIjNjE2MTYxIiBkPSJNMTkuMyA4LjJsLTUuNS01LjVjLS4zLS4zLS43LS41LTEuMi0uNUgzLjljLS44LjEtMS42LjktMS42IDEuOHYxNC4xYzAgLjkuNyAxLjYgMS42IDEuNmgxNC4yYy45IDAgMS42LS43IDEuNi0xLjZWOS40Yy4xLS41LS4xLS45LS40LTEuMnptLTUuOC0zLjNsMy40IDMuNmgtMy40VjQuOXptMy45IDEyLjdINC43Yy0uMSAwLS4yIDAtLjItLjJWNC43YzAtLjIuMS0uMy4yLS4zaDcuMnY0LjRzMCAuOC4zIDEuMWMuMy4zIDEuMS4zIDEuMS4zaDQuM3Y3LjJzLS4xLjItLjIuMnoiLz4KPC9zdmc+Cg==);
  --jp-icon-filter-list: url(data:image/svg+xml;base64,PHN2ZyB4bWxucz0iaHR0cDovL3d3dy53My5vcmcvMjAwMC9zdmciIHdpZHRoPSIxNiIgdmlld0JveD0iMCAwIDI0IDI0Ij4KICA8ZyBjbGFzcz0ianAtaWNvbjMiIGZpbGw9IiM2MTYxNjEiPgogICAgPHBhdGggZD0iTTEwIDE4aDR2LTJoLTR2MnpNMyA2djJoMThWNkgzem0zIDdoMTJ2LTJINnYyeiIvPgogIDwvZz4KPC9zdmc+Cg==);
  --jp-icon-folder: url(data:image/svg+xml;base64,PHN2ZyB4bWxucz0iaHR0cDovL3d3dy53My5vcmcvMjAwMC9zdmciIHdpZHRoPSIxNiIgdmlld0JveD0iMCAwIDI0IDI0Ij4KICA8cGF0aCBjbGFzcz0ianAtaWNvbjMganAtaWNvbi1zZWxlY3RhYmxlIiBmaWxsPSIjNjE2MTYxIiBkPSJNMTAgNEg0Yy0xLjEgMC0xLjk5LjktMS45OSAyTDIgMThjMCAxLjEuOSAyIDIgMmgxNmMxLjEgMCAyLS45IDItMlY4YzAtMS4xLS45LTItMi0yaC04bC0yLTJ6Ii8+Cjwvc3ZnPgo=);
  --jp-icon-html5: url(data:image/svg+xml;base64,PHN2ZyB4bWxucz0iaHR0cDovL3d3dy53My5vcmcvMjAwMC9zdmciIHdpZHRoPSIxNiIgdmlld0JveD0iMCAwIDUxMiA1MTIiPgogIDxwYXRoIGNsYXNzPSJqcC1pY29uMCBqcC1pY29uLXNlbGVjdGFibGUiIGZpbGw9IiMwMDAiIGQ9Ik0xMDguNCAwaDIzdjIyLjhoMjEuMlYwaDIzdjY5aC0yM1Y0NmgtMjF2MjNoLTIzLjJNMjA2IDIzaC0yMC4zVjBoNjMuN3YyM0gyMjl2NDZoLTIzbTUzLjUtNjloMjQuMWwxNC44IDI0LjNMMzEzLjIgMGgyNC4xdjY5aC0yM1YzNC44bC0xNi4xIDI0LjgtMTYuMS0yNC44VjY5aC0yMi42bTg5LjItNjloMjN2NDYuMmgzMi42VjY5aC01NS42Ii8+CiAgPHBhdGggY2xhc3M9ImpwLWljb24tc2VsZWN0YWJsZSIgZmlsbD0iI2U0NGQyNiIgZD0iTTEwNy42IDQ3MWwtMzMtMzcwLjRoMzYyLjhsLTMzIDM3MC4yTDI1NS43IDUxMiIvPgogIDxwYXRoIGNsYXNzPSJqcC1pY29uLXNlbGVjdGFibGUiIGZpbGw9IiNmMTY1MjkiIGQ9Ik0yNTYgNDgwLjVWMTMxaDE0OC4zTDM3NiA0NDciLz4KICA8cGF0aCBjbGFzcz0ianAtaWNvbi1zZWxlY3RhYmxlLWludmVyc2UiIGZpbGw9IiNlYmViZWIiIGQ9Ik0xNDIgMTc2LjNoMTE0djQ1LjRoLTY0LjJsNC4yIDQ2LjVoNjB2NDUuM0gxNTQuNG0yIDIyLjhIMjAybDMuMiAzNi4zIDUwLjggMTMuNnY0Ny40bC05My4yLTI2Ii8+CiAgPHBhdGggY2xhc3M9ImpwLWljb24tc2VsZWN0YWJsZS1pbnZlcnNlIiBmaWxsPSIjZmZmIiBkPSJNMzY5LjYgMTc2LjNIMjU1Ljh2NDUuNGgxMDkuNm0tNC4xIDQ2LjVIMjU1Ljh2NDUuNGg1NmwtNS4zIDU5LTUwLjcgMTMuNnY0Ny4ybDkzLTI1LjgiLz4KPC9zdmc+Cg==);
  --jp-icon-image: url(data:image/svg+xml;base64,PHN2ZyB4bWxucz0iaHR0cDovL3d3dy53My5vcmcvMjAwMC9zdmciIHdpZHRoPSIxNiIgdmlld0JveD0iMCAwIDIyIDIyIj4KICA8cGF0aCBjbGFzcz0ianAtaWNvbi1icmFuZDQganAtaWNvbi1zZWxlY3RhYmxlLWludmVyc2UiIGZpbGw9IiNGRkYiIGQ9Ik0yLjIgMi4yaDE3LjV2MTcuNUgyLjJ6Ii8+CiAgPHBhdGggY2xhc3M9ImpwLWljb24tYnJhbmQwIGpwLWljb24tc2VsZWN0YWJsZSIgZmlsbD0iIzNGNTFCNSIgZD0iTTIuMiAyLjJ2MTcuNWgxNy41bC4xLTE3LjVIMi4yem0xMi4xIDIuMmMxLjIgMCAyLjIgMSAyLjIgMi4ycy0xIDIuMi0yLjIgMi4yLTIuMi0xLTIuMi0yLjIgMS0yLjIgMi4yLTIuMnpNNC40IDE3LjZsMy4zLTguOCAzLjMgNi42IDIuMi0zLjIgNC40IDUuNEg0LjR6Ii8+Cjwvc3ZnPgo=);
  --jp-icon-inspector: url(data:image/svg+xml;base64,PHN2ZyB4bWxucz0iaHR0cDovL3d3dy53My5vcmcvMjAwMC9zdmciIHdpZHRoPSIxNiIgdmlld0JveD0iMCAwIDI0IDI0Ij4KICA8cGF0aCBjbGFzcz0ianAtaWNvbjMganAtaWNvbi1zZWxlY3RhYmxlIiBmaWxsPSIjNjE2MTYxIiBkPSJNMjAgNEg0Yy0xLjEgMC0xLjk5LjktMS45OSAyTDIgMThjMCAxLjEuOSAyIDIgMmgxNmMxLjEgMCAyLS45IDItMlY2YzAtMS4xLS45LTItMi0yem0tNSAxNEg0di00aDExdjR6bTAtNUg0VjloMTF2NHptNSA1aC00VjloNHY5eiIvPgo8L3N2Zz4K);
  --jp-icon-json: url(data:image/svg+xml;base64,PHN2ZyB4bWxucz0iaHR0cDovL3d3dy53My5vcmcvMjAwMC9zdmciIHdpZHRoPSIxNiIgdmlld0JveD0iMCAwIDIyIDIyIj4KICA8ZyBjbGFzcz0ianAtaWNvbi13YXJuMSBqcC1pY29uLXNlbGVjdGFibGUiIGZpbGw9IiNGOUE4MjUiPgogICAgPHBhdGggZD0iTTIwLjIgMTEuOGMtMS42IDAtMS43LjUtMS43IDEgMCAuNC4xLjkuMSAxLjMuMS41LjEuOS4xIDEuMyAwIDEuNy0xLjQgMi4zLTMuNSAyLjNoLS45di0xLjloLjVjMS4xIDAgMS40IDAgMS40LS44IDAtLjMgMC0uNi0uMS0xIDAtLjQtLjEtLjgtLjEtMS4yIDAtMS4zIDAtMS44IDEuMy0yLTEuMy0uMi0xLjMtLjctMS4zLTIgMC0uNC4xLS44LjEtMS4yLjEtLjQuMS0uNy4xLTEgMC0uOC0uNC0uNy0xLjQtLjhoLS41VjQuMWguOWMyLjIgMCAzLjUuNyAzLjUgMi4zIDAgLjQtLjEuOS0uMSAxLjMtLjEuNS0uMS45LS4xIDEuMyAwIC41LjIgMSAxLjcgMXYxLjh6TTEuOCAxMC4xYzEuNiAwIDEuNy0uNSAxLjctMSAwLS40LS4xLS45LS4xLTEuMy0uMS0uNS0uMS0uOS0uMS0xLjMgMC0xLjYgMS40LTIuMyAzLjUtMi4zaC45djEuOWgtLjVjLTEgMC0xLjQgMC0xLjQuOCAwIC4zIDAgLjYuMSAxIDAgLjIuMS42LjEgMSAwIDEuMyAwIDEuOC0xLjMgMkM2IDExLjIgNiAxMS43IDYgMTNjMCAuNC0uMS44LS4xIDEuMi0uMS4zLS4xLjctLjEgMSAwIC44LjMuOCAxLjQuOGguNXYxLjloLS45Yy0yLjEgMC0zLjUtLjYtMy41LTIuMyAwLS40LjEtLjkuMS0xLjMuMS0uNS4xLS45LjEtMS4zIDAtLjUtLjItMS0xLjctMXYtMS45eiIvPgogICAgPGNpcmNsZSBjeD0iMTEiIGN5PSIxMy44IiByPSIyLjEiLz4KICAgIDxjaXJjbGUgY3g9IjExIiBjeT0iOC4yIiByPSIyLjEiLz4KICA8L2c+Cjwvc3ZnPgo=);
  --jp-icon-jupyter-favicon: url(data:image/svg+xml;base64,PHN2ZyB3aWR0aD0iMTUyIiBoZWlnaHQ9IjE2NSIgdmlld0JveD0iMCAwIDE1MiAxNjUiIHZlcnNpb249IjEuMSIgeG1sbnM9Imh0dHA6Ly93d3cudzMub3JnLzIwMDAvc3ZnIj4KICA8ZyBjbGFzcz0ianAtaWNvbi13YXJuMCIgZmlsbD0iI0YzNzcyNiI+CiAgICA8cGF0aCB0cmFuc2Zvcm09InRyYW5zbGF0ZSgwLjA3ODk0NywgMTEwLjU4MjkyNykiIGQ9Ik03NS45NDIyODQyLDI5LjU4MDQ1NjEgQzQzLjMwMjM5NDcsMjkuNTgwNDU2MSAxNC43OTY3ODMyLDE3LjY1MzQ2MzQgMCwwIEM1LjUxMDgzMjExLDE1Ljg0MDY4MjkgMTUuNzgxNTM4OSwyOS41NjY3NzMyIDI5LjM5MDQ5NDcsMzkuMjc4NDE3MSBDNDIuOTk5Nyw0OC45ODk4NTM3IDU5LjI3MzcsNTQuMjA2NzgwNSA3NS45NjA1Nzg5LDU0LjIwNjc4MDUgQzkyLjY0NzQ1NzksNTQuMjA2NzgwNSAxMDguOTIxNDU4LDQ4Ljk4OTg1MzcgMTIyLjUzMDY2MywzOS4yNzg0MTcxIEMxMzYuMTM5NDUzLDI5LjU2Njc3MzIgMTQ2LjQxMDI4NCwxNS44NDA2ODI5IDE1MS45MjExNTgsMCBDMTM3LjA4Nzg2OCwxNy42NTM0NjM0IDEwOC41ODI1ODksMjkuNTgwNDU2MSA3NS45NDIyODQyLDI5LjU4MDQ1NjEgTDc1Ljk0MjI4NDIsMjkuNTgwNDU2MSBaIiAvPgogICAgPHBhdGggdHJhbnNmb3JtPSJ0cmFuc2xhdGUoMC4wMzczNjgsIDAuNzA0ODc4KSIgZD0iTTc1Ljk3ODQ1NzksMjQuNjI2NDA3MyBDMTA4LjYxODc2MywyNC42MjY0MDczIDEzNy4xMjQ0NTgsMzYuNTUzNDQxNSAxNTEuOTIxMTU4LDU0LjIwNjc4MDUgQzE0Ni40MTAyODQsMzguMzY2MjIyIDEzNi4xMzk0NTMsMjQuNjQwMTMxNyAxMjIuNTMwNjYzLDE0LjkyODQ4NzggQzEwOC45MjE0NTgsNS4yMTY4NDM5IDkyLjY0NzQ1NzksMCA3NS45NjA1Nzg5LDAgQzU5LjI3MzcsMCA0Mi45OTk3LDUuMjE2ODQzOSAyOS4zOTA0OTQ3LDE0LjkyODQ4NzggQzE1Ljc4MTUzODksMjQuNjQwMTMxNyA1LjUxMDgzMjExLDM4LjM2NjIyMiAwLDU0LjIwNjc4MDUgQzE0LjgzMzA4MTYsMzYuNTg5OTI5MyA0My4zMzg1Njg0LDI0LjYyNjQwNzMgNzUuOTc4NDU3OSwyNC42MjY0MDczIEw3NS45Nzg0NTc5LDI0LjYyNjQwNzMgWiIgLz4KICA8L2c+Cjwvc3ZnPgo=);
  --jp-icon-jupyter: url(data:image/svg+xml;base64,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);
  --jp-icon-jupyterlab-wordmark: url(data:image/svg+xml;base64,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);
  --jp-icon-kernel: url(data:image/svg+xml;base64,PHN2ZyB4bWxucz0iaHR0cDovL3d3dy53My5vcmcvMjAwMC9zdmciIHdpZHRoPSIxNiIgdmlld0JveD0iMCAwIDI0IDI0Ij4KICAgIDxwYXRoIGNsYXNzPSJqcC1pY29uMiIgZmlsbD0iIzYxNjE2MSIgZD0iTTE1IDlIOXY2aDZWOXptLTIgNGgtMnYtMmgydjJ6bTgtMlY5aC0yVjdjMC0xLjEtLjktMi0yLTJoLTJWM2gtMnYyaC0yVjNIOXYySDdjLTEuMSAwLTIgLjktMiAydjJIM3YyaDJ2MkgzdjJoMnYyYzAgMS4xLjkgMiAyIDJoMnYyaDJ2LTJoMnYyaDJ2LTJoMmMxLjEgMCAyLS45IDItMnYtMmgydi0yaC0ydi0yaDJ6bS00IDZIN1Y3aDEwdjEweiIvPgo8L3N2Zz4K);
  --jp-icon-keyboard: url(data:image/svg+xml;base64,PHN2ZyB4bWxucz0iaHR0cDovL3d3dy53My5vcmcvMjAwMC9zdmciIHdpZHRoPSIxNiIgdmlld0JveD0iMCAwIDI0IDI0Ij4KICA8cGF0aCBjbGFzcz0ianAtaWNvbjMganAtaWNvbi1zZWxlY3RhYmxlIiBmaWxsPSIjNjE2MTYxIiBkPSJNMjAgNUg0Yy0xLjEgMC0xLjk5LjktMS45OSAyTDIgMTdjMCAxLjEuOSAyIDIgMmgxNmMxLjEgMCAyLS45IDItMlY3YzAtMS4xLS45LTItMi0yem0tOSAzaDJ2MmgtMlY4em0wIDNoMnYyaC0ydi0yek04IDhoMnYySDhWOHptMCAzaDJ2Mkg4di0yem0tMSAySDV2LTJoMnYyem0wLTNINVY4aDJ2MnptOSA3SDh2LTJoOHYyem0wLTRoLTJ2LTJoMnYyem0wLTNoLTJWOGgydjJ6bTMgM2gtMnYtMmgydjJ6bTAtM2gtMlY4aDJ2MnoiLz4KPC9zdmc+Cg==);
  --jp-icon-launcher: url(data:image/svg+xml;base64,PHN2ZyB4bWxucz0iaHR0cDovL3d3dy53My5vcmcvMjAwMC9zdmciIHdpZHRoPSIxNiIgdmlld0JveD0iMCAwIDI0IDI0Ij4KICA8cGF0aCBjbGFzcz0ianAtaWNvbjMganAtaWNvbi1zZWxlY3RhYmxlIiBmaWxsPSIjNjE2MTYxIiBkPSJNMTkgMTlINVY1aDdWM0g1YTIgMiAwIDAwLTIgMnYxNGEyIDIgMCAwMDIgMmgxNGMxLjEgMCAyLS45IDItMnYtN2gtMnY3ek0xNCAzdjJoMy41OWwtOS44MyA5LjgzIDEuNDEgMS40MUwxOSA2LjQxVjEwaDJWM2gtN3oiLz4KPC9zdmc+Cg==);
  --jp-icon-line-form: url(data:image/svg+xml;base64,PHN2ZyB4bWxucz0iaHR0cDovL3d3dy53My5vcmcvMjAwMC9zdmciIHdpZHRoPSIxNiIgdmlld0JveD0iMCAwIDI0IDI0Ij4KICAgIDxwYXRoIGZpbGw9IndoaXRlIiBkPSJNNS44OCA0LjEyTDEzLjc2IDEybC03Ljg4IDcuODhMOCAyMmwxMC0xMEw4IDJ6Ii8+Cjwvc3ZnPgo=);
  --jp-icon-link: url(data:image/svg+xml;base64,PHN2ZyB2aWV3Qm94PSIwIDAgMjQgMjQiIHdpZHRoPSIxNiIgeG1sbnM9Imh0dHA6Ly93d3cudzMub3JnLzIwMDAvc3ZnIj4KICA8ZyBjbGFzcz0ianAtaWNvbjMiIGZpbGw9IiM2MTYxNjEiPgogICAgPHBhdGggZD0iTTMuOSAxMmMwLTEuNzEgMS4zOS0zLjEgMy4xLTMuMWg0VjdIN2MtMi43NiAwLTUgMi4yNC01IDVzMi4yNCA1IDUgNWg0di0xLjlIN2MtMS43MSAwLTMuMS0xLjM5LTMuMS0zLjF6TTggMTNoOHYtMkg4djJ6bTktNmgtNHYxLjloNGMxLjcxIDAgMy4xIDEuMzkgMy4xIDMuMXMtMS4zOSAzLjEtMy4xIDMuMWgtNFYxN2g0YzIuNzYgMCA1LTIuMjQgNS01cy0yLjI0LTUtNS01eiIvPgogIDwvZz4KPC9zdmc+Cg==);
  --jp-icon-list: url(data:image/svg+xml;base64,PHN2ZyB4bWxucz0iaHR0cDovL3d3dy53My5vcmcvMjAwMC9zdmciIHdpZHRoPSIxNiIgdmlld0JveD0iMCAwIDI0IDI0Ij4KICAgIDxwYXRoIGNsYXNzPSJqcC1pY29uMiBqcC1pY29uLXNlbGVjdGFibGUiIGZpbGw9IiM2MTYxNjEiIGQ9Ik0xOSA1djE0SDVWNWgxNG0xLjEtMkgzLjljLS41IDAtLjkuNC0uOS45djE2LjJjMCAuNC40LjkuOS45aDE2LjJjLjQgMCAuOS0uNS45LS45VjMuOWMwLS41LS41LS45LS45LS45ek0xMSA3aDZ2MmgtNlY3em0wIDRoNnYyaC02di0yem0wIDRoNnYyaC02ek03IDdoMnYySDd6bTAgNGgydjJIN3ptMCA0aDJ2Mkg3eiIvPgo8L3N2Zz4=);
  --jp-icon-listings-info: url(data:image/svg+xml;base64,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);
  --jp-icon-markdown: url(data:image/svg+xml;base64,PHN2ZyB4bWxucz0iaHR0cDovL3d3dy53My5vcmcvMjAwMC9zdmciIHdpZHRoPSIxNiIgdmlld0JveD0iMCAwIDIyIDIyIj4KICA8cGF0aCBjbGFzcz0ianAtaWNvbi1jb250cmFzdDAganAtaWNvbi1zZWxlY3RhYmxlIiBmaWxsPSIjN0IxRkEyIiBkPSJNNSAxNC45aDEybC02LjEgNnptOS40LTYuOGMwLTEuMy0uMS0yLjktLjEtNC41LS40IDEuNC0uOSAyLjktMS4zIDQuM2wtMS4zIDQuM2gtMkw4LjUgNy45Yy0uNC0xLjMtLjctMi45LTEtNC4zLS4xIDEuNi0uMSAzLjItLjIgNC42TDcgMTIuNEg0LjhsLjctMTFoMy4zTDEwIDVjLjQgMS4yLjcgMi43IDEgMy45LjMtMS4yLjctMi42IDEtMy45bDEuMi0zLjdoMy4zbC42IDExaC0yLjRsLS4zLTQuMnoiLz4KPC9zdmc+Cg==);
  --jp-icon-new-folder: url(data:image/svg+xml;base64,PHN2ZyB4bWxucz0iaHR0cDovL3d3dy53My5vcmcvMjAwMC9zdmciIHdpZHRoPSIxNiIgdmlld0JveD0iMCAwIDI0IDI0Ij4KICA8ZyBjbGFzcz0ianAtaWNvbjMiIGZpbGw9IiM2MTYxNjEiPgogICAgPHBhdGggZD0iTTIwIDZoLThsLTItMkg0Yy0xLjExIDAtMS45OS44OS0xLjk5IDJMMiAxOGMwIDEuMTEuODkgMiAyIDJoMTZjMS4xMSAwIDItLjg5IDItMlY4YzAtMS4xMS0uODktMi0yLTJ6bS0xIDhoLTN2M2gtMnYtM2gtM3YtMmgzVjloMnYzaDN2MnoiLz4KICA8L2c+Cjwvc3ZnPgo=);
  --jp-icon-not-trusted: url(data:image/svg+xml;base64,PHN2ZyBmaWxsPSJub25lIiB4bWxucz0iaHR0cDovL3d3dy53My5vcmcvMjAwMC9zdmciIHdpZHRoPSIxNiIgdmlld0JveD0iMCAwIDI1IDI1Ij4KICAgIDxwYXRoIGNsYXNzPSJqcC1pY29uMiIgc3Ryb2tlPSIjMzMzMzMzIiBzdHJva2Utd2lkdGg9IjIiIHRyYW5zZm9ybT0idHJhbnNsYXRlKDMgMykiIGQ9Ik0xLjg2MDk0IDExLjQ0MDlDMC44MjY0NDggOC43NzAyNyAwLjg2Mzc3OSA2LjA1NzY0IDEuMjQ5MDcgNC4xOTkzMkMyLjQ4MjA2IDMuOTMzNDcgNC4wODA2OCAzLjQwMzQ3IDUuNjAxMDIgMi44NDQ5QzcuMjM1NDkgMi4yNDQ0IDguODU2NjYgMS41ODE1IDkuOTg3NiAxLjA5NTM5QzExLjA1OTcgMS41ODM0MSAxMi42MDk0IDIuMjQ0NCAxNC4yMTggMi44NDMzOUMxNS43NTAzIDMuNDEzOTQgMTcuMzk5NSAzLjk1MjU4IDE4Ljc1MzkgNC4yMTM4NUMxOS4xMzY0IDYuMDcxNzcgMTkuMTcwOSA4Ljc3NzIyIDE4LjEzOSAxMS40NDA5QzE3LjAzMDMgMTQuMzAzMiAxNC42NjY4IDE3LjE4NDQgOS45OTk5OSAxOC45MzU0QzUuMzMzMTkgMTcuMTg0NCAyLjk2OTY4IDE0LjMwMzIgMS44NjA5NCAxMS40NDA5WiIvPgogICAgPHBhdGggY2xhc3M9ImpwLWljb24yIiBzdHJva2U9IiMzMzMzMzMiIHN0cm9rZS13aWR0aD0iMiIgdHJhbnNmb3JtPSJ0cmFuc2xhdGUoOS4zMTU5MiA5LjMyMDMxKSIgZD0iTTcuMzY4NDIgMEwwIDcuMzY0NzkiLz4KICAgIDxwYXRoIGNsYXNzPSJqcC1pY29uMiIgc3Ryb2tlPSIjMzMzMzMzIiBzdHJva2Utd2lkdGg9IjIiIHRyYW5zZm9ybT0idHJhbnNsYXRlKDkuMzE1OTIgMTYuNjgzNikgc2NhbGUoMSAtMSkiIGQ9Ik03LjM2ODQyIDBMMCA3LjM2NDc5Ii8+Cjwvc3ZnPgo=);
  --jp-icon-notebook: url(data:image/svg+xml;base64,PHN2ZyB4bWxucz0iaHR0cDovL3d3dy53My5vcmcvMjAwMC9zdmciIHdpZHRoPSIxNiIgdmlld0JveD0iMCAwIDIyIDIyIj4KICA8ZyBjbGFzcz0ianAtaWNvbi13YXJuMCBqcC1pY29uLXNlbGVjdGFibGUiIGZpbGw9IiNFRjZDMDAiPgogICAgPHBhdGggZD0iTTE4LjcgMy4zdjE1LjRIMy4zVjMuM2gxNS40bTEuNS0xLjVIMS44djE4LjNoMTguM2wuMS0xOC4zeiIvPgogICAgPHBhdGggZD0iTTE2LjUgMTYuNWwtNS40LTQuMy01LjYgNC4zdi0xMWgxMXoiLz4KICA8L2c+Cjwvc3ZnPgo=);
  --jp-icon-numbering: url(data:image/svg+xml;base64,PHN2ZyB3aWR0aD0iMjIiIGhlaWdodD0iMjIiIHZpZXdCb3g9IjAgMCAyOCAyOCIgeG1sbnM9Imh0dHA6Ly93d3cudzMub3JnLzIwMDAvc3ZnIj4KCTxnIGNsYXNzPSJqcC1pY29uMyIgZmlsbD0iIzYxNjE2MSI+CgkJPHBhdGggZD0iTTQgMTlINlYxOS41SDVWMjAuNUg2VjIxSDRWMjJIN1YxOEg0VjE5Wk01IDEwSDZWNkg0VjdINVYxMFpNNCAxM0g1LjhMNCAxNS4xVjE2SDdWMTVINS4yTDcgMTIuOVYxMkg0VjEzWk05IDdWOUgyM1Y3SDlaTTkgMjFIMjNWMTlIOVYyMVpNOSAxNUgyM1YxM0g5VjE1WiIvPgoJPC9nPgo8L3N2Zz4K);
  --jp-icon-offline-bolt: url(data:image/svg+xml;base64,PHN2ZyB4bWxucz0iaHR0cDovL3d3dy53My5vcmcvMjAwMC9zdmciIHZpZXdCb3g9IjAgMCAyNCAyNCIgd2lkdGg9IjE2Ij4KICA8ZyBjbGFzcz0ianAtaWNvbjMiIGZpbGw9IiM2MTYxNjEiPgogICAgPHBhdGggZD0iTTEyIDIuMDJjLTUuNTEgMC05Ljk4IDQuNDctOS45OCA5Ljk4czQuNDcgOS45OCA5Ljk4IDkuOTggOS45OC00LjQ3IDkuOTgtOS45OFMxNy41MSAyLjAyIDEyIDIuMDJ6TTExLjQ4IDIwdi02LjI2SDhMMTMgNHY2LjI2aDMuMzVMMTEuNDggMjB6Ii8+CiAgPC9nPgo8L3N2Zz4K);
  --jp-icon-palette: url(data:image/svg+xml;base64,PHN2ZyB4bWxucz0iaHR0cDovL3d3dy53My5vcmcvMjAwMC9zdmciIHdpZHRoPSIxNiIgdmlld0JveD0iMCAwIDI0IDI0Ij4KICA8ZyBjbGFzcz0ianAtaWNvbjMiIGZpbGw9IiM2MTYxNjEiPgogICAgPHBhdGggZD0iTTE4IDEzVjIwSDRWNkg5LjAyQzkuMDcgNS4yOSA5LjI0IDQuNjIgOS41IDRINEMyLjkgNCAyIDQuOSAyIDZWMjBDMiAyMS4xIDIuOSAyMiA0IDIySDE4QzE5LjEgMjIgMjAgMjEuMSAyMCAyMFYxNUwxOCAxM1pNMTkuMyA4Ljg5QzE5Ljc0IDguMTkgMjAgNy4zOCAyMCA2LjVDMjAgNC4wMSAxNy45OSAyIDE1LjUgMkMxMy4wMSAyIDExIDQuMDEgMTEgNi41QzExIDguOTkgMTMuMDEgMTEgMTUuNDkgMTFDMTYuMzcgMTEgMTcuMTkgMTAuNzQgMTcuODggMTAuM0wyMSAxMy40MkwyMi40MiAxMkwxOS4zIDguODlaTTE1LjUgOUMxNC4xMiA5IDEzIDcuODggMTMgNi41QzEzIDUuMTIgMTQuMTIgNCAxNS41IDRDMTYuODggNCAxOCA1LjEyIDE4IDYuNUMxOCA3Ljg4IDE2Ljg4IDkgMTUuNSA5WiIvPgogICAgPHBhdGggZmlsbC1ydWxlPSJldmVub2RkIiBjbGlwLXJ1bGU9ImV2ZW5vZGQiIGQ9Ik00IDZIOS4wMTg5NEM5LjAwNjM5IDYuMTY1MDIgOSA2LjMzMTc2IDkgNi41QzkgOC44MTU3NyAxMC4yMTEgMTAuODQ4NyAxMi4wMzQzIDEySDlWMTRIMTZWMTIuOTgxMUMxNi41NzAzIDEyLjkzNzcgMTcuMTIgMTIuODIwNyAxNy42Mzk2IDEyLjYzOTZMMTggMTNWMjBINFY2Wk04IDhINlYxMEg4VjhaTTYgMTJIOFYxNEg2VjEyWk04IDE2SDZWMThIOFYxNlpNOSAxNkgxNlYxOEg5VjE2WiIvPgogIDwvZz4KPC9zdmc+Cg==);
  --jp-icon-paste: url(data:image/svg+xml;base64,PHN2ZyBoZWlnaHQ9IjI0IiB2aWV3Qm94PSIwIDAgMjQgMjQiIHdpZHRoPSIyNCIgeG1sbnM9Imh0dHA6Ly93d3cudzMub3JnLzIwMDAvc3ZnIj4KICAgIDxnIGNsYXNzPSJqcC1pY29uMyIgZmlsbD0iIzYxNjE2MSI+CiAgICAgICAgPHBhdGggZD0iTTE5IDJoLTQuMThDMTQuNC44NCAxMy4zIDAgMTIgMGMtMS4zIDAtMi40Ljg0LTIuODIgMkg1Yy0xLjEgMC0yIC45LTIgMnYxNmMwIDEuMS45IDIgMiAyaDE0YzEuMSAwIDItLjkgMi0yVjRjMC0xLjEtLjktMi0yLTJ6bS03IDBjLjU1IDAgMSAuNDUgMSAxcy0uNDUgMS0xIDEtMS0uNDUtMS0xIC40NS0xIDEtMXptNyAxOEg1VjRoMnYzaDEwVjRoMnYxNnoiLz4KICAgIDwvZz4KPC9zdmc+Cg==);
  --jp-icon-pdf: url(data:image/svg+xml;base64,PHN2ZwogICB4bWxucz0iaHR0cDovL3d3dy53My5vcmcvMjAwMC9zdmciIHZpZXdCb3g9IjAgMCAyMiAyMiIgd2lkdGg9IjE2Ij4KICAgIDxwYXRoIHRyYW5zZm9ybT0icm90YXRlKDQ1KSIgY2xhc3M9ImpwLWljb24tc2VsZWN0YWJsZSIgZmlsbD0iI0ZGMkEyQSIKICAgICAgIGQ9Im0gMjIuMzQ0MzY5LC0zLjAxNjM2NDIgaCA1LjYzODYwNCB2IDEuNTc5MjQzMyBoIC0zLjU0OTIyNyB2IDEuNTA4NjkyOTkgaCAzLjMzNzU3NiBWIDEuNjUwODE1NCBoIC0zLjMzNzU3NiB2IDMuNDM1MjYxMyBoIC0yLjA4OTM3NyB6IG0gLTcuMTM2NDQ0LDEuNTc5MjQzMyB2IDQuOTQzOTU0MyBoIDAuNzQ4OTIgcSAxLjI4MDc2MSwwIDEuOTUzNzAzLC0wLjYzNDk1MzUgMC42NzgzNjksLTAuNjM0OTUzNSAwLjY3ODM2OSwtMS44NDUxNjQxIDAsLTEuMjA0NzgzNTUgLTAuNjcyOTQyLC0xLjgzNDMxMDExIC0wLjY3Mjk0MiwtMC42Mjk1MjY1OSAtMS45NTkxMywtMC42Mjk1MjY1OSB6IG0gLTIuMDg5Mzc3LC0xLjU3OTI0MzMgaCAyLjIwMzM0MyBxIDEuODQ1MTY0LDAgMi43NDYwMzksMC4yNjU5MjA3IDAuOTA2MzAxLDAuMjYwNDkzNyAxLjU1MjEwOCwwLjg5MDAyMDMgMC41Njk4MywwLjU0ODEyMjMgMC44NDY2MDUsMS4yNjQ0ODAwNiAwLjI3Njc3NCwwLjcxNjM1NzgxIDAuMjc2Nzc0LDEuNjIyNjU4OTQgMCwwLjkxNzE1NTEgLTAuMjc2Nzc0LDEuNjM4OTM5OSAtMC4yNzY3NzUsMC43MTYzNTc4IC0wLjg0NjYwNSwxLjI2NDQ4IC0wLjY1MTIzNCwwLjYyOTUyNjYgLTEuNTYyOTYyLDAuODk1NDQ3MyAtMC45MTE3MjgsMC4yNjA0OTM3IC0yLjczNTE4NSwwLjI2MDQ5MzcgaCAtMi4yMDMzNDMgeiBtIC04LjE0NTg1NjUsMCBoIDMuNDY3ODIzIHEgMS41NDY2ODE2LDAgMi4zNzE1Nzg1LDAuNjg5MjIzIDAuODMwMzI0LDAuNjgzNzk2MSAwLjgzMDMyNCwxLjk1MzcwMzE0IDAsMS4yNzUzMzM5NyAtMC44MzAzMjQsMS45NjQ1NTcwNiBRIDkuOTg3MTk2MSwyLjI3NDkxNSA4LjQ0MDUxNDUsMi4yNzQ5MTUgSCA3LjA2MjA2ODQgViA1LjA4NjA3NjcgSCA0Ljk3MjY5MTUgWiBtIDIuMDg5Mzc2OSwxLjUxNDExOTkgdiAyLjI2MzAzOTQzIGggMS4xNTU5NDEgcSAwLjYwNzgxODgsMCAwLjkzODg2MjksLTAuMjkzMDU1NDcgMC4zMzEwNDQxLC0wLjI5ODQ4MjQxIDAuMzMxMDQ0MSwtMC44NDExNzc3MiAwLC0wLjU0MjY5NTMxIC0wLjMzMTA0NDEsLTAuODM1NzUwNzQgLTAuMzMxMDQ0MSwtMC4yOTMwNTU1IC0wLjkzODg2MjksLTAuMjkzMDU1NSB6IgovPgo8L3N2Zz4K);
  --jp-icon-python: url(data:image/svg+xml;base64,PHN2ZyB4bWxucz0iaHR0cDovL3d3dy53My5vcmcvMjAwMC9zdmciIHdpZHRoPSIxNiIgdmlld0JveD0iMCAwIDIyIDIyIj4KICA8ZyBjbGFzcz0ianAtaWNvbi1icmFuZDAganAtaWNvbi1zZWxlY3RhYmxlIiBmaWxsPSIjMEQ0N0ExIj4KICAgIDxwYXRoIGQ9Ik0xMS4xIDYuOVY1LjhINi45YzAtLjUgMC0xLjMuMi0xLjYuNC0uNy44LTEuMSAxLjctMS40IDEuNy0uMyAyLjUtLjMgMy45LS4xIDEgLjEgMS45LjkgMS45IDEuOXY0LjJjMCAuNS0uOSAxLjYtMiAxLjZIOC44Yy0xLjUgMC0yLjQgMS40LTIuNCAyLjh2Mi4ySDQuN0MzLjUgMTUuMSAzIDE0IDMgMTMuMVY5Yy0uMS0xIC42LTIgMS44LTIgMS41LS4xIDYuMy0uMSA2LjMtLjF6Ii8+CiAgICA8cGF0aCBkPSJNMTAuOSAxNS4xdjEuMWg0LjJjMCAuNSAwIDEuMy0uMiAxLjYtLjQuNy0uOCAxLjEtMS43IDEuNC0xLjcuMy0yLjUuMy0zLjkuMS0xLS4xLTEuOS0uOS0xLjktMS45di00LjJjMC0uNS45LTEuNiAyLTEuNmgzLjhjMS41IDAgMi40LTEuNCAyLjQtMi44VjYuNmgxLjdDMTguNSA2LjkgMTkgOCAxOSA4LjlWMTNjMCAxLS43IDIuMS0xLjkgMi4xaC02LjJ6Ii8+CiAgPC9nPgo8L3N2Zz4K);
  --jp-icon-r-kernel: url(data:image/svg+xml;base64,PHN2ZyB4bWxucz0iaHR0cDovL3d3dy53My5vcmcvMjAwMC9zdmciIHdpZHRoPSIxNiIgdmlld0JveD0iMCAwIDIyIDIyIj4KICA8cGF0aCBjbGFzcz0ianAtaWNvbi1jb250cmFzdDMganAtaWNvbi1zZWxlY3RhYmxlIiBmaWxsPSIjMjE5NkYzIiBkPSJNNC40IDIuNWMxLjItLjEgMi45LS4zIDQuOS0uMyAyLjUgMCA0LjEuNCA1LjIgMS4zIDEgLjcgMS41IDEuOSAxLjUgMy41IDAgMi0xLjQgMy41LTIuOSA0LjEgMS4yLjQgMS43IDEuNiAyLjIgMyAuNiAxLjkgMSAzLjkgMS4zIDQuNmgtMy44Yy0uMy0uNC0uOC0xLjctMS4yLTMuN3MtMS4yLTIuNi0yLjYtMi42aC0uOXY2LjRINC40VjIuNXptMy43IDYuOWgxLjRjMS45IDAgMi45LS45IDIuOS0yLjNzLTEtMi4zLTIuOC0yLjNjLS43IDAtMS4zIDAtMS42LjJ2NC41aC4xdi0uMXoiLz4KPC9zdmc+Cg==);
  --jp-icon-react: url(data:image/svg+xml;base64,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);
  --jp-icon-redo: url(data:image/svg+xml;base64,PHN2ZyB4bWxucz0iaHR0cDovL3d3dy53My5vcmcvMjAwMC9zdmciIGhlaWdodD0iMjQiIHZpZXdCb3g9IjAgMCAyNCAyNCIgd2lkdGg9IjE2Ij4KICA8ZyBjbGFzcz0ianAtaWNvbjMiIGZpbGw9IiM2MTYxNjEiPgogICAgICA8cGF0aCBkPSJNMCAwaDI0djI0SDB6IiBmaWxsPSJub25lIi8+PHBhdGggZD0iTTE4LjQgMTAuNkMxNi41NSA4Ljk5IDE0LjE1IDggMTEuNSA4Yy00LjY1IDAtOC41OCAzLjAzLTkuOTYgNy4yMkwzLjkgMTZjMS4wNS0zLjE5IDQuMDUtNS41IDcuNi01LjUgMS45NSAwIDMuNzMuNzIgNS4xMiAxLjg4TDEzIDE2aDlWN2wtMy42IDMuNnoiLz4KICA8L2c+Cjwvc3ZnPgo=);
  --jp-icon-refresh: url(data:image/svg+xml;base64,PHN2ZyB4bWxucz0iaHR0cDovL3d3dy53My5vcmcvMjAwMC9zdmciIHdpZHRoPSIxNiIgdmlld0JveD0iMCAwIDE4IDE4Ij4KICAgIDxnIGNsYXNzPSJqcC1pY29uMyIgZmlsbD0iIzYxNjE2MSI+CiAgICAgICAgPHBhdGggZD0iTTkgMTMuNWMtMi40OSAwLTQuNS0yLjAxLTQuNS00LjVTNi41MSA0LjUgOSA0LjVjMS4yNCAwIDIuMzYuNTIgMy4xNyAxLjMzTDEwIDhoNVYzbC0xLjc2IDEuNzZDMTIuMTUgMy42OCAxMC42NiAzIDkgMyA1LjY5IDMgMy4wMSA1LjY5IDMuMDEgOVM1LjY5IDE1IDkgMTVjMi45NyAwIDUuNDMtMi4xNiA1LjktNWgtMS41MmMtLjQ2IDItMi4yNCAzLjUtNC4zOCAzLjV6Ii8+CiAgICA8L2c+Cjwvc3ZnPgo=);
  --jp-icon-regex: url(data:image/svg+xml;base64,PHN2ZyB4bWxucz0iaHR0cDovL3d3dy53My5vcmcvMjAwMC9zdmciIHdpZHRoPSIxNiIgdmlld0JveD0iMCAwIDIwIDIwIj4KICA8ZyBjbGFzcz0ianAtaWNvbjIiIGZpbGw9IiM0MTQxNDEiPgogICAgPHJlY3QgeD0iMiIgeT0iMiIgd2lkdGg9IjE2IiBoZWlnaHQ9IjE2Ii8+CiAgPC9nPgoKICA8ZyBjbGFzcz0ianAtaWNvbi1hY2NlbnQyIiBmaWxsPSIjRkZGIj4KICAgIDxjaXJjbGUgY2xhc3M9InN0MiIgY3g9IjUuNSIgY3k9IjE0LjUiIHI9IjEuNSIvPgogICAgPHJlY3QgeD0iMTIiIHk9IjQiIGNsYXNzPSJzdDIiIHdpZHRoPSIxIiBoZWlnaHQ9IjgiLz4KICAgIDxyZWN0IHg9IjguNSIgeT0iNy41IiB0cmFuc2Zvcm09Im1hdHJpeCgwLjg2NiAtMC41IDAuNSAwLjg2NiAtMi4zMjU1IDcuMzIxOSkiIGNsYXNzPSJzdDIiIHdpZHRoPSI4IiBoZWlnaHQ9IjEiLz4KICAgIDxyZWN0IHg9IjEyIiB5PSI0IiB0cmFuc2Zvcm09Im1hdHJpeCgwLjUgLTAuODY2IDAuODY2IDAuNSAtMC42Nzc5IDE0LjgyNTIpIiBjbGFzcz0ic3QyIiB3aWR0aD0iMSIgaGVpZ2h0PSI4Ii8+CiAgPC9nPgo8L3N2Zz4K);
  --jp-icon-run: url(data:image/svg+xml;base64,PHN2ZyBoZWlnaHQ9IjI0IiB2aWV3Qm94PSIwIDAgMjQgMjQiIHdpZHRoPSIyNCIgeG1sbnM9Imh0dHA6Ly93d3cudzMub3JnLzIwMDAvc3ZnIj4KICAgIDxnIGNsYXNzPSJqcC1pY29uMyIgZmlsbD0iIzYxNjE2MSI+CiAgICAgICAgPHBhdGggZD0iTTggNXYxNGwxMS03eiIvPgogICAgPC9nPgo8L3N2Zz4K);
  --jp-icon-running: url(data:image/svg+xml;base64,PHN2ZyB4bWxucz0iaHR0cDovL3d3dy53My5vcmcvMjAwMC9zdmciIHdpZHRoPSIxNiIgdmlld0JveD0iMCAwIDUxMiA1MTIiPgogIDxnIGNsYXNzPSJqcC1pY29uMyIgZmlsbD0iIzYxNjE2MSI+CiAgICA8cGF0aCBkPSJNMjU2IDhDMTE5IDggOCAxMTkgOCAyNTZzMTExIDI0OCAyNDggMjQ4IDI0OC0xMTEgMjQ4LTI0OFMzOTMgOCAyNTYgOHptOTYgMzI4YzAgOC44LTcuMiAxNi0xNiAxNkgxNzZjLTguOCAwLTE2LTcuMi0xNi0xNlYxNzZjMC04LjggNy4yLTE2IDE2LTE2aDE2MGM4LjggMCAxNiA3LjIgMTYgMTZ2MTYweiIvPgogIDwvZz4KPC9zdmc+Cg==);
  --jp-icon-save: url(data:image/svg+xml;base64,PHN2ZyBoZWlnaHQ9IjI0IiB2aWV3Qm94PSIwIDAgMjQgMjQiIHdpZHRoPSIyNCIgeG1sbnM9Imh0dHA6Ly93d3cudzMub3JnLzIwMDAvc3ZnIj4KICAgIDxnIGNsYXNzPSJqcC1pY29uMyIgZmlsbD0iIzYxNjE2MSI+CiAgICAgICAgPHBhdGggZD0iTTE3IDNINWMtMS4xMSAwLTIgLjktMiAydjE0YzAgMS4xLjg5IDIgMiAyaDE0YzEuMSAwIDItLjkgMi0yVjdsLTQtNHptLTUgMTZjLTEuNjYgMC0zLTEuMzQtMy0zczEuMzQtMyAzLTMgMyAxLjM0IDMgMy0xLjM0IDMtMyAzem0zLTEwSDVWNWgxMHY0eiIvPgogICAgPC9nPgo8L3N2Zz4K);
  --jp-icon-search: url(data:image/svg+xml;base64,PHN2ZyB2aWV3Qm94PSIwIDAgMTggMTgiIHdpZHRoPSIxNiIgeG1sbnM9Imh0dHA6Ly93d3cudzMub3JnLzIwMDAvc3ZnIj4KICA8ZyBjbGFzcz0ianAtaWNvbjMiIGZpbGw9IiM2MTYxNjEiPgogICAgPHBhdGggZD0iTTEyLjEsMTAuOWgtMC43bC0wLjItMC4yYzAuOC0wLjksMS4zLTIuMiwxLjMtMy41YzAtMy0yLjQtNS40LTUuNC01LjRTMS44LDQuMiwxLjgsNy4xczIuNCw1LjQsNS40LDUuNCBjMS4zLDAsMi41LTAuNSwzLjUtMS4zbDAuMiwwLjJ2MC43bDQuMSw0LjFsMS4yLTEuMkwxMi4xLDEwLjl6IE03LjEsMTAuOWMtMi4xLDAtMy43LTEuNy0zLjctMy43czEuNy0zLjcsMy43LTMuN3MzLjcsMS43LDMuNywzLjcgUzkuMiwxMC45LDcuMSwxMC45eiIvPgogIDwvZz4KPC9zdmc+Cg==);
  --jp-icon-settings: url(data:image/svg+xml;base64,PHN2ZyB4bWxucz0iaHR0cDovL3d3dy53My5vcmcvMjAwMC9zdmciIHdpZHRoPSIxNiIgdmlld0JveD0iMCAwIDI0IDI0Ij4KICA8cGF0aCBjbGFzcz0ianAtaWNvbjMganAtaWNvbi1zZWxlY3RhYmxlIiBmaWxsPSIjNjE2MTYxIiBkPSJNMTkuNDMgMTIuOThjLjA0LS4zMi4wNy0uNjQuMDctLjk4cy0uMDMtLjY2LS4wNy0uOThsMi4xMS0xLjY1Yy4xOS0uMTUuMjQtLjQyLjEyLS42NGwtMi0zLjQ2Yy0uMTItLjIyLS4zOS0uMy0uNjEtLjIybC0yLjQ5IDFjLS41Mi0uNC0xLjA4LS43My0xLjY5LS45OGwtLjM4LTIuNjVBLjQ4OC40ODggMCAwMDE0IDJoLTRjLS4yNSAwLS40Ni4xOC0uNDkuNDJsLS4zOCAyLjY1Yy0uNjEuMjUtMS4xNy41OS0xLjY5Ljk4bC0yLjQ5LTFjLS4yMy0uMDktLjQ5IDAtLjYxLjIybC0yIDMuNDZjLS4xMy4yMi0uMDcuNDkuMTIuNjRsMi4xMSAxLjY1Yy0uMDQuMzItLjA3LjY1LS4wNy45OHMuMDMuNjYuMDcuOThsLTIuMTEgMS42NWMtLjE5LjE1LS4yNC40Mi0uMTIuNjRsMiAzLjQ2Yy4xMi4yMi4zOS4zLjYxLjIybDIuNDktMWMuNTIuNCAxLjA4LjczIDEuNjkuOThsLjM4IDIuNjVjLjAzLjI0LjI0LjQyLjQ5LjQyaDRjLjI1IDAgLjQ2LS4xOC40OS0uNDJsLjM4LTIuNjVjLjYxLS4yNSAxLjE3LS41OSAxLjY5LS45OGwyLjQ5IDFjLjIzLjA5LjQ5IDAgLjYxLS4yMmwyLTMuNDZjLjEyLS4yMi4wNy0uNDktLjEyLS42NGwtMi4xMS0xLjY1ek0xMiAxNS41Yy0xLjkzIDAtMy41LTEuNTctMy41LTMuNXMxLjU3LTMuNSAzLjUtMy41IDMuNSAxLjU3IDMuNSAzLjUtMS41NyAzLjUtMy41IDMuNXoiLz4KPC9zdmc+Cg==);
  --jp-icon-spreadsheet: url(data:image/svg+xml;base64,PHN2ZyB4bWxucz0iaHR0cDovL3d3dy53My5vcmcvMjAwMC9zdmciIHdpZHRoPSIxNiIgdmlld0JveD0iMCAwIDIyIDIyIj4KICA8cGF0aCBjbGFzcz0ianAtaWNvbi1jb250cmFzdDEganAtaWNvbi1zZWxlY3RhYmxlIiBmaWxsPSIjNENBRjUwIiBkPSJNMi4yIDIuMnYxNy42aDE3LjZWMi4ySDIuMnptMTUuNCA3LjdoLTUuNVY0LjRoNS41djUuNXpNOS45IDQuNHY1LjVINC40VjQuNGg1LjV6bS01LjUgNy43aDUuNXY1LjVINC40di01LjV6bTcuNyA1LjV2LTUuNWg1LjV2NS41aC01LjV6Ii8+Cjwvc3ZnPgo=);
  --jp-icon-stop: url(data:image/svg+xml;base64,PHN2ZyBoZWlnaHQ9IjI0IiB2aWV3Qm94PSIwIDAgMjQgMjQiIHdpZHRoPSIyNCIgeG1sbnM9Imh0dHA6Ly93d3cudzMub3JnLzIwMDAvc3ZnIj4KICAgIDxnIGNsYXNzPSJqcC1pY29uMyIgZmlsbD0iIzYxNjE2MSI+CiAgICAgICAgPHBhdGggZD0iTTAgMGgyNHYyNEgweiIgZmlsbD0ibm9uZSIvPgogICAgICAgIDxwYXRoIGQ9Ik02IDZoMTJ2MTJINnoiLz4KICAgIDwvZz4KPC9zdmc+Cg==);
  --jp-icon-tab: url(data:image/svg+xml;base64,PHN2ZyB4bWxucz0iaHR0cDovL3d3dy53My5vcmcvMjAwMC9zdmciIHdpZHRoPSIxNiIgdmlld0JveD0iMCAwIDI0IDI0Ij4KICA8ZyBjbGFzcz0ianAtaWNvbjMiIGZpbGw9IiM2MTYxNjEiPgogICAgPHBhdGggZD0iTTIxIDNIM2MtMS4xIDAtMiAuOS0yIDJ2MTRjMCAxLjEuOSAyIDIgMmgxOGMxLjEgMCAyLS45IDItMlY1YzAtMS4xLS45LTItMi0yem0wIDE2SDNWNWgxMHY0aDh2MTB6Ii8+CiAgPC9nPgo8L3N2Zz4K);
  --jp-icon-table-rows: url(data:image/svg+xml;base64,PHN2ZyBoZWlnaHQ9IjI0IiB2aWV3Qm94PSIwIDAgMjQgMjQiIHdpZHRoPSIyNCIgeG1sbnM9Imh0dHA6Ly93d3cudzMub3JnLzIwMDAvc3ZnIj4KICAgIDxnIGNsYXNzPSJqcC1pY29uMyIgZmlsbD0iIzYxNjE2MSI+CiAgICAgICAgPHBhdGggZD0iTTAgMGgyNHYyNEgweiIgZmlsbD0ibm9uZSIvPgogICAgICAgIDxwYXRoIGQ9Ik0yMSw4SDNWNGgxOFY4eiBNMjEsMTBIM3Y0aDE4VjEweiBNMjEsMTZIM3Y0aDE4VjE2eiIvPgogICAgPC9nPgo8L3N2Zz4=);
  --jp-icon-tag: url(data:image/svg+xml;base64,PHN2ZyB3aWR0aD0iMjgiIGhlaWdodD0iMjgiIHZpZXdCb3g9IjAgMCA0MyAyOCIgeG1sbnM9Imh0dHA6Ly93d3cudzMub3JnLzIwMDAvc3ZnIj4KCTxnIGNsYXNzPSJqcC1pY29uMyIgZmlsbD0iIzYxNjE2MSI+CgkJPHBhdGggZD0iTTI4LjgzMzIgMTIuMzM0TDMyLjk5OTggMTYuNTAwN0wzNy4xNjY1IDEyLjMzNEgyOC44MzMyWiIvPgoJCTxwYXRoIGQ9Ik0xNi4yMDk1IDIxLjYxMDRDMTUuNjg3MyAyMi4xMjk5IDE0Ljg0NDMgMjIuMTI5OSAxNC4zMjQ4IDIxLjYxMDRMNi45ODI5IDE0LjcyNDVDNi41NzI0IDE0LjMzOTQgNi4wODMxMyAxMy42MDk4IDYuMDQ3ODYgMTMuMDQ4MkM1Ljk1MzQ3IDExLjUyODggNi4wMjAwMiA4LjYxOTQ0IDYuMDY2MjEgNy4wNzY5NUM2LjA4MjgxIDYuNTE0NzcgNi41NTU0OCA2LjA0MzQ3IDcuMTE4MDQgNi4wMzA1NUM5LjA4ODYzIDUuOTg0NzMgMTMuMjYzOCA1LjkzNTc5IDEzLjY1MTggNi4zMjQyNUwyMS43MzY5IDEzLjYzOUMyMi4yNTYgMTQuMTU4NSAyMS43ODUxIDE1LjQ3MjQgMjEuMjYyIDE1Ljk5NDZMMTYuMjA5NSAyMS42MTA0Wk05Ljc3NTg1IDguMjY1QzkuMzM1NTEgNy44MjU2NiA4LjYyMzUxIDcuODI1NjYgOC4xODI4IDguMjY1QzcuNzQzNDYgOC43MDU3MSA3Ljc0MzQ2IDkuNDE3MzMgOC4xODI4IDkuODU2NjdDOC42MjM4MiAxMC4yOTY0IDkuMzM1ODIgMTAuMjk2NCA5Ljc3NTg1IDkuODU2NjdDMTAuMjE1NiA5LjQxNzMzIDEwLjIxNTYgOC43MDUzMyA5Ljc3NTg1IDguMjY1WiIvPgoJPC9nPgo8L3N2Zz4K);
  --jp-icon-terminal: url(data:image/svg+xml;base64,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);
  --jp-icon-text-editor: url(data:image/svg+xml;base64,PHN2ZyB4bWxucz0iaHR0cDovL3d3dy53My5vcmcvMjAwMC9zdmciIHdpZHRoPSIxNiIgdmlld0JveD0iMCAwIDI0IDI0Ij4KICA8cGF0aCBjbGFzcz0ianAtaWNvbjMganAtaWNvbi1zZWxlY3RhYmxlIiBmaWxsPSIjNjE2MTYxIiBkPSJNMTUgMTVIM3YyaDEydi0yem0wLThIM3YyaDEyVjd6TTMgMTNoMTh2LTJIM3Yyem0wIDhoMTh2LTJIM3Yyek0zIDN2MmgxOFYzSDN6Ii8+Cjwvc3ZnPgo=);
  --jp-icon-toc: url(data:image/svg+xml;base64,PHN2ZyB4bWxucz0iaHR0cDovL3d3dy53My5vcmcvMjAwMC9zdmciIHhtbG5zOnhsaW5rPSJodHRwOi8vd3d3LnczLm9yZy8xOTk5L3hsaW5rIiB2ZXJzaW9uPSIxLjEiIHdpZHRoPSIyNCIgaGVpZ2h0PSIyNCIgdmlld0JveD0iMCAwIDI0IDI0IiBjbGFzcz0ianAtaWNvbjMiIGZpbGw9IiM2MTYxNjEiPgoJPHBhdGggZD0iTTcsNUgyMVY3SDdWNU03LDEzVjExSDIxVjEzSDdNNCw0LjVBMS41LDEuNSAwIDAsMSA1LjUsNkExLjUsMS41IDAgMCwxIDQsNy41QTEuNSwxLjUgMCAwLDEgMi41LDZBMS41LDEuNSAwIDAsMSA0LDQuNU00LDEwLjVBMS41LDEuNSAwIDAsMSA1LjUsMTJBMS41LDEuNSAwIDAsMSA0LDEzLjVBMS41LDEuNSAwIDAsMSAyLjUsMTJBMS41LDEuNSAwIDAsMSA0LDEwLjVNNywxOVYxN0gyMVYxOUg3TTQsMTYuNUExLjUsMS41IDAgMCwxIDUuNSwxOEExLjUsMS41IDAgMCwxIDQsMTkuNUExLjUsMS41IDAgMCwxIDIuNSwxOEExLjUsMS41IDAgMCwxIDQsMTYuNVoiIC8+Cjwvc3ZnPgo=);
  --jp-icon-tree-view: url(data:image/svg+xml;base64,PHN2ZyBoZWlnaHQ9IjI0IiB2aWV3Qm94PSIwIDAgMjQgMjQiIHdpZHRoPSIyNCIgeG1sbnM9Imh0dHA6Ly93d3cudzMub3JnLzIwMDAvc3ZnIj4KICAgIDxnIGNsYXNzPSJqcC1pY29uMyIgZmlsbD0iIzYxNjE2MSI+CiAgICAgICAgPHBhdGggZD0iTTAgMGgyNHYyNEgweiIgZmlsbD0ibm9uZSIvPgogICAgICAgIDxwYXRoIGQ9Ik0yMiAxMVYzaC03djNIOVYzSDJ2OGg3VjhoMnYxMGg0djNoN3YtOGgtN3YzaC0yVjhoMnYzeiIvPgogICAgPC9nPgo8L3N2Zz4=);
  --jp-icon-trusted: url(data:image/svg+xml;base64,PHN2ZyBmaWxsPSJub25lIiB4bWxucz0iaHR0cDovL3d3dy53My5vcmcvMjAwMC9zdmciIHdpZHRoPSIxNiIgdmlld0JveD0iMCAwIDI0IDI1Ij4KICAgIDxwYXRoIGNsYXNzPSJqcC1pY29uMiIgc3Ryb2tlPSIjMzMzMzMzIiBzdHJva2Utd2lkdGg9IjIiIHRyYW5zZm9ybT0idHJhbnNsYXRlKDIgMykiIGQ9Ik0xLjg2MDk0IDExLjQ0MDlDMC44MjY0NDggOC43NzAyNyAwLjg2Mzc3OSA2LjA1NzY0IDEuMjQ5MDcgNC4xOTkzMkMyLjQ4MjA2IDMuOTMzNDcgNC4wODA2OCAzLjQwMzQ3IDUuNjAxMDIgMi44NDQ5QzcuMjM1NDkgMi4yNDQ0IDguODU2NjYgMS41ODE1IDkuOTg3NiAxLjA5NTM5QzExLjA1OTcgMS41ODM0MSAxMi42MDk0IDIuMjQ0NCAxNC4yMTggMi44NDMzOUMxNS43NTAzIDMuNDEzOTQgMTcuMzk5NSAzLjk1MjU4IDE4Ljc1MzkgNC4yMTM4NUMxOS4xMzY0IDYuMDcxNzcgMTkuMTcwOSA4Ljc3NzIyIDE4LjEzOSAxMS40NDA5QzE3LjAzMDMgMTQuMzAzMiAxNC42NjY4IDE3LjE4NDQgOS45OTk5OSAxOC45MzU0QzUuMzMzMiAxNy4xODQ0IDIuOTY5NjggMTQuMzAzMiAxLjg2MDk0IDExLjQ0MDlaIi8+CiAgICA8cGF0aCBjbGFzcz0ianAtaWNvbjIiIGZpbGw9IiMzMzMzMzMiIHN0cm9rZT0iIzMzMzMzMyIgdHJhbnNmb3JtPSJ0cmFuc2xhdGUoOCA5Ljg2NzE5KSIgZD0iTTIuODYwMTUgNC44NjUzNUwwLjcyNjU0OSAyLjk5OTU5TDAgMy42MzA0NUwyLjg2MDE1IDYuMTMxNTdMOCAwLjYzMDg3Mkw3LjI3ODU3IDBMMi44NjAxNSA0Ljg2NTM1WiIvPgo8L3N2Zz4K);
  --jp-icon-undo: url(data:image/svg+xml;base64,PHN2ZyB2aWV3Qm94PSIwIDAgMjQgMjQiIHdpZHRoPSIxNiIgeG1sbnM9Imh0dHA6Ly93d3cudzMub3JnLzIwMDAvc3ZnIj4KICA8ZyBjbGFzcz0ianAtaWNvbjMiIGZpbGw9IiM2MTYxNjEiPgogICAgPHBhdGggZD0iTTEyLjUgOGMtMi42NSAwLTUuMDUuOTktNi45IDIuNkwyIDd2OWg5bC0zLjYyLTMuNjJjMS4zOS0xLjE2IDMuMTYtMS44OCA1LjEyLTEuODggMy41NCAwIDYuNTUgMi4zMSA3LjYgNS41bDIuMzctLjc4QzIxLjA4IDExLjAzIDE3LjE1IDggMTIuNSA4eiIvPgogIDwvZz4KPC9zdmc+Cg==);
  --jp-icon-vega: url(data:image/svg+xml;base64,PHN2ZyB4bWxucz0iaHR0cDovL3d3dy53My5vcmcvMjAwMC9zdmciIHdpZHRoPSIxNiIgdmlld0JveD0iMCAwIDIyIDIyIj4KICA8ZyBjbGFzcz0ianAtaWNvbjEganAtaWNvbi1zZWxlY3RhYmxlIiBmaWxsPSIjMjEyMTIxIj4KICAgIDxwYXRoIGQ9Ik0xMC42IDUuNGwyLjItMy4ySDIuMnY3LjNsNC02LjZ6Ii8+CiAgICA8cGF0aCBkPSJNMTUuOCAyLjJsLTQuNCA2LjZMNyA2LjNsLTQuOCA4djUuNWgxNy42VjIuMmgtNHptLTcgMTUuNEg1LjV2LTQuNGgzLjN2NC40em00LjQgMEg5LjhWOS44aDMuNHY3Ljh6bTQuNCAwaC0zLjRWNi41aDMuNHYxMS4xeiIvPgogIDwvZz4KPC9zdmc+Cg==);
  --jp-icon-yaml: url(data:image/svg+xml;base64,PHN2ZyB4bWxucz0iaHR0cDovL3d3dy53My5vcmcvMjAwMC9zdmciIHdpZHRoPSIxNiIgdmlld0JveD0iMCAwIDIyIDIyIj4KICA8ZyBjbGFzcz0ianAtaWNvbi1jb250cmFzdDIganAtaWNvbi1zZWxlY3RhYmxlIiBmaWxsPSIjRDgxQjYwIj4KICAgIDxwYXRoIGQ9Ik03LjIgMTguNnYtNS40TDMgNS42aDMuM2wxLjQgMy4xYy4zLjkuNiAxLjYgMSAyLjUuMy0uOC42LTEuNiAxLTIuNWwxLjQtMy4xaDMuNGwtNC40IDcuNnY1LjVsLTIuOS0uMXoiLz4KICAgIDxjaXJjbGUgY2xhc3M9InN0MCIgY3g9IjE3LjYiIGN5PSIxNi41IiByPSIyLjEiLz4KICAgIDxjaXJjbGUgY2xhc3M9InN0MCIgY3g9IjE3LjYiIGN5PSIxMSIgcj0iMi4xIi8+CiAgPC9nPgo8L3N2Zz4K);
}

/* Icon CSS class declarations */

.jp-AddIcon {
  background-image: var(--jp-icon-add);
}
.jp-BugIcon {
  background-image: var(--jp-icon-bug);
}
.jp-BuildIcon {
  background-image: var(--jp-icon-build);
}
.jp-CaretDownEmptyIcon {
  background-image: var(--jp-icon-caret-down-empty);
}
.jp-CaretDownEmptyThinIcon {
  background-image: var(--jp-icon-caret-down-empty-thin);
}
.jp-CaretDownIcon {
  background-image: var(--jp-icon-caret-down);
}
.jp-CaretLeftIcon {
  background-image: var(--jp-icon-caret-left);
}
.jp-CaretRightIcon {
  background-image: var(--jp-icon-caret-right);
}
.jp-CaretUpEmptyThinIcon {
  background-image: var(--jp-icon-caret-up-empty-thin);
}
.jp-CaretUpIcon {
  background-image: var(--jp-icon-caret-up);
}
.jp-CaseSensitiveIcon {
  background-image: var(--jp-icon-case-sensitive);
}
.jp-CheckIcon {
  background-image: var(--jp-icon-check);
}
.jp-CircleEmptyIcon {
  background-image: var(--jp-icon-circle-empty);
}
.jp-CircleIcon {
  background-image: var(--jp-icon-circle);
}
.jp-ClearIcon {
  background-image: var(--jp-icon-clear);
}
.jp-CloseIcon {
  background-image: var(--jp-icon-close);
}
.jp-CodeIcon {
  background-image: var(--jp-icon-code);
}
.jp-ConsoleIcon {
  background-image: var(--jp-icon-console);
}
.jp-CopyIcon {
  background-image: var(--jp-icon-copy);
}
.jp-CutIcon {
  background-image: var(--jp-icon-cut);
}
.jp-DownloadIcon {
  background-image: var(--jp-icon-download);
}
.jp-EditIcon {
  background-image: var(--jp-icon-edit);
}
.jp-EllipsesIcon {
  background-image: var(--jp-icon-ellipses);
}
.jp-ExtensionIcon {
  background-image: var(--jp-icon-extension);
}
.jp-FastForwardIcon {
  background-image: var(--jp-icon-fast-forward);
}
.jp-FileIcon {
  background-image: var(--jp-icon-file);
}
.jp-FileUploadIcon {
  background-image: var(--jp-icon-file-upload);
}
.jp-FilterListIcon {
  background-image: var(--jp-icon-filter-list);
}
.jp-FolderIcon {
  background-image: var(--jp-icon-folder);
}
.jp-Html5Icon {
  background-image: var(--jp-icon-html5);
}
.jp-ImageIcon {
  background-image: var(--jp-icon-image);
}
.jp-InspectorIcon {
  background-image: var(--jp-icon-inspector);
}
.jp-JsonIcon {
  background-image: var(--jp-icon-json);
}
.jp-JupyterFaviconIcon {
  background-image: var(--jp-icon-jupyter-favicon);
}
.jp-JupyterIcon {
  background-image: var(--jp-icon-jupyter);
}
.jp-JupyterlabWordmarkIcon {
  background-image: var(--jp-icon-jupyterlab-wordmark);
}
.jp-KernelIcon {
  background-image: var(--jp-icon-kernel);
}
.jp-KeyboardIcon {
  background-image: var(--jp-icon-keyboard);
}
.jp-LauncherIcon {
  background-image: var(--jp-icon-launcher);
}
.jp-LineFormIcon {
  background-image: var(--jp-icon-line-form);
}
.jp-LinkIcon {
  background-image: var(--jp-icon-link);
}
.jp-ListIcon {
  background-image: var(--jp-icon-list);
}
.jp-ListingsInfoIcon {
  background-image: var(--jp-icon-listings-info);
}
.jp-MarkdownIcon {
  background-image: var(--jp-icon-markdown);
}
.jp-NewFolderIcon {
  background-image: var(--jp-icon-new-folder);
}
.jp-NotTrustedIcon {
  background-image: var(--jp-icon-not-trusted);
}
.jp-NotebookIcon {
  background-image: var(--jp-icon-notebook);
}
.jp-NumberingIcon {
  background-image: var(--jp-icon-numbering);
}
.jp-OfflineBoltIcon {
  background-image: var(--jp-icon-offline-bolt);
}
.jp-PaletteIcon {
  background-image: var(--jp-icon-palette);
}
.jp-PasteIcon {
  background-image: var(--jp-icon-paste);
}
.jp-PdfIcon {
  background-image: var(--jp-icon-pdf);
}
.jp-PythonIcon {
  background-image: var(--jp-icon-python);
}
.jp-RKernelIcon {
  background-image: var(--jp-icon-r-kernel);
}
.jp-ReactIcon {
  background-image: var(--jp-icon-react);
}
.jp-RedoIcon {
  background-image: var(--jp-icon-redo);
}
.jp-RefreshIcon {
  background-image: var(--jp-icon-refresh);
}
.jp-RegexIcon {
  background-image: var(--jp-icon-regex);
}
.jp-RunIcon {
  background-image: var(--jp-icon-run);
}
.jp-RunningIcon {
  background-image: var(--jp-icon-running);
}
.jp-SaveIcon {
  background-image: var(--jp-icon-save);
}
.jp-SearchIcon {
  background-image: var(--jp-icon-search);
}
.jp-SettingsIcon {
  background-image: var(--jp-icon-settings);
}
.jp-SpreadsheetIcon {
  background-image: var(--jp-icon-spreadsheet);
}
.jp-StopIcon {
  background-image: var(--jp-icon-stop);
}
.jp-TabIcon {
  background-image: var(--jp-icon-tab);
}
.jp-TableRowsIcon {
  background-image: var(--jp-icon-table-rows);
}
.jp-TagIcon {
  background-image: var(--jp-icon-tag);
}
.jp-TerminalIcon {
  background-image: var(--jp-icon-terminal);
}
.jp-TextEditorIcon {
  background-image: var(--jp-icon-text-editor);
}
.jp-TocIcon {
  background-image: var(--jp-icon-toc);
}
.jp-TreeViewIcon {
  background-image: var(--jp-icon-tree-view);
}
.jp-TrustedIcon {
  background-image: var(--jp-icon-trusted);
}
.jp-UndoIcon {
  background-image: var(--jp-icon-undo);
}
.jp-VegaIcon {
  background-image: var(--jp-icon-vega);
}
.jp-YamlIcon {
  background-image: var(--jp-icon-yaml);
}

/*-----------------------------------------------------------------------------
| Copyright (c) Jupyter Development Team.
| Distributed under the terms of the Modified BSD License.
|----------------------------------------------------------------------------*/

/**
 * (DEPRECATED) Support for consuming icons as CSS background images
 */

:root {
  --jp-icon-search-white: url(data:image/svg+xml;base64,PHN2ZyB2aWV3Qm94PSIwIDAgMTggMTgiIHdpZHRoPSIxNiIgeG1sbnM9Imh0dHA6Ly93d3cudzMub3JnLzIwMDAvc3ZnIj4KICA8ZyBjbGFzcz0ianAtaWNvbjMiIGZpbGw9IiM2MTYxNjEiPgogICAgPHBhdGggZD0iTTEyLjEsMTAuOWgtMC43bC0wLjItMC4yYzAuOC0wLjksMS4zLTIuMiwxLjMtMy41YzAtMy0yLjQtNS40LTUuNC01LjRTMS44LDQuMiwxLjgsNy4xczIuNCw1LjQsNS40LDUuNCBjMS4zLDAsMi41LTAuNSwzLjUtMS4zbDAuMiwwLjJ2MC43bDQuMSw0LjFsMS4yLTEuMkwxMi4xLDEwLjl6IE03LjEsMTAuOWMtMi4xLDAtMy43LTEuNy0zLjctMy43czEuNy0zLjcsMy43LTMuN3MzLjcsMS43LDMuNywzLjcgUzkuMiwxMC45LDcuMSwxMC45eiIvPgogIDwvZz4KPC9zdmc+Cg==);
}

.jp-Icon,
.jp-MaterialIcon {
  background-position: center;
  background-repeat: no-repeat;
  background-size: 16px;
  min-width: 16px;
  min-height: 16px;
}

.jp-Icon-cover {
  background-position: center;
  background-repeat: no-repeat;
  background-size: cover;
}

/**
 * (DEPRECATED) Support for specific CSS icon sizes
 */

.jp-Icon-16 {
  background-size: 16px;
  min-width: 16px;
  min-height: 16px;
}

.jp-Icon-18 {
  background-size: 18px;
  min-width: 18px;
  min-height: 18px;
}

.jp-Icon-20 {
  background-size: 20px;
  min-width: 20px;
  min-height: 20px;
}

/*-----------------------------------------------------------------------------
| Copyright (c) Jupyter Development Team.
| Distributed under the terms of the Modified BSD License.
|----------------------------------------------------------------------------*/

/**
 * Support for icons as inline SVG HTMLElements
 */

/* recolor the primary elements of an icon */
.jp-icon0[fill] {
  fill: var(--jp-inverse-layout-color0);
}
.jp-icon1[fill] {
  fill: var(--jp-inverse-layout-color1);
}
.jp-icon2[fill] {
  fill: var(--jp-inverse-layout-color2);
}
.jp-icon3[fill] {
  fill: var(--jp-inverse-layout-color3);
}
.jp-icon4[fill] {
  fill: var(--jp-inverse-layout-color4);
}

.jp-icon0[stroke] {
  stroke: var(--jp-inverse-layout-color0);
}
.jp-icon1[stroke] {
  stroke: var(--jp-inverse-layout-color1);
}
.jp-icon2[stroke] {
  stroke: var(--jp-inverse-layout-color2);
}
.jp-icon3[stroke] {
  stroke: var(--jp-inverse-layout-color3);
}
.jp-icon4[stroke] {
  stroke: var(--jp-inverse-layout-color4);
}
/* recolor the accent elements of an icon */
.jp-icon-accent0[fill] {
  fill: var(--jp-layout-color0);
}
.jp-icon-accent1[fill] {
  fill: var(--jp-layout-color1);
}
.jp-icon-accent2[fill] {
  fill: var(--jp-layout-color2);
}
.jp-icon-accent3[fill] {
  fill: var(--jp-layout-color3);
}
.jp-icon-accent4[fill] {
  fill: var(--jp-layout-color4);
}

.jp-icon-accent0[stroke] {
  stroke: var(--jp-layout-color0);
}
.jp-icon-accent1[stroke] {
  stroke: var(--jp-layout-color1);
}
.jp-icon-accent2[stroke] {
  stroke: var(--jp-layout-color2);
}
.jp-icon-accent3[stroke] {
  stroke: var(--jp-layout-color3);
}
.jp-icon-accent4[stroke] {
  stroke: var(--jp-layout-color4);
}
/* set the color of an icon to transparent */
.jp-icon-none[fill] {
  fill: none;
}

.jp-icon-none[stroke] {
  stroke: none;
}
/* brand icon colors. Same for light and dark */
.jp-icon-brand0[fill] {
  fill: var(--jp-brand-color0);
}
.jp-icon-brand1[fill] {
  fill: var(--jp-brand-color1);
}
.jp-icon-brand2[fill] {
  fill: var(--jp-brand-color2);
}
.jp-icon-brand3[fill] {
  fill: var(--jp-brand-color3);
}
.jp-icon-brand4[fill] {
  fill: var(--jp-brand-color4);
}

.jp-icon-brand0[stroke] {
  stroke: var(--jp-brand-color0);
}
.jp-icon-brand1[stroke] {
  stroke: var(--jp-brand-color1);
}
.jp-icon-brand2[stroke] {
  stroke: var(--jp-brand-color2);
}
.jp-icon-brand3[stroke] {
  stroke: var(--jp-brand-color3);
}
.jp-icon-brand4[stroke] {
  stroke: var(--jp-brand-color4);
}
/* warn icon colors. Same for light and dark */
.jp-icon-warn0[fill] {
  fill: var(--jp-warn-color0);
}
.jp-icon-warn1[fill] {
  fill: var(--jp-warn-color1);
}
.jp-icon-warn2[fill] {
  fill: var(--jp-warn-color2);
}
.jp-icon-warn3[fill] {
  fill: var(--jp-warn-color3);
}

.jp-icon-warn0[stroke] {
  stroke: var(--jp-warn-color0);
}
.jp-icon-warn1[stroke] {
  stroke: var(--jp-warn-color1);
}
.jp-icon-warn2[stroke] {
  stroke: var(--jp-warn-color2);
}
.jp-icon-warn3[stroke] {
  stroke: var(--jp-warn-color3);
}
/* icon colors that contrast well with each other and most backgrounds */
.jp-icon-contrast0[fill] {
  fill: var(--jp-icon-contrast-color0);
}
.jp-icon-contrast1[fill] {
  fill: var(--jp-icon-contrast-color1);
}
.jp-icon-contrast2[fill] {
  fill: var(--jp-icon-contrast-color2);
}
.jp-icon-contrast3[fill] {
  fill: var(--jp-icon-contrast-color3);
}

.jp-icon-contrast0[stroke] {
  stroke: var(--jp-icon-contrast-color0);
}
.jp-icon-contrast1[stroke] {
  stroke: var(--jp-icon-contrast-color1);
}
.jp-icon-contrast2[stroke] {
  stroke: var(--jp-icon-contrast-color2);
}
.jp-icon-contrast3[stroke] {
  stroke: var(--jp-icon-contrast-color3);
}

/* CSS for icons in selected items in the settings editor */
#setting-editor .jp-PluginList .jp-mod-selected .jp-icon-selectable[fill] {
  fill: #fff;
}
#setting-editor
  .jp-PluginList
  .jp-mod-selected
  .jp-icon-selectable-inverse[fill] {
  fill: var(--jp-brand-color1);
}

/* CSS for icons in selected filebrowser listing items */
.jp-DirListing-item.jp-mod-selected .jp-icon-selectable[fill] {
  fill: #fff;
}
.jp-DirListing-item.jp-mod-selected .jp-icon-selectable-inverse[fill] {
  fill: var(--jp-brand-color1);
}

/* CSS for icons in selected tabs in the sidebar tab manager */
#tab-manager .lm-TabBar-tab.jp-mod-active .jp-icon-selectable[fill] {
  fill: #fff;
}

#tab-manager .lm-TabBar-tab.jp-mod-active .jp-icon-selectable-inverse[fill] {
  fill: var(--jp-brand-color1);
}
#tab-manager
  .lm-TabBar-tab.jp-mod-active
  .jp-icon-hover
  :hover
  .jp-icon-selectable[fill] {
  fill: var(--jp-brand-color1);
}

#tab-manager
  .lm-TabBar-tab.jp-mod-active
  .jp-icon-hover
  :hover
  .jp-icon-selectable-inverse[fill] {
  fill: #fff;
}

/**
 * TODO: come up with non css-hack solution for showing the busy icon on top
 *  of the close icon
 * CSS for complex behavior of close icon of tabs in the sidebar tab manager
 */
#tab-manager
  .lm-TabBar-tab.jp-mod-dirty
  > .lm-TabBar-tabCloseIcon
  > :not(:hover)
  > .jp-icon3[fill] {
  fill: none;
}
#tab-manager
  .lm-TabBar-tab.jp-mod-dirty
  > .lm-TabBar-tabCloseIcon
  > :not(:hover)
  > .jp-icon-busy[fill] {
  fill: var(--jp-inverse-layout-color3);
}

#tab-manager
  .lm-TabBar-tab.jp-mod-dirty.jp-mod-active
  > .lm-TabBar-tabCloseIcon
  > :not(:hover)
  > .jp-icon-busy[fill] {
  fill: #fff;
}

/**
* TODO: come up with non css-hack solution for showing the busy icon on top
*  of the close icon
* CSS for complex behavior of close icon of tabs in the main area tabbar
*/
.lm-DockPanel-tabBar
  .lm-TabBar-tab.lm-mod-closable.jp-mod-dirty
  > .lm-TabBar-tabCloseIcon
  > :not(:hover)
  > .jp-icon3[fill] {
  fill: none;
}
.lm-DockPanel-tabBar
  .lm-TabBar-tab.lm-mod-closable.jp-mod-dirty
  > .lm-TabBar-tabCloseIcon
  > :not(:hover)
  > .jp-icon-busy[fill] {
  fill: var(--jp-inverse-layout-color3);
}

/* CSS for icons in status bar */
#jp-main-statusbar .jp-mod-selected .jp-icon-selectable[fill] {
  fill: #fff;
}

#jp-main-statusbar .jp-mod-selected .jp-icon-selectable-inverse[fill] {
  fill: var(--jp-brand-color1);
}
/* special handling for splash icon CSS. While the theme CSS reloads during
   splash, the splash icon can loose theming. To prevent that, we set a
   default for its color variable */
:root {
  --jp-warn-color0: var(--md-orange-700);
}

/* not sure what to do with this one, used in filebrowser listing */
.jp-DragIcon {
  margin-right: 4px;
}

/*-----------------------------------------------------------------------------
| Copyright (c) Jupyter Development Team.
| Distributed under the terms of the Modified BSD License.
|----------------------------------------------------------------------------*/

/**
 * Support for alt colors for icons as inline SVG HTMLElements
 */

/* alt recolor the primary elements of an icon */
.jp-icon-alt .jp-icon0[fill] {
  fill: var(--jp-layout-color0);
}
.jp-icon-alt .jp-icon1[fill] {
  fill: var(--jp-layout-color1);
}
.jp-icon-alt .jp-icon2[fill] {
  fill: var(--jp-layout-color2);
}
.jp-icon-alt .jp-icon3[fill] {
  fill: var(--jp-layout-color3);
}
.jp-icon-alt .jp-icon4[fill] {
  fill: var(--jp-layout-color4);
}

.jp-icon-alt .jp-icon0[stroke] {
  stroke: var(--jp-layout-color0);
}
.jp-icon-alt .jp-icon1[stroke] {
  stroke: var(--jp-layout-color1);
}
.jp-icon-alt .jp-icon2[stroke] {
  stroke: var(--jp-layout-color2);
}
.jp-icon-alt .jp-icon3[stroke] {
  stroke: var(--jp-layout-color3);
}
.jp-icon-alt .jp-icon4[stroke] {
  stroke: var(--jp-layout-color4);
}

/* alt recolor the accent elements of an icon */
.jp-icon-alt .jp-icon-accent0[fill] {
  fill: var(--jp-inverse-layout-color0);
}
.jp-icon-alt .jp-icon-accent1[fill] {
  fill: var(--jp-inverse-layout-color1);
}
.jp-icon-alt .jp-icon-accent2[fill] {
  fill: var(--jp-inverse-layout-color2);
}
.jp-icon-alt .jp-icon-accent3[fill] {
  fill: var(--jp-inverse-layout-color3);
}
.jp-icon-alt .jp-icon-accent4[fill] {
  fill: var(--jp-inverse-layout-color4);
}

.jp-icon-alt .jp-icon-accent0[stroke] {
  stroke: var(--jp-inverse-layout-color0);
}
.jp-icon-alt .jp-icon-accent1[stroke] {
  stroke: var(--jp-inverse-layout-color1);
}
.jp-icon-alt .jp-icon-accent2[stroke] {
  stroke: var(--jp-inverse-layout-color2);
}
.jp-icon-alt .jp-icon-accent3[stroke] {
  stroke: var(--jp-inverse-layout-color3);
}
.jp-icon-alt .jp-icon-accent4[stroke] {
  stroke: var(--jp-inverse-layout-color4);
}

/*-----------------------------------------------------------------------------
| Copyright (c) Jupyter Development Team.
| Distributed under the terms of the Modified BSD License.
|----------------------------------------------------------------------------*/

.jp-icon-hoverShow:not(:hover) svg {
  display: none !important;
}

/**
 * Support for hover colors for icons as inline SVG HTMLElements
 */

/**
 * regular colors
 */

/* recolor the primary elements of an icon */
.jp-icon-hover :hover .jp-icon0-hover[fill] {
  fill: var(--jp-inverse-layout-color0);
}
.jp-icon-hover :hover .jp-icon1-hover[fill] {
  fill: var(--jp-inverse-layout-color1);
}
.jp-icon-hover :hover .jp-icon2-hover[fill] {
  fill: var(--jp-inverse-layout-color2);
}
.jp-icon-hover :hover .jp-icon3-hover[fill] {
  fill: var(--jp-inverse-layout-color3);
}
.jp-icon-hover :hover .jp-icon4-hover[fill] {
  fill: var(--jp-inverse-layout-color4);
}

.jp-icon-hover :hover .jp-icon0-hover[stroke] {
  stroke: var(--jp-inverse-layout-color0);
}
.jp-icon-hover :hover .jp-icon1-hover[stroke] {
  stroke: var(--jp-inverse-layout-color1);
}
.jp-icon-hover :hover .jp-icon2-hover[stroke] {
  stroke: var(--jp-inverse-layout-color2);
}
.jp-icon-hover :hover .jp-icon3-hover[stroke] {
  stroke: var(--jp-inverse-layout-color3);
}
.jp-icon-hover :hover .jp-icon4-hover[stroke] {
  stroke: var(--jp-inverse-layout-color4);
}

/* recolor the accent elements of an icon */
.jp-icon-hover :hover .jp-icon-accent0-hover[fill] {
  fill: var(--jp-layout-color0);
}
.jp-icon-hover :hover .jp-icon-accent1-hover[fill] {
  fill: var(--jp-layout-color1);
}
.jp-icon-hover :hover .jp-icon-accent2-hover[fill] {
  fill: var(--jp-layout-color2);
}
.jp-icon-hover :hover .jp-icon-accent3-hover[fill] {
  fill: var(--jp-layout-color3);
}
.jp-icon-hover :hover .jp-icon-accent4-hover[fill] {
  fill: var(--jp-layout-color4);
}

.jp-icon-hover :hover .jp-icon-accent0-hover[stroke] {
  stroke: var(--jp-layout-color0);
}
.jp-icon-hover :hover .jp-icon-accent1-hover[stroke] {
  stroke: var(--jp-layout-color1);
}
.jp-icon-hover :hover .jp-icon-accent2-hover[stroke] {
  stroke: var(--jp-layout-color2);
}
.jp-icon-hover :hover .jp-icon-accent3-hover[stroke] {
  stroke: var(--jp-layout-color3);
}
.jp-icon-hover :hover .jp-icon-accent4-hover[stroke] {
  stroke: var(--jp-layout-color4);
}

/* set the color of an icon to transparent */
.jp-icon-hover :hover .jp-icon-none-hover[fill] {
  fill: none;
}

.jp-icon-hover :hover .jp-icon-none-hover[stroke] {
  stroke: none;
}

/**
 * inverse colors
 */

/* inverse recolor the primary elements of an icon */
.jp-icon-hover.jp-icon-alt :hover .jp-icon0-hover[fill] {
  fill: var(--jp-layout-color0);
}
.jp-icon-hover.jp-icon-alt :hover .jp-icon1-hover[fill] {
  fill: var(--jp-layout-color1);
}
.jp-icon-hover.jp-icon-alt :hover .jp-icon2-hover[fill] {
  fill: var(--jp-layout-color2);
}
.jp-icon-hover.jp-icon-alt :hover .jp-icon3-hover[fill] {
  fill: var(--jp-layout-color3);
}
.jp-icon-hover.jp-icon-alt :hover .jp-icon4-hover[fill] {
  fill: var(--jp-layout-color4);
}

.jp-icon-hover.jp-icon-alt :hover .jp-icon0-hover[stroke] {
  stroke: var(--jp-layout-color0);
}
.jp-icon-hover.jp-icon-alt :hover .jp-icon1-hover[stroke] {
  stroke: var(--jp-layout-color1);
}
.jp-icon-hover.jp-icon-alt :hover .jp-icon2-hover[stroke] {
  stroke: var(--jp-layout-color2);
}
.jp-icon-hover.jp-icon-alt :hover .jp-icon3-hover[stroke] {
  stroke: var(--jp-layout-color3);
}
.jp-icon-hover.jp-icon-alt :hover .jp-icon4-hover[stroke] {
  stroke: var(--jp-layout-color4);
}

/* inverse recolor the accent elements of an icon */
.jp-icon-hover.jp-icon-alt :hover .jp-icon-accent0-hover[fill] {
  fill: var(--jp-inverse-layout-color0);
}
.jp-icon-hover.jp-icon-alt :hover .jp-icon-accent1-hover[fill] {
  fill: var(--jp-inverse-layout-color1);
}
.jp-icon-hover.jp-icon-alt :hover .jp-icon-accent2-hover[fill] {
  fill: var(--jp-inverse-layout-color2);
}
.jp-icon-hover.jp-icon-alt :hover .jp-icon-accent3-hover[fill] {
  fill: var(--jp-inverse-layout-color3);
}
.jp-icon-hover.jp-icon-alt :hover .jp-icon-accent4-hover[fill] {
  fill: var(--jp-inverse-layout-color4);
}

.jp-icon-hover.jp-icon-alt :hover .jp-icon-accent0-hover[stroke] {
  stroke: var(--jp-inverse-layout-color0);
}
.jp-icon-hover.jp-icon-alt :hover .jp-icon-accent1-hover[stroke] {
  stroke: var(--jp-inverse-layout-color1);
}
.jp-icon-hover.jp-icon-alt :hover .jp-icon-accent2-hover[stroke] {
  stroke: var(--jp-inverse-layout-color2);
}
.jp-icon-hover.jp-icon-alt :hover .jp-icon-accent3-hover[stroke] {
  stroke: var(--jp-inverse-layout-color3);
}
.jp-icon-hover.jp-icon-alt :hover .jp-icon-accent4-hover[stroke] {
  stroke: var(--jp-inverse-layout-color4);
}

/*-----------------------------------------------------------------------------
| Copyright (c) Jupyter Development Team.
| Distributed under the terms of the Modified BSD License.
|----------------------------------------------------------------------------*/

.jp-switch {
  display: flex;
  align-items: center;
  padding-left: 4px;
  padding-right: 4px;
  font-size: var(--jp-ui-font-size1);
  background-color: transparent;
  color: var(--jp-ui-font-color1);
  border: none;
  height: 20px;
}

.jp-switch:hover {
  background-color: var(--jp-layout-color2);
}

.jp-switch-label {
  margin-right: 5px;
}

.jp-switch-track {
  cursor: pointer;
  background-color: var(--jp-border-color1);
  -webkit-transition: 0.4s;
  transition: 0.4s;
  border-radius: 34px;
  height: 16px;
  width: 35px;
  position: relative;
}

.jp-switch-track::before {
  content: '';
  position: absolute;
  height: 10px;
  width: 10px;
  margin: 3px;
  left: 0px;
  background-color: var(--jp-ui-inverse-font-color1);
  -webkit-transition: 0.4s;
  transition: 0.4s;
  border-radius: 50%;
}

.jp-switch[aria-checked='true'] .jp-switch-track {
  background-color: var(--jp-warn-color0);
}

.jp-switch[aria-checked='true'] .jp-switch-track::before {
  /* track width (35) - margins (3 + 3) - thumb width (10) */
  left: 19px;
}

/*-----------------------------------------------------------------------------
| Copyright (c) Jupyter Development Team.
| Distributed under the terms of the Modified BSD License.
|----------------------------------------------------------------------------*/

/* Sibling imports */

/* Override Blueprint's _reset.scss styles */
html {
  box-sizing: unset;
}

*,
*::before,
*::after {
  box-sizing: unset;
}

body {
  color: unset;
  font-family: var(--jp-ui-font-family);
}

p {
  margin-top: unset;
  margin-bottom: unset;
}

small {
  font-size: unset;
}

strong {
  font-weight: unset;
}

/* Override Blueprint's _typography.scss styles */
a {
  text-decoration: unset;
  color: unset;
}
a:hover {
  text-decoration: unset;
  color: unset;
}

/* Override Blueprint's _accessibility.scss styles */
:focus {
  outline: unset;
  outline-offset: unset;
  -moz-outline-radius: unset;
}

/* Styles for ui-components */
.jp-Button {
  border-radius: var(--jp-border-radius);
  padding: 0px 12px;
  font-size: var(--jp-ui-font-size1);
}

/* Use our own theme for hover styles */
button.jp-Button.bp3-button.bp3-minimal:hover {
  background-color: var(--jp-layout-color2);
}
.jp-Button.minimal {
  color: unset !important;
}

.jp-Button.jp-ToolbarButtonComponent {
  text-transform: none;
}

.jp-InputGroup input {
  box-sizing: border-box;
  border-radius: 0;
  background-color: transparent;
  color: var(--jp-ui-font-color0);
  box-shadow: inset 0 0 0 var(--jp-border-width) var(--jp-input-border-color);
}

.jp-InputGroup input:focus {
  box-shadow: inset 0 0 0 var(--jp-border-width)
      var(--jp-input-active-box-shadow-color),
    inset 0 0 0 3px var(--jp-input-active-box-shadow-color);
}

.jp-InputGroup input::placeholder,
input::placeholder {
  color: var(--jp-ui-font-color3);
}

.jp-BPIcon {
  display: inline-block;
  vertical-align: middle;
  margin: auto;
}

/* Stop blueprint futzing with our icon fills */
.bp3-icon.jp-BPIcon > svg:not([fill]) {
  fill: var(--jp-inverse-layout-color3);
}

.jp-InputGroupAction {
  padding: 6px;
}

.jp-HTMLSelect.jp-DefaultStyle select {
  background-color: initial;
  border: none;
  border-radius: 0;
  box-shadow: none;
  color: var(--jp-ui-font-color0);
  display: block;
  font-size: var(--jp-ui-font-size1);
  height: 24px;
  line-height: 14px;
  padding: 0 25px 0 10px;
  text-align: left;
  -moz-appearance: none;
  -webkit-appearance: none;
}

/* Use our own theme for hover and option styles */
.jp-HTMLSelect.jp-DefaultStyle select:hover,
.jp-HTMLSelect.jp-DefaultStyle select > option {
  background-color: var(--jp-layout-color2);
  color: var(--jp-ui-font-color0);
}
select {
  box-sizing: border-box;
}

/*-----------------------------------------------------------------------------
| Copyright (c) Jupyter Development Team.
| Distributed under the terms of the Modified BSD License.
|----------------------------------------------------------------------------*/

.jp-Collapse {
  display: flex;
  flex-direction: column;
  align-items: stretch;
  border-top: 1px solid var(--jp-border-color2);
  border-bottom: 1px solid var(--jp-border-color2);
}

.jp-Collapse-header {
  padding: 1px 12px;
  color: var(--jp-ui-font-color1);
  background-color: var(--jp-layout-color1);
  font-size: var(--jp-ui-font-size2);
}

.jp-Collapse-header:hover {
  background-color: var(--jp-layout-color2);
}

.jp-Collapse-contents {
  padding: 0px 12px 0px 12px;
  background-color: var(--jp-layout-color1);
  color: var(--jp-ui-font-color1);
  overflow: auto;
}

/*-----------------------------------------------------------------------------
| Copyright (c) Jupyter Development Team.
| Distributed under the terms of the Modified BSD License.
|----------------------------------------------------------------------------*/

/*-----------------------------------------------------------------------------
| Variables
|----------------------------------------------------------------------------*/

:root {
  --jp-private-commandpalette-search-height: 28px;
}

/*-----------------------------------------------------------------------------
| Overall styles
|----------------------------------------------------------------------------*/

.lm-CommandPalette {
  padding-bottom: 0px;
  color: var(--jp-ui-font-color1);
  background: var(--jp-layout-color1);
  /* This is needed so that all font sizing of children done in ems is
   * relative to this base size */
  font-size: var(--jp-ui-font-size1);
}

/*-----------------------------------------------------------------------------
| Modal variant
|----------------------------------------------------------------------------*/

.jp-ModalCommandPalette {
  position: absolute;
  z-index: 10000;
  top: 38px;
  left: 30%;
  margin: 0;
  padding: 4px;
  width: 40%;
  box-shadow: var(--jp-elevation-z4);
  border-radius: 4px;
  background: var(--jp-layout-color0);
}

.jp-ModalCommandPalette .lm-CommandPalette {
  max-height: 40vh;
}

.jp-ModalCommandPalette .lm-CommandPalette .lm-close-icon::after {
  display: none;
}

.jp-ModalCommandPalette .lm-CommandPalette .lm-CommandPalette-header {
  display: none;
}

.jp-ModalCommandPalette .lm-CommandPalette .lm-CommandPalette-item {
  margin-left: 4px;
  margin-right: 4px;
}

.jp-ModalCommandPalette
  .lm-CommandPalette
  .lm-CommandPalette-item.lm-mod-disabled {
  display: none;
}

/*-----------------------------------------------------------------------------
| Search
|----------------------------------------------------------------------------*/

.lm-CommandPalette-search {
  padding: 4px;
  background-color: var(--jp-layout-color1);
  z-index: 2;
}

.lm-CommandPalette-wrapper {
  overflow: overlay;
  padding: 0px 9px;
  background-color: var(--jp-input-active-background);
  height: 30px;
  box-shadow: inset 0 0 0 var(--jp-border-width) var(--jp-input-border-color);
}

.lm-CommandPalette.lm-mod-focused .lm-CommandPalette-wrapper {
  box-shadow: inset 0 0 0 1px var(--jp-input-active-box-shadow-color),
    inset 0 0 0 3px var(--jp-input-active-box-shadow-color);
}

.lm-CommandPalette-wrapper::after {
  content: ' ';
  color: white;
  background-color: var(--jp-brand-color1);
  position: absolute;
  top: 4px;
  right: 4px;
  height: 30px;
  width: 10px;
  padding: 0px 10px;
  background-image: var(--jp-icon-search-white);
  background-size: 20px;
  background-repeat: no-repeat;
  background-position: center;
}

.lm-CommandPalette-input {
  background: transparent;
  width: calc(100% - 18px);
  float: left;
  border: none;
  outline: none;
  font-size: var(--jp-ui-font-size1);
  color: var(--jp-ui-font-color0);
  line-height: var(--jp-private-commandpalette-search-height);
}

.lm-CommandPalette-input::-webkit-input-placeholder,
.lm-CommandPalette-input::-moz-placeholder,
.lm-CommandPalette-input:-ms-input-placeholder {
  color: var(--jp-ui-font-color3);
  font-size: var(--jp-ui-font-size1);
}

/*-----------------------------------------------------------------------------
| Results
|----------------------------------------------------------------------------*/

.lm-CommandPalette-header:first-child {
  margin-top: 0px;
}

.lm-CommandPalette-header {
  border-bottom: solid var(--jp-border-width) var(--jp-border-color2);
  color: var(--jp-ui-font-color1);
  cursor: pointer;
  display: flex;
  font-size: var(--jp-ui-font-size0);
  font-weight: 600;
  letter-spacing: 1px;
  margin-top: 8px;
  padding: 8px 0 8px 12px;
  text-transform: uppercase;
}

.lm-CommandPalette-header.lm-mod-active {
  background: var(--jp-layout-color2);
}

.lm-CommandPalette-header > mark {
  background-color: transparent;
  font-weight: bold;
  color: var(--jp-ui-font-color1);
}

.lm-CommandPalette-item {
  padding: 4px 12px 4px 4px;
  color: var(--jp-ui-font-color1);
  font-size: var(--jp-ui-font-size1);
  font-weight: 400;
  display: flex;
}

.lm-CommandPalette-item.lm-mod-disabled {
  color: var(--jp-ui-font-color3);
}

.lm-CommandPalette-item.lm-mod-active {
  background: var(--jp-layout-color3);
}

.lm-CommandPalette-item.lm-mod-active:hover:not(.lm-mod-disabled) {
  background: var(--jp-layout-color4);
}

.lm-CommandPalette-item:hover:not(.lm-mod-active):not(.lm-mod-disabled) {
  background: var(--jp-layout-color2);
}

.lm-CommandPalette-itemContent {
  overflow: hidden;
}

.lm-CommandPalette-itemLabel > mark {
  color: var(--jp-ui-font-color0);
  background-color: transparent;
  font-weight: bold;
}

.lm-CommandPalette-item.lm-mod-disabled mark {
  color: var(--jp-ui-font-color3);
}

.lm-CommandPalette-item .lm-CommandPalette-itemIcon {
  margin: 0 4px 0 0;
  position: relative;
  width: 16px;
  top: 2px;
  flex: 0 0 auto;
}

.lm-CommandPalette-item.lm-mod-disabled .lm-CommandPalette-itemIcon {
  opacity: 0.4;
}

.lm-CommandPalette-item .lm-CommandPalette-itemShortcut {
  flex: 0 0 auto;
}

.lm-CommandPalette-itemCaption {
  display: none;
}

.lm-CommandPalette-content {
  background-color: var(--jp-layout-color1);
}

.lm-CommandPalette-content:empty:after {
  content: 'No results';
  margin: auto;
  margin-top: 20px;
  width: 100px;
  display: block;
  font-size: var(--jp-ui-font-size2);
  font-family: var(--jp-ui-font-family);
  font-weight: lighter;
}

.lm-CommandPalette-emptyMessage {
  text-align: center;
  margin-top: 24px;
  line-height: 1.32;
  padding: 0px 8px;
  color: var(--jp-content-font-color3);
}

/*-----------------------------------------------------------------------------
| Copyright (c) 2014-2017, Jupyter Development Team.
|
| Distributed under the terms of the Modified BSD License.
|----------------------------------------------------------------------------*/

.jp-Dialog {
  position: absolute;
  z-index: 10000;
  display: flex;
  flex-direction: column;
  align-items: center;
  justify-content: center;
  top: 0px;
  left: 0px;
  margin: 0;
  padding: 0;
  width: 100%;
  height: 100%;
  background: var(--jp-dialog-background);
}

.jp-Dialog-content {
  display: flex;
  flex-direction: column;
  margin-left: auto;
  margin-right: auto;
  background: var(--jp-layout-color1);
  padding: 24px;
  padding-bottom: 12px;
  min-width: 300px;
  min-height: 150px;
  max-width: 1000px;
  max-height: 500px;
  box-sizing: border-box;
  box-shadow: var(--jp-elevation-z20);
  word-wrap: break-word;
  border-radius: var(--jp-border-radius);
  /* This is needed so that all font sizing of children done in ems is
   * relative to this base size */
  font-size: var(--jp-ui-font-size1);
  color: var(--jp-ui-font-color1);
  resize: both;
}

.jp-Dialog-button {
  overflow: visible;
}

button.jp-Dialog-button:focus {
  outline: 1px solid var(--jp-brand-color1);
  outline-offset: 4px;
  -moz-outline-radius: 0px;
}

button.jp-Dialog-button:focus::-moz-focus-inner {
  border: 0;
}

button.jp-Dialog-close-button {
  padding: 0;
  height: 100%;
  min-width: unset;
  min-height: unset;
}

.jp-Dialog-header {
  display: flex;
  justify-content: space-between;
  flex: 0 0 auto;
  padding-bottom: 12px;
  font-size: var(--jp-ui-font-size3);
  font-weight: 400;
  color: var(--jp-ui-font-color0);
}

.jp-Dialog-body {
  display: flex;
  flex-direction: column;
  flex: 1 1 auto;
  font-size: var(--jp-ui-font-size1);
  background: var(--jp-layout-color1);
  overflow: auto;
}

.jp-Dialog-footer {
  display: flex;
  flex-direction: row;
  justify-content: flex-end;
  flex: 0 0 auto;
  margin-left: -12px;
  margin-right: -12px;
  padding: 12px;
}

.jp-Dialog-title {
  overflow: hidden;
  white-space: nowrap;
  text-overflow: ellipsis;
}

.jp-Dialog-body > .jp-select-wrapper {
  width: 100%;
}

.jp-Dialog-body > button {
  padding: 0px 16px;
}

.jp-Dialog-body > label {
  line-height: 1.4;
  color: var(--jp-ui-font-color0);
}

.jp-Dialog-button.jp-mod-styled:not(:last-child) {
  margin-right: 12px;
}

/*-----------------------------------------------------------------------------
| Copyright (c) 2014-2016, Jupyter Development Team.
|
| Distributed under the terms of the Modified BSD License.
|----------------------------------------------------------------------------*/

.jp-HoverBox {
  position: fixed;
}

.jp-HoverBox.jp-mod-outofview {
  display: none;
}

/*-----------------------------------------------------------------------------
| Copyright (c) Jupyter Development Team.
| Distributed under the terms of the Modified BSD License.
|----------------------------------------------------------------------------*/

.jp-IFrame {
  width: 100%;
  height: 100%;
}

.jp-IFrame > iframe {
  border: none;
}

/*
When drag events occur, `p-mod-override-cursor` is added to the body.
Because iframes steal all cursor events, the following two rules are necessary
to suppress pointer events while resize drags are occurring. There may be a
better solution to this problem.
*/
body.lm-mod-override-cursor .jp-IFrame {
  position: relative;
}

body.lm-mod-override-cursor .jp-IFrame:before {
  content: '';
  position: absolute;
  top: 0;
  left: 0;
  right: 0;
  bottom: 0;
  background: transparent;
}

/*-----------------------------------------------------------------------------
| Copyright (c) 2014-2016, Jupyter Development Team.
|
| Distributed under the terms of the Modified BSD License.
|----------------------------------------------------------------------------*/

.jp-MainAreaWidget > :focus {
  outline: none;
}

/**
 * google-material-color v1.2.6
 * https://github.com/danlevan/google-material-color
 */
:root {
  --md-red-50: #ffebee;
  --md-red-100: #ffcdd2;
  --md-red-200: #ef9a9a;
  --md-red-300: #e57373;
  --md-red-400: #ef5350;
  --md-red-500: #f44336;
  --md-red-600: #e53935;
  --md-red-700: #d32f2f;
  --md-red-800: #c62828;
  --md-red-900: #b71c1c;
  --md-red-A100: #ff8a80;
  --md-red-A200: #ff5252;
  --md-red-A400: #ff1744;
  --md-red-A700: #d50000;

  --md-pink-50: #fce4ec;
  --md-pink-100: #f8bbd0;
  --md-pink-200: #f48fb1;
  --md-pink-300: #f06292;
  --md-pink-400: #ec407a;
  --md-pink-500: #e91e63;
  --md-pink-600: #d81b60;
  --md-pink-700: #c2185b;
  --md-pink-800: #ad1457;
  --md-pink-900: #880e4f;
  --md-pink-A100: #ff80ab;
  --md-pink-A200: #ff4081;
  --md-pink-A400: #f50057;
  --md-pink-A700: #c51162;

  --md-purple-50: #f3e5f5;
  --md-purple-100: #e1bee7;
  --md-purple-200: #ce93d8;
  --md-purple-300: #ba68c8;
  --md-purple-400: #ab47bc;
  --md-purple-500: #9c27b0;
  --md-purple-600: #8e24aa;
  --md-purple-700: #7b1fa2;
  --md-purple-800: #6a1b9a;
  --md-purple-900: #4a148c;
  --md-purple-A100: #ea80fc;
  --md-purple-A200: #e040fb;
  --md-purple-A400: #d500f9;
  --md-purple-A700: #aa00ff;

  --md-deep-purple-50: #ede7f6;
  --md-deep-purple-100: #d1c4e9;
  --md-deep-purple-200: #b39ddb;
  --md-deep-purple-300: #9575cd;
  --md-deep-purple-400: #7e57c2;
  --md-deep-purple-500: #673ab7;
  --md-deep-purple-600: #5e35b1;
  --md-deep-purple-700: #512da8;
  --md-deep-purple-800: #4527a0;
  --md-deep-purple-900: #311b92;
  --md-deep-purple-A100: #b388ff;
  --md-deep-purple-A200: #7c4dff;
  --md-deep-purple-A400: #651fff;
  --md-deep-purple-A700: #6200ea;

  --md-indigo-50: #e8eaf6;
  --md-indigo-100: #c5cae9;
  --md-indigo-200: #9fa8da;
  --md-indigo-300: #7986cb;
  --md-indigo-400: #5c6bc0;
  --md-indigo-500: #3f51b5;
  --md-indigo-600: #3949ab;
  --md-indigo-700: #303f9f;
  --md-indigo-800: #283593;
  --md-indigo-900: #1a237e;
  --md-indigo-A100: #8c9eff;
  --md-indigo-A200: #536dfe;
  --md-indigo-A400: #3d5afe;
  --md-indigo-A700: #304ffe;

  --md-blue-50: #e3f2fd;
  --md-blue-100: #bbdefb;
  --md-blue-200: #90caf9;
  --md-blue-300: #64b5f6;
  --md-blue-400: #42a5f5;
  --md-blue-500: #2196f3;
  --md-blue-600: #1e88e5;
  --md-blue-700: #1976d2;
  --md-blue-800: #1565c0;
  --md-blue-900: #0d47a1;
  --md-blue-A100: #82b1ff;
  --md-blue-A200: #448aff;
  --md-blue-A400: #2979ff;
  --md-blue-A700: #2962ff;

  --md-light-blue-50: #e1f5fe;
  --md-light-blue-100: #b3e5fc;
  --md-light-blue-200: #81d4fa;
  --md-light-blue-300: #4fc3f7;
  --md-light-blue-400: #29b6f6;
  --md-light-blue-500: #03a9f4;
  --md-light-blue-600: #039be5;
  --md-light-blue-700: #0288d1;
  --md-light-blue-800: #0277bd;
  --md-light-blue-900: #01579b;
  --md-light-blue-A100: #80d8ff;
  --md-light-blue-A200: #40c4ff;
  --md-light-blue-A400: #00b0ff;
  --md-light-blue-A700: #0091ea;

  --md-cyan-50: #e0f7fa;
  --md-cyan-100: #b2ebf2;
  --md-cyan-200: #80deea;
  --md-cyan-300: #4dd0e1;
  --md-cyan-400: #26c6da;
  --md-cyan-500: #00bcd4;
  --md-cyan-600: #00acc1;
  --md-cyan-700: #0097a7;
  --md-cyan-800: #00838f;
  --md-cyan-900: #006064;
  --md-cyan-A100: #84ffff;
  --md-cyan-A200: #18ffff;
  --md-cyan-A400: #00e5ff;
  --md-cyan-A700: #00b8d4;

  --md-teal-50: #e0f2f1;
  --md-teal-100: #b2dfdb;
  --md-teal-200: #80cbc4;
  --md-teal-300: #4db6ac;
  --md-teal-400: #26a69a;
  --md-teal-500: #009688;
  --md-teal-600: #00897b;
  --md-teal-700: #00796b;
  --md-teal-800: #00695c;
  --md-teal-900: #004d40;
  --md-teal-A100: #a7ffeb;
  --md-teal-A200: #64ffda;
  --md-teal-A400: #1de9b6;
  --md-teal-A700: #00bfa5;

  --md-green-50: #e8f5e9;
  --md-green-100: #c8e6c9;
  --md-green-200: #a5d6a7;
  --md-green-300: #81c784;
  --md-green-400: #66bb6a;
  --md-green-500: #4caf50;
  --md-green-600: #43a047;
  --md-green-700: #388e3c;
  --md-green-800: #2e7d32;
  --md-green-900: #1b5e20;
  --md-green-A100: #b9f6ca;
  --md-green-A200: #69f0ae;
  --md-green-A400: #00e676;
  --md-green-A700: #00c853;

  --md-light-green-50: #f1f8e9;
  --md-light-green-100: #dcedc8;
  --md-light-green-200: #c5e1a5;
  --md-light-green-300: #aed581;
  --md-light-green-400: #9ccc65;
  --md-light-green-500: #8bc34a;
  --md-light-green-600: #7cb342;
  --md-light-green-700: #689f38;
  --md-light-green-800: #558b2f;
  --md-light-green-900: #33691e;
  --md-light-green-A100: #ccff90;
  --md-light-green-A200: #b2ff59;
  --md-light-green-A400: #76ff03;
  --md-light-green-A700: #64dd17;

  --md-lime-50: #f9fbe7;
  --md-lime-100: #f0f4c3;
  --md-lime-200: #e6ee9c;
  --md-lime-300: #dce775;
  --md-lime-400: #d4e157;
  --md-lime-500: #cddc39;
  --md-lime-600: #c0ca33;
  --md-lime-700: #afb42b;
  --md-lime-800: #9e9d24;
  --md-lime-900: #827717;
  --md-lime-A100: #f4ff81;
  --md-lime-A200: #eeff41;
  --md-lime-A400: #c6ff00;
  --md-lime-A700: #aeea00;

  --md-yellow-50: #fffde7;
  --md-yellow-100: #fff9c4;
  --md-yellow-200: #fff59d;
  --md-yellow-300: #fff176;
  --md-yellow-400: #ffee58;
  --md-yellow-500: #ffeb3b;
  --md-yellow-600: #fdd835;
  --md-yellow-700: #fbc02d;
  --md-yellow-800: #f9a825;
  --md-yellow-900: #f57f17;
  --md-yellow-A100: #ffff8d;
  --md-yellow-A200: #ffff00;
  --md-yellow-A400: #ffea00;
  --md-yellow-A700: #ffd600;

  --md-amber-50: #fff8e1;
  --md-amber-100: #ffecb3;
  --md-amber-200: #ffe082;
  --md-amber-300: #ffd54f;
  --md-amber-400: #ffca28;
  --md-amber-500: #ffc107;
  --md-amber-600: #ffb300;
  --md-amber-700: #ffa000;
  --md-amber-800: #ff8f00;
  --md-amber-900: #ff6f00;
  --md-amber-A100: #ffe57f;
  --md-amber-A200: #ffd740;
  --md-amber-A400: #ffc400;
  --md-amber-A700: #ffab00;

  --md-orange-50: #fff3e0;
  --md-orange-100: #ffe0b2;
  --md-orange-200: #ffcc80;
  --md-orange-300: #ffb74d;
  --md-orange-400: #ffa726;
  --md-orange-500: #ff9800;
  --md-orange-600: #fb8c00;
  --md-orange-700: #f57c00;
  --md-orange-800: #ef6c00;
  --md-orange-900: #e65100;
  --md-orange-A100: #ffd180;
  --md-orange-A200: #ffab40;
  --md-orange-A400: #ff9100;
  --md-orange-A700: #ff6d00;

  --md-deep-orange-50: #fbe9e7;
  --md-deep-orange-100: #ffccbc;
  --md-deep-orange-200: #ffab91;
  --md-deep-orange-300: #ff8a65;
  --md-deep-orange-400: #ff7043;
  --md-deep-orange-500: #ff5722;
  --md-deep-orange-600: #f4511e;
  --md-deep-orange-700: #e64a19;
  --md-deep-orange-800: #d84315;
  --md-deep-orange-900: #bf360c;
  --md-deep-orange-A100: #ff9e80;
  --md-deep-orange-A200: #ff6e40;
  --md-deep-orange-A400: #ff3d00;
  --md-deep-orange-A700: #dd2c00;

  --md-brown-50: #efebe9;
  --md-brown-100: #d7ccc8;
  --md-brown-200: #bcaaa4;
  --md-brown-300: #a1887f;
  --md-brown-400: #8d6e63;
  --md-brown-500: #795548;
  --md-brown-600: #6d4c41;
  --md-brown-700: #5d4037;
  --md-brown-800: #4e342e;
  --md-brown-900: #3e2723;

  --md-grey-50: #fafafa;
  --md-grey-100: #f5f5f5;
  --md-grey-200: #eeeeee;
  --md-grey-300: #e0e0e0;
  --md-grey-400: #bdbdbd;
  --md-grey-500: #9e9e9e;
  --md-grey-600: #757575;
  --md-grey-700: #616161;
  --md-grey-800: #424242;
  --md-grey-900: #212121;

  --md-blue-grey-50: #eceff1;
  --md-blue-grey-100: #cfd8dc;
  --md-blue-grey-200: #b0bec5;
  --md-blue-grey-300: #90a4ae;
  --md-blue-grey-400: #78909c;
  --md-blue-grey-500: #607d8b;
  --md-blue-grey-600: #546e7a;
  --md-blue-grey-700: #455a64;
  --md-blue-grey-800: #37474f;
  --md-blue-grey-900: #263238;
}

/*-----------------------------------------------------------------------------
| Copyright (c) 2017, Jupyter Development Team.
|
| Distributed under the terms of the Modified BSD License.
|----------------------------------------------------------------------------*/

.jp-Spinner {
  position: absolute;
  display: flex;
  justify-content: center;
  align-items: center;
  z-index: 10;
  left: 0;
  top: 0;
  width: 100%;
  height: 100%;
  background: var(--jp-layout-color0);
  outline: none;
}

.jp-SpinnerContent {
  font-size: 10px;
  margin: 50px auto;
  text-indent: -9999em;
  width: 3em;
  height: 3em;
  border-radius: 50%;
  background: var(--jp-brand-color3);
  background: linear-gradient(
    to right,
    #f37626 10%,
    rgba(255, 255, 255, 0) 42%
  );
  position: relative;
  animation: load3 1s infinite linear, fadeIn 1s;
}

.jp-SpinnerContent:before {
  width: 50%;
  height: 50%;
  background: #f37626;
  border-radius: 100% 0 0 0;
  position: absolute;
  top: 0;
  left: 0;
  content: '';
}

.jp-SpinnerContent:after {
  background: var(--jp-layout-color0);
  width: 75%;
  height: 75%;
  border-radius: 50%;
  content: '';
  margin: auto;
  position: absolute;
  top: 0;
  left: 0;
  bottom: 0;
  right: 0;
}

@keyframes fadeIn {
  0% {
    opacity: 0;
  }
  100% {
    opacity: 1;
  }
}

@keyframes load3 {
  0% {
    transform: rotate(0deg);
  }
  100% {
    transform: rotate(360deg);
  }
}

/*-----------------------------------------------------------------------------
| Copyright (c) 2014-2017, Jupyter Development Team.
|
| Distributed under the terms of the Modified BSD License.
|----------------------------------------------------------------------------*/

button.jp-mod-styled {
  font-size: var(--jp-ui-font-size1);
  color: var(--jp-ui-font-color0);
  border: none;
  box-sizing: border-box;
  text-align: center;
  line-height: 32px;
  height: 32px;
  padding: 0px 12px;
  letter-spacing: 0.8px;
  outline: none;
  appearance: none;
  -webkit-appearance: none;
  -moz-appearance: none;
}

input.jp-mod-styled {
  background: var(--jp-input-background);
  height: 28px;
  box-sizing: border-box;
  border: var(--jp-border-width) solid var(--jp-border-color1);
  padding-left: 7px;
  padding-right: 7px;
  font-size: var(--jp-ui-font-size2);
  color: var(--jp-ui-font-color0);
  outline: none;
  appearance: none;
  -webkit-appearance: none;
  -moz-appearance: none;
}

input.jp-mod-styled:focus {
  border: var(--jp-border-width) solid var(--md-blue-500);
  box-shadow: inset 0 0 4px var(--md-blue-300);
}

.jp-select-wrapper {
  display: flex;
  position: relative;
  flex-direction: column;
  padding: 1px;
  background-color: var(--jp-layout-color1);
  height: 28px;
  box-sizing: border-box;
  margin-bottom: 12px;
}

.jp-select-wrapper.jp-mod-focused select.jp-mod-styled {
  border: var(--jp-border-width) solid var(--jp-input-active-border-color);
  box-shadow: var(--jp-input-box-shadow);
  background-color: var(--jp-input-active-background);
}

select.jp-mod-styled:hover {
  background-color: var(--jp-layout-color1);
  cursor: pointer;
  color: var(--jp-ui-font-color0);
  background-color: var(--jp-input-hover-background);
  box-shadow: inset 0 0px 1px rgba(0, 0, 0, 0.5);
}

select.jp-mod-styled {
  flex: 1 1 auto;
  height: 32px;
  width: 100%;
  font-size: var(--jp-ui-font-size2);
  background: var(--jp-input-background);
  color: var(--jp-ui-font-color0);
  padding: 0 25px 0 8px;
  border: var(--jp-border-width) solid var(--jp-input-border-color);
  border-radius: 0px;
  outline: none;
  appearance: none;
  -webkit-appearance: none;
  -moz-appearance: none;
}

/*-----------------------------------------------------------------------------
| Copyright (c) 2014-2016, Jupyter Development Team.
|
| Distributed under the terms of the Modified BSD License.
|----------------------------------------------------------------------------*/

:root {
  --jp-private-toolbar-height: calc(
    28px + var(--jp-border-width)
  ); /* leave 28px for content */
}

.jp-Toolbar {
  color: var(--jp-ui-font-color1);
  flex: 0 0 auto;
  display: flex;
  flex-direction: row;
  border-bottom: var(--jp-border-width) solid var(--jp-toolbar-border-color);
  box-shadow: var(--jp-toolbar-box-shadow);
  background: var(--jp-toolbar-background);
  min-height: var(--jp-toolbar-micro-height);
  padding: 2px;
  z-index: 1;
  overflow-x: hidden;
}

.jp-Toolbar:hover {
  overflow-x: auto;
}

/* Toolbar items */

.jp-Toolbar > .jp-Toolbar-item.jp-Toolbar-spacer {
  flex-grow: 1;
  flex-shrink: 1;
}

.jp-Toolbar-item.jp-Toolbar-kernelStatus {
  display: inline-block;
  width: 32px;
  background-repeat: no-repeat;
  background-position: center;
  background-size: 16px;
}

.jp-Toolbar > .jp-Toolbar-item {
  flex: 0 0 auto;
  display: flex;
  padding-left: 1px;
  padding-right: 1px;
  font-size: var(--jp-ui-font-size1);
  line-height: var(--jp-private-toolbar-height);
  height: 100%;
}

/* Toolbar buttons */

/* This is the div we use to wrap the react component into a Widget */
div.jp-ToolbarButton {
  color: transparent;
  border: none;
  box-sizing: border-box;
  outline: none;
  appearance: none;
  -webkit-appearance: none;
  -moz-appearance: none;
  padding: 0px;
  margin: 0px;
}

button.jp-ToolbarButtonComponent {
  background: var(--jp-layout-color1);
  border: none;
  box-sizing: border-box;
  outline: none;
  appearance: none;
  -webkit-appearance: none;
  -moz-appearance: none;
  padding: 0px 6px;
  margin: 0px;
  height: 24px;
  border-radius: var(--jp-border-radius);
  display: flex;
  align-items: center;
  text-align: center;
  font-size: 14px;
  min-width: unset;
  min-height: unset;
}

button.jp-ToolbarButtonComponent:disabled {
  opacity: 0.4;
}

button.jp-ToolbarButtonComponent span {
  padding: 0px;
  flex: 0 0 auto;
}

button.jp-ToolbarButtonComponent .jp-ToolbarButtonComponent-label {
  font-size: var(--jp-ui-font-size1);
  line-height: 100%;
  padding-left: 2px;
  color: var(--jp-ui-font-color1);
}

#jp-main-dock-panel[data-mode='single-document']
  .jp-MainAreaWidget
  > .jp-Toolbar.jp-Toolbar-micro {
  padding: 0;
  min-height: 0;
}

#jp-main-dock-panel[data-mode='single-document']
  .jp-MainAreaWidget
  > .jp-Toolbar {
  border: none;
  box-shadow: none;
}

/*-----------------------------------------------------------------------------
| Copyright (c) 2014-2017, Jupyter Development Team.
|
| Distributed under the terms of the Modified BSD License.
|----------------------------------------------------------------------------*/

/*-----------------------------------------------------------------------------
| Copyright (c) Jupyter Development Team.
| Copyright (c) 2014-2017, PhosphorJS Contributors
|
| Distributed under the terms of the BSD 3-Clause License.
|
| The full license is in the file LICENSE, distributed with this software.
|----------------------------------------------------------------------------*/


/* <DEPRECATED> */ body.p-mod-override-cursor *, /* </DEPRECATED> */
body.lm-mod-override-cursor * {
  cursor: inherit !important;
}

/*-----------------------------------------------------------------------------
| Copyright (c) 2014-2016, Jupyter Development Team.
|
| Distributed under the terms of the Modified BSD License.
|----------------------------------------------------------------------------*/

.jp-JSONEditor {
  display: flex;
  flex-direction: column;
  width: 100%;
}

.jp-JSONEditor-host {
  flex: 1 1 auto;
  border: var(--jp-border-width) solid var(--jp-input-border-color);
  border-radius: 0px;
  background: var(--jp-layout-color0);
  min-height: 50px;
  padding: 1px;
}

.jp-JSONEditor.jp-mod-error .jp-JSONEditor-host {
  border-color: red;
  outline-color: red;
}

.jp-JSONEditor-header {
  display: flex;
  flex: 1 0 auto;
  padding: 0 0 0 12px;
}

.jp-JSONEditor-header label {
  flex: 0 0 auto;
}

.jp-JSONEditor-commitButton {
  height: 16px;
  width: 16px;
  background-size: 18px;
  background-repeat: no-repeat;
  background-position: center;
}

.jp-JSONEditor-host.jp-mod-focused {
  background-color: var(--jp-input-active-background);
  border: 1px solid var(--jp-input-active-border-color);
  box-shadow: var(--jp-input-box-shadow);
}

.jp-Editor.jp-mod-dropTarget {
  border: var(--jp-border-width) solid var(--jp-input-active-border-color);
  box-shadow: var(--jp-input-box-shadow);
}

/* BASICS */

.CodeMirror {
  /* Set height, width, borders, and global font properties here */
  font-family: monospace;
  height: 300px;
  color: black;
  direction: ltr;
}

/* PADDING */

.CodeMirror-lines {
  padding: 4px 0; /* Vertical padding around content */
}
.CodeMirror pre.CodeMirror-line,
.CodeMirror pre.CodeMirror-line-like {
  padding: 0 4px; /* Horizontal padding of content */
}

.CodeMirror-scrollbar-filler, .CodeMirror-gutter-filler {
  background-color: white; /* The little square between H and V scrollbars */
}

/* GUTTER */

.CodeMirror-gutters {
  border-right: 1px solid #ddd;
  background-color: #f7f7f7;
  white-space: nowrap;
}
.CodeMirror-linenumbers {}
.CodeMirror-linenumber {
  padding: 0 3px 0 5px;
  min-width: 20px;
  text-align: right;
  color: #999;
  white-space: nowrap;
}

.CodeMirror-guttermarker { color: black; }
.CodeMirror-guttermarker-subtle { color: #999; }

/* CURSOR */

.CodeMirror-cursor {
  border-left: 1px solid black;
  border-right: none;
  width: 0;
}
/* Shown when moving in bi-directional text */
.CodeMirror div.CodeMirror-secondarycursor {
  border-left: 1px solid silver;
}
.cm-fat-cursor .CodeMirror-cursor {
  width: auto;
  border: 0 !important;
  background: #7e7;
}
.cm-fat-cursor div.CodeMirror-cursors {
  z-index: 1;
}
.cm-fat-cursor-mark {
  background-color: rgba(20, 255, 20, 0.5);
  -webkit-animation: blink 1.06s steps(1) infinite;
  -moz-animation: blink 1.06s steps(1) infinite;
  animation: blink 1.06s steps(1) infinite;
}
.cm-animate-fat-cursor {
  width: auto;
  border: 0;
  -webkit-animation: blink 1.06s steps(1) infinite;
  -moz-animation: blink 1.06s steps(1) infinite;
  animation: blink 1.06s steps(1) infinite;
  background-color: #7e7;
}
@-moz-keyframes blink {
  0% {}
  50% { background-color: transparent; }
  100% {}
}
@-webkit-keyframes blink {
  0% {}
  50% { background-color: transparent; }
  100% {}
}
@keyframes blink {
  0% {}
  50% { background-color: transparent; }
  100% {}
}

/* Can style cursor different in overwrite (non-insert) mode */
.CodeMirror-overwrite .CodeMirror-cursor {}

.cm-tab { display: inline-block; text-decoration: inherit; }

.CodeMirror-rulers {
  position: absolute;
  left: 0; right: 0; top: -50px; bottom: 0;
  overflow: hidden;
}
.CodeMirror-ruler {
  border-left: 1px solid #ccc;
  top: 0; bottom: 0;
  position: absolute;
}

/* DEFAULT THEME */

.cm-s-default .cm-header {color: blue;}
.cm-s-default .cm-quote {color: #090;}
.cm-negative {color: #d44;}
.cm-positive {color: #292;}
.cm-header, .cm-strong {font-weight: bold;}
.cm-em {font-style: italic;}
.cm-link {text-decoration: underline;}
.cm-strikethrough {text-decoration: line-through;}

.cm-s-default .cm-keyword {color: #708;}
.cm-s-default .cm-atom {color: #219;}
.cm-s-default .cm-number {color: #164;}
.cm-s-default .cm-def {color: #00f;}
.cm-s-default .cm-variable,
.cm-s-default .cm-punctuation,
.cm-s-default .cm-property,
.cm-s-default .cm-operator {}
.cm-s-default .cm-variable-2 {color: #05a;}
.cm-s-default .cm-variable-3, .cm-s-default .cm-type {color: #085;}
.cm-s-default .cm-comment {color: #a50;}
.cm-s-default .cm-string {color: #a11;}
.cm-s-default .cm-string-2 {color: #f50;}
.cm-s-default .cm-meta {color: #555;}
.cm-s-default .cm-qualifier {color: #555;}
.cm-s-default .cm-builtin {color: #30a;}
.cm-s-default .cm-bracket {color: #997;}
.cm-s-default .cm-tag {color: #170;}
.cm-s-default .cm-attribute {color: #00c;}
.cm-s-default .cm-hr {color: #999;}
.cm-s-default .cm-link {color: #00c;}

.cm-s-default .cm-error {color: #f00;}
.cm-invalidchar {color: #f00;}

.CodeMirror-composing { border-bottom: 2px solid; }

/* Default styles for common addons */

div.CodeMirror span.CodeMirror-matchingbracket {color: #0b0;}
div.CodeMirror span.CodeMirror-nonmatchingbracket {color: #a22;}
.CodeMirror-matchingtag { background: rgba(255, 150, 0, .3); }
.CodeMirror-activeline-background {background: #e8f2ff;}

/* STOP */

/* The rest of this file contains styles related to the mechanics of
   the editor. You probably shouldn't touch them. */

.CodeMirror {
  position: relative;
  overflow: hidden;
  background: white;
}

.CodeMirror-scroll {
  overflow: scroll !important; /* Things will break if this is overridden */
  /* 50px is the magic margin used to hide the element's real scrollbars */
  /* See overflow: hidden in .CodeMirror */
  margin-bottom: -50px; margin-right: -50px;
  padding-bottom: 50px;
  height: 100%;
  outline: none; /* Prevent dragging from highlighting the element */
  position: relative;
}
.CodeMirror-sizer {
  position: relative;
  border-right: 50px solid transparent;
}

/* The fake, visible scrollbars. Used to force redraw during scrolling
   before actual scrolling happens, thus preventing shaking and
   flickering artifacts. */
.CodeMirror-vscrollbar, .CodeMirror-hscrollbar, .CodeMirror-scrollbar-filler, .CodeMirror-gutter-filler {
  position: absolute;
  z-index: 6;
  display: none;
}
.CodeMirror-vscrollbar {
  right: 0; top: 0;
  overflow-x: hidden;
  overflow-y: scroll;
}
.CodeMirror-hscrollbar {
  bottom: 0; left: 0;
  overflow-y: hidden;
  overflow-x: scroll;
}
.CodeMirror-scrollbar-filler {
  right: 0; bottom: 0;
}
.CodeMirror-gutter-filler {
  left: 0; bottom: 0;
}

.CodeMirror-gutters {
  position: absolute; left: 0; top: 0;
  min-height: 100%;
  z-index: 3;
}
.CodeMirror-gutter {
  white-space: normal;
  height: 100%;
  display: inline-block;
  vertical-align: top;
  margin-bottom: -50px;
}
.CodeMirror-gutter-wrapper {
  position: absolute;
  z-index: 4;
  background: none !important;
  border: none !important;
}
.CodeMirror-gutter-background {
  position: absolute;
  top: 0; bottom: 0;
  z-index: 4;
}
.CodeMirror-gutter-elt {
  position: absolute;
  cursor: default;
  z-index: 4;
}
.CodeMirror-gutter-wrapper ::selection { background-color: transparent }
.CodeMirror-gutter-wrapper ::-moz-selection { background-color: transparent }

.CodeMirror-lines {
  cursor: text;
  min-height: 1px; /* prevents collapsing before first draw */
}
.CodeMirror pre.CodeMirror-line,
.CodeMirror pre.CodeMirror-line-like {
  /* Reset some styles that the rest of the page might have set */
  -moz-border-radius: 0; -webkit-border-radius: 0; border-radius: 0;
  border-width: 0;
  background: transparent;
  font-family: inherit;
  font-size: inherit;
  margin: 0;
  white-space: pre;
  word-wrap: normal;
  line-height: inherit;
  color: inherit;
  z-index: 2;
  position: relative;
  overflow: visible;
  -webkit-tap-highlight-color: transparent;
  -webkit-font-variant-ligatures: contextual;
  font-variant-ligatures: contextual;
}
.CodeMirror-wrap pre.CodeMirror-line,
.CodeMirror-wrap pre.CodeMirror-line-like {
  word-wrap: break-word;
  white-space: pre-wrap;
  word-break: normal;
}

.CodeMirror-linebackground {
  position: absolute;
  left: 0; right: 0; top: 0; bottom: 0;
  z-index: 0;
}

.CodeMirror-linewidget {
  position: relative;
  z-index: 2;
  padding: 0.1px; /* Force widget margins to stay inside of the container */
}

.CodeMirror-widget {}

.CodeMirror-rtl pre { direction: rtl; }

.CodeMirror-code {
  outline: none;
}

/* Force content-box sizing for the elements where we expect it */
.CodeMirror-scroll,
.CodeMirror-sizer,
.CodeMirror-gutter,
.CodeMirror-gutters,
.CodeMirror-linenumber {
  -moz-box-sizing: content-box;
  box-sizing: content-box;
}

.CodeMirror-measure {
  position: absolute;
  width: 100%;
  height: 0;
  overflow: hidden;
  visibility: hidden;
}

.CodeMirror-cursor {
  position: absolute;
  pointer-events: none;
}
.CodeMirror-measure pre { position: static; }

div.CodeMirror-cursors {
  visibility: hidden;
  position: relative;
  z-index: 3;
}
div.CodeMirror-dragcursors {
  visibility: visible;
}

.CodeMirror-focused div.CodeMirror-cursors {
  visibility: visible;
}

.CodeMirror-selected { background: #d9d9d9; }
.CodeMirror-focused .CodeMirror-selected { background: #d7d4f0; }
.CodeMirror-crosshair { cursor: crosshair; }
.CodeMirror-line::selection, .CodeMirror-line > span::selection, .CodeMirror-line > span > span::selection { background: #d7d4f0; }
.CodeMirror-line::-moz-selection, .CodeMirror-line > span::-moz-selection, .CodeMirror-line > span > span::-moz-selection { background: #d7d4f0; }

.cm-searching {
  background-color: #ffa;
  background-color: rgba(255, 255, 0, .4);
}

/* Used to force a border model for a node */
.cm-force-border { padding-right: .1px; }

@media print {
  /* Hide the cursor when printing */
  .CodeMirror div.CodeMirror-cursors {
    visibility: hidden;
  }
}

/* See issue #2901 */
.cm-tab-wrap-hack:after { content: ''; }

/* Help users use markselection to safely style text background */
span.CodeMirror-selectedtext { background: none; }

.CodeMirror-dialog {
  position: absolute;
  left: 0; right: 0;
  background: inherit;
  z-index: 15;
  padding: .1em .8em;
  overflow: hidden;
  color: inherit;
}

.CodeMirror-dialog-top {
  border-bottom: 1px solid #eee;
  top: 0;
}

.CodeMirror-dialog-bottom {
  border-top: 1px solid #eee;
  bottom: 0;
}

.CodeMirror-dialog input {
  border: none;
  outline: none;
  background: transparent;
  width: 20em;
  color: inherit;
  font-family: monospace;
}

.CodeMirror-dialog button {
  font-size: 70%;
}

.CodeMirror-foldmarker {
  color: blue;
  text-shadow: #b9f 1px 1px 2px, #b9f -1px -1px 2px, #b9f 1px -1px 2px, #b9f -1px 1px 2px;
  font-family: arial;
  line-height: .3;
  cursor: pointer;
}
.CodeMirror-foldgutter {
  width: .7em;
}
.CodeMirror-foldgutter-open,
.CodeMirror-foldgutter-folded {
  cursor: pointer;
}
.CodeMirror-foldgutter-open:after {
  content: "\25BE";
}
.CodeMirror-foldgutter-folded:after {
  content: "\25B8";
}

/*-----------------------------------------------------------------------------
| Copyright (c) Jupyter Development Team.
| Distributed under the terms of the Modified BSD License.
|----------------------------------------------------------------------------*/

.CodeMirror {
  line-height: var(--jp-code-line-height);
  font-size: var(--jp-code-font-size);
  font-family: var(--jp-code-font-family);
  border: 0;
  border-radius: 0;
  height: auto;
  /* Changed to auto to autogrow */
}

.CodeMirror pre {
  padding: 0 var(--jp-code-padding);
}

.jp-CodeMirrorEditor[data-type='inline'] .CodeMirror-dialog {
  background-color: var(--jp-layout-color0);
  color: var(--jp-content-font-color1);
}

/* This causes https://github.com/jupyter/jupyterlab/issues/522 */
/* May not cause it not because we changed it! */
.CodeMirror-lines {
  padding: var(--jp-code-padding) 0;
}

.CodeMirror-linenumber {
  padding: 0 8px;
}

.jp-CodeMirrorEditor {
  cursor: text;
}

.jp-CodeMirrorEditor[data-type='inline'] .CodeMirror-cursor {
  border-left: var(--jp-code-cursor-width0) solid var(--jp-editor-cursor-color);
}

/* When zoomed out 67% and 33% on a screen of 1440 width x 900 height */
@media screen and (min-width: 2138px) and (max-width: 4319px) {
  .jp-CodeMirrorEditor[data-type='inline'] .CodeMirror-cursor {
    border-left: var(--jp-code-cursor-width1) solid
      var(--jp-editor-cursor-color);
  }
}

/* When zoomed out less than 33% */
@media screen and (min-width: 4320px) {
  .jp-CodeMirrorEditor[data-type='inline'] .CodeMirror-cursor {
    border-left: var(--jp-code-cursor-width2) solid
      var(--jp-editor-cursor-color);
  }
}

.CodeMirror.jp-mod-readOnly .CodeMirror-cursor {
  display: none;
}

.CodeMirror-gutters {
  border-right: 1px solid var(--jp-border-color2);
  background-color: var(--jp-layout-color0);
}

.jp-CollaboratorCursor {
  border-left: 5px solid transparent;
  border-right: 5px solid transparent;
  border-top: none;
  border-bottom: 3px solid;
  background-clip: content-box;
  margin-left: -5px;
  margin-right: -5px;
}

.CodeMirror-selectedtext.cm-searching {
  background-color: var(--jp-search-selected-match-background-color) !important;
  color: var(--jp-search-selected-match-color) !important;
}

.cm-searching {
  background-color: var(
    --jp-search-unselected-match-background-color
  ) !important;
  color: var(--jp-search-unselected-match-color) !important;
}

.CodeMirror-focused .CodeMirror-selected {
  background-color: var(--jp-editor-selected-focused-background);
}

.CodeMirror-selected {
  background-color: var(--jp-editor-selected-background);
}

.jp-CollaboratorCursor-hover {
  position: absolute;
  z-index: 1;
  transform: translateX(-50%);
  color: white;
  border-radius: 3px;
  padding-left: 4px;
  padding-right: 4px;
  padding-top: 1px;
  padding-bottom: 1px;
  text-align: center;
  font-size: var(--jp-ui-font-size1);
  white-space: nowrap;
}

.jp-CodeMirror-ruler {
  border-left: 1px dashed var(--jp-border-color2);
}

/**
 * Here is our jupyter theme for CodeMirror syntax highlighting
 * This is used in our marked.js syntax highlighting and CodeMirror itself
 * The string "jupyter" is set in ../codemirror/widget.DEFAULT_CODEMIRROR_THEME
 * This came from the classic notebook, which came form highlight.js/GitHub
 */

/**
 * CodeMirror themes are handling the background/color in this way. This works
 * fine for CodeMirror editors outside the notebook, but the notebook styles
 * these things differently.
 */
.CodeMirror.cm-s-jupyter {
  background: var(--jp-layout-color0);
  color: var(--jp-content-font-color1);
}

/* In the notebook, we want this styling to be handled by its container */
.jp-CodeConsole .CodeMirror.cm-s-jupyter,
.jp-Notebook .CodeMirror.cm-s-jupyter {
  background: transparent;
}

.cm-s-jupyter .CodeMirror-cursor {
  border-left: var(--jp-code-cursor-width0) solid var(--jp-editor-cursor-color);
}
.cm-s-jupyter span.cm-keyword {
  color: var(--jp-mirror-editor-keyword-color);
  font-weight: bold;
}
.cm-s-jupyter span.cm-atom {
  color: var(--jp-mirror-editor-atom-color);
}
.cm-s-jupyter span.cm-number {
  color: var(--jp-mirror-editor-number-color);
}
.cm-s-jupyter span.cm-def {
  color: var(--jp-mirror-editor-def-color);
}
.cm-s-jupyter span.cm-variable {
  color: var(--jp-mirror-editor-variable-color);
}
.cm-s-jupyter span.cm-variable-2 {
  color: var(--jp-mirror-editor-variable-2-color);
}
.cm-s-jupyter span.cm-variable-3 {
  color: var(--jp-mirror-editor-variable-3-color);
}
.cm-s-jupyter span.cm-punctuation {
  color: var(--jp-mirror-editor-punctuation-color);
}
.cm-s-jupyter span.cm-property {
  color: var(--jp-mirror-editor-property-color);
}
.cm-s-jupyter span.cm-operator {
  color: var(--jp-mirror-editor-operator-color);
  font-weight: bold;
}
.cm-s-jupyter span.cm-comment {
  color: var(--jp-mirror-editor-comment-color);
  font-style: italic;
}
.cm-s-jupyter span.cm-string {
  color: var(--jp-mirror-editor-string-color);
}
.cm-s-jupyter span.cm-string-2 {
  color: var(--jp-mirror-editor-string-2-color);
}
.cm-s-jupyter span.cm-meta {
  color: var(--jp-mirror-editor-meta-color);
}
.cm-s-jupyter span.cm-qualifier {
  color: var(--jp-mirror-editor-qualifier-color);
}
.cm-s-jupyter span.cm-builtin {
  color: var(--jp-mirror-editor-builtin-color);
}
.cm-s-jupyter span.cm-bracket {
  color: var(--jp-mirror-editor-bracket-color);
}
.cm-s-jupyter span.cm-tag {
  color: var(--jp-mirror-editor-tag-color);
}
.cm-s-jupyter span.cm-attribute {
  color: var(--jp-mirror-editor-attribute-color);
}
.cm-s-jupyter span.cm-header {
  color: var(--jp-mirror-editor-header-color);
}
.cm-s-jupyter span.cm-quote {
  color: var(--jp-mirror-editor-quote-color);
}
.cm-s-jupyter span.cm-link {
  color: var(--jp-mirror-editor-link-color);
}
.cm-s-jupyter span.cm-error {
  color: var(--jp-mirror-editor-error-color);
}
.cm-s-jupyter span.cm-hr {
  color: #999;
}

.cm-s-jupyter span.cm-tab {
  background: url(data:image/png;base64,iVBORw0KGgoAAAANSUhEUgAAADAAAAAMCAYAAAAkuj5RAAAAAXNSR0IArs4c6QAAAGFJREFUSMft1LsRQFAQheHPowAKoACx3IgEKtaEHujDjORSgWTH/ZOdnZOcM/sgk/kFFWY0qV8foQwS4MKBCS3qR6ixBJvElOobYAtivseIE120FaowJPN75GMu8j/LfMwNjh4HUpwg4LUAAAAASUVORK5CYII=);
  background-position: right;
  background-repeat: no-repeat;
}

.cm-s-jupyter .CodeMirror-activeline-background,
.cm-s-jupyter .CodeMirror-gutter {
  background-color: var(--jp-layout-color2);
}

/*-----------------------------------------------------------------------------
| Copyright (c) Jupyter Development Team.
| Distributed under the terms of the Modified BSD License.
|----------------------------------------------------------------------------*/

/*-----------------------------------------------------------------------------
| RenderedText
|----------------------------------------------------------------------------*/

:root {
  /* This is the padding value to fill the gaps between lines containing spans with background color. */
  --jp-private-code-span-padding: calc(
    (var(--jp-code-line-height) - 1) * var(--jp-code-font-size) / 2
  );
}

.jp-RenderedText {
  text-align: left;
  padding-left: var(--jp-code-padding);
  line-height: var(--jp-code-line-height);
  font-family: var(--jp-code-font-family);
}

.jp-RenderedText pre,
.jp-RenderedJavaScript pre,
.jp-RenderedHTMLCommon pre {
  color: var(--jp-content-font-color1);
  font-size: var(--jp-code-font-size);
  border: none;
  margin: 0px;
  padding: 0px;
}

.jp-RenderedText pre a:link {
  text-decoration: none;
  color: var(--jp-content-link-color);
}
.jp-RenderedText pre a:hover {
  text-decoration: underline;
  color: var(--jp-content-link-color);
}
.jp-RenderedText pre a:visited {
  text-decoration: none;
  color: var(--jp-content-link-color);
}

/* console foregrounds and backgrounds */
.jp-RenderedText pre .ansi-black-fg {
  color: #3e424d;
}
.jp-RenderedText pre .ansi-red-fg {
  color: #e75c58;
}
.jp-RenderedText pre .ansi-green-fg {
  color: #00a250;
}
.jp-RenderedText pre .ansi-yellow-fg {
  color: #ddb62b;
}
.jp-RenderedText pre .ansi-blue-fg {
  color: #208ffb;
}
.jp-RenderedText pre .ansi-magenta-fg {
  color: #d160c4;
}
.jp-RenderedText pre .ansi-cyan-fg {
  color: #60c6c8;
}
.jp-RenderedText pre .ansi-white-fg {
  color: #c5c1b4;
}

.jp-RenderedText pre .ansi-black-bg {
  background-color: #3e424d;
  padding: var(--jp-private-code-span-padding) 0;
}
.jp-RenderedText pre .ansi-red-bg {
  background-color: #e75c58;
  padding: var(--jp-private-code-span-padding) 0;
}
.jp-RenderedText pre .ansi-green-bg {
  background-color: #00a250;
  padding: var(--jp-private-code-span-padding) 0;
}
.jp-RenderedText pre .ansi-yellow-bg {
  background-color: #ddb62b;
  padding: var(--jp-private-code-span-padding) 0;
}
.jp-RenderedText pre .ansi-blue-bg {
  background-color: #208ffb;
  padding: var(--jp-private-code-span-padding) 0;
}
.jp-RenderedText pre .ansi-magenta-bg {
  background-color: #d160c4;
  padding: var(--jp-private-code-span-padding) 0;
}
.jp-RenderedText pre .ansi-cyan-bg {
  background-color: #60c6c8;
  padding: var(--jp-private-code-span-padding) 0;
}
.jp-RenderedText pre .ansi-white-bg {
  background-color: #c5c1b4;
  padding: var(--jp-private-code-span-padding) 0;
}

.jp-RenderedText pre .ansi-black-intense-fg {
  color: #282c36;
}
.jp-RenderedText pre .ansi-red-intense-fg {
  color: #b22b31;
}
.jp-RenderedText pre .ansi-green-intense-fg {
  color: #007427;
}
.jp-RenderedText pre .ansi-yellow-intense-fg {
  color: #b27d12;
}
.jp-RenderedText pre .ansi-blue-intense-fg {
  color: #0065ca;
}
.jp-RenderedText pre .ansi-magenta-intense-fg {
  color: #a03196;
}
.jp-RenderedText pre .ansi-cyan-intense-fg {
  color: #258f8f;
}
.jp-RenderedText pre .ansi-white-intense-fg {
  color: #a1a6b2;
}

.jp-RenderedText pre .ansi-black-intense-bg {
  background-color: #282c36;
  padding: var(--jp-private-code-span-padding) 0;
}
.jp-RenderedText pre .ansi-red-intense-bg {
  background-color: #b22b31;
  padding: var(--jp-private-code-span-padding) 0;
}
.jp-RenderedText pre .ansi-green-intense-bg {
  background-color: #007427;
  padding: var(--jp-private-code-span-padding) 0;
}
.jp-RenderedText pre .ansi-yellow-intense-bg {
  background-color: #b27d12;
  padding: var(--jp-private-code-span-padding) 0;
}
.jp-RenderedText pre .ansi-blue-intense-bg {
  background-color: #0065ca;
  padding: var(--jp-private-code-span-padding) 0;
}
.jp-RenderedText pre .ansi-magenta-intense-bg {
  background-color: #a03196;
  padding: var(--jp-private-code-span-padding) 0;
}
.jp-RenderedText pre .ansi-cyan-intense-bg {
  background-color: #258f8f;
  padding: var(--jp-private-code-span-padding) 0;
}
.jp-RenderedText pre .ansi-white-intense-bg {
  background-color: #a1a6b2;
  padding: var(--jp-private-code-span-padding) 0;
}

.jp-RenderedText pre .ansi-default-inverse-fg {
  color: var(--jp-ui-inverse-font-color0);
}
.jp-RenderedText pre .ansi-default-inverse-bg {
  background-color: var(--jp-inverse-layout-color0);
  padding: var(--jp-private-code-span-padding) 0;
}

.jp-RenderedText pre .ansi-bold {
  font-weight: bold;
}
.jp-RenderedText pre .ansi-underline {
  text-decoration: underline;
}

.jp-RenderedText[data-mime-type='application/vnd.jupyter.stderr'] {
  background: var(--jp-rendermime-error-background);
  padding-top: var(--jp-code-padding);
}

/*-----------------------------------------------------------------------------
| RenderedLatex
|----------------------------------------------------------------------------*/

.jp-RenderedLatex {
  color: var(--jp-content-font-color1);
  font-size: var(--jp-content-font-size1);
  line-height: var(--jp-content-line-height);
}

/* Left-justify outputs.*/
.jp-OutputArea-output.jp-RenderedLatex {
  padding: var(--jp-code-padding);
  text-align: left;
}

/*-----------------------------------------------------------------------------
| RenderedHTML
|----------------------------------------------------------------------------*/

.jp-RenderedHTMLCommon {
  color: var(--jp-content-font-color1);
  font-family: var(--jp-content-font-family);
  font-size: var(--jp-content-font-size1);
  line-height: var(--jp-content-line-height);
  /* Give a bit more R padding on Markdown text to keep line lengths reasonable */
  padding-right: 20px;
}

.jp-RenderedHTMLCommon em {
  font-style: italic;
}

.jp-RenderedHTMLCommon strong {
  font-weight: bold;
}

.jp-RenderedHTMLCommon u {
  text-decoration: underline;
}

.jp-RenderedHTMLCommon a:link {
  text-decoration: none;
  color: var(--jp-content-link-color);
}

.jp-RenderedHTMLCommon a:hover {
  text-decoration: underline;
  color: var(--jp-content-link-color);
}

.jp-RenderedHTMLCommon a:visited {
  text-decoration: none;
  color: var(--jp-content-link-color);
}

/* Headings */

.jp-RenderedHTMLCommon h1,
.jp-RenderedHTMLCommon h2,
.jp-RenderedHTMLCommon h3,
.jp-RenderedHTMLCommon h4,
.jp-RenderedHTMLCommon h5,
.jp-RenderedHTMLCommon h6 {
  line-height: var(--jp-content-heading-line-height);
  font-weight: var(--jp-content-heading-font-weight);
  font-style: normal;
  margin: var(--jp-content-heading-margin-top) 0
    var(--jp-content-heading-margin-bottom) 0;
}

.jp-RenderedHTMLCommon h1:first-child,
.jp-RenderedHTMLCommon h2:first-child,
.jp-RenderedHTMLCommon h3:first-child,
.jp-RenderedHTMLCommon h4:first-child,
.jp-RenderedHTMLCommon h5:first-child,
.jp-RenderedHTMLCommon h6:first-child {
  margin-top: calc(0.5 * var(--jp-content-heading-margin-top));
}

.jp-RenderedHTMLCommon h1:last-child,
.jp-RenderedHTMLCommon h2:last-child,
.jp-RenderedHTMLCommon h3:last-child,
.jp-RenderedHTMLCommon h4:last-child,
.jp-RenderedHTMLCommon h5:last-child,
.jp-RenderedHTMLCommon h6:last-child {
  margin-bottom: calc(0.5 * var(--jp-content-heading-margin-bottom));
}

.jp-RenderedHTMLCommon h1 {
  font-size: var(--jp-content-font-size5);
}

.jp-RenderedHTMLCommon h2 {
  font-size: var(--jp-content-font-size4);
}

.jp-RenderedHTMLCommon h3 {
  font-size: var(--jp-content-font-size3);
}

.jp-RenderedHTMLCommon h4 {
  font-size: var(--jp-content-font-size2);
}

.jp-RenderedHTMLCommon h5 {
  font-size: var(--jp-content-font-size1);
}

.jp-RenderedHTMLCommon h6 {
  font-size: var(--jp-content-font-size0);
}

/* Lists */

.jp-RenderedHTMLCommon ul:not(.list-inline),
.jp-RenderedHTMLCommon ol:not(.list-inline) {
  padding-left: 2em;
}

.jp-RenderedHTMLCommon ul {
  list-style: disc;
}

.jp-RenderedHTMLCommon ul ul {
  list-style: square;
}

.jp-RenderedHTMLCommon ul ul ul {
  list-style: circle;
}

.jp-RenderedHTMLCommon ol {
  list-style: decimal;
}

.jp-RenderedHTMLCommon ol ol {
  list-style: upper-alpha;
}

.jp-RenderedHTMLCommon ol ol ol {
  list-style: lower-alpha;
}

.jp-RenderedHTMLCommon ol ol ol ol {
  list-style: lower-roman;
}

.jp-RenderedHTMLCommon ol ol ol ol ol {
  list-style: decimal;
}

.jp-RenderedHTMLCommon ol,
.jp-RenderedHTMLCommon ul {
  margin-bottom: 1em;
}

.jp-RenderedHTMLCommon ul ul,
.jp-RenderedHTMLCommon ul ol,
.jp-RenderedHTMLCommon ol ul,
.jp-RenderedHTMLCommon ol ol {
  margin-bottom: 0em;
}

.jp-RenderedHTMLCommon hr {
  color: var(--jp-border-color2);
  background-color: var(--jp-border-color1);
  margin-top: 1em;
  margin-bottom: 1em;
}

.jp-RenderedHTMLCommon > pre {
  margin: 1.5em 2em;
}

.jp-RenderedHTMLCommon pre,
.jp-RenderedHTMLCommon code {
  border: 0;
  background-color: var(--jp-layout-color0);
  color: var(--jp-content-font-color1);
  font-family: var(--jp-code-font-family);
  font-size: inherit;
  line-height: var(--jp-code-line-height);
  padding: 0;
  white-space: pre-wrap;
}

.jp-RenderedHTMLCommon :not(pre) > code {
  background-color: var(--jp-layout-color2);
  padding: 1px 5px;
}

/* Tables */

.jp-RenderedHTMLCommon table {
  border-collapse: collapse;
  border-spacing: 0;
  border: none;
  color: var(--jp-ui-font-color1);
  font-size: 12px;
  table-layout: fixed;
  margin-left: auto;
  margin-right: auto;
}

.jp-RenderedHTMLCommon thead {
  border-bottom: var(--jp-border-width) solid var(--jp-border-color1);
  vertical-align: bottom;
}

.jp-RenderedHTMLCommon td,
.jp-RenderedHTMLCommon th,
.jp-RenderedHTMLCommon tr {
  vertical-align: middle;
  padding: 0.5em 0.5em;
  line-height: normal;
  white-space: normal;
  max-width: none;
  border: none;
}

.jp-RenderedMarkdown.jp-RenderedHTMLCommon td,
.jp-RenderedMarkdown.jp-RenderedHTMLCommon th {
  max-width: none;
}

:not(.jp-RenderedMarkdown).jp-RenderedHTMLCommon td,
:not(.jp-RenderedMarkdown).jp-RenderedHTMLCommon th,
:not(.jp-RenderedMarkdown).jp-RenderedHTMLCommon tr {
  text-align: right;
}

.jp-RenderedHTMLCommon th {
  font-weight: bold;
}

.jp-RenderedHTMLCommon tbody tr:nth-child(odd) {
  background: var(--jp-layout-color0);
}

.jp-RenderedHTMLCommon tbody tr:nth-child(even) {
  background: var(--jp-rendermime-table-row-background);
}

.jp-RenderedHTMLCommon tbody tr:hover {
  background: var(--jp-rendermime-table-row-hover-background);
}

.jp-RenderedHTMLCommon table {
  margin-bottom: 1em;
}

.jp-RenderedHTMLCommon p {
  text-align: left;
  margin: 0px;
}

.jp-RenderedHTMLCommon p {
  margin-bottom: 1em;
}

.jp-RenderedHTMLCommon img {
  -moz-force-broken-image-icon: 1;
}

/* Restrict to direct children as other images could be nested in other content. */
.jp-RenderedHTMLCommon > img {
  display: block;
  margin-left: 0;
  margin-right: 0;
  margin-bottom: 1em;
}

/* Change color behind transparent images if they need it... */
[data-jp-theme-light='false'] .jp-RenderedImage img.jp-needs-light-background {
  background-color: var(--jp-inverse-layout-color1);
}
[data-jp-theme-light='true'] .jp-RenderedImage img.jp-needs-dark-background {
  background-color: var(--jp-inverse-layout-color1);
}
/* ...or leave it untouched if they don't */
[data-jp-theme-light='false'] .jp-RenderedImage img.jp-needs-dark-background {
}
[data-jp-theme-light='true'] .jp-RenderedImage img.jp-needs-light-background {
}

.jp-RenderedHTMLCommon img,
.jp-RenderedImage img,
.jp-RenderedHTMLCommon svg,
.jp-RenderedSVG svg {
  max-width: 100%;
  height: auto;
}

.jp-RenderedHTMLCommon img.jp-mod-unconfined,
.jp-RenderedImage img.jp-mod-unconfined,
.jp-RenderedHTMLCommon svg.jp-mod-unconfined,
.jp-RenderedSVG svg.jp-mod-unconfined {
  max-width: none;
}

.jp-RenderedHTMLCommon .alert {
  padding: var(--jp-notebook-padding);
  border: var(--jp-border-width) solid transparent;
  border-radius: var(--jp-border-radius);
  margin-bottom: 1em;
}

.jp-RenderedHTMLCommon .alert-info {
  color: var(--jp-info-color0);
  background-color: var(--jp-info-color3);
  border-color: var(--jp-info-color2);
}
.jp-RenderedHTMLCommon .alert-info hr {
  border-color: var(--jp-info-color3);
}
.jp-RenderedHTMLCommon .alert-info > p:last-child,
.jp-RenderedHTMLCommon .alert-info > ul:last-child {
  margin-bottom: 0;
}

.jp-RenderedHTMLCommon .alert-warning {
  color: var(--jp-warn-color0);
  background-color: var(--jp-warn-color3);
  border-color: var(--jp-warn-color2);
}
.jp-RenderedHTMLCommon .alert-warning hr {
  border-color: var(--jp-warn-color3);
}
.jp-RenderedHTMLCommon .alert-warning > p:last-child,
.jp-RenderedHTMLCommon .alert-warning > ul:last-child {
  margin-bottom: 0;
}

.jp-RenderedHTMLCommon .alert-success {
  color: var(--jp-success-color0);
  background-color: var(--jp-success-color3);
  border-color: var(--jp-success-color2);
}
.jp-RenderedHTMLCommon .alert-success hr {
  border-color: var(--jp-success-color3);
}
.jp-RenderedHTMLCommon .alert-success > p:last-child,
.jp-RenderedHTMLCommon .alert-success > ul:last-child {
  margin-bottom: 0;
}

.jp-RenderedHTMLCommon .alert-danger {
  color: var(--jp-error-color0);
  background-color: var(--jp-error-color3);
  border-color: var(--jp-error-color2);
}
.jp-RenderedHTMLCommon .alert-danger hr {
  border-color: var(--jp-error-color3);
}
.jp-RenderedHTMLCommon .alert-danger > p:last-child,
.jp-RenderedHTMLCommon .alert-danger > ul:last-child {
  margin-bottom: 0;
}

.jp-RenderedHTMLCommon blockquote {
  margin: 1em 2em;
  padding: 0 1em;
  border-left: 5px solid var(--jp-border-color2);
}

a.jp-InternalAnchorLink {
  visibility: hidden;
  margin-left: 8px;
  color: var(--md-blue-800);
}

h1:hover .jp-InternalAnchorLink,
h2:hover .jp-InternalAnchorLink,
h3:hover .jp-InternalAnchorLink,
h4:hover .jp-InternalAnchorLink,
h5:hover .jp-InternalAnchorLink,
h6:hover .jp-InternalAnchorLink {
  visibility: visible;
}

.jp-RenderedHTMLCommon kbd {
  background-color: var(--jp-rendermime-table-row-background);
  border: 1px solid var(--jp-border-color0);
  border-bottom-color: var(--jp-border-color2);
  border-radius: 3px;
  box-shadow: inset 0 -1px 0 rgba(0, 0, 0, 0.25);
  display: inline-block;
  font-size: 0.8em;
  line-height: 1em;
  padding: 0.2em 0.5em;
}

/* Most direct children of .jp-RenderedHTMLCommon have a margin-bottom of 1.0.
 * At the bottom of cells this is a bit too much as there is also spacing
 * between cells. Going all the way to 0 gets too tight between markdown and
 * code cells.
 */
.jp-RenderedHTMLCommon > *:last-child {
  margin-bottom: 0.5em;
}

/*-----------------------------------------------------------------------------
| Copyright (c) Jupyter Development Team.
| Distributed under the terms of the Modified BSD License.
|----------------------------------------------------------------------------*/

.jp-MimeDocument {
  outline: none;
}

/*-----------------------------------------------------------------------------
| Copyright (c) Jupyter Development Team.
| Distributed under the terms of the Modified BSD License.
|----------------------------------------------------------------------------*/

/*-----------------------------------------------------------------------------
| Variables
|----------------------------------------------------------------------------*/

:root {
  --jp-private-filebrowser-button-height: 28px;
  --jp-private-filebrowser-button-width: 48px;
}

/*-----------------------------------------------------------------------------
| Copyright (c) Jupyter Development Team.
| Distributed under the terms of the Modified BSD License.
|----------------------------------------------------------------------------*/

.jp-FileBrowser {
  display: flex;
  flex-direction: column;
  color: var(--jp-ui-font-color1);
  background: var(--jp-layout-color1);
  /* This is needed so that all font sizing of children done in ems is
   * relative to this base size */
  font-size: var(--jp-ui-font-size1);
}

.jp-FileBrowser-toolbar.jp-Toolbar {
  border-bottom: none;
  height: auto;
  margin: var(--jp-toolbar-header-margin);
  box-shadow: none;
}

.jp-BreadCrumbs {
  flex: 0 0 auto;
  margin: 8px 12px 8px 12px;
}

.jp-BreadCrumbs-item {
  margin: 0px 2px;
  padding: 0px 2px;
  border-radius: var(--jp-border-radius);
  cursor: pointer;
}

.jp-BreadCrumbs-item:hover {
  background-color: var(--jp-layout-color2);
}

.jp-BreadCrumbs-item:first-child {
  margin-left: 0px;
}

.jp-BreadCrumbs-item.jp-mod-dropTarget {
  background-color: var(--jp-brand-color2);
  opacity: 0.7;
}

/*-----------------------------------------------------------------------------
| Buttons
|----------------------------------------------------------------------------*/

.jp-FileBrowser-toolbar.jp-Toolbar {
  padding: 0px;
  margin: 8px 12px 0px 12px;
}

.jp-FileBrowser-toolbar.jp-Toolbar {
  justify-content: flex-start;
}

.jp-FileBrowser-toolbar.jp-Toolbar .jp-Toolbar-item {
  flex: 0 0 auto;
  padding-left: 0px;
  padding-right: 2px;
}

.jp-FileBrowser-toolbar.jp-Toolbar .jp-ToolbarButtonComponent {
  width: 40px;
}

.jp-FileBrowser-toolbar.jp-Toolbar
  .jp-Toolbar-item:first-child
  .jp-ToolbarButtonComponent {
  width: 72px;
  background: var(--jp-brand-color1);
}

.jp-FileBrowser-toolbar.jp-Toolbar
  .jp-Toolbar-item:first-child
  .jp-ToolbarButtonComponent
  .jp-icon3 {
  fill: white;
}

/*-----------------------------------------------------------------------------
| Other styles
|----------------------------------------------------------------------------*/

.jp-FileDialog.jp-mod-conflict input {
  color: red;
}

.jp-FileDialog .jp-new-name-title {
  margin-top: 12px;
}

.jp-LastModified-hidden {
  display: none;
}

.jp-FileBrowser-filterBox {
  padding: 0px;
  flex: 0 0 auto;
  margin: 8px 12px 0px 12px;
}

/*-----------------------------------------------------------------------------
| DirListing
|----------------------------------------------------------------------------*/

.jp-DirListing {
  flex: 1 1 auto;
  display: flex;
  flex-direction: column;
  outline: 0;
}

.jp-DirListing-header {
  flex: 0 0 auto;
  display: flex;
  flex-direction: row;
  overflow: hidden;
  border-top: var(--jp-border-width) solid var(--jp-border-color2);
  border-bottom: var(--jp-border-width) solid var(--jp-border-color1);
  box-shadow: var(--jp-toolbar-box-shadow);
  z-index: 2;
}

.jp-DirListing-headerItem {
  padding: 4px 12px 2px 12px;
  font-weight: 500;
}

.jp-DirListing-headerItem:hover {
  background: var(--jp-layout-color2);
}

.jp-DirListing-headerItem.jp-id-name {
  flex: 1 0 84px;
}

.jp-DirListing-headerItem.jp-id-modified {
  flex: 0 0 112px;
  border-left: var(--jp-border-width) solid var(--jp-border-color2);
  text-align: right;
}

.jp-id-narrow {
  display: none;
  flex: 0 0 5px;
  padding: 4px 4px;
  border-left: var(--jp-border-width) solid var(--jp-border-color2);
  text-align: right;
  color: var(--jp-border-color2);
}

.jp-DirListing-narrow .jp-id-narrow {
  display: block;
}

.jp-DirListing-narrow .jp-id-modified,
.jp-DirListing-narrow .jp-DirListing-itemModified {
  display: none;
}

.jp-DirListing-headerItem.jp-mod-selected {
  font-weight: 600;
}

/* increase specificity to override bundled default */
.jp-DirListing-content {
  flex: 1 1 auto;
  margin: 0;
  padding: 0;
  list-style-type: none;
  overflow: auto;
  background-color: var(--jp-layout-color1);
}

.jp-DirListing-content mark {
  color: var(--jp-ui-font-color0);
  background-color: transparent;
  font-weight: bold;
}

/* Style the directory listing content when a user drops a file to upload */
.jp-DirListing.jp-mod-native-drop .jp-DirListing-content {
  outline: 5px dashed rgba(128, 128, 128, 0.5);
  outline-offset: -10px;
  cursor: copy;
}

.jp-DirListing-item {
  display: flex;
  flex-direction: row;
  padding: 4px 12px;
  -webkit-user-select: none;
  -moz-user-select: none;
  -ms-user-select: none;
  user-select: none;
}

.jp-DirListing-item[data-is-dot] {
  opacity: 75%;
}

.jp-DirListing-item.jp-mod-selected {
  color: white;
  background: var(--jp-brand-color1);
}

.jp-DirListing-item.jp-mod-dropTarget {
  background: var(--jp-brand-color3);
}

.jp-DirListing-item:hover:not(.jp-mod-selected) {
  background: var(--jp-layout-color2);
}

.jp-DirListing-itemIcon {
  flex: 0 0 20px;
  margin-right: 4px;
}

.jp-DirListing-itemText {
  flex: 1 0 64px;
  white-space: nowrap;
  overflow: hidden;
  text-overflow: ellipsis;
  user-select: none;
}

.jp-DirListing-itemModified {
  flex: 0 0 125px;
  text-align: right;
}

.jp-DirListing-editor {
  flex: 1 0 64px;
  outline: none;
  border: none;
}

.jp-DirListing-item.jp-mod-running .jp-DirListing-itemIcon:before {
  color: limegreen;
  content: '\25CF';
  font-size: 8px;
  position: absolute;
  left: -8px;
}

.jp-DirListing-item.lm-mod-drag-image,
.jp-DirListing-item.jp-mod-selected.lm-mod-drag-image {
  font-size: var(--jp-ui-font-size1);
  padding-left: 4px;
  margin-left: 4px;
  width: 160px;
  background-color: var(--jp-ui-inverse-font-color2);
  box-shadow: var(--jp-elevation-z2);
  border-radius: 0px;
  color: var(--jp-ui-font-color1);
  transform: translateX(-40%) translateY(-58%);
}

.jp-DirListing-deadSpace {
  flex: 1 1 auto;
  margin: 0;
  padding: 0;
  list-style-type: none;
  overflow: auto;
  background-color: var(--jp-layout-color1);
}

.jp-Document {
  min-width: 120px;
  min-height: 120px;
  outline: none;
}

/*-----------------------------------------------------------------------------
| Copyright (c) Jupyter Development Team.
| Distributed under the terms of the Modified BSD License.
|----------------------------------------------------------------------------*/

/*-----------------------------------------------------------------------------
| Private CSS variables
|----------------------------------------------------------------------------*/

:root {
}

/*-----------------------------------------------------------------------------
| Main OutputArea
| OutputArea has a list of Outputs
|----------------------------------------------------------------------------*/

.jp-OutputArea {
  overflow-y: auto;
}

.jp-OutputArea-child {
  display: flex;
  flex-direction: row;
}

.jp-OutputPrompt {
  flex: 0 0 var(--jp-cell-prompt-width);
  color: var(--jp-cell-outprompt-font-color);
  font-family: var(--jp-cell-prompt-font-family);
  padding: var(--jp-code-padding);
  letter-spacing: var(--jp-cell-prompt-letter-spacing);
  line-height: var(--jp-code-line-height);
  font-size: var(--jp-code-font-size);
  border: var(--jp-border-width) solid transparent;
  opacity: var(--jp-cell-prompt-opacity);
  /* Right align prompt text, don't wrap to handle large prompt numbers */
  text-align: right;
  white-space: nowrap;
  overflow: hidden;
  text-overflow: ellipsis;
  /* Disable text selection */
  -webkit-user-select: none;
  -moz-user-select: none;
  -ms-user-select: none;
  user-select: none;
}

.jp-OutputArea-output {
  height: auto;
  overflow: auto;
  user-select: text;
  -moz-user-select: text;
  -webkit-user-select: text;
  -ms-user-select: text;
}

.jp-OutputArea-child .jp-OutputArea-output {
  flex-grow: 1;
  flex-shrink: 1;
}

/**
 * Isolated output.
 */
.jp-OutputArea-output.jp-mod-isolated {
  width: 100%;
  display: block;
}

/*
When drag events occur, `p-mod-override-cursor` is added to the body.
Because iframes steal all cursor events, the following two rules are necessary
to suppress pointer events while resize drags are occurring. There may be a
better solution to this problem.
*/
body.lm-mod-override-cursor .jp-OutputArea-output.jp-mod-isolated {
  position: relative;
}

body.lm-mod-override-cursor .jp-OutputArea-output.jp-mod-isolated:before {
  content: '';
  position: absolute;
  top: 0;
  left: 0;
  right: 0;
  bottom: 0;
  background: transparent;
}

/* pre */

.jp-OutputArea-output pre {
  border: none;
  margin: 0px;
  padding: 0px;
  overflow-x: auto;
  overflow-y: auto;
  word-break: break-all;
  word-wrap: break-word;
  white-space: pre-wrap;
}

/* tables */

.jp-OutputArea-output.jp-RenderedHTMLCommon table {
  margin-left: 0;
  margin-right: 0;
}

/* description lists */

.jp-OutputArea-output dl,
.jp-OutputArea-output dt,
.jp-OutputArea-output dd {
  display: block;
}

.jp-OutputArea-output dl {
  width: 100%;
  overflow: hidden;
  padding: 0;
  margin: 0;
}

.jp-OutputArea-output dt {
  font-weight: bold;
  float: left;
  width: 20%;
  padding: 0;
  margin: 0;
}

.jp-OutputArea-output dd {
  float: left;
  width: 80%;
  padding: 0;
  margin: 0;
}

/* Hide the gutter in case of
 *  - nested output areas (e.g. in the case of output widgets)
 *  - mirrored output areas
 */
.jp-OutputArea .jp-OutputArea .jp-OutputArea-prompt {
  display: none;
}

/*-----------------------------------------------------------------------------
| executeResult is added to any Output-result for the display of the object
| returned by a cell
|----------------------------------------------------------------------------*/

.jp-OutputArea-output.jp-OutputArea-executeResult {
  margin-left: 0px;
  flex: 1 1 auto;
}

/* Text output with the Out[] prompt needs a top padding to match the
 * alignment of the Out[] prompt itself.
 */
.jp-OutputArea-executeResult .jp-RenderedText.jp-OutputArea-output {
  padding-top: var(--jp-code-padding);
  border-top: var(--jp-border-width) solid transparent;
}

/*-----------------------------------------------------------------------------
| The Stdin output
|----------------------------------------------------------------------------*/

.jp-OutputArea-stdin {
  line-height: var(--jp-code-line-height);
  padding-top: var(--jp-code-padding);
  display: flex;
}

.jp-Stdin-prompt {
  color: var(--jp-content-font-color0);
  padding-right: var(--jp-code-padding);
  vertical-align: baseline;
  flex: 0 0 auto;
}

.jp-Stdin-input {
  font-family: var(--jp-code-font-family);
  font-size: inherit;
  color: inherit;
  background-color: inherit;
  width: 42%;
  min-width: 200px;
  /* make sure input baseline aligns with prompt */
  vertical-align: baseline;
  /* padding + margin = 0.5em between prompt and cursor */
  padding: 0em 0.25em;
  margin: 0em 0.25em;
  flex: 0 0 70%;
}

.jp-Stdin-input:focus {
  box-shadow: none;
}

/*-----------------------------------------------------------------------------
| Output Area View
|----------------------------------------------------------------------------*/

.jp-LinkedOutputView .jp-OutputArea {
  height: 100%;
  display: block;
}

.jp-LinkedOutputView .jp-OutputArea-output:only-child {
  height: 100%;
}

/*-----------------------------------------------------------------------------
| Copyright (c) Jupyter Development Team.
| Distributed under the terms of the Modified BSD License.
|----------------------------------------------------------------------------*/

.jp-Collapser {
  flex: 0 0 var(--jp-cell-collapser-width);
  padding: 0px;
  margin: 0px;
  border: none;
  outline: none;
  background: transparent;
  border-radius: var(--jp-border-radius);
  opacity: 1;
}

.jp-Collapser-child {
  display: block;
  width: 100%;
  box-sizing: border-box;
  /* height: 100% doesn't work because the height of its parent is computed from content */
  position: absolute;
  top: 0px;
  bottom: 0px;
}

/*-----------------------------------------------------------------------------
| Copyright (c) Jupyter Development Team.
| Distributed under the terms of the Modified BSD License.
|----------------------------------------------------------------------------*/

/*-----------------------------------------------------------------------------
| Header/Footer
|----------------------------------------------------------------------------*/

/* Hidden by zero height by default */
.jp-CellHeader,
.jp-CellFooter {
  height: 0px;
  width: 100%;
  padding: 0px;
  margin: 0px;
  border: none;
  outline: none;
  background: transparent;
}

/*-----------------------------------------------------------------------------
| Copyright (c) Jupyter Development Team.
| Distributed under the terms of the Modified BSD License.
|----------------------------------------------------------------------------*/

/*-----------------------------------------------------------------------------
| Input
|----------------------------------------------------------------------------*/

/* All input areas */
.jp-InputArea {
  display: flex;
  flex-direction: row;
  overflow: hidden;
}

.jp-InputArea-editor {
  flex: 1 1 auto;
  overflow: hidden;
}

.jp-InputArea-editor {
  /* This is the non-active, default styling */
  border: var(--jp-border-width) solid var(--jp-cell-editor-border-color);
  border-radius: 0px;
  background: var(--jp-cell-editor-background);
}

.jp-InputPrompt {
  flex: 0 0 var(--jp-cell-prompt-width);
  color: var(--jp-cell-inprompt-font-color);
  font-family: var(--jp-cell-prompt-font-family);
  padding: var(--jp-code-padding);
  letter-spacing: var(--jp-cell-prompt-letter-spacing);
  opacity: var(--jp-cell-prompt-opacity);
  line-height: var(--jp-code-line-height);
  font-size: var(--jp-code-font-size);
  border: var(--jp-border-width) solid transparent;
  opacity: var(--jp-cell-prompt-opacity);
  /* Right align prompt text, don't wrap to handle large prompt numbers */
  text-align: right;
  white-space: nowrap;
  overflow: hidden;
  text-overflow: ellipsis;
  /* Disable text selection */
  -webkit-user-select: none;
  -moz-user-select: none;
  -ms-user-select: none;
  user-select: none;
}

/*-----------------------------------------------------------------------------
| Copyright (c) Jupyter Development Team.
| Distributed under the terms of the Modified BSD License.
|----------------------------------------------------------------------------*/

/*-----------------------------------------------------------------------------
| Placeholder
|----------------------------------------------------------------------------*/

.jp-Placeholder {
  display: flex;
  flex-direction: row;
  flex: 1 1 auto;
}

.jp-Placeholder-prompt {
  box-sizing: border-box;
}

.jp-Placeholder-content {
  flex: 1 1 auto;
  border: none;
  background: transparent;
  height: 20px;
  box-sizing: border-box;
}

.jp-Placeholder-content .jp-MoreHorizIcon {
  width: 32px;
  height: 16px;
  border: 1px solid transparent;
  border-radius: var(--jp-border-radius);
}

.jp-Placeholder-content .jp-MoreHorizIcon:hover {
  border: 1px solid var(--jp-border-color1);
  box-shadow: 0px 0px 2px 0px rgba(0, 0, 0, 0.25);
  background-color: var(--jp-layout-color0);
}

/*-----------------------------------------------------------------------------
| Copyright (c) Jupyter Development Team.
| Distributed under the terms of the Modified BSD License.
|----------------------------------------------------------------------------*/

/*-----------------------------------------------------------------------------
| Private CSS variables
|----------------------------------------------------------------------------*/

:root {
  --jp-private-cell-scrolling-output-offset: 5px;
}

/*-----------------------------------------------------------------------------
| Cell
|----------------------------------------------------------------------------*/

.jp-Cell {
  padding: var(--jp-cell-padding);
  margin: 0px;
  border: none;
  outline: none;
  background: transparent;
}

/*-----------------------------------------------------------------------------
| Common input/output
|----------------------------------------------------------------------------*/

.jp-Cell-inputWrapper,
.jp-Cell-outputWrapper {
  display: flex;
  flex-direction: row;
  padding: 0px;
  margin: 0px;
  /* Added to reveal the box-shadow on the input and output collapsers. */
  overflow: visible;
}

/* Only input/output areas inside cells */
.jp-Cell-inputArea,
.jp-Cell-outputArea {
  flex: 1 1 auto;
}

/*-----------------------------------------------------------------------------
| Collapser
|----------------------------------------------------------------------------*/

/* Make the output collapser disappear when there is not output, but do so
 * in a manner that leaves it in the layout and preserves its width.
 */
.jp-Cell.jp-mod-noOutputs .jp-Cell-outputCollapser {
  border: none !important;
  background: transparent !important;
}

.jp-Cell:not(.jp-mod-noOutputs) .jp-Cell-outputCollapser {
  min-height: var(--jp-cell-collapser-min-height);
}

/*-----------------------------------------------------------------------------
| Output
|----------------------------------------------------------------------------*/

/* Put a space between input and output when there IS output */
.jp-Cell:not(.jp-mod-noOutputs) .jp-Cell-outputWrapper {
  margin-top: 5px;
}

.jp-CodeCell.jp-mod-outputsScrolled .jp-Cell-outputArea {
  overflow-y: auto;
  max-height: 200px;
  box-shadow: inset 0 0 6px 2px rgba(0, 0, 0, 0.3);
  margin-left: var(--jp-private-cell-scrolling-output-offset);
}

.jp-CodeCell.jp-mod-outputsScrolled .jp-OutputArea-prompt {
  flex: 0 0
    calc(
      var(--jp-cell-prompt-width) -
        var(--jp-private-cell-scrolling-output-offset)
    );
}

/*-----------------------------------------------------------------------------
| CodeCell
|----------------------------------------------------------------------------*/

/*-----------------------------------------------------------------------------
| MarkdownCell
|----------------------------------------------------------------------------*/

.jp-MarkdownOutput {
  flex: 1 1 auto;
  margin-top: 0;
  margin-bottom: 0;
  padding-left: var(--jp-code-padding);
}

.jp-MarkdownOutput.jp-RenderedHTMLCommon {
  overflow: auto;
}

/*-----------------------------------------------------------------------------
| Copyright (c) Jupyter Development Team.
| Distributed under the terms of the Modified BSD License.
|----------------------------------------------------------------------------*/

/*-----------------------------------------------------------------------------
| Copyright (c) Jupyter Development Team.
| Distributed under the terms of the Modified BSD License.
|----------------------------------------------------------------------------*/

/*-----------------------------------------------------------------------------
| Variables
|----------------------------------------------------------------------------*/

/*-----------------------------------------------------------------------------

/*-----------------------------------------------------------------------------
| Styles
|----------------------------------------------------------------------------*/

.jp-NotebookPanel-toolbar {
  padding: 2px;
}

.jp-Toolbar-item.jp-Notebook-toolbarCellType .jp-select-wrapper.jp-mod-focused {
  border: none;
  box-shadow: none;
}

.jp-Notebook-toolbarCellTypeDropdown select {
  height: 24px;
  font-size: var(--jp-ui-font-size1);
  line-height: 14px;
  border-radius: 0;
  display: block;
}

.jp-Notebook-toolbarCellTypeDropdown span {
  top: 5px !important;
}

/*-----------------------------------------------------------------------------
| Copyright (c) Jupyter Development Team.
| Distributed under the terms of the Modified BSD License.
|----------------------------------------------------------------------------*/

/*-----------------------------------------------------------------------------
| Private CSS variables
|----------------------------------------------------------------------------*/

:root {
  --jp-private-notebook-dragImage-width: 304px;
  --jp-private-notebook-dragImage-height: 36px;
  --jp-private-notebook-selected-color: var(--md-blue-400);
  --jp-private-notebook-active-color: var(--md-green-400);
}

/*-----------------------------------------------------------------------------
| Imports
|----------------------------------------------------------------------------*/

/*-----------------------------------------------------------------------------
| Notebook
|----------------------------------------------------------------------------*/

.jp-NotebookPanel {
  display: block;
  height: 100%;
}

.jp-NotebookPanel.jp-Document {
  min-width: 240px;
  min-height: 120px;
}

.jp-Notebook {
  padding: var(--jp-notebook-padding);
  outline: none;
  overflow: auto;
  background: var(--jp-layout-color0);
}

.jp-Notebook.jp-mod-scrollPastEnd::after {
  display: block;
  content: '';
  min-height: var(--jp-notebook-scroll-padding);
}

.jp-Notebook .jp-Cell {
  overflow: visible;
}

.jp-Notebook .jp-Cell .jp-InputPrompt {
  cursor: move;
}

/*-----------------------------------------------------------------------------
| Notebook state related styling
|
| The notebook and cells each have states, here are the possibilities:
|
| - Notebook
|   - Command
|   - Edit
| - Cell
|   - None
|   - Active (only one can be active)
|   - Selected (the cells actions are applied to)
|   - Multiselected (when multiple selected, the cursor)
|   - No outputs
|----------------------------------------------------------------------------*/

/* Command or edit modes */

.jp-Notebook .jp-Cell:not(.jp-mod-active) .jp-InputPrompt {
  opacity: var(--jp-cell-prompt-not-active-opacity);
  color: var(--jp-cell-prompt-not-active-font-color);
}

.jp-Notebook .jp-Cell:not(.jp-mod-active) .jp-OutputPrompt {
  opacity: var(--jp-cell-prompt-not-active-opacity);
  color: var(--jp-cell-prompt-not-active-font-color);
}

/* cell is active */
.jp-Notebook .jp-Cell.jp-mod-active .jp-Collapser {
  background: var(--jp-brand-color1);
}

/* collapser is hovered */
.jp-Notebook .jp-Cell .jp-Collapser:hover {
  box-shadow: var(--jp-elevation-z2);
  background: var(--jp-brand-color1);
  opacity: var(--jp-cell-collapser-not-active-hover-opacity);
}

/* cell is active and collapser is hovered */
.jp-Notebook .jp-Cell.jp-mod-active .jp-Collapser:hover {
  background: var(--jp-brand-color0);
  opacity: 1;
}

/* Command mode */

.jp-Notebook.jp-mod-commandMode .jp-Cell.jp-mod-selected {
  background: var(--jp-notebook-multiselected-color);
}

.jp-Notebook.jp-mod-commandMode
  .jp-Cell.jp-mod-active.jp-mod-selected:not(.jp-mod-multiSelected) {
  background: transparent;
}

/* Edit mode */

.jp-Notebook.jp-mod-editMode .jp-Cell.jp-mod-active .jp-InputArea-editor {
  border: var(--jp-border-width) solid var(--jp-cell-editor-active-border-color);
  box-shadow: var(--jp-input-box-shadow);
  background-color: var(--jp-cell-editor-active-background);
}

/*-----------------------------------------------------------------------------
| Notebook drag and drop
|----------------------------------------------------------------------------*/

.jp-Notebook-cell.jp-mod-dropSource {
  opacity: 0.5;
}

.jp-Notebook-cell.jp-mod-dropTarget,
.jp-Notebook.jp-mod-commandMode
  .jp-Notebook-cell.jp-mod-active.jp-mod-selected.jp-mod-dropTarget {
  border-top-color: var(--jp-private-notebook-selected-color);
  border-top-style: solid;
  border-top-width: 2px;
}

.jp-dragImage {
  display: flex;
  flex-direction: row;
  width: var(--jp-private-notebook-dragImage-width);
  height: var(--jp-private-notebook-dragImage-height);
  border: var(--jp-border-width) solid var(--jp-cell-editor-border-color);
  background: var(--jp-cell-editor-background);
  overflow: visible;
}

.jp-dragImage-singlePrompt {
  box-shadow: 2px 2px 4px 0px rgba(0, 0, 0, 0.12);
}

.jp-dragImage .jp-dragImage-content {
  flex: 1 1 auto;
  z-index: 2;
  font-size: var(--jp-code-font-size);
  font-family: var(--jp-code-font-family);
  line-height: var(--jp-code-line-height);
  padding: var(--jp-code-padding);
  border: var(--jp-border-width) solid var(--jp-cell-editor-border-color);
  background: var(--jp-cell-editor-background-color);
  color: var(--jp-content-font-color3);
  text-align: left;
  margin: 4px 4px 4px 0px;
}

.jp-dragImage .jp-dragImage-prompt {
  flex: 0 0 auto;
  min-width: 36px;
  color: var(--jp-cell-inprompt-font-color);
  padding: var(--jp-code-padding);
  padding-left: 12px;
  font-family: var(--jp-cell-prompt-font-family);
  letter-spacing: var(--jp-cell-prompt-letter-spacing);
  line-height: 1.9;
  font-size: var(--jp-code-font-size);
  border: var(--jp-border-width) solid transparent;
}

.jp-dragImage-multipleBack {
  z-index: -1;
  position: absolute;
  height: 32px;
  width: 300px;
  top: 8px;
  left: 8px;
  background: var(--jp-layout-color2);
  border: var(--jp-border-width) solid var(--jp-input-border-color);
  box-shadow: 2px 2px 4px 0px rgba(0, 0, 0, 0.12);
}

/*-----------------------------------------------------------------------------
| Cell toolbar
|----------------------------------------------------------------------------*/

.jp-NotebookTools {
  display: block;
  min-width: var(--jp-sidebar-min-width);
  color: var(--jp-ui-font-color1);
  background: var(--jp-layout-color1);
  /* This is needed so that all font sizing of children done in ems is
    * relative to this base size */
  font-size: var(--jp-ui-font-size1);
  overflow: auto;
}

.jp-NotebookTools-tool {
  padding: 0px 12px 0 12px;
}

.jp-ActiveCellTool {
  padding: 12px;
  background-color: var(--jp-layout-color1);
  border-top: none !important;
}

.jp-ActiveCellTool .jp-InputArea-prompt {
  flex: 0 0 auto;
  padding-left: 0px;
}

.jp-ActiveCellTool .jp-InputArea-editor {
  flex: 1 1 auto;
  background: var(--jp-cell-editor-background);
  border-color: var(--jp-cell-editor-border-color);
}

.jp-ActiveCellTool .jp-InputArea-editor .CodeMirror {
  background: transparent;
}

.jp-MetadataEditorTool {
  flex-direction: column;
  padding: 12px 0px 12px 0px;
}

.jp-RankedPanel > :not(:first-child) {
  margin-top: 12px;
}

.jp-KeySelector select.jp-mod-styled {
  font-size: var(--jp-ui-font-size1);
  color: var(--jp-ui-font-color0);
  border: var(--jp-border-width) solid var(--jp-border-color1);
}

.jp-KeySelector label,
.jp-MetadataEditorTool label {
  line-height: 1.4;
}

.jp-NotebookTools .jp-select-wrapper {
  margin-top: 4px;
  margin-bottom: 0px;
}

.jp-NotebookTools .jp-Collapse {
  margin-top: 16px;
}

/*-----------------------------------------------------------------------------
| Presentation Mode (.jp-mod-presentationMode)
|----------------------------------------------------------------------------*/

.jp-mod-presentationMode .jp-Notebook {
  --jp-content-font-size1: var(--jp-content-presentation-font-size1);
  --jp-code-font-size: var(--jp-code-presentation-font-size);
}

.jp-mod-presentationMode .jp-Notebook .jp-Cell .jp-InputPrompt,
.jp-mod-presentationMode .jp-Notebook .jp-Cell .jp-OutputPrompt {
  flex: 0 0 110px;
}

</style>

    <style type="text/css">
/*-----------------------------------------------------------------------------
| Copyright (c) Jupyter Development Team.
| Distributed under the terms of the Modified BSD License.
|----------------------------------------------------------------------------*/

/*
The following CSS variables define the main, public API for styling JupyterLab.
These variables should be used by all plugins wherever possible. In other
words, plugins should not define custom colors, sizes, etc unless absolutely
necessary. This enables users to change the visual theme of JupyterLab
by changing these variables.

Many variables appear in an ordered sequence (0,1,2,3). These sequences
are designed to work well together, so for example, `--jp-border-color1` should
be used with `--jp-layout-color1`. The numbers have the following meanings:

* 0: super-primary, reserved for special emphasis
* 1: primary, most important under normal situations
* 2: secondary, next most important under normal situations
* 3: tertiary, next most important under normal situations

Throughout JupyterLab, we are mostly following principles from Google's
Material Design when selecting colors. We are not, however, following
all of MD as it is not optimized for dense, information rich UIs.
*/

:root {
  /* Elevation
   *
   * We style box-shadows using Material Design's idea of elevation. These particular numbers are taken from here:
   *
   * https://github.com/material-components/material-components-web
   * https://material-components-web.appspot.com/elevation.html
   */

  --jp-shadow-base-lightness: 0;
  --jp-shadow-umbra-color: rgba(
    var(--jp-shadow-base-lightness),
    var(--jp-shadow-base-lightness),
    var(--jp-shadow-base-lightness),
    0.2
  );
  --jp-shadow-penumbra-color: rgba(
    var(--jp-shadow-base-lightness),
    var(--jp-shadow-base-lightness),
    var(--jp-shadow-base-lightness),
    0.14
  );
  --jp-shadow-ambient-color: rgba(
    var(--jp-shadow-base-lightness),
    var(--jp-shadow-base-lightness),
    var(--jp-shadow-base-lightness),
    0.12
  );
  --jp-elevation-z0: none;
  --jp-elevation-z1: 0px 2px 1px -1px var(--jp-shadow-umbra-color),
    0px 1px 1px 0px var(--jp-shadow-penumbra-color),
    0px 1px 3px 0px var(--jp-shadow-ambient-color);
  --jp-elevation-z2: 0px 3px 1px -2px var(--jp-shadow-umbra-color),
    0px 2px 2px 0px var(--jp-shadow-penumbra-color),
    0px 1px 5px 0px var(--jp-shadow-ambient-color);
  --jp-elevation-z4: 0px 2px 4px -1px var(--jp-shadow-umbra-color),
    0px 4px 5px 0px var(--jp-shadow-penumbra-color),
    0px 1px 10px 0px var(--jp-shadow-ambient-color);
  --jp-elevation-z6: 0px 3px 5px -1px var(--jp-shadow-umbra-color),
    0px 6px 10px 0px var(--jp-shadow-penumbra-color),
    0px 1px 18px 0px var(--jp-shadow-ambient-color);
  --jp-elevation-z8: 0px 5px 5px -3px var(--jp-shadow-umbra-color),
    0px 8px 10px 1px var(--jp-shadow-penumbra-color),
    0px 3px 14px 2px var(--jp-shadow-ambient-color);
  --jp-elevation-z12: 0px 7px 8px -4px var(--jp-shadow-umbra-color),
    0px 12px 17px 2px var(--jp-shadow-penumbra-color),
    0px 5px 22px 4px var(--jp-shadow-ambient-color);
  --jp-elevation-z16: 0px 8px 10px -5px var(--jp-shadow-umbra-color),
    0px 16px 24px 2px var(--jp-shadow-penumbra-color),
    0px 6px 30px 5px var(--jp-shadow-ambient-color);
  --jp-elevation-z20: 0px 10px 13px -6px var(--jp-shadow-umbra-color),
    0px 20px 31px 3px var(--jp-shadow-penumbra-color),
    0px 8px 38px 7px var(--jp-shadow-ambient-color);
  --jp-elevation-z24: 0px 11px 15px -7px var(--jp-shadow-umbra-color),
    0px 24px 38px 3px var(--jp-shadow-penumbra-color),
    0px 9px 46px 8px var(--jp-shadow-ambient-color);

  /* Borders
   *
   * The following variables, specify the visual styling of borders in JupyterLab.
   */

  --jp-border-width: 1px;
  --jp-border-color0: var(--md-grey-400);
  --jp-border-color1: var(--md-grey-400);
  --jp-border-color2: var(--md-grey-300);
  --jp-border-color3: var(--md-grey-200);
  --jp-border-radius: 2px;

  /* UI Fonts
   *
   * The UI font CSS variables are used for the typography all of the JupyterLab
   * user interface elements that are not directly user generated content.
   *
   * The font sizing here is done assuming that the body font size of --jp-ui-font-size1
   * is applied to a parent element. When children elements, such as headings, are sized
   * in em all things will be computed relative to that body size.
   */

  --jp-ui-font-scale-factor: 1.2;
  --jp-ui-font-size0: 0.83333em;
  --jp-ui-font-size1: 13px; /* Base font size */
  --jp-ui-font-size2: 1.2em;
  --jp-ui-font-size3: 1.44em;

  --jp-ui-font-family: -apple-system, BlinkMacSystemFont, 'Segoe UI', Helvetica,
    Arial, sans-serif, 'Apple Color Emoji', 'Segoe UI Emoji', 'Segoe UI Symbol';

  /*
   * Use these font colors against the corresponding main layout colors.
   * In a light theme, these go from dark to light.
   */

  /* Defaults use Material Design specification */
  --jp-ui-font-color0: rgba(0, 0, 0, 1);
  --jp-ui-font-color1: rgba(0, 0, 0, 0.87);
  --jp-ui-font-color2: rgba(0, 0, 0, 0.54);
  --jp-ui-font-color3: rgba(0, 0, 0, 0.38);

  /*
   * Use these against the brand/accent/warn/error colors.
   * These will typically go from light to darker, in both a dark and light theme.
   */

  --jp-ui-inverse-font-color0: rgba(255, 255, 255, 1);
  --jp-ui-inverse-font-color1: rgba(255, 255, 255, 1);
  --jp-ui-inverse-font-color2: rgba(255, 255, 255, 0.7);
  --jp-ui-inverse-font-color3: rgba(255, 255, 255, 0.5);

  /* Content Fonts
   *
   * Content font variables are used for typography of user generated content.
   *
   * The font sizing here is done assuming that the body font size of --jp-content-font-size1
   * is applied to a parent element. When children elements, such as headings, are sized
   * in em all things will be computed relative to that body size.
   */

  --jp-content-line-height: 1.6;
  --jp-content-font-scale-factor: 1.2;
  --jp-content-font-size0: 0.83333em;
  --jp-content-font-size1: 14px; /* Base font size */
  --jp-content-font-size2: 1.2em;
  --jp-content-font-size3: 1.44em;
  --jp-content-font-size4: 1.728em;
  --jp-content-font-size5: 2.0736em;

  /* This gives a magnification of about 125% in presentation mode over normal. */
  --jp-content-presentation-font-size1: 17px;

  --jp-content-heading-line-height: 1;
  --jp-content-heading-margin-top: 1.2em;
  --jp-content-heading-margin-bottom: 0.8em;
  --jp-content-heading-font-weight: 500;

  /* Defaults use Material Design specification */
  --jp-content-font-color0: rgba(0, 0, 0, 1);
  --jp-content-font-color1: rgba(0, 0, 0, 0.87);
  --jp-content-font-color2: rgba(0, 0, 0, 0.54);
  --jp-content-font-color3: rgba(0, 0, 0, 0.38);

  --jp-content-link-color: var(--md-blue-700);

  --jp-content-font-family: -apple-system, BlinkMacSystemFont, 'Segoe UI',
    Helvetica, Arial, sans-serif, 'Apple Color Emoji', 'Segoe UI Emoji',
    'Segoe UI Symbol';

  /*
   * Code Fonts
   *
   * Code font variables are used for typography of code and other monospaces content.
   */

  --jp-code-font-size: 13px;
  --jp-code-line-height: 1.3077; /* 17px for 13px base */
  --jp-code-padding: 5px; /* 5px for 13px base, codemirror highlighting needs integer px value */
  --jp-code-font-family-default: Menlo, Consolas, 'DejaVu Sans Mono', monospace;
  --jp-code-font-family: var(--jp-code-font-family-default);

  /* This gives a magnification of about 125% in presentation mode over normal. */
  --jp-code-presentation-font-size: 16px;

  /* may need to tweak cursor width if you change font size */
  --jp-code-cursor-width0: 1.4px;
  --jp-code-cursor-width1: 2px;
  --jp-code-cursor-width2: 4px;

  /* Layout
   *
   * The following are the main layout colors use in JupyterLab. In a light
   * theme these would go from light to dark.
   */

  --jp-layout-color0: white;
  --jp-layout-color1: white;
  --jp-layout-color2: var(--md-grey-200);
  --jp-layout-color3: var(--md-grey-400);
  --jp-layout-color4: var(--md-grey-600);

  /* Inverse Layout
   *
   * The following are the inverse layout colors use in JupyterLab. In a light
   * theme these would go from dark to light.
   */

  --jp-inverse-layout-color0: #111111;
  --jp-inverse-layout-color1: var(--md-grey-900);
  --jp-inverse-layout-color2: var(--md-grey-800);
  --jp-inverse-layout-color3: var(--md-grey-700);
  --jp-inverse-layout-color4: var(--md-grey-600);

  /* Brand/accent */

  --jp-brand-color0: var(--md-blue-700);
  --jp-brand-color1: var(--md-blue-500);
  --jp-brand-color2: var(--md-blue-300);
  --jp-brand-color3: var(--md-blue-100);
  --jp-brand-color4: var(--md-blue-50);

  --jp-accent-color0: var(--md-green-700);
  --jp-accent-color1: var(--md-green-500);
  --jp-accent-color2: var(--md-green-300);
  --jp-accent-color3: var(--md-green-100);

  /* State colors (warn, error, success, info) */

  --jp-warn-color0: var(--md-orange-700);
  --jp-warn-color1: var(--md-orange-500);
  --jp-warn-color2: var(--md-orange-300);
  --jp-warn-color3: var(--md-orange-100);

  --jp-error-color0: var(--md-red-700);
  --jp-error-color1: var(--md-red-500);
  --jp-error-color2: var(--md-red-300);
  --jp-error-color3: var(--md-red-100);

  --jp-success-color0: var(--md-green-700);
  --jp-success-color1: var(--md-green-500);
  --jp-success-color2: var(--md-green-300);
  --jp-success-color3: var(--md-green-100);

  --jp-info-color0: var(--md-cyan-700);
  --jp-info-color1: var(--md-cyan-500);
  --jp-info-color2: var(--md-cyan-300);
  --jp-info-color3: var(--md-cyan-100);

  /* Cell specific styles */

  --jp-cell-padding: 5px;

  --jp-cell-collapser-width: 8px;
  --jp-cell-collapser-min-height: 20px;
  --jp-cell-collapser-not-active-hover-opacity: 0.6;

  --jp-cell-editor-background: var(--md-grey-100);
  --jp-cell-editor-border-color: var(--md-grey-300);
  --jp-cell-editor-box-shadow: inset 0 0 2px var(--md-blue-300);
  --jp-cell-editor-active-background: var(--jp-layout-color0);
  --jp-cell-editor-active-border-color: var(--jp-brand-color1);

  --jp-cell-prompt-width: 64px;
  --jp-cell-prompt-font-family: var(--jp-code-font-family-default);
  --jp-cell-prompt-letter-spacing: 0px;
  --jp-cell-prompt-opacity: 1;
  --jp-cell-prompt-not-active-opacity: 0.5;
  --jp-cell-prompt-not-active-font-color: var(--md-grey-700);
  /* A custom blend of MD grey and blue 600
   * See https://meyerweb.com/eric/tools/color-blend/#546E7A:1E88E5:5:hex */
  --jp-cell-inprompt-font-color: #307fc1;
  /* A custom blend of MD grey and orange 600
   * https://meyerweb.com/eric/tools/color-blend/#546E7A:F4511E:5:hex */
  --jp-cell-outprompt-font-color: #bf5b3d;

  /* Notebook specific styles */

  --jp-notebook-padding: 10px;
  --jp-notebook-select-background: var(--jp-layout-color1);
  --jp-notebook-multiselected-color: var(--md-blue-50);

  /* The scroll padding is calculated to fill enough space at the bottom of the
  notebook to show one single-line cell (with appropriate padding) at the top
  when the notebook is scrolled all the way to the bottom. We also subtract one
  pixel so that no scrollbar appears if we have just one single-line cell in the
  notebook. This padding is to enable a 'scroll past end' feature in a notebook.
  */
  --jp-notebook-scroll-padding: calc(
    100% - var(--jp-code-font-size) * var(--jp-code-line-height) -
      var(--jp-code-padding) - var(--jp-cell-padding) - 1px
  );

  /* Rendermime styles */

  --jp-rendermime-error-background: #fdd;
  --jp-rendermime-table-row-background: var(--md-grey-100);
  --jp-rendermime-table-row-hover-background: var(--md-light-blue-50);

  /* Dialog specific styles */

  --jp-dialog-background: rgba(0, 0, 0, 0.25);

  /* Console specific styles */

  --jp-console-padding: 10px;

  /* Toolbar specific styles */

  --jp-toolbar-border-color: var(--jp-border-color1);
  --jp-toolbar-micro-height: 8px;
  --jp-toolbar-background: var(--jp-layout-color1);
  --jp-toolbar-box-shadow: 0px 0px 2px 0px rgba(0, 0, 0, 0.24);
  --jp-toolbar-header-margin: 4px 4px 0px 4px;
  --jp-toolbar-active-background: var(--md-grey-300);

  /* Input field styles */

  --jp-input-box-shadow: inset 0 0 2px var(--md-blue-300);
  --jp-input-active-background: var(--jp-layout-color1);
  --jp-input-hover-background: var(--jp-layout-color1);
  --jp-input-background: var(--md-grey-100);
  --jp-input-border-color: var(--jp-border-color1);
  --jp-input-active-border-color: var(--jp-brand-color1);
  --jp-input-active-box-shadow-color: rgba(19, 124, 189, 0.3);

  /* General editor styles */

  --jp-editor-selected-background: #d9d9d9;
  --jp-editor-selected-focused-background: #d7d4f0;
  --jp-editor-cursor-color: var(--jp-ui-font-color0);

  /* Code mirror specific styles */

  --jp-mirror-editor-keyword-color: #008000;
  --jp-mirror-editor-atom-color: #88f;
  --jp-mirror-editor-number-color: #080;
  --jp-mirror-editor-def-color: #00f;
  --jp-mirror-editor-variable-color: var(--md-grey-900);
  --jp-mirror-editor-variable-2-color: #05a;
  --jp-mirror-editor-variable-3-color: #085;
  --jp-mirror-editor-punctuation-color: #05a;
  --jp-mirror-editor-property-color: #05a;
  --jp-mirror-editor-operator-color: #aa22ff;
  --jp-mirror-editor-comment-color: #408080;
  --jp-mirror-editor-string-color: #ba2121;
  --jp-mirror-editor-string-2-color: #708;
  --jp-mirror-editor-meta-color: #aa22ff;
  --jp-mirror-editor-qualifier-color: #555;
  --jp-mirror-editor-builtin-color: #008000;
  --jp-mirror-editor-bracket-color: #997;
  --jp-mirror-editor-tag-color: #170;
  --jp-mirror-editor-attribute-color: #00c;
  --jp-mirror-editor-header-color: blue;
  --jp-mirror-editor-quote-color: #090;
  --jp-mirror-editor-link-color: #00c;
  --jp-mirror-editor-error-color: #f00;
  --jp-mirror-editor-hr-color: #999;

  /* Vega extension styles */

  --jp-vega-background: white;

  /* Sidebar-related styles */

  --jp-sidebar-min-width: 250px;

  /* Search-related styles */

  --jp-search-toggle-off-opacity: 0.5;
  --jp-search-toggle-hover-opacity: 0.8;
  --jp-search-toggle-on-opacity: 1;
  --jp-search-selected-match-background-color: rgb(245, 200, 0);
  --jp-search-selected-match-color: black;
  --jp-search-unselected-match-background-color: var(
    --jp-inverse-layout-color0
  );
  --jp-search-unselected-match-color: var(--jp-ui-inverse-font-color0);

  /* Icon colors that work well with light or dark backgrounds */
  --jp-icon-contrast-color0: var(--md-purple-600);
  --jp-icon-contrast-color1: var(--md-green-600);
  --jp-icon-contrast-color2: var(--md-pink-600);
  --jp-icon-contrast-color3: var(--md-blue-600);
}
</style>

<style type="text/css">
a.anchor-link {
   display: none;
}
.highlight  {
    margin: 0.4em;
}

/* Input area styling */
.jp-InputArea {
    overflow: hidden;
}

.jp-InputArea-editor {
    overflow: hidden;
}

@media print {
  body {
    margin: 0;
  }
}
</style>

<!-- Load mathjax -->
    <script src="https://cdnjs.cloudflare.com/ajax/libs/mathjax/2.7.7/latest.js?config=TeX-MML-AM_CHTML-full,Safe"> </script>
    <!-- MathJax configuration -->
    <script type="text/x-mathjax-config">
    init_mathjax = function() {
        if (window.MathJax) {
        // MathJax loaded
            MathJax.Hub.Config({
                TeX: {
                    equationNumbers: {
                    autoNumber: "AMS",
                    useLabelIds: true
                    }
                },
                tex2jax: {
                    inlineMath: [ ['$','$'], ["\\(","\\)"] ],
                    displayMath: [ ['$$','$$'], ["\\[","\\]"] ],
                    processEscapes: true,
                    processEnvironments: true
                },
                displayAlign: 'center',
                CommonHTML: {
                    linebreaks: { 
                    automatic: true 
                    }
                },
                "HTML-CSS": {
                    linebreaks: { 
                    automatic: true 
                    }
                }
            });
        
            MathJax.Hub.Queue(["Typeset", MathJax.Hub]);
        }
    }
    init_mathjax();
    </script>
    <!-- End of mathjax configuration --></head>
<body class="jp-Notebook" data-jp-theme-light="true" data-jp-theme-name="JupyterLab Light">
<div class="jp-Cell jp-CodeCell jp-Notebook-cell jp-mod-noOutputs  ">
<div class="jp-Cell-inputWrapper">
<div class="jp-InputArea jp-Cell-inputArea">
<div class="jp-InputPrompt jp-InputArea-prompt">In&nbsp;[&nbsp;]:</div>
<div class="jp-CodeMirrorEditor jp-Editor jp-InputArea-editor" data-type="inline">
     <div class="CodeMirror cm-s-jupyter">
<div class=" highlight hl-ipython3"><pre><span></span><span class="n">version</span> <span class="o">=</span> <span class="s2">&quot;REPLACE_PACKAGE_VERSION&quot;</span>
</pre></div>

     </div>
</div>
</div>
</div>

</div>
<div class="jp-Cell-inputWrapper"><div class="jp-InputPrompt jp-InputArea-prompt">
</div><div class="jp-RenderedHTMLCommon jp-RenderedMarkdown jp-MarkdownOutput " data-mime-type="text/markdown">
<hr>
<h1 id="Assignment-2-Part-1:-Time-Series-Patterns-(50-pts)">Assignment 2 Part 1: Time Series Patterns (50 pts)<a class="anchor-link" href="#Assignment-2-Part-1:-Time-Series-Patterns-(50-pts)">&#182;</a></h1><p>In this assignment, we're going to practise some techniques that are useful for discerning patterns in a time series.</p>

</div>
</div><div class="jp-Cell jp-CodeCell jp-Notebook-cell jp-mod-noOutputs  ">
<div class="jp-Cell-inputWrapper">
<div class="jp-InputArea jp-Cell-inputArea">
<div class="jp-InputPrompt jp-InputArea-prompt">In&nbsp;[89]:</div>
<div class="jp-CodeMirrorEditor jp-Editor jp-InputArea-editor" data-type="inline">
     <div class="CodeMirror cm-s-jupyter">
<div class=" highlight hl-ipython3"><pre><span></span><span class="kn">import</span> <span class="nn">numpy</span> <span class="k">as</span> <span class="nn">np</span>
<span class="kn">import</span> <span class="nn">pandas</span> <span class="k">as</span> <span class="nn">pd</span>
<span class="kn">import</span> <span class="nn">matplotlib.pyplot</span> <span class="k">as</span> <span class="nn">plt</span>
<span class="o">%</span><span class="k">matplotlib</span> inline

<span class="kn">from</span> <span class="nn">pandas.plotting</span> <span class="kn">import</span> <span class="n">register_matplotlib_converters</span>
<span class="n">register_matplotlib_converters</span><span class="p">()</span>

<span class="c1"># Suppress all warnings</span>
<span class="kn">import</span> <span class="nn">warnings</span>
<span class="n">warnings</span><span class="o">.</span><span class="n">filterwarnings</span><span class="p">(</span><span class="s2">&quot;ignore&quot;</span><span class="p">)</span>
</pre></div>

     </div>
</div>
</div>
</div>

</div>
<div class="jp-Cell-inputWrapper"><div class="jp-InputPrompt jp-InputArea-prompt">
</div><div class="jp-RenderedHTMLCommon jp-RenderedMarkdown jp-MarkdownOutput " data-mime-type="text/markdown">
<h2 id="Question-1:-Load-Data-(5-pts)">Question 1: Load Data (5 pts)<a class="anchor-link" href="#Question-1:-Load-Data-(5-pts)">&#182;</a></h2><p>At the time of writing this assignment, August 2020, COVID-19 is still the most topical public-health crisis globally with nearly 300,000 new cases reported worldwide every day. <strong>The number of daily new cases worldwide</strong> is a time series that arises naturally from this topical event, and in this assignment we'll apply some of the techniques we learned in class to this very time series to discern any patterns it may contain.</p>
<p>You are provided with a csv file, <code>assets/time_series_covid19_confirmed_global.csv</code>, which is part of the <a href="https://github.com/CSSEGISandData/COVID-19/tree/master/csse_covid_19_data/csse_covid_19_time_series">Johns Hopkins University CSSE COVID-19 dataset</a>. As the name suggests, it contains the number of <em>cumulative</em> confirmed cases globally as of certain dates. However, we are interested in the number of <em>new</em> cases worldwide every day.</p>
<p>Create a function called <code>load_data</code> that reads in the csv file and produces a <code>pd.Series</code> that looks like:</p>

<pre><code>2020-01-23        99.0
2020-01-24       287.0
2020-01-25       493.0
2020-01-26       684.0
2020-01-27       809.0
                ...   
2020-08-17    209672.0
2020-08-18    255096.0
2020-08-19    274346.0
2020-08-20    267183.0
2020-08-21    270751.0
Length: 212, dtype: float64</code></pre>
<p>where</p>
<ul>
<li>the index of the series is a <code>pd.DatetimeIndex</code>; </li>
<li>the values of the series are daily <em>new</em> cases worldwide; and</li>
<li>the series doesn't contain any <code>NaN</code> values. </li>
</ul>
<p><strong>This function should return a <code>pd.Series</code> of length 212, whose index is a <code>pd.DatetimeIndex</code>.</strong></p>

</div>
</div><div class="jp-Cell jp-CodeCell jp-Notebook-cell jp-mod-noOutputs  ">
<div class="jp-Cell-inputWrapper">
<div class="jp-InputArea jp-Cell-inputArea">
<div class="jp-InputPrompt jp-InputArea-prompt">In&nbsp;[90]:</div>
<div class="jp-CodeMirrorEditor jp-Editor jp-InputArea-editor" data-type="inline">
     <div class="CodeMirror cm-s-jupyter">
<div class=" highlight hl-ipython3"><pre><span></span><span class="k">def</span> <span class="nf">load_data</span><span class="p">():</span>
    <span class="n">covid_df</span> <span class="o">=</span> <span class="n">pd</span><span class="o">.</span><span class="n">read_csv</span><span class="p">(</span><span class="s1">&#39;assets/time_series_covid19_confirmed_global.csv&#39;</span><span class="p">)</span>
    <span class="n">covid_df_transpose</span> <span class="o">=</span> <span class="n">covid_df</span><span class="o">.</span><span class="n">transpose</span><span class="p">()</span>
    <span class="n">covid_df_transpose</span> <span class="o">=</span> <span class="n">covid_df_transpose</span><span class="o">.</span><span class="n">drop</span><span class="p">(</span><span class="n">labels</span> <span class="o">=</span> <span class="p">[</span><span class="s1">&#39;Province/State&#39;</span><span class="p">,</span> <span class="s1">&#39;Country/Region&#39;</span><span class="p">,</span> <span class="s1">&#39;Lat&#39;</span><span class="p">,</span> <span class="s1">&#39;Long&#39;</span><span class="p">])</span>
    <span class="n">covid_df_transpose</span><span class="p">[</span><span class="s1">&#39;Total_Cases_Per_Date&#39;</span><span class="p">]</span> <span class="o">=</span>  <span class="n">covid_df_transpose</span><span class="p">[</span><span class="nb">list</span><span class="p">(</span><span class="n">covid_df_transpose</span><span class="o">.</span><span class="n">columns</span><span class="p">)]</span><span class="o">.</span><span class="n">sum</span><span class="p">(</span><span class="n">axis</span><span class="o">=</span><span class="mi">1</span><span class="p">)</span>
    <span class="n">covid_df_transpose</span><span class="p">[</span><span class="s1">&#39;New_Daily_Cases&#39;</span><span class="p">]</span> <span class="o">=</span>   <span class="n">covid_df_transpose</span><span class="p">[</span><span class="s1">&#39;Total_Cases_Per_Date&#39;</span><span class="p">]</span><span class="o">.</span><span class="n">diff</span><span class="p">()</span>
    <span class="n">covid_df_transpose</span> <span class="o">=</span> <span class="n">covid_df_transpose</span><span class="o">.</span><span class="n">drop</span><span class="p">(</span><span class="n">labels</span> <span class="o">=</span> <span class="p">[</span><span class="s1">&#39;1/22/20&#39;</span><span class="p">])</span>
    <span class="n">covid_df_transpose</span> <span class="o">=</span> <span class="n">covid_df_transpose</span><span class="o">.</span><span class="n">reset_index</span><span class="p">()</span>
    <span class="n">covid_df_transpose</span><span class="p">[</span><span class="s1">&#39;index&#39;</span><span class="p">]</span> <span class="o">=</span> <span class="n">pd</span><span class="o">.</span><span class="n">to_datetime</span><span class="p">(</span><span class="n">covid_df_transpose</span><span class="p">[</span><span class="s1">&#39;index&#39;</span><span class="p">])</span>
    <span class="n">covid_df_transpose</span> <span class="o">=</span> <span class="n">covid_df_transpose</span><span class="o">.</span><span class="n">set_index</span><span class="p">([</span><span class="s1">&#39;index&#39;</span><span class="p">])</span>
    
    <span class="n">daily_new_cases</span>  <span class="o">=</span> <span class="n">pd</span><span class="o">.</span><span class="n">Series</span><span class="p">(</span><span class="n">covid_df_transpose</span><span class="p">[</span><span class="s1">&#39;New_Daily_Cases&#39;</span><span class="p">])</span>
    
    <span class="k">return</span> <span class="n">daily_new_cases</span>
</pre></div>

     </div>
</div>
</div>
</div>

</div><div class="jp-Cell jp-CodeCell jp-Notebook-cell jp-mod-noOutputs  ">
<div class="jp-Cell-inputWrapper">
<div class="jp-InputArea jp-Cell-inputArea">
<div class="jp-InputPrompt jp-InputArea-prompt">In&nbsp;[91]:</div>
<div class="jp-CodeMirrorEditor jp-Editor jp-InputArea-editor" data-type="inline">
     <div class="CodeMirror cm-s-jupyter">
<div class=" highlight hl-ipython3"><pre><span></span><span class="c1"># Autograder tests</span>

<span class="n">stu_ans</span> <span class="o">=</span> <span class="n">load_data</span><span class="p">()</span>

<span class="k">assert</span> <span class="nb">isinstance</span><span class="p">(</span><span class="n">stu_ans</span><span class="p">,</span> <span class="n">pd</span><span class="o">.</span><span class="n">Series</span><span class="p">),</span> <span class="s2">&quot;Q1: Your function should return a pd.Series. &quot;</span>
<span class="k">assert</span> <span class="nb">len</span><span class="p">(</span><span class="n">stu_ans</span><span class="p">)</span> <span class="o">==</span> <span class="mi">212</span><span class="p">,</span> <span class="s2">&quot;Q1: The length of the series returned is incorrect. &quot;</span>
<span class="k">assert</span> <span class="nb">isinstance</span><span class="p">(</span><span class="n">stu_ans</span><span class="o">.</span><span class="n">index</span><span class="p">,</span> <span class="n">pd</span><span class="o">.</span><span class="n">DatetimeIndex</span><span class="p">),</span> <span class="s2">&quot;Q1: The index of your series must be a pd.DatetimeIndex. &quot;</span>
<span class="k">assert</span> <span class="p">((</span><span class="s2">&quot;2020-01-23&quot;</span> <span class="o">&lt;=</span> <span class="n">stu_ans</span><span class="o">.</span><span class="n">index</span><span class="p">)</span> <span class="o">&amp;</span> <span class="p">(</span><span class="n">stu_ans</span><span class="o">.</span><span class="n">index</span> <span class="o">&lt;=</span> <span class="s2">&quot;2020-08-21&quot;</span><span class="p">))</span><span class="o">.</span><span class="n">all</span><span class="p">(),</span> <span class="s2">&quot;Q1: The index of your series contains an incorrect time range. &quot;</span>
<span class="k">assert</span> <span class="ow">not</span> <span class="n">stu_ans</span><span class="o">.</span><span class="n">isna</span><span class="p">()</span><span class="o">.</span><span class="n">any</span><span class="p">(),</span> <span class="s2">&quot;Q1: Your series contains NaN values. &quot;</span>
<span class="k">assert</span> <span class="n">np</span><span class="o">.</span><span class="n">issubdtype</span><span class="p">(</span><span class="n">stu_ans</span><span class="o">.</span><span class="n">dtype</span><span class="p">,</span> <span class="n">np</span><span class="o">.</span><span class="n">floating</span><span class="p">),</span> <span class="s2">&quot;Q1: Your series should have a float dtype. &quot;</span>

<span class="c1"># Some hidden tests</span>


<span class="k">del</span> <span class="n">stu_ans</span>
</pre></div>

     </div>
</div>
</div>
</div>

</div><div class="jp-Cell jp-CodeCell jp-Notebook-cell   ">
<div class="jp-Cell-inputWrapper">
<div class="jp-InputArea jp-Cell-inputArea">
<div class="jp-InputPrompt jp-InputArea-prompt">In&nbsp;[92]:</div>
<div class="jp-CodeMirrorEditor jp-Editor jp-InputArea-editor" data-type="inline">
     <div class="CodeMirror cm-s-jupyter">
<div class=" highlight hl-ipython3"><pre><span></span><span class="c1"># Let&#39;s plot and see the time series</span>

<span class="n">fig</span><span class="p">,</span> <span class="n">ax</span> <span class="o">=</span> <span class="n">plt</span><span class="o">.</span><span class="n">subplots</span><span class="p">(</span><span class="n">figsize</span><span class="o">=</span><span class="p">(</span><span class="mi">10</span><span class="p">,</span> <span class="mi">6</span><span class="p">))</span>
<span class="n">ax</span><span class="o">.</span><span class="n">plot</span><span class="p">(</span><span class="n">load_data</span><span class="p">())</span>
<span class="n">ax</span><span class="o">.</span><span class="n">set_xlabel</span><span class="p">(</span><span class="s2">&quot;Day&quot;</span><span class="p">)</span>
<span class="n">ax</span><span class="o">.</span><span class="n">set_ylabel</span><span class="p">(</span><span class="s2">&quot;# Cases&quot;</span><span class="p">)</span>
<span class="n">ax</span><span class="o">.</span><span class="n">set_title</span><span class="p">(</span><span class="s2">&quot;Daily New COVID-19 Cases Worldwide&quot;</span><span class="p">)</span>

<span class="k">del</span> <span class="n">fig</span><span class="p">,</span> <span class="n">ax</span>
</pre></div>

     </div>
</div>
</div>
</div>

<div class="jp-Cell-outputWrapper">


<div class="jp-OutputArea jp-Cell-outputArea">

<div class="jp-OutputArea-child">

    
    <div class="jp-OutputPrompt jp-OutputArea-prompt"></div>




<div class="jp-RenderedImage jp-OutputArea-output ">
<img src="data:image/png;base64,iVBORw0KGgoAAAANSUhEUgAAAncAAAGDCAYAAABJITbwAAAAOXRFWHRTb2Z0d2FyZQBNYXRwbG90bGliIHZlcnNpb24zLjQuMywgaHR0cHM6Ly9tYXRwbG90bGliLm9yZy/MnkTPAAAACXBIWXMAAAsTAAALEwEAmpwYAABwaUlEQVR4nO3dd3ikZ3X38e8Z9a5VW21vXnvdu702uOBOCTY1JmAMmJgQICFAEggklLy8AfIGYpJQDBibXgwEDBhjDO722uuyu97ed7XSqndpRlPu94/nGWkkzYxmtKtV+32uS5dG91Pmnmdl79lz7mLOOURERERkbghMdwdERERE5PhRcCciIiIyhyi4ExEREZlDFNyJiIiIzCEK7kRERETmEAV3IiIiInOIgjuROczMlptZn5nl+D8/bGbvnu5+iaRiZivNzJlZborjnzKz72V5z8vMbGea43eb2f/Jtq8iM5WCO5EZzMwOmNmgmfWaWZeZPWlmf2VmGf2365w75Jwrdc5Fj7Ef7/D/wv37Me0NZnblsdw7g/deZGbfMrMm/znsMLNPm1mJf9zM7O/NbLf/rA6Z2efMrMA//oCZfSbJfW80s6Nmlpv4l3tCcNHnfzWb2a/N7NoJ+nmG/15tZjZuAVEzO9XM/mhm3Wa2x8xedyyfe7r4/XJmtjCh7eMp2n43Pb0czTn3mHPulOnuh8iJouBOZOb7M+dcGbAC+Bzwj8C3pqEfHcA/mln5iXpDM6sCngKKgEv853AtUAms8U/7MnA78HagDHglcBXwE//43cAtZmZjbn8L8H3nXCTF21c650qBs4EHgV+Y2TvSdDfsv+dtST5HLvBL4NdAld/f75nZycfwuaeFc64J2ANcntB8ObAjSduj2dw7VbZORLKj4E5klnDOdTvnfgX8OXCrmZ0BYGavNrMXzKzHzA6b2afi16QqcZlZgZl1mNmZCW11fuarNkUXtuMFHH+X7KCZBczso2a218zazewnfpCCmd1jZh/2Xy/x+/TX/s8n+X0ZG3wBfAjoBd7mnDvgP4fDzrm/dc5tNrO1wF8Db3XOPeWcizjntgJvAG4ws6uA/8ULqC5L6OsC4DXAd1J81mHOuaPOuTuATwGfT5U1dc7tdM59C9ia5PA6YDHwJedc1Dn3R+AJvAAzmbSf2/8Md/h/3j1m9pyZJX6+i8xso3+s2cy+mHBsvZ8B7jKzTYmZVz9Du8/PFO43s7em6N+j+IGceSX/c4E7xrRdAjzq/158wswOmlmLmX3HzCr88+K/n7eZ2SHgj2PfyMxWmdkjfp8eBGoSjmX0e2VmV5pZQ8J155rZ8/49fwwUjnnP15jZizaSLT8rxXMQmZEU3InMMs65Z4AGRoKVfrysVSXwauC9ZnbTBPcIAT8C3pbQ/BbgD8651jSX/jPwd/GgbYy/AW4CrsALZDqB//GPPQJc6b++AtjnfwcvIHjMJd8L8Rrg5865WIr+XA00+M9kmHPuMPA0cK1zbhAvo/b2hFPeDOxwzm1Kcd9kfg7UAZMp7yULXA04I8X5E31ugGeBc/AC1x8APzWzeJByB3CHc64cL9P3E/ACIOA3wP/xr/sI8DMzq/XLvV8GXulnCi8FXkzx3sPBHV5gtwN4aExbHvAM8A7/6xXAaqAU+O8x97sCOBW4Psl7/QB4Di+o+1fg1oRjWf9emVk+XsD/Xf8Z/BTvHwPx4+cBdwHvAaqBrwO/Mr/MLzIbKLgTmZ0a8f5iwjn3sHNui3Mu5md1fsjIX3Dp3AP8RUIm6ha8v/BScs69CPwerzQ81nuAjzvnGvzg8VPAG/2s4SPAZf57XQ58AXiZf90V/vFkqoGmNF2qSXO8iZEszz3Am8ysyP/57X5bNhr978kC24nsAFqAvzezPDO7Du9zF6c4f6LPjXPue865dj9b+R9AASOBZxg4ycxqnHN9zrmn/fa3Ab91zv3W/315ENgIvMo/HgPOMLMi51yTnwVN5hH/vAV4/8h4zDm3G6hJaHvaOTcEvBX4onNun3OuD/gYcPOYbPKnnHP9fiA+zMyWAxcC/+ycCznnHgXuG9OPbH+v1uMFnv/pnAs75+7FC5Tj/hL4unNug59lvQcI+deJzAoK7kRmpyV4Y+Aws4vN7E9m1mpm3cBfkVC6SsU5twEv63eFma0DTgJ+lcF7/wtedrB+TPsKvHFpXWbWhVfGjQILnXN7gT68TNNleGPPGs3sFNIHd+3AojR9aUtzfJF/HOfc40ArcKOZrcYLGH6Q5r7JLPG/d5jZW21kwsX9E13onAvjZTVfDRwFPoyXTWtIcclEnxsz+7CZbTdvgkYXUMHIn/ttwMnADjN71sxe47evwAtyuxL+nF4OLHLO9eOV/P8KaDKz3/i/F8k+zwG/7y/Hz5D5h55KaIuPt1sMHEy4/CCQCyxMaDuc4mMuBjr9viVeH+/HZH6vFgNHxmT0Evu3AvjwmGe0zL9OZFZQcCcyy5jZhXiBxuN+0w/wgrJlzrkK4GskLwMmcw9eNucW4F7nXHCiC5xzO/BKlP805tBhvJJeZcJXoXPuiH/8EeCNQL7f9gheBm0Bqct/fwBel2qcG94YrWVmdlFio5ktw8u0PJTQ/B3//W4Bfu+ca57os47xOrzs207n3Pf9WcilzrlXZnKxc26zc+4K51y1c+56vBLlMylOT/u5/fF1/4hXXl7gnKsEuvH/3J1zu51zb8ErI38euNcvux4Gvjvmz6jEOfc5/7oHnHPX4gWWO4BvpPlIj+EFcZcAT45pezkjwV0jXsAUtxyIAInPP1lJHrzs5QIbPUN4+Zhzsv29agKWmI0a45l4z8PAZ8c8o2Ln3A9T9FFkxlFwJzJLmFm5n4H5EfA959wW/1AZ0OGcC/pBzl9kcdvv4gUtbyODyQUJPg28E2+cX9zXgM+a2Qq/v7VmdmPC8UeA9zPyl/7DwAeAx9Ms1fJFoBy4J+G+S8zsi2Z2lnNul/++3zdvokCOmZ0O/Axv/OAfEu71HbyxbH9JFiVZM1toZu8HPgl8LNU4OH/gfiGQ7/9cmDhOy8zO8tuKzewjeAHU3ZP53Hh/5hG8bGSumf2Lf378vd5mZrV+X7v85ijwPeDPzOx6/1kV+pMNlvqf87V+IBXCy4ilW0LnUbwgqtE51+O3Pe63VeBl8cAbJvB35k2MKAX+L/DjNLOUhznnDuKVjT9tZvlm9nLgz8aclu3v1VN4z+5vzFsG5/VA4j8OvgH8lZ8RNzMrMW/SUtlE/RWZKRTcicx895lZL15G4eN4f/G/M+H4XwOf8c/5F0aWAJmQc64BeB4vc/LYBKcnXrcfLzBMzKjcgZdB/L3fl6eBixOOP4IXlMT/En4cb8xZyuUynHMdeAP7w8AG/74P4WWp9vinvR/4Jl7g0gf8Du8v+DeMudcBvAxTCZmVn7vMrB/Ygjcm7U3OubvSnL8CGGRktuwgkLhw7i14WaMWvIkg1/pjE8fJ4HM/ANwP7MIrKQYZXdq8AdhqZn14fy43O+eC/kSTG/Gyrq3+NX+P93dBAK9c3IhX8r8C73crlUfwMoOPJ7S9iLd8y3POuQG/7S6835VHgf1+Xz+Q5r5j/QXe71EHXoA99h8hWf1e+eMAX483yaMTrxT984TjG/H+AfDf/vE9/rkis4Yln6AmIvOFmd2Fl335xHT3RUREjp0WjBSZx8xsJV4W49xp7oqIiBwnKsuKzFNm9q/AS8C/+2VWERGZA1SWFREREZlDlLkTERERmUMU3ImIiIjMIZpQ4aupqXErV66c7m6IiIiITOi5555rc87VJjum4M63cuVKNm7cON3dEBEREZmQmR1MdUxlWREREZE5RMGdiIiIyByi4E5ERERkDlFwJyIiIjKHKLgTERERmUMU3ImIiIjMIQruREREROYQBXciIiIic4iCOxEREZE5RMGdiIiIyByi4E5ERERkDlFwJyIiIgIEw1EOtvdPdzeOmYI7EREREeDbTxzgVXc8RjTmprsrx2TKgjszKzSzZ8xsk5ltNbNP++1VZvagme32vy9IuOZjZrbHzHaa2fUJ7eeb2Rb/2JfNzPz2AjP7sd++wcxWJlxzq/8eu83s1qn6nCIiIjI37GrupX8oysBQZLq7ckymMnMXAq5yzp0NnAPcYGbrgY8CDznn1gIP+T9jZqcBNwOnAzcAXzGzHP9eXwVuB9b6Xzf47bcBnc65k4AvAZ/371UFfBK4GLgI+GRiECkiIiIyVrwkOzgUneaeHJspC+6cp8//Mc//csCNwD1++z3ATf7rG4EfOedCzrn9wB7gIjNbBJQ7555yzjngO2Ouid/rXuBqP6t3PfCgc67DOdcJPMhIQCgiIiIyzqGOQQAGFNylZmY5ZvYi0IIXbG0AFjrnmgD873X+6UuAwwmXN/htS/zXY9tHXeOciwDdQHWae4mIiIiMMzAUoa0v5L9WcJeScy7qnDsHWIqXhTsjzemW7BZp2id7zcgbmt1uZhvNbGNra2uaromIiMhcdtjP2gEac5cJ51wX8DBeabTZL7Xif2/xT2sAliVcthRo9NuXJmkfdY2Z5QIVQEeae43t153OuQuccxfU1tZO/gOKiIjIrJa4BIoydymYWa2ZVfqvi4BrgB3Ar4D47NVbgV/6r38F3OzPgF2FN3HiGb9022tm6/3xdG8fc038Xm8E/uiPy3sAuM7MFvgTKa7z20RERETGOdQxMPx6tgd3uVN470XAPf6M1wDwE+fcr83sKeAnZnYbcAh4E4BzbquZ/QTYBkSA9znn4k/3vcDdQBFwv/8F8C3gu2a2By9jd7N/rw4z+1fgWf+8zzjnOqbws4qIiMgsdjghuBsMz+6y7JQFd865zcC5SdrbgatTXPNZ4LNJ2jcC48brOeeC+MFhkmN3AXdl12sRERGZjw51DFBTWkBbX4j+0OzO3GmHChEREZn3DnUMsK6+DNA6dyIiIiKzWizmONw5yCl+cDfbx9wpuBMREZF5rbk3yFAkxqqaEvJzAwzM8jF3Cu5ERERk2m1v6iEaG7ck7QlxqN2bTLGiupji/ByVZUVERESysbmhi66BoeGfdxzt4ZV3PMYftjdPS3/iy6AsryqmOC9HEypEREREMuWc4y++sYHP/27HcNuju7xdolp6gtPSp0MdAwQMFlcWUVyQO+uXQlFwJyIiIidMMByjLxThoe0tePsOwBN72gHoCU5PUHWoY4DFlUXk5QQozs/RhAoRERGRTHUPhgFo6Q2xramHoUiMZ/Z7+wz0+MdOtEMdAyyvKgagKE/BnYiIiEjGuhMCuD/taOHFw10Mhr1gqieYfXD33MEOntjTNun+RGOOPS19rKwpAZgTEyqmcvsxERERkVHiEylyA8afdrYSjjrMoLa0gJ7B7Muyn/n1dnY39/LwR66krrww6+u3HOmmNxhh/epqAIrzc+kfGpjgqplNmTsRERHJmnNu1IzXTMUzd5efXMsLhzr53UtHOXNJBUsXFGWduYvFHLuO9jIwFOXfH9iZdV8AHtvVihm8/KQaYG5k7hTciYiISFYi0Rh/f+9mzv3XB/n0fVvpD2WecYsHdzedu4SYg53NvVy6pobyorysx9wd6hhgMBxleVUx9z7fwJaG7qyuB3hsdxtnLK6gqiQfQBMqREREZH4JhqP81fee597nGrh0TTV3P3mA6770KLubezO6fjhzt7aGaj+gunRNNeWFeVnPlt1x1HvPf3v9mVQV5/Pp+7YOz8DNRG8wzPOHOrlsbc1wW1F+rjJ3IiIiMn98/Bcv8YftzXz6tafz/Xev56fvuYTWvhA/evZwRtf3DIYxg/LCPK48pY783AAXrqyivCg368zdzqO9mMF5yxfwN1evZePBzuGALxNP7+sgEnNctrZ2uK04P4ehaIxwNJZVX2YSBXciIiKSsS1Hurjm1IXceulKAC5YWcXiikJaekMZXd89GKa8MI9AwPjYq9bxo9vXU5Sf42fuwlll3nY297Ciqpii/BzOWVYJQEPnYMbXP7a7leL8HM5bUTncVpyfAzCrS7OaLSsiIiIZ6w9FqSjKG9VWW1aQ8e4SXYPh4etrSguoKS0AoLwoj3DUMRiOUpyfWXiy42gvp9SXAd7uEgCNXdkEd22sX11NQW7OcFv8vQeHxn/O2UKZOxEREclYbzBMWeHo4KuurJDWvswzd8mCpvJCry3T5VCC4SgH2vo5ZaEX3FWX5JOfE6CxO7Pg7nDHAPvb+keNt4PEzN3s3YJMwZ2IiIhkxDlH/1CUkoKcUe21ZQW09mQe3FUWJwnuiryAMdPlUPa09BFzcEp9OQCBgLGospDGrswyiJsaugC4aFXVqPaiOVCWVXAnIiIiGQlFYkRjjtKC8WXZ3lAko1mm3YNhytNm7jIL7uITJ+JlWYBFFYU0ZViWPdrtBYFLFxSPap8LY+4U3ImIiEhGev2lSkrHZO7qyrxxc60ZTKroSVWW9dsyzdztPNpDfm6AldUjwdniyqKMx9w1dQcpzs+hfEyJOT7mLpOy7IPbmrnxvx8nGJ5ZgaCCOxEREclIfLHi0rFj7vxtv1p605dEnXNpxtz5ZdkMx9ztONrL2rpScnNGQpnFFUU094aIZLCMSVP3IPUVhZjZqPZ45i6TLOQTe9rY1NDNwztbM+rziaLgTkRERDLS5wd3JWNms9b6M14nWg5lMBwlHHXHJXOXOFM2bnFlEdGYy2hZlqbuIIsqxu9Fm01Z9nCHtwftfZsbM+nyCaPgTkRERDLSlzJzl1lZtmvAC9zSz5adOLjr6B+itTfEujHB3aJKL1hrymDG7NHuIPXlRePahydUZFBqPdzpBXcPbW8ezmo+uquV32xumvDaqaTgTkRERDLSNzzmbnRwV1WcT07AJizLxrceq0wS3OXnBijKy8loC7JtjT0AnLqofFT7En+tuyMTzJiNRGO09IZYXDk+cxfPSg5MsF+uc47DHYOcuaSCYDjGH7Y309k/xId/uok7Hto1rTtcaBFjERERyUj/UPLgLhAwakrzaZlgOZR4cJdqceBMtyB7qbEbgDMWV4xqj5dZJ5ox29oXIhpz1CcpyxblZVaWbe8fYjAc5aZzl9DaG+K+TY38fmszXQND3P3OC8nLmb78mYI7ERERyUhviswdZLaQcTy4S7YUCjC8BdlEXjrSzZLKIhaU5I9qLyvMo6wwd8IZs03+MijJxtwFAkZhXoDBCcqy8W3OVlQV85qzFvGtJ/bjHPz99adw+pig80RTWVZEREQykmq2LHjLoRx75i4vo9myLx3p5swlyQOoxRVFNHanL8vG17hLNuYOvOVQJloKJT6ZYllVMX929mKcg/OWV/Key1dP1P0pp8ydiIiIZKQvFCFgI6XLRLVlBWxq6E57fbzkWpFkhwrwlkNp7x9Kf49gmAPtA7zx/KVJjy+uLDymzB14n2+ismx8MsXSBUUU5+fwudefyZWn1I1ammW6TH8PREREZFboC0UoKcgdtzYceJm7jn5vLFsqXQNhAgal+clzS17mLn1ZNj6Z4vQUmbtFlUXDwVsqR7sHKcgNJN0GDaCkIIeB0ATBXccgVSX5w8/j5ouWJx3DNx0U3ImIiEhG+oKRpOPtAGrLC4k5aE8z7i6+gHEgMD44hPiYu/Tl0JeOJJ9MEbeksoiO/qG0ixA3dgdZXFmUNEgFKMrPnXAplIbOAZYtSF7WnW4K7kRERCQj/UNpgrsMFjJOtTtFXHy2rHOps39bG3uoLy+k1t/ybKzhGbNp1rrz1rhLnWUrzsthMIMxd0uritOeM10U3ImIiEhGeoNeWTaZTBYynjC4K8wjEnNpZ6puOdLNGUvKUx5f7K9115hmrbujKXaniCvOTz/mLhpzHOkaZNkCBXciIiIyi/WHIpQlmSkLiZm71EFV92A45TIokLAFWYoZswNDEfa29qVdamRxhR/cpcjcRWOO5p5g2vFxxQW5acu6Lb1BwlHHsiqVZUVERGQW6wtFxu0rGxcvk6ZbDqUng8wdpN5fdntTD86RchkUgIUVBZiRcsZsW1+ISMylz9zl5Qwv2JzM4Q7v3kuVuRMREZHZrD8UTbrGHUBhXg4VRXlpFzLOZMwdpN5f9qUj3kzZM9IEdwW5OVSX5NOcIsgcWQYlddataIKy7PAad5pQISIiIrNZbzCcckIFeNm7VJk75xxdg+GUy4/AxJm7Qx0DFOfnsLA8+WSKuMrifLoHk6+Xd9Qv16Yty+bnpC3LHu4cwAyWKLgTERGR2co5R/9QNG1wV1dWkHLMXf9QlGjMTZC5m2jMXZTi/OTr7CWqLMob3g1jrIkWMAYvuIvEHEORWNLjhzsGWVhWSEHu+MWcZwIFdyIiIjKhYDhGNOZSzpYFL7hLVZadaOsx8HaogNSZu4GhCCUFEwdUlcV5dA2kDu7ycwJUjdmXNlGxP64wVfbucOfAjJ1MAQruREREJAN9afaVjasqKaCjL3k5tHtg4uCuLF6WTZF1GxiKJt36bKyKovy0wV19RWHa7F9xvvceqSZVNHYNsqRSwZ2IiIjMYsPBXZrMWVlh7nD5dax45i7dUij5uQGK8nJS7lIxOBQdDrzSqSxOXZZt7glOOGavyH+PVJMqegbDVBanzvxNtykL7sxsmZn9ycy2m9lWM/tbv/1TZnbEzF70v16VcM3HzGyPme00s+sT2s83sy3+sS+bH26bWYGZ/dhv32BmKxOuudXMdvtft07V5xQREZltOvuHuOVbG4ZnfWaifzi4S5d587J6fUmCs0zKsjCyS0UyA0OR4ZJpOhVFefSFIoSj48fMtfWFqCtLvwdsurKsc46+UOqdOmaCqczcRYAPO+dOBdYD7zOz0/xjX3LOneN//RbAP3YzcDpwA/AVM4uH518FbgfW+l83+O23AZ3OuZOALwGf9+9VBXwSuBi4CPikmS2Yws8qIiIya7x4uIvHdrfxwNajGV/T6wds6ca8pZvt2jnglWsXTJDx8vaXTV2WzTRzByTN3rX2hqgpTd+HkuHM3fggdTAcJebSl6en25QFd865Jufc8/7rXmA7sCTNJTcCP3LOhZxz+4E9wEVmtggod8495bzN5r4D3JRwzT3+63uBq/2s3vXAg865DudcJ/AgIwGhiIjIvBbfveG5g50ZXxPP3JVlkrkLjQ+K4tuS1ZSmL4mWp5npmmlwF88Ojh13FwxH6Q1GUu5LG5euLDtSnp6HwV0iv1x6LrDBb3q/mW02s7sSMmpLgMMJlzX4bUv812PbR13jnIsA3UB1mnuJiIjMe03+vqsbD3bi5U0mFg9q0mXu4hMiepOUZVt6gywoziM/N33oUVtakHIB4oGhKEUZlGXj4+HGrnUXDzAnCu7iZdmkwV1QwR1mVgr8DPigc64Hr8S6BjgHaAL+I35qkstdmvbJXpPYt9vNbKOZbWxtbU33MUREROaM+NZcrb2h4a20JpLJbNl45q43SVm1tTc0YVAFsKiykKauwaRB5+BQJLOybIrMXVtfpsFd6rLsvM/cmVkeXmD3fefczwGcc83OuahzLgZ8A29MHHjZtWUJly8FGv32pUnaR11jZrlABdCR5l6jOOfudM5d4Jy7oLa29lg+qoiIyKzR2D04PC7tuUMdGV2TSVAzEtwlL8tONJEBYEllEf1D0XEzZp1zDISzG3M3NrjLtDQcX8uvP0l5eThzNx/H3Plj374FbHfOfTGhfVHCaa8DXvJf/wq42Z8Buwpv4sQzzrkmoNfM1vv3fDvwy4Rr4jNh3wj80R+X9wBwnZkt8Mu+1/ltIiIi815Td5CXnVRDWUEuGw9kNu6uPxQhYKRdZ26kLDs+c9eSaebO3/O1qXt0RjEYjuEcGc2WrSyKl2XHBHcZZu7iiyl3J9kpo3cWZO6msmcvA24BtpjZi37bPwFvMbNz8MqkB4D3ADjntprZT4BteDNt3+ecixe73wvcDRQB9/tf4AWP3zWzPXgZu5v9e3WY2b8Cz/rnfcY5l9k/TUREROawWMzR1BXkhtPrOWd5ZcaTKnqDEUoK0m/9VTa8w8T4rJuXucusLAte6Xhdfflwe7xEmknmrqwwFzPoGhvc+Zm76pL0/cjNCVBWkEtXkv1p45m7shmcuZuynjnnHif52Lffprnms8Bnk7RvBM5I0h4E3pTiXncBd2XaXxERkfmgvX+IoWiMxZVFFOXncMdDu+kJhoeXMUmlPxShbIJsVWFeDvk5gXFl2Z5ghFAkllHmbrGfuWvsGr1HbXxyQ1EGwV0gYFQU5dE9MDo4a+sLZTSpA6AixULI837MnYiIiMws8XLnoopCLlhRhXPwwqGuCa/rC0XS7isbV1aYO64sm+ks1fg5uQEbV5aNB3eZZO7AWw4lWeZuovF2idd3J9nCLJOJJdNNwZ2IiMg8Ep8pu7iyiHOWVxIweO7AxCOX+kKRjAIaL7gbnblr6fWycJkEdzkBY2F54fByLXHxsmxJBmPuwJsxm2xCRSZ9AG9SxtjgELzydH5OgILczILM6aDgTkREZB6JlzsXVxZRWpDLmUsruW9zE0OR8Vt1Jcp0y62ywryUmbtMxtx5fSvkSNfozN1gFmVZgIri/HHBWVvfUObBXVE+XQNJxtyFwjM6awcK7kREROaVpu5BCnIDLPCXC/ng1WvZ39bPd546kPa6/oyDu/GZu+GybOnES6GAN2O2qTv5mLtMy7KVY8bcxSd11GZYlvV2yhg/W7Y/FJ3R4+1AwZ2IiMi80tgdZHFl0fCs11esq+PKU2q54w+7hxf5TaYvmNmYu9KC5MFdfm6A8qLMgqJFlYUc7Q4Si40sZNyfxWxZGF9W7R+KMhiOZlWW7R4cGreYcm+Gz2E6KbgTERGZRxq7BllcOTqD9olXn8ZgOMp//H5nyuuOtSxbW1qQdhmVRIsrihiKxmjvH8m8DQ5n7jIfc9c9GB4OEDNdwDjx+nDUjduCrC8UnnDW8HRTcCciIjKPNHUFhxcKjjuprpS3rV/Bj549TGf/+HFmzrksgrtkEypC1JVnFlSBNx4QRiZ/wCRmyxbn49zIosOZbj0WN7zLxZhxe5lOLJlOCu5ERETmiXA0RktvkMUV48e+XbqmGuegoXP8XrPBcIyYy2z5j/LCXPqGIqNKqtmMdQNvmRYYvUvFYDi7CRXx/WXjy5lksxwLeEuhJF4f1xfMLMidTgruRERE5onmniAxB4sqi8Ydq/cDqqM9wXHHekNegJPZOnd5OAd9QyPZu5beYMZBFSRm7kb6MjAUISdg5OdkFrqMZN68TGT2wV3+qOvjlLkTERGRGSM+A3VxuuCue3zmrj/kZc1KCzLb+gsYLs0ORWJ0DoSpK8tspizAguI8CnIDozJ3/aEoxfk5GY/bGw7u/MxbW1+IgMGC4vysrh+buesNTrxTx3RTcCciIjJL9QbDHO0en2lLZXgB4yRl2ZoSb2eIZJm7Hn/cWVlB+i3KwMvcwcgerO392WXMAMyMxZVFNCZ8tsGhaMbj7WCkrBofM9faG6K6tICcQGbB4XBZNmHM3VAkRigSU1lWREREjj/nHLfds5G3fvPpjK+JlzmTlWUDAaOurGDc+nIwEqBVl06c9RrJ3HlBUUtP9sEdeAsZj5pQEY5mPFMWRsqq8bXush33l2xCRf8s2HoMFNyJiIjMSve/dJRn9newr62fYDg68QV4mbuywtyUmaf6ikKak2TushmvNrYsm+3uFHGLKopGbUE2OBShKG8Smbv4hIq+zLceAyjKyyE/JzBqC7PhfWWVuRMREZHjKRiO8m/3byc3YDgHB9sHMrruxcNdnLqoPOXx+orCpJm7tj4v+5XJGnHxsmxPPHOX5USGuMUVhbT0BolEvW3R+kNRSjIY8xeXnxugJD9nOPPW1hvKeI078ErDFf5CxnHx4K5MmTsRERE5nu5+8gCHOwb58HWnALCvtW/Ca7oGhnipsZuXralJeU59eRFHu4PjdmVo7Q1RVphLYQaZs/IUmbtsAivwSscxNzJ7dyAcpSiLsixAZXE+XQNhb+uxLDN34GX/EsfcjWTuJh57OJ0U3ImIiMwioUiU//njHq5eV8ctl6wAYF9b/4TXPb2vHefg0pOqU55TX1HAwFB0eOHfuNa+zMerxTN38eCupTfIguI88nOzCznqywv9673gcHAoQnEWZVmIB2dDtPUNEY66rIO7yqK80WVZ/zNlk0GcDgruREREZpGD7QP0hiK89pzFlBbkUldWwP4Mgrsn97ZTnJ/D2UsrU55T7+9c0TymNNvaG6Imw8CoMC9AbsCGJ1S09mafMYORTF+bH9wNZDlbFuL7w4a546FdmMHFq6qyvj4xuOtVWVZERESOt32tXiC3uqbU+15bklFZ9ok9bVy0qiptBi2eLRs77q4ti8ydmY3agqyxe5CF5ZmvcRcXDwhb+xKCuywzZpXFeWxr7OF7Tx/iXS9bxRlLKrK6vnxsWTaosqyIiIgcZ/vavEBuZU0xAKtqSifM3B3tDrK3tZ9L16QuycLItl9j17rLNvtWVphHbzBMJBpjV3Mf6+rLMr42Lr7sSutw5i6S1VIo4C2H0j8UZUV1MR/xxydmo7Iof8yYO++1lkIRERGR42Z/az91ZQXDY9tW15TQORCms38o5TVP7WsD4NI0kykA6sq9AC5xYeRgOEpvMEJNBmvcxcUzd/va+hmKxDhtceoZuqnk5QSoKsmntTdELOYIhmNZLYUCDPf5c68/K+M9aRNVFufRF4oQ9mfs9gUjmJH12L8TbWaHniIiIjLKvrZ+VtWUDP+8urZkuP38kuQB2BN72qkszuO0NMugABTk5lBdkj8qc9fWl/1SJvHgbltjDwCnLcquHBpXU5pPW1+IQX8dv2zH3N166UouWV3NJRNkLFNJ3KWiprSA3lCE0vxcAhnucjFdlLkTERGZRfa39bO6tnT453igl6o065zjyT1tXLK6OqOgZGF54ajMXTZr3MWVFebREwyzramH/NzAcACardqyAlp7Q/QPeWPdirNcPLimtIBLT0qfrUxn7P60fcHIjC/JgoI7ERGRWaNrYIiO/iFWJ2TullUVkxuwlJMqekMRGruDnL2sMqP3WFQxOrjLZneKuMTM3SkLy8jLmVy4UVtaQGtfiMEhP3N3gsuhY/eX7QtFZvzuFKDgTkREZNaIr2eXmAnLywmwvKo4Zeau3c+8ZTrbdWFFYdKybDaZu3J/QsW2pp4JS8HpxDN3A0OTK8seq8pif39af5eKvtDsyNzN/B6KiIgIMLIMSuKYO4gvh5IquPOCs+oMJ0QsKi+ko3+IYDhKYV7OcOYu0+vBy9z1+MuGTGYyRVxNaQHBcGx4IePJTIo4FmP3p1XmTkRERACvnPqP924e3m91sva39ZEbMJZVFY9qX1VTwv72fmIxN+6a9v7sxswt9JdDaenxAqrW3hAVRXkU5GYeWCUu8nsswV28FHyo3QtcS05wYFU5tiwbVHAnIiIiwLMHOvnxxsP8YVvzMd1nX2s/y6uKx41hW11bylAkRmP34Lhr4mXZjDN3Y9a6a5vEnqzxZVqASa1xFxd/34PtAwBZL4VyrMqVuRMREZFk4ltxPb2v/Zju482UHT/zdGW113agbWDcsXhZtirFMiljjexS4QWKrb2hrNa4g5HM3fKq4lGBXraGg7sO73Od6DF3OQFvt41RmbtZMOZOwZ2IiMgU6/P3JH16X8ek7xGLOfaPWeMubnHl6IAsUXv/EGWFuRmXVesrRm9B5mXusts+LB7QHctkChgpJR8eDu5OfGDl7S87RCzm6BuKUKbMnYiIiMT3WT3UMcCRrvEBWCYauwcJRWKsqikddyy+d2vzmG3DwAvOsl2jbllVERv8LOOxZO6OZbwdwILifHICNlyWzXZv2eMhvgXZQDiKczN/6zFQcCciIjLl4sEdMBw0ZWt/kmVQ4grzcqgszhu3Jyx4Y+6qMyzJxl13Wj1P7Gn3FxCOZj3mbkVVMTWl+Vy2dvILCINXFq0uyR/ZoWIatv2qLM6jpTc0XFovLZh8mflEUXAnIiIyxfpCYSqL86goymNDlqXZgaEIP9l4mH/77Q4geXAH3li5o92hce3t/aGsljEBuP70eoaiMe59rgHIbo07gOrSAjZ+4lrOXb4gq+uSiQeW+TkBcie5GPKxWL+6mq2NPfzng7uB2ZG5m/k9FBERmeV6gxEqivI4eWEZT+/PLnP39m89w8aDnayuLeELbziLuhTj3xaWFyYty7b3DXHByqqs3vP8FQuoKsnnh88cArLbneJ4iweWJ3qNu7j3XrGGbY09/HjjYQCNuRMREZGR9dHWr67mYPsAjVmMuzvYMcCN5yzmoQ9dwZsvXJbyvPokwV005ugYGKImy7JsTsC45tQ6DvkTGTLd3WIqxAPLkmkK7gIB4z/efDYXrPCykLMhc6fgTkREZIr1huLBnZdB25BF9q4vGKGurAAzS3vewopC2vpCRKKx4bbOgSGcy3wZlETXnVY//Ho6M3fx956uzB14Yxq/eesFfPxVp3L20spp60emFNyJiIhMsd5ghLLCPE6tL6eiKI8HXspsMeNwNMZgOJrRWnELywuIOWjtGxl319EfX8A4++Ds5WtrhteVm0xweLzEs4bTsQxKosrifP7y8tXk58780Gnm91BERGSW6wuFKSvMJRAwbr1kBb/bejSjWbP9/vp4meyKEF98+Gj3SGm2Lct9ZRMV5uXwilPqWFheMG5HjBNpJmTuZhsFdyIiIlPMy9x5Adp7rzyJJZVFfPJXW0eVUFNdB6P3ak0l2Vp38a3Hsp3tGvfpG0/n7ndeNKlrj5d436drzN1spOBORERkCjnnRm04X5Sfw8dffSo7jvbyA382airZBHfxnSUSM3fxrceyXecurqa0gFOPcZeJYxXP3E13WXY2UXAnIiIyhYLhGJGYGzVu7pVn1HPpmmr+4/e7CPoL9CYTXzg3kzF3VcX55OUYR3tGxty19w8RMG+82Gylsmz2piy4M7NlZvYnM9tuZlvN7G/99ioze9DMdvvfFyRc8zEz22NmO83s+oT2881si3/sy+ZPGTKzAjP7sd++wcxWJlxzq/8eu83s1qn6nCIiIun0hvydDRKyb2bGO1+2iu7BMJsOd6W8ti+LMXeBgFFXNno5lLa+IapKvC28ZqvywlwKcgMZPQPxTGXmLgJ82Dl3KrAeeJ+ZnQZ8FHjIObcWeMj/Gf/YzcDpwA3AV8wsHqZ/FbgdWOt/3eC33wZ0OudOAr4EfN6/VxXwSeBi4CLgk4lBpIiIyInSFy+tjglOLlpZhRk8nWbHimzKsuCVZseWZatLpm8Zk+PBzLjj5nN4+yUrprsrs8aUBXfOuSbn3PP+615gO7AEuBG4xz/tHuAm//WNwI+ccyHn3H5gD3CRmS0Cyp1zTznnHPCdMdfE73UvcLWf1bseeNA51+Gc6wQeZCQgFBEROWFSBWgVxXmctqicp9PMmu2NZ+4yDe7KC2nuTQju+ocmNVN2prnhjEWsri2d7m7MGidkzJ1fLj0X2AAsdM41gRcAAnX+aUuAwwmXNfhtS/zXY9tHXeOciwDdQHWae43t1+1mttHMNra2th7DJxQREUkuXWl1/epqnj/UmXLcXXzMXXkGY+7A34JsbOZuGneXkOkx5cGdmZUCPwM+6JzrSXdqkjaXpn2y14w0OHenc+4C59wFtbW1abomIiIyOekmRaxfXU0oEks57q4vGCE3YBRkuHBufUUB/UPR4fds7xua9ExZmb2mNLgzszy8wO77zrmf+83NfqkV/3uL394AJG6atxRo9NuXJmkfdY2Z5QIVQEeae4mIiJxQ6cbNTTTuLr4+3kRbj8UlrnUXikTpDUUU3M1DUzlb1oBvAdudc19MOPQrID579VbglwntN/szYFfhTZx4xi/d9prZev+ebx9zTfxebwT+6I/LewC4zswW+BMprvPbRERETqh0ZdmJxt31hSJZbVQ/sktF6Ji2HpPZbSrnFb8MuAXYYmYv+m3/BHwO+ImZ3QYcAt4E4JzbamY/AbbhzbR9n3MuPgjhvcDdQBFwv/8FXvD4XTPbg5exu9m/V4eZ/SvwrH/eZ5xzqacjiYiITJF45i5VkHbxqmq+v+EgoUiUgtzRa7n1BsOUFWQ23g5GMndHe4JUFnvXzYUJFZKdKQvunHOPk3zsG8DVKa75LPDZJO0bgTOStAfxg8Mkx+4C7sq0vyIiIlOhLxShMC+Qcn/W9auruOuJ/Ww63M1Fq6pGHetJ2LYsE/FdKpp7gtT4QV2Ngrt5RztUiIiITKHeYDjtDhPxgG5DktJsX5bBXWFeDhVFeTy6q5WfP38EYNavcyfZ03LPIiIik9A9GKaiaOKSaW8wMm4B40SVxfmcVFfK84c6x18bClNWWJZVv05ZWMaG/d5IpCWVRcPZPJk/FNyJiIhk6dkDHdx859M88MHLOKkuffDVG5x4UsR5yyv5/bZmnHOjZsb2BSNZb7v1ndsuoicYprwwj8I87cc6H6ksKyIikqVn9ncQjTmeOzg+2zZWX2ji0up5yxfQNRBmf1v/cJtzbngplGwU5uVQV1aowG4eU3AnIiKSpW1N3pr825t6Jzw3k+zbeSu87c+fP9Q13BaKxIjEXFZLoYiAgjsREZGsbfeDu22N6TZe8kw0oQLgpNpSygpzR42760mzs4VIOgruREREsjAwFGF/Wz8B8zJ4sdi43S1H6Q1NnLkLBIxzllXyfEKZty++s0WWY+5EFNyJiIhkYefRXpyDy0+upS8UoaFzMOW5sZjLaMwdeOPudjX3Du9okW7bMpF0FNyJiIhkIT7O7g3neduex8ffJTMQjuJcZgHaeSsWEHOw6XAXkH7bMpF0FNyJiIhkYXtTD6UFuVxz6sLh0mwq8dJqaQZbiJ2zrBJguDTbqzF3MkkK7kRERLKwvamHdfVlFOXnsLq2NO2kipEAbeLsW0VR3qjFjFWWlclScCciIpKhWMyx42gvpy4qB+C0ReXDM2eT6Y2XVjMM0M5eWslLfrCo4E4mS8GdiIjMK4NDUd741Sd56Uh31tc2dA7SF4qMBHeLyznSNUj3QDjp+fEArTzDAG3twlJae0N0D4aHx9yVaMydZEnBnYiIzCuHOwfYeLCTp/a2Z31tfHzdqYvK/O/lo9rHymbMHcDaulIA9rT00RsMU5SXQ16O/qqW7Og3RkRE5pX4OLijPcGsr93e1IMZnFLvBXen+cFdqtJsX8h7r0zLsicNB3e9Ge1JK5KMgjsREZlXega9bNpkgrvNDV2sqimhON8LumrLCqgpLUgZ3GU7bm7pgmIKcgNe5i7D9fFExlJwJyIi80p8W6+j3dkFdx39Qzy+p42r19WNal9TW8L+tv6k18SDu5L8zIK0nICxuraU3S199AYj2p1CJkXBnYiIzCvxgCvb4O7XmxsJRx2v9xcvjltdW8q+NMFdaUEuOQHL+H3W1pWyp6WPvgz2pBVJRsGdiIjMK/HMXUtvcMJ9YRP97PkjnLqofHgSRdzqmhI6+ofoGhgad01fKJz1DhMn1ZXS0DlIS29Iu1PIpCi4ExGReSWeuQtHHR1JArJk9rb2selwF68/d8m4Y6tqSgCSZu96BrOfFBGfVNHQOagxdzIpCu5ERGRe6RkcWZMu09LsL54/QsDgxnMWjzu2utYL7va3jg/uDnYMsGxBUVb9iy+HApnPshVJpOBORETmlXjmDqA5gxmzsZjjFy8c4eVra6krLxx3fFlVMTkBY19b37jr9rX2saa2dNw16ayoLhkeo6cxdzIZEwZ3ZvYyMyvxX7/NzL5oZiumvmsiIiLHX08wTF1ZAQBNGWTuHt/TxpGuQd5w3viSLEBeToDlVcXjZswe6RokFImxpi674C4/N8DK6mIAzZaVSckkc/dVYMDMzgb+ATgIfGdKeyUiIjJFeoMRVteWELDMMnf3PHmAmtICXnnGopTnrK4pYd+YsuyeVi+Td1KWwV3iNRpzJ5ORSXAXcc454EbgDufcHUDZ1HZLRERkavQMhllQnE9tWcGEY+4OtQ/wx50t/MVFy8jPTf1X5qoab627xNm3e1u84C7bsiyMBHcacyeTkUlw12tmHwNuAX5jZjmABgGIiMis1Bv0dn6oLy+ccJeK7204SMCMv7g4/Wik1bWlhCIxGrsHh9v2tvazoDiPqpL8rPu4ts7LoWjMnUxGJsHdnwMh4F3OuaPAEuDfp7RXIiIiU6QnGKa8MI/6isK0ZdnBoSg/fvYwN5xeT33F+IkUieLLoSSOu9vb0jepkizAZWtreOUZ9Zy1pGJS18v8NmFw5wd0PwMK/KY24BdT2SkREZGpEInGGBiKUlaY52Xu0pRlf725ke7BMG+/ZOI5hMPLoSQGd5OYKRtXXVrAV992PgsmkfUTyWS27F8C9wJf95uWAP87hX0SERGZEn0hbxmU8qJcFlYU0hOMMDAUSXrutqYeSvJzuGhV1YT3rSsroCQ/Z3hSRWf/EO39Q5PO3Ikci0zKsu8DXgb0ADjndgN1aa8QERGZgXoGvUAunrmD1AsZt/cNUVNWgNnE+8KaGatqS4Z3qdjbOvnJFCLHKpPgLuScG96fxcxygcw34xMREZkh4vvKxidUACknVbT1hagpLUh6LJlVNaXs84M6BXcynTIJ7h4xs38CiszsWuCnwH1T2y0REZHjLx7clRfmsdCfJJFqUkV73xDVWYx5O7mulCNdg7x0pJu9rf0U5AZYkuXWYyLHQybB3UeBVmAL8B7gt8AnprJTIiIiUyG+9diozF13KOm5bX0hasoyz9y9bf0KaksL+NBPXmRbYw+raka2ERM5kTKZLRtzzn3DOfcm4HZgg7+osYiIyKzSM+hl7iqK8igpyKWsMJejCWvTxUVjjo6BIWqyyNwtKMnn8288i13NfTy+py3rbcdEjpdMZss+bGblZlYFvAh828y+OOU9ExEROc4SM3dAyoWMOweGcM5bkiQbrziljrdevByAkzTeTqZJJvuaVDjneszs3cC3nXOfNLPNU90xERGR4y0+5q60wA/uKgpp7hlflm3r89qymVAR9/FXn8pQJMYrz6w/hp6KTF4mwV2umS0C3gx8fIr7IyIiMmV6gxFK8nPIzfEKVzWlBRxo7x93Xnuft0hEdWn2iwgX5+fy7286+9g6KnIMMplQ8RngAWCPc+5ZM1sN7J7abomIiBx/vcEw5UUj+7VWleQPB3KJjiVzJzLdJszcOed+irf8SfznfcAbprJTIiIiU6FnMDI83g68zNzAUJTBoShF+TnD7W1+wFczicydyHTLZEJFoZm9z8y+YmZ3xb8yuO4uM2sxs5cS2j5lZkfM7EX/61UJxz5mZnvMbKeZXZ/Qfr6ZbfGPfdn8pcLNrMDMfuy3bzCzlQnX3Gpmu/2vW7N4HiIiMof1hsKUF45k7mpKvMxce//ocXdtfSFyA0ZFQpZPZLbIpCz7XaAeuB54BFgK9GZw3d3ADUnav+ScO8f/+i2AmZ0G3Ayc7l/zFTOL/xPqq3hLsKz1v+L3vA3odM6dBHwJ+Lx/ryrgk8DFwEXAJ81sQQb9FRGROS5Z5g4YV5pt7wtRXZqf0dZjIjNNJsHdSc65fwb6nXP3AK8GzpzoIufco0BHhv24EfiRcy7knNsP7AEu8idylDvnnvLX1vsOcFPCNff4r+8FrvazetcDDzrnOpxzncCDJA8yRURknkk25g6SZe6GNN5OZq1Mgruw/73LzM4AKoCVx/Ce7zezzX7ZNp5RWwIcTjinwW9b4r8e2z7qGudcBOgGqtPcS0RE5rme4OjMXTyAa0uauVNwJ7NTJsHdnX4Q9gngV8A24AuTfL+vAmuAc4Am4D/89mR5b5emfbLXjGJmt5vZRjPb2NramqbbIiIy2znnvMxdwpi7eFm2o390cOdl7jSZQmanTLYf+6ZzrtM596hzbrVzrs4597XJvJlzrtk5F3XOxYBv4I2JAy+7tizh1KVAo9++NEn7qGvMLBcvo9iR5l7J+nOnc+4C59wFtbW1k/lIIiIySwTDMcJRR1lCcFecn0tRXg7tfSNlWeect6+sMncyS6UM7szsQ2Z2W5L2D5jZByfzZv4YurjXAfGZtL8CbvZnwK7CmzjxjHOuCeg1s/X+eLq3A79MuCY+E/aNwB/9cXkPANeZ2QI/43id3yYiIvNYr787RXnR6FXAxq511xeKEIrElLmTWSvdOnfvAs5L0n4n8Czwn+lubGY/BK4EasysAW8G65Vmdg5emfQA8B4A59xWM/sJXsk3ArzPORf1b/VevJm3RcD9/hfAt4DvmtkevIzdzf69OszsX/0+AnzGOZfpxA4REZmj4luPJWbuwFvLri2hLDu8O0WJMncyO6UL7pxzbtyy3c65UHytuXScc29J0vytNOd/FvhskvaNwBlJ2oPAm1Lc6y5gwrX4RERk/ugJRgBGTagAqC4toLknOPzz8O4UZQruZHZKO+bOzBZm0iYiIjLT9frBXfmYzF11Sf6oCRVtw5k7lWVldkoX3P078Bszu8LMyvyvK4H7gP93IjonIiJyrLzh2NAz6I+5G5O5qyr1xtzFz4tn7mqVuZNZKmVZ1jn3HTNrBT6DVxZ1wFbgk865+1NdJyIiMt06+of40oO72Hykmz3NvbxiXR1nL60EGLWIMXhbkA1FY/SGIpQX5g2PuatS5k5mqXRj7vCDOAVyIiIyq/xhezPfffogF65cwPWn1/O/Lx7hdy8dBZKNuRvZgqy8MI+2vhCVxXnk5WSyFKzIzJM2uBMREZmNmrq8CRLfe/fFFOTm8PrzlvL+Hz7PwFCUorycUefGd6Lo6A+xqqaE9v6QxtvJrKbgTkREZjznHIc7BlleXZzR+U3dg9SUFlCQ6wVyL19bw2/+5jL2t/YzdsGHeCAXn0jR1qt9ZWV2U85ZRESy0twT5JovPsK+1r4T9p5ffWQvV/y/P7E3w/ds7A6yqKJwVNuSyiJevrZm3LmJZVmAtn7tTiGz24TBnZl9IuG1fttFROa5Fw51sqeljy1Huo/pPoND0YlPAo50DfLlh3bjHPxpR8tweyzmCEWS36Opa3BccJdKfOJEe1+IYDjKkc7MrxWZidJtP/YPZnYJ3tZecU9NfZdERGQm29fWDzBqy65s/XTjYc75zO9HrS+Xyr/etw2A+vJCHtvdNtz+nw/t5qLPPsSmw13jrmnqDrK4siijvhTk5lBWmEt7/xAb9ncQisR4WZIMn8hskS5ztxNvB4jVZvaYmd0JVJvZKSemayIiMhPtb/WCu0wCs2TC0Rh3PLSbUCTGwfb+tOc+squV3209ygeuWssNZ9SzYX87wXCUSDTGDzYconswzNu+tYHNDV3D1/QEw/SFIlll32pKC2jvH+LhnS0U5Aa4ZHX1pD6byEyQLrjrBP4J2IO3R+yX/faPmtmTU9wvERGZofbHM3eTDO7+94UjNHQOAoza9iuZO/6wixXVxbz7slVcfnINwXCM5w528sTedtr6Qvzza06joiiPt31zAwf8fsVnyi7KMHMHXmm2vS/EIztbWb+6msIxM2pFZpN0wd0NwG+ANcAXgYuAfufcO51zl56IzomIyMwTD+46+kNZXxuNOb7y8F6WV3mzXo92pw7ueoNhNjV089qzF1OQm8PFq6rJyzEe3dXKL55v8IK69cv57m0X0xOM8OC2ZgAau73AcXEWmbvqkny2Nvawr62fK0+pzfpzicwkKYM759w/OeeuBg4A38NbNqXWzB43s/tOUP9ERGQG6R4ID2fsOvvDWV//my1N7G/r56OvXEdejnG0J3WA+OyBDqIxxyVrvBJpSUEu569YwIPbmnlgazOvPmsRBbk5rKopoa6sgO1He4CRgDGbzF11aQHd/vZkV55Sl/XnEplJMlkK5QHn3LPOuTuBBufcy4F3TnG/RERkBtrvj5ErysuhPcvMXTAc5T8f3MXaulJuOL2eurJCWtKUZZ/c005+boDzli8Ybrv85Fr2tfUzGI7yunOXDLefUl/GzqO9gDdTNmBQl8XesDX+cijLq4pZmeFaeiIz1YTBnXPuHxJ+fIff1pb8bBERmcv2t3nrzJ2zrDLrCRVfeXgv+9r6+efXnEYgYCwsL+BouuBubzvnL18wavzb5Wu9kunSBUWcnxD0nbqonN0tfUSiMRq7g9SWFWS1fVh8OZQrT6kdt8ixyGyT1SLGzrlNU9URERGZ+fa39hMwOGd5JV2DYaIxl9F1u5t7+erDe7jpnMVcfrIXoNVXFKYM7jr7h9h+tGe4JBt32qJy1tWXceslKwkERoKwdfVlDEViHGjvp6l7kEUVmZdkAWr9LJ/G28lcoO3HREQkY/va+lm6oJj68kKcg86BibfqisUc//SLLZQU5PKJ15w23L6wvJBHdyUvBG3Y345zcOmY4C4QMH73wcvHnX9KfRkA25t6aeoKsm5RWVaf6+p1C/m/rzuTK07WeDuZ/bT9mIiIZGx/Wz+rakqGy5iZlGaf2tfOswc6+ccb1o0KBBeWF9IXitAXioy/Zm87xfk5nLW0MqN+nVRXSk7A2HG0h8ZJZO6K8nP4i4uXkxNQSVZmPwV3IiKSEefccHBXXTJ6P9Z07n+piaK8HG46Z8mo9vpyb6mSZMuhPLm3nQtWVpGfm9lfUwW5OaypLeHpfR0EwzFtHybzmoI7ERHJSEtviIGhKKtrS6gqzSxzF4s5HtjazJWn1FKUP3ph4IV+cDd2xmxbX4jdLX3jSrITOaW+nBcOdQJkvPWYyFyk4E5ERDKyz992bFRZdiB9cPfcoU5ae0PccEb9uGP1fnZt7KSK+Puctqg8q/6tqy8jPr9DmTuZzxTciYhIRg60jwR3C4r94G6Csuz9W46SnxPgqnXjJyosLPfG340N7priO0xUZhegnZowiUKZO5nPFNyJiMiEnHM8u7+D/NwAiyuKyMsJUF6Ym3QLsucPdXKkaxDnHA9sPcpla2soK8wbd15xfi5lhbk0d48N7ryf67OcFHFKvZfpyw3YhDN4ReYyLYUiIiJpdQ+E+ci9m3hwWzM3X7hseH256tKC4a3I4oYiMW7++tMEAvCG85ZypGuQv71mbcp715cX0jxmC7Kj3UHKCnMpLcjur6jFFYWUFeZSXpinWa8yrym4ExGRlKIxxxu/9iT72/r5xKtP5baXrxo+VlWSP25CRVtfiKFojKXlRXx/wyFyAsa1py5Mef9kCxk3dg1OasycmXHOssqsrxOZaxTciYhISo1dg+xu6eNfXnMa70oI7MAL7g53DIxqa+n1snCf+rPTyckxegbDLPAnXyRTV1bInpbRCxkf7QlmvU5d3JdvPpfM9swQmbsU3ImISEr72/yZq4vHz1ytLsnnxcNdo9pa/eCurrwgowWI6ysKaOkNEYu54XJvY1cw65mycekCSZH5QhMqREQkpXhwt7qmZNyxqpJ8OvuHcG4kV9bS65VY43u1TqS+vJBozNHmT8wYisRo6wsNL5MiItlTcCciIintb+unJD8nabBWVZJPJOboGRzZPqylJ4QZGc9WrfMXMm7u9oK7Zn/83eJJlmVFRMGdiIiksb+tn5U1JZiNn32abCHj1r4QVcX55OVk9tdLfAuyeFA3sgyKMncik6XgTkREUorvJZvMcHCXsNZdS08o45IsjN+lYrILGIvICAV3IiKSVCgSpaFzIOl4O4DqEi+Ia0/YpaK1N5hVcFdTWkBOwDjS5QV1k13AWERGKLgTEZGkDncMEHOwqjZF5q40nrlLDO5C1JVlnnXLCRinLSrnhUOdADR1DVJWkP0CxiIyQsGdiIgktb/NW8NuZXWqzJ0X3MV3qXDO0dqXXVkW4KJVVbxwqItQJEpTd5BFKsmKHBMFdyIiktT+tj6AlGPuCvNyKM7PGc7cdQ6ECUcddVkGdxevqiIUibG5oZum7qBKsiLHSMGdiIgktb+tn6qSfCqLUy8MvKB4ZAuyxAWMs3HhyioAntnfQVN3kMWaKStyTDSoQURkDjvcMcCD25p57lAnvcEIH772ZM7OcP/Vfa2pZ8rG1VcUcqTTmwwxvIBxhmvcxS0oyeeUhWU8vrtNCxiLHAfK3ImIzFENnQO85r8e5zO/3saLh7rY3tTD677yBP/3t9sJhqMTXp9uGZS40xeXs62ph1jM0dITz9xlH5xdvLqKp/e3A1rAWORYKbgTEZmDwtEYH/jhC8Rijt998DKe+OhVPPThK/jzC5dz56P7+PYTB9Je3x+K0NIbmjC4O2NJBX2hCPvb+2nt84K7bCdUgDepIr6LmTJ3IsdGwZ2IyBz07w/s5IVDXXzuDWexrr4cgPLCPP7t9Wdy6qJyHt/Tmvb6+J6yEwV3Zy6pAGBLQzctPSGK83MmtYzJRf64O4BFCu5EjsmUBXdmdpeZtZjZSwltVWb2oJnt9r8vSDj2MTPbY2Y7zez6hPbzzWyLf+zL5u+BY2YFZvZjv32Dma1MuOZW/z12m9mtU/UZRURmohcPd3Hno/t42/rlvPqsReOOr19dxXMHOxmKxFLeI9Pgbm1dKQW5AbYc6aalN5j1TNm4uvLC4fdaVKmyrMixmMrM3d3ADWPaPgo85JxbCzzk/4yZnQbcDJzuX/MVM8vxr/kqcDuw1v+K3/M2oNM5dxLwJeDz/r2qgE8CFwMXAZ9MDCJFROa6Hz97iKK8HD76ylOTHr94VTXBcIzNDV0p7/HSkW7ycwITBne5OQFOW1zOliPdtPZmv8ZdopedVE1NaYEWMBY5RlMW3DnnHgU6xjTfCNzjv74HuCmh/UfOuZBzbj+wB7jIzBYB5c65p5xzDvjOmGvi97oXuNrP6l0PPOic63DOdQIPMj7IFBGZk4LhKL/e1MQrz6hPGSRdtMorgT69rz3lfZ7e38HZyyoozMtJeU7cmUsq2NbYQ3NPMKvdKcb6xxvWce9fXTLp60XEc6LH3C10zjUB+N/r/PYlwOGE8xr8tiX+67Hto65xzkWAbqA6zb1EROa8B7YepTcU4Y3nL015TlVJPuvqy9iwf+y/vz39oQgvHekeDgInEp9UcaB94Jgyd2WFeaycIFMoIhObKRMqLEmbS9M+2WtGv6nZ7Wa20cw2tramH1wsIjIb/Oz5IyypLGL96uq05128qoqNBzoJR8ePu3vuYCfRmOPiVenvERefVAGTmykrIsfXiQ7umv1SK/73Fr+9AViWcN5SoNFvX5qkfdQ1ZpYLVOCVgVPdaxzn3J3OuQuccxfU1tYew8cSETn+ugfC7Gnpw7mk/z4dp7knyOO7W3nduUsIBJL9O3fE+tXVDIajbG7oHndsw/52cgLG+SsyG64cn1QBTHpChYgcPyc6uPsVEJ+9eivwy4T2m/0ZsKvwJk4845due81svT+e7u1jronf643AH/1xeQ8A15nZAn8ixXV+m4hMo28+to933f1s2nOcc7znuxt5cFvzCerVzPaxX2zmmi8+wss+90c+8b9beO5gR9pA7xcvHCHm4PXnTTwSJV5y3bB//Li7Z/Z3cMaSCkoynNgQn1QBk1vAWESOr6lcCuWHwFPAKWbWYGa3AZ8DrjWz3cC1/s8457YCPwG2Ab8D3ueciy+f/l7gm3iTLPYC9/vt3wKqzWwP8CH8mbfOuQ7gX4Fn/a/P+G0iMo2e2NPGE3va0gYnrb0hHtjazPc3HDyBPZu5Nh7o5OylFZy5tIKfP3+EN3z1Ka7+4iM8k2Ks3G+3NHH2skpW15ZOeO/q0gLW1pXy9L7R9wqGo2w63M36DMfbxcVLs9luPSYix9+UzTd3zr0lxaGrU5z/WeCzSdo3AmckaQ8Cb0pxr7uAuzLurIhMuYbOQUKRGH2hCGWFeUnP2dPaB3izOEORKAW5E8/UnKtaeoK09IZ4zxVruO3lq+gPRfjNliY+f/8OvvbI3nGTHY52B9nc0M3fX39Kxu9x6ZpqfrzxMMFwdHhW7POHOhmKxrh4dXbB3ZWn1HLfpkaWVWmNOpHpNlMmVIjIHOaco8HfXL6tbyjleXtbvYVzg+EYzx3oPCF9m6m2HPHGwsUzYiUFubz5gmVctKqKA/4Cw4ke2uGVsq89bWHG7/GKdXUEwzGeSlgS5Zn9HZjB+SuyC+6uWreQF/7lupSBu4icOAruRGTKdfQPMehvVN/aG0p53r7WPgrzAuTlGI/snt8z2Lcc6cYMTvfHssWtrCnhUMcAkTGzXP+wrZnlVcWsrZu4JBu3fnU1RXk5/GlHy3DbU3vbOW1RORVFCtJEZisFdyIy5eJZO4C2vtTB3d7WftbWlXH+igU8tqvtRHRtyh1qH+Ad336GFw93ZXXdS0e6WVNbOm5Sw6qaEiIxx5GukWfaH4rwxN52rjl1If4OjRkpzMvhZSfV8ND2Fpxz7GnpY8P+jqyyfyIy8yi4E5EplxiIpA3uWvpYU1vCZWtr2dbUkzbLN1O9dKSbbY09ABxs7+fmO5/i4Z2t/Mfvd2Z1n80N3aPWj4uLbwe2L6E0+9juNoYiMa45rW7c+RO5al0dR7oG2d3Sx11P7Cc/N8Db1q/I+j4iMnMouBORKdfQOTD8OlXANjgU5UjXIKtrS7niZG/dycf3TK40u2FfOwNDkUldeywi0Rhv+cbTvOrLj/GqOx7jz7/+NIPhKK8/dwmP7W5jd3NvRveJT6ZIFtytrPaCu8Rxd3/Y3kx5YS4XrsxunBx4wR3Az55r4OfPN/D6c5dQoxmvIrOagjsRmXINnYOUF+ZSU5qfMnO3r82bKbumtpTTFpVTXZI/qdLsS0e6+fM7n+b1X3lyVFB5IrzU2ENvMMLrz11CTsCIOscP/nI9H3/1qRTkBvj2kwcyus/wZIql44O7mtJ8ygpyh4O7aMzxxx0tvGJdHXk52f8vvb6ikNMWlfONx/YRDMd418tXZX0PEZlZpmwpFBGZf+LLddy7sYGGzgEe+LvLKSvMo6FzkKULiok5R2tv8tmy8Zmya+pKCASMl51UwxN7sw/u4mPbDnUMcON/P8FX33Z+xnukJvOnHS2sXVjK0gXFE567wZ91+tFXraOurBDn3PAYuJvOWcLPn2/gH64/hcri/LT32XKkm4DBaYvKxx0zM1bWlAyXZbc19tDRP8SVp0x+l52rT61jW1MPl59cy8kLyyZ9HxGZGZS5E5HjoqN/iFd/+TH+4d7N7G/vp7E7yHMHveVMGjoHWLKgiNqyAlpTZe5a+zAbKTuevayS5p5Q2jF6yWxp6GZBcR73feDlVBTl8dZvPs2Pnjk0qc/0px0tvPPuZ/nQjzdldP6G/R2srimhrszbpSFxcsM7X76SYDjGD585nNFnSDaZIm5lTQkH2r3g7mk/oLxkdU1GfUzmlWcsIj8nwHuvWDPpe4jIzKHgTkSOWTAc5fbvbKSpO8jd77yQhz9yJTkBY+OBTpxzHOkcZOmCImpKC2hLMeZub2s/yxYUDy+me2q9l0HaeTSzcWpxm490c8aSCtbUlvKLv34Zl6yp4aM/38Kn79ua8R6t4O3T+uGfbqIwL8AzBzp4/lD6dfeiMcez+ztSLv67rr6c9aur+Olz6YM75xxbjiSfTBG3qqaEI52DhCJRntrXzqqaEuorJr/t12mLy3np09dzyZrqSd9DRGYOBXcickycc/zDvZvZeLCTL775HK48pY6SglxOX1zOxoMddA2E6R+KsnRB8fCYu2RBVnymbNwpfnC3vakn474Ew1F2N/dylj9WraI4j7tuvYC3Xrycbz9xgK2Nmd0rGnN88EcvMjgU5SfvuYSKojzufGRf2mu2N/XQG4pw8arUAdLV6xayr7Wfo93Bccecc/xhWzM3feVJWnpDXJimlLyqppiYgwNtAzyzv4P1q489KMvP1V8HInOF/msWkVG2NfbwsZ9vzngywsO7WvnVpkY+ct3JvPqsRcPt569YwIuHu9jvlw+X+mXZ+BZkiWIxx762PtYk7IlaXVpAbVkBO7LI3G1v6iESc5y5pHK4LTcnwF/55cZM15r75YtHeGpfO59+7emctbSSW9av4IFtR9mfZGeIuHh5NN22XfHM2FP7xo8lvPvJA7z7Oxvp6A/xb68/kzdfsCzlfVbVeM/p15sb6QtFlHETkVEU3IkI4AVY33h0Hzf9zxP88JnDvP1bz9CewXi3Xzx/hMriPG6/fPR4rQtXVhEMx3hg61GA4bIsjF8OpbF7kGA4xpoxuyusqy9jx9HMM3fxWaZnjZllunRBEQuK89jS0J3RfX66sYEV1cW86YKlANx66UrycgJ847HU2bsN+ztYXlXMoorUe6vGd354ck/7uGM/2djA2csq+eOHr+QtFy0nJ5B6MeJV/rjEn2z0Srzrs9wHVkTmNgV3IgLAZ369jc/+djtXnFLLN95+AY3dg7zj28+Oy7Il6gtF+P22o7z6zEXjynoXrFgAwH0vNgKwtLJ4OLgbu79sfKbs6pqSUe2nLipnV3Pf8FZb4Whs3LZbiTY3dFNdks+iMePPzIyzllayqaEr5bVxDZ0DPLWvndefu3R4QkRtWQFvOG8p9z7XwMH28dm7WMzx7IEOLp5gVm4gYFyyupon944O7va29rG9qYcbz16c0XImFcV5LCjOo7knxJrakQkcIiKg4E5EgKbuQb6/4SB/fsEy7rzlfK49bSFfeet5bGvq4bO/2Zbyut9vPUowHOOmc5eMO1ZXXsiyqiIau4OUFeRSXpRLbVk8uBududvhj6tbO2YZjnX1ZQxFYsMzQ9/x7Wd4/w9eSNmfl450c+bSiqRbcJ21tILdLX0MDkVTXg9eJhLg9eeN/kwfvGYt+TkB/uWX4ydm7DjaS9dAmIszGPt26UnVHOka5HDHSNn7t5ubAHjVmYtSXTZOfKcKlWRFZCwFdyLCNx7dj3PwgatPGg6Mrlq3kD87axG/39pMLJZ8lun/vtjIksoizl++IOnxC1d4mawlC4ows5Rl2ecPdbKiupiqktHrv62r99Z5297Uy56WPp7Y086D25uTlosHh6Lsau7lrBSzTM9aWkk05tjWlLo065zj5y8c4eJVVSyrGr2u3cLyQv7u2pN5ZFfrcKk57o6HdlGQG+DytRMvR3KpH4w9mbCG32+2NHHhygVZzXhdGQ/ujmEJFBGZmxTcicxzHf1D/PCZQ7z2nMXjFuq98pQ62vuHeKlxfEDU2hvi8d2t3HTuYgIpxoedv9IL+uL3rSrJJ2CjM3fOOZ4/1JU0QFxTV0JuwNhxtId7n2vAzJvJev9LR8edu62pm5iDM5dWJu1LfBzepsOpg7vnD3Wyv62fN56/NOnxWy9Zwbr6Mj5937bhcvXvXjrKA1ub+eA1J1NXPnFwtqa2lNqyguHS7J6WXnYc7eXVWWTtwMtq5gYs7QQOEZmfFNyJzEPOOdr6QgTDUe5+Yj/BSJS/vnL8AraXra3BDB7ZOX6P1/s2NRJz3s4LqVzgZ+6WLvAmGeQEjKqS0VuQNXQO0tob4twV44O7gtwc1tSW8tKRHn7+fANXnVLHSXWl3Lepcdy5Gw9469ClWh9uYXkhC8sL2Jxi3F0oEuVrj+yjKC+HV6YItHJzAnz2dWdwtCfIq+54jPu3NPHJX73EqYvKefdlmW3bZTYy7s45x683N2FGyvdM5Zb1K/n137xc+8CKyDjafkxkHvrhM4f5p19sGf75+tMXclLd+G2nqksLOHNJBY/sauUDV68dbu8PRfj6o3s5d3nluHFyidbWlfLqsxZx7WkLh9tqSgtGlWXjiwOnKu2uW1Q2HEi+6YKl7Dzax38+tIuj3UHqKwrpHgjzhQd28INnDrGuvoyF5amDnbOWVrL5yPjM3a7mXv7mhy+w42gvH772ZEpT7AwBcP6KKr7/7ov5xP++xHu//zwBgztvuSCrfV0vXVPNrzY1su6ff0c4GuPClVUszCDrl6goP2e4bC0ikkjBncg89OTeNmpKC3jny1bSMxjmrRevSHnuFSfX8j9/2kP3QJiK4jwA/udPe2juCfGVt56f9n0CAeN//uK8UW3eFmQjs2WfO9hJSX7O8KLFY62rL+eXLzZSVZLPVesWcvLCMr70h138enMjZy6p4P0/fIH2vhDvvHQVf3ft2qSTKeLOWlLBg9ua6QmGKS/0PsuRrkFu/O8nKCnI4dvvuJBXrKtL+5kALl1Tw/1/exn3PHmA0oI8zl5WOeE1iV5z9mIau4OEwt7kjj87e3FW14uIpKPgTmQe2tzQzUWrFvC+V5w04blXnFzLf/1xD0/sbeNVZy7iQFs/33xsP68/bwnnJymlTqSmtIB9rSPLiTx/qJNzllemXNdt3SIv6LvxnMXk5wZYXVvKGUvK+doje+kcCLOiqphvv+NCzkizXVfcWX4Q9lJDN5ee5E1E+NlzDQQjUX73wctYUV2S5urRCnJzxq3tl6nSglw+dO3Jk7pWRGQiGnMnMs909A9xqGOAs1NMPBjrnGWVlBfm8vDOFtr6QvzzL18iPzfAR29YN6n3ry0rGN6CbGAowvamXs5LUZIFbzHk15y1iHe9bGRM241nL6Gtb4hrTq3jl+9/WUaBHYyMx3vB36nCOce9zzVwyerqrAI7EZGZTJk7kXkmvpDvWRkGd7k5AS5bW8svX2zk588fIRJzfObG0zOaGZpMTWk+oUiM3lCErUd6iMZc2uCutCCX/x5T2n3ny1Zy1tIKLlpVlbYMO1ZVST4XrFjAt584wNsvWcH2pl4OdQzwwWvWTnyxiMgsoeBOZJ7ZdLgLMzhzaWbZLoA3nL+ELUe6ueGMet58wTJOGrNNWDaGd6noDQ1Ppjh3eWVW98jNCWS0YHAy//ya07jpK0/wX3/cQ9fAECX5OdxwRv2k7iUiMhMpuBOZZzY3dLO2rjTtjNCxrlq3kKvWLZz4xAzEg7vP/Hobu5v7WFNbQmVx/gRXHT9nL6vkTecv5dtP7Cc3EODPzl5Ecb7+Vygic4fG3InMI845Nh3uyrgkOxXWLSpjSWURu472UlaYyztfltn6cMfT31+/jsLcHAbDUd5wXvIFi0VEZiv9c1VkjnpsdytdA+FRy2w0dA7S3j+U9dIdx1NdWSFPfPSqaXt/8CZ1fPK1p/P7rUe5cKV2eBCRuUXBncgctKu5l9u/8xwBg+tOX0hBbg7glWQBzpnGzN1M8cbzl6bcZkxEZDZTWVZkjukPRfjr7z9PJBajfyjK0/s6ho9taugiPyeQcsFgERGZ/RTcicwh4WiMj/18C3tb+/j6LedTlJfDH7Y1Dx9/8VAXpy0uJz9X/+mLiMxV+j+8yByx8UAHf/Zfj/OrTY186JqTuWrdQi5bW8MftjfjnGNPSx/PHuzgsrU1091VERGZQgruROaA+7c08cavPUXPYJiv33I+77/K21bsmtMW0tQdZGtjD195eA+FuTm849KV09tZERGZUppQITIH/H5bMzWlBTz4oSsoSVi/7qp1dZjBXY/v55ebGnnnpSup9teZExGRuUmZO5E5YFNDF+csqxwV2IG3YPD5yxfw8xeOkBMwbr989TT1UEREThQFdyKzXG8wzL7Wfs5KsZ3YNad5O0vcfOGySe8HKyIis4fKsiKz3EtHegBSBnevO3cJLx7q4n2vOOlEdktERKaJgjuRWW7LkS4AzlySPLhbWF7I1245/wT2SEREppPKsiKz3KaGbpZUFmmihIiIAAruRGa9LQ3dnL0sedZORETmHwV3IrNY18AQhzoGOHNJ5XR3RUREZggFdyKz2JYj3UDqyRQiIjL/TEtwZ2YHzGyLmb1oZhv9tioze9DMdvvfFySc/zEz22NmO83s+oT28/377DGzL5uZ+e0FZvZjv32Dma084R9S5ATY3OAFd2ekmEwhIiLzz3Rm7l7hnDvHOXeB//NHgYecc2uBh/yfMbPTgJuB04EbgK+YWY5/zVeB24G1/tcNfvttQKdz7iTgS8DnT8DnETnhNjd0saqmhIqivOnuioiIzBAzqSx7I3CP//oe4KaE9h8550LOuf3AHuAiM1sElDvnnnLOOeA7Y66J3+te4Op4Vk9krnDO8eLhrpRLoIiIyPw0XcGdA35vZs+Z2e1+20LnXBOA/73Ob18CHE64tsFvW+K/Hts+6hrnXAToBqrHdsLMbjezjWa2sbW19bh8MJET5UD7AM09IS5eXTXdXRERkRlkuhYxfplzrtHM6oAHzWxHmnOTZdxcmvZ014xucO5O4E6ACy64YNxxkZnsyb1tAFyyety/W0REZB6blsydc67R/94C/AK4CGj2S63431v80xuAZQmXLwUa/falSdpHXWNmuUAF0DEVn0Vkujy1t5368kJW1ZRMd1dERGQGOeHBnZmVmFlZ/DVwHfAS8CvgVv+0W4Ff+q9/Bdzsz4BdhTdx4hm/dNtrZuv98XRvH3NN/F5vBP7oj8sTmROcczy9r51L1lSj4aQiIpJoOsqyC4Ff+H8h5QI/cM79zsyeBX5iZrcBh4A3ATjntprZT4BtQAR4n3Mu6t/rvcDdQBFwv/8F8C3gu2a2By9jd/OJ+GAiJ8rulj7a+oa4ZI1KsiIiMtoJD+6cc/uAs5O0twNXp7jms8Bnk7RvBM5I0h7EDw5F5qIn92i8nYiIJDeTlkIRkQw9ta+dZVVFLKsqnu6uiIjIDDNds2VFJEv3PtfAhn3tvOH8pTy9r4PrT1843V0SEZEZSMGdyCzgnOOOh3ZxuGOQnz7nLe946Zqaae6ViIjMRAruRGaBA+0DHO4Y5J9etY7KonyePdDB1afWTXyhiIjMOwruRGaBh3d6yz7ecPoillcX8+YLl01whYiIzFeaUCEyCzyyq5XVNSUsr9YEChERSU/BncgMFwxHeXpfO5efXDvdXRERkVlAwZ3IDPfM/g6C4RhXnKLgTkREJqbgTmSGe2RXK/m5Adav0oLFIiIyMQV3IjOYc46Hd7awfnU1Rfk5090dERGZBTRbVmQGisYcv9nSxDcf28fe1n5uvXTldHdJRERmCQV3IjNMNOb4wA+f57dbjrKqpoT/c9MZvOWi5dPdLRERmSUU3InMIM45/vmXL/HbLUf5xxvW8Z7LVxMI2HR3S0REZhEFdyIzRDTm+MIDO/jBhkO898o1vPfKNdPdJRERmYUU3InMAIfaB/jITzfxzIEO3nLRcv7h+lOmu0siIjJLKbgTmWa7m3u56X+eIGDG/3vT2bzhvCWYqRQrIiKTo+BOZJr9/IUjhCIx/vSRK1lWpe3FRETk2GidO5Fp9qcdLVy4skqBnYiIHBcK7kSmUUPnADuO9nLVurrp7oqIiMwRCu5EptGfdrQAcNWpCu5EROT4UHAnMo0e2tHCyupiVteUTHdXRERkjlBwJzJNBoYiPLm3navWLdTsWBEROW4U3IlMkyf2tDMUiXG1SrIiInIcKbgTmSYPbD1KaUEuF66smu6uiIjIHKLgTmQavHCok58/38Drz1tCfq7+MxQRkeNHf6uInGChSJR/uHcz9eWF/L22GRMRkeNMO1SInGBffmg3u1v6uOddF1FWmDfd3RERkTlGwZ1krXsgzAuHO7nyFE0EyMa2xh6+8vAefrOliTedv5QrTq6d7i6JiMgcpLKsZO07Tx3gHd9+loPt/dPdlRnl3ucauOvx/UmPff2Rvbzqy4/x8M5W3nP5Gj594+knuHciIjJfKHMnWdvR3AvAwztbufVSLb4L4Jzj/z2wk6M9QZYuKOK60+uHj714uIsvPLCT609fyBfecDYVxSrFiojI1FHmTrK2ezi4a5nmnswcO472crQnSHF+Dh/56SYOdwwA3kLFf/fjF1lYVsAX3qjATkREpp4yd5KVcDTG/rZ+cgPGk3vbCYajFOblTHe3pt3DO1sBuOddF/Gubz/L7d99jlecUsuWI90caO/nB+9eT0WRAjsREZl6ytxJVg609ROOOl5z1iJCkRhP72uf7i7NCA/vbOHUReVcuLKKf3/T2Rxs7+fOR/fx7IEOPnztyVyypnq6uygiIvOEMneSlV3NfQDccskK7n/pKA/vbJ33s2Z7g2GeO9jJX16+GoAbzqjnhjNumOZeiYjIfKXMnWRlV3MvAYPTF1dwyZpqHtnVOt1dmhaxmKMvFAHgiT1tRGKOK7W0iYiIzAAK7iQru1t6WV5VTGFeDleeXMv+tn4OtM2vJVHC0Ri3f3cjF/6fP/DLF4/w8M5WygpyOW/FgunumoiIiII7yc6u5j7WLiwD4BXrvHLsb7Y0TWeXTqhozPHhn2ziD9tbWFxZyN/+6EV+/vwRXr62hrwc/eckIiLTT38bzSF7W/to6wtN2f2HIjEOtPWztq4UgBXVJVxxci1fe2QvHf1DU/a+M0Vrb4i/v3cTv9rUyD/esI7fffBybnv5KoaiMW44o37iG4iIiJwAmlAxRzy5p4133P0shbkBPvXa03nduUvY3NDN77YeJS8nQH15IatrSzhnWSWFeTnEYo7G7kEWFOdTUpDZr8GB9n4iMcfJfuYO4OOvPpVX3vEYX35oN5967ezcdcE5x6O723hqbzuDQxGC4Rg5OUZBboD83AAFOQGauoP8clMj4WiMD1x1Eu+9cg0A//ya0/jLy1azsLxgmj+FiIiIR8HdDHaofYCq0nxKJwi+XjjUybu/s5GV1cWUFebxoZ9s4v/+dgdtfSFyA0bUOZzzzs3LMVbVlHCkc5D+oSiFeQGuPnUh61dX094XorknSG1ZIScvLOW0ReWsqinBzABvMgXA2oWlw+998sIy3nLRMr779EHetn4FJ9WVjuvfTNHSG2QgFKW+opC8nAD72/p47mAndz95kO1NPeTlGCUFuRTkBojGHKFIjFAkxlAkRkFugDeev5R3v3wVq2tHf8b6isJp+kQiIiLjzengzsxuAO4AcoBvOuc+N81dykgs5vjGY/v49wd2smRBEd+69QJOqitjT0svdz66j6K8nOGga1dzL/dtaqSmtIDv3XYx1aUFfPuJ/Ty9r51rTl3IK89cRHF+Di29IXY09fDsgU52NfdyyepqTlpYxq6jvfxmSxO/2dyEGVSX5NPRP0TMDwarS/K5cGUVf3vNWnY19xEwWDMmuPngNSfzyxcaueVbG6gtKyDmHCX5uZQV5lFelEt5YR5LFxTx5xcuo6ww+UK+zjmePdBJeVEu6+rLM3pOzjmiMYcD+oIRXmrsZnNDN5sbutjS0E3XYJiT6kpZUlnEjqO97E+Y+JGfG2AoEgNgTW0JX3jjWdx0zhLyc8ePVHB+cBwIWEb9EhERmU7m4imdOcbMcoBdwLVAA/As8Bbn3LZk519wwQVu48aNJ6x/zjkGhqJ0DYbpGhiiayBM10CYzoEhHtzWzCO7WrlqXR2bG7oIhWO8+qxF3PtcAwW5AcxseBmO8sJczlxawb+97iyWVxdPqi+RaIyjPUHqygrJzw0QDEfZ09LHliPdPHewkz/uaKFnMExNaQFF+Tn86SNXjrvHA1uP8r2nD5ITMAzoH4rSMximNxihJ+h9rynN54PXnMw5yyoZisYIR2IMRWM0dQX59pMH2N7UA8Drz13C+646CQM6+odGvgaG6Ogboq0vxP62fva29g8/h0Srako4c0kFVSX57G3t41DHAGvryrh4VRWVxXk0dQfpDYY5pb6cM5dUsLauVIGbiIjMKmb2nHPugqTH5nBwdwnwKefc9f7PHwNwzv1bsvNPRHD3tm9uoKU3SOdAmO6BMEPRWNLzCnIDfPzVp3LL+hUc6Rrk3fdsZMfRXt58wVL+4YZ1VJfk09obIuZgYXnBcNl0qnT0D/GZ+7byvy828soz6vnq287P+h6bDnfx2d9s55kDHUmPn1RXyl9etooD7QN86/H9w1m1sYrycqguzWdVTQlraktZUJxPwKAwL4fTFpdzxuIK7d8qIiJz3nwN7t4I3OCce7f/8y3Axc659yeccztwO8Dy5cvPP3jw4JT26T3f3YhhVBbnUVmc730vGnm9IN5WnEdB7sh+rcFwlKPdQVbWlExp/yby3MEO6iuKWFJZNKnrnXNs2N9B92CY/NwA+TnehIXi/BxOrS8fzp4d7hjgTztbKCvMpaqkgKrifKpK86kqzqcoX/vYioiIzNfg7k3A9WOCu4uccx9Idv6JLsuKiIiITFa64G4ur3PXACxL+Hkp0DhNfRERERE5IeZycPcssNbMVplZPnAz8Ktp7pOIiIjIlJqzS6E45yJm9n7gAbylUO5yzm2d5m6JiIiITKk5G9wBOOd+C/x2uvshIiIicqLM5bKsiIiIyLyj4E5ERERkDlFwJyIiIjKHKLgTERERmUMU3ImIiIjMIQruREREROYQBXciIiIic4iCOxEREZE5RMGdiIiIyBxizrnp7sOMYGatwMHp7sck1QBt092JGUjPJXN6Vunp+WRGzyk9PZ/M6VlNbIVzrjbZAQV3c4CZbXTOXTDd/Zhp9Fwyp2eVnp5PZvSc0tPzyZye1bFRWVZERERkDlFwJyIiIjKHKLibG+6c7g7MUHoumdOzSk/PJzN6Tunp+WROz+oYaMydiIiIyByizJ2IiIjIHKLgbhqY2TIz+5OZbTezrWb2t357lZk9aGa7/e8L/PZrzew5M9vif78q4V7n++17zOzLZmYp3jPpeWb2ITPbZmabzewhM1txIp5Bij7OpOfyV377i2b2uJmddiKeQaZm0rNKOP5GM3NmNu0z3GbS8zGzd5hZq/+79KKZvftEPINMzKTn5B97s///o61m9oOp/vwTmUnPx8y+lPA7tMvMuk7AI8jYDHtWy/2+vGDe322vOhHPYEZxzunrBH8Bi4Dz/NdlwC7gNOALwEf99o8Cn/dfnwss9l+fARxJuNczwCWAAfcDr0zxnknPA14BFPuv3wv8WM/FAZQnnPNa4HfT/XszU59VQh8eBZ4GLtDzGfW79A7gv6f7mcyC57QWeAFY4P9cp+eT/DzgA8Bd0/18Zuqzwhuv917/9WnAgel+Pif8z2O6O6AvB/BL4FpgJ7DIb1sE7ExyrgHtQIF/zo6EY28Bvp7kmkzPOxd4Yrqfxwx8Lm8B7p/u5zGTnxXwn8BrgIeZAcHdTHo+zODgboY9py8A757uZzBTn8+Y854Erp3u5zFTnxXwdeAf/deXAE9O9/M40V8qy04zM1uJF1RtABY655oA/O91SS55A/CCcy4ELAEaEo41+G1jZXrebXj/+pl2M+G5mNn7zGwv3l86fzPpDzPFpvtZmdm5wDLn3K+P7ZNMjel+PvF7+uWhe81s2WQ/y1SaAc/pZOBkM3vCzJ42sxuO4eMcdzPg+cT7sQJYBfxxUh/kBJgBz+pTwNvMrAH4LV6mc15RcDeNzKwU+BnwQedcTwbnnw58HnhPvCnJacmmP094npm9DbgA+PeJ+jHVZspzcc79j3NuDfCPwCcm6sd0mO5nZWYB4EvAhzPr8Yk13c/H/34fsNI5dxbwB+Ceifpxos2Q55SLV5q9Ei8L800zq5yoLyfCDHk+cTcD9zrnohP1YzrMkGf1FuBu59xS4FXAd/3/V80b8+rDziRmlof3H8D3nXM/95ubzWyRf3wR0JJw/lLgF8DbnXN7/eYGYGnCbZcCjWaWkzDw9jOpzku49zXAx4HX+v9ymjYz6bkk+BFw0zF/uONshjyrMrzxMg+b2QFgPfArmxmTKmbC88E5157w39U3gPOP5+c8VjPlOfnHfumcCzvn9uOV89Yez886GTPo+cTdDPzw+Hy642sGPavbgJ8AOOeeAgrx9qqdP6a7Ljwfv/D+xfEd4D/HtP87oweefsF/XQlsAt6Q5F7P4v2FGh9Q+qoU75n0PLzU+V5grZ7LqOeyNuGcPwM2TvfzmanPasw5DzMDxtzNpOeDP97If/064Onpfj4z9DndANzjv64BDgPVej4j5wGnAAfAW6N2Jn3NpGflv36H//pUvKBvxj2zKf3zmO4OzMcv4OV46ePNwIv+16uAauAhYLf/vco//xNAf8K5L+LPJMMrpb6EF6D9d6pf4FTn4ZWJmhPu+ys9FwdwB7DVv+efgNOn+/dmpj6rMec8zMwI7mbM8wH+zf9d2uT/Lq2b7uczQ5+TAV8EtgFbgJv1fEafhzeW7HPT/Vxm+rPCmyH7hP/f3IvAddP9fE70l3aoEBEREZlDNOZOREREZA5RcCciIiIyhyi4ExEREZlDFNyJiIiIzCEK7kRERETmkNzp7oCIyGxmZlG8pTvygAjeDhT/6ZyLTWvHRGTeUnAnInJsBp1z5wCYWR3wA6AC+OR0dkpE5i+VZUVEjhPnXAtwO/B+86w0s8fM7Hn/61IAM/uumd0Yv87Mvm9mr52ufovI3KJFjEVEjoGZ9TnnSse0dQLrgF4g5pwLmtla4IfOuQvM7Arg75xzN5lZBd4q+mudc5ET3X8RmXtUlhUROf7M/54H/LeZnQNEgZMBnHOPmNn/+GXc1wM/U2AnIseLgjsRkePIzFbjBXIteOPumoGz8YbBBBNO/S7wVuBm4F0nuJsiMocpuBMROU7MrBb4GvDfzjnnl1wbnHMxM7sVyEk4/W7gGeCoc27rie+tiMxVCu5ERI5NkZm9yMhSKN8Fvugf+wrwMzN7E/AnoD9+kXOu2cy2A/97QnsrInOeJlSIiEwDMyvGWx/vPOdc93T3R0TmDi2FIiJygpnZNcAO4L8U2InI8abMnYiIiMgcosydiIiIyByi4E5ERERkDlFwJyIiIjKHKLgTERERmUMU3ImIiIjMIQruREREROaQ/w+j8DMSzDKjkAAAAABJRU5ErkJggg==
"
>
</div>

</div>

</div>

</div>

</div>
<div class="jp-Cell-inputWrapper"><div class="jp-InputPrompt jp-InputArea-prompt">
</div><div class="jp-RenderedHTMLCommon jp-RenderedMarkdown jp-MarkdownOutput " data-mime-type="text/markdown">
<h2 id="Question-2:-Perform-a-Seasonal-Decomposition-(5-pts)">Question 2: Perform a Seasonal Decomposition (5 pts)<a class="anchor-link" href="#Question-2:-Perform-a-Seasonal-Decomposition-(5-pts)">&#182;</a></h2><p>With the time series ready, let's first perform a seasonal decomposition using tools from the <code>statsmodels</code> library to get a sense of what the possible patterns are hidden in the data. Complete the function below that takes a time series and an argument <code>model</code>, which indicates whether an additive or multiplicative seasonal decomposition should be performed, and that returns a <code>DecomposeResult</code> as produced by the <code>seasonal_decompose</code> function from the <code>statsmodels</code> library.</p>
<p><strong>This function should return a <code>statsmodels.tsa.seasonal.DecomposeResult</code>.</strong></p>

</div>
</div><div class="jp-Cell jp-CodeCell jp-Notebook-cell jp-mod-noOutputs  ">
<div class="jp-Cell-inputWrapper">
<div class="jp-InputArea jp-Cell-inputArea">
<div class="jp-InputPrompt jp-InputArea-prompt">In&nbsp;[93]:</div>
<div class="jp-CodeMirrorEditor jp-Editor jp-InputArea-editor" data-type="inline">
     <div class="CodeMirror cm-s-jupyter">
<div class=" highlight hl-ipython3"><pre><span></span><span class="kn">from</span> <span class="nn">statsmodels.tsa.seasonal</span> <span class="kn">import</span> <span class="n">seasonal_decompose</span><span class="p">,</span> <span class="n">DecomposeResult</span>

<span class="k">def</span> <span class="nf">sea_decomp</span><span class="p">(</span><span class="n">ser</span><span class="p">,</span> <span class="n">model</span><span class="o">=</span><span class="s2">&quot;additive&quot;</span><span class="p">):</span>
    <span class="sd">&quot;&quot;&quot;</span>
<span class="sd">    Takes in a series and a &quot;model&quot; parameter indicating which seasonal decomp to perform</span>
<span class="sd">    &quot;&quot;&quot;</span>
    <span class="n">series</span> <span class="o">=</span> <span class="n">load_data</span><span class="p">()</span>
    <span class="n">result</span> <span class="o">=</span> <span class="n">seasonal_decompose</span><span class="p">(</span><span class="n">series</span><span class="p">,</span> <span class="n">model</span><span class="o">=</span><span class="s1">&#39;additive&#39;</span><span class="p">)</span>
    
    <span class="c1"># YOUR CODE HERE</span>
    <span class="c1">#raise NotImplementedError()</span>
    
    <span class="k">return</span> <span class="n">result</span>
</pre></div>

     </div>
</div>
</div>
</div>

</div><div class="jp-Cell jp-CodeCell jp-Notebook-cell jp-mod-noOutputs  ">
<div class="jp-Cell-inputWrapper">
<div class="jp-InputArea jp-Cell-inputArea">
<div class="jp-InputPrompt jp-InputArea-prompt">In&nbsp;[94]:</div>
<div class="jp-CodeMirrorEditor jp-Editor jp-InputArea-editor" data-type="inline">
     <div class="CodeMirror cm-s-jupyter">
<div class=" highlight hl-ipython3"><pre><span></span><span class="c1"># Autograder tests</span>

<span class="n">stu_ser</span> <span class="o">=</span> <span class="n">load_data</span><span class="p">()</span>
<span class="n">stu_ans</span> <span class="o">=</span> <span class="n">sea_decomp</span><span class="p">(</span><span class="n">stu_ser</span><span class="p">,</span> <span class="n">model</span><span class="o">=</span><span class="s2">&quot;additive&quot;</span><span class="p">)</span>

<span class="k">assert</span> <span class="nb">isinstance</span><span class="p">(</span><span class="n">stu_ans</span><span class="p">,</span> <span class="n">DecomposeResult</span><span class="p">),</span> <span class="s2">&quot;Q2: Your function should return a DecomposeResult. &quot;</span>

<span class="c1"># Some hidden tests</span>


<span class="k">del</span> <span class="n">stu_ser</span><span class="p">,</span> <span class="n">stu_ans</span>
</pre></div>

     </div>
</div>
</div>
</div>

</div><div class="jp-Cell jp-CodeCell jp-Notebook-cell   ">
<div class="jp-Cell-inputWrapper">
<div class="jp-InputArea jp-Cell-inputArea">
<div class="jp-InputPrompt jp-InputArea-prompt">In&nbsp;[95]:</div>
<div class="jp-CodeMirrorEditor jp-Editor jp-InputArea-editor" data-type="inline">
     <div class="CodeMirror cm-s-jupyter">
<div class=" highlight hl-ipython3"><pre><span></span><span class="c1"># Let&#39;s plot and see the seasonal decomposition</span>

<span class="n">fig</span><span class="p">,</span> <span class="n">axes</span> <span class="o">=</span> <span class="n">plt</span><span class="o">.</span><span class="n">subplots</span><span class="p">(</span><span class="mi">4</span><span class="p">,</span> <span class="mi">1</span><span class="p">,</span> <span class="n">figsize</span><span class="o">=</span><span class="p">(</span><span class="mi">10</span><span class="p">,</span> <span class="mi">6</span><span class="p">),</span> <span class="n">sharex</span><span class="o">=</span><span class="kc">True</span><span class="p">)</span>
<span class="n">res</span> <span class="o">=</span> <span class="n">sea_decomp</span><span class="p">(</span><span class="n">load_data</span><span class="p">(),</span> <span class="n">model</span><span class="o">=</span><span class="s2">&quot;additive&quot;</span><span class="p">)</span>

<span class="n">axes</span><span class="p">[</span><span class="mi">0</span><span class="p">]</span><span class="o">.</span><span class="n">set_title</span><span class="p">(</span><span class="s2">&quot;Additive Seasonal Decomposition&quot;</span><span class="p">)</span>
<span class="n">axes</span><span class="p">[</span><span class="mi">0</span><span class="p">]</span><span class="o">.</span><span class="n">plot</span><span class="p">(</span><span class="n">res</span><span class="o">.</span><span class="n">observed</span><span class="p">)</span>
<span class="n">axes</span><span class="p">[</span><span class="mi">0</span><span class="p">]</span><span class="o">.</span><span class="n">set_ylabel</span><span class="p">(</span><span class="s2">&quot;Observed&quot;</span><span class="p">)</span>

<span class="n">axes</span><span class="p">[</span><span class="mi">1</span><span class="p">]</span><span class="o">.</span><span class="n">plot</span><span class="p">(</span><span class="n">res</span><span class="o">.</span><span class="n">trend</span><span class="p">)</span>
<span class="n">axes</span><span class="p">[</span><span class="mi">1</span><span class="p">]</span><span class="o">.</span><span class="n">set_ylabel</span><span class="p">(</span><span class="s2">&quot;Trend&quot;</span><span class="p">)</span>

<span class="n">axes</span><span class="p">[</span><span class="mi">2</span><span class="p">]</span><span class="o">.</span><span class="n">plot</span><span class="p">(</span><span class="n">res</span><span class="o">.</span><span class="n">seasonal</span><span class="p">)</span>
<span class="n">axes</span><span class="p">[</span><span class="mi">2</span><span class="p">]</span><span class="o">.</span><span class="n">set_ylabel</span><span class="p">(</span><span class="s2">&quot;Seasonal&quot;</span><span class="p">)</span>

<span class="n">axes</span><span class="p">[</span><span class="mi">3</span><span class="p">]</span><span class="o">.</span><span class="n">plot</span><span class="p">(</span><span class="n">res</span><span class="o">.</span><span class="n">resid</span><span class="p">)</span>
<span class="n">axes</span><span class="p">[</span><span class="mi">3</span><span class="p">]</span><span class="o">.</span><span class="n">set_ylabel</span><span class="p">(</span><span class="s2">&quot;Residual&quot;</span><span class="p">)</span>

<span class="n">axes</span><span class="p">[</span><span class="mi">3</span><span class="p">]</span><span class="o">.</span><span class="n">set_xlabel</span><span class="p">(</span><span class="s2">&quot;Day&quot;</span><span class="p">)</span>
<span class="n">fig</span><span class="o">.</span><span class="n">suptitle</span><span class="p">(</span><span class="s2">&quot;Daily New COVID-19 Cases Worldwide&quot;</span><span class="p">,</span> <span class="n">x</span><span class="o">=</span><span class="mf">0.513</span><span class="p">,</span> <span class="n">y</span><span class="o">=</span><span class="mf">0.95</span><span class="p">)</span>

<span class="k">del</span> <span class="n">fig</span><span class="p">,</span> <span class="n">axes</span><span class="p">,</span> <span class="n">res</span>
</pre></div>

     </div>
</div>
</div>
</div>

<div class="jp-Cell-outputWrapper">


<div class="jp-OutputArea jp-Cell-outputArea">

<div class="jp-OutputArea-child">

    
    <div class="jp-OutputPrompt jp-OutputArea-prompt"></div>




<div class="jp-RenderedImage jp-OutputArea-output ">
<img src="data:image/png;base64,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
"
>
</div>

</div>

</div>

</div>

</div>
<div class="jp-Cell-inputWrapper"><div class="jp-InputPrompt jp-InputArea-prompt">
</div><div class="jp-RenderedHTMLCommon jp-RenderedMarkdown jp-MarkdownOutput " data-mime-type="text/markdown">
<h2 id="Question-3:-Fit-a-Trend-Curve-(15-pts)">Question 3: Fit a Trend Curve (15 pts)<a class="anchor-link" href="#Question-3:-Fit-a-Trend-Curve-(15-pts)">&#182;</a></h2><p>The plot above suggests that there is a non-linear trend hidden in the time series. One approach to discover such a trend is to fit a regression model to the time series and ask the regression model to make predictions at each timestamp. When connected, these chronological predictions form a "trend curve". In the problem, we will explore how to fit a trend curve to our time series.</p>
<p>Complete the function below that fits an <code>n</code>-th order polynomial to the input time series and that returns the predictions as a <code>np.ndarray</code> of the same length. An $n$-th order polynomial regression model assumes that each dependent variable $y_{i}$ is an $n$-th order polynomial function of the corresponding independent variable $x_{i}$:</p>
\begin{equation*}
y_{i} = c_{0} + c_{1}x_{i} + c_{2}x_{i}^{2} + \cdots + c_{n}x_{i}^{n}
\end{equation*}<p>Now, the most interesting and important question to think about is, "<strong>what are $x_{i}$'s and $y_{i}$'s in the problem?</strong>". The $y_{i}$'s are the daily new cases worldwide at timestamps $x_{i}$'s, but <strong>how should we represent the timestamps $x_{i}$'s in such a regression model?</strong> There are many choices you may explore. In the function below, you are already given the code for training a polynomial regression model, but you have to figure out what <code>train_X</code> ($x_{i}$'s) and <code>train_y</code> ($y_{i}$'s) are. Since it's possible that everyone has a different design, this question is graded on the $R^{2}$ score of your predictions. <strong>For a $10$-th order polynomial regression model, at least one choice of $x_{i}$'s leads to an $R^{2}$ score $\geq 0.95$.</strong></p>
<p><strong>This function should return a <code>np.ndarray</code> of shape <code>(len(ser), )</code>, which represents the predictions of your polynomial regression model on the input time series. The predictions form the "trend curve" we are looking for.</strong></p>

</div>
</div><div class="jp-Cell jp-CodeCell jp-Notebook-cell jp-mod-noOutputs  ">
<div class="jp-Cell-inputWrapper">
<div class="jp-InputArea jp-Cell-inputArea">
<div class="jp-InputPrompt jp-InputArea-prompt">In&nbsp;[96]:</div>
<div class="jp-CodeMirrorEditor jp-Editor jp-InputArea-editor" data-type="inline">
     <div class="CodeMirror cm-s-jupyter">
<div class=" highlight hl-ipython3"><pre><span></span><span class="kn">from</span> <span class="nn">sklearn.preprocessing</span> <span class="kn">import</span> <span class="n">PolynomialFeatures</span>
<span class="kn">from</span> <span class="nn">sklearn.linear_model</span> <span class="kn">import</span> <span class="n">LinearRegression</span>

<span class="k">def</span> <span class="nf">fit_trend</span><span class="p">(</span><span class="n">ser</span><span class="p">,</span> <span class="n">n</span><span class="p">):</span>
    <span class="sd">&quot;&quot;&quot;</span>
<span class="sd">    Takes a series and fits an n-th order polynomial to the series. </span>
<span class="sd">    Returns the predictions. </span>
<span class="sd">    &quot;&quot;&quot;</span>
    
    <span class="n">dataframe</span> <span class="o">=</span> <span class="n">ser</span>
    <span class="n">dataframe</span> <span class="o">=</span> <span class="n">dataframe</span><span class="o">.</span><span class="n">to_frame</span><span class="p">()</span>

    
    
    <span class="n">X</span> <span class="o">=</span> <span class="n">np</span><span class="o">.</span><span class="n">arange</span><span class="p">(</span><span class="mi">1</span><span class="p">,</span> <span class="nb">len</span><span class="p">(</span><span class="n">ser</span><span class="p">)</span><span class="o">+</span><span class="mi">1</span><span class="p">,</span> <span class="mi">1</span><span class="p">)</span>
    <span class="n">Y</span> <span class="o">=</span> <span class="n">np</span><span class="o">.</span><span class="n">array</span><span class="p">(</span><span class="n">dataframe</span><span class="p">[</span><span class="s1">&#39;New_Daily_Cases&#39;</span><span class="p">])</span><span class="o">.</span><span class="n">reshape</span><span class="p">(</span><span class="o">-</span><span class="mi">1</span><span class="p">,</span> <span class="mi">1</span><span class="p">)</span> 
    
    
   
    <span class="n">train_X</span><span class="p">,</span> <span class="n">train_y</span> <span class="o">=</span> <span class="n">X</span><span class="p">,</span> <span class="n">Y</span> <span class="c1"># xi&#39;s and yi&#39;s</span>

    <span class="c1"># Create train_X and train_y</span>
    <span class="c1"># YOUR CODE HERE</span>

    
    <span class="c1"># Fit a polynomial regression model - code given to you</span>
    <span class="n">train_X</span> <span class="o">=</span> <span class="n">PolynomialFeatures</span><span class="p">(</span><span class="n">n</span><span class="p">)</span><span class="o">.</span><span class="n">fit_transform</span><span class="p">(</span><span class="n">train_X</span><span class="o">.</span><span class="n">reshape</span><span class="p">(</span><span class="o">-</span><span class="mi">1</span><span class="p">,</span> <span class="mi">1</span><span class="p">))</span>
    <span class="n">lin_reg</span> <span class="o">=</span> <span class="n">LinearRegression</span><span class="p">()</span><span class="o">.</span><span class="n">fit</span><span class="p">(</span><span class="n">train_X</span><span class="p">,</span> <span class="n">train_y</span><span class="o">.</span><span class="n">reshape</span><span class="p">(</span><span class="o">-</span><span class="mi">1</span><span class="p">))</span>
    
    <span class="c1"># Make predictions to create the trend curve</span>
    <span class="c1"># YOUR CODE HERE</span>
    
    <span class="n">trend_curve</span> <span class="o">=</span> <span class="n">lin_reg</span><span class="o">.</span><span class="n">predict</span><span class="p">(</span><span class="n">train_X</span><span class="p">)</span>
    <span class="c1">#raise NotImplementedError()</span>
    
    <span class="k">return</span> <span class="n">trend_curve</span>
</pre></div>

     </div>
</div>
</div>
</div>

</div><div class="jp-Cell jp-CodeCell jp-Notebook-cell jp-mod-noOutputs  ">
<div class="jp-Cell-inputWrapper">
<div class="jp-InputArea jp-Cell-inputArea">
<div class="jp-InputPrompt jp-InputArea-prompt">In&nbsp;[97]:</div>
<div class="jp-CodeMirrorEditor jp-Editor jp-InputArea-editor" data-type="inline">
     <div class="CodeMirror cm-s-jupyter">
<div class=" highlight hl-ipython3"><pre><span></span><span class="c1"># Autograder tests</span>

<span class="n">stu_ser</span> <span class="o">=</span> <span class="n">load_data</span><span class="p">()</span>
<span class="n">stu_ans</span> <span class="o">=</span> <span class="n">fit_trend</span><span class="p">(</span><span class="n">stu_ser</span><span class="p">,</span> <span class="mi">10</span><span class="p">)</span>

<span class="k">assert</span> <span class="nb">isinstance</span><span class="p">(</span><span class="n">stu_ans</span><span class="p">,</span> <span class="n">np</span><span class="o">.</span><span class="n">ndarray</span><span class="p">),</span> <span class="s2">&quot;Q3: Your function should return a np.ndarray. &quot;</span>
<span class="k">assert</span> <span class="n">stu_ans</span><span class="o">.</span><span class="n">shape</span> <span class="o">==</span> <span class="p">(</span><span class="nb">len</span><span class="p">(</span><span class="n">stu_ser</span><span class="p">),</span> <span class="p">),</span> <span class="s2">&quot;Q3: The shape of your np.ndarray is not correct. &quot;</span>

<span class="c1"># Some hidden tests</span>


<span class="k">del</span> <span class="n">stu_ser</span><span class="p">,</span> <span class="n">stu_ans</span>
</pre></div>

     </div>
</div>
</div>
</div>

</div><div class="jp-Cell jp-CodeCell jp-Notebook-cell   ">
<div class="jp-Cell-inputWrapper">
<div class="jp-InputArea jp-Cell-inputArea">
<div class="jp-InputPrompt jp-InputArea-prompt">In&nbsp;[98]:</div>
<div class="jp-CodeMirrorEditor jp-Editor jp-InputArea-editor" data-type="inline">
     <div class="CodeMirror cm-s-jupyter">
<div class=" highlight hl-ipython3"><pre><span></span><span class="c1"># Let&#39;s plot and see your regression line</span>

<span class="n">fig</span><span class="p">,</span> <span class="n">ax</span> <span class="o">=</span> <span class="n">plt</span><span class="o">.</span><span class="n">subplots</span><span class="p">(</span><span class="n">figsize</span><span class="o">=</span><span class="p">(</span><span class="mi">10</span><span class="p">,</span> <span class="mi">6</span><span class="p">))</span>
<span class="n">ser</span> <span class="o">=</span> <span class="n">load_data</span><span class="p">()</span>
<span class="n">preds</span> <span class="o">=</span> <span class="n">fit_trend</span><span class="p">(</span><span class="n">ser</span><span class="p">,</span> <span class="mi">10</span><span class="p">)</span>
<span class="n">ax</span><span class="o">.</span><span class="n">plot</span><span class="p">(</span><span class="n">ser</span><span class="o">.</span><span class="n">index</span><span class="p">,</span> <span class="n">ser</span><span class="o">.</span><span class="n">values</span><span class="p">,</span> <span class="n">label</span><span class="o">=</span><span class="s2">&quot;Original&quot;</span><span class="p">)</span>
<span class="n">ax</span><span class="o">.</span><span class="n">plot</span><span class="p">(</span><span class="n">ser</span><span class="o">.</span><span class="n">index</span><span class="p">,</span> <span class="n">preds</span><span class="p">,</span> <span class="n">label</span><span class="o">=</span><span class="s2">&quot;Fitted trend curve&quot;</span><span class="p">)</span>
<span class="n">ax</span><span class="o">.</span><span class="n">set_xlabel</span><span class="p">(</span><span class="s2">&quot;Day&quot;</span><span class="p">)</span>
<span class="n">ax</span><span class="o">.</span><span class="n">set_ylabel</span><span class="p">(</span><span class="s2">&quot;# Cases&quot;</span><span class="p">)</span>
<span class="n">ax</span><span class="o">.</span><span class="n">set_title</span><span class="p">(</span><span class="s2">&quot;Daily New COVID-19 Cases Worldwide&quot;</span><span class="p">)</span>
<span class="n">ax</span><span class="o">.</span><span class="n">legend</span><span class="p">()</span>

<span class="k">del</span> <span class="n">fig</span><span class="p">,</span> <span class="n">ax</span><span class="p">,</span> <span class="n">ser</span><span class="p">,</span> <span class="n">preds</span>
</pre></div>

     </div>
</div>
</div>
</div>

<div class="jp-Cell-outputWrapper">


<div class="jp-OutputArea jp-Cell-outputArea">

<div class="jp-OutputArea-child">

    
    <div class="jp-OutputPrompt jp-OutputArea-prompt"></div>




<div class="jp-RenderedImage jp-OutputArea-output ">
<img src="data:image/png;base64,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
"
>
</div>

</div>

</div>

</div>

</div>
<div class="jp-Cell-inputWrapper"><div class="jp-InputPrompt jp-InputArea-prompt">
</div><div class="jp-RenderedHTMLCommon jp-RenderedMarkdown jp-MarkdownOutput " data-mime-type="text/markdown">
<p>It's worth mentioning that the <code>seaborn</code> library provides a function <a href="https://seaborn.pydata.org/generated/seaborn.regplot.html"><code>regplot</code></a> that can plot both the data and the regression line in a few lines of code, thus saving you the trouble of fitting a regression model.</p>

</div>
</div>
<div class="jp-Cell-inputWrapper"><div class="jp-InputPrompt jp-InputArea-prompt">
</div><div class="jp-RenderedHTMLCommon jp-RenderedMarkdown jp-MarkdownOutput " data-mime-type="text/markdown">
<h2 id="Question-4:-Calculate-Weighted-Moving-Average-(WMA)-(15-pts)">Question 4: Calculate Weighted Moving Average (WMA) (15 pts)<a class="anchor-link" href="#Question-4:-Calculate-Weighted-Moving-Average-(WMA)-(15-pts)">&#182;</a></h2><p>The regression method seems to give a fairly accurate description of the trend hidden in the time series. In this problem and the next, we will explore an alternative method for discovering trends that is based on moving averages.</p>
<p>Recall from the lectures that a Weighted Moving Average (WMA) method applies the following transformation to each data point $x_{j}$:</p>
\begin{align}
x_{j}^{\prime} &amp;=
\frac{w_{k}x_{j} + w_{k - 1}x_{j - 1} + \cdots + w_{1}x_{j - k + 1}}{w_{k} + w_{k - 1} + \cdots + w_{1}} &amp; \text{if } j &gt; k \\ \\
x_{j}^{\prime} &amp;= \frac{w_{k}x_{j} + w_{k - 1}x_{j - 1} + \cdots + w_{k - j + 1}x_{1}}{w_{k} + w_{k - 1} + \cdots + w_{k - j + 1}} &amp; \text{if } j \leq k
\end{align}<p>for a window of size $k$. Complete the function below that calculates the WMA for an input time series.</p>
<p><strong>This function should return a <code>np.ndarray</code> of shape <code>(len(ser), )</code> that represents the WMA values for the input time series.</strong></p>

</div>
</div><div class="jp-Cell jp-CodeCell jp-Notebook-cell jp-mod-noOutputs  ">
<div class="jp-Cell-inputWrapper">
<div class="jp-InputArea jp-Cell-inputArea">
<div class="jp-InputPrompt jp-InputArea-prompt">In&nbsp;[99]:</div>
<div class="jp-CodeMirrorEditor jp-Editor jp-InputArea-editor" data-type="inline">
     <div class="CodeMirror cm-s-jupyter">
<div class=" highlight hl-ipython3"><pre><span></span><span class="k">def</span> <span class="nf">calc_wma</span><span class="p">(</span><span class="n">ser</span><span class="p">,</span> <span class="n">wd_size</span><span class="p">,</span> <span class="n">weights</span><span class="o">=</span><span class="mi">1</span><span class="p">):</span>
    <span class="sd">&quot;&quot;&quot;</span>
<span class="sd">    Takes in a series and calculates the WMA with a window size of wd_size</span>
<span class="sd">    &quot;&quot;&quot;</span>
    <span class="n">wma</span> <span class="o">=</span> <span class="kc">None</span>
    <span class="k">if</span> <span class="nb">isinstance</span><span class="p">(</span><span class="n">weights</span><span class="p">,</span> <span class="nb">int</span><span class="p">):</span>
        <span class="n">weights</span> <span class="o">=</span> <span class="n">np</span><span class="o">.</span><span class="n">full</span><span class="p">(</span><span class="n">wd_size</span><span class="p">,</span> <span class="n">weights</span><span class="p">,</span> <span class="n">dtype</span><span class="o">=</span><span class="nb">float</span><span class="p">)</span>

    <span class="k">assert</span> <span class="nb">len</span><span class="p">(</span><span class="n">weights</span><span class="p">)</span> <span class="o">==</span> <span class="n">wd_size</span><span class="p">,</span> <span class="s2">&quot;Q4: The size of the weights must be the same as the window size. &quot;</span>
    
    <span class="n">sum_weights</span> <span class="o">=</span> <span class="n">weights</span><span class="o">.</span><span class="n">sum</span><span class="p">()</span>
    <span class="n">dataframe</span> <span class="o">=</span> <span class="n">ser</span>
    <span class="n">dataframe</span><span class="o">.</span><span class="n">to_frame</span><span class="p">()</span>
    <span class="n">dataframe</span> <span class="o">=</span> <span class="n">dataframe</span><span class="o">.</span><span class="n">reset_index</span><span class="p">()</span>
    <span class="n">dataframe</span> <span class="o">=</span> <span class="n">dataframe</span><span class="o">.</span><span class="n">rename</span><span class="p">(</span><span class="n">columns</span><span class="o">=</span><span class="p">{</span><span class="s2">&quot;index&quot;</span><span class="p">:</span> <span class="s2">&quot;Date&quot;</span><span class="p">})</span>
    
    <span class="n">weights_reversed</span> <span class="o">=</span> <span class="n">weights</span><span class="p">[::</span><span class="o">-</span><span class="mi">1</span><span class="p">]</span>
    
    <span class="n">wma</span> <span class="o">=</span> <span class="n">ser</span><span class="o">.</span><span class="n">rolling</span><span class="p">(</span><span class="n">wd_size</span><span class="p">)</span><span class="o">.</span><span class="n">apply</span><span class="p">(</span><span class="k">lambda</span> <span class="n">x</span><span class="p">:</span> <span class="n">np</span><span class="o">.</span><span class="n">dot</span><span class="p">(</span><span class="n">x</span><span class="p">,</span> <span class="n">weights</span><span class="p">)</span><span class="o">/</span><span class="n">sum_weights</span><span class="p">,</span> <span class="n">raw</span><span class="o">=</span><span class="kc">True</span><span class="p">)</span><span class="o">.</span><span class="n">to_numpy</span><span class="p">()</span>
    
    <span class="n">daily_cases_list</span> <span class="o">=</span> <span class="n">dataframe</span><span class="p">[</span><span class="s1">&#39;New_Daily_Cases&#39;</span><span class="p">]</span><span class="o">.</span><span class="n">to_list</span><span class="p">()</span>
    <span class="n">daily_cases_list_slice</span> <span class="o">=</span> <span class="n">daily_cases_list</span><span class="p">[</span><span class="mi">0</span><span class="p">:</span><span class="n">wd_size</span><span class="p">]</span>
 
    <span class="n">new_six</span> <span class="o">=</span> <span class="p">[]</span>
    
    <span class="k">for</span> <span class="n">i</span> <span class="ow">in</span> <span class="nb">range</span><span class="p">(</span><span class="nb">len</span><span class="p">(</span><span class="n">daily_cases_list_slice</span><span class="p">)):</span>
        <span class="k">if</span> <span class="nb">len</span><span class="p">(</span><span class="n">new_six</span><span class="p">)</span> <span class="o">==</span> <span class="mi">0</span><span class="p">:</span>
            <span class="n">x</span> <span class="o">=</span> <span class="n">daily_cases_list_slice</span><span class="p">[</span><span class="n">i</span><span class="p">]</span>
            <span class="n">y</span> <span class="o">=</span> <span class="n">weights_reversed</span><span class="p">[</span><span class="n">i</span><span class="p">]</span>
            <span class="n">res</span> <span class="o">=</span> <span class="p">(</span><span class="n">x</span><span class="o">*</span><span class="n">y</span><span class="p">)</span><span class="o">/</span><span class="n">y</span>
            <span class="n">new_six</span><span class="o">.</span><span class="n">append</span><span class="p">(</span><span class="n">res</span><span class="p">)</span>
        <span class="k">else</span><span class="p">:</span>
            <span class="n">x</span> <span class="o">=</span> <span class="n">daily_cases_list_slice</span><span class="p">[</span><span class="mi">0</span><span class="p">:</span><span class="n">i</span><span class="o">+</span><span class="mi">1</span><span class="p">]</span>
            <span class="n">y</span> <span class="o">=</span> <span class="n">weights_reversed</span><span class="p">[</span><span class="mi">0</span><span class="p">:</span><span class="n">i</span><span class="o">+</span><span class="mi">1</span><span class="p">]</span>
            <span class="n">y</span> <span class="o">=</span> <span class="nb">list</span><span class="p">(</span><span class="n">y</span><span class="p">)</span>
            <span class="n">y</span><span class="o">.</span><span class="n">reverse</span><span class="p">()</span>
            <span class="n">res</span> <span class="o">=</span> <span class="n">np</span><span class="o">.</span><span class="n">dot</span><span class="p">(</span><span class="n">x</span><span class="p">,</span> <span class="n">y</span><span class="p">)</span><span class="o">/</span><span class="nb">sum</span><span class="p">(</span><span class="n">y</span><span class="p">)</span>
            <span class="n">new_six</span><span class="o">.</span><span class="n">append</span><span class="p">(</span><span class="n">res</span><span class="p">)</span>
        
    <span class="n">wma</span> <span class="o">=</span> <span class="nb">list</span><span class="p">(</span><span class="n">wma</span><span class="p">)</span>
    <span class="n">wma</span> <span class="o">=</span> <span class="n">new_six</span> <span class="o">+</span> <span class="n">wma</span>
    <span class="n">wma</span> <span class="o">=</span> <span class="p">[</span><span class="n">x</span> <span class="k">for</span> <span class="n">x</span> <span class="ow">in</span> <span class="n">wma</span> <span class="k">if</span> <span class="nb">str</span><span class="p">(</span><span class="n">x</span><span class="p">)</span> <span class="o">!=</span> <span class="s1">&#39;nan&#39;</span><span class="p">]</span>
    <span class="n">wma</span> <span class="o">=</span>  <span class="n">pd</span><span class="o">.</span><span class="n">Series</span><span class="p">(</span><span class="n">wma</span><span class="p">)</span> 
    <span class="n">wma</span> <span class="o">=</span> <span class="n">wma</span><span class="o">.</span><span class="n">to_numpy</span><span class="p">()</span>
    <span class="k">return</span> <span class="n">wma</span>
</pre></div>

     </div>
</div>
</div>
</div>

</div><div class="jp-Cell jp-CodeCell jp-Notebook-cell jp-mod-noOutputs  ">
<div class="jp-Cell-inputWrapper">
<div class="jp-InputArea jp-Cell-inputArea">
<div class="jp-InputPrompt jp-InputArea-prompt">In&nbsp;[&nbsp;]:</div>
<div class="jp-CodeMirrorEditor jp-Editor jp-InputArea-editor" data-type="inline">
     <div class="CodeMirror cm-s-jupyter">
<div class=" highlight hl-ipython3"><pre><span></span> 
</pre></div>

     </div>
</div>
</div>
</div>

</div><div class="jp-Cell jp-CodeCell jp-Notebook-cell   ">
<div class="jp-Cell-inputWrapper">
<div class="jp-InputArea jp-Cell-inputArea">
<div class="jp-InputPrompt jp-InputArea-prompt">In&nbsp;[100]:</div>
<div class="jp-CodeMirrorEditor jp-Editor jp-InputArea-editor" data-type="inline">
     <div class="CodeMirror cm-s-jupyter">
<div class=" highlight hl-ipython3"><pre><span></span><span class="n">wd_size</span> <span class="o">=</span> <span class="mi">7</span>
<span class="n">weights</span> <span class="o">=</span> <span class="n">np</span><span class="o">.</span><span class="n">arange</span><span class="p">(</span><span class="mi">1</span><span class="p">,</span> <span class="n">wd_size</span> <span class="o">+</span> <span class="mi">1</span><span class="p">)</span><span class="o">.</span><span class="n">astype</span><span class="p">(</span><span class="nb">float</span><span class="p">)</span> <span class="c1"># linear weighting</span>
<span class="n">stu_ser</span> <span class="o">=</span> <span class="n">load_data</span><span class="p">()</span>
<span class="n">stu_ans</span> <span class="o">=</span> <span class="n">calc_wma</span><span class="p">(</span><span class="n">stu_ser</span><span class="p">,</span> <span class="n">wd_size</span><span class="p">,</span> <span class="n">weights</span><span class="p">)</span>
<span class="nb">len</span><span class="p">(</span><span class="n">stu_ans</span><span class="p">)</span>
</pre></div>

     </div>
</div>
</div>
</div>

<div class="jp-Cell-outputWrapper">


<div class="jp-OutputArea jp-Cell-outputArea">

<div class="jp-OutputArea-child">

    
    <div class="jp-OutputPrompt jp-OutputArea-prompt">Out[100]:</div>




<div class="jp-RenderedText jp-OutputArea-output jp-OutputArea-executeResult" data-mime-type="text/plain">
<pre>213</pre>
</div>

</div>

</div>

</div>

</div><div class="jp-Cell jp-CodeCell jp-Notebook-cell   ">
<div class="jp-Cell-inputWrapper">
<div class="jp-InputArea jp-Cell-inputArea">
<div class="jp-InputPrompt jp-InputArea-prompt">In&nbsp;[101]:</div>
<div class="jp-CodeMirrorEditor jp-Editor jp-InputArea-editor" data-type="inline">
     <div class="CodeMirror cm-s-jupyter">
<div class=" highlight hl-ipython3"><pre><span></span><span class="c1"># Autograder tests</span>

<span class="n">wd_size</span> <span class="o">=</span> <span class="mi">7</span>
<span class="n">weights</span> <span class="o">=</span> <span class="n">np</span><span class="o">.</span><span class="n">arange</span><span class="p">(</span><span class="mi">1</span><span class="p">,</span> <span class="n">wd_size</span> <span class="o">+</span> <span class="mi">1</span><span class="p">)</span><span class="o">.</span><span class="n">astype</span><span class="p">(</span><span class="nb">float</span><span class="p">)</span> <span class="c1"># linear weighting</span>
<span class="n">stu_ser</span> <span class="o">=</span> <span class="n">load_data</span><span class="p">()</span>
<span class="n">stu_ans</span> <span class="o">=</span> <span class="n">calc_wma</span><span class="p">(</span><span class="n">stu_ser</span><span class="p">,</span> <span class="n">wd_size</span><span class="p">,</span> <span class="n">weights</span><span class="p">)</span>

<span class="k">assert</span> <span class="nb">isinstance</span><span class="p">(</span><span class="n">stu_ans</span><span class="p">,</span> <span class="n">np</span><span class="o">.</span><span class="n">ndarray</span><span class="p">),</span> <span class="s2">&quot;Q4: Your function should return a np.ndarray. &quot;</span>
<span class="k">assert</span> <span class="n">stu_ans</span><span class="o">.</span><span class="n">shape</span> <span class="o">==</span> <span class="p">(</span><span class="nb">len</span><span class="p">(</span><span class="n">stu_ser</span><span class="p">),</span> <span class="p">),</span> <span class="s2">&quot;Q4: The np.ndarray returned is of an incorrect shape. &quot;</span>
<span class="k">assert</span> <span class="n">np</span><span class="o">.</span><span class="n">issubdtype</span><span class="p">(</span><span class="n">stu_ans</span><span class="o">.</span><span class="n">dtype</span><span class="p">,</span> <span class="n">np</span><span class="o">.</span><span class="n">floating</span><span class="p">),</span> <span class="s2">&quot;Q4: Your np.ndarray should have a float dtype. &quot;</span>

<span class="c1"># Some hidden tests</span>


<span class="k">del</span> <span class="n">wd_size</span><span class="p">,</span> <span class="n">weights</span><span class="p">,</span> <span class="n">stu_ser</span><span class="p">,</span> <span class="n">stu_ans</span>
</pre></div>

     </div>
</div>
</div>
</div>

<div class="jp-Cell-outputWrapper">


<div class="jp-OutputArea jp-Cell-outputArea">

<div class="jp-OutputArea-child">

    
    <div class="jp-OutputPrompt jp-OutputArea-prompt"></div>


<div class="jp-RenderedText jp-OutputArea-output" data-mime-type="application/vnd.jupyter.stderr">
<pre>
<span class="ansi-red-fg">---------------------------------------------------------------------------</span>
<span class="ansi-red-fg">AssertionError</span>                            Traceback (most recent call last)
<span class="ansi-green-fg">/tmp/ipykernel_30/2727900692.py</span> in <span class="ansi-cyan-fg">&lt;module&gt;</span>
<span class="ansi-green-intense-fg ansi-bold">      7</span> 
<span class="ansi-green-intense-fg ansi-bold">      8</span> <span class="ansi-green-fg">assert</span> isinstance<span class="ansi-blue-fg">(</span>stu_ans<span class="ansi-blue-fg">,</span> np<span class="ansi-blue-fg">.</span>ndarray<span class="ansi-blue-fg">)</span><span class="ansi-blue-fg">,</span> <span class="ansi-blue-fg">&#34;Q4: Your function should return a np.ndarray. &#34;</span>
<span class="ansi-green-fg">----&gt; 9</span><span class="ansi-red-fg"> </span><span class="ansi-green-fg">assert</span> stu_ans<span class="ansi-blue-fg">.</span>shape <span class="ansi-blue-fg">==</span> <span class="ansi-blue-fg">(</span>len<span class="ansi-blue-fg">(</span>stu_ser<span class="ansi-blue-fg">)</span><span class="ansi-blue-fg">,</span> <span class="ansi-blue-fg">)</span><span class="ansi-blue-fg">,</span> <span class="ansi-blue-fg">&#34;Q4: The np.ndarray returned is of an incorrect shape. &#34;</span>
<span class="ansi-green-intense-fg ansi-bold">     10</span> <span class="ansi-green-fg">assert</span> np<span class="ansi-blue-fg">.</span>issubdtype<span class="ansi-blue-fg">(</span>stu_ans<span class="ansi-blue-fg">.</span>dtype<span class="ansi-blue-fg">,</span> np<span class="ansi-blue-fg">.</span>floating<span class="ansi-blue-fg">)</span><span class="ansi-blue-fg">,</span> <span class="ansi-blue-fg">&#34;Q4: Your np.ndarray should have a float dtype. &#34;</span>
<span class="ansi-green-intense-fg ansi-bold">     11</span> 

<span class="ansi-red-fg">AssertionError</span>: Q4: The np.ndarray returned is of an incorrect shape. </pre>
</div>
</div>

</div>

</div>

</div><div class="jp-Cell jp-CodeCell jp-Notebook-cell   ">
<div class="jp-Cell-inputWrapper">
<div class="jp-InputArea jp-Cell-inputArea">
<div class="jp-InputPrompt jp-InputArea-prompt">In&nbsp;[18]:</div>
<div class="jp-CodeMirrorEditor jp-Editor jp-InputArea-editor" data-type="inline">
     <div class="CodeMirror cm-s-jupyter">
<div class=" highlight hl-ipython3"><pre><span></span><span class="c1"># Let&#39;s plot and see your WMA</span>

<span class="n">fig</span><span class="p">,</span> <span class="n">ax</span> <span class="o">=</span> <span class="n">plt</span><span class="o">.</span><span class="n">subplots</span><span class="p">(</span><span class="n">figsize</span><span class="o">=</span><span class="p">(</span><span class="mi">10</span><span class="p">,</span> <span class="mi">6</span><span class="p">))</span>
<span class="n">wd_size</span> <span class="o">=</span> <span class="mi">7</span>
<span class="n">weights</span> <span class="o">=</span> <span class="n">np</span><span class="o">.</span><span class="n">arange</span><span class="p">(</span><span class="mi">1</span><span class="p">,</span> <span class="n">wd_size</span> <span class="o">+</span> <span class="mi">1</span><span class="p">)</span>
<span class="n">ser</span> <span class="o">=</span> <span class="n">load_data</span><span class="p">()</span>
<span class="n">wma</span> <span class="o">=</span> <span class="n">calc_wma</span><span class="p">(</span><span class="n">ser</span><span class="p">,</span> <span class="n">wd_size</span><span class="p">,</span> <span class="n">weights</span><span class="o">=</span><span class="n">weights</span><span class="p">)</span>

<span class="n">ax</span><span class="o">.</span><span class="n">plot</span><span class="p">(</span><span class="n">ser</span><span class="o">.</span><span class="n">index</span><span class="p">,</span> <span class="n">ser</span><span class="o">.</span><span class="n">values</span><span class="p">,</span> <span class="n">label</span><span class="o">=</span><span class="s2">&quot;Original&quot;</span><span class="p">)</span>
<span class="n">ax</span><span class="o">.</span><span class="n">plot</span><span class="p">(</span><span class="n">ser</span><span class="o">.</span><span class="n">index</span><span class="p">,</span> <span class="n">wma</span><span class="p">,</span> <span class="n">label</span><span class="o">=</span><span class="s2">&quot;WMA&quot;</span><span class="p">)</span>
<span class="n">ax</span><span class="o">.</span><span class="n">set_xlabel</span><span class="p">(</span><span class="s2">&quot;Day&quot;</span><span class="p">)</span>
<span class="n">ax</span><span class="o">.</span><span class="n">set_ylabel</span><span class="p">(</span><span class="s2">&quot;# Cases&quot;</span><span class="p">)</span>
<span class="n">ax</span><span class="o">.</span><span class="n">set_title</span><span class="p">(</span><span class="s2">&quot;Daily New COVID-19 Cases Worldwide&quot;</span><span class="p">)</span>
<span class="n">ax</span><span class="o">.</span><span class="n">legend</span><span class="p">()</span>

<span class="k">del</span> <span class="n">fig</span><span class="p">,</span> <span class="n">ax</span><span class="p">,</span> <span class="n">wd_size</span><span class="p">,</span> <span class="n">weights</span><span class="p">,</span> <span class="n">ser</span><span class="p">,</span> <span class="n">wma</span>
</pre></div>

     </div>
</div>
</div>
</div>

<div class="jp-Cell-outputWrapper">


<div class="jp-OutputArea jp-Cell-outputArea">

<div class="jp-OutputArea-child">

    
    <div class="jp-OutputPrompt jp-OutputArea-prompt"></div>




<div class="jp-RenderedImage jp-OutputArea-output ">
<img src="data:image/png;base64,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
"
>
</div>

</div>

</div>

</div>

</div>
<div class="jp-Cell-inputWrapper"><div class="jp-InputPrompt jp-InputArea-prompt">
</div><div class="jp-RenderedHTMLCommon jp-RenderedMarkdown jp-MarkdownOutput " data-mime-type="text/markdown">
<h2 id="Question-5:-Calculate-%22Time%22-Exponential-Moving-Average-(EMA)-(10-pts)">Question 5: Calculate "Time" Exponential Moving Average (EMA) (10 pts)<a class="anchor-link" href="#Question-5:-Calculate-%22Time%22-Exponential-Moving-Average-(EMA)-(10-pts)">&#182;</a></h2><p>WMA usually works well if each data point is sampled at regular time intervals (which is the case for our time series). "Time" Exponential Moving Average (EMA), on the other hand, works well on both regular and irregular time series. Let's now explore how to apply EMA to our time series.</p>
<p>Recall from the lectures that a "time" EMA method applies the following transformation to each data point $x_{j}$:</p>
\begin{equation*}
x_{j}^{\prime} = \frac{\sum_{i = 1}^{j}\exp\left[-\lambda\left(t_{j} - t_{i}\right)\right]x_{i}}{\sum_{i = 1}^{j}\exp\left[-\lambda\left(t_{j} - t_{i}\right)\right]}
\end{equation*}<p>where $0 \leq \lambda \leq 1$ is the "decay rate". Also note that, when $\lambda = 0$, this is equivalent to a cumulative moving average (CMA). Complete the function below that calculates the "time" EMA for an input time series, <strong>assuming the time intervals are days</strong>.</p>
<p><strong>This function should return a <code>np.ndarray</code> of shape <code>(len(ser), )</code>, which represents the "time" EMA for the input time series.</strong></p>

</div>
</div><div class="jp-Cell jp-CodeCell jp-Notebook-cell jp-mod-noOutputs  ">
<div class="jp-Cell-inputWrapper">
<div class="jp-InputArea jp-Cell-inputArea">
<div class="jp-InputPrompt jp-InputArea-prompt">In&nbsp;[14]:</div>
<div class="jp-CodeMirrorEditor jp-Editor jp-InputArea-editor" data-type="inline">
     <div class="CodeMirror cm-s-jupyter">
<div class=" highlight hl-ipython3"><pre><span></span><span class="kn">import</span> <span class="nn">math</span>
<span class="k">def</span> <span class="nf">calc_time_ema</span><span class="p">(</span><span class="n">ser</span><span class="p">,</span> <span class="n">lmbd</span><span class="o">=</span><span class="mf">0.0</span><span class="p">):</span>
    <span class="sd">&quot;&quot;&quot;</span>
<span class="sd">    Takes in a series and calculates EMA with the lambda provided</span>
<span class="sd">    &quot;&quot;&quot;</span>
    
    <span class="n">halflife_ser</span> <span class="o">=</span> <span class="n">np</span><span class="o">.</span><span class="n">log</span><span class="p">(</span><span class="mi">2</span><span class="p">)</span><span class="o">/</span><span class="n">lmbd</span>
    <span class="n">halflife_ser</span> <span class="o">=</span> <span class="nb">str</span><span class="p">(</span><span class="n">halflife_ser</span><span class="p">)</span> <span class="o">+</span> <span class="s1">&#39; days&#39;</span>

    <span class="n">time_ema</span> <span class="o">=</span> <span class="kc">None</span>
    <span class="n">ema_list</span> <span class="o">=</span> <span class="p">[]</span>
    
    <span class="n">dataframe</span> <span class="o">=</span> <span class="n">ser</span><span class="o">.</span><span class="n">to_frame</span><span class="p">()</span>
    
    <span class="n">dataframe</span> <span class="o">=</span> <span class="n">dataframe</span><span class="o">.</span><span class="n">reset_index</span><span class="p">()</span>
    <span class="n">times_list</span> <span class="o">=</span> <span class="n">dataframe</span><span class="p">[</span><span class="s1">&#39;index&#39;</span><span class="p">]</span><span class="o">.</span><span class="n">to_list</span><span class="p">()</span>
    <span class="n">just_daily_cases</span> <span class="o">=</span> <span class="n">dataframe</span><span class="p">[</span><span class="s1">&#39;New_Daily_Cases&#39;</span><span class="p">]</span><span class="o">.</span><span class="n">to_list</span><span class="p">()</span>
    <span class="n">just_daily_cases_df</span> <span class="o">=</span>  <span class="n">pd</span><span class="o">.</span><span class="n">DataFrame</span><span class="p">(</span><span class="n">just_daily_cases</span><span class="p">,</span> <span class="n">columns</span> <span class="o">=</span> <span class="p">[</span><span class="s1">&#39;New_Daily_Cases&#39;</span><span class="p">])</span>
    <span class="n">dataframe</span><span class="p">[</span><span class="s1">&#39;Time_Delta&#39;</span><span class="p">]</span> <span class="o">=</span>  <span class="nb">range</span><span class="p">(</span><span class="nb">len</span><span class="p">(</span><span class="n">dataframe</span><span class="p">))</span>
    <span class="n">dataframe</span><span class="p">[</span><span class="s1">&#39;Time_Delta&#39;</span><span class="p">]</span> <span class="o">=</span> <span class="n">dataframe</span><span class="p">[</span><span class="s1">&#39;Time_Delta&#39;</span><span class="p">]</span><span class="o">.</span><span class="n">astype</span><span class="p">(</span><span class="nb">int</span><span class="p">)</span>
    <span class="n">time_delta_list</span> <span class="o">=</span> <span class="n">dataframe</span><span class="p">[</span><span class="s1">&#39;Time_Delta&#39;</span><span class="p">]</span><span class="o">.</span><span class="n">to_list</span><span class="p">()</span>
    
    <span class="k">if</span> <span class="n">lmbd</span> <span class="o">==</span> <span class="mf">0.0</span><span class="p">:</span>
        <span class="n">dataframe</span><span class="p">[</span><span class="s1">&#39;CMA&#39;</span><span class="p">]</span> <span class="o">=</span> <span class="n">dataframe</span><span class="o">.</span><span class="n">New_Daily_Cases</span><span class="o">.</span><span class="n">expanding</span><span class="p">()</span><span class="o">.</span><span class="n">mean</span><span class="p">()</span>
        <span class="n">time_ema</span> <span class="o">=</span> <span class="n">dataframe</span><span class="p">[</span><span class="s1">&#39;CMA&#39;</span><span class="p">]</span><span class="o">.</span><span class="n">to_list</span><span class="p">()</span>
        <span class="n">time_ema</span> <span class="o">=</span>  <span class="n">pd</span><span class="o">.</span><span class="n">Series</span><span class="p">(</span><span class="n">time_ema</span><span class="p">)</span> 
        <span class="n">time_ema</span> <span class="o">=</span> <span class="n">time_ema</span><span class="o">.</span><span class="n">to_numpy</span><span class="p">()</span>
        

    <span class="k">if</span> <span class="n">lmbd</span> <span class="o">!=</span> <span class="mf">0.0</span><span class="p">:</span>
        <span class="n">just_daily_cases_df</span> <span class="o">=</span> <span class="n">pd</span><span class="o">.</span><span class="n">DataFrame</span><span class="p">(</span><span class="n">just_daily_cases</span><span class="p">,</span> <span class="n">columns</span> <span class="o">=</span> <span class="p">[</span><span class="s1">&#39;Daily_Cases&#39;</span><span class="p">])</span>
        <span class="n">time_ema</span> <span class="o">=</span> <span class="n">just_daily_cases_df</span><span class="o">.</span><span class="n">ewm</span><span class="p">(</span><span class="n">halflife</span><span class="o">=</span><span class="n">halflife_ser</span><span class="p">,</span> <span class="n">times</span><span class="o">=</span><span class="n">pd</span><span class="o">.</span><span class="n">DatetimeIndex</span><span class="p">(</span><span class="n">times_list</span><span class="p">))</span><span class="o">.</span><span class="n">mean</span><span class="p">()</span>
        <span class="n">time_ema</span> <span class="o">=</span> <span class="n">time_ema</span><span class="p">[</span><span class="s1">&#39;Daily_Cases&#39;</span><span class="p">]</span><span class="o">.</span><span class="n">to_list</span><span class="p">()</span>
        <span class="n">time_ema</span> <span class="o">=</span>  <span class="n">pd</span><span class="o">.</span><span class="n">Series</span><span class="p">(</span><span class="n">time_ema</span><span class="p">)</span> 
        <span class="n">time_ema</span> <span class="o">=</span> <span class="n">time_ema</span><span class="o">.</span><span class="n">to_numpy</span><span class="p">()</span>
        

        


    
    <span class="k">return</span> <span class="n">time_ema</span>
</pre></div>

     </div>
</div>
</div>
</div>

</div><div class="jp-Cell jp-CodeCell jp-Notebook-cell jp-mod-noOutputs  ">
<div class="jp-Cell-inputWrapper">
<div class="jp-InputArea jp-Cell-inputArea">
<div class="jp-InputPrompt jp-InputArea-prompt">In&nbsp;[15]:</div>
<div class="jp-CodeMirrorEditor jp-Editor jp-InputArea-editor" data-type="inline">
     <div class="CodeMirror cm-s-jupyter">
<div class=" highlight hl-ipython3"><pre><span></span><span class="c1"># Autograder tests</span>

<span class="n">stu_ser</span> <span class="o">=</span> <span class="n">load_data</span><span class="p">()</span>

<span class="c1"># Sanity checks for a trivial case - CMA</span>
<span class="n">stu_ans</span> <span class="o">=</span> <span class="n">calc_time_ema</span><span class="p">(</span><span class="n">stu_ser</span><span class="p">,</span> <span class="n">lmbd</span><span class="o">=</span><span class="mf">0.0</span><span class="p">)</span>

<span class="k">assert</span> <span class="nb">isinstance</span><span class="p">(</span><span class="n">stu_ans</span><span class="p">,</span> <span class="n">np</span><span class="o">.</span><span class="n">ndarray</span><span class="p">),</span> <span class="s2">&quot;Q5: Your function should return a np.ndarray. &quot;</span>
<span class="k">assert</span> <span class="n">stu_ans</span><span class="o">.</span><span class="n">shape</span> <span class="o">==</span> <span class="p">(</span><span class="nb">len</span><span class="p">(</span><span class="n">stu_ser</span><span class="p">),</span> <span class="p">),</span> <span class="s2">&quot;Q5: The np.ndarray returned is of an incorrect shape. &quot;</span>
<span class="k">assert</span> <span class="n">np</span><span class="o">.</span><span class="n">issubdtype</span><span class="p">(</span><span class="n">stu_ans</span><span class="o">.</span><span class="n">dtype</span><span class="p">,</span> <span class="n">np</span><span class="o">.</span><span class="n">floating</span><span class="p">),</span> <span class="s2">&quot;Q5: Your np.ndarray should have a float dtype. &quot;</span>
<span class="k">assert</span> <span class="n">np</span><span class="o">.</span><span class="n">isclose</span><span class="p">(</span><span class="n">stu_ans</span><span class="p">,</span> <span class="n">np</span><span class="o">.</span><span class="n">cumsum</span><span class="p">(</span><span class="n">stu_ser</span><span class="p">)</span> <span class="o">/</span> <span class="n">np</span><span class="o">.</span><span class="n">arange</span><span class="p">(</span><span class="mi">1</span><span class="p">,</span> <span class="nb">len</span><span class="p">(</span><span class="n">stu_ser</span><span class="p">)</span> <span class="o">+</span> <span class="mi">1</span><span class="p">))</span><span class="o">.</span><span class="n">all</span><span class="p">(),</span> <span class="s2">&quot;Q5: When lmbd = 0 your function should calculate CMA. &quot;</span>


<span class="c1"># Some hidden tests</span>


<span class="k">del</span> <span class="n">stu_ser</span><span class="p">,</span> <span class="n">stu_ans</span>
</pre></div>

     </div>
</div>
</div>
</div>

</div><div class="jp-Cell jp-CodeCell jp-Notebook-cell   ">
<div class="jp-Cell-inputWrapper">
<div class="jp-InputArea jp-Cell-inputArea">
<div class="jp-InputPrompt jp-InputArea-prompt">In&nbsp;[16]:</div>
<div class="jp-CodeMirrorEditor jp-Editor jp-InputArea-editor" data-type="inline">
     <div class="CodeMirror cm-s-jupyter">
<div class=" highlight hl-ipython3"><pre><span></span><span class="c1"># Let&#39;s plot and see your time EMA</span>

<span class="n">fig</span><span class="p">,</span> <span class="n">ax</span> <span class="o">=</span> <span class="n">plt</span><span class="o">.</span><span class="n">subplots</span><span class="p">(</span><span class="n">figsize</span><span class="o">=</span><span class="p">(</span><span class="mi">10</span><span class="p">,</span> <span class="mi">6</span><span class="p">))</span>
<span class="n">ser</span> <span class="o">=</span> <span class="n">load_data</span><span class="p">()</span>
<span class="n">ema</span> <span class="o">=</span> <span class="n">calc_time_ema</span><span class="p">(</span><span class="n">ser</span><span class="p">,</span> <span class="n">lmbd</span><span class="o">=</span><span class="mf">0.5</span><span class="p">)</span>

<span class="n">ax</span><span class="o">.</span><span class="n">plot</span><span class="p">(</span><span class="n">ser</span><span class="o">.</span><span class="n">index</span><span class="p">,</span> <span class="n">ser</span><span class="o">.</span><span class="n">to_numpy</span><span class="p">(),</span> <span class="n">label</span><span class="o">=</span><span class="s2">&quot;Original&quot;</span><span class="p">)</span>
<span class="n">ax</span><span class="o">.</span><span class="n">plot</span><span class="p">(</span><span class="n">ser</span><span class="o">.</span><span class="n">index</span><span class="p">,</span> <span class="n">ema</span><span class="p">,</span> <span class="n">label</span><span class="o">=</span><span class="s2">&quot;Time EMA&quot;</span><span class="p">)</span>
<span class="n">ax</span><span class="o">.</span><span class="n">set_xlabel</span><span class="p">(</span><span class="s2">&quot;Day&quot;</span><span class="p">)</span>
<span class="n">ax</span><span class="o">.</span><span class="n">set_ylabel</span><span class="p">(</span><span class="s2">&quot;# Cases&quot;</span><span class="p">)</span>
<span class="n">ax</span><span class="o">.</span><span class="n">set_title</span><span class="p">(</span><span class="s2">&quot;Daily New COVID-19 Cases Worldwide&quot;</span><span class="p">)</span>
<span class="n">ax</span><span class="o">.</span><span class="n">legend</span><span class="p">()</span>

<span class="k">del</span> <span class="n">fig</span><span class="p">,</span> <span class="n">ax</span><span class="p">,</span> <span class="n">ser</span><span class="p">,</span> <span class="n">ema</span>
</pre></div>

     </div>
</div>
</div>
</div>

<div class="jp-Cell-outputWrapper">


<div class="jp-OutputArea jp-Cell-outputArea">

<div class="jp-OutputArea-child">

    
    <div class="jp-OutputPrompt jp-OutputArea-prompt"></div>




<div class="jp-RenderedImage jp-OutputArea-output ">
<img src="data:image/png;base64,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
"
>
</div>

</div>

</div>

</div>

</div>
<div class="jp-Cell-inputWrapper"><div class="jp-InputPrompt jp-InputArea-prompt">
</div><div class="jp-RenderedHTMLCommon jp-RenderedMarkdown jp-MarkdownOutput " data-mime-type="text/markdown">
<p>The <a href="https://www.statsmodels.org/stable/examples/notebooks/generated/exponential_smoothing.html#"><code>SimpleExpSmoothing</code></a> class from the <code>statsmodels</code> library is a handy tool for EMA. See an example below.</p>

</div>
</div><div class="jp-Cell jp-CodeCell jp-Notebook-cell   ">
<div class="jp-Cell-inputWrapper">
<div class="jp-InputArea jp-Cell-inputArea">
<div class="jp-InputPrompt jp-InputArea-prompt">In&nbsp;[17]:</div>
<div class="jp-CodeMirrorEditor jp-Editor jp-InputArea-editor" data-type="inline">
     <div class="CodeMirror cm-s-jupyter">
<div class=" highlight hl-ipython3"><pre><span></span><span class="kn">from</span> <span class="nn">statsmodels.tsa.api</span> <span class="kn">import</span> <span class="n">SimpleExpSmoothing</span>

<span class="n">fig</span><span class="p">,</span> <span class="n">ax</span> <span class="o">=</span> <span class="n">plt</span><span class="o">.</span><span class="n">subplots</span><span class="p">(</span><span class="n">figsize</span><span class="o">=</span><span class="p">(</span><span class="mi">10</span><span class="p">,</span> <span class="mi">6</span><span class="p">))</span>

<span class="n">ser</span> <span class="o">=</span> <span class="n">load_data</span><span class="p">()</span>
<span class="n">ema</span> <span class="o">=</span> <span class="n">SimpleExpSmoothing</span><span class="p">(</span><span class="n">ser</span><span class="p">,</span> <span class="n">initialization_method</span><span class="o">=</span><span class="kc">None</span><span class="p">)</span><span class="o">.</span><span class="n">fit</span><span class="p">(</span><span class="n">smoothing_level</span><span class="o">=</span><span class="mf">0.5</span><span class="p">,</span> <span class="n">optimized</span><span class="o">=</span><span class="kc">False</span><span class="p">)</span>

<span class="n">ax</span><span class="o">.</span><span class="n">plot</span><span class="p">(</span><span class="n">ser</span><span class="p">,</span> <span class="n">label</span><span class="o">=</span><span class="s2">&quot;Original&quot;</span><span class="p">)</span>
<span class="n">ax</span><span class="o">.</span><span class="n">plot</span><span class="p">(</span><span class="n">ema</span><span class="o">.</span><span class="n">fittedvalues</span><span class="p">,</span> <span class="n">label</span><span class="o">=</span><span class="s2">&quot;EMA&quot;</span><span class="p">)</span>
<span class="n">ax</span><span class="o">.</span><span class="n">set_xlabel</span><span class="p">(</span><span class="s2">&quot;Day&quot;</span><span class="p">)</span>
<span class="n">ax</span><span class="o">.</span><span class="n">set_ylabel</span><span class="p">(</span><span class="s2">&quot;# Cases&quot;</span><span class="p">)</span>
<span class="n">ax</span><span class="o">.</span><span class="n">set_title</span><span class="p">(</span><span class="s2">&quot;Daily New COVID-19 Cases Worldwide&quot;</span><span class="p">)</span>
<span class="n">ax</span><span class="o">.</span><span class="n">legend</span><span class="p">()</span>

<span class="k">del</span> <span class="n">ser</span><span class="p">,</span> <span class="n">ema</span><span class="p">,</span> <span class="n">fig</span><span class="p">,</span> <span class="n">ax</span>
</pre></div>

     </div>
</div>
</div>
</div>

<div class="jp-Cell-outputWrapper">


<div class="jp-OutputArea jp-Cell-outputArea">

<div class="jp-OutputArea-child">

    
    <div class="jp-OutputPrompt jp-OutputArea-prompt"></div>


<div class="jp-RenderedText jp-OutputArea-output" data-mime-type="application/vnd.jupyter.stderr">
<pre>/opt/conda/lib/python3.7/site-packages/statsmodels/tsa/base/tsa_model.py:527: ValueWarning: No frequency information was provided, so inferred frequency D will be used.
  % freq, ValueWarning)
</pre>
</div>
</div>

<div class="jp-OutputArea-child">

    
    <div class="jp-OutputPrompt jp-OutputArea-prompt"></div>




<div class="jp-RenderedImage jp-OutputArea-output ">
<img src="data:image/png;base64,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
"
>
</div>

</div>

</div>

</div>

</div><div class="jp-Cell jp-CodeCell jp-Notebook-cell jp-mod-noOutputs  ">
<div class="jp-Cell-inputWrapper">
<div class="jp-InputArea jp-Cell-inputArea">
<div class="jp-InputPrompt jp-InputArea-prompt">In&nbsp;[&nbsp;]:</div>
<div class="jp-CodeMirrorEditor jp-Editor jp-InputArea-editor" data-type="inline">
     <div class="CodeMirror cm-s-jupyter">
<div class=" highlight hl-ipython3"><pre><span></span> 
</pre></div>

     </div>
</div>
</div>
</div>

</div><div class="jp-Cell jp-CodeCell jp-Notebook-cell jp-mod-noOutputs  ">
<div class="jp-Cell-inputWrapper">
<div class="jp-InputArea jp-Cell-inputArea">
<div class="jp-InputPrompt jp-InputArea-prompt">In&nbsp;[&nbsp;]:</div>
<div class="jp-CodeMirrorEditor jp-Editor jp-InputArea-editor" data-type="inline">
     <div class="CodeMirror cm-s-jupyter">
<div class=" highlight hl-ipython3"><pre><span></span> 
</pre></div>

     </div>
</div>
</div>
</div>

</div>
<script>
        var historyWrapper = function(functionType) {
          var whichFunc = history[functionType];
          return function() {
            var response = whichFunc.apply(this, arguments);
            var eventRes = new Event(functionType);
            eventRes.arguments = arguments;
            window.dispatchEvent(eventRes);
            return response;
          };
        };
        history.pushState = historyWrapper("pushState");
        history.replaceState = historyWrapper("replaceState");
        ["pushState", "replaceState", "popstate","hashchange"].forEach( function(eventType) {
          window.addEventListener(eventType, function() {
            window.parent.postMessage({'innerFrameUrl': window.location.href, 'fromInnerFrame': true}, "https://www.coursera.org");
          });
        });
        </script>
<script>window.parent.postMessage({'innerFrameUrl': window.location.href, 'fromInnerFrame': true}, "https://www.coursera.org");</script></body>







</html>
